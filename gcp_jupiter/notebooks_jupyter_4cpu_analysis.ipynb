{
 "cells": [
  {
   "cell_type": "markdown",
   "id": "17f41b1c",
   "metadata": {},
   "source": [
    "# Library"
   ]
  },
  {
   "cell_type": "code",
   "execution_count": 37,
   "id": "f7480aef",
   "metadata": {
    "ExecuteTime": {
     "end_time": "2021-11-25T16:51:28.667137Z",
     "start_time": "2021-11-25T16:51:28.378388Z"
    }
   },
   "outputs": [],
   "source": [
    "#import sys\n",
    "import pandas as pd\n",
    "import numpy as np\n",
    "import random\n",
    "import pyspark\n",
    "import itertools\n",
    "import matplotlib.pyplot as plt\n",
    "import itertools\n",
    "import seaborn as sns\n",
    "import pickle\n",
    "import statsmodels.api as sm\n",
    "\n",
    "from pyspark import SparkContext, SQLContext\n",
    "\n",
    "from math import sqrt\n",
    "from time import time as ttt\n",
    "\n",
    "from pyspark.sql import SparkSession\n",
    "from pyspark.sql import functions as f\n",
    "\n",
    "from pyspark.ml.linalg import Vectors\n",
    "from pyspark.ml.feature import VectorAssembler\n",
    "from pyspark.ml import Pipeline\n",
    "from pyspark.ml.classification import DecisionTreeClassifier as DTC_spark\n",
    "from pyspark.ml.feature import StringIndexer, VectorIndexer\n",
    "from pyspark.ml.evaluation import MulticlassClassificationEvaluator\n",
    "\n",
    "from sklearn.linear_model import LinearRegression\n",
    "\n",
    "import joblib\n",
    "from joblib import parallel_backend\n",
    "from joblib import Parallel, delayed\n",
    "from joblib import parallel_backend\n"
   ]
  },
  {
   "cell_type": "markdown",
   "id": "f33b542c",
   "metadata": {},
   "source": [
    "# Upload"
   ]
  },
  {
   "cell_type": "code",
   "execution_count": null,
   "id": "96a5c4ff",
   "metadata": {
    "ExecuteTime": {
     "start_time": "2021-11-24T20:49:44.220Z"
    }
   },
   "outputs": [],
   "source": [
    "spark = SparkSession.builder.master(\"Yarn\").appName(\"spark_app_1234\").getOrCreate()\n",
    "sc = spark.sparkContext\n",
    "spark\n",
    "d0 = (\n",
    "    spark\n",
    "    .read\n",
    "    .format(\"csv\") \n",
    "    .option(\"header\",\"true\") \n",
    "    .option(\"inferSchema\",\"true\") \n",
    "    .load(\"gs://mas-a5-storage-1/notebooks/jupyter/application_train.csv\")\n",
    ")\n",
    "\n",
    "d1 = d0.filter(d0.DAYS_EMPLOYED != 365243).select('TARGET','DAYS_EMPLOYED')\n",
    "\n",
    "print(d1.rdd.getNumPartitions())"
   ]
  },
  {
   "cell_type": "code",
   "execution_count": null,
   "id": "81f60150",
   "metadata": {
    "ExecuteTime": {
     "start_time": "2021-11-24T20:49:44.222Z"
    }
   },
   "outputs": [],
   "source": [
    "sc"
   ]
  },
  {
   "cell_type": "markdown",
   "id": "333b63a3",
   "metadata": {},
   "source": [
    "# Function"
   ]
  },
  {
   "cell_type": "code",
   "execution_count": null,
   "id": "e0ec74a5",
   "metadata": {
    "ExecuteTime": {
     "start_time": "2021-11-24T20:49:44.223Z"
    }
   },
   "outputs": [],
   "source": [
    "def prepare_spark_data(n_part, k_mult):\n",
    "    '''\n",
    "    takes 'DAYS_EMPLOYED and 'TARGET'  from d1 (alreay filtered)\n",
    "    rearrane in n partitions (if n==0 keeps initial number of partitions)\n",
    "    prints final shape/ partition\n",
    "    returns d2 - spark df\n",
    "    '''\n",
    "    data = d1\n",
    "    data_new = data # first step in the cycle\n",
    "    for i in range(k_mult-1):\n",
    "        data_tmp = data.select('TARGET', \\\n",
    "                     f.col('DAYS_EMPLOYED')*(f.lit(0.9995) + f.rand()/1000)).\\\n",
    "                   toDF('TARGET','DAYS_EMPLOYED')\n",
    "        data_tmp = data_tmp.select('TARGET', f.floor('DAYS_EMPLOYED'))\n",
    "        data_new = data_new.union(data_tmp)\n",
    "\n",
    "    assembler = VectorAssembler(inputCols=[\"DAYS_EMPLOYED\"], \n",
    "                        outputCol=\"DAYS_EMPLOYED_vect\")\n",
    "    d2 = assembler.transform(data_new)\n",
    "    if n_part != 0:\n",
    "        d2 = d2.repartition(n_part, \"DAYS_EMPLOYED_vect\")       \n",
    "    #print(f'n-partitions initial: {d2.rdd.getNumPartitions()}; df size: {d2.count()}\\n')\n",
    "\n",
    "    return d2"
   ]
  },
  {
   "cell_type": "markdown",
   "id": "5e62426a",
   "metadata": {},
   "source": [
    "# Params an run"
   ]
  },
  {
   "cell_type": "code",
   "execution_count": null,
   "id": "62c383b6",
   "metadata": {
    "ExecuteTime": {
     "start_time": "2021-11-24T19:59:26.116Z"
    },
    "scrolled": true
   },
   "outputs": [],
   "source": [
    "## !! mind the fn NOT TO rewrite results\n",
    "fn = '4cpu_by_12n__4m_yarn_ssd_repart'\n",
    "size_mult = [1, 2, 5, 10, 15, 20, 30, 50, 100]\n",
    "partitions = [8, 12, 16, 24, 36, 72] \n",
    "# initial, 2**i incl n_nodes till n_cpu*n_nodes and n_cpu*n_nodes\n",
    "n_iter = 3\n",
    "\n",
    "print('d1-size', d1.count())\n",
    "n_part_base = d1.rdd.getNumPartitions()\n",
    "print('n-partitions initial', n_part_base, '\\n')\n",
    "\n",
    "rd1 = {}\n",
    "for k_size_mult in size_mult:\n",
    "    rd2 = {}\n",
    "    for n_part in partitions:\n",
    "        df = prepare_spark_data(n_part, k_size_mult)\n",
    "        df.cache()\n",
    "        print('======================================================================')\n",
    "        print(f'=== size_mult={k_size_mult}; \\\n",
    "        n_part_req={n_part}; n_part_act={df.rdd.getNumPartitions()}; df_count={df.count()} ===\\n')\n",
    "        times = [0 for i in range(n_iter)]\n",
    "        models = {}\n",
    "        for i in range(n_iter):\n",
    "            dt = DTC_spark(labelCol=\"TARGET\",\n",
    "                       featuresCol=\"DAYS_EMPLOYED_vect\",\n",
    "                       minInfoGain=0.0001,\n",
    "                       impurity='entropy',\n",
    "                       maxDepth=14, maxBins=2**14, # it differs from scikit learn - it means number of canidate split points\n",
    "                       #minInstancesPerNode = 1,\n",
    "                       #checkpointInterval = 10\n",
    "                       )\n",
    "           \n",
    "            t0 = ttt()\n",
    "            model = dt.fit(df)\n",
    "            t1 = ttt()\n",
    "            times[i] = t1-t0\n",
    "            models[i] = model \n",
    "            print('model', i, 'build time', round(times[i],2), '\\n', model)\n",
    "        rd2[n_part] = (models, times)\n",
    "    rd1[k_size_mult] = rd2\n",
    "\n",
    "result = rd1  "
   ]
  },
  {
   "cell_type": "markdown",
   "id": "bb6b1aef",
   "metadata": {},
   "source": [
    "# Results"
   ]
  },
  {
   "cell_type": "code",
   "execution_count": null,
   "id": "91c2c809",
   "metadata": {
    "ExecuteTime": {
     "end_time": "2021-11-24T20:45:34.029733Z",
     "start_time": "2021-11-24T20:45:33.162166Z"
    }
   },
   "outputs": [],
   "source": [
    "di = result\n",
    "df_res_time = pd.DataFrame()\n",
    "df_res_nodes = pd.DataFrame()\n",
    "for p1 in di.keys():\n",
    "    for p2 in di[p1].keys():\n",
    "        df_res_time.loc[p1, p2] = np.round(np.median(di[p1][p2][1]), 1)\n",
    "        m_tmp = di[p1][p2][0]\n",
    "        n_nodes = []\n",
    "        for i,_ in enumerate(m_tmp):\n",
    "            tmp = f'{m_tmp[i]}'.split(' ')\n",
    "            print(i, tmp)\n",
    "            n_nodes.append([int(x.split('=')[1][:-1]) for x in tmp if x[:4]== 'numN'][0])\n",
    "        df_res_nodes.loc[p1, p2] = np.round(np.mean(n_nodes), 1)\n",
    "\n",
    "df_res_time.to_csv(f'gs://mas-a5-storage-1/notebooks/jupyter/obj/{fn}_t.csv')\n",
    "df_res_nodes.to_csv(f'gs://mas-a5-storage-1/notebooks/jupyter/obj/{fn}_n.csv')\n",
    "\n",
    "display(df_res_time)      \n",
    "display(df_res_nodes)     "
   ]
  },
  {
   "cell_type": "code",
   "execution_count": null,
   "id": "9a7dc76e",
   "metadata": {
    "ExecuteTime": {
     "end_time": "2021-11-24T20:46:08.743543Z",
     "start_time": "2021-11-24T20:46:08.659177Z"
    }
   },
   "outputs": [],
   "source": [
    "#fn = '4cpu_by_8n__4m_yarn_ssd'\n",
    "tmp = pd.read_csv(f'gs://mas-a5-storage-1/notebooks/jupyter/obj/{fn}_t.csv')\n",
    "print(fn)\n",
    "tmp"
   ]
  },
  {
   "cell_type": "code",
   "execution_count": null,
   "id": "cf3dc9e9",
   "metadata": {
    "ExecuteTime": {
     "end_time": "2021-11-24T20:46:10.555126Z",
     "start_time": "2021-11-24T20:46:10.506268Z"
    }
   },
   "outputs": [],
   "source": [
    "#fn = '4cpu_by_8n__4m_yarn_ssd'\n",
    "tmp = pd.read_csv(f'gs://mas-a5-storage-1/notebooks/jupyter/obj/{fn}_n.csv')\n",
    "print(fn)\n",
    "tmp"
   ]
  },
  {
   "cell_type": "code",
   "execution_count": 16,
   "id": "65adba8f",
   "metadata": {
    "ExecuteTime": {
     "end_time": "2021-11-25T05:31:40.995510Z",
     "start_time": "2021-11-25T05:31:40.983232Z"
    }
   },
   "outputs": [
    {
     "data": {
      "text/html": [
       "<div>\n",
       "<style scoped>\n",
       "    .dataframe tbody tr th:only-of-type {\n",
       "        vertical-align: middle;\n",
       "    }\n",
       "\n",
       "    .dataframe tbody tr th {\n",
       "        vertical-align: top;\n",
       "    }\n",
       "\n",
       "    .dataframe thead th {\n",
       "        text-align: right;\n",
       "    }\n",
       "</style>\n",
       "<table border=\"1\" class=\"dataframe\">\n",
       "  <thead>\n",
       "    <tr style=\"text-align: right;\">\n",
       "      <th></th>\n",
       "      <th>Unnamed: 0</th>\n",
       "      <th>4</th>\n",
       "      <th>8</th>\n",
       "      <th>12</th>\n",
       "      <th>16</th>\n",
       "      <th>24</th>\n",
       "      <th>36</th>\n",
       "    </tr>\n",
       "  </thead>\n",
       "  <tbody>\n",
       "    <tr>\n",
       "      <th>0</th>\n",
       "      <td>1</td>\n",
       "      <td>8.7</td>\n",
       "      <td>10.5</td>\n",
       "      <td>12.9</td>\n",
       "      <td>15.1</td>\n",
       "      <td>20.0</td>\n",
       "      <td>16.1</td>\n",
       "    </tr>\n",
       "    <tr>\n",
       "      <th>1</th>\n",
       "      <td>2</td>\n",
       "      <td>6.7</td>\n",
       "      <td>7.9</td>\n",
       "      <td>9.7</td>\n",
       "      <td>8.4</td>\n",
       "      <td>14.3</td>\n",
       "      <td>14.7</td>\n",
       "    </tr>\n",
       "    <tr>\n",
       "      <th>2</th>\n",
       "      <td>5</td>\n",
       "      <td>9.0</td>\n",
       "      <td>19.7</td>\n",
       "      <td>7.9</td>\n",
       "      <td>8.0</td>\n",
       "      <td>8.0</td>\n",
       "      <td>8.5</td>\n",
       "    </tr>\n",
       "    <tr>\n",
       "      <th>3</th>\n",
       "      <td>10</td>\n",
       "      <td>11.5</td>\n",
       "      <td>8.7</td>\n",
       "      <td>7.1</td>\n",
       "      <td>6.8</td>\n",
       "      <td>7.6</td>\n",
       "      <td>7.5</td>\n",
       "    </tr>\n",
       "    <tr>\n",
       "      <th>4</th>\n",
       "      <td>15</td>\n",
       "      <td>14.8</td>\n",
       "      <td>9.4</td>\n",
       "      <td>7.9</td>\n",
       "      <td>6.9</td>\n",
       "      <td>6.4</td>\n",
       "      <td>8.0</td>\n",
       "    </tr>\n",
       "    <tr>\n",
       "      <th>5</th>\n",
       "      <td>20</td>\n",
       "      <td>16.8</td>\n",
       "      <td>10.6</td>\n",
       "      <td>9.5</td>\n",
       "      <td>8.8</td>\n",
       "      <td>7.4</td>\n",
       "      <td>8.3</td>\n",
       "    </tr>\n",
       "    <tr>\n",
       "      <th>6</th>\n",
       "      <td>30</td>\n",
       "      <td>21.9</td>\n",
       "      <td>14.9</td>\n",
       "      <td>10.8</td>\n",
       "      <td>9.1</td>\n",
       "      <td>9.1</td>\n",
       "      <td>9.2</td>\n",
       "    </tr>\n",
       "    <tr>\n",
       "      <th>7</th>\n",
       "      <td>50</td>\n",
       "      <td>30.9</td>\n",
       "      <td>18.8</td>\n",
       "      <td>14.4</td>\n",
       "      <td>12.9</td>\n",
       "      <td>9.3</td>\n",
       "      <td>12.7</td>\n",
       "    </tr>\n",
       "    <tr>\n",
       "      <th>8</th>\n",
       "      <td>100</td>\n",
       "      <td>61.5</td>\n",
       "      <td>30.9</td>\n",
       "      <td>22.3</td>\n",
       "      <td>22.5</td>\n",
       "      <td>17.9</td>\n",
       "      <td>21.5</td>\n",
       "    </tr>\n",
       "  </tbody>\n",
       "</table>\n",
       "</div>"
      ],
      "text/plain": [
       "   Unnamed: 0     4     8    12    16    24    36\n",
       "0           1   8.7  10.5  12.9  15.1  20.0  16.1\n",
       "1           2   6.7   7.9   9.7   8.4  14.3  14.7\n",
       "2           5   9.0  19.7   7.9   8.0   8.0   8.5\n",
       "3          10  11.5   8.7   7.1   6.8   7.6   7.5\n",
       "4          15  14.8   9.4   7.9   6.9   6.4   8.0\n",
       "5          20  16.8  10.6   9.5   8.8   7.4   8.3\n",
       "6          30  21.9  14.9  10.8   9.1   9.1   9.2\n",
       "7          50  30.9  18.8  14.4  12.9   9.3  12.7\n",
       "8         100  61.5  30.9  22.3  22.5  17.9  21.5"
      ]
     },
     "execution_count": 16,
     "metadata": {},
     "output_type": "execute_result"
    }
   ],
   "source": [
    "tmp"
   ]
  },
  {
   "cell_type": "markdown",
   "id": "8ac5db7f",
   "metadata": {},
   "source": [
    "# Analysis"
   ]
  },
  {
   "cell_type": "code",
   "execution_count": 25,
   "id": "3421124a",
   "metadata": {
    "ExecuteTime": {
     "end_time": "2021-11-25T05:42:20.477267Z",
     "start_time": "2021-11-25T05:42:20.460213Z"
    }
   },
   "outputs": [
    {
     "name": "stdout",
     "output_type": "stream",
     "text": [
      "4cpu_by_12n__4m_yarn_ssd_repart\n"
     ]
    },
    {
     "data": {
      "text/html": [
       "<div>\n",
       "<style scoped>\n",
       "    .dataframe tbody tr th:only-of-type {\n",
       "        vertical-align: middle;\n",
       "    }\n",
       "\n",
       "    .dataframe tbody tr th {\n",
       "        vertical-align: top;\n",
       "    }\n",
       "\n",
       "    .dataframe thead th {\n",
       "        text-align: right;\n",
       "    }\n",
       "</style>\n",
       "<table border=\"1\" class=\"dataframe\">\n",
       "  <thead>\n",
       "    <tr style=\"text-align: right;\">\n",
       "      <th></th>\n",
       "      <th>8</th>\n",
       "      <th>12</th>\n",
       "      <th>24</th>\n",
       "      <th>36</th>\n",
       "      <th>72</th>\n",
       "    </tr>\n",
       "    <tr>\n",
       "      <th>size_mult</th>\n",
       "      <th></th>\n",
       "      <th></th>\n",
       "      <th></th>\n",
       "      <th></th>\n",
       "      <th></th>\n",
       "    </tr>\n",
       "  </thead>\n",
       "  <tbody>\n",
       "    <tr>\n",
       "      <th>5</th>\n",
       "      <td>6.6</td>\n",
       "      <td>7.3</td>\n",
       "      <td>7.2</td>\n",
       "      <td>8.7</td>\n",
       "      <td>13.4</td>\n",
       "    </tr>\n",
       "    <tr>\n",
       "      <th>10</th>\n",
       "      <td>7.8</td>\n",
       "      <td>7.9</td>\n",
       "      <td>7.3</td>\n",
       "      <td>8.2</td>\n",
       "      <td>11.9</td>\n",
       "    </tr>\n",
       "    <tr>\n",
       "      <th>15</th>\n",
       "      <td>9.5</td>\n",
       "      <td>8.1</td>\n",
       "      <td>7.0</td>\n",
       "      <td>8.3</td>\n",
       "      <td>12.7</td>\n",
       "    </tr>\n",
       "    <tr>\n",
       "      <th>20</th>\n",
       "      <td>10.4</td>\n",
       "      <td>8.3</td>\n",
       "      <td>7.1</td>\n",
       "      <td>8.3</td>\n",
       "      <td>12.5</td>\n",
       "    </tr>\n",
       "    <tr>\n",
       "      <th>30</th>\n",
       "      <td>14.0</td>\n",
       "      <td>10.6</td>\n",
       "      <td>7.8</td>\n",
       "      <td>10.2</td>\n",
       "      <td>13.6</td>\n",
       "    </tr>\n",
       "    <tr>\n",
       "      <th>50</th>\n",
       "      <td>17.0</td>\n",
       "      <td>15.8</td>\n",
       "      <td>10.1</td>\n",
       "      <td>10.3</td>\n",
       "      <td>15.7</td>\n",
       "    </tr>\n",
       "    <tr>\n",
       "      <th>100</th>\n",
       "      <td>36.3</td>\n",
       "      <td>24.0</td>\n",
       "      <td>18.8</td>\n",
       "      <td>19.5</td>\n",
       "      <td>25.4</td>\n",
       "    </tr>\n",
       "  </tbody>\n",
       "</table>\n",
       "</div>"
      ],
      "text/plain": [
       "              8    12    24    36    72\n",
       "size_mult                              \n",
       "5           6.6   7.3   7.2   8.7  13.4\n",
       "10          7.8   7.9   7.3   8.2  11.9\n",
       "15          9.5   8.1   7.0   8.3  12.7\n",
       "20         10.4   8.3   7.1   8.3  12.5\n",
       "30         14.0  10.6   7.8  10.2  13.6\n",
       "50         17.0  15.8  10.1  10.3  15.7\n",
       "100        36.3  24.0  18.8  19.5  25.4"
      ]
     },
     "execution_count": 25,
     "metadata": {},
     "output_type": "execute_result"
    }
   ],
   "source": [
    "fn = '4cpu_by_12n__4m_yarn_ssd_repart'\n",
    "tmp = pd.read_csv(f'gcp_obj/notebooks_jupyter_obj_{fn}_t.csv')\n",
    "print(fn)\n",
    "tmp1 = tmp.rename(columns={'Unnamed: 0':'size_mult'})\n",
    "tmp1\n",
    "t = tmp1.loc[2:, ['size_mult', '8', '12', '24', '36', '72']].set_index('size_mult')\n",
    "t\n",
    "#tmp.columns"
   ]
  },
  {
   "cell_type": "code",
   "execution_count": 36,
   "id": "5e02e325",
   "metadata": {
    "ExecuteTime": {
     "end_time": "2021-11-25T06:23:12.928715Z",
     "start_time": "2021-11-25T06:23:12.805444Z"
    }
   },
   "outputs": [
    {
     "data": {
      "image/png": "[encoded data removed]",
      "text/plain": [
       "<Figure size 360x360 with 1 Axes>"
      ]
     },
     "metadata": {
      "needs_background": "light"
     },
     "output_type": "display_data"
    }
   ],
   "source": [
    "df_tmp = t\n",
    "plt.figure(figsize=(5,5))\n",
    "x = np.log2(df_tmp.index.values)\n",
    "y = df_tmp\n",
    "plt.ylim([4,30])\n",
    "plt.xlabel('log_2 size_multiple')\n",
    "plt.ylabel('time, sec')\n",
    "plt.title('CART binning Spark processing time \\n (12 nodes with 4CPUs)', fontsize = 14)\n",
    "plt.plot(x, y)\n",
    "plt.legend(df_tmp.columns.values, title='n partitions')\n",
    "plt.show()"
   ]
  },
  {
   "cell_type": "markdown",
   "id": "ef648153",
   "metadata": {},
   "source": [
    "## Linear regression"
   ]
  },
  {
   "cell_type": "code",
   "execution_count": 42,
   "id": "3356f8c9",
   "metadata": {
    "ExecuteTime": {
     "end_time": "2021-11-25T16:55:08.996583Z",
     "start_time": "2021-11-25T16:55:08.992708Z"
    }
   },
   "outputs": [
    {
     "data": {
      "text/plain": [
       "array([  5,  10,  15,  20,  30,  50, 100])"
      ]
     },
     "execution_count": 42,
     "metadata": {},
     "output_type": "execute_result"
    }
   ],
   "source": [
    "df_tmp.index.values"
   ]
  },
  {
   "cell_type": "code",
   "execution_count": 51,
   "id": "569845b5",
   "metadata": {
    "ExecuteTime": {
     "end_time": "2021-11-25T16:59:27.910264Z",
     "start_time": "2021-11-25T16:59:27.902250Z"
    }
   },
   "outputs": [
    {
     "name": "stdout",
     "output_type": "stream",
     "text": [
      "4.431094257854822 [0.30687974]\n",
      "5.650487540628385 [0.18455038]\n",
      "5.194907908992414 [0.12580715]\n",
      "6.652546045503793 [0.11709642]\n",
      "10.528602383531961 [0.13695558]\n"
     ]
    }
   ],
   "source": [
    "dlm = {}\n",
    "for i in df_tmp:\n",
    "    dlm[i] = LinearRegression()\n",
    "    dlm[i].fit(df_tmp.index.values.reshape(-1,1), df_tmp[i])\n",
    "    \n",
    "for i in df_tmp:\n",
    "    print(dlm[i].intercept_, dlm[i].coef_)"
   ]
  },
  {
   "cell_type": "code",
   "execution_count": 127,
   "id": "109c0a3f",
   "metadata": {
    "ExecuteTime": {
     "end_time": "2021-11-25T18:04:58.444992Z",
     "start_time": "2021-11-25T18:04:58.045510Z"
    }
   },
   "outputs": [
    {
     "data": {
      "image/png": "[encoded data removed]",
      "text/plain": [
       "<Figure size 864x288 with 5 Axes>"
      ]
     },
     "metadata": {
      "needs_background": "light"
     },
     "output_type": "display_data"
    }
   ],
   "source": [
    "fig, axes = plt.subplots(nrows=1, ncols=5, figsize=(12, 4))  # define the figure and subplots\n",
    "axes = axes.ravel()  # array to 1D\n",
    "cols = df_tmp.columns  # create a list of dataframe columns to use\n",
    "#colors = ['tab:blue', 'tab:orange', 'tab:green']  # list of colors for each subplot, otherwise all subplots will be one color\n",
    "#fig.suptitle('CART binning Spark processing time (12 nodes with 4CPUs)')\n",
    "\n",
    "for col, ax in zip(cols, axes):\n",
    "    x = np.log2(df_tmp.index.values)\n",
    "    y = df_tmp[col]\n",
    "    y1 = [(dlm[col].intercept_ + x * dlm[col].coef_) for x in df_tmp.index.values]\n",
    "    #ax.ylim([4,30])\n",
    "    #ax.title('CART binning Spark processing time \\n (12 nodes with 4CPUs)', fontsize = 14)\n",
    "    ax.plot(x, y, label = f'data', alpha = 0.8, color='skyblue')\n",
    "    ax.plot(x, y1, label = f'$b_0$={dlm[col].intercept_:.1f}, $b_1$={dlm[col].coef_[0]:.2f}', color = 'g')\n",
    "    ax.set(xlabel ='log_2 size_multiple', ylabel='time, sec')\n",
    "    ax.set_title(f'{col} partitions')\n",
    "    ax.legend()\n",
    "    ax.set_ylim([5,30])\n",
    "    ax.label_outer()\n",
    "\n",
    "fig.tight_layout()\n",
    "plt.show()"
   ]
  },
  {
   "cell_type": "code",
   "execution_count": null,
   "id": "9daeabb6",
   "metadata": {},
   "outputs": [],
   "source": []
  },
  {
   "cell_type": "code",
   "execution_count": null,
   "id": "0d38abcb",
   "metadata": {},
   "outputs": [],
   "source": []
  }
 ],
 "metadata": {
  "kernelspec": {
   "display_name": "Python 3 (ipykernel)",
   "language": "python",
   "name": "python3"
  },
  "language_info": {
   "codemirror_mode": {
    "name": "ipython",
    "version": 3
   },
   "file_extension": ".py",
   "mimetype": "text/x-python",
   "name": "python",
   "nbconvert_exporter": "python",
   "pygments_lexer": "ipython3",
   "version": "3.8.5"
  },
  "toc": {
   "base_numbering": 1,
   "nav_menu": {},
   "number_sections": true,
   "sideBar": true,
   "skip_h1_title": false,
   "title_cell": "Table of Contents",
   "title_sidebar": "Contents",
   "toc_cell": false,
   "toc_position": {},
   "toc_section_display": true,
   "toc_window_display": true
  }
 },
 "nbformat": 4,
 "nbformat_minor": 5
}
