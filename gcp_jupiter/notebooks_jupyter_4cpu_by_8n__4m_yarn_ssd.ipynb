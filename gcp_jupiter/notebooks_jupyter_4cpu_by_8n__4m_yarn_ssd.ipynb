{
 "cells": [
  {
   "cell_type": "markdown",
   "id": "17f41b1c",
   "metadata": {},
   "source": [
    "# Library"
   ]
  },
  {
   "cell_type": "code",
   "execution_count": 1,
   "id": "f7480aef",
   "metadata": {
    "ExecuteTime": {
     "end_time": "2021-11-24T07:49:50.118109Z",
     "start_time": "2021-11-24T07:49:44.815999Z"
    }
   },
   "outputs": [],
   "source": [
    "#import sys\n",
    "import pandas as pd\n",
    "import numpy as np\n",
    "import random\n",
    "import pyspark\n",
    "import itertools\n",
    "import matplotlib.pyplot as plt\n",
    "import itertools\n",
    "import seaborn as sns\n",
    "import pickle\n",
    "import statsmodels.api as sm\n",
    "\n",
    "from pyspark import SparkContext, SQLContext\n",
    "\n",
    "from math import sqrt\n",
    "from time import time as ttt\n",
    "\n",
    "from pyspark.sql import SparkSession\n",
    "from pyspark.sql import functions as f\n",
    "\n",
    "from pyspark.ml.linalg import Vectors\n",
    "from pyspark.ml.feature import VectorAssembler\n",
    "from pyspark.ml import Pipeline\n",
    "from pyspark.ml.classification import DecisionTreeClassifier as DTC_spark\n",
    "from pyspark.ml.feature import StringIndexer, VectorIndexer\n",
    "from pyspark.ml.evaluation import MulticlassClassificationEvaluator\n",
    "\n",
    "import joblib\n",
    "from joblib import parallel_backend\n",
    "from joblib import Parallel, delayed\n",
    "from joblib import parallel_backend\n"
   ]
  },
  {
   "cell_type": "markdown",
   "id": "f33b542c",
   "metadata": {},
   "source": [
    "# Upload"
   ]
  },
  {
   "cell_type": "code",
   "execution_count": 2,
   "id": "96a5c4ff",
   "metadata": {
    "ExecuteTime": {
     "end_time": "2021-11-24T07:50:04.044354Z",
     "start_time": "2021-11-24T07:49:50.121406Z"
    }
   },
   "outputs": [
    {
     "name": "stderr",
     "output_type": "stream",
     "text": [
      "                                                                                \r"
     ]
    },
    {
     "name": "stdout",
     "output_type": "stream",
     "text": [
      "2\n"
     ]
    }
   ],
   "source": [
    "spark = SparkSession.builder.master(\"Yarn\").appName(\"spark_app_1234\").getOrCreate()\n",
    "sc = spark.sparkContext\n",
    "spark\n",
    "d0 = (\n",
    "    spark\n",
    "    .read\n",
    "    .format(\"csv\") \n",
    "    .option(\"header\",\"true\") \n",
    "    .option(\"inferSchema\",\"true\") \n",
    "    .load(\"gs://mas-a5-storage-1/notebooks/jupyter/application_train.csv\")\n",
    ")\n",
    "\n",
    "d1 = d0.filter(d0.DAYS_EMPLOYED != 365243).select('TARGET','DAYS_EMPLOYED')\n",
    "\n",
    "print(d1.rdd.getNumPartitions())"
   ]
  },
  {
   "cell_type": "code",
   "execution_count": 3,
   "id": "81f60150",
   "metadata": {
    "ExecuteTime": {
     "end_time": "2021-11-24T07:50:04.058550Z",
     "start_time": "2021-11-24T07:50:04.047766Z"
    }
   },
   "outputs": [
    {
     "data": {
      "text/html": [
       "\n",
       "        <div>\n",
       "            <p><b>SparkContext</b></p>\n",
       "\n",
       "            <p><a href=\"http://mas-4cpu-by-8n--4m-yarn-ssd-m.europe-central2-a.c.cu-fall-2021.internal:38141\">Spark UI</a></p>\n",
       "\n",
       "            <dl>\n",
       "              <dt>Version</dt>\n",
       "                <dd><code>v3.1.2</code></dd>\n",
       "              <dt>Master</dt>\n",
       "                <dd><code>yarn</code></dd>\n",
       "              <dt>AppName</dt>\n",
       "                <dd><code>PySparkShell</code></dd>\n",
       "            </dl>\n",
       "        </div>\n",
       "        "
      ],
      "text/plain": [
       "<SparkContext master=yarn appName=PySparkShell>"
      ]
     },
     "execution_count": 3,
     "metadata": {},
     "output_type": "execute_result"
    }
   ],
   "source": [
    "sc"
   ]
  },
  {
   "cell_type": "markdown",
   "id": "333b63a3",
   "metadata": {},
   "source": [
    "# Function"
   ]
  },
  {
   "cell_type": "code",
   "execution_count": 4,
   "id": "e0ec74a5",
   "metadata": {
    "ExecuteTime": {
     "end_time": "2021-11-24T07:50:04.068829Z",
     "start_time": "2021-11-24T07:50:04.061945Z"
    }
   },
   "outputs": [],
   "source": [
    "def prepare_spark_data(n_part, k_mult):\n",
    "    '''\n",
    "    takes 'DAYS_EMPLOYED and 'TARGET'  from d1 (alreay filtered)\n",
    "    rearrane in n partitions (if n==0 keeps initial number of partitions)\n",
    "    prints final shape/ partition\n",
    "    returns d2 - spark df\n",
    "    '''\n",
    "    data = d1\n",
    "    data_new = data # first step in the cycle\n",
    "    for i in range(k_mult-1):\n",
    "        data_tmp = data.select('TARGET', \\\n",
    "                     f.col('DAYS_EMPLOYED')*(f.lit(0.9995) + f.rand()/1000)).\\\n",
    "                   toDF('TARGET','DAYS_EMPLOYED')\n",
    "        data_tmp = data_tmp.select('TARGET', f.floor('DAYS_EMPLOYED'))\n",
    "        data_new = data_new.union(data_tmp)\n",
    "\n",
    "    assembler = VectorAssembler(inputCols=[\"DAYS_EMPLOYED\"], \n",
    "                        outputCol=\"DAYS_EMPLOYED_vect\")\n",
    "    d2 = assembler.transform(data_new)\n",
    "    if n_part != 0:\n",
    "        d2 = d2.repartition(n_part)       \n",
    "    #print(f'n-partitions initial: {d2.rdd.getNumPartitions()}; df size: {d2.count()}\\n')\n",
    "\n",
    "    return d2"
   ]
  },
  {
   "cell_type": "markdown",
   "id": "5e62426a",
   "metadata": {},
   "source": [
    "# Params an run"
   ]
  },
  {
   "cell_type": "code",
   "execution_count": null,
   "id": "62c383b6",
   "metadata": {
    "ExecuteTime": {
     "start_time": "2021-11-24T07:50:25.622Z"
    },
    "scrolled": true
   },
   "outputs": [
    {
     "name": "stderr",
     "output_type": "stream",
     "text": [
      "                                                                                \r"
     ]
    },
    {
     "name": "stdout",
     "output_type": "stream",
     "text": [
      "d1-size 252137\n",
      "n-partitions initial 2 \n",
      "\n",
      "======================================================================\n"
     ]
    },
    {
     "name": "stderr",
     "output_type": "stream",
     "text": [
      "                                                                                \r"
     ]
    },
    {
     "name": "stdout",
     "output_type": "stream",
     "text": [
      "=== size_mult=1;         n_part_req=2; n_part_act=2; df_count=252137 ===\n",
      "\n"
     ]
    },
    {
     "name": "stderr",
     "output_type": "stream",
     "text": [
      "                                                                                \r"
     ]
    },
    {
     "name": "stdout",
     "output_type": "stream",
     "text": [
      "model 0 build time 10.36 \n",
      " DecisionTreeClassificationModel: uid=DecisionTreeClassifier_4bf3e1464934, depth=14, numNodes=123, numClasses=2, numFeatures=1\n"
     ]
    },
    {
     "name": "stderr",
     "output_type": "stream",
     "text": [
      "                                                                                \r"
     ]
    },
    {
     "name": "stdout",
     "output_type": "stream",
     "text": [
      "model 1 build time 7.47 \n",
      " DecisionTreeClassificationModel: uid=DecisionTreeClassifier_787e14ea66a0, depth=14, numNodes=123, numClasses=2, numFeatures=1\n"
     ]
    },
    {
     "name": "stderr",
     "output_type": "stream",
     "text": [
      "                                                                                \r"
     ]
    },
    {
     "name": "stdout",
     "output_type": "stream",
     "text": [
      "model 2 build time 7.0 \n",
      " DecisionTreeClassificationModel: uid=DecisionTreeClassifier_2effd517921b, depth=14, numNodes=123, numClasses=2, numFeatures=1\n",
      "======================================================================\n"
     ]
    },
    {
     "name": "stderr",
     "output_type": "stream",
     "text": [
      "                                                                                \r"
     ]
    },
    {
     "name": "stdout",
     "output_type": "stream",
     "text": [
      "=== size_mult=1;         n_part_req=4; n_part_act=4; df_count=252137 ===\n",
      "\n"
     ]
    },
    {
     "name": "stderr",
     "output_type": "stream",
     "text": [
      "                                                                                \r"
     ]
    },
    {
     "name": "stdout",
     "output_type": "stream",
     "text": [
      "model 0 build time 8.32 \n",
      " DecisionTreeClassificationModel: uid=DecisionTreeClassifier_418ed98697d0, depth=14, numNodes=123, numClasses=2, numFeatures=1\n"
     ]
    },
    {
     "name": "stderr",
     "output_type": "stream",
     "text": [
      "                                                                                \r"
     ]
    },
    {
     "name": "stdout",
     "output_type": "stream",
     "text": [
      "model 1 build time 8.41 \n",
      " DecisionTreeClassificationModel: uid=DecisionTreeClassifier_fdff04196ea3, depth=14, numNodes=123, numClasses=2, numFeatures=1\n"
     ]
    },
    {
     "name": "stderr",
     "output_type": "stream",
     "text": [
      "                                                                                \r"
     ]
    },
    {
     "name": "stdout",
     "output_type": "stream",
     "text": [
      "model 2 build time 8.09 \n",
      " DecisionTreeClassificationModel: uid=DecisionTreeClassifier_404d5c7810f2, depth=14, numNodes=123, numClasses=2, numFeatures=1\n",
      "======================================================================\n"
     ]
    },
    {
     "name": "stderr",
     "output_type": "stream",
     "text": [
      "                                                                                \r"
     ]
    },
    {
     "name": "stdout",
     "output_type": "stream",
     "text": [
      "=== size_mult=1;         n_part_req=8; n_part_act=8; df_count=252137 ===\n",
      "\n"
     ]
    },
    {
     "name": "stderr",
     "output_type": "stream",
     "text": [
      "                                                                                \r"
     ]
    },
    {
     "name": "stdout",
     "output_type": "stream",
     "text": [
      "model 0 build time 10.6 \n",
      " DecisionTreeClassificationModel: uid=DecisionTreeClassifier_14f67b7fffd1, depth=14, numNodes=123, numClasses=2, numFeatures=1\n"
     ]
    },
    {
     "name": "stderr",
     "output_type": "stream",
     "text": [
      "                                                                                \r"
     ]
    },
    {
     "name": "stdout",
     "output_type": "stream",
     "text": [
      "model 1 build time 10.55 \n",
      " DecisionTreeClassificationModel: uid=DecisionTreeClassifier_a6efd50e1439, depth=14, numNodes=123, numClasses=2, numFeatures=1\n"
     ]
    },
    {
     "name": "stderr",
     "output_type": "stream",
     "text": [
      "                                                                                \r"
     ]
    },
    {
     "name": "stdout",
     "output_type": "stream",
     "text": [
      "model 2 build time 10.34 \n",
      " DecisionTreeClassificationModel: uid=DecisionTreeClassifier_38f9b2e6b28e, depth=14, numNodes=123, numClasses=2, numFeatures=1\n",
      "======================================================================\n"
     ]
    },
    {
     "name": "stderr",
     "output_type": "stream",
     "text": [
      "                                                                                \r"
     ]
    },
    {
     "name": "stdout",
     "output_type": "stream",
     "text": [
      "=== size_mult=1;         n_part_req=16; n_part_act=16; df_count=252137 ===\n",
      "\n"
     ]
    },
    {
     "name": "stderr",
     "output_type": "stream",
     "text": [
      "                                                                                \r"
     ]
    },
    {
     "name": "stdout",
     "output_type": "stream",
     "text": [
      "model 0 build time 18.61 \n",
      " DecisionTreeClassificationModel: uid=DecisionTreeClassifier_c7535df25267, depth=14, numNodes=123, numClasses=2, numFeatures=1\n"
     ]
    },
    {
     "name": "stderr",
     "output_type": "stream",
     "text": [
      "                                                                                \r"
     ]
    },
    {
     "name": "stdout",
     "output_type": "stream",
     "text": [
      "model 1 build time 15.13 \n",
      " DecisionTreeClassificationModel: uid=DecisionTreeClassifier_2e56a9eee5fe, depth=14, numNodes=123, numClasses=2, numFeatures=1\n"
     ]
    },
    {
     "name": "stderr",
     "output_type": "stream",
     "text": [
      "                                                                                \r"
     ]
    },
    {
     "name": "stdout",
     "output_type": "stream",
     "text": [
      "model 2 build time 14.67 \n",
      " DecisionTreeClassificationModel: uid=DecisionTreeClassifier_9820d3f82633, depth=14, numNodes=123, numClasses=2, numFeatures=1\n",
      "======================================================================\n"
     ]
    },
    {
     "name": "stderr",
     "output_type": "stream",
     "text": [
      "                                                                                \r"
     ]
    },
    {
     "name": "stdout",
     "output_type": "stream",
     "text": [
      "=== size_mult=1;         n_part_req=24; n_part_act=24; df_count=252137 ===\n",
      "\n"
     ]
    },
    {
     "name": "stderr",
     "output_type": "stream",
     "text": [
      "                                                                                \r"
     ]
    },
    {
     "name": "stdout",
     "output_type": "stream",
     "text": [
      "model 0 build time 18.87 \n",
      " DecisionTreeClassificationModel: uid=DecisionTreeClassifier_e1830d989c1a, depth=14, numNodes=123, numClasses=2, numFeatures=1\n"
     ]
    },
    {
     "name": "stderr",
     "output_type": "stream",
     "text": [
      "                                                                                \r"
     ]
    },
    {
     "name": "stdout",
     "output_type": "stream",
     "text": [
      "model 1 build time 16.92 \n",
      " DecisionTreeClassificationModel: uid=DecisionTreeClassifier_2022917dde3c, depth=14, numNodes=123, numClasses=2, numFeatures=1\n"
     ]
    },
    {
     "name": "stderr",
     "output_type": "stream",
     "text": [
      "                                                                                \r"
     ]
    },
    {
     "name": "stdout",
     "output_type": "stream",
     "text": [
      "model 2 build time 16.47 \n",
      " DecisionTreeClassificationModel: uid=DecisionTreeClassifier_02828fab0a66, depth=14, numNodes=123, numClasses=2, numFeatures=1\n",
      "======================================================================\n"
     ]
    },
    {
     "name": "stderr",
     "output_type": "stream",
     "text": [
      "                                                                                \r"
     ]
    },
    {
     "name": "stdout",
     "output_type": "stream",
     "text": [
      "=== size_mult=2;         n_part_req=2; n_part_act=2; df_count=504274 ===\n",
      "\n"
     ]
    },
    {
     "name": "stderr",
     "output_type": "stream",
     "text": [
      "                                                                                \r"
     ]
    },
    {
     "name": "stdout",
     "output_type": "stream",
     "text": [
      "model 0 build time 10.91 \n",
      " DecisionTreeClassificationModel: uid=DecisionTreeClassifier_63e09be0257f, depth=14, numNodes=101, numClasses=2, numFeatures=1\n"
     ]
    },
    {
     "name": "stderr",
     "output_type": "stream",
     "text": [
      "                                                                                \r"
     ]
    },
    {
     "name": "stdout",
     "output_type": "stream",
     "text": [
      "model 1 build time 10.58 \n",
      " DecisionTreeClassificationModel: uid=DecisionTreeClassifier_8fa94c3f5b50, depth=14, numNodes=101, numClasses=2, numFeatures=1\n"
     ]
    },
    {
     "name": "stderr",
     "output_type": "stream",
     "text": [
      "                                                                                \r"
     ]
    },
    {
     "name": "stdout",
     "output_type": "stream",
     "text": [
      "model 2 build time 10.25 \n",
      " DecisionTreeClassificationModel: uid=DecisionTreeClassifier_aaab31aea6a6, depth=14, numNodes=101, numClasses=2, numFeatures=1\n",
      "======================================================================\n"
     ]
    },
    {
     "name": "stderr",
     "output_type": "stream",
     "text": [
      "                                                                                \r"
     ]
    },
    {
     "name": "stdout",
     "output_type": "stream",
     "text": [
      "=== size_mult=2;         n_part_req=4; n_part_act=4; df_count=504274 ===\n",
      "\n"
     ]
    },
    {
     "name": "stderr",
     "output_type": "stream",
     "text": [
      "                                                                                \r"
     ]
    },
    {
     "name": "stdout",
     "output_type": "stream",
     "text": [
      "model 0 build time 7.34 \n",
      " DecisionTreeClassificationModel: uid=DecisionTreeClassifier_b267a9b234d4, depth=14, numNodes=131, numClasses=2, numFeatures=1\n"
     ]
    },
    {
     "name": "stderr",
     "output_type": "stream",
     "text": [
      "                                                                                \r"
     ]
    },
    {
     "name": "stdout",
     "output_type": "stream",
     "text": [
      "model 1 build time 7.29 \n",
      " DecisionTreeClassificationModel: uid=DecisionTreeClassifier_cc992bb52b54, depth=14, numNodes=131, numClasses=2, numFeatures=1\n"
     ]
    },
    {
     "name": "stderr",
     "output_type": "stream",
     "text": [
      "                                                                                \r"
     ]
    },
    {
     "name": "stdout",
     "output_type": "stream",
     "text": [
      "model 2 build time 6.83 \n",
      " DecisionTreeClassificationModel: uid=DecisionTreeClassifier_13935e30566d, depth=14, numNodes=131, numClasses=2, numFeatures=1\n",
      "======================================================================\n"
     ]
    },
    {
     "name": "stderr",
     "output_type": "stream",
     "text": [
      "                                                                                \r"
     ]
    },
    {
     "name": "stdout",
     "output_type": "stream",
     "text": [
      "=== size_mult=2;         n_part_req=8; n_part_act=8; df_count=504274 ===\n",
      "\n"
     ]
    },
    {
     "name": "stderr",
     "output_type": "stream",
     "text": [
      "                                                                                \r"
     ]
    },
    {
     "name": "stdout",
     "output_type": "stream",
     "text": [
      "model 0 build time 7.9 \n",
      " DecisionTreeClassificationModel: uid=DecisionTreeClassifier_07c098395733, depth=14, numNodes=135, numClasses=2, numFeatures=1\n"
     ]
    },
    {
     "name": "stderr",
     "output_type": "stream",
     "text": [
      "\r",
      "[Stage 1286:============================>                           (4 + 4) / 8]\r",
      "\r",
      "                                                                                \r"
     ]
    },
    {
     "name": "stdout",
     "output_type": "stream",
     "text": [
      "model 1 build time 6.34 \n",
      " DecisionTreeClassificationModel: uid=DecisionTreeClassifier_22e0cb1ec189, depth=14, numNodes=135, numClasses=2, numFeatures=1\n"
     ]
    },
    {
     "name": "stderr",
     "output_type": "stream",
     "text": [
      "                                                                                \r"
     ]
    },
    {
     "name": "stdout",
     "output_type": "stream",
     "text": [
      "model 2 build time 6.03 \n",
      " DecisionTreeClassificationModel: uid=DecisionTreeClassifier_777cf6c97de7, depth=14, numNodes=135, numClasses=2, numFeatures=1\n",
      "======================================================================\n"
     ]
    },
    {
     "name": "stderr",
     "output_type": "stream",
     "text": [
      "                                                                                \r"
     ]
    },
    {
     "name": "stdout",
     "output_type": "stream",
     "text": [
      "=== size_mult=2;         n_part_req=16; n_part_act=16; df_count=504274 ===\n",
      "\n"
     ]
    },
    {
     "name": "stderr",
     "output_type": "stream",
     "text": [
      "                                                                                \r"
     ]
    },
    {
     "name": "stdout",
     "output_type": "stream",
     "text": [
      "model 0 build time 8.83 \n",
      " DecisionTreeClassificationModel: uid=DecisionTreeClassifier_64cd18c7b5d6, depth=14, numNodes=151, numClasses=2, numFeatures=1\n"
     ]
    },
    {
     "name": "stderr",
     "output_type": "stream",
     "text": [
      "                                                                                \r"
     ]
    },
    {
     "name": "stdout",
     "output_type": "stream",
     "text": [
      "model 1 build time 8.83 \n",
      " DecisionTreeClassificationModel: uid=DecisionTreeClassifier_b0dae96f6998, depth=14, numNodes=151, numClasses=2, numFeatures=1\n"
     ]
    },
    {
     "name": "stderr",
     "output_type": "stream",
     "text": [
      "                                                                                \r"
     ]
    },
    {
     "name": "stdout",
     "output_type": "stream",
     "text": [
      "model 2 build time 8.95 \n",
      " DecisionTreeClassificationModel: uid=DecisionTreeClassifier_c05c8a4a1c59, depth=14, numNodes=151, numClasses=2, numFeatures=1\n",
      "======================================================================\n"
     ]
    },
    {
     "name": "stderr",
     "output_type": "stream",
     "text": [
      "                                                                                \r"
     ]
    },
    {
     "name": "stdout",
     "output_type": "stream",
     "text": [
      "=== size_mult=2;         n_part_req=24; n_part_act=24; df_count=504274 ===\n",
      "\n"
     ]
    },
    {
     "name": "stderr",
     "output_type": "stream",
     "text": [
      "                                                                                \r"
     ]
    },
    {
     "name": "stdout",
     "output_type": "stream",
     "text": [
      "model 0 build time 10.7 \n",
      " DecisionTreeClassificationModel: uid=DecisionTreeClassifier_a0c20b6e3eaa, depth=14, numNodes=153, numClasses=2, numFeatures=1\n"
     ]
    },
    {
     "name": "stderr",
     "output_type": "stream",
     "text": [
      "                                                                                \r"
     ]
    },
    {
     "name": "stdout",
     "output_type": "stream",
     "text": [
      "model 1 build time 10.65 \n",
      " DecisionTreeClassificationModel: uid=DecisionTreeClassifier_9d6dbaa64a1a, depth=14, numNodes=153, numClasses=2, numFeatures=1\n"
     ]
    },
    {
     "name": "stderr",
     "output_type": "stream",
     "text": [
      "                                                                                \r"
     ]
    },
    {
     "name": "stdout",
     "output_type": "stream",
     "text": [
      "model 2 build time 10.75 \n",
      " DecisionTreeClassificationModel: uid=DecisionTreeClassifier_d2fe190fcb66, depth=14, numNodes=153, numClasses=2, numFeatures=1\n",
      "======================================================================\n"
     ]
    },
    {
     "name": "stderr",
     "output_type": "stream",
     "text": [
      "                                                                                \r"
     ]
    },
    {
     "name": "stdout",
     "output_type": "stream",
     "text": [
      "=== size_mult=5;         n_part_req=2; n_part_act=2; df_count=1260685 ===\n",
      "\n"
     ]
    },
    {
     "name": "stderr",
     "output_type": "stream",
     "text": [
      "                                                                                \r"
     ]
    },
    {
     "name": "stdout",
     "output_type": "stream",
     "text": [
      "model 0 build time 12.42 \n",
      " DecisionTreeClassificationModel: uid=DecisionTreeClassifier_4d753d1f4715, depth=13, numNodes=83, numClasses=2, numFeatures=1\n"
     ]
    },
    {
     "name": "stderr",
     "output_type": "stream",
     "text": [
      "                                                                                \r"
     ]
    },
    {
     "name": "stdout",
     "output_type": "stream",
     "text": [
      "model 1 build time 13.56 \n",
      " DecisionTreeClassificationModel: uid=DecisionTreeClassifier_84cff992bef8, depth=13, numNodes=83, numClasses=2, numFeatures=1\n"
     ]
    },
    {
     "name": "stderr",
     "output_type": "stream",
     "text": [
      "                                                                                \r"
     ]
    },
    {
     "name": "stdout",
     "output_type": "stream",
     "text": [
      "model 2 build time 12.68 \n",
      " DecisionTreeClassificationModel: uid=DecisionTreeClassifier_ded2b23a2890, depth=13, numNodes=83, numClasses=2, numFeatures=1\n",
      "======================================================================\n"
     ]
    },
    {
     "name": "stderr",
     "output_type": "stream",
     "text": [
      "                                                                                \r"
     ]
    },
    {
     "name": "stdout",
     "output_type": "stream",
     "text": [
      "=== size_mult=5;         n_part_req=4; n_part_act=4; df_count=1260685 ===\n",
      "\n"
     ]
    },
    {
     "name": "stderr",
     "output_type": "stream",
     "text": [
      "                                                                                \r"
     ]
    },
    {
     "name": "stdout",
     "output_type": "stream",
     "text": [
      "model 0 build time 13.25 \n",
      " DecisionTreeClassificationModel: uid=DecisionTreeClassifier_c58ee3fa52e6, depth=14, numNodes=113, numClasses=2, numFeatures=1\n"
     ]
    },
    {
     "name": "stderr",
     "output_type": "stream",
     "text": [
      "                                                                                \r"
     ]
    },
    {
     "name": "stdout",
     "output_type": "stream",
     "text": [
      "model 1 build time 10.27 \n",
      " DecisionTreeClassificationModel: uid=DecisionTreeClassifier_46d18dca79c7, depth=14, numNodes=113, numClasses=2, numFeatures=1\n"
     ]
    },
    {
     "name": "stderr",
     "output_type": "stream",
     "text": [
      "                                                                                \r"
     ]
    },
    {
     "name": "stdout",
     "output_type": "stream",
     "text": [
      "model 2 build time 9.5 \n",
      " DecisionTreeClassificationModel: uid=DecisionTreeClassifier_f5ac25390863, depth=14, numNodes=113, numClasses=2, numFeatures=1\n",
      "======================================================================\n"
     ]
    },
    {
     "name": "stderr",
     "output_type": "stream",
     "text": [
      "                                                                                \r"
     ]
    },
    {
     "name": "stdout",
     "output_type": "stream",
     "text": [
      "=== size_mult=5;         n_part_req=8; n_part_act=8; df_count=1260685 ===\n",
      "\n"
     ]
    },
    {
     "name": "stderr",
     "output_type": "stream",
     "text": [
      "                                                                                \r"
     ]
    },
    {
     "name": "stdout",
     "output_type": "stream",
     "text": [
      "model 0 build time 15.4 \n",
      " DecisionTreeClassificationModel: uid=DecisionTreeClassifier_298e2f027390, depth=14, numNodes=97, numClasses=2, numFeatures=1\n"
     ]
    },
    {
     "name": "stderr",
     "output_type": "stream",
     "text": [
      "                                                                                \r"
     ]
    },
    {
     "name": "stdout",
     "output_type": "stream",
     "text": [
      "model 1 build time 9.83 \n",
      " DecisionTreeClassificationModel: uid=DecisionTreeClassifier_9a12528481d9, depth=14, numNodes=97, numClasses=2, numFeatures=1\n"
     ]
    },
    {
     "name": "stderr",
     "output_type": "stream",
     "text": [
      "                                                                                \r"
     ]
    },
    {
     "name": "stdout",
     "output_type": "stream",
     "text": [
      "model 2 build time 9.86 \n",
      " DecisionTreeClassificationModel: uid=DecisionTreeClassifier_688ebe95891b, depth=14, numNodes=97, numClasses=2, numFeatures=1\n",
      "======================================================================\n"
     ]
    },
    {
     "name": "stderr",
     "output_type": "stream",
     "text": [
      "                                                                                \r"
     ]
    },
    {
     "name": "stdout",
     "output_type": "stream",
     "text": [
      "=== size_mult=5;         n_part_req=16; n_part_act=16; df_count=1260685 ===\n",
      "\n"
     ]
    },
    {
     "name": "stderr",
     "output_type": "stream",
     "text": [
      "                                                                                \r"
     ]
    },
    {
     "name": "stdout",
     "output_type": "stream",
     "text": [
      "model 0 build time 26.16 \n",
      " DecisionTreeClassificationModel: uid=DecisionTreeClassifier_d3060be27f84, depth=14, numNodes=109, numClasses=2, numFeatures=1\n"
     ]
    },
    {
     "name": "stderr",
     "output_type": "stream",
     "text": [
      "                                                                                \r"
     ]
    },
    {
     "name": "stdout",
     "output_type": "stream",
     "text": [
      "model 1 build time 24.51 \n",
      " DecisionTreeClassificationModel: uid=DecisionTreeClassifier_c6e01ad260e5, depth=14, numNodes=109, numClasses=2, numFeatures=1\n"
     ]
    },
    {
     "name": "stderr",
     "output_type": "stream",
     "text": [
      "                                                                                \r"
     ]
    },
    {
     "name": "stdout",
     "output_type": "stream",
     "text": [
      "model 2 build time 24.11 \n",
      " DecisionTreeClassificationModel: uid=DecisionTreeClassifier_e269644338f2, depth=14, numNodes=109, numClasses=2, numFeatures=1\n",
      "======================================================================\n"
     ]
    },
    {
     "name": "stderr",
     "output_type": "stream",
     "text": [
      "                                                                                \r"
     ]
    },
    {
     "name": "stdout",
     "output_type": "stream",
     "text": [
      "=== size_mult=5;         n_part_req=24; n_part_act=24; df_count=1260685 ===\n",
      "\n"
     ]
    },
    {
     "name": "stderr",
     "output_type": "stream",
     "text": [
      "                                                                                \r"
     ]
    },
    {
     "name": "stdout",
     "output_type": "stream",
     "text": [
      "model 0 build time 15.59 \n",
      " DecisionTreeClassificationModel: uid=DecisionTreeClassifier_2dbe0d5e1985, depth=14, numNodes=79, numClasses=2, numFeatures=1\n"
     ]
    },
    {
     "name": "stderr",
     "output_type": "stream",
     "text": [
      "                                                                                \r"
     ]
    },
    {
     "name": "stdout",
     "output_type": "stream",
     "text": [
      "model 1 build time 10.15 \n",
      " DecisionTreeClassificationModel: uid=DecisionTreeClassifier_660bde9e2232, depth=14, numNodes=79, numClasses=2, numFeatures=1\n"
     ]
    },
    {
     "name": "stderr",
     "output_type": "stream",
     "text": [
      "                                                                                \r"
     ]
    },
    {
     "name": "stdout",
     "output_type": "stream",
     "text": [
      "model 2 build time 9.99 \n",
      " DecisionTreeClassificationModel: uid=DecisionTreeClassifier_bfa8fe92483d, depth=14, numNodes=79, numClasses=2, numFeatures=1\n",
      "======================================================================\n"
     ]
    },
    {
     "name": "stderr",
     "output_type": "stream",
     "text": [
      "                                                                                \r"
     ]
    },
    {
     "name": "stdout",
     "output_type": "stream",
     "text": [
      "=== size_mult=10;         n_part_req=2; n_part_act=2; df_count=2521370 ===\n",
      "\n"
     ]
    },
    {
     "name": "stderr",
     "output_type": "stream",
     "text": [
      "                                                                                \r"
     ]
    },
    {
     "name": "stdout",
     "output_type": "stream",
     "text": [
      "model 0 build time 17.48 \n",
      " DecisionTreeClassificationModel: uid=DecisionTreeClassifier_f33261ccbfab, depth=14, numNodes=83, numClasses=2, numFeatures=1\n"
     ]
    },
    {
     "name": "stderr",
     "output_type": "stream",
     "text": [
      "                                                                                \r"
     ]
    },
    {
     "name": "stdout",
     "output_type": "stream",
     "text": [
      "model 1 build time 16.67 \n",
      " DecisionTreeClassificationModel: uid=DecisionTreeClassifier_68c85e4d45dd, depth=14, numNodes=83, numClasses=2, numFeatures=1\n"
     ]
    },
    {
     "name": "stderr",
     "output_type": "stream",
     "text": [
      "                                                                                \r"
     ]
    },
    {
     "name": "stdout",
     "output_type": "stream",
     "text": [
      "model 2 build time 17.54 \n",
      " DecisionTreeClassificationModel: uid=DecisionTreeClassifier_c0174bdb2baa, depth=14, numNodes=83, numClasses=2, numFeatures=1\n",
      "======================================================================\n"
     ]
    },
    {
     "name": "stderr",
     "output_type": "stream",
     "text": [
      "                                                                                \r"
     ]
    },
    {
     "name": "stdout",
     "output_type": "stream",
     "text": [
      "=== size_mult=10;         n_part_req=4; n_part_act=4; df_count=2521370 ===\n",
      "\n"
     ]
    },
    {
     "name": "stderr",
     "output_type": "stream",
     "text": [
      "                                                                                \r"
     ]
    },
    {
     "name": "stdout",
     "output_type": "stream",
     "text": [
      "model 0 build time 17.66 \n",
      " DecisionTreeClassificationModel: uid=DecisionTreeClassifier_9feeeb03b082, depth=14, numNodes=105, numClasses=2, numFeatures=1\n"
     ]
    },
    {
     "name": "stderr",
     "output_type": "stream",
     "text": [
      "                                                                                \r"
     ]
    },
    {
     "name": "stdout",
     "output_type": "stream",
     "text": [
      "model 1 build time 13.54 \n",
      " DecisionTreeClassificationModel: uid=DecisionTreeClassifier_9def17115b71, depth=14, numNodes=105, numClasses=2, numFeatures=1\n"
     ]
    },
    {
     "name": "stderr",
     "output_type": "stream",
     "text": [
      "                                                                                \r"
     ]
    },
    {
     "name": "stdout",
     "output_type": "stream",
     "text": [
      "model 2 build time 11.53 \n",
      " DecisionTreeClassificationModel: uid=DecisionTreeClassifier_fbd2de2897df, depth=14, numNodes=105, numClasses=2, numFeatures=1\n",
      "======================================================================\n"
     ]
    },
    {
     "name": "stderr",
     "output_type": "stream",
     "text": [
      "                                                                                \r"
     ]
    },
    {
     "name": "stdout",
     "output_type": "stream",
     "text": [
      "=== size_mult=10;         n_part_req=8; n_part_act=8; df_count=2521370 ===\n",
      "\n"
     ]
    },
    {
     "name": "stderr",
     "output_type": "stream",
     "text": [
      "                                                                                \r"
     ]
    },
    {
     "name": "stdout",
     "output_type": "stream",
     "text": [
      "model 0 build time 14.11 \n",
      " DecisionTreeClassificationModel: uid=DecisionTreeClassifier_83bbbb43d61b, depth=14, numNodes=81, numClasses=2, numFeatures=1\n"
     ]
    },
    {
     "name": "stderr",
     "output_type": "stream",
     "text": [
      "                                                                                \r"
     ]
    },
    {
     "name": "stdout",
     "output_type": "stream",
     "text": [
      "model 1 build time 9.81 \n",
      " DecisionTreeClassificationModel: uid=DecisionTreeClassifier_b5d9fe661ab6, depth=14, numNodes=81, numClasses=2, numFeatures=1\n"
     ]
    },
    {
     "name": "stderr",
     "output_type": "stream",
     "text": [
      "                                                                                \r"
     ]
    },
    {
     "name": "stdout",
     "output_type": "stream",
     "text": [
      "model 2 build time 9.37 \n",
      " DecisionTreeClassificationModel: uid=DecisionTreeClassifier_4a2651c2ca4e, depth=14, numNodes=81, numClasses=2, numFeatures=1\n",
      "======================================================================\n"
     ]
    },
    {
     "name": "stderr",
     "output_type": "stream",
     "text": [
      "                                                                                \r"
     ]
    },
    {
     "name": "stdout",
     "output_type": "stream",
     "text": [
      "=== size_mult=10;         n_part_req=16; n_part_act=16; df_count=2521370 ===\n",
      "\n"
     ]
    },
    {
     "name": "stderr",
     "output_type": "stream",
     "text": [
      "                                                                                \r"
     ]
    },
    {
     "name": "stdout",
     "output_type": "stream",
     "text": [
      "model 0 build time 10.31 \n",
      " DecisionTreeClassificationModel: uid=DecisionTreeClassifier_c23766f3ac74, depth=14, numNodes=71, numClasses=2, numFeatures=1\n"
     ]
    },
    {
     "name": "stderr",
     "output_type": "stream",
     "text": [
      "                                                                                \r"
     ]
    },
    {
     "name": "stdout",
     "output_type": "stream",
     "text": [
      "model 1 build time 7.18 \n",
      " DecisionTreeClassificationModel: uid=DecisionTreeClassifier_0505a7a382aa, depth=14, numNodes=71, numClasses=2, numFeatures=1\n"
     ]
    },
    {
     "name": "stderr",
     "output_type": "stream",
     "text": [
      "\r",
      "[Stage 3177:=====================================>                (11 + 5) / 16]\r",
      "\r",
      "                                                                                \r"
     ]
    },
    {
     "name": "stdout",
     "output_type": "stream",
     "text": [
      "model 2 build time 6.59 \n",
      " DecisionTreeClassificationModel: uid=DecisionTreeClassifier_dbd2fcadd009, depth=14, numNodes=71, numClasses=2, numFeatures=1\n",
      "======================================================================\n"
     ]
    },
    {
     "name": "stderr",
     "output_type": "stream",
     "text": [
      "                                                                                \r"
     ]
    },
    {
     "name": "stdout",
     "output_type": "stream",
     "text": [
      "=== size_mult=10;         n_part_req=24; n_part_act=24; df_count=2521370 ===\n",
      "\n"
     ]
    },
    {
     "name": "stderr",
     "output_type": "stream",
     "text": [
      "                                                                                \r"
     ]
    },
    {
     "name": "stdout",
     "output_type": "stream",
     "text": [
      "model 0 build time 8.13 \n",
      " DecisionTreeClassificationModel: uid=DecisionTreeClassifier_cafe06028731, depth=14, numNodes=89, numClasses=2, numFeatures=1\n"
     ]
    },
    {
     "name": "stderr",
     "output_type": "stream",
     "text": [
      "                                                                                \r"
     ]
    },
    {
     "name": "stdout",
     "output_type": "stream",
     "text": [
      "model 1 build time 8.09 \n",
      " DecisionTreeClassificationModel: uid=DecisionTreeClassifier_395e381fb141, depth=14, numNodes=89, numClasses=2, numFeatures=1\n"
     ]
    },
    {
     "name": "stderr",
     "output_type": "stream",
     "text": [
      "                                                                                \r"
     ]
    },
    {
     "name": "stdout",
     "output_type": "stream",
     "text": [
      "model 2 build time 7.53 \n",
      " DecisionTreeClassificationModel: uid=DecisionTreeClassifier_3ad093aa3032, depth=14, numNodes=89, numClasses=2, numFeatures=1\n",
      "======================================================================\n"
     ]
    },
    {
     "name": "stderr",
     "output_type": "stream",
     "text": [
      "                                                                                \r"
     ]
    },
    {
     "name": "stdout",
     "output_type": "stream",
     "text": [
      "=== size_mult=15;         n_part_req=2; n_part_act=2; df_count=3782055 ===\n",
      "\n"
     ]
    },
    {
     "name": "stderr",
     "output_type": "stream",
     "text": [
      "                                                                                \r"
     ]
    },
    {
     "name": "stdout",
     "output_type": "stream",
     "text": [
      "model 0 build time 23.49 \n",
      " DecisionTreeClassificationModel: uid=DecisionTreeClassifier_572876ae82c7, depth=14, numNodes=51, numClasses=2, numFeatures=1\n"
     ]
    },
    {
     "name": "stderr",
     "output_type": "stream",
     "text": [
      "                                                                                \r"
     ]
    },
    {
     "name": "stdout",
     "output_type": "stream",
     "text": [
      "model 1 build time 25.37 \n",
      " DecisionTreeClassificationModel: uid=DecisionTreeClassifier_22bddcd04e13, depth=14, numNodes=51, numClasses=2, numFeatures=1\n"
     ]
    },
    {
     "name": "stderr",
     "output_type": "stream",
     "text": [
      "                                                                                \r"
     ]
    },
    {
     "name": "stdout",
     "output_type": "stream",
     "text": [
      "model 2 build time 22.78 \n",
      " DecisionTreeClassificationModel: uid=DecisionTreeClassifier_3a77878c7976, depth=14, numNodes=51, numClasses=2, numFeatures=1\n",
      "======================================================================\n"
     ]
    },
    {
     "name": "stderr",
     "output_type": "stream",
     "text": [
      "                                                                                \r"
     ]
    },
    {
     "name": "stdout",
     "output_type": "stream",
     "text": [
      "=== size_mult=15;         n_part_req=4; n_part_act=4; df_count=3782055 ===\n",
      "\n"
     ]
    },
    {
     "name": "stderr",
     "output_type": "stream",
     "text": [
      "                                                                                \r"
     ]
    },
    {
     "name": "stdout",
     "output_type": "stream",
     "text": [
      "model 0 build time 15.43 \n",
      " DecisionTreeClassificationModel: uid=DecisionTreeClassifier_f3b91e71b7ec, depth=13, numNodes=63, numClasses=2, numFeatures=1\n"
     ]
    },
    {
     "name": "stderr",
     "output_type": "stream",
     "text": [
      "                                                                                \r"
     ]
    },
    {
     "name": "stdout",
     "output_type": "stream",
     "text": [
      "model 1 build time 15.72 \n",
      " DecisionTreeClassificationModel: uid=DecisionTreeClassifier_421d8c587516, depth=13, numNodes=63, numClasses=2, numFeatures=1\n"
     ]
    },
    {
     "name": "stderr",
     "output_type": "stream",
     "text": [
      "                                                                                \r"
     ]
    },
    {
     "name": "stdout",
     "output_type": "stream",
     "text": [
      "model 2 build time 16.11 \n",
      " DecisionTreeClassificationModel: uid=DecisionTreeClassifier_8fbfb9d03a3a, depth=13, numNodes=63, numClasses=2, numFeatures=1\n",
      "======================================================================\n"
     ]
    },
    {
     "name": "stderr",
     "output_type": "stream",
     "text": [
      "                                                                                \r"
     ]
    },
    {
     "name": "stdout",
     "output_type": "stream",
     "text": [
      "=== size_mult=15;         n_part_req=8; n_part_act=8; df_count=3782055 ===\n",
      "\n"
     ]
    },
    {
     "name": "stderr",
     "output_type": "stream",
     "text": [
      "                                                                                \r"
     ]
    },
    {
     "name": "stdout",
     "output_type": "stream",
     "text": [
      "model 0 build time 10.46 \n",
      " DecisionTreeClassificationModel: uid=DecisionTreeClassifier_6899723e9a53, depth=14, numNodes=59, numClasses=2, numFeatures=1\n"
     ]
    },
    {
     "name": "stderr",
     "output_type": "stream",
     "text": [
      "                                                                                \r"
     ]
    },
    {
     "name": "stdout",
     "output_type": "stream",
     "text": [
      "model 1 build time 10.47 \n",
      " DecisionTreeClassificationModel: uid=DecisionTreeClassifier_eac9a332671e, depth=14, numNodes=59, numClasses=2, numFeatures=1\n"
     ]
    },
    {
     "name": "stderr",
     "output_type": "stream",
     "text": [
      "                                                                                \r"
     ]
    },
    {
     "name": "stdout",
     "output_type": "stream",
     "text": [
      "model 2 build time 11.28 \n",
      " DecisionTreeClassificationModel: uid=DecisionTreeClassifier_b4f11a8b16a4, depth=14, numNodes=59, numClasses=2, numFeatures=1\n",
      "======================================================================\n"
     ]
    },
    {
     "name": "stderr",
     "output_type": "stream",
     "text": [
      "                                                                                \r"
     ]
    },
    {
     "name": "stdout",
     "output_type": "stream",
     "text": [
      "=== size_mult=15;         n_part_req=16; n_part_act=16; df_count=3782055 ===\n",
      "\n"
     ]
    },
    {
     "name": "stderr",
     "output_type": "stream",
     "text": [
      "\r",
      "[Stage 3904:=================================>                    (10 + 6) / 16]\r",
      "\r",
      "                                                                                \r"
     ]
    },
    {
     "name": "stdout",
     "output_type": "stream",
     "text": [
      "model 0 build time 7.48 \n",
      " DecisionTreeClassificationModel: uid=DecisionTreeClassifier_0443ae4bd68a, depth=14, numNodes=59, numClasses=2, numFeatures=1\n"
     ]
    },
    {
     "name": "stderr",
     "output_type": "stream",
     "text": [
      "\r",
      "[Stage 3958:===============================================>      (14 + 2) / 16]\r",
      "\r",
      "                                                                                \r"
     ]
    },
    {
     "name": "stdout",
     "output_type": "stream",
     "text": [
      "model 1 build time 6.9 \n",
      " DecisionTreeClassificationModel: uid=DecisionTreeClassifier_53a3c8e83007, depth=14, numNodes=59, numClasses=2, numFeatures=1\n"
     ]
    },
    {
     "name": "stderr",
     "output_type": "stream",
     "text": [
      "                                                                                \r"
     ]
    },
    {
     "name": "stdout",
     "output_type": "stream",
     "text": [
      "model 2 build time 7.41 \n",
      " DecisionTreeClassificationModel: uid=DecisionTreeClassifier_59d1d542b65a, depth=14, numNodes=59, numClasses=2, numFeatures=1\n",
      "======================================================================\n"
     ]
    },
    {
     "name": "stderr",
     "output_type": "stream",
     "text": [
      "                                                                                \r"
     ]
    },
    {
     "name": "stdout",
     "output_type": "stream",
     "text": [
      "=== size_mult=15;         n_part_req=24; n_part_act=24; df_count=3782055 ===\n",
      "\n"
     ]
    },
    {
     "name": "stderr",
     "output_type": "stream",
     "text": [
      "                                                                                \r"
     ]
    },
    {
     "name": "stdout",
     "output_type": "stream",
     "text": [
      "model 0 build time 8.53 \n",
      " DecisionTreeClassificationModel: uid=DecisionTreeClassifier_1a22a356eea2, depth=14, numNodes=79, numClasses=2, numFeatures=1\n"
     ]
    },
    {
     "name": "stderr",
     "output_type": "stream",
     "text": [
      "                                                                                \r"
     ]
    },
    {
     "name": "stdout",
     "output_type": "stream",
     "text": [
      "model 1 build time 10.0 \n",
      " DecisionTreeClassificationModel: uid=DecisionTreeClassifier_a627509ed52c, depth=14, numNodes=79, numClasses=2, numFeatures=1\n"
     ]
    },
    {
     "name": "stderr",
     "output_type": "stream",
     "text": [
      "                                                                                \r"
     ]
    },
    {
     "name": "stdout",
     "output_type": "stream",
     "text": [
      "model 2 build time 8.98 \n",
      " DecisionTreeClassificationModel: uid=DecisionTreeClassifier_4b5062442cd4, depth=14, numNodes=79, numClasses=2, numFeatures=1\n",
      "======================================================================\n"
     ]
    },
    {
     "name": "stderr",
     "output_type": "stream",
     "text": [
      "                                                                                \r"
     ]
    },
    {
     "name": "stdout",
     "output_type": "stream",
     "text": [
      "=== size_mult=20;         n_part_req=2; n_part_act=2; df_count=5042740 ===\n",
      "\n"
     ]
    },
    {
     "name": "stderr",
     "output_type": "stream",
     "text": [
      "                                                                                \r"
     ]
    },
    {
     "name": "stdout",
     "output_type": "stream",
     "text": [
      "model 0 build time 30.84 \n",
      " DecisionTreeClassificationModel: uid=DecisionTreeClassifier_e7147ef8b5c0, depth=14, numNodes=63, numClasses=2, numFeatures=1\n"
     ]
    },
    {
     "name": "stderr",
     "output_type": "stream",
     "text": [
      "                                                                                \r"
     ]
    },
    {
     "name": "stdout",
     "output_type": "stream",
     "text": [
      "model 1 build time 31.04 \n",
      " DecisionTreeClassificationModel: uid=DecisionTreeClassifier_ab87a757624d, depth=14, numNodes=63, numClasses=2, numFeatures=1\n"
     ]
    },
    {
     "name": "stderr",
     "output_type": "stream",
     "text": [
      "                                                                                \r"
     ]
    },
    {
     "name": "stdout",
     "output_type": "stream",
     "text": [
      "model 2 build time 27.51 \n",
      " DecisionTreeClassificationModel: uid=DecisionTreeClassifier_3096f4e8792e, depth=14, numNodes=63, numClasses=2, numFeatures=1\n",
      "======================================================================\n"
     ]
    },
    {
     "name": "stderr",
     "output_type": "stream",
     "text": [
      "                                                                                \r"
     ]
    },
    {
     "name": "stdout",
     "output_type": "stream",
     "text": [
      "=== size_mult=20;         n_part_req=4; n_part_act=4; df_count=5042740 ===\n",
      "\n"
     ]
    },
    {
     "name": "stderr",
     "output_type": "stream",
     "text": [
      "                                                                                \r"
     ]
    },
    {
     "name": "stdout",
     "output_type": "stream",
     "text": [
      "model 0 build time 20.22 \n",
      " DecisionTreeClassificationModel: uid=DecisionTreeClassifier_748592311af3, depth=14, numNodes=57, numClasses=2, numFeatures=1\n"
     ]
    },
    {
     "name": "stderr",
     "output_type": "stream",
     "text": [
      "                                                                                \r"
     ]
    },
    {
     "name": "stdout",
     "output_type": "stream",
     "text": [
      "model 1 build time 15.86 \n",
      " DecisionTreeClassificationModel: uid=DecisionTreeClassifier_74de7c001f4c, depth=14, numNodes=57, numClasses=2, numFeatures=1\n"
     ]
    },
    {
     "name": "stderr",
     "output_type": "stream",
     "text": [
      "                                                                                \r"
     ]
    },
    {
     "name": "stdout",
     "output_type": "stream",
     "text": [
      "model 2 build time 16.76 \n",
      " DecisionTreeClassificationModel: uid=DecisionTreeClassifier_402cf1701b5b, depth=14, numNodes=57, numClasses=2, numFeatures=1\n",
      "======================================================================\n"
     ]
    },
    {
     "name": "stderr",
     "output_type": "stream",
     "text": [
      "                                                                                \r"
     ]
    },
    {
     "name": "stdout",
     "output_type": "stream",
     "text": [
      "=== size_mult=20;         n_part_req=8; n_part_act=8; df_count=5042740 ===\n",
      "\n"
     ]
    },
    {
     "name": "stderr",
     "output_type": "stream",
     "text": [
      "                                                                                \r"
     ]
    },
    {
     "name": "stdout",
     "output_type": "stream",
     "text": [
      "model 0 build time 11.66 \n",
      " DecisionTreeClassificationModel: uid=DecisionTreeClassifier_90a397361ce1, depth=14, numNodes=57, numClasses=2, numFeatures=1\n"
     ]
    },
    {
     "name": "stderr",
     "output_type": "stream",
     "text": [
      "                                                                                \r"
     ]
    },
    {
     "name": "stdout",
     "output_type": "stream",
     "text": [
      "model 1 build time 11.25 \n",
      " DecisionTreeClassificationModel: uid=DecisionTreeClassifier_61fce01e9ab8, depth=14, numNodes=57, numClasses=2, numFeatures=1\n"
     ]
    },
    {
     "name": "stderr",
     "output_type": "stream",
     "text": [
      "                                                                                \r"
     ]
    },
    {
     "name": "stdout",
     "output_type": "stream",
     "text": [
      "model 2 build time 11.89 \n",
      " DecisionTreeClassificationModel: uid=DecisionTreeClassifier_aa49368bbe92, depth=14, numNodes=57, numClasses=2, numFeatures=1\n",
      "======================================================================\n"
     ]
    },
    {
     "name": "stderr",
     "output_type": "stream",
     "text": [
      "                                                                                \r"
     ]
    },
    {
     "name": "stdout",
     "output_type": "stream",
     "text": [
      "=== size_mult=20;         n_part_req=16; n_part_act=16; df_count=5042740 ===\n",
      "\n"
     ]
    },
    {
     "name": "stderr",
     "output_type": "stream",
     "text": [
      "                                                                                \r"
     ]
    },
    {
     "name": "stdout",
     "output_type": "stream",
     "text": [
      "model 0 build time 9.55 \n",
      " DecisionTreeClassificationModel: uid=DecisionTreeClassifier_3c3a6b96eecb, depth=10, numNodes=31, numClasses=2, numFeatures=1\n"
     ]
    },
    {
     "name": "stderr",
     "output_type": "stream",
     "text": [
      "\r",
      "[Stage 4793:========================================>             (12 + 4) / 16]\r",
      "\r",
      "                                                                                \r"
     ]
    },
    {
     "name": "stdout",
     "output_type": "stream",
     "text": [
      "model 1 build time 8.34 \n",
      " DecisionTreeClassificationModel: uid=DecisionTreeClassifier_62a6b7bfcc61, depth=10, numNodes=31, numClasses=2, numFeatures=1\n"
     ]
    },
    {
     "name": "stderr",
     "output_type": "stream",
     "text": [
      "                                                                                \r"
     ]
    },
    {
     "name": "stdout",
     "output_type": "stream",
     "text": [
      "model 2 build time 8.64 \n",
      " DecisionTreeClassificationModel: uid=DecisionTreeClassifier_40619115ccf2, depth=10, numNodes=31, numClasses=2, numFeatures=1\n",
      "======================================================================\n"
     ]
    },
    {
     "name": "stderr",
     "output_type": "stream",
     "text": [
      "                                                                                \r"
     ]
    },
    {
     "name": "stdout",
     "output_type": "stream",
     "text": [
      "=== size_mult=20;         n_part_req=24; n_part_act=24; df_count=5042740 ===\n",
      "\n"
     ]
    },
    {
     "name": "stderr",
     "output_type": "stream",
     "text": [
      "                                                                                \r"
     ]
    },
    {
     "name": "stdout",
     "output_type": "stream",
     "text": [
      "model 0 build time 10.13 \n",
      " DecisionTreeClassificationModel: uid=DecisionTreeClassifier_1a35abd6be34, depth=12, numNodes=59, numClasses=2, numFeatures=1\n"
     ]
    },
    {
     "name": "stderr",
     "output_type": "stream",
     "text": [
      "                                                                                \r"
     ]
    },
    {
     "name": "stdout",
     "output_type": "stream",
     "text": [
      "model 1 build time 10.61 \n",
      " DecisionTreeClassificationModel: uid=DecisionTreeClassifier_de6071d2a05b, depth=12, numNodes=59, numClasses=2, numFeatures=1\n"
     ]
    },
    {
     "name": "stderr",
     "output_type": "stream",
     "text": [
      "                                                                                \r"
     ]
    },
    {
     "name": "stdout",
     "output_type": "stream",
     "text": [
      "model 2 build time 9.01 \n",
      " DecisionTreeClassificationModel: uid=DecisionTreeClassifier_d98f5b0bfefe, depth=12, numNodes=59, numClasses=2, numFeatures=1\n",
      "======================================================================\n"
     ]
    },
    {
     "name": "stderr",
     "output_type": "stream",
     "text": [
      "                                                                                \r"
     ]
    },
    {
     "name": "stdout",
     "output_type": "stream",
     "text": [
      "=== size_mult=30;         n_part_req=2; n_part_act=2; df_count=7564110 ===\n",
      "\n"
     ]
    },
    {
     "name": "stderr",
     "output_type": "stream",
     "text": [
      "                                                                                \r"
     ]
    },
    {
     "name": "stdout",
     "output_type": "stream",
     "text": [
      "model 0 build time 38.6 \n",
      " DecisionTreeClassificationModel: uid=DecisionTreeClassifier_1aa83c5bf11e, depth=11, numNodes=41, numClasses=2, numFeatures=1\n"
     ]
    },
    {
     "name": "stderr",
     "output_type": "stream",
     "text": [
      "                                                                                \r"
     ]
    },
    {
     "name": "stdout",
     "output_type": "stream",
     "text": [
      "model 1 build time 37.0 \n",
      " DecisionTreeClassificationModel: uid=DecisionTreeClassifier_7dd9523c30d4, depth=11, numNodes=41, numClasses=2, numFeatures=1\n"
     ]
    },
    {
     "name": "stderr",
     "output_type": "stream",
     "text": [
      "                                                                                \r"
     ]
    },
    {
     "name": "stdout",
     "output_type": "stream",
     "text": [
      "model 2 build time 39.69 \n",
      " DecisionTreeClassificationModel: uid=DecisionTreeClassifier_daa9bd9a123e, depth=11, numNodes=41, numClasses=2, numFeatures=1\n",
      "======================================================================\n"
     ]
    },
    {
     "name": "stderr",
     "output_type": "stream",
     "text": [
      "                                                                                \r"
     ]
    },
    {
     "name": "stdout",
     "output_type": "stream",
     "text": [
      "=== size_mult=30;         n_part_req=4; n_part_act=4; df_count=7564110 ===\n",
      "\n"
     ]
    },
    {
     "name": "stderr",
     "output_type": "stream",
     "text": [
      "                                                                                \r"
     ]
    },
    {
     "name": "stdout",
     "output_type": "stream",
     "text": [
      "model 0 build time 21.82 \n",
      " DecisionTreeClassificationModel: uid=DecisionTreeClassifier_aa76bd0dfe89, depth=14, numNodes=43, numClasses=2, numFeatures=1\n"
     ]
    },
    {
     "name": "stderr",
     "output_type": "stream",
     "text": [
      "                                                                                \r"
     ]
    },
    {
     "name": "stdout",
     "output_type": "stream",
     "text": [
      "model 1 build time 22.62 \n",
      " DecisionTreeClassificationModel: uid=DecisionTreeClassifier_9381445148c7, depth=14, numNodes=43, numClasses=2, numFeatures=1\n"
     ]
    },
    {
     "name": "stderr",
     "output_type": "stream",
     "text": [
      "                                                                                \r"
     ]
    },
    {
     "name": "stdout",
     "output_type": "stream",
     "text": [
      "model 2 build time 20.94 \n",
      " DecisionTreeClassificationModel: uid=DecisionTreeClassifier_cbc378824abd, depth=14, numNodes=43, numClasses=2, numFeatures=1\n",
      "======================================================================\n"
     ]
    },
    {
     "name": "stderr",
     "output_type": "stream",
     "text": [
      "                                                                                \r"
     ]
    },
    {
     "name": "stdout",
     "output_type": "stream",
     "text": [
      "=== size_mult=30;         n_part_req=8; n_part_act=8; df_count=7564110 ===\n",
      "\n"
     ]
    },
    {
     "name": "stderr",
     "output_type": "stream",
     "text": [
      "                                                                                \r"
     ]
    },
    {
     "name": "stdout",
     "output_type": "stream",
     "text": [
      "model 0 build time 14.57 \n",
      " DecisionTreeClassificationModel: uid=DecisionTreeClassifier_eba1daf1895c, depth=12, numNodes=55, numClasses=2, numFeatures=1\n"
     ]
    },
    {
     "name": "stderr",
     "output_type": "stream",
     "text": [
      "                                                                                \r"
     ]
    },
    {
     "name": "stdout",
     "output_type": "stream",
     "text": [
      "model 1 build time 14.22 \n",
      " DecisionTreeClassificationModel: uid=DecisionTreeClassifier_63d997ff0729, depth=12, numNodes=55, numClasses=2, numFeatures=1\n"
     ]
    },
    {
     "name": "stderr",
     "output_type": "stream",
     "text": [
      "                                                                                \r"
     ]
    },
    {
     "name": "stdout",
     "output_type": "stream",
     "text": [
      "model 2 build time 15.3 \n",
      " DecisionTreeClassificationModel: uid=DecisionTreeClassifier_00925a82be39, depth=12, numNodes=55, numClasses=2, numFeatures=1\n",
      "======================================================================\n"
     ]
    },
    {
     "name": "stderr",
     "output_type": "stream",
     "text": [
      "                                                                                \r"
     ]
    },
    {
     "name": "stdout",
     "output_type": "stream",
     "text": [
      "=== size_mult=30;         n_part_req=16; n_part_act=16; df_count=7564110 ===\n",
      "\n"
     ]
    },
    {
     "name": "stderr",
     "output_type": "stream",
     "text": [
      "                                                                                \r"
     ]
    },
    {
     "name": "stdout",
     "output_type": "stream",
     "text": [
      "model 0 build time 9.72 \n",
      " DecisionTreeClassificationModel: uid=DecisionTreeClassifier_69d032681349, depth=10, numNodes=43, numClasses=2, numFeatures=1\n"
     ]
    },
    {
     "name": "stderr",
     "output_type": "stream",
     "text": [
      "                                                                                \r"
     ]
    },
    {
     "name": "stdout",
     "output_type": "stream",
     "text": [
      "model 1 build time 9.25 \n",
      " DecisionTreeClassificationModel: uid=DecisionTreeClassifier_1b5697ce2c9d, depth=10, numNodes=43, numClasses=2, numFeatures=1\n"
     ]
    },
    {
     "name": "stderr",
     "output_type": "stream",
     "text": [
      "                                                                                \r"
     ]
    },
    {
     "name": "stdout",
     "output_type": "stream",
     "text": [
      "model 2 build time 10.25 \n",
      " DecisionTreeClassificationModel: uid=DecisionTreeClassifier_65a28dabb65a, depth=10, numNodes=43, numClasses=2, numFeatures=1\n",
      "======================================================================\n"
     ]
    },
    {
     "name": "stderr",
     "output_type": "stream",
     "text": [
      "                                                                                \r"
     ]
    },
    {
     "name": "stdout",
     "output_type": "stream",
     "text": [
      "=== size_mult=30;         n_part_req=24; n_part_act=24; df_count=7564110 ===\n",
      "\n"
     ]
    },
    {
     "name": "stderr",
     "output_type": "stream",
     "text": [
      "                                                                                \r"
     ]
    },
    {
     "name": "stdout",
     "output_type": "stream",
     "text": [
      "model 0 build time 11.98 \n",
      " DecisionTreeClassificationModel: uid=DecisionTreeClassifier_6b0e2b4586cc, depth=10, numNodes=31, numClasses=2, numFeatures=1\n"
     ]
    },
    {
     "name": "stderr",
     "output_type": "stream",
     "text": [
      "                                                                                \r"
     ]
    },
    {
     "name": "stdout",
     "output_type": "stream",
     "text": [
      "model 1 build time 11.62 \n",
      " DecisionTreeClassificationModel: uid=DecisionTreeClassifier_6a37f411bd6a, depth=10, numNodes=31, numClasses=2, numFeatures=1\n"
     ]
    },
    {
     "name": "stderr",
     "output_type": "stream",
     "text": [
      "                                                                                \r"
     ]
    },
    {
     "name": "stdout",
     "output_type": "stream",
     "text": [
      "model 2 build time 11.56 \n",
      " DecisionTreeClassificationModel: uid=DecisionTreeClassifier_83f51cc8a687, depth=10, numNodes=31, numClasses=2, numFeatures=1\n",
      "======================================================================\n"
     ]
    },
    {
     "name": "stderr",
     "output_type": "stream",
     "text": [
      "                                                                                \r"
     ]
    },
    {
     "name": "stdout",
     "output_type": "stream",
     "text": [
      "=== size_mult=50;         n_part_req=2; n_part_act=2; df_count=12606850 ===\n",
      "\n"
     ]
    },
    {
     "name": "stderr",
     "output_type": "stream",
     "text": [
      "                                                                                \r"
     ]
    },
    {
     "name": "stdout",
     "output_type": "stream",
     "text": [
      "model 0 build time 50.64 \n",
      " DecisionTreeClassificationModel: uid=DecisionTreeClassifier_f8fd20cd03d7, depth=12, numNodes=41, numClasses=2, numFeatures=1\n"
     ]
    },
    {
     "name": "stderr",
     "output_type": "stream",
     "text": [
      "                                                                                \r"
     ]
    },
    {
     "name": "stdout",
     "output_type": "stream",
     "text": [
      "model 1 build time 53.47 \n",
      " DecisionTreeClassificationModel: uid=DecisionTreeClassifier_b1ddde1e51fe, depth=12, numNodes=41, numClasses=2, numFeatures=1\n"
     ]
    },
    {
     "name": "stderr",
     "output_type": "stream",
     "text": [
      "                                                                                \r"
     ]
    },
    {
     "name": "stdout",
     "output_type": "stream",
     "text": [
      "model 2 build time 53.81 \n",
      " DecisionTreeClassificationModel: uid=DecisionTreeClassifier_4f8cd2cca779, depth=12, numNodes=41, numClasses=2, numFeatures=1\n",
      "======================================================================\n"
     ]
    },
    {
     "name": "stderr",
     "output_type": "stream",
     "text": [
      "                                                                                \r"
     ]
    },
    {
     "name": "stdout",
     "output_type": "stream",
     "text": [
      "=== size_mult=50;         n_part_req=4; n_part_act=4; df_count=12606850 ===\n",
      "\n"
     ]
    },
    {
     "name": "stderr",
     "output_type": "stream",
     "text": [
      "                                                                                \r"
     ]
    },
    {
     "name": "stdout",
     "output_type": "stream",
     "text": [
      "model 0 build time 33.73 \n",
      " DecisionTreeClassificationModel: uid=DecisionTreeClassifier_18cd83c098b6, depth=10, numNodes=39, numClasses=2, numFeatures=1\n"
     ]
    },
    {
     "name": "stderr",
     "output_type": "stream",
     "text": [
      "                                                                                \r"
     ]
    },
    {
     "name": "stdout",
     "output_type": "stream",
     "text": [
      "model 1 build time 34.11 \n",
      " DecisionTreeClassificationModel: uid=DecisionTreeClassifier_ddedffa8e73b, depth=10, numNodes=39, numClasses=2, numFeatures=1\n"
     ]
    },
    {
     "name": "stderr",
     "output_type": "stream",
     "text": [
      "                                                                                \r"
     ]
    },
    {
     "name": "stdout",
     "output_type": "stream",
     "text": [
      "model 2 build time 31.84 \n",
      " DecisionTreeClassificationModel: uid=DecisionTreeClassifier_4c061091e2d7, depth=10, numNodes=39, numClasses=2, numFeatures=1\n",
      "======================================================================\n"
     ]
    },
    {
     "name": "stderr",
     "output_type": "stream",
     "text": [
      "                                                                                \r"
     ]
    },
    {
     "name": "stdout",
     "output_type": "stream",
     "text": [
      "=== size_mult=50;         n_part_req=8; n_part_act=8; df_count=12606850 ===\n",
      "\n"
     ]
    },
    {
     "name": "stderr",
     "output_type": "stream",
     "text": [
      "                                                                                \r"
     ]
    },
    {
     "name": "stdout",
     "output_type": "stream",
     "text": [
      "model 0 build time 22.16 \n",
      " DecisionTreeClassificationModel: uid=DecisionTreeClassifier_890fdaf07ed7, depth=13, numNodes=45, numClasses=2, numFeatures=1\n"
     ]
    },
    {
     "name": "stderr",
     "output_type": "stream",
     "text": [
      "                                                                                \r"
     ]
    },
    {
     "name": "stdout",
     "output_type": "stream",
     "text": [
      "model 1 build time 20.82 \n",
      " DecisionTreeClassificationModel: uid=DecisionTreeClassifier_4df7db879129, depth=13, numNodes=45, numClasses=2, numFeatures=1\n"
     ]
    },
    {
     "name": "stderr",
     "output_type": "stream",
     "text": [
      "                                                                                \r"
     ]
    },
    {
     "name": "stdout",
     "output_type": "stream",
     "text": [
      "model 2 build time 20.54 \n",
      " DecisionTreeClassificationModel: uid=DecisionTreeClassifier_55d700bc797a, depth=13, numNodes=45, numClasses=2, numFeatures=1\n",
      "======================================================================\n"
     ]
    },
    {
     "name": "stderr",
     "output_type": "stream",
     "text": [
      "                                                                                \r"
     ]
    },
    {
     "name": "stdout",
     "output_type": "stream",
     "text": [
      "=== size_mult=50;         n_part_req=16; n_part_act=16; df_count=12606850 ===\n",
      "\n"
     ]
    },
    {
     "name": "stderr",
     "output_type": "stream",
     "text": [
      "                                                                                \r"
     ]
    },
    {
     "name": "stdout",
     "output_type": "stream",
     "text": [
      "model 0 build time 13.9 \n",
      " DecisionTreeClassificationModel: uid=DecisionTreeClassifier_fb9416989745, depth=12, numNodes=35, numClasses=2, numFeatures=1\n"
     ]
    },
    {
     "name": "stderr",
     "output_type": "stream",
     "text": [
      "                                                                                \r"
     ]
    },
    {
     "name": "stdout",
     "output_type": "stream",
     "text": [
      "model 1 build time 14.27 \n",
      " DecisionTreeClassificationModel: uid=DecisionTreeClassifier_f745613ae4f7, depth=12, numNodes=35, numClasses=2, numFeatures=1\n"
     ]
    },
    {
     "name": "stderr",
     "output_type": "stream",
     "text": [
      "                                                                                \r"
     ]
    },
    {
     "name": "stdout",
     "output_type": "stream",
     "text": [
      "model 2 build time 12.5 \n",
      " DecisionTreeClassificationModel: uid=DecisionTreeClassifier_771da83bb8f5, depth=12, numNodes=35, numClasses=2, numFeatures=1\n",
      "======================================================================\n"
     ]
    },
    {
     "name": "stderr",
     "output_type": "stream",
     "text": [
      "                                                                                \r"
     ]
    },
    {
     "name": "stdout",
     "output_type": "stream",
     "text": [
      "=== size_mult=50;         n_part_req=24; n_part_act=24; df_count=12606850 ===\n",
      "\n"
     ]
    },
    {
     "name": "stderr",
     "output_type": "stream",
     "text": [
      "                                                                                \r"
     ]
    },
    {
     "name": "stdout",
     "output_type": "stream",
     "text": [
      "model 0 build time 15.72 \n",
      " DecisionTreeClassificationModel: uid=DecisionTreeClassifier_ff652b312651, depth=9, numNodes=27, numClasses=2, numFeatures=1\n"
     ]
    },
    {
     "name": "stderr",
     "output_type": "stream",
     "text": [
      "                                                                                \r"
     ]
    },
    {
     "name": "stdout",
     "output_type": "stream",
     "text": [
      "model 1 build time 14.37 \n",
      " DecisionTreeClassificationModel: uid=DecisionTreeClassifier_21f4d824f982, depth=9, numNodes=27, numClasses=2, numFeatures=1\n"
     ]
    },
    {
     "name": "stderr",
     "output_type": "stream",
     "text": [
      "                                                                                \r"
     ]
    },
    {
     "name": "stdout",
     "output_type": "stream",
     "text": [
      "model 2 build time 13.63 \n",
      " DecisionTreeClassificationModel: uid=DecisionTreeClassifier_547d6bb8c358, depth=9, numNodes=27, numClasses=2, numFeatures=1\n",
      "======================================================================\n"
     ]
    },
    {
     "name": "stderr",
     "output_type": "stream",
     "text": [
      "                                                                                \r"
     ]
    },
    {
     "name": "stdout",
     "output_type": "stream",
     "text": [
      "=== size_mult=100;         n_part_req=2; n_part_act=2; df_count=25213700 ===\n",
      "\n"
     ]
    },
    {
     "name": "stderr",
     "output_type": "stream",
     "text": [
      "                                                                                \r"
     ]
    },
    {
     "name": "stdout",
     "output_type": "stream",
     "text": [
      "model 0 build time 98.14 \n",
      " DecisionTreeClassificationModel: uid=DecisionTreeClassifier_07b558e06e76, depth=13, numNodes=39, numClasses=2, numFeatures=1\n"
     ]
    },
    {
     "name": "stderr",
     "output_type": "stream",
     "text": [
      "                                                                                \r"
     ]
    },
    {
     "name": "stdout",
     "output_type": "stream",
     "text": [
      "model 1 build time 90.25 \n",
      " DecisionTreeClassificationModel: uid=DecisionTreeClassifier_d3b2b3611a9d, depth=13, numNodes=39, numClasses=2, numFeatures=1\n"
     ]
    },
    {
     "name": "stderr",
     "output_type": "stream",
     "text": [
      "                                                                                \r"
     ]
    },
    {
     "name": "stdout",
     "output_type": "stream",
     "text": [
      "model 2 build time 100.63 \n",
      " DecisionTreeClassificationModel: uid=DecisionTreeClassifier_110f4d482966, depth=13, numNodes=39, numClasses=2, numFeatures=1\n",
      "======================================================================\n"
     ]
    },
    {
     "name": "stderr",
     "output_type": "stream",
     "text": [
      "                                                                                \r"
     ]
    },
    {
     "name": "stdout",
     "output_type": "stream",
     "text": [
      "=== size_mult=100;         n_part_req=4; n_part_act=4; df_count=25213700 ===\n",
      "\n"
     ]
    },
    {
     "name": "stderr",
     "output_type": "stream",
     "text": [
      "                                                                                \r"
     ]
    },
    {
     "name": "stdout",
     "output_type": "stream",
     "text": [
      "model 0 build time 60.3 \n",
      " DecisionTreeClassificationModel: uid=DecisionTreeClassifier_17221af5aab9, depth=11, numNodes=33, numClasses=2, numFeatures=1\n"
     ]
    },
    {
     "name": "stderr",
     "output_type": "stream",
     "text": [
      "                                                                                \r"
     ]
    },
    {
     "name": "stdout",
     "output_type": "stream",
     "text": [
      "model 1 build time 51.16 \n",
      " DecisionTreeClassificationModel: uid=DecisionTreeClassifier_8bb8052879e4, depth=11, numNodes=33, numClasses=2, numFeatures=1\n"
     ]
    },
    {
     "name": "stderr",
     "output_type": "stream",
     "text": [
      "                                                                                \r"
     ]
    },
    {
     "name": "stdout",
     "output_type": "stream",
     "text": [
      "model 2 build time 58.93 \n",
      " DecisionTreeClassificationModel: uid=DecisionTreeClassifier_31d6a19fff5b, depth=11, numNodes=33, numClasses=2, numFeatures=1\n",
      "======================================================================\n"
     ]
    },
    {
     "name": "stderr",
     "output_type": "stream",
     "text": [
      "                                                                                \r"
     ]
    },
    {
     "name": "stdout",
     "output_type": "stream",
     "text": [
      "=== size_mult=100;         n_part_req=8; n_part_act=8; df_count=25213700 ===\n",
      "\n"
     ]
    },
    {
     "name": "stderr",
     "output_type": "stream",
     "text": [
      "                                                                                \r"
     ]
    },
    {
     "name": "stdout",
     "output_type": "stream",
     "text": [
      "model 0 build time 39.42 \n",
      " DecisionTreeClassificationModel: uid=DecisionTreeClassifier_50a4fb9b7f9b, depth=11, numNodes=45, numClasses=2, numFeatures=1\n"
     ]
    },
    {
     "name": "stderr",
     "output_type": "stream",
     "text": [
      "                                                                                \r"
     ]
    },
    {
     "name": "stdout",
     "output_type": "stream",
     "text": [
      "model 1 build time 31.07 \n",
      " DecisionTreeClassificationModel: uid=DecisionTreeClassifier_c748362b5726, depth=11, numNodes=45, numClasses=2, numFeatures=1\n"
     ]
    },
    {
     "name": "stderr",
     "output_type": "stream",
     "text": [
      "                                                                                \r"
     ]
    },
    {
     "name": "stdout",
     "output_type": "stream",
     "text": [
      "model 2 build time 39.34 \n",
      " DecisionTreeClassificationModel: uid=DecisionTreeClassifier_f52ae8e37684, depth=11, numNodes=45, numClasses=2, numFeatures=1\n",
      "======================================================================\n"
     ]
    },
    {
     "name": "stderr",
     "output_type": "stream",
     "text": [
      "                                                                                \r"
     ]
    },
    {
     "name": "stdout",
     "output_type": "stream",
     "text": [
      "=== size_mult=100;         n_part_req=16; n_part_act=16; df_count=25213700 ===\n",
      "\n"
     ]
    },
    {
     "name": "stderr",
     "output_type": "stream",
     "text": [
      "                                                                                \r"
     ]
    },
    {
     "name": "stdout",
     "output_type": "stream",
     "text": [
      "model 0 build time 26.26 \n",
      " DecisionTreeClassificationModel: uid=DecisionTreeClassifier_c286068bdebb, depth=12, numNodes=43, numClasses=2, numFeatures=1\n"
     ]
    },
    {
     "name": "stderr",
     "output_type": "stream",
     "text": [
      "                                                                                \r"
     ]
    },
    {
     "name": "stdout",
     "output_type": "stream",
     "text": [
      "model 1 build time 17.93 \n",
      " DecisionTreeClassificationModel: uid=DecisionTreeClassifier_8104b8bd2f1e, depth=12, numNodes=43, numClasses=2, numFeatures=1\n"
     ]
    },
    {
     "name": "stderr",
     "output_type": "stream",
     "text": [
      "                                                                                \r"
     ]
    },
    {
     "name": "stdout",
     "output_type": "stream",
     "text": [
      "model 2 build time 21.71 \n",
      " DecisionTreeClassificationModel: uid=DecisionTreeClassifier_a3e676d26e46, depth=12, numNodes=43, numClasses=2, numFeatures=1\n",
      "======================================================================\n"
     ]
    },
    {
     "name": "stderr",
     "output_type": "stream",
     "text": [
      "                                                                                \r"
     ]
    },
    {
     "name": "stdout",
     "output_type": "stream",
     "text": [
      "=== size_mult=100;         n_part_req=24; n_part_act=24; df_count=25213700 ===\n",
      "\n"
     ]
    },
    {
     "name": "stderr",
     "output_type": "stream",
     "text": [
      "                                                                                \r"
     ]
    },
    {
     "name": "stdout",
     "output_type": "stream",
     "text": [
      "model 0 build time 25.55 \n",
      " DecisionTreeClassificationModel: uid=DecisionTreeClassifier_7df6102373a6, depth=11, numNodes=43, numClasses=2, numFeatures=1\n"
     ]
    },
    {
     "name": "stderr",
     "output_type": "stream",
     "text": [
      "                                                                                \r"
     ]
    },
    {
     "name": "stdout",
     "output_type": "stream",
     "text": [
      "model 1 build time 22.32 \n",
      " DecisionTreeClassificationModel: uid=DecisionTreeClassifier_f391e6126ec4, depth=11, numNodes=43, numClasses=2, numFeatures=1\n"
     ]
    },
    {
     "name": "stderr",
     "output_type": "stream",
     "text": [
      "[Stage 7518:=============================================>        (20 + 4) / 24]\r"
     ]
    },
    {
     "name": "stdout",
     "output_type": "stream",
     "text": [
      "model 2 build time 22.54 \n",
      " DecisionTreeClassificationModel: uid=DecisionTreeClassifier_4dc2a955b56c, depth=11, numNodes=43, numClasses=2, numFeatures=1\n"
     ]
    },
    {
     "name": "stderr",
     "output_type": "stream",
     "text": [
      "\r",
      "[Stage 7519:==============================>                      (14 + 10) / 24]\r",
      "\r",
      "                                                                                \r"
     ]
    }
   ],
   "source": [
    "## !! mind the fn NOT TO rewrite results\n",
    "fn = '4cpu_by_8n__4m_yarn_ssd'\n",
    "size_mult = [1, 2, 5, 10, 15, 20, 30, 50, 100]\n",
    "partitions = [2, 4, 8, 16, 24] \n",
    "# initial, 2**i incl n_nodes till n_cpu*n_nodes and n_cpu*n_nodes\n",
    "n_iter = 3\n",
    "\n",
    "print('d1-size', d1.count())\n",
    "n_part_base = d1.rdd.getNumPartitions()\n",
    "print('n-partitions initial', n_part_base, '\\n')\n",
    "\n",
    "rd1 = {}\n",
    "for k_size_mult in size_mult:\n",
    "    rd2 = {}\n",
    "    for n_part in partitions:\n",
    "        df = prepare_spark_data(n_part, k_size_mult)\n",
    "        df.cache()\n",
    "        print('======================================================================')\n",
    "        print(f'=== size_mult={k_size_mult}; \\\n",
    "        n_part_req={n_part}; n_part_act={df.rdd.getNumPartitions()}; df_count={df.count()} ===\\n')\n",
    "        times = [0 for i in range(n_iter)]\n",
    "        models = {}\n",
    "        for i in range(n_iter):\n",
    "            dt = DTC_spark(labelCol=\"TARGET\",\n",
    "                       featuresCol=\"DAYS_EMPLOYED_vect\",\n",
    "                       minInfoGain=0.0001,\n",
    "                       impurity='entropy',\n",
    "                       maxDepth=14, maxBins=2**14, # it differs from scikit learn - it means number of canidate split points\n",
    "                       #minInstancesPerNode = 1,\n",
    "                       #checkpointInterval = 10\n",
    "                       )\n",
    "           \n",
    "            t0 = ttt()\n",
    "            model = dt.fit(df)\n",
    "            t1 = ttt()\n",
    "            times[i] = t1-t0\n",
    "            models[i] = model \n",
    "            print('model', i, 'build time', round(times[i],2), '\\n', model)\n",
    "        rd2[n_part] = (models, times)\n",
    "    rd1[k_size_mult] = rd2\n",
    "\n",
    "result = rd1  "
   ]
  },
  {
   "cell_type": "markdown",
   "id": "bb6b1aef",
   "metadata": {},
   "source": [
    "# Results"
   ]
  },
  {
   "cell_type": "code",
   "execution_count": null,
   "id": "91c2c809",
   "metadata": {
    "ExecuteTime": {
     "start_time": "2021-11-24T07:50:29.552Z"
    }
   },
   "outputs": [
    {
     "name": "stdout",
     "output_type": "stream",
     "text": [
      "0 ['DecisionTreeClassificationModel:', 'uid=DecisionTreeClassifier_4bf3e1464934,', 'depth=14,', 'numNodes=123,', 'numClasses=2,', 'numFeatures=1']\n",
      "1 ['DecisionTreeClassificationModel:', 'uid=DecisionTreeClassifier_787e14ea66a0,', 'depth=14,', 'numNodes=123,', 'numClasses=2,', 'numFeatures=1']\n",
      "2 ['DecisionTreeClassificationModel:', 'uid=DecisionTreeClassifier_2effd517921b,', 'depth=14,', 'numNodes=123,', 'numClasses=2,', 'numFeatures=1']\n",
      "0 ['DecisionTreeClassificationModel:', 'uid=DecisionTreeClassifier_418ed98697d0,', 'depth=14,', 'numNodes=123,', 'numClasses=2,', 'numFeatures=1']\n",
      "1 ['DecisionTreeClassificationModel:', 'uid=DecisionTreeClassifier_fdff04196ea3,', 'depth=14,', 'numNodes=123,', 'numClasses=2,', 'numFeatures=1']\n",
      "2 ['DecisionTreeClassificationModel:', 'uid=DecisionTreeClassifier_404d5c7810f2,', 'depth=14,', 'numNodes=123,', 'numClasses=2,', 'numFeatures=1']\n",
      "0 ['DecisionTreeClassificationModel:', 'uid=DecisionTreeClassifier_14f67b7fffd1,', 'depth=14,', 'numNodes=123,', 'numClasses=2,', 'numFeatures=1']\n",
      "1 ['DecisionTreeClassificationModel:', 'uid=DecisionTreeClassifier_a6efd50e1439,', 'depth=14,', 'numNodes=123,', 'numClasses=2,', 'numFeatures=1']\n",
      "2 ['DecisionTreeClassificationModel:', 'uid=DecisionTreeClassifier_38f9b2e6b28e,', 'depth=14,', 'numNodes=123,', 'numClasses=2,', 'numFeatures=1']\n",
      "0 ['DecisionTreeClassificationModel:', 'uid=DecisionTreeClassifier_c7535df25267,', 'depth=14,', 'numNodes=123,', 'numClasses=2,', 'numFeatures=1']\n",
      "1 ['DecisionTreeClassificationModel:', 'uid=DecisionTreeClassifier_2e56a9eee5fe,', 'depth=14,', 'numNodes=123,', 'numClasses=2,', 'numFeatures=1']\n",
      "2 ['DecisionTreeClassificationModel:', 'uid=DecisionTreeClassifier_9820d3f82633,', 'depth=14,', 'numNodes=123,', 'numClasses=2,', 'numFeatures=1']\n",
      "0 ['DecisionTreeClassificationModel:', 'uid=DecisionTreeClassifier_e1830d989c1a,', 'depth=14,', 'numNodes=123,', 'numClasses=2,', 'numFeatures=1']\n",
      "1 ['DecisionTreeClassificationModel:', 'uid=DecisionTreeClassifier_2022917dde3c,', 'depth=14,', 'numNodes=123,', 'numClasses=2,', 'numFeatures=1']\n",
      "2 ['DecisionTreeClassificationModel:', 'uid=DecisionTreeClassifier_02828fab0a66,', 'depth=14,', 'numNodes=123,', 'numClasses=2,', 'numFeatures=1']\n",
      "0 ['DecisionTreeClassificationModel:', 'uid=DecisionTreeClassifier_63e09be0257f,', 'depth=14,', 'numNodes=101,', 'numClasses=2,', 'numFeatures=1']\n",
      "1 ['DecisionTreeClassificationModel:', 'uid=DecisionTreeClassifier_8fa94c3f5b50,', 'depth=14,', 'numNodes=101,', 'numClasses=2,', 'numFeatures=1']\n",
      "2 ['DecisionTreeClassificationModel:', 'uid=DecisionTreeClassifier_aaab31aea6a6,', 'depth=14,', 'numNodes=101,', 'numClasses=2,', 'numFeatures=1']\n",
      "0 ['DecisionTreeClassificationModel:', 'uid=DecisionTreeClassifier_b267a9b234d4,', 'depth=14,', 'numNodes=131,', 'numClasses=2,', 'numFeatures=1']\n",
      "1 ['DecisionTreeClassificationModel:', 'uid=DecisionTreeClassifier_cc992bb52b54,', 'depth=14,', 'numNodes=131,', 'numClasses=2,', 'numFeatures=1']\n",
      "2 ['DecisionTreeClassificationModel:', 'uid=DecisionTreeClassifier_13935e30566d,', 'depth=14,', 'numNodes=131,', 'numClasses=2,', 'numFeatures=1']\n",
      "0 ['DecisionTreeClassificationModel:', 'uid=DecisionTreeClassifier_07c098395733,', 'depth=14,', 'numNodes=135,', 'numClasses=2,', 'numFeatures=1']\n",
      "1 ['DecisionTreeClassificationModel:', 'uid=DecisionTreeClassifier_22e0cb1ec189,', 'depth=14,', 'numNodes=135,', 'numClasses=2,', 'numFeatures=1']\n",
      "2 ['DecisionTreeClassificationModel:', 'uid=DecisionTreeClassifier_777cf6c97de7,', 'depth=14,', 'numNodes=135,', 'numClasses=2,', 'numFeatures=1']\n",
      "0 ['DecisionTreeClassificationModel:', 'uid=DecisionTreeClassifier_64cd18c7b5d6,', 'depth=14,', 'numNodes=151,', 'numClasses=2,', 'numFeatures=1']\n",
      "1 ['DecisionTreeClassificationModel:', 'uid=DecisionTreeClassifier_b0dae96f6998,', 'depth=14,', 'numNodes=151,', 'numClasses=2,', 'numFeatures=1']\n",
      "2 ['DecisionTreeClassificationModel:', 'uid=DecisionTreeClassifier_c05c8a4a1c59,', 'depth=14,', 'numNodes=151,', 'numClasses=2,', 'numFeatures=1']\n",
      "0 ['DecisionTreeClassificationModel:', 'uid=DecisionTreeClassifier_a0c20b6e3eaa,', 'depth=14,', 'numNodes=153,', 'numClasses=2,', 'numFeatures=1']\n",
      "1 ['DecisionTreeClassificationModel:', 'uid=DecisionTreeClassifier_9d6dbaa64a1a,', 'depth=14,', 'numNodes=153,', 'numClasses=2,', 'numFeatures=1']\n",
      "2 ['DecisionTreeClassificationModel:', 'uid=DecisionTreeClassifier_d2fe190fcb66,', 'depth=14,', 'numNodes=153,', 'numClasses=2,', 'numFeatures=1']\n",
      "0 ['DecisionTreeClassificationModel:', 'uid=DecisionTreeClassifier_4d753d1f4715,', 'depth=13,', 'numNodes=83,', 'numClasses=2,', 'numFeatures=1']\n",
      "1 ['DecisionTreeClassificationModel:', 'uid=DecisionTreeClassifier_84cff992bef8,', 'depth=13,', 'numNodes=83,', 'numClasses=2,', 'numFeatures=1']\n",
      "2 ['DecisionTreeClassificationModel:', 'uid=DecisionTreeClassifier_ded2b23a2890,', 'depth=13,', 'numNodes=83,', 'numClasses=2,', 'numFeatures=1']\n",
      "0 ['DecisionTreeClassificationModel:', 'uid=DecisionTreeClassifier_c58ee3fa52e6,', 'depth=14,', 'numNodes=113,', 'numClasses=2,', 'numFeatures=1']\n",
      "1 ['DecisionTreeClassificationModel:', 'uid=DecisionTreeClassifier_46d18dca79c7,', 'depth=14,', 'numNodes=113,', 'numClasses=2,', 'numFeatures=1']\n",
      "2 ['DecisionTreeClassificationModel:', 'uid=DecisionTreeClassifier_f5ac25390863,', 'depth=14,', 'numNodes=113,', 'numClasses=2,', 'numFeatures=1']\n",
      "0 ['DecisionTreeClassificationModel:', 'uid=DecisionTreeClassifier_298e2f027390,', 'depth=14,', 'numNodes=97,', 'numClasses=2,', 'numFeatures=1']\n",
      "1 ['DecisionTreeClassificationModel:', 'uid=DecisionTreeClassifier_9a12528481d9,', 'depth=14,', 'numNodes=97,', 'numClasses=2,', 'numFeatures=1']\n",
      "2 ['DecisionTreeClassificationModel:', 'uid=DecisionTreeClassifier_688ebe95891b,', 'depth=14,', 'numNodes=97,', 'numClasses=2,', 'numFeatures=1']\n",
      "0 ['DecisionTreeClassificationModel:', 'uid=DecisionTreeClassifier_d3060be27f84,', 'depth=14,', 'numNodes=109,', 'numClasses=2,', 'numFeatures=1']\n",
      "1 ['DecisionTreeClassificationModel:', 'uid=DecisionTreeClassifier_c6e01ad260e5,', 'depth=14,', 'numNodes=109,', 'numClasses=2,', 'numFeatures=1']\n",
      "2 ['DecisionTreeClassificationModel:', 'uid=DecisionTreeClassifier_e269644338f2,', 'depth=14,', 'numNodes=109,', 'numClasses=2,', 'numFeatures=1']\n",
      "0 ['DecisionTreeClassificationModel:', 'uid=DecisionTreeClassifier_2dbe0d5e1985,', 'depth=14,', 'numNodes=79,', 'numClasses=2,', 'numFeatures=1']\n",
      "1 ['DecisionTreeClassificationModel:', 'uid=DecisionTreeClassifier_660bde9e2232,', 'depth=14,', 'numNodes=79,', 'numClasses=2,', 'numFeatures=1']\n",
      "2 ['DecisionTreeClassificationModel:', 'uid=DecisionTreeClassifier_bfa8fe92483d,', 'depth=14,', 'numNodes=79,', 'numClasses=2,', 'numFeatures=1']\n",
      "0 ['DecisionTreeClassificationModel:', 'uid=DecisionTreeClassifier_f33261ccbfab,', 'depth=14,', 'numNodes=83,', 'numClasses=2,', 'numFeatures=1']\n",
      "1 ['DecisionTreeClassificationModel:', 'uid=DecisionTreeClassifier_68c85e4d45dd,', 'depth=14,', 'numNodes=83,', 'numClasses=2,', 'numFeatures=1']\n",
      "2 ['DecisionTreeClassificationModel:', 'uid=DecisionTreeClassifier_c0174bdb2baa,', 'depth=14,', 'numNodes=83,', 'numClasses=2,', 'numFeatures=1']\n",
      "0 ['DecisionTreeClassificationModel:', 'uid=DecisionTreeClassifier_9feeeb03b082,', 'depth=14,', 'numNodes=105,', 'numClasses=2,', 'numFeatures=1']\n",
      "1 ['DecisionTreeClassificationModel:', 'uid=DecisionTreeClassifier_9def17115b71,', 'depth=14,', 'numNodes=105,', 'numClasses=2,', 'numFeatures=1']\n",
      "2 ['DecisionTreeClassificationModel:', 'uid=DecisionTreeClassifier_fbd2de2897df,', 'depth=14,', 'numNodes=105,', 'numClasses=2,', 'numFeatures=1']\n",
      "0 ['DecisionTreeClassificationModel:', 'uid=DecisionTreeClassifier_83bbbb43d61b,', 'depth=14,', 'numNodes=81,', 'numClasses=2,', 'numFeatures=1']\n",
      "1 ['DecisionTreeClassificationModel:', 'uid=DecisionTreeClassifier_b5d9fe661ab6,', 'depth=14,', 'numNodes=81,', 'numClasses=2,', 'numFeatures=1']\n",
      "2 ['DecisionTreeClassificationModel:', 'uid=DecisionTreeClassifier_4a2651c2ca4e,', 'depth=14,', 'numNodes=81,', 'numClasses=2,', 'numFeatures=1']\n",
      "0 ['DecisionTreeClassificationModel:', 'uid=DecisionTreeClassifier_c23766f3ac74,', 'depth=14,', 'numNodes=71,', 'numClasses=2,', 'numFeatures=1']\n",
      "1 ['DecisionTreeClassificationModel:', 'uid=DecisionTreeClassifier_0505a7a382aa,', 'depth=14,', 'numNodes=71,', 'numClasses=2,', 'numFeatures=1']\n",
      "2 ['DecisionTreeClassificationModel:', 'uid=DecisionTreeClassifier_dbd2fcadd009,', 'depth=14,', 'numNodes=71,', 'numClasses=2,', 'numFeatures=1']\n",
      "0 ['DecisionTreeClassificationModel:', 'uid=DecisionTreeClassifier_cafe06028731,', 'depth=14,', 'numNodes=89,', 'numClasses=2,', 'numFeatures=1']\n",
      "1 ['DecisionTreeClassificationModel:', 'uid=DecisionTreeClassifier_395e381fb141,', 'depth=14,', 'numNodes=89,', 'numClasses=2,', 'numFeatures=1']\n",
      "2 ['DecisionTreeClassificationModel:', 'uid=DecisionTreeClassifier_3ad093aa3032,', 'depth=14,', 'numNodes=89,', 'numClasses=2,', 'numFeatures=1']\n",
      "0 ['DecisionTreeClassificationModel:', 'uid=DecisionTreeClassifier_572876ae82c7,', 'depth=14,', 'numNodes=51,', 'numClasses=2,', 'numFeatures=1']\n",
      "1 ['DecisionTreeClassificationModel:', 'uid=DecisionTreeClassifier_22bddcd04e13,', 'depth=14,', 'numNodes=51,', 'numClasses=2,', 'numFeatures=1']\n",
      "2 ['DecisionTreeClassificationModel:', 'uid=DecisionTreeClassifier_3a77878c7976,', 'depth=14,', 'numNodes=51,', 'numClasses=2,', 'numFeatures=1']\n",
      "0 ['DecisionTreeClassificationModel:', 'uid=DecisionTreeClassifier_f3b91e71b7ec,', 'depth=13,', 'numNodes=63,', 'numClasses=2,', 'numFeatures=1']\n",
      "1 ['DecisionTreeClassificationModel:', 'uid=DecisionTreeClassifier_421d8c587516,', 'depth=13,', 'numNodes=63,', 'numClasses=2,', 'numFeatures=1']\n",
      "2 ['DecisionTreeClassificationModel:', 'uid=DecisionTreeClassifier_8fbfb9d03a3a,', 'depth=13,', 'numNodes=63,', 'numClasses=2,', 'numFeatures=1']\n",
      "0 ['DecisionTreeClassificationModel:', 'uid=DecisionTreeClassifier_6899723e9a53,', 'depth=14,', 'numNodes=59,', 'numClasses=2,', 'numFeatures=1']\n",
      "1 ['DecisionTreeClassificationModel:', 'uid=DecisionTreeClassifier_eac9a332671e,', 'depth=14,', 'numNodes=59,', 'numClasses=2,', 'numFeatures=1']\n",
      "2 ['DecisionTreeClassificationModel:', 'uid=DecisionTreeClassifier_b4f11a8b16a4,', 'depth=14,', 'numNodes=59,', 'numClasses=2,', 'numFeatures=1']\n",
      "0 ['DecisionTreeClassificationModel:', 'uid=DecisionTreeClassifier_0443ae4bd68a,', 'depth=14,', 'numNodes=59,', 'numClasses=2,', 'numFeatures=1']\n",
      "1 ['DecisionTreeClassificationModel:', 'uid=DecisionTreeClassifier_53a3c8e83007,', 'depth=14,', 'numNodes=59,', 'numClasses=2,', 'numFeatures=1']\n",
      "2 ['DecisionTreeClassificationModel:', 'uid=DecisionTreeClassifier_59d1d542b65a,', 'depth=14,', 'numNodes=59,', 'numClasses=2,', 'numFeatures=1']\n",
      "0 ['DecisionTreeClassificationModel:', 'uid=DecisionTreeClassifier_1a22a356eea2,', 'depth=14,', 'numNodes=79,', 'numClasses=2,', 'numFeatures=1']\n",
      "1 ['DecisionTreeClassificationModel:', 'uid=DecisionTreeClassifier_a627509ed52c,', 'depth=14,', 'numNodes=79,', 'numClasses=2,', 'numFeatures=1']\n",
      "2 ['DecisionTreeClassificationModel:', 'uid=DecisionTreeClassifier_4b5062442cd4,', 'depth=14,', 'numNodes=79,', 'numClasses=2,', 'numFeatures=1']\n",
      "0 ['DecisionTreeClassificationModel:', 'uid=DecisionTreeClassifier_e7147ef8b5c0,', 'depth=14,', 'numNodes=63,', 'numClasses=2,', 'numFeatures=1']\n",
      "1 ['DecisionTreeClassificationModel:', 'uid=DecisionTreeClassifier_ab87a757624d,', 'depth=14,', 'numNodes=63,', 'numClasses=2,', 'numFeatures=1']\n",
      "2 ['DecisionTreeClassificationModel:', 'uid=DecisionTreeClassifier_3096f4e8792e,', 'depth=14,', 'numNodes=63,', 'numClasses=2,', 'numFeatures=1']\n",
      "0 ['DecisionTreeClassificationModel:', 'uid=DecisionTreeClassifier_748592311af3,', 'depth=14,', 'numNodes=57,', 'numClasses=2,', 'numFeatures=1']\n",
      "1 ['DecisionTreeClassificationModel:', 'uid=DecisionTreeClassifier_74de7c001f4c,', 'depth=14,', 'numNodes=57,', 'numClasses=2,', 'numFeatures=1']\n",
      "2 ['DecisionTreeClassificationModel:', 'uid=DecisionTreeClassifier_402cf1701b5b,', 'depth=14,', 'numNodes=57,', 'numClasses=2,', 'numFeatures=1']\n",
      "0 ['DecisionTreeClassificationModel:', 'uid=DecisionTreeClassifier_90a397361ce1,', 'depth=14,', 'numNodes=57,', 'numClasses=2,', 'numFeatures=1']\n",
      "1 ['DecisionTreeClassificationModel:', 'uid=DecisionTreeClassifier_61fce01e9ab8,', 'depth=14,', 'numNodes=57,', 'numClasses=2,', 'numFeatures=1']\n",
      "2 ['DecisionTreeClassificationModel:', 'uid=DecisionTreeClassifier_aa49368bbe92,', 'depth=14,', 'numNodes=57,', 'numClasses=2,', 'numFeatures=1']\n",
      "0 ['DecisionTreeClassificationModel:', 'uid=DecisionTreeClassifier_3c3a6b96eecb,', 'depth=10,', 'numNodes=31,', 'numClasses=2,', 'numFeatures=1']\n",
      "1 ['DecisionTreeClassificationModel:', 'uid=DecisionTreeClassifier_62a6b7bfcc61,', 'depth=10,', 'numNodes=31,', 'numClasses=2,', 'numFeatures=1']\n",
      "2 ['DecisionTreeClassificationModel:', 'uid=DecisionTreeClassifier_40619115ccf2,', 'depth=10,', 'numNodes=31,', 'numClasses=2,', 'numFeatures=1']\n",
      "0 ['DecisionTreeClassificationModel:', 'uid=DecisionTreeClassifier_1a35abd6be34,', 'depth=12,', 'numNodes=59,', 'numClasses=2,', 'numFeatures=1']\n",
      "1 ['DecisionTreeClassificationModel:', 'uid=DecisionTreeClassifier_de6071d2a05b,', 'depth=12,', 'numNodes=59,', 'numClasses=2,', 'numFeatures=1']\n",
      "2 ['DecisionTreeClassificationModel:', 'uid=DecisionTreeClassifier_d98f5b0bfefe,', 'depth=12,', 'numNodes=59,', 'numClasses=2,', 'numFeatures=1']\n",
      "0 ['DecisionTreeClassificationModel:', 'uid=DecisionTreeClassifier_1aa83c5bf11e,', 'depth=11,', 'numNodes=41,', 'numClasses=2,', 'numFeatures=1']\n",
      "1 ['DecisionTreeClassificationModel:', 'uid=DecisionTreeClassifier_7dd9523c30d4,', 'depth=11,', 'numNodes=41,', 'numClasses=2,', 'numFeatures=1']\n",
      "2 ['DecisionTreeClassificationModel:', 'uid=DecisionTreeClassifier_daa9bd9a123e,', 'depth=11,', 'numNodes=41,', 'numClasses=2,', 'numFeatures=1']\n",
      "0 ['DecisionTreeClassificationModel:', 'uid=DecisionTreeClassifier_aa76bd0dfe89,', 'depth=14,', 'numNodes=43,', 'numClasses=2,', 'numFeatures=1']\n",
      "1 ['DecisionTreeClassificationModel:', 'uid=DecisionTreeClassifier_9381445148c7,', 'depth=14,', 'numNodes=43,', 'numClasses=2,', 'numFeatures=1']\n",
      "2 ['DecisionTreeClassificationModel:', 'uid=DecisionTreeClassifier_cbc378824abd,', 'depth=14,', 'numNodes=43,', 'numClasses=2,', 'numFeatures=1']\n",
      "0 ['DecisionTreeClassificationModel:', 'uid=DecisionTreeClassifier_eba1daf1895c,', 'depth=12,', 'numNodes=55,', 'numClasses=2,', 'numFeatures=1']\n",
      "1 ['DecisionTreeClassificationModel:', 'uid=DecisionTreeClassifier_63d997ff0729,', 'depth=12,', 'numNodes=55,', 'numClasses=2,', 'numFeatures=1']\n",
      "2 ['DecisionTreeClassificationModel:', 'uid=DecisionTreeClassifier_00925a82be39,', 'depth=12,', 'numNodes=55,', 'numClasses=2,', 'numFeatures=1']\n",
      "0 ['DecisionTreeClassificationModel:', 'uid=DecisionTreeClassifier_69d032681349,', 'depth=10,', 'numNodes=43,', 'numClasses=2,', 'numFeatures=1']\n",
      "1 ['DecisionTreeClassificationModel:', 'uid=DecisionTreeClassifier_1b5697ce2c9d,', 'depth=10,', 'numNodes=43,', 'numClasses=2,', 'numFeatures=1']\n",
      "2 ['DecisionTreeClassificationModel:', 'uid=DecisionTreeClassifier_65a28dabb65a,', 'depth=10,', 'numNodes=43,', 'numClasses=2,', 'numFeatures=1']\n",
      "0 ['DecisionTreeClassificationModel:', 'uid=DecisionTreeClassifier_6b0e2b4586cc,', 'depth=10,', 'numNodes=31,', 'numClasses=2,', 'numFeatures=1']\n",
      "1 ['DecisionTreeClassificationModel:', 'uid=DecisionTreeClassifier_6a37f411bd6a,', 'depth=10,', 'numNodes=31,', 'numClasses=2,', 'numFeatures=1']\n",
      "2 ['DecisionTreeClassificationModel:', 'uid=DecisionTreeClassifier_83f51cc8a687,', 'depth=10,', 'numNodes=31,', 'numClasses=2,', 'numFeatures=1']\n",
      "0 ['DecisionTreeClassificationModel:', 'uid=DecisionTreeClassifier_f8fd20cd03d7,', 'depth=12,', 'numNodes=41,', 'numClasses=2,', 'numFeatures=1']\n",
      "1 ['DecisionTreeClassificationModel:', 'uid=DecisionTreeClassifier_b1ddde1e51fe,', 'depth=12,', 'numNodes=41,', 'numClasses=2,', 'numFeatures=1']\n",
      "2 ['DecisionTreeClassificationModel:', 'uid=DecisionTreeClassifier_4f8cd2cca779,', 'depth=12,', 'numNodes=41,', 'numClasses=2,', 'numFeatures=1']\n",
      "0 ['DecisionTreeClassificationModel:', 'uid=DecisionTreeClassifier_18cd83c098b6,', 'depth=10,', 'numNodes=39,', 'numClasses=2,', 'numFeatures=1']\n",
      "1 ['DecisionTreeClassificationModel:', 'uid=DecisionTreeClassifier_ddedffa8e73b,', 'depth=10,', 'numNodes=39,', 'numClasses=2,', 'numFeatures=1']\n",
      "2 ['DecisionTreeClassificationModel:', 'uid=DecisionTreeClassifier_4c061091e2d7,', 'depth=10,', 'numNodes=39,', 'numClasses=2,', 'numFeatures=1']\n",
      "0 ['DecisionTreeClassificationModel:', 'uid=DecisionTreeClassifier_890fdaf07ed7,', 'depth=13,', 'numNodes=45,', 'numClasses=2,', 'numFeatures=1']\n",
      "1 ['DecisionTreeClassificationModel:', 'uid=DecisionTreeClassifier_4df7db879129,', 'depth=13,', 'numNodes=45,', 'numClasses=2,', 'numFeatures=1']\n",
      "2 ['DecisionTreeClassificationModel:', 'uid=DecisionTreeClassifier_55d700bc797a,', 'depth=13,', 'numNodes=45,', 'numClasses=2,', 'numFeatures=1']\n",
      "0 ['DecisionTreeClassificationModel:', 'uid=DecisionTreeClassifier_fb9416989745,', 'depth=12,', 'numNodes=35,', 'numClasses=2,', 'numFeatures=1']\n",
      "1 ['DecisionTreeClassificationModel:', 'uid=DecisionTreeClassifier_f745613ae4f7,', 'depth=12,', 'numNodes=35,', 'numClasses=2,', 'numFeatures=1']\n",
      "2 ['DecisionTreeClassificationModel:', 'uid=DecisionTreeClassifier_771da83bb8f5,', 'depth=12,', 'numNodes=35,', 'numClasses=2,', 'numFeatures=1']\n",
      "0 ['DecisionTreeClassificationModel:', 'uid=DecisionTreeClassifier_ff652b312651,', 'depth=9,', 'numNodes=27,', 'numClasses=2,', 'numFeatures=1']\n",
      "1 ['DecisionTreeClassificationModel:', 'uid=DecisionTreeClassifier_21f4d824f982,', 'depth=9,', 'numNodes=27,', 'numClasses=2,', 'numFeatures=1']\n",
      "2 ['DecisionTreeClassificationModel:', 'uid=DecisionTreeClassifier_547d6bb8c358,', 'depth=9,', 'numNodes=27,', 'numClasses=2,', 'numFeatures=1']\n",
      "0 ['DecisionTreeClassificationModel:', 'uid=DecisionTreeClassifier_07b558e06e76,', 'depth=13,', 'numNodes=39,', 'numClasses=2,', 'numFeatures=1']\n",
      "1 ['DecisionTreeClassificationModel:', 'uid=DecisionTreeClassifier_d3b2b3611a9d,', 'depth=13,', 'numNodes=39,', 'numClasses=2,', 'numFeatures=1']\n",
      "2 ['DecisionTreeClassificationModel:', 'uid=DecisionTreeClassifier_110f4d482966,', 'depth=13,', 'numNodes=39,', 'numClasses=2,', 'numFeatures=1']\n",
      "0 ['DecisionTreeClassificationModel:', 'uid=DecisionTreeClassifier_17221af5aab9,', 'depth=11,', 'numNodes=33,', 'numClasses=2,', 'numFeatures=1']\n",
      "1 ['DecisionTreeClassificationModel:', 'uid=DecisionTreeClassifier_8bb8052879e4,', 'depth=11,', 'numNodes=33,', 'numClasses=2,', 'numFeatures=1']\n",
      "2 ['DecisionTreeClassificationModel:', 'uid=DecisionTreeClassifier_31d6a19fff5b,', 'depth=11,', 'numNodes=33,', 'numClasses=2,', 'numFeatures=1']\n",
      "0 ['DecisionTreeClassificationModel:', 'uid=DecisionTreeClassifier_50a4fb9b7f9b,', 'depth=11,', 'numNodes=45,', 'numClasses=2,', 'numFeatures=1']\n",
      "1 ['DecisionTreeClassificationModel:', 'uid=DecisionTreeClassifier_c748362b5726,', 'depth=11,', 'numNodes=45,', 'numClasses=2,', 'numFeatures=1']\n",
      "2 ['DecisionTreeClassificationModel:', 'uid=DecisionTreeClassifier_f52ae8e37684,', 'depth=11,', 'numNodes=45,', 'numClasses=2,', 'numFeatures=1']\n",
      "0 ['DecisionTreeClassificationModel:', 'uid=DecisionTreeClassifier_c286068bdebb,', 'depth=12,', 'numNodes=43,', 'numClasses=2,', 'numFeatures=1']\n",
      "1 ['DecisionTreeClassificationModel:', 'uid=DecisionTreeClassifier_8104b8bd2f1e,', 'depth=12,', 'numNodes=43,', 'numClasses=2,', 'numFeatures=1']\n",
      "2 ['DecisionTreeClassificationModel:', 'uid=DecisionTreeClassifier_a3e676d26e46,', 'depth=12,', 'numNodes=43,', 'numClasses=2,', 'numFeatures=1']\n",
      "0 ['DecisionTreeClassificationModel:', 'uid=DecisionTreeClassifier_7df6102373a6,', 'depth=11,', 'numNodes=43,', 'numClasses=2,', 'numFeatures=1']\n",
      "1 ['DecisionTreeClassificationModel:', 'uid=DecisionTreeClassifier_f391e6126ec4,', 'depth=11,', 'numNodes=43,', 'numClasses=2,', 'numFeatures=1']\n",
      "2 ['DecisionTreeClassificationModel:', 'uid=DecisionTreeClassifier_4dc2a955b56c,', 'depth=11,', 'numNodes=43,', 'numClasses=2,', 'numFeatures=1']\n"
     ]
    },
    {
     "data": {
      "text/html": [
       "<div>\n",
       "<style scoped>\n",
       "    .dataframe tbody tr th:only-of-type {\n",
       "        vertical-align: middle;\n",
       "    }\n",
       "\n",
       "    .dataframe tbody tr th {\n",
       "        vertical-align: top;\n",
       "    }\n",
       "\n",
       "    .dataframe thead th {\n",
       "        text-align: right;\n",
       "    }\n",
       "</style>\n",
       "<table border=\"1\" class=\"dataframe\">\n",
       "  <thead>\n",
       "    <tr style=\"text-align: right;\">\n",
       "      <th></th>\n",
       "      <th>2</th>\n",
       "      <th>4</th>\n",
       "      <th>8</th>\n",
       "      <th>16</th>\n",
       "      <th>24</th>\n",
       "    </tr>\n",
       "  </thead>\n",
       "  <tbody>\n",
       "    <tr>\n",
       "      <th>1</th>\n",
       "      <td>7.5</td>\n",
       "      <td>8.3</td>\n",
       "      <td>10.6</td>\n",
       "      <td>15.1</td>\n",
       "      <td>16.9</td>\n",
       "    </tr>\n",
       "    <tr>\n",
       "      <th>2</th>\n",
       "      <td>10.6</td>\n",
       "      <td>7.3</td>\n",
       "      <td>6.3</td>\n",
       "      <td>8.8</td>\n",
       "      <td>10.7</td>\n",
       "    </tr>\n",
       "    <tr>\n",
       "      <th>5</th>\n",
       "      <td>12.7</td>\n",
       "      <td>10.3</td>\n",
       "      <td>9.9</td>\n",
       "      <td>24.5</td>\n",
       "      <td>10.2</td>\n",
       "    </tr>\n",
       "    <tr>\n",
       "      <th>10</th>\n",
       "      <td>17.5</td>\n",
       "      <td>13.5</td>\n",
       "      <td>9.8</td>\n",
       "      <td>7.2</td>\n",
       "      <td>8.1</td>\n",
       "    </tr>\n",
       "    <tr>\n",
       "      <th>15</th>\n",
       "      <td>23.5</td>\n",
       "      <td>15.7</td>\n",
       "      <td>10.5</td>\n",
       "      <td>7.4</td>\n",
       "      <td>9.0</td>\n",
       "    </tr>\n",
       "    <tr>\n",
       "      <th>20</th>\n",
       "      <td>30.8</td>\n",
       "      <td>16.8</td>\n",
       "      <td>11.7</td>\n",
       "      <td>8.6</td>\n",
       "      <td>10.1</td>\n",
       "    </tr>\n",
       "    <tr>\n",
       "      <th>30</th>\n",
       "      <td>38.6</td>\n",
       "      <td>21.8</td>\n",
       "      <td>14.6</td>\n",
       "      <td>9.7</td>\n",
       "      <td>11.6</td>\n",
       "    </tr>\n",
       "    <tr>\n",
       "      <th>50</th>\n",
       "      <td>53.5</td>\n",
       "      <td>33.7</td>\n",
       "      <td>20.8</td>\n",
       "      <td>13.9</td>\n",
       "      <td>14.4</td>\n",
       "    </tr>\n",
       "    <tr>\n",
       "      <th>100</th>\n",
       "      <td>98.1</td>\n",
       "      <td>58.9</td>\n",
       "      <td>39.3</td>\n",
       "      <td>21.7</td>\n",
       "      <td>22.5</td>\n",
       "    </tr>\n",
       "  </tbody>\n",
       "</table>\n",
       "</div>"
      ],
      "text/plain": [
       "       2     4     8     16    24\n",
       "1     7.5   8.3  10.6  15.1  16.9\n",
       "2    10.6   7.3   6.3   8.8  10.7\n",
       "5    12.7  10.3   9.9  24.5  10.2\n",
       "10   17.5  13.5   9.8   7.2   8.1\n",
       "15   23.5  15.7  10.5   7.4   9.0\n",
       "20   30.8  16.8  11.7   8.6  10.1\n",
       "30   38.6  21.8  14.6   9.7  11.6\n",
       "50   53.5  33.7  20.8  13.9  14.4\n",
       "100  98.1  58.9  39.3  21.7  22.5"
      ]
     },
     "metadata": {},
     "output_type": "display_data"
    },
    {
     "data": {
      "text/html": [
       "<div>\n",
       "<style scoped>\n",
       "    .dataframe tbody tr th:only-of-type {\n",
       "        vertical-align: middle;\n",
       "    }\n",
       "\n",
       "    .dataframe tbody tr th {\n",
       "        vertical-align: top;\n",
       "    }\n",
       "\n",
       "    .dataframe thead th {\n",
       "        text-align: right;\n",
       "    }\n",
       "</style>\n",
       "<table border=\"1\" class=\"dataframe\">\n",
       "  <thead>\n",
       "    <tr style=\"text-align: right;\">\n",
       "      <th></th>\n",
       "      <th>2</th>\n",
       "      <th>4</th>\n",
       "      <th>8</th>\n",
       "      <th>16</th>\n",
       "      <th>24</th>\n",
       "    </tr>\n",
       "  </thead>\n",
       "  <tbody>\n",
       "    <tr>\n",
       "      <th>1</th>\n",
       "      <td>123.0</td>\n",
       "      <td>123.0</td>\n",
       "      <td>123.0</td>\n",
       "      <td>123.0</td>\n",
       "      <td>123.0</td>\n",
       "    </tr>\n",
       "    <tr>\n",
       "      <th>2</th>\n",
       "      <td>101.0</td>\n",
       "      <td>131.0</td>\n",
       "      <td>135.0</td>\n",
       "      <td>151.0</td>\n",
       "      <td>153.0</td>\n",
       "    </tr>\n",
       "    <tr>\n",
       "      <th>5</th>\n",
       "      <td>83.0</td>\n",
       "      <td>113.0</td>\n",
       "      <td>97.0</td>\n",
       "      <td>109.0</td>\n",
       "      <td>79.0</td>\n",
       "    </tr>\n",
       "    <tr>\n",
       "      <th>10</th>\n",
       "      <td>83.0</td>\n",
       "      <td>105.0</td>\n",
       "      <td>81.0</td>\n",
       "      <td>71.0</td>\n",
       "      <td>89.0</td>\n",
       "    </tr>\n",
       "    <tr>\n",
       "      <th>15</th>\n",
       "      <td>51.0</td>\n",
       "      <td>63.0</td>\n",
       "      <td>59.0</td>\n",
       "      <td>59.0</td>\n",
       "      <td>79.0</td>\n",
       "    </tr>\n",
       "    <tr>\n",
       "      <th>20</th>\n",
       "      <td>63.0</td>\n",
       "      <td>57.0</td>\n",
       "      <td>57.0</td>\n",
       "      <td>31.0</td>\n",
       "      <td>59.0</td>\n",
       "    </tr>\n",
       "    <tr>\n",
       "      <th>30</th>\n",
       "      <td>41.0</td>\n",
       "      <td>43.0</td>\n",
       "      <td>55.0</td>\n",
       "      <td>43.0</td>\n",
       "      <td>31.0</td>\n",
       "    </tr>\n",
       "    <tr>\n",
       "      <th>50</th>\n",
       "      <td>41.0</td>\n",
       "      <td>39.0</td>\n",
       "      <td>45.0</td>\n",
       "      <td>35.0</td>\n",
       "      <td>27.0</td>\n",
       "    </tr>\n",
       "    <tr>\n",
       "      <th>100</th>\n",
       "      <td>39.0</td>\n",
       "      <td>33.0</td>\n",
       "      <td>45.0</td>\n",
       "      <td>43.0</td>\n",
       "      <td>43.0</td>\n",
       "    </tr>\n",
       "  </tbody>\n",
       "</table>\n",
       "</div>"
      ],
      "text/plain": [
       "        2      4      8      16     24\n",
       "1    123.0  123.0  123.0  123.0  123.0\n",
       "2    101.0  131.0  135.0  151.0  153.0\n",
       "5     83.0  113.0   97.0  109.0   79.0\n",
       "10    83.0  105.0   81.0   71.0   89.0\n",
       "15    51.0   63.0   59.0   59.0   79.0\n",
       "20    63.0   57.0   57.0   31.0   59.0\n",
       "30    41.0   43.0   55.0   43.0   31.0\n",
       "50    41.0   39.0   45.0   35.0   27.0\n",
       "100   39.0   33.0   45.0   43.0   43.0"
      ]
     },
     "metadata": {},
     "output_type": "display_data"
    }
   ],
   "source": [
    "di = result\n",
    "df_res_time = pd.DataFrame()\n",
    "df_res_nodes = pd.DataFrame()\n",
    "for p1 in di.keys():\n",
    "    for p2 in di[p1].keys():\n",
    "        df_res_time.loc[p1, p2] = np.round(np.median(di[p1][p2][1]), 1)\n",
    "        m_tmp = di[p1][p2][0]\n",
    "        n_nodes = []\n",
    "        for i,_ in enumerate(m_tmp):\n",
    "            tmp = f'{m_tmp[i]}'.split(' ')\n",
    "            print(i, tmp)\n",
    "            n_nodes.append([int(x.split('=')[1][:-1]) for x in tmp if x[:4]== 'numN'][0])\n",
    "        df_res_nodes.loc[p1, p2] = np.round(np.mean(n_nodes), 1)\n",
    "\n",
    "df_res_time.to_csv(f'gs://mas-a5-storage-1/notebooks/jupyter/obj/{fn}_t.csv')\n",
    "df_res_nodes.to_csv(f'gs://mas-a5-storage-1/notebooks/jupyter/obj/{fn}_n.csv')\n",
    "\n",
    "display(df_res_time)      \n",
    "display(df_res_nodes)     "
   ]
  },
  {
   "cell_type": "code",
   "execution_count": 7,
   "id": "9a7dc76e",
   "metadata": {
    "ExecuteTime": {
     "end_time": "2021-11-24T08:51:29.869564Z",
     "start_time": "2021-11-24T08:51:29.768983Z"
    }
   },
   "outputs": [
    {
     "name": "stdout",
     "output_type": "stream",
     "text": [
      "4cpu_by_8n__4m_yarn_ssd\n"
     ]
    },
    {
     "data": {
      "text/html": [
       "<div>\n",
       "<style scoped>\n",
       "    .dataframe tbody tr th:only-of-type {\n",
       "        vertical-align: middle;\n",
       "    }\n",
       "\n",
       "    .dataframe tbody tr th {\n",
       "        vertical-align: top;\n",
       "    }\n",
       "\n",
       "    .dataframe thead th {\n",
       "        text-align: right;\n",
       "    }\n",
       "</style>\n",
       "<table border=\"1\" class=\"dataframe\">\n",
       "  <thead>\n",
       "    <tr style=\"text-align: right;\">\n",
       "      <th></th>\n",
       "      <th>Unnamed: 0</th>\n",
       "      <th>2</th>\n",
       "      <th>4</th>\n",
       "      <th>8</th>\n",
       "      <th>16</th>\n",
       "      <th>24</th>\n",
       "    </tr>\n",
       "  </thead>\n",
       "  <tbody>\n",
       "    <tr>\n",
       "      <th>0</th>\n",
       "      <td>1</td>\n",
       "      <td>7.5</td>\n",
       "      <td>8.3</td>\n",
       "      <td>10.6</td>\n",
       "      <td>15.1</td>\n",
       "      <td>16.9</td>\n",
       "    </tr>\n",
       "    <tr>\n",
       "      <th>1</th>\n",
       "      <td>2</td>\n",
       "      <td>10.6</td>\n",
       "      <td>7.3</td>\n",
       "      <td>6.3</td>\n",
       "      <td>8.8</td>\n",
       "      <td>10.7</td>\n",
       "    </tr>\n",
       "    <tr>\n",
       "      <th>2</th>\n",
       "      <td>5</td>\n",
       "      <td>12.7</td>\n",
       "      <td>10.3</td>\n",
       "      <td>9.9</td>\n",
       "      <td>24.5</td>\n",
       "      <td>10.2</td>\n",
       "    </tr>\n",
       "    <tr>\n",
       "      <th>3</th>\n",
       "      <td>10</td>\n",
       "      <td>17.5</td>\n",
       "      <td>13.5</td>\n",
       "      <td>9.8</td>\n",
       "      <td>7.2</td>\n",
       "      <td>8.1</td>\n",
       "    </tr>\n",
       "    <tr>\n",
       "      <th>4</th>\n",
       "      <td>15</td>\n",
       "      <td>23.5</td>\n",
       "      <td>15.7</td>\n",
       "      <td>10.5</td>\n",
       "      <td>7.4</td>\n",
       "      <td>9.0</td>\n",
       "    </tr>\n",
       "    <tr>\n",
       "      <th>5</th>\n",
       "      <td>20</td>\n",
       "      <td>30.8</td>\n",
       "      <td>16.8</td>\n",
       "      <td>11.7</td>\n",
       "      <td>8.6</td>\n",
       "      <td>10.1</td>\n",
       "    </tr>\n",
       "    <tr>\n",
       "      <th>6</th>\n",
       "      <td>30</td>\n",
       "      <td>38.6</td>\n",
       "      <td>21.8</td>\n",
       "      <td>14.6</td>\n",
       "      <td>9.7</td>\n",
       "      <td>11.6</td>\n",
       "    </tr>\n",
       "    <tr>\n",
       "      <th>7</th>\n",
       "      <td>50</td>\n",
       "      <td>53.5</td>\n",
       "      <td>33.7</td>\n",
       "      <td>20.8</td>\n",
       "      <td>13.9</td>\n",
       "      <td>14.4</td>\n",
       "    </tr>\n",
       "    <tr>\n",
       "      <th>8</th>\n",
       "      <td>100</td>\n",
       "      <td>98.1</td>\n",
       "      <td>58.9</td>\n",
       "      <td>39.3</td>\n",
       "      <td>21.7</td>\n",
       "      <td>22.5</td>\n",
       "    </tr>\n",
       "  </tbody>\n",
       "</table>\n",
       "</div>"
      ],
      "text/plain": [
       "   Unnamed: 0     2     4     8    16    24\n",
       "0           1   7.5   8.3  10.6  15.1  16.9\n",
       "1           2  10.6   7.3   6.3   8.8  10.7\n",
       "2           5  12.7  10.3   9.9  24.5  10.2\n",
       "3          10  17.5  13.5   9.8   7.2   8.1\n",
       "4          15  23.5  15.7  10.5   7.4   9.0\n",
       "5          20  30.8  16.8  11.7   8.6  10.1\n",
       "6          30  38.6  21.8  14.6   9.7  11.6\n",
       "7          50  53.5  33.7  20.8  13.9  14.4\n",
       "8         100  98.1  58.9  39.3  21.7  22.5"
      ]
     },
     "execution_count": 7,
     "metadata": {},
     "output_type": "execute_result"
    }
   ],
   "source": [
    "#fn = '4cpu_by_8n__4m_yarn_ssd'\n",
    "tmp = pd.read_csv(f'gs://mas-a5-storage-1/notebooks/jupyter/obj/{fn}_t.csv')\n",
    "print(fn)\n",
    "tmp"
   ]
  },
  {
   "cell_type": "code",
   "execution_count": 8,
   "id": "cf3dc9e9",
   "metadata": {
    "ExecuteTime": {
     "end_time": "2021-11-24T08:51:33.055653Z",
     "start_time": "2021-11-24T08:51:32.997436Z"
    }
   },
   "outputs": [
    {
     "name": "stdout",
     "output_type": "stream",
     "text": [
      "4cpu_by_8n__4m_yarn_ssd\n"
     ]
    },
    {
     "data": {
      "text/html": [
       "<div>\n",
       "<style scoped>\n",
       "    .dataframe tbody tr th:only-of-type {\n",
       "        vertical-align: middle;\n",
       "    }\n",
       "\n",
       "    .dataframe tbody tr th {\n",
       "        vertical-align: top;\n",
       "    }\n",
       "\n",
       "    .dataframe thead th {\n",
       "        text-align: right;\n",
       "    }\n",
       "</style>\n",
       "<table border=\"1\" class=\"dataframe\">\n",
       "  <thead>\n",
       "    <tr style=\"text-align: right;\">\n",
       "      <th></th>\n",
       "      <th>Unnamed: 0</th>\n",
       "      <th>2</th>\n",
       "      <th>4</th>\n",
       "      <th>8</th>\n",
       "      <th>16</th>\n",
       "      <th>24</th>\n",
       "    </tr>\n",
       "  </thead>\n",
       "  <tbody>\n",
       "    <tr>\n",
       "      <th>0</th>\n",
       "      <td>1</td>\n",
       "      <td>123.0</td>\n",
       "      <td>123.0</td>\n",
       "      <td>123.0</td>\n",
       "      <td>123.0</td>\n",
       "      <td>123.0</td>\n",
       "    </tr>\n",
       "    <tr>\n",
       "      <th>1</th>\n",
       "      <td>2</td>\n",
       "      <td>101.0</td>\n",
       "      <td>131.0</td>\n",
       "      <td>135.0</td>\n",
       "      <td>151.0</td>\n",
       "      <td>153.0</td>\n",
       "    </tr>\n",
       "    <tr>\n",
       "      <th>2</th>\n",
       "      <td>5</td>\n",
       "      <td>83.0</td>\n",
       "      <td>113.0</td>\n",
       "      <td>97.0</td>\n",
       "      <td>109.0</td>\n",
       "      <td>79.0</td>\n",
       "    </tr>\n",
       "    <tr>\n",
       "      <th>3</th>\n",
       "      <td>10</td>\n",
       "      <td>83.0</td>\n",
       "      <td>105.0</td>\n",
       "      <td>81.0</td>\n",
       "      <td>71.0</td>\n",
       "      <td>89.0</td>\n",
       "    </tr>\n",
       "    <tr>\n",
       "      <th>4</th>\n",
       "      <td>15</td>\n",
       "      <td>51.0</td>\n",
       "      <td>63.0</td>\n",
       "      <td>59.0</td>\n",
       "      <td>59.0</td>\n",
       "      <td>79.0</td>\n",
       "    </tr>\n",
       "    <tr>\n",
       "      <th>5</th>\n",
       "      <td>20</td>\n",
       "      <td>63.0</td>\n",
       "      <td>57.0</td>\n",
       "      <td>57.0</td>\n",
       "      <td>31.0</td>\n",
       "      <td>59.0</td>\n",
       "    </tr>\n",
       "    <tr>\n",
       "      <th>6</th>\n",
       "      <td>30</td>\n",
       "      <td>41.0</td>\n",
       "      <td>43.0</td>\n",
       "      <td>55.0</td>\n",
       "      <td>43.0</td>\n",
       "      <td>31.0</td>\n",
       "    </tr>\n",
       "    <tr>\n",
       "      <th>7</th>\n",
       "      <td>50</td>\n",
       "      <td>41.0</td>\n",
       "      <td>39.0</td>\n",
       "      <td>45.0</td>\n",
       "      <td>35.0</td>\n",
       "      <td>27.0</td>\n",
       "    </tr>\n",
       "    <tr>\n",
       "      <th>8</th>\n",
       "      <td>100</td>\n",
       "      <td>39.0</td>\n",
       "      <td>33.0</td>\n",
       "      <td>45.0</td>\n",
       "      <td>43.0</td>\n",
       "      <td>43.0</td>\n",
       "    </tr>\n",
       "  </tbody>\n",
       "</table>\n",
       "</div>"
      ],
      "text/plain": [
       "   Unnamed: 0      2      4      8     16     24\n",
       "0           1  123.0  123.0  123.0  123.0  123.0\n",
       "1           2  101.0  131.0  135.0  151.0  153.0\n",
       "2           5   83.0  113.0   97.0  109.0   79.0\n",
       "3          10   83.0  105.0   81.0   71.0   89.0\n",
       "4          15   51.0   63.0   59.0   59.0   79.0\n",
       "5          20   63.0   57.0   57.0   31.0   59.0\n",
       "6          30   41.0   43.0   55.0   43.0   31.0\n",
       "7          50   41.0   39.0   45.0   35.0   27.0\n",
       "8         100   39.0   33.0   45.0   43.0   43.0"
      ]
     },
     "execution_count": 8,
     "metadata": {},
     "output_type": "execute_result"
    }
   ],
   "source": [
    "#fn = '4cpu_by_8n__4m_yarn_ssd'\n",
    "tmp = pd.read_csv(f'gs://mas-a5-storage-1/notebooks/jupyter/obj/{fn}_n.csv')\n",
    "print(fn)\n",
    "tmp"
   ]
  }
 ],
 "metadata": {
  "kernelspec": {
   "display_name": "PySpark",
   "language": "python",
   "name": "pyspark"
  },
  "language_info": {
   "codemirror_mode": {
    "name": "ipython",
    "version": 3
   },
   "file_extension": ".py",
   "mimetype": "text/x-python",
   "name": "python",
   "nbconvert_exporter": "python",
   "pygments_lexer": "ipython3",
   "version": "3.8.12"
  },
  "toc": {
   "base_numbering": 1,
   "nav_menu": {},
   "number_sections": true,
   "sideBar": true,
   "skip_h1_title": false,
   "title_cell": "Table of Contents",
   "title_sidebar": "Contents",
   "toc_cell": false,
   "toc_position": {},
   "toc_section_display": true,
   "toc_window_display": true
  }
 },
 "nbformat": 4,
 "nbformat_minor": 5
}