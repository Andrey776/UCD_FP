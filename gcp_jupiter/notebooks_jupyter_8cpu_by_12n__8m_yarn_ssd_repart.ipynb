{
 "cells": [
  {
   "cell_type": "markdown",
   "id": "17f41b1c",
   "metadata": {},
   "source": [
    "# Library"
   ]
  },
  {
   "cell_type": "code",
   "execution_count": 1,
   "id": "f7480aef",
   "metadata": {
    "ExecuteTime": {
     "end_time": "2021-11-27T06:37:03.050698Z",
     "start_time": "2021-11-27T06:36:58.246969Z"
    }
   },
   "outputs": [],
   "source": [
    "#import sys\n",
    "import pandas as pd\n",
    "import numpy as np\n",
    "import random\n",
    "import pyspark\n",
    "import itertools\n",
    "import matplotlib.pyplot as plt\n",
    "import itertools\n",
    "import seaborn as sns\n",
    "import pickle\n",
    "import statsmodels.api as sm\n",
    "\n",
    "from pyspark import SparkContext, SQLContext\n",
    "\n",
    "from math import sqrt\n",
    "from time import time as ttt\n",
    "\n",
    "from pyspark.sql import SparkSession\n",
    "from pyspark.sql import functions as f\n",
    "\n",
    "from pyspark.ml.linalg import Vectors\n",
    "from pyspark.ml.feature import VectorAssembler\n",
    "from pyspark.ml import Pipeline\n",
    "from pyspark.ml.classification import DecisionTreeClassifier as DTC_spark\n",
    "from pyspark.ml.feature import StringIndexer, VectorIndexer\n",
    "from pyspark.ml.evaluation import MulticlassClassificationEvaluator\n",
    "\n",
    "import joblib\n",
    "from joblib import parallel_backend\n",
    "from joblib import Parallel, delayed\n",
    "from joblib import parallel_backend\n"
   ]
  },
  {
   "cell_type": "markdown",
   "id": "f33b542c",
   "metadata": {},
   "source": [
    "# Upload"
   ]
  },
  {
   "cell_type": "code",
   "execution_count": 2,
   "id": "96a5c4ff",
   "metadata": {
    "ExecuteTime": {
     "end_time": "2021-11-27T06:37:18.052404Z",
     "start_time": "2021-11-27T06:37:05.801174Z"
    }
   },
   "outputs": [
    {
     "name": "stderr",
     "output_type": "stream",
     "text": [
      "                                                                                \r"
     ]
    },
    {
     "name": "stdout",
     "output_type": "stream",
     "text": [
      "8\n"
     ]
    }
   ],
   "source": [
    "spark = SparkSession.builder.master(\"Yarn\").appName(\"spark_app_1234\").getOrCreate()\n",
    "sc = spark.sparkContext\n",
    "spark\n",
    "d0 = (\n",
    "    spark\n",
    "    .read\n",
    "    .format(\"csv\") \n",
    "    .option(\"header\",\"true\") \n",
    "    .option(\"inferSchema\",\"true\") \n",
    "    .load(\"gs://mas-a5-storage-1/notebooks/jupyter/application_train.csv\")\n",
    ")\n",
    "\n",
    "d1 = d0.filter(d0.DAYS_EMPLOYED != 365243).select('TARGET','DAYS_EMPLOYED')\n",
    "\n",
    "print(d1.rdd.getNumPartitions())"
   ]
  },
  {
   "cell_type": "code",
   "execution_count": 3,
   "id": "81f60150",
   "metadata": {
    "ExecuteTime": {
     "end_time": "2021-11-27T06:37:18.063046Z",
     "start_time": "2021-11-27T06:37:18.054937Z"
    }
   },
   "outputs": [
    {
     "data": {
      "text/html": [
       "\n",
       "        <div>\n",
       "            <p><b>SparkContext</b></p>\n",
       "\n",
       "            <p><a href=\"http://mas-8cpu-by12n--8n-yarn-ssd-repart-m.europe-central2-b.c.cu-fall-2021.internal:34419\">Spark UI</a></p>\n",
       "\n",
       "            <dl>\n",
       "              <dt>Version</dt>\n",
       "                <dd><code>v3.1.2</code></dd>\n",
       "              <dt>Master</dt>\n",
       "                <dd><code>yarn</code></dd>\n",
       "              <dt>AppName</dt>\n",
       "                <dd><code>PySparkShell</code></dd>\n",
       "            </dl>\n",
       "        </div>\n",
       "        "
      ],
      "text/plain": [
       "<SparkContext master=yarn appName=PySparkShell>"
      ]
     },
     "execution_count": 3,
     "metadata": {},
     "output_type": "execute_result"
    }
   ],
   "source": [
    "sc"
   ]
  },
  {
   "cell_type": "markdown",
   "id": "333b63a3",
   "metadata": {},
   "source": [
    "# Function"
   ]
  },
  {
   "cell_type": "code",
   "execution_count": 4,
   "id": "e0ec74a5",
   "metadata": {
    "ExecuteTime": {
     "end_time": "2021-11-27T06:37:40.303695Z",
     "start_time": "2021-11-27T06:37:40.298518Z"
    }
   },
   "outputs": [],
   "source": [
    "def prepare_spark_data(n_part, k_mult):\n",
    "    '''\n",
    "    takes 'DAYS_EMPLOYED and 'TARGET'  from d1 (alreay filtered)\n",
    "    rearrane in n partitions (if n==0 keeps initial number of partitions)\n",
    "    prints final shape/ partition\n",
    "    returns d2 - spark df\n",
    "    '''\n",
    "    data = d1\n",
    "    data_new = data # first step in the cycle\n",
    "    for i in range(k_mult-1):\n",
    "        data_tmp = data.select('TARGET', \\\n",
    "                     f.col('DAYS_EMPLOYED')*(f.lit(0.9995) + f.rand()/1000)).\\\n",
    "                   toDF('TARGET','DAYS_EMPLOYED')\n",
    "        data_tmp = data_tmp.select('TARGET', f.floor('DAYS_EMPLOYED'))\n",
    "        data_new = data_new.union(data_tmp)\n",
    "\n",
    "    assembler = VectorAssembler(inputCols=[\"DAYS_EMPLOYED\"], \n",
    "                        outputCol=\"DAYS_EMPLOYED_vect\")\n",
    "    d2 = assembler.transform(data_new)\n",
    "    if n_part != 0:\n",
    "        d2 = d2.repartition(n_part, \"DAYS_EMPLOYED_vect\")       \n",
    "    #print(f'n-partitions initial: {d2.rdd.getNumPartitions()}; df size: {d2.count()}\\n')\n",
    "\n",
    "    return d2"
   ]
  },
  {
   "cell_type": "markdown",
   "id": "5e62426a",
   "metadata": {},
   "source": [
    "# Params an run"
   ]
  },
  {
   "cell_type": "code",
   "execution_count": null,
   "id": "62c383b6",
   "metadata": {
    "ExecuteTime": {
     "start_time": "2021-11-27T06:37:58.174Z"
    },
    "scrolled": true
   },
   "outputs": [
    {
     "name": "stderr",
     "output_type": "stream",
     "text": [
      "                                                                                \r"
     ]
    },
    {
     "name": "stdout",
     "output_type": "stream",
     "text": [
      "d1-size 252137\n",
      "n-partitions initial 8 \n",
      "\n",
      "======================================================================\n"
     ]
    },
    {
     "name": "stderr",
     "output_type": "stream",
     "text": [
      "                                                                                \r"
     ]
    },
    {
     "name": "stdout",
     "output_type": "stream",
     "text": [
      "=== size_mult=1;         n_part_req=8; n_part_act=8; df_count=252137 ===\n",
      "\n",
      "model 0 build time 7.0 \n",
      " DecisionTreeClassificationModel: uid=DecisionTreeClassifier_9fc4c863286d, depth=14, numNodes=123, numClasses=2, numFeatures=1\n",
      "model 1 build time 4.35 \n",
      " DecisionTreeClassificationModel: uid=DecisionTreeClassifier_8d5a1ab56ea6, depth=14, numNodes=123, numClasses=2, numFeatures=1\n",
      "model 2 build time 3.98 \n",
      " DecisionTreeClassificationModel: uid=DecisionTreeClassifier_1124f765e59b, depth=14, numNodes=123, numClasses=2, numFeatures=1\n",
      "======================================================================\n",
      "=== size_mult=1;         n_part_req=12; n_part_act=12; df_count=252137 ===\n",
      "\n",
      "model 0 build time 5.11 \n",
      " DecisionTreeClassificationModel: uid=DecisionTreeClassifier_06b36774c047, depth=14, numNodes=123, numClasses=2, numFeatures=1\n",
      "model 1 build time 5.01 \n",
      " DecisionTreeClassificationModel: uid=DecisionTreeClassifier_5478081bbb39, depth=14, numNodes=123, numClasses=2, numFeatures=1\n"
     ]
    },
    {
     "name": "stderr",
     "output_type": "stream",
     "text": [
      "                                                                                \r"
     ]
    },
    {
     "name": "stdout",
     "output_type": "stream",
     "text": [
      "model 2 build time 5.86 \n",
      " DecisionTreeClassificationModel: uid=DecisionTreeClassifier_ec66c7941687, depth=14, numNodes=123, numClasses=2, numFeatures=1\n",
      "======================================================================\n",
      "=== size_mult=1;         n_part_req=16; n_part_act=16; df_count=252137 ===\n",
      "\n",
      "model 0 build time 4.85 \n",
      " DecisionTreeClassificationModel: uid=DecisionTreeClassifier_bb2348ef1edf, depth=14, numNodes=123, numClasses=2, numFeatures=1\n",
      "model 1 build time 4.81 \n",
      " DecisionTreeClassificationModel: uid=DecisionTreeClassifier_5184f902ea85, depth=14, numNodes=123, numClasses=2, numFeatures=1\n",
      "model 2 build time 4.81 \n",
      " DecisionTreeClassificationModel: uid=DecisionTreeClassifier_3e146121923f, depth=14, numNodes=123, numClasses=2, numFeatures=1\n",
      "======================================================================\n",
      "=== size_mult=1;         n_part_req=24; n_part_act=24; df_count=252137 ===\n",
      "\n"
     ]
    },
    {
     "name": "stderr",
     "output_type": "stream",
     "text": [
      "                                                                                \r"
     ]
    },
    {
     "name": "stdout",
     "output_type": "stream",
     "text": [
      "model 0 build time 6.09 \n",
      " DecisionTreeClassificationModel: uid=DecisionTreeClassifier_ceb39fae9930, depth=14, numNodes=123, numClasses=2, numFeatures=1\n",
      "model 1 build time 6.14 \n",
      " DecisionTreeClassificationModel: uid=DecisionTreeClassifier_7d2e0394d2de, depth=14, numNodes=123, numClasses=2, numFeatures=1\n"
     ]
    },
    {
     "name": "stderr",
     "output_type": "stream",
     "text": [
      "\r",
      "[Stage 669:====================================================>  (23 + 1) / 24]\r",
      "\r",
      "                                                                                \r"
     ]
    },
    {
     "name": "stdout",
     "output_type": "stream",
     "text": [
      "model 2 build time 5.84 \n",
      " DecisionTreeClassificationModel: uid=DecisionTreeClassifier_20e938d51014, depth=14, numNodes=123, numClasses=2, numFeatures=1\n",
      "======================================================================\n",
      "=== size_mult=1;         n_part_req=36; n_part_act=36; df_count=252137 ===\n",
      "\n"
     ]
    },
    {
     "name": "stderr",
     "output_type": "stream",
     "text": [
      "                                                                                \r"
     ]
    },
    {
     "name": "stdout",
     "output_type": "stream",
     "text": [
      "model 0 build time 7.97 \n",
      " DecisionTreeClassificationModel: uid=DecisionTreeClassifier_88dd62fb840e, depth=14, numNodes=123, numClasses=2, numFeatures=1\n"
     ]
    },
    {
     "name": "stderr",
     "output_type": "stream",
     "text": [
      "                                                                                \r"
     ]
    },
    {
     "name": "stdout",
     "output_type": "stream",
     "text": [
      "model 1 build time 8.01 \n",
      " DecisionTreeClassificationModel: uid=DecisionTreeClassifier_12ee740302f0, depth=14, numNodes=123, numClasses=2, numFeatures=1\n"
     ]
    },
    {
     "name": "stderr",
     "output_type": "stream",
     "text": [
      "                                                                                \r"
     ]
    },
    {
     "name": "stdout",
     "output_type": "stream",
     "text": [
      "model 2 build time 7.85 \n",
      " DecisionTreeClassificationModel: uid=DecisionTreeClassifier_9f3eaa3996dd, depth=14, numNodes=123, numClasses=2, numFeatures=1\n",
      "======================================================================\n",
      "=== size_mult=1;         n_part_req=72; n_part_act=72; df_count=252137 ===\n",
      "\n"
     ]
    },
    {
     "name": "stderr",
     "output_type": "stream",
     "text": [
      "                                                                                \r"
     ]
    },
    {
     "name": "stdout",
     "output_type": "stream",
     "text": [
      "model 0 build time 13.73 \n",
      " DecisionTreeClassificationModel: uid=DecisionTreeClassifier_4f731dcc1675, depth=14, numNodes=123, numClasses=2, numFeatures=1\n"
     ]
    },
    {
     "name": "stderr",
     "output_type": "stream",
     "text": [
      "                                                                                \r"
     ]
    },
    {
     "name": "stdout",
     "output_type": "stream",
     "text": [
      "model 1 build time 13.3 \n",
      " DecisionTreeClassificationModel: uid=DecisionTreeClassifier_c3ea8621cfd7, depth=14, numNodes=123, numClasses=2, numFeatures=1\n"
     ]
    },
    {
     "name": "stderr",
     "output_type": "stream",
     "text": [
      "                                                                                \r"
     ]
    },
    {
     "name": "stdout",
     "output_type": "stream",
     "text": [
      "model 2 build time 13.3 \n",
      " DecisionTreeClassificationModel: uid=DecisionTreeClassifier_ad5876dd2a2f, depth=14, numNodes=123, numClasses=2, numFeatures=1\n",
      "======================================================================\n"
     ]
    },
    {
     "name": "stderr",
     "output_type": "stream",
     "text": [
      "                                                                                \r"
     ]
    },
    {
     "name": "stdout",
     "output_type": "stream",
     "text": [
      "=== size_mult=2;         n_part_req=8; n_part_act=8; df_count=504274 ===\n",
      "\n",
      "model 0 build time 4.59 \n",
      " DecisionTreeClassificationModel: uid=DecisionTreeClassifier_ff226af2c7c1, depth=14, numNodes=145, numClasses=2, numFeatures=1\n",
      "model 1 build time 4.53 \n",
      " DecisionTreeClassificationModel: uid=DecisionTreeClassifier_0eccf33de376, depth=14, numNodes=145, numClasses=2, numFeatures=1\n",
      "model 2 build time 4.38 \n",
      " DecisionTreeClassificationModel: uid=DecisionTreeClassifier_e684f9691523, depth=14, numNodes=145, numClasses=2, numFeatures=1\n",
      "======================================================================\n"
     ]
    },
    {
     "name": "stderr",
     "output_type": "stream",
     "text": [
      "                                                                                \r"
     ]
    },
    {
     "name": "stdout",
     "output_type": "stream",
     "text": [
      "=== size_mult=2;         n_part_req=12; n_part_act=12; df_count=504274 ===\n",
      "\n"
     ]
    },
    {
     "name": "stderr",
     "output_type": "stream",
     "text": [
      "\r",
      "[Stage 1232:====================================>                  (8 + 4) / 12]\r",
      "\r",
      "                                                                                \r"
     ]
    },
    {
     "name": "stdout",
     "output_type": "stream",
     "text": [
      "model 0 build time 5.87 \n",
      " DecisionTreeClassificationModel: uid=DecisionTreeClassifier_a1848304df41, depth=14, numNodes=129, numClasses=2, numFeatures=1\n"
     ]
    },
    {
     "name": "stderr",
     "output_type": "stream",
     "text": [
      "                                                                                \r"
     ]
    },
    {
     "name": "stdout",
     "output_type": "stream",
     "text": [
      "model 1 build time 6.67 \n",
      " DecisionTreeClassificationModel: uid=DecisionTreeClassifier_bdf0ecc3c751, depth=14, numNodes=129, numClasses=2, numFeatures=1\n"
     ]
    },
    {
     "name": "stderr",
     "output_type": "stream",
     "text": [
      "\r",
      "[Stage 1340:====================================>                  (8 + 4) / 12]\r",
      "\r",
      "                                                                                \r"
     ]
    },
    {
     "name": "stdout",
     "output_type": "stream",
     "text": [
      "model 2 build time 5.78 \n",
      " DecisionTreeClassificationModel: uid=DecisionTreeClassifier_0bd7ec1a34b6, depth=14, numNodes=129, numClasses=2, numFeatures=1\n",
      "======================================================================\n"
     ]
    },
    {
     "name": "stderr",
     "output_type": "stream",
     "text": [
      "                                                                                \r"
     ]
    },
    {
     "name": "stdout",
     "output_type": "stream",
     "text": [
      "=== size_mult=2;         n_part_req=16; n_part_act=16; df_count=504274 ===\n",
      "\n"
     ]
    },
    {
     "name": "stderr",
     "output_type": "stream",
     "text": [
      "\r",
      "[Stage 1399:===========================================>          (13 + 3) / 16]\r",
      "\r",
      "                                                                                \r"
     ]
    },
    {
     "name": "stdout",
     "output_type": "stream",
     "text": [
      "model 0 build time 5.59 \n",
      " DecisionTreeClassificationModel: uid=DecisionTreeClassifier_9d6d2c952ab0, depth=14, numNodes=131, numClasses=2, numFeatures=1\n",
      "model 1 build time 5.71 \n",
      " DecisionTreeClassificationModel: uid=DecisionTreeClassifier_b6e51f478deb, depth=14, numNodes=131, numClasses=2, numFeatures=1\n"
     ]
    },
    {
     "name": "stderr",
     "output_type": "stream",
     "text": [
      "                                                                                \r"
     ]
    },
    {
     "name": "stdout",
     "output_type": "stream",
     "text": [
      "model 2 build time 5.71 \n",
      " DecisionTreeClassificationModel: uid=DecisionTreeClassifier_a0b6ea311fca, depth=14, numNodes=131, numClasses=2, numFeatures=1\n",
      "======================================================================\n"
     ]
    },
    {
     "name": "stderr",
     "output_type": "stream",
     "text": [
      "                                                                                \r"
     ]
    },
    {
     "name": "stdout",
     "output_type": "stream",
     "text": [
      "=== size_mult=2;         n_part_req=24; n_part_act=24; df_count=504274 ===\n",
      "\n"
     ]
    },
    {
     "name": "stderr",
     "output_type": "stream",
     "text": [
      "                                                                                \r"
     ]
    },
    {
     "name": "stdout",
     "output_type": "stream",
     "text": [
      "model 0 build time 7.74 \n",
      " DecisionTreeClassificationModel: uid=DecisionTreeClassifier_4ebe30c8a167, depth=14, numNodes=137, numClasses=2, numFeatures=1\n"
     ]
    },
    {
     "name": "stderr",
     "output_type": "stream",
     "text": [
      "                                                                                \r"
     ]
    },
    {
     "name": "stdout",
     "output_type": "stream",
     "text": [
      "model 1 build time 7.85 \n",
      " DecisionTreeClassificationModel: uid=DecisionTreeClassifier_a39d4608bc14, depth=14, numNodes=137, numClasses=2, numFeatures=1\n"
     ]
    },
    {
     "name": "stderr",
     "output_type": "stream",
     "text": [
      "                                                                                \r"
     ]
    },
    {
     "name": "stdout",
     "output_type": "stream",
     "text": [
      "model 2 build time 7.85 \n",
      " DecisionTreeClassificationModel: uid=DecisionTreeClassifier_8e0d0d0f7d0a, depth=14, numNodes=137, numClasses=2, numFeatures=1\n",
      "======================================================================\n"
     ]
    },
    {
     "name": "stderr",
     "output_type": "stream",
     "text": [
      "                                                                                \r"
     ]
    },
    {
     "name": "stdout",
     "output_type": "stream",
     "text": [
      "=== size_mult=2;         n_part_req=36; n_part_act=36; df_count=504274 ===\n",
      "\n"
     ]
    },
    {
     "name": "stderr",
     "output_type": "stream",
     "text": [
      "                                                                                \r"
     ]
    },
    {
     "name": "stdout",
     "output_type": "stream",
     "text": [
      "model 0 build time 9.33 \n",
      " DecisionTreeClassificationModel: uid=DecisionTreeClassifier_d35c0ca09125, depth=14, numNodes=135, numClasses=2, numFeatures=1\n"
     ]
    },
    {
     "name": "stderr",
     "output_type": "stream",
     "text": [
      "                                                                                \r"
     ]
    },
    {
     "name": "stdout",
     "output_type": "stream",
     "text": [
      "model 1 build time 9.35 \n",
      " DecisionTreeClassificationModel: uid=DecisionTreeClassifier_1cda596289b2, depth=14, numNodes=135, numClasses=2, numFeatures=1\n"
     ]
    },
    {
     "name": "stderr",
     "output_type": "stream",
     "text": [
      "                                                                                \r"
     ]
    },
    {
     "name": "stdout",
     "output_type": "stream",
     "text": [
      "model 2 build time 9.33 \n",
      " DecisionTreeClassificationModel: uid=DecisionTreeClassifier_f55b7a259d18, depth=14, numNodes=135, numClasses=2, numFeatures=1\n",
      "======================================================================\n"
     ]
    },
    {
     "name": "stderr",
     "output_type": "stream",
     "text": [
      "                                                                                \r"
     ]
    },
    {
     "name": "stdout",
     "output_type": "stream",
     "text": [
      "=== size_mult=2;         n_part_req=72; n_part_act=72; df_count=504274 ===\n",
      "\n"
     ]
    },
    {
     "name": "stderr",
     "output_type": "stream",
     "text": [
      "                                                                                \r"
     ]
    },
    {
     "name": "stdout",
     "output_type": "stream",
     "text": [
      "model 0 build time 20.75 \n",
      " DecisionTreeClassificationModel: uid=DecisionTreeClassifier_aa0b11d11c13, depth=14, numNodes=135, numClasses=2, numFeatures=1\n"
     ]
    },
    {
     "name": "stderr",
     "output_type": "stream",
     "text": [
      "                                                                                \r"
     ]
    },
    {
     "name": "stdout",
     "output_type": "stream",
     "text": [
      "model 1 build time 22.0 \n",
      " DecisionTreeClassificationModel: uid=DecisionTreeClassifier_95848e28f399, depth=14, numNodes=135, numClasses=2, numFeatures=1\n"
     ]
    },
    {
     "name": "stderr",
     "output_type": "stream",
     "text": [
      "                                                                                \r"
     ]
    },
    {
     "name": "stdout",
     "output_type": "stream",
     "text": [
      "model 2 build time 21.82 \n",
      " DecisionTreeClassificationModel: uid=DecisionTreeClassifier_df757bc90801, depth=14, numNodes=135, numClasses=2, numFeatures=1\n",
      "======================================================================\n"
     ]
    },
    {
     "name": "stderr",
     "output_type": "stream",
     "text": [
      "                                                                                \r"
     ]
    },
    {
     "name": "stdout",
     "output_type": "stream",
     "text": [
      "=== size_mult=5;         n_part_req=8; n_part_act=8; df_count=1260685 ===\n",
      "\n"
     ]
    },
    {
     "name": "stderr",
     "output_type": "stream",
     "text": [
      "                                                                                \r"
     ]
    },
    {
     "name": "stdout",
     "output_type": "stream",
     "text": [
      "model 0 build time 7.0 \n",
      " DecisionTreeClassificationModel: uid=DecisionTreeClassifier_f870b772bd48, depth=14, numNodes=139, numClasses=2, numFeatures=1\n"
     ]
    },
    {
     "name": "stderr",
     "output_type": "stream",
     "text": [
      "                                                                                \r"
     ]
    },
    {
     "name": "stdout",
     "output_type": "stream",
     "text": [
      "model 1 build time 6.1 \n",
      " DecisionTreeClassificationModel: uid=DecisionTreeClassifier_dd286a112fd4, depth=14, numNodes=139, numClasses=2, numFeatures=1\n"
     ]
    },
    {
     "name": "stderr",
     "output_type": "stream",
     "text": [
      "\r",
      "[Stage 2175:>                                                       (0 + 8) / 8]\r",
      "\r",
      "                                                                                \r"
     ]
    },
    {
     "name": "stdout",
     "output_type": "stream",
     "text": [
      "model 2 build time 5.98 \n",
      " DecisionTreeClassificationModel: uid=DecisionTreeClassifier_8774469ed62e, depth=14, numNodes=139, numClasses=2, numFeatures=1\n",
      "======================================================================\n"
     ]
    },
    {
     "name": "stderr",
     "output_type": "stream",
     "text": [
      "                                                                                \r"
     ]
    },
    {
     "name": "stdout",
     "output_type": "stream",
     "text": [
      "=== size_mult=5;         n_part_req=12; n_part_act=12; df_count=1260685 ===\n",
      "\n"
     ]
    },
    {
     "name": "stderr",
     "output_type": "stream",
     "text": [
      "                                                                                \r"
     ]
    },
    {
     "name": "stdout",
     "output_type": "stream",
     "text": [
      "model 0 build time 9.13 \n",
      " DecisionTreeClassificationModel: uid=DecisionTreeClassifier_bd33fa2eb15c, depth=14, numNodes=141, numClasses=2, numFeatures=1\n"
     ]
    },
    {
     "name": "stderr",
     "output_type": "stream",
     "text": [
      "                                                                                \r"
     ]
    },
    {
     "name": "stdout",
     "output_type": "stream",
     "text": [
      "model 1 build time 7.99 \n",
      " DecisionTreeClassificationModel: uid=DecisionTreeClassifier_36eac757ea84, depth=14, numNodes=141, numClasses=2, numFeatures=1\n"
     ]
    },
    {
     "name": "stderr",
     "output_type": "stream",
     "text": [
      "                                                                                \r"
     ]
    },
    {
     "name": "stdout",
     "output_type": "stream",
     "text": [
      "model 2 build time 7.8 \n",
      " DecisionTreeClassificationModel: uid=DecisionTreeClassifier_03d6131f0a88, depth=14, numNodes=141, numClasses=2, numFeatures=1\n",
      "======================================================================\n"
     ]
    },
    {
     "name": "stderr",
     "output_type": "stream",
     "text": [
      "                                                                                \r"
     ]
    },
    {
     "name": "stdout",
     "output_type": "stream",
     "text": [
      "=== size_mult=5;         n_part_req=16; n_part_act=16; df_count=1260685 ===\n",
      "\n"
     ]
    },
    {
     "name": "stderr",
     "output_type": "stream",
     "text": [
      "                                                                                \r"
     ]
    },
    {
     "name": "stdout",
     "output_type": "stream",
     "text": [
      "model 0 build time 7.82 \n",
      " DecisionTreeClassificationModel: uid=DecisionTreeClassifier_be65acac95fe, depth=14, numNodes=115, numClasses=2, numFeatures=1\n"
     ]
    },
    {
     "name": "stderr",
     "output_type": "stream",
     "text": [
      "                                                                                \r"
     ]
    },
    {
     "name": "stdout",
     "output_type": "stream",
     "text": [
      "model 1 build time 7.76 \n",
      " DecisionTreeClassificationModel: uid=DecisionTreeClassifier_78594e4387c5, depth=14, numNodes=115, numClasses=2, numFeatures=1\n"
     ]
    },
    {
     "name": "stderr",
     "output_type": "stream",
     "text": [
      "                                                                                \r"
     ]
    },
    {
     "name": "stdout",
     "output_type": "stream",
     "text": [
      "model 2 build time 7.93 \n",
      " DecisionTreeClassificationModel: uid=DecisionTreeClassifier_636012dc84fe, depth=14, numNodes=115, numClasses=2, numFeatures=1\n",
      "======================================================================\n"
     ]
    },
    {
     "name": "stderr",
     "output_type": "stream",
     "text": [
      "                                                                                \r"
     ]
    },
    {
     "name": "stdout",
     "output_type": "stream",
     "text": [
      "=== size_mult=5;         n_part_req=24; n_part_act=24; df_count=1260685 ===\n",
      "\n"
     ]
    },
    {
     "name": "stderr",
     "output_type": "stream",
     "text": [
      "                                                                                \r"
     ]
    },
    {
     "name": "stdout",
     "output_type": "stream",
     "text": [
      "model 0 build time 11.39 \n",
      " DecisionTreeClassificationModel: uid=DecisionTreeClassifier_bb73b8297925, depth=14, numNodes=127, numClasses=2, numFeatures=1\n"
     ]
    },
    {
     "name": "stderr",
     "output_type": "stream",
     "text": [
      "                                                                                \r"
     ]
    },
    {
     "name": "stdout",
     "output_type": "stream",
     "text": [
      "model 1 build time 10.18 \n",
      " DecisionTreeClassificationModel: uid=DecisionTreeClassifier_0324a5fe5d9c, depth=14, numNodes=127, numClasses=2, numFeatures=1\n"
     ]
    },
    {
     "name": "stderr",
     "output_type": "stream",
     "text": [
      "                                                                                \r"
     ]
    },
    {
     "name": "stdout",
     "output_type": "stream",
     "text": [
      "model 2 build time 10.17 \n",
      " DecisionTreeClassificationModel: uid=DecisionTreeClassifier_fe21dfa7437b, depth=14, numNodes=127, numClasses=2, numFeatures=1\n",
      "======================================================================\n"
     ]
    },
    {
     "name": "stderr",
     "output_type": "stream",
     "text": [
      "                                                                                \r"
     ]
    },
    {
     "name": "stdout",
     "output_type": "stream",
     "text": [
      "=== size_mult=5;         n_part_req=36; n_part_act=36; df_count=1260685 ===\n",
      "\n"
     ]
    },
    {
     "name": "stderr",
     "output_type": "stream",
     "text": [
      "                                                                                \r"
     ]
    },
    {
     "name": "stdout",
     "output_type": "stream",
     "text": [
      "model 0 build time 13.77 \n",
      " DecisionTreeClassificationModel: uid=DecisionTreeClassifier_278084c11820, depth=13, numNodes=51, numClasses=2, numFeatures=1\n"
     ]
    },
    {
     "name": "stderr",
     "output_type": "stream",
     "text": [
      "                                                                                \r"
     ]
    },
    {
     "name": "stdout",
     "output_type": "stream",
     "text": [
      "model 1 build time 13.76 \n",
      " DecisionTreeClassificationModel: uid=DecisionTreeClassifier_1ab52b13511b, depth=13, numNodes=51, numClasses=2, numFeatures=1\n"
     ]
    },
    {
     "name": "stderr",
     "output_type": "stream",
     "text": [
      "                                                                                \r"
     ]
    },
    {
     "name": "stdout",
     "output_type": "stream",
     "text": [
      "model 2 build time 13.73 \n",
      " DecisionTreeClassificationModel: uid=DecisionTreeClassifier_e8ca2ec2e2a1, depth=13, numNodes=51, numClasses=2, numFeatures=1\n",
      "======================================================================\n"
     ]
    },
    {
     "name": "stderr",
     "output_type": "stream",
     "text": [
      "                                                                                \r"
     ]
    },
    {
     "name": "stdout",
     "output_type": "stream",
     "text": [
      "=== size_mult=5;         n_part_req=72; n_part_act=72; df_count=1260685 ===\n",
      "\n"
     ]
    },
    {
     "name": "stderr",
     "output_type": "stream",
     "text": [
      "                                                                                \r"
     ]
    },
    {
     "name": "stdout",
     "output_type": "stream",
     "text": [
      "model 0 build time 21.21 \n",
      " DecisionTreeClassificationModel: uid=DecisionTreeClassifier_e13d8c288d53, depth=13, numNodes=95, numClasses=2, numFeatures=1\n"
     ]
    },
    {
     "name": "stderr",
     "output_type": "stream",
     "text": [
      "                                                                                \r"
     ]
    },
    {
     "name": "stdout",
     "output_type": "stream",
     "text": [
      "model 1 build time 22.0 \n",
      " DecisionTreeClassificationModel: uid=DecisionTreeClassifier_e71028602a48, depth=13, numNodes=95, numClasses=2, numFeatures=1\n"
     ]
    },
    {
     "name": "stderr",
     "output_type": "stream",
     "text": [
      "                                                                                \r"
     ]
    },
    {
     "name": "stdout",
     "output_type": "stream",
     "text": [
      "model 2 build time 21.68 \n",
      " DecisionTreeClassificationModel: uid=DecisionTreeClassifier_8c8362a92606, depth=13, numNodes=95, numClasses=2, numFeatures=1\n",
      "======================================================================\n"
     ]
    },
    {
     "name": "stderr",
     "output_type": "stream",
     "text": [
      "                                                                                \r"
     ]
    },
    {
     "name": "stdout",
     "output_type": "stream",
     "text": [
      "=== size_mult=10;         n_part_req=8; n_part_act=8; df_count=2521370 ===\n",
      "\n"
     ]
    },
    {
     "name": "stderr",
     "output_type": "stream",
     "text": [
      "                                                                                \r"
     ]
    },
    {
     "name": "stdout",
     "output_type": "stream",
     "text": [
      "model 0 build time 9.59 \n",
      " DecisionTreeClassificationModel: uid=DecisionTreeClassifier_a8676a6d5eab, depth=14, numNodes=55, numClasses=2, numFeatures=1\n"
     ]
    },
    {
     "name": "stderr",
     "output_type": "stream",
     "text": [
      "                                                                                \r"
     ]
    },
    {
     "name": "stdout",
     "output_type": "stream",
     "text": [
      "model 1 build time 8.64 \n",
      " DecisionTreeClassificationModel: uid=DecisionTreeClassifier_0809c9e03f60, depth=14, numNodes=55, numClasses=2, numFeatures=1\n"
     ]
    },
    {
     "name": "stderr",
     "output_type": "stream",
     "text": [
      "                                                                                \r"
     ]
    },
    {
     "name": "stdout",
     "output_type": "stream",
     "text": [
      "model 2 build time 8.06 \n",
      " DecisionTreeClassificationModel: uid=DecisionTreeClassifier_a6595dc19d2a, depth=14, numNodes=55, numClasses=2, numFeatures=1\n",
      "======================================================================\n"
     ]
    },
    {
     "name": "stderr",
     "output_type": "stream",
     "text": [
      "                                                                                \r"
     ]
    },
    {
     "name": "stdout",
     "output_type": "stream",
     "text": [
      "=== size_mult=10;         n_part_req=12; n_part_act=12; df_count=2521370 ===\n",
      "\n"
     ]
    },
    {
     "name": "stderr",
     "output_type": "stream",
     "text": [
      "                                                                                \r"
     ]
    },
    {
     "name": "stdout",
     "output_type": "stream",
     "text": [
      "model 0 build time 10.47 \n",
      " DecisionTreeClassificationModel: uid=DecisionTreeClassifier_4b3407cc5eb1, depth=13, numNodes=85, numClasses=2, numFeatures=1\n"
     ]
    },
    {
     "name": "stderr",
     "output_type": "stream",
     "text": [
      "                                                                                \r"
     ]
    },
    {
     "name": "stdout",
     "output_type": "stream",
     "text": [
      "model 1 build time 7.45 \n",
      " DecisionTreeClassificationModel: uid=DecisionTreeClassifier_7bc4015de902, depth=13, numNodes=85, numClasses=2, numFeatures=1\n"
     ]
    },
    {
     "name": "stderr",
     "output_type": "stream",
     "text": [
      "\r",
      "[Stage 3344:=============================================>        (10 + 2) / 12]\r",
      "\r",
      "                                                                                \r"
     ]
    },
    {
     "name": "stdout",
     "output_type": "stream",
     "text": [
      "model 2 build time 6.74 \n",
      " DecisionTreeClassificationModel: uid=DecisionTreeClassifier_f24c8aa9c55d, depth=13, numNodes=85, numClasses=2, numFeatures=1\n",
      "======================================================================\n"
     ]
    },
    {
     "name": "stderr",
     "output_type": "stream",
     "text": [
      "                                                                                \r"
     ]
    },
    {
     "name": "stdout",
     "output_type": "stream",
     "text": [
      "=== size_mult=10;         n_part_req=16; n_part_act=16; df_count=2521370 ===\n",
      "\n"
     ]
    },
    {
     "name": "stderr",
     "output_type": "stream",
     "text": [
      "                                                                                \r"
     ]
    },
    {
     "name": "stdout",
     "output_type": "stream",
     "text": [
      "model 0 build time 8.63 \n",
      " DecisionTreeClassificationModel: uid=DecisionTreeClassifier_a569205911a3, depth=14, numNodes=107, numClasses=2, numFeatures=1\n",
      "model 1 build time 6.04 \n",
      " DecisionTreeClassificationModel: uid=DecisionTreeClassifier_9cb08f8cac4b, depth=14, numNodes=107, numClasses=2, numFeatures=1\n",
      "model 2 build time 5.9 \n",
      " DecisionTreeClassificationModel: uid=DecisionTreeClassifier_3106bb127f18, depth=14, numNodes=107, numClasses=2, numFeatures=1\n",
      "======================================================================\n"
     ]
    },
    {
     "name": "stderr",
     "output_type": "stream",
     "text": [
      "                                                                                \r"
     ]
    },
    {
     "name": "stdout",
     "output_type": "stream",
     "text": [
      "=== size_mult=10;         n_part_req=24; n_part_act=24; df_count=2521370 ===\n",
      "\n",
      "model 0 build time 6.45 \n",
      " DecisionTreeClassificationModel: uid=DecisionTreeClassifier_4b2b50d38975, depth=14, numNodes=73, numClasses=2, numFeatures=1\n",
      "model 1 build time 5.41 \n",
      " DecisionTreeClassificationModel: uid=DecisionTreeClassifier_3a86b6fc98d2, depth=14, numNodes=73, numClasses=2, numFeatures=1\n",
      "model 2 build time 5.35 \n",
      " DecisionTreeClassificationModel: uid=DecisionTreeClassifier_1c2eca300044, depth=14, numNodes=73, numClasses=2, numFeatures=1\n",
      "======================================================================\n"
     ]
    },
    {
     "name": "stderr",
     "output_type": "stream",
     "text": [
      "                                                                                \r"
     ]
    },
    {
     "name": "stdout",
     "output_type": "stream",
     "text": [
      "=== size_mult=10;         n_part_req=36; n_part_act=36; df_count=2521370 ===\n",
      "\n",
      "model 0 build time 5.86 \n",
      " DecisionTreeClassificationModel: uid=DecisionTreeClassifier_1620df4c2309, depth=14, numNodes=53, numClasses=2, numFeatures=1\n"
     ]
    },
    {
     "name": "stderr",
     "output_type": "stream",
     "text": [
      "21/11/27 06:48:51 WARN org.apache.spark.storage.BlockManager: Asked to remove block broadcast_3483, which does not exist\n"
     ]
    },
    {
     "name": "stdout",
     "output_type": "stream",
     "text": [
      "model 1 build time 7.45 \n",
      " DecisionTreeClassificationModel: uid=DecisionTreeClassifier_ebe13b900e5b, depth=14, numNodes=53, numClasses=2, numFeatures=1\n"
     ]
    },
    {
     "name": "stderr",
     "output_type": "stream",
     "text": [
      "                                                                                \r"
     ]
    },
    {
     "name": "stdout",
     "output_type": "stream",
     "text": [
      "model 2 build time 6.19 \n",
      " DecisionTreeClassificationModel: uid=DecisionTreeClassifier_84ad38e7b37c, depth=14, numNodes=53, numClasses=2, numFeatures=1\n",
      "======================================================================\n"
     ]
    },
    {
     "name": "stderr",
     "output_type": "stream",
     "text": [
      "                                                                                \r"
     ]
    },
    {
     "name": "stdout",
     "output_type": "stream",
     "text": [
      "=== size_mult=10;         n_part_req=72; n_part_act=72; df_count=2521370 ===\n",
      "\n"
     ]
    },
    {
     "name": "stderr",
     "output_type": "stream",
     "text": [
      "                                                                                \r"
     ]
    },
    {
     "name": "stdout",
     "output_type": "stream",
     "text": [
      "model 0 build time 11.36 \n",
      " DecisionTreeClassificationModel: uid=DecisionTreeClassifier_642cdd184f28, depth=14, numNodes=69, numClasses=2, numFeatures=1\n"
     ]
    },
    {
     "name": "stderr",
     "output_type": "stream",
     "text": [
      "                                                                                \r"
     ]
    },
    {
     "name": "stdout",
     "output_type": "stream",
     "text": [
      "model 1 build time 7.88 \n",
      " DecisionTreeClassificationModel: uid=DecisionTreeClassifier_f269d4431751, depth=14, numNodes=69, numClasses=2, numFeatures=1\n"
     ]
    },
    {
     "name": "stderr",
     "output_type": "stream",
     "text": [
      "                                                                                \r"
     ]
    },
    {
     "name": "stdout",
     "output_type": "stream",
     "text": [
      "model 2 build time 7.85 \n",
      " DecisionTreeClassificationModel: uid=DecisionTreeClassifier_354d8469a6c5, depth=14, numNodes=69, numClasses=2, numFeatures=1\n",
      "======================================================================\n"
     ]
    },
    {
     "name": "stderr",
     "output_type": "stream",
     "text": [
      "                                                                                \r"
     ]
    },
    {
     "name": "stdout",
     "output_type": "stream",
     "text": [
      "=== size_mult=15;         n_part_req=8; n_part_act=8; df_count=3782055 ===\n",
      "\n"
     ]
    },
    {
     "name": "stderr",
     "output_type": "stream",
     "text": [
      "                                                                                \r"
     ]
    },
    {
     "name": "stdout",
     "output_type": "stream",
     "text": [
      "model 0 build time 10.48 \n",
      " DecisionTreeClassificationModel: uid=DecisionTreeClassifier_9596cfa465fc, depth=14, numNodes=59, numClasses=2, numFeatures=1\n"
     ]
    },
    {
     "name": "stderr",
     "output_type": "stream",
     "text": [
      "                                                                                \r"
     ]
    },
    {
     "name": "stdout",
     "output_type": "stream",
     "text": [
      "model 1 build time 9.23 \n",
      " DecisionTreeClassificationModel: uid=DecisionTreeClassifier_8d7663f7a6ed, depth=14, numNodes=59, numClasses=2, numFeatures=1\n"
     ]
    },
    {
     "name": "stderr",
     "output_type": "stream",
     "text": [
      "                                                                                \r"
     ]
    },
    {
     "name": "stdout",
     "output_type": "stream",
     "text": [
      "model 2 build time 9.22 \n",
      " DecisionTreeClassificationModel: uid=DecisionTreeClassifier_3f7d79f93f14, depth=14, numNodes=59, numClasses=2, numFeatures=1\n",
      "======================================================================\n"
     ]
    },
    {
     "name": "stderr",
     "output_type": "stream",
     "text": [
      "                                                                                \r"
     ]
    },
    {
     "name": "stdout",
     "output_type": "stream",
     "text": [
      "=== size_mult=15;         n_part_req=12; n_part_act=12; df_count=3782055 ===\n",
      "\n",
      "model 0 build time 7.91 \n",
      " DecisionTreeClassificationModel: uid=DecisionTreeClassifier_53170bb33247, depth=14, numNodes=113, numClasses=2, numFeatures=1\n"
     ]
    },
    {
     "name": "stderr",
     "output_type": "stream",
     "text": [
      "\r",
      "[Stage 4292:=========================================>             (9 + 3) / 12]\r",
      "\r",
      "                                                                                \r"
     ]
    },
    {
     "name": "stdout",
     "output_type": "stream",
     "text": [
      "model 1 build time 7.33 \n",
      " DecisionTreeClassificationModel: uid=DecisionTreeClassifier_884f77c61fc4, depth=14, numNodes=113, numClasses=2, numFeatures=1\n"
     ]
    },
    {
     "name": "stderr",
     "output_type": "stream",
     "text": [
      "                                                                                \r"
     ]
    },
    {
     "name": "stdout",
     "output_type": "stream",
     "text": [
      "model 2 build time 7.22 \n",
      " DecisionTreeClassificationModel: uid=DecisionTreeClassifier_43e5bfa8b359, depth=14, numNodes=113, numClasses=2, numFeatures=1\n",
      "======================================================================\n"
     ]
    },
    {
     "name": "stderr",
     "output_type": "stream",
     "text": [
      "                                                                                \r"
     ]
    },
    {
     "name": "stdout",
     "output_type": "stream",
     "text": [
      "=== size_mult=15;         n_part_req=16; n_part_act=16; df_count=3782055 ===\n",
      "\n"
     ]
    },
    {
     "name": "stderr",
     "output_type": "stream",
     "text": [
      "                                                                                \r"
     ]
    },
    {
     "name": "stdout",
     "output_type": "stream",
     "text": [
      "model 0 build time 7.56 \n",
      " DecisionTreeClassificationModel: uid=DecisionTreeClassifier_bb66fd88e49b, depth=12, numNodes=57, numClasses=2, numFeatures=1\n"
     ]
    },
    {
     "name": "stderr",
     "output_type": "stream",
     "text": [
      "\r",
      "[Stage 4456:==================================================>   (15 + 1) / 16]\r",
      "\r",
      "                                                                                \r"
     ]
    },
    {
     "name": "stdout",
     "output_type": "stream",
     "text": [
      "model 1 build time 6.32 \n",
      " DecisionTreeClassificationModel: uid=DecisionTreeClassifier_a6953dfe69bf, depth=12, numNodes=57, numClasses=2, numFeatures=1\n"
     ]
    },
    {
     "name": "stderr",
     "output_type": "stream",
     "text": [
      "\r",
      "[Stage 4513:===============================================>      (14 + 2) / 16]\r",
      "\r",
      "                                                                                \r"
     ]
    },
    {
     "name": "stdout",
     "output_type": "stream",
     "text": [
      "model 2 build time 6.34 \n",
      " DecisionTreeClassificationModel: uid=DecisionTreeClassifier_d60351076543, depth=12, numNodes=57, numClasses=2, numFeatures=1\n",
      "======================================================================\n"
     ]
    },
    {
     "name": "stderr",
     "output_type": "stream",
     "text": [
      "                                                                                \r"
     ]
    },
    {
     "name": "stdout",
     "output_type": "stream",
     "text": [
      "=== size_mult=15;         n_part_req=24; n_part_act=24; df_count=3782055 ===\n",
      "\n",
      "model 0 build time 7.17 \n",
      " DecisionTreeClassificationModel: uid=DecisionTreeClassifier_e6719e36f76d, depth=14, numNodes=49, numClasses=2, numFeatures=1\n",
      "model 1 build time 6.17 \n",
      " DecisionTreeClassificationModel: uid=DecisionTreeClassifier_e07f9a666e9a, depth=14, numNodes=49, numClasses=2, numFeatures=1\n",
      "model 2 build time 5.94 \n",
      " DecisionTreeClassificationModel: uid=DecisionTreeClassifier_106819ba4b57, depth=14, numNodes=49, numClasses=2, numFeatures=1\n",
      "======================================================================\n"
     ]
    },
    {
     "name": "stderr",
     "output_type": "stream",
     "text": [
      "                                                                                \r"
     ]
    },
    {
     "name": "stdout",
     "output_type": "stream",
     "text": [
      "=== size_mult=15;         n_part_req=36; n_part_act=36; df_count=3782055 ===\n",
      "\n"
     ]
    },
    {
     "name": "stderr",
     "output_type": "stream",
     "text": [
      "\r",
      "[Stage 4739:==============================================>       (31 + 5) / 36]\r",
      "\r",
      "                                                                                \r"
     ]
    },
    {
     "name": "stdout",
     "output_type": "stream",
     "text": [
      "model 0 build time 6.19 \n",
      " DecisionTreeClassificationModel: uid=DecisionTreeClassifier_7974fd36b7f8, depth=14, numNodes=77, numClasses=2, numFeatures=1\n",
      "model 1 build time 6.22 \n",
      " DecisionTreeClassificationModel: uid=DecisionTreeClassifier_62985d36ddc7, depth=14, numNodes=77, numClasses=2, numFeatures=1\n"
     ]
    },
    {
     "name": "stderr",
     "output_type": "stream",
     "text": [
      "\r",
      "[Stage 4847:====================================================> (35 + 1) / 36]\r",
      "\r",
      "                                                                                \r"
     ]
    },
    {
     "name": "stdout",
     "output_type": "stream",
     "text": [
      "model 2 build time 6.56 \n",
      " DecisionTreeClassificationModel: uid=DecisionTreeClassifier_b04467e6b0e8, depth=14, numNodes=77, numClasses=2, numFeatures=1\n",
      "======================================================================\n"
     ]
    },
    {
     "name": "stderr",
     "output_type": "stream",
     "text": [
      "                                                                                \r"
     ]
    },
    {
     "name": "stdout",
     "output_type": "stream",
     "text": [
      "=== size_mult=15;         n_part_req=72; n_part_act=72; df_count=3782055 ===\n",
      "\n"
     ]
    },
    {
     "name": "stderr",
     "output_type": "stream",
     "text": [
      "                                                                                \r"
     ]
    },
    {
     "name": "stdout",
     "output_type": "stream",
     "text": [
      "model 0 build time 7.88 \n",
      " DecisionTreeClassificationModel: uid=DecisionTreeClassifier_e4afa192ef5f, depth=14, numNodes=61, numClasses=2, numFeatures=1\n"
     ]
    },
    {
     "name": "stderr",
     "output_type": "stream",
     "text": [
      "                                                                                \r"
     ]
    },
    {
     "name": "stdout",
     "output_type": "stream",
     "text": [
      "model 1 build time 8.46 \n",
      " DecisionTreeClassificationModel: uid=DecisionTreeClassifier_3684c47d92f5, depth=14, numNodes=61, numClasses=2, numFeatures=1\n"
     ]
    },
    {
     "name": "stderr",
     "output_type": "stream",
     "text": [
      "                                                                                \r"
     ]
    },
    {
     "name": "stdout",
     "output_type": "stream",
     "text": [
      "model 2 build time 8.34 \n",
      " DecisionTreeClassificationModel: uid=DecisionTreeClassifier_b9f105ac46d6, depth=14, numNodes=61, numClasses=2, numFeatures=1\n",
      "======================================================================\n"
     ]
    },
    {
     "name": "stderr",
     "output_type": "stream",
     "text": [
      "                                                                                \r"
     ]
    },
    {
     "name": "stdout",
     "output_type": "stream",
     "text": [
      "=== size_mult=20;         n_part_req=8; n_part_act=8; df_count=5042740 ===\n",
      "\n"
     ]
    },
    {
     "name": "stderr",
     "output_type": "stream",
     "text": [
      "                                                                                \r"
     ]
    },
    {
     "name": "stdout",
     "output_type": "stream",
     "text": [
      "model 0 build time 11.02 \n",
      " DecisionTreeClassificationModel: uid=DecisionTreeClassifier_13a08bf27d66, depth=14, numNodes=71, numClasses=2, numFeatures=1\n"
     ]
    },
    {
     "name": "stderr",
     "output_type": "stream",
     "text": [
      "                                                                                \r"
     ]
    },
    {
     "name": "stdout",
     "output_type": "stream",
     "text": [
      "model 1 build time 9.85 \n",
      " DecisionTreeClassificationModel: uid=DecisionTreeClassifier_db7bb5b3056c, depth=14, numNodes=71, numClasses=2, numFeatures=1\n"
     ]
    },
    {
     "name": "stderr",
     "output_type": "stream",
     "text": [
      "                                                                                \r"
     ]
    },
    {
     "name": "stdout",
     "output_type": "stream",
     "text": [
      "model 2 build time 9.91 \n",
      " DecisionTreeClassificationModel: uid=DecisionTreeClassifier_5d579d3f2bd0, depth=14, numNodes=71, numClasses=2, numFeatures=1\n",
      "======================================================================\n"
     ]
    },
    {
     "name": "stderr",
     "output_type": "stream",
     "text": [
      "                                                                                \r"
     ]
    },
    {
     "name": "stdout",
     "output_type": "stream",
     "text": [
      "=== size_mult=20;         n_part_req=12; n_part_act=12; df_count=5042740 ===\n",
      "\n"
     ]
    },
    {
     "name": "stderr",
     "output_type": "stream",
     "text": [
      "                                                                                \r"
     ]
    },
    {
     "name": "stdout",
     "output_type": "stream",
     "text": [
      "model 0 build time 9.25 \n",
      " DecisionTreeClassificationModel: uid=DecisionTreeClassifier_98870ee6e644, depth=13, numNodes=65, numClasses=2, numFeatures=1\n"
     ]
    },
    {
     "name": "stderr",
     "output_type": "stream",
     "text": [
      "\r",
      "[Stage 5294:================================>                      (7 + 5) / 12]\r",
      "\r",
      "                                                                                \r"
     ]
    },
    {
     "name": "stdout",
     "output_type": "stream",
     "text": [
      "model 1 build time 7.63 \n",
      " DecisionTreeClassificationModel: uid=DecisionTreeClassifier_4dc3c85ed601, depth=13, numNodes=65, numClasses=2, numFeatures=1\n"
     ]
    },
    {
     "name": "stderr",
     "output_type": "stream",
     "text": [
      "                                                                                \r"
     ]
    },
    {
     "name": "stdout",
     "output_type": "stream",
     "text": [
      "model 2 build time 7.57 \n",
      " DecisionTreeClassificationModel: uid=DecisionTreeClassifier_087b76f3c36d, depth=13, numNodes=65, numClasses=2, numFeatures=1\n",
      "======================================================================\n"
     ]
    },
    {
     "name": "stderr",
     "output_type": "stream",
     "text": [
      "                                                                                \r"
     ]
    },
    {
     "name": "stdout",
     "output_type": "stream",
     "text": [
      "=== size_mult=20;         n_part_req=16; n_part_act=16; df_count=5042740 ===\n",
      "\n"
     ]
    },
    {
     "name": "stderr",
     "output_type": "stream",
     "text": [
      "                                                                                \r"
     ]
    },
    {
     "name": "stdout",
     "output_type": "stream",
     "text": [
      "model 0 build time 8.64 \n",
      " DecisionTreeClassificationModel: uid=DecisionTreeClassifier_ce0f6d178d42, depth=10, numNodes=41, numClasses=2, numFeatures=1\n",
      "model 1 build time 7.1 \n",
      " DecisionTreeClassificationModel: uid=DecisionTreeClassifier_a68daed6d049, depth=10, numNodes=41, numClasses=2, numFeatures=1\n",
      "model 2 build time 6.63 \n",
      " DecisionTreeClassificationModel: uid=DecisionTreeClassifier_e519e1d579cd, depth=10, numNodes=41, numClasses=2, numFeatures=1\n",
      "======================================================================\n"
     ]
    },
    {
     "name": "stderr",
     "output_type": "stream",
     "text": [
      "                                                                                \r"
     ]
    },
    {
     "name": "stdout",
     "output_type": "stream",
     "text": [
      "=== size_mult=20;         n_part_req=24; n_part_act=24; df_count=5042740 ===\n",
      "\n"
     ]
    },
    {
     "name": "stderr",
     "output_type": "stream",
     "text": [
      "\r",
      "[Stage 5535:===================================================>  (23 + 1) / 24]\r",
      "\r",
      "                                                                                \r"
     ]
    },
    {
     "name": "stdout",
     "output_type": "stream",
     "text": [
      "model 0 build time 8.36 \n",
      " DecisionTreeClassificationModel: uid=DecisionTreeClassifier_7d5ae58a03f2, depth=14, numNodes=77, numClasses=2, numFeatures=1\n"
     ]
    },
    {
     "name": "stderr",
     "output_type": "stream",
     "text": [
      "                                                                                \r"
     ]
    },
    {
     "name": "stdout",
     "output_type": "stream",
     "text": [
      "model 1 build time 6.75 \n",
      " DecisionTreeClassificationModel: uid=DecisionTreeClassifier_23f3c9d84548, depth=14, numNodes=77, numClasses=2, numFeatures=1\n",
      "model 2 build time 5.95 \n",
      " DecisionTreeClassificationModel: uid=DecisionTreeClassifier_80a838bafe2d, depth=14, numNodes=77, numClasses=2, numFeatures=1\n",
      "======================================================================\n"
     ]
    },
    {
     "name": "stderr",
     "output_type": "stream",
     "text": [
      "                                                                                \r"
     ]
    },
    {
     "name": "stdout",
     "output_type": "stream",
     "text": [
      "=== size_mult=20;         n_part_req=36; n_part_act=36; df_count=5042740 ===\n",
      "\n",
      "model 0 build time 7.56 \n",
      " DecisionTreeClassificationModel: uid=DecisionTreeClassifier_28c88e2d560e, depth=11, numNodes=37, numClasses=2, numFeatures=1\n",
      "model 1 build time 6.36 \n",
      " DecisionTreeClassificationModel: uid=DecisionTreeClassifier_6aa12386e872, depth=11, numNodes=37, numClasses=2, numFeatures=1\n",
      "model 2 build time 6.32 \n",
      " DecisionTreeClassificationModel: uid=DecisionTreeClassifier_9412d5b70df0, depth=11, numNodes=37, numClasses=2, numFeatures=1\n",
      "======================================================================\n"
     ]
    },
    {
     "name": "stderr",
     "output_type": "stream",
     "text": [
      "                                                                                \r"
     ]
    },
    {
     "name": "stdout",
     "output_type": "stream",
     "text": [
      "=== size_mult=20;         n_part_req=72; n_part_act=72; df_count=5042740 ===\n",
      "\n"
     ]
    },
    {
     "name": "stderr",
     "output_type": "stream",
     "text": [
      "                                                                                \r"
     ]
    },
    {
     "name": "stdout",
     "output_type": "stream",
     "text": [
      "model 0 build time 11.05 \n",
      " DecisionTreeClassificationModel: uid=DecisionTreeClassifier_e401392d9b6a, depth=14, numNodes=73, numClasses=2, numFeatures=1\n"
     ]
    },
    {
     "name": "stderr",
     "output_type": "stream",
     "text": [
      "                                                                                \r"
     ]
    },
    {
     "name": "stdout",
     "output_type": "stream",
     "text": [
      "model 1 build time 7.85 \n",
      " DecisionTreeClassificationModel: uid=DecisionTreeClassifier_5badf521a28c, depth=14, numNodes=73, numClasses=2, numFeatures=1\n"
     ]
    },
    {
     "name": "stderr",
     "output_type": "stream",
     "text": [
      "                                                                                \r"
     ]
    },
    {
     "name": "stdout",
     "output_type": "stream",
     "text": [
      "model 2 build time 7.32 \n",
      " DecisionTreeClassificationModel: uid=DecisionTreeClassifier_9c306cc1b21c, depth=14, numNodes=73, numClasses=2, numFeatures=1\n",
      "======================================================================\n"
     ]
    },
    {
     "name": "stderr",
     "output_type": "stream",
     "text": [
      "                                                                                \r"
     ]
    },
    {
     "name": "stdout",
     "output_type": "stream",
     "text": [
      "=== size_mult=30;         n_part_req=8; n_part_act=8; df_count=7564110 ===\n",
      "\n"
     ]
    },
    {
     "name": "stderr",
     "output_type": "stream",
     "text": [
      "                                                                                \r"
     ]
    },
    {
     "name": "stdout",
     "output_type": "stream",
     "text": [
      "model 0 build time 12.8 \n",
      " DecisionTreeClassificationModel: uid=DecisionTreeClassifier_545940607191, depth=14, numNodes=49, numClasses=2, numFeatures=1\n"
     ]
    },
    {
     "name": "stderr",
     "output_type": "stream",
     "text": [
      "                                                                                \r"
     ]
    },
    {
     "name": "stdout",
     "output_type": "stream",
     "text": [
      "model 1 build time 11.59 \n",
      " DecisionTreeClassificationModel: uid=DecisionTreeClassifier_e3e79146697b, depth=14, numNodes=49, numClasses=2, numFeatures=1\n"
     ]
    },
    {
     "name": "stderr",
     "output_type": "stream",
     "text": [
      "                                                                                \r"
     ]
    },
    {
     "name": "stdout",
     "output_type": "stream",
     "text": [
      "model 2 build time 11.54 \n",
      " DecisionTreeClassificationModel: uid=DecisionTreeClassifier_229ef0f76bfe, depth=14, numNodes=49, numClasses=2, numFeatures=1\n",
      "======================================================================\n"
     ]
    },
    {
     "name": "stderr",
     "output_type": "stream",
     "text": [
      "                                                                                \r"
     ]
    },
    {
     "name": "stdout",
     "output_type": "stream",
     "text": [
      "=== size_mult=30;         n_part_req=12; n_part_act=12; df_count=7564110 ===\n",
      "\n"
     ]
    },
    {
     "name": "stderr",
     "output_type": "stream",
     "text": [
      "                                                                                \r"
     ]
    },
    {
     "name": "stdout",
     "output_type": "stream",
     "text": [
      "model 0 build time 11.22 \n",
      " DecisionTreeClassificationModel: uid=DecisionTreeClassifier_403b95667952, depth=12, numNodes=41, numClasses=2, numFeatures=1\n"
     ]
    },
    {
     "name": "stderr",
     "output_type": "stream",
     "text": [
      "                                                                                \r"
     ]
    },
    {
     "name": "stdout",
     "output_type": "stream",
     "text": [
      "model 1 build time 9.46 \n",
      " DecisionTreeClassificationModel: uid=DecisionTreeClassifier_598301989f9d, depth=12, numNodes=41, numClasses=2, numFeatures=1\n"
     ]
    },
    {
     "name": "stderr",
     "output_type": "stream",
     "text": [
      "                                                                                \r"
     ]
    },
    {
     "name": "stdout",
     "output_type": "stream",
     "text": [
      "model 2 build time 9.83 \n",
      " DecisionTreeClassificationModel: uid=DecisionTreeClassifier_33b04dc31368, depth=12, numNodes=41, numClasses=2, numFeatures=1\n",
      "======================================================================\n"
     ]
    },
    {
     "name": "stderr",
     "output_type": "stream",
     "text": [
      "                                                                                \r"
     ]
    },
    {
     "name": "stdout",
     "output_type": "stream",
     "text": [
      "=== size_mult=30;         n_part_req=16; n_part_act=16; df_count=7564110 ===\n",
      "\n"
     ]
    },
    {
     "name": "stderr",
     "output_type": "stream",
     "text": [
      "                                                                                \r"
     ]
    },
    {
     "name": "stdout",
     "output_type": "stream",
     "text": [
      "model 0 build time 11.7 \n",
      " DecisionTreeClassificationModel: uid=DecisionTreeClassifier_043db8f745de, depth=11, numNodes=43, numClasses=2, numFeatures=1\n"
     ]
    },
    {
     "name": "stderr",
     "output_type": "stream",
     "text": [
      "\r",
      "[Stage 6460:===========================>                           (8 + 8) / 16]\r",
      "\r",
      "                                                                                \r"
     ]
    },
    {
     "name": "stdout",
     "output_type": "stream",
     "text": [
      "model 1 build time 8.54 \n",
      " DecisionTreeClassificationModel: uid=DecisionTreeClassifier_2aa692a27576, depth=11, numNodes=43, numClasses=2, numFeatures=1\n"
     ]
    },
    {
     "name": "stderr",
     "output_type": "stream",
     "text": [
      "\r",
      "[Stage 6514:===========================>                           (8 + 8) / 16]\r",
      "\r",
      "                                                                                \r"
     ]
    },
    {
     "name": "stdout",
     "output_type": "stream",
     "text": [
      "model 2 build time 8.62 \n",
      " DecisionTreeClassificationModel: uid=DecisionTreeClassifier_cad5db9098b2, depth=11, numNodes=43, numClasses=2, numFeatures=1\n",
      "======================================================================\n"
     ]
    },
    {
     "name": "stderr",
     "output_type": "stream",
     "text": [
      "                                                                                \r"
     ]
    },
    {
     "name": "stdout",
     "output_type": "stream",
     "text": [
      "=== size_mult=30;         n_part_req=24; n_part_act=24; df_count=7564110 ===\n",
      "\n",
      "model 0 build time 8.53 \n",
      " DecisionTreeClassificationModel: uid=DecisionTreeClassifier_5864f7927468, depth=14, numNodes=57, numClasses=2, numFeatures=1\n",
      "model 1 build time 7.4 \n",
      " DecisionTreeClassificationModel: uid=DecisionTreeClassifier_1abcf4418b73, depth=14, numNodes=57, numClasses=2, numFeatures=1\n",
      "model 2 build time 7.18 \n",
      " DecisionTreeClassificationModel: uid=DecisionTreeClassifier_565396ed5470, depth=14, numNodes=57, numClasses=2, numFeatures=1\n",
      "======================================================================\n"
     ]
    },
    {
     "name": "stderr",
     "output_type": "stream",
     "text": [
      "                                                                                \r"
     ]
    },
    {
     "name": "stdout",
     "output_type": "stream",
     "text": [
      "=== size_mult=30;         n_part_req=36; n_part_act=36; df_count=7564110 ===\n",
      "\n"
     ]
    },
    {
     "name": "stderr",
     "output_type": "stream",
     "text": [
      "                                                                                \r"
     ]
    },
    {
     "name": "stdout",
     "output_type": "stream",
     "text": [
      "model 0 build time 7.86 \n",
      " DecisionTreeClassificationModel: uid=DecisionTreeClassifier_8a49884c8654, depth=10, numNodes=37, numClasses=2, numFeatures=1\n",
      "model 1 build time 7.04 \n",
      " DecisionTreeClassificationModel: uid=DecisionTreeClassifier_3a6a351f456c, depth=10, numNodes=37, numClasses=2, numFeatures=1\n",
      "model 2 build time 6.38 \n",
      " DecisionTreeClassificationModel: uid=DecisionTreeClassifier_56e6b28a5fee, depth=10, numNodes=37, numClasses=2, numFeatures=1\n",
      "======================================================================\n"
     ]
    },
    {
     "name": "stderr",
     "output_type": "stream",
     "text": [
      "                                                                                \r"
     ]
    },
    {
     "name": "stdout",
     "output_type": "stream",
     "text": [
      "=== size_mult=30;         n_part_req=72; n_part_act=72; df_count=7564110 ===\n",
      "\n"
     ]
    },
    {
     "name": "stderr",
     "output_type": "stream",
     "text": [
      "                                                                                \r"
     ]
    },
    {
     "name": "stdout",
     "output_type": "stream",
     "text": [
      "model 0 build time 8.48 \n",
      " DecisionTreeClassificationModel: uid=DecisionTreeClassifier_9019499a1f4d, depth=10, numNodes=35, numClasses=2, numFeatures=1\n"
     ]
    },
    {
     "name": "stderr",
     "output_type": "stream",
     "text": [
      "                                                                                \r"
     ]
    },
    {
     "name": "stdout",
     "output_type": "stream",
     "text": [
      "model 1 build time 9.18 \n",
      " DecisionTreeClassificationModel: uid=DecisionTreeClassifier_2886cc4c30ff, depth=10, numNodes=35, numClasses=2, numFeatures=1\n"
     ]
    },
    {
     "name": "stderr",
     "output_type": "stream",
     "text": [
      "                                                                                \r"
     ]
    },
    {
     "name": "stdout",
     "output_type": "stream",
     "text": [
      "model 2 build time 8.03 \n",
      " DecisionTreeClassificationModel: uid=DecisionTreeClassifier_dc3cca4fd47d, depth=10, numNodes=35, numClasses=2, numFeatures=1\n",
      "======================================================================\n"
     ]
    },
    {
     "name": "stderr",
     "output_type": "stream",
     "text": [
      "                                                                                \r"
     ]
    },
    {
     "name": "stdout",
     "output_type": "stream",
     "text": [
      "=== size_mult=50;         n_part_req=8; n_part_act=8; df_count=12606850 ===\n",
      "\n"
     ]
    },
    {
     "name": "stderr",
     "output_type": "stream",
     "text": [
      "                                                                                \r"
     ]
    },
    {
     "name": "stdout",
     "output_type": "stream",
     "text": [
      "model 0 build time 17.57 \n",
      " DecisionTreeClassificationModel: uid=DecisionTreeClassifier_529a3657bfd0, depth=12, numNodes=39, numClasses=2, numFeatures=1\n"
     ]
    },
    {
     "name": "stderr",
     "output_type": "stream",
     "text": [
      "                                                                                \r"
     ]
    },
    {
     "name": "stdout",
     "output_type": "stream",
     "text": [
      "model 1 build time 16.32 \n",
      " DecisionTreeClassificationModel: uid=DecisionTreeClassifier_03a44a2fa640, depth=12, numNodes=39, numClasses=2, numFeatures=1\n"
     ]
    },
    {
     "name": "stderr",
     "output_type": "stream",
     "text": [
      "                                                                                \r"
     ]
    },
    {
     "name": "stdout",
     "output_type": "stream",
     "text": [
      "model 2 build time 16.37 \n",
      " DecisionTreeClassificationModel: uid=DecisionTreeClassifier_3a3824dbe439, depth=12, numNodes=39, numClasses=2, numFeatures=1\n",
      "======================================================================\n"
     ]
    },
    {
     "name": "stderr",
     "output_type": "stream",
     "text": [
      "                                                                                \r"
     ]
    },
    {
     "name": "stdout",
     "output_type": "stream",
     "text": [
      "=== size_mult=50;         n_part_req=12; n_part_act=12; df_count=12606850 ===\n",
      "\n"
     ]
    },
    {
     "name": "stderr",
     "output_type": "stream",
     "text": [
      "                                                                                \r"
     ]
    },
    {
     "name": "stdout",
     "output_type": "stream",
     "text": [
      "model 0 build time 12.41 \n",
      " DecisionTreeClassificationModel: uid=DecisionTreeClassifier_f7c9562c708c, depth=10, numNodes=35, numClasses=2, numFeatures=1\n"
     ]
    },
    {
     "name": "stderr",
     "output_type": "stream",
     "text": [
      "                                                                                \r"
     ]
    },
    {
     "name": "stdout",
     "output_type": "stream",
     "text": [
      "model 1 build time 12.62 \n",
      " DecisionTreeClassificationModel: uid=DecisionTreeClassifier_3632a3268532, depth=10, numNodes=35, numClasses=2, numFeatures=1\n"
     ]
    },
    {
     "name": "stderr",
     "output_type": "stream",
     "text": [
      "                                                                                \r"
     ]
    },
    {
     "name": "stdout",
     "output_type": "stream",
     "text": [
      "model 2 build time 12.52 \n",
      " DecisionTreeClassificationModel: uid=DecisionTreeClassifier_a7902f8d24b7, depth=10, numNodes=35, numClasses=2, numFeatures=1\n",
      "======================================================================\n"
     ]
    },
    {
     "name": "stderr",
     "output_type": "stream",
     "text": [
      "                                                                                \r"
     ]
    },
    {
     "name": "stdout",
     "output_type": "stream",
     "text": [
      "=== size_mult=50;         n_part_req=16; n_part_act=16; df_count=12606850 ===\n",
      "\n"
     ]
    },
    {
     "name": "stderr",
     "output_type": "stream",
     "text": [
      "                                                                                \r"
     ]
    },
    {
     "name": "stdout",
     "output_type": "stream",
     "text": [
      "model 0 build time 10.6 \n",
      " DecisionTreeClassificationModel: uid=DecisionTreeClassifier_58e6b8ac6094, depth=13, numNodes=47, numClasses=2, numFeatures=1\n"
     ]
    },
    {
     "name": "stderr",
     "output_type": "stream",
     "text": [
      "                                                                                \r"
     ]
    },
    {
     "name": "stdout",
     "output_type": "stream",
     "text": [
      "model 1 build time 10.44 \n",
      " DecisionTreeClassificationModel: uid=DecisionTreeClassifier_b22308d74a75, depth=13, numNodes=47, numClasses=2, numFeatures=1\n"
     ]
    },
    {
     "name": "stderr",
     "output_type": "stream",
     "text": [
      "                                                                                \r"
     ]
    },
    {
     "name": "stdout",
     "output_type": "stream",
     "text": [
      "model 2 build time 10.21 \n",
      " DecisionTreeClassificationModel: uid=DecisionTreeClassifier_2812887985ea, depth=13, numNodes=47, numClasses=2, numFeatures=1\n",
      "======================================================================\n"
     ]
    },
    {
     "name": "stderr",
     "output_type": "stream",
     "text": [
      "                                                                                \r"
     ]
    },
    {
     "name": "stdout",
     "output_type": "stream",
     "text": [
      "=== size_mult=50;         n_part_req=24; n_part_act=24; df_count=12606850 ===\n",
      "\n"
     ]
    },
    {
     "name": "stderr",
     "output_type": "stream",
     "text": [
      "                                                                                \r"
     ]
    },
    {
     "name": "stdout",
     "output_type": "stream",
     "text": [
      "model 0 build time 9.57 \n",
      " DecisionTreeClassificationModel: uid=DecisionTreeClassifier_0cc14299fd60, depth=11, numNodes=43, numClasses=2, numFeatures=1\n"
     ]
    },
    {
     "name": "stderr",
     "output_type": "stream",
     "text": [
      "                                                                                \r"
     ]
    },
    {
     "name": "stdout",
     "output_type": "stream",
     "text": [
      "model 1 build time 11.18 \n",
      " DecisionTreeClassificationModel: uid=DecisionTreeClassifier_3abb26e127dc, depth=11, numNodes=43, numClasses=2, numFeatures=1\n"
     ]
    },
    {
     "name": "stderr",
     "output_type": "stream",
     "text": [
      "\r",
      "[Stage 7686:=============================================>        (20 + 4) / 24]\r",
      "\r",
      "                                                                                \r"
     ]
    },
    {
     "name": "stdout",
     "output_type": "stream",
     "text": [
      "model 2 build time 8.67 \n",
      " DecisionTreeClassificationModel: uid=DecisionTreeClassifier_3ed9e5fe4dc0, depth=11, numNodes=43, numClasses=2, numFeatures=1\n",
      "======================================================================\n"
     ]
    },
    {
     "name": "stderr",
     "output_type": "stream",
     "text": [
      "                                                                                \r"
     ]
    },
    {
     "name": "stdout",
     "output_type": "stream",
     "text": [
      "=== size_mult=50;         n_part_req=36; n_part_act=36; df_count=12606850 ===\n",
      "\n"
     ]
    },
    {
     "name": "stderr",
     "output_type": "stream",
     "text": [
      "                                                                                \r"
     ]
    },
    {
     "name": "stdout",
     "output_type": "stream",
     "text": [
      "model 0 build time 8.61 \n",
      " DecisionTreeClassificationModel: uid=DecisionTreeClassifier_b21b186f9bc9, depth=9, numNodes=29, numClasses=2, numFeatures=1\n",
      "model 1 build time 7.8 \n",
      " DecisionTreeClassificationModel: uid=DecisionTreeClassifier_9b65de294898, depth=9, numNodes=29, numClasses=2, numFeatures=1\n",
      "model 2 build time 7.72 \n",
      " DecisionTreeClassificationModel: uid=DecisionTreeClassifier_65cdb1e20c90, depth=9, numNodes=29, numClasses=2, numFeatures=1\n",
      "======================================================================\n"
     ]
    },
    {
     "name": "stderr",
     "output_type": "stream",
     "text": [
      "                                                                                \r"
     ]
    },
    {
     "name": "stdout",
     "output_type": "stream",
     "text": [
      "=== size_mult=50;         n_part_req=72; n_part_act=72; df_count=12606850 ===\n",
      "\n"
     ]
    },
    {
     "name": "stderr",
     "output_type": "stream",
     "text": [
      "                                                                                \r"
     ]
    },
    {
     "name": "stdout",
     "output_type": "stream",
     "text": [
      "model 0 build time 8.93 \n",
      " DecisionTreeClassificationModel: uid=DecisionTreeClassifier_adc0e2880697, depth=12, numNodes=47, numClasses=2, numFeatures=1\n"
     ]
    },
    {
     "name": "stderr",
     "output_type": "stream",
     "text": [
      "                                                                                \r"
     ]
    },
    {
     "name": "stdout",
     "output_type": "stream",
     "text": [
      "model 1 build time 9.23 \n",
      " DecisionTreeClassificationModel: uid=DecisionTreeClassifier_5a3f0287aa34, depth=12, numNodes=47, numClasses=2, numFeatures=1\n"
     ]
    },
    {
     "name": "stderr",
     "output_type": "stream",
     "text": [
      "                                                                                \r"
     ]
    },
    {
     "name": "stdout",
     "output_type": "stream",
     "text": [
      "model 2 build time 9.15 \n",
      " DecisionTreeClassificationModel: uid=DecisionTreeClassifier_d7e4aa9020d6, depth=12, numNodes=47, numClasses=2, numFeatures=1\n",
      "======================================================================\n"
     ]
    },
    {
     "name": "stderr",
     "output_type": "stream",
     "text": [
      "                                                                                \r"
     ]
    },
    {
     "name": "stdout",
     "output_type": "stream",
     "text": [
      "=== size_mult=100;         n_part_req=8; n_part_act=8; df_count=25213700 ===\n",
      "\n"
     ]
    },
    {
     "name": "stderr",
     "output_type": "stream",
     "text": [
      "                                                                                \r"
     ]
    },
    {
     "name": "stdout",
     "output_type": "stream",
     "text": [
      "model 0 build time 36.92 \n",
      " DecisionTreeClassificationModel: uid=DecisionTreeClassifier_3e49db78f805, depth=10, numNodes=33, numClasses=2, numFeatures=1\n"
     ]
    },
    {
     "name": "stderr",
     "output_type": "stream",
     "text": [
      "                                                                                \r"
     ]
    },
    {
     "name": "stdout",
     "output_type": "stream",
     "text": [
      "model 1 build time 28.57 \n",
      " DecisionTreeClassificationModel: uid=DecisionTreeClassifier_0bad2a3ef950, depth=10, numNodes=33, numClasses=2, numFeatures=1\n"
     ]
    },
    {
     "name": "stderr",
     "output_type": "stream",
     "text": [
      "                                                                                \r"
     ]
    },
    {
     "name": "stdout",
     "output_type": "stream",
     "text": [
      "model 2 build time 26.52 \n",
      " DecisionTreeClassificationModel: uid=DecisionTreeClassifier_21b8cf4d2396, depth=10, numNodes=33, numClasses=2, numFeatures=1\n",
      "======================================================================\n"
     ]
    },
    {
     "name": "stderr",
     "output_type": "stream",
     "text": [
      "                                                                                \r"
     ]
    },
    {
     "name": "stdout",
     "output_type": "stream",
     "text": [
      "=== size_mult=100;         n_part_req=12; n_part_act=12; df_count=25213700 ===\n",
      "\n"
     ]
    },
    {
     "name": "stderr",
     "output_type": "stream",
     "text": [
      "                                                                                \r"
     ]
    },
    {
     "name": "stdout",
     "output_type": "stream",
     "text": [
      "model 0 build time 21.25 \n",
      " DecisionTreeClassificationModel: uid=DecisionTreeClassifier_df2cc112371f, depth=13, numNodes=41, numClasses=2, numFeatures=1\n"
     ]
    },
    {
     "name": "stderr",
     "output_type": "stream",
     "text": [
      "                                                                                \r"
     ]
    },
    {
     "name": "stdout",
     "output_type": "stream",
     "text": [
      "model 1 build time 22.61 \n",
      " DecisionTreeClassificationModel: uid=DecisionTreeClassifier_12092179ac03, depth=13, numNodes=41, numClasses=2, numFeatures=1\n"
     ]
    },
    {
     "name": "stderr",
     "output_type": "stream",
     "text": [
      "                                                                                \r"
     ]
    },
    {
     "name": "stdout",
     "output_type": "stream",
     "text": [
      "model 2 build time 18.94 \n",
      " DecisionTreeClassificationModel: uid=DecisionTreeClassifier_d27925b3c83a, depth=13, numNodes=41, numClasses=2, numFeatures=1\n",
      "======================================================================\n"
     ]
    },
    {
     "name": "stderr",
     "output_type": "stream",
     "text": [
      "                                                                                \r"
     ]
    },
    {
     "name": "stdout",
     "output_type": "stream",
     "text": [
      "=== size_mult=100;         n_part_req=16; n_part_act=16; df_count=25213700 ===\n",
      "\n"
     ]
    },
    {
     "name": "stderr",
     "output_type": "stream",
     "text": [
      "                                                                                \r"
     ]
    },
    {
     "name": "stdout",
     "output_type": "stream",
     "text": [
      "model 0 build time 17.28 \n",
      " DecisionTreeClassificationModel: uid=DecisionTreeClassifier_5175603fc1c5, depth=12, numNodes=41, numClasses=2, numFeatures=1\n"
     ]
    },
    {
     "name": "stderr",
     "output_type": "stream",
     "text": [
      "                                                                                \r"
     ]
    },
    {
     "name": "stdout",
     "output_type": "stream",
     "text": [
      "model 1 build time 15.07 \n",
      " DecisionTreeClassificationModel: uid=DecisionTreeClassifier_94946f264917, depth=12, numNodes=41, numClasses=2, numFeatures=1\n"
     ]
    },
    {
     "name": "stderr",
     "output_type": "stream",
     "text": [
      "                                                                                \r"
     ]
    },
    {
     "name": "stdout",
     "output_type": "stream",
     "text": [
      "model 2 build time 15.02 \n",
      " DecisionTreeClassificationModel: uid=DecisionTreeClassifier_01cb162d0f29, depth=12, numNodes=41, numClasses=2, numFeatures=1\n",
      "======================================================================\n"
     ]
    },
    {
     "name": "stderr",
     "output_type": "stream",
     "text": [
      "                                                                                \r"
     ]
    },
    {
     "name": "stdout",
     "output_type": "stream",
     "text": [
      "=== size_mult=100;         n_part_req=24; n_part_act=24; df_count=25213700 ===\n",
      "\n"
     ]
    },
    {
     "name": "stderr",
     "output_type": "stream",
     "text": [
      "                                                                                \r"
     ]
    },
    {
     "name": "stdout",
     "output_type": "stream",
     "text": [
      "model 0 build time 12.67 \n",
      " DecisionTreeClassificationModel: uid=DecisionTreeClassifier_bb0d1a2b7762, depth=11, numNodes=37, numClasses=2, numFeatures=1\n"
     ]
    },
    {
     "name": "stderr",
     "output_type": "stream",
     "text": [
      "                                                                                \r"
     ]
    },
    {
     "name": "stdout",
     "output_type": "stream",
     "text": [
      "model 1 build time 13.61 \n",
      " DecisionTreeClassificationModel: uid=DecisionTreeClassifier_d9ecac8babd0, depth=11, numNodes=37, numClasses=2, numFeatures=1\n"
     ]
    },
    {
     "name": "stderr",
     "output_type": "stream",
     "text": [
      "                                                                                \r"
     ]
    },
    {
     "name": "stdout",
     "output_type": "stream",
     "text": [
      "model 2 build time 12.11 \n",
      " DecisionTreeClassificationModel: uid=DecisionTreeClassifier_f31a382d0663, depth=11, numNodes=37, numClasses=2, numFeatures=1\n",
      "======================================================================\n"
     ]
    },
    {
     "name": "stderr",
     "output_type": "stream",
     "text": [
      "                                                                                \r"
     ]
    },
    {
     "name": "stdout",
     "output_type": "stream",
     "text": [
      "=== size_mult=100;         n_part_req=36; n_part_act=36; df_count=25213700 ===\n",
      "\n"
     ]
    },
    {
     "name": "stderr",
     "output_type": "stream",
     "text": [
      "                                                                                \r"
     ]
    },
    {
     "name": "stdout",
     "output_type": "stream",
     "text": [
      "model 0 build time 12.3 \n",
      " DecisionTreeClassificationModel: uid=DecisionTreeClassifier_f1766868e2e6, depth=12, numNodes=45, numClasses=2, numFeatures=1\n"
     ]
    },
    {
     "name": "stderr",
     "output_type": "stream",
     "text": [
      "                                                                                \r"
     ]
    },
    {
     "name": "stdout",
     "output_type": "stream",
     "text": [
      "model 1 build time 10.69 \n",
      " DecisionTreeClassificationModel: uid=DecisionTreeClassifier_126a157ce37c, depth=12, numNodes=45, numClasses=2, numFeatures=1\n"
     ]
    },
    {
     "name": "stderr",
     "output_type": "stream",
     "text": [
      "                                                                                \r"
     ]
    },
    {
     "name": "stdout",
     "output_type": "stream",
     "text": [
      "model 2 build time 12.01 \n",
      " DecisionTreeClassificationModel: uid=DecisionTreeClassifier_7dd97685a5fe, depth=12, numNodes=45, numClasses=2, numFeatures=1\n",
      "======================================================================\n"
     ]
    },
    {
     "name": "stderr",
     "output_type": "stream",
     "text": [
      "                                                                                \r"
     ]
    },
    {
     "name": "stdout",
     "output_type": "stream",
     "text": [
      "=== size_mult=100;         n_part_req=72; n_part_act=72; df_count=25213700 ===\n",
      "\n"
     ]
    },
    {
     "name": "stderr",
     "output_type": "stream",
     "text": [
      "                                                                                \r"
     ]
    },
    {
     "name": "stdout",
     "output_type": "stream",
     "text": [
      "model 0 build time 16.24 \n",
      " DecisionTreeClassificationModel: uid=DecisionTreeClassifier_bc8e2539669c, depth=11, numNodes=37, numClasses=2, numFeatures=1\n"
     ]
    },
    {
     "name": "stderr",
     "output_type": "stream",
     "text": [
      "                                                                                \r"
     ]
    },
    {
     "name": "stdout",
     "output_type": "stream",
     "text": [
      "model 1 build time 12.57 \n",
      " DecisionTreeClassificationModel: uid=DecisionTreeClassifier_b068b6947708, depth=11, numNodes=37, numClasses=2, numFeatures=1\n"
     ]
    },
    {
     "name": "stderr",
     "output_type": "stream",
     "text": [
      "[Stage 9021:===================================================>  (68 + 4) / 72]\r"
     ]
    },
    {
     "name": "stdout",
     "output_type": "stream",
     "text": [
      "model 2 build time 11.12 \n",
      " DecisionTreeClassificationModel: uid=DecisionTreeClassifier_06f71545d618, depth=11, numNodes=37, numClasses=2, numFeatures=1\n"
     ]
    },
    {
     "name": "stderr",
     "output_type": "stream",
     "text": [
      "\r",
      "[Stage 9022:===================================================>  (68 + 4) / 72]\r",
      "\r",
      "                                                                                \r"
     ]
    }
   ],
   "source": [
    "## !! mind the fn NOT TO rewrite results\n",
    "fn = '8cpu_by_12n__8m_yarn_ssd_repart'\n",
    "size_mult = [1, 2, 5, 10, 15, 20, 30, 50, 100]\n",
    "partitions = [8, 12, 16, 24, 36, 72] \n",
    "# initial, 2**i incl n_nodes till n_cpu*n_nodes and n_cpu*n_nodes\n",
    "n_iter = 3\n",
    "\n",
    "print('d1-size', d1.count())\n",
    "n_part_base = d1.rdd.getNumPartitions()\n",
    "print('n-partitions initial', n_part_base, '\\n')\n",
    "\n",
    "rd1 = {}\n",
    "for k_size_mult in size_mult:\n",
    "    rd2 = {}\n",
    "    for n_part in partitions:\n",
    "        df = prepare_spark_data(n_part, k_size_mult)\n",
    "        df.cache()\n",
    "        print('======================================================================')\n",
    "        print(f'=== size_mult={k_size_mult}; \\\n",
    "        n_part_req={n_part}; n_part_act={df.rdd.getNumPartitions()}; df_count={df.count()} ===\\n')\n",
    "        times = [0 for i in range(n_iter)]\n",
    "        models = {}\n",
    "        for i in range(n_iter):\n",
    "            dt = DTC_spark(labelCol=\"TARGET\",\n",
    "                       featuresCol=\"DAYS_EMPLOYED_vect\",\n",
    "                       minInfoGain=0.0001,\n",
    "                       impurity='entropy',\n",
    "                       maxDepth=14, maxBins=2**14, # it differs from scikit learn - it means number of canidate split points\n",
    "                       #minInstancesPerNode = 1,\n",
    "                       #checkpointInterval = 10\n",
    "                       )\n",
    "           \n",
    "            t0 = ttt()\n",
    "            model = dt.fit(df)\n",
    "            t1 = ttt()\n",
    "            times[i] = t1-t0\n",
    "            models[i] = model \n",
    "            print('model', i, 'build time', round(times[i],2), '\\n', model)\n",
    "        rd2[n_part] = (models, times)\n",
    "    rd1[k_size_mult] = rd2\n",
    "\n",
    "result = rd1  "
   ]
  },
  {
   "cell_type": "markdown",
   "id": "bb6b1aef",
   "metadata": {},
   "source": [
    "# Results"
   ]
  },
  {
   "cell_type": "code",
   "execution_count": 6,
   "id": "91c2c809",
   "metadata": {
    "ExecuteTime": {
     "end_time": "2021-11-27T07:11:19.332869Z",
     "start_time": "2021-11-27T07:11:18.493533Z"
    }
   },
   "outputs": [
    {
     "name": "stdout",
     "output_type": "stream",
     "text": [
      "0 ['DecisionTreeClassificationModel:', 'uid=DecisionTreeClassifier_9fc4c863286d,', 'depth=14,', 'numNodes=123,', 'numClasses=2,', 'numFeatures=1']\n",
      "1 ['DecisionTreeClassificationModel:', 'uid=DecisionTreeClassifier_8d5a1ab56ea6,', 'depth=14,', 'numNodes=123,', 'numClasses=2,', 'numFeatures=1']\n",
      "2 ['DecisionTreeClassificationModel:', 'uid=DecisionTreeClassifier_1124f765e59b,', 'depth=14,', 'numNodes=123,', 'numClasses=2,', 'numFeatures=1']\n",
      "0 ['DecisionTreeClassificationModel:', 'uid=DecisionTreeClassifier_06b36774c047,', 'depth=14,', 'numNodes=123,', 'numClasses=2,', 'numFeatures=1']\n",
      "1 ['DecisionTreeClassificationModel:', 'uid=DecisionTreeClassifier_5478081bbb39,', 'depth=14,', 'numNodes=123,', 'numClasses=2,', 'numFeatures=1']\n",
      "2 ['DecisionTreeClassificationModel:', 'uid=DecisionTreeClassifier_ec66c7941687,', 'depth=14,', 'numNodes=123,', 'numClasses=2,', 'numFeatures=1']\n",
      "0 ['DecisionTreeClassificationModel:', 'uid=DecisionTreeClassifier_bb2348ef1edf,', 'depth=14,', 'numNodes=123,', 'numClasses=2,', 'numFeatures=1']\n",
      "1 ['DecisionTreeClassificationModel:', 'uid=DecisionTreeClassifier_5184f902ea85,', 'depth=14,', 'numNodes=123,', 'numClasses=2,', 'numFeatures=1']\n",
      "2 ['DecisionTreeClassificationModel:', 'uid=DecisionTreeClassifier_3e146121923f,', 'depth=14,', 'numNodes=123,', 'numClasses=2,', 'numFeatures=1']\n",
      "0 ['DecisionTreeClassificationModel:', 'uid=DecisionTreeClassifier_ceb39fae9930,', 'depth=14,', 'numNodes=123,', 'numClasses=2,', 'numFeatures=1']\n",
      "1 ['DecisionTreeClassificationModel:', 'uid=DecisionTreeClassifier_7d2e0394d2de,', 'depth=14,', 'numNodes=123,', 'numClasses=2,', 'numFeatures=1']\n",
      "2 ['DecisionTreeClassificationModel:', 'uid=DecisionTreeClassifier_20e938d51014,', 'depth=14,', 'numNodes=123,', 'numClasses=2,', 'numFeatures=1']\n",
      "0 ['DecisionTreeClassificationModel:', 'uid=DecisionTreeClassifier_88dd62fb840e,', 'depth=14,', 'numNodes=123,', 'numClasses=2,', 'numFeatures=1']\n",
      "1 ['DecisionTreeClassificationModel:', 'uid=DecisionTreeClassifier_12ee740302f0,', 'depth=14,', 'numNodes=123,', 'numClasses=2,', 'numFeatures=1']\n",
      "2 ['DecisionTreeClassificationModel:', 'uid=DecisionTreeClassifier_9f3eaa3996dd,', 'depth=14,', 'numNodes=123,', 'numClasses=2,', 'numFeatures=1']\n",
      "0 ['DecisionTreeClassificationModel:', 'uid=DecisionTreeClassifier_4f731dcc1675,', 'depth=14,', 'numNodes=123,', 'numClasses=2,', 'numFeatures=1']\n",
      "1 ['DecisionTreeClassificationModel:', 'uid=DecisionTreeClassifier_c3ea8621cfd7,', 'depth=14,', 'numNodes=123,', 'numClasses=2,', 'numFeatures=1']\n",
      "2 ['DecisionTreeClassificationModel:', 'uid=DecisionTreeClassifier_ad5876dd2a2f,', 'depth=14,', 'numNodes=123,', 'numClasses=2,', 'numFeatures=1']\n",
      "0 ['DecisionTreeClassificationModel:', 'uid=DecisionTreeClassifier_ff226af2c7c1,', 'depth=14,', 'numNodes=145,', 'numClasses=2,', 'numFeatures=1']\n",
      "1 ['DecisionTreeClassificationModel:', 'uid=DecisionTreeClassifier_0eccf33de376,', 'depth=14,', 'numNodes=145,', 'numClasses=2,', 'numFeatures=1']\n",
      "2 ['DecisionTreeClassificationModel:', 'uid=DecisionTreeClassifier_e684f9691523,', 'depth=14,', 'numNodes=145,', 'numClasses=2,', 'numFeatures=1']\n",
      "0 ['DecisionTreeClassificationModel:', 'uid=DecisionTreeClassifier_a1848304df41,', 'depth=14,', 'numNodes=129,', 'numClasses=2,', 'numFeatures=1']\n",
      "1 ['DecisionTreeClassificationModel:', 'uid=DecisionTreeClassifier_bdf0ecc3c751,', 'depth=14,', 'numNodes=129,', 'numClasses=2,', 'numFeatures=1']\n",
      "2 ['DecisionTreeClassificationModel:', 'uid=DecisionTreeClassifier_0bd7ec1a34b6,', 'depth=14,', 'numNodes=129,', 'numClasses=2,', 'numFeatures=1']\n",
      "0 ['DecisionTreeClassificationModel:', 'uid=DecisionTreeClassifier_9d6d2c952ab0,', 'depth=14,', 'numNodes=131,', 'numClasses=2,', 'numFeatures=1']\n",
      "1 ['DecisionTreeClassificationModel:', 'uid=DecisionTreeClassifier_b6e51f478deb,', 'depth=14,', 'numNodes=131,', 'numClasses=2,', 'numFeatures=1']\n",
      "2 ['DecisionTreeClassificationModel:', 'uid=DecisionTreeClassifier_a0b6ea311fca,', 'depth=14,', 'numNodes=131,', 'numClasses=2,', 'numFeatures=1']\n",
      "0 ['DecisionTreeClassificationModel:', 'uid=DecisionTreeClassifier_4ebe30c8a167,', 'depth=14,', 'numNodes=137,', 'numClasses=2,', 'numFeatures=1']\n",
      "1 ['DecisionTreeClassificationModel:', 'uid=DecisionTreeClassifier_a39d4608bc14,', 'depth=14,', 'numNodes=137,', 'numClasses=2,', 'numFeatures=1']\n",
      "2 ['DecisionTreeClassificationModel:', 'uid=DecisionTreeClassifier_8e0d0d0f7d0a,', 'depth=14,', 'numNodes=137,', 'numClasses=2,', 'numFeatures=1']\n",
      "0 ['DecisionTreeClassificationModel:', 'uid=DecisionTreeClassifier_d35c0ca09125,', 'depth=14,', 'numNodes=135,', 'numClasses=2,', 'numFeatures=1']\n",
      "1 ['DecisionTreeClassificationModel:', 'uid=DecisionTreeClassifier_1cda596289b2,', 'depth=14,', 'numNodes=135,', 'numClasses=2,', 'numFeatures=1']\n",
      "2 ['DecisionTreeClassificationModel:', 'uid=DecisionTreeClassifier_f55b7a259d18,', 'depth=14,', 'numNodes=135,', 'numClasses=2,', 'numFeatures=1']\n",
      "0 ['DecisionTreeClassificationModel:', 'uid=DecisionTreeClassifier_aa0b11d11c13,', 'depth=14,', 'numNodes=135,', 'numClasses=2,', 'numFeatures=1']\n",
      "1 ['DecisionTreeClassificationModel:', 'uid=DecisionTreeClassifier_95848e28f399,', 'depth=14,', 'numNodes=135,', 'numClasses=2,', 'numFeatures=1']\n",
      "2 ['DecisionTreeClassificationModel:', 'uid=DecisionTreeClassifier_df757bc90801,', 'depth=14,', 'numNodes=135,', 'numClasses=2,', 'numFeatures=1']\n",
      "0 ['DecisionTreeClassificationModel:', 'uid=DecisionTreeClassifier_f870b772bd48,', 'depth=14,', 'numNodes=139,', 'numClasses=2,', 'numFeatures=1']\n",
      "1 ['DecisionTreeClassificationModel:', 'uid=DecisionTreeClassifier_dd286a112fd4,', 'depth=14,', 'numNodes=139,', 'numClasses=2,', 'numFeatures=1']\n",
      "2 ['DecisionTreeClassificationModel:', 'uid=DecisionTreeClassifier_8774469ed62e,', 'depth=14,', 'numNodes=139,', 'numClasses=2,', 'numFeatures=1']\n",
      "0 ['DecisionTreeClassificationModel:', 'uid=DecisionTreeClassifier_bd33fa2eb15c,', 'depth=14,', 'numNodes=141,', 'numClasses=2,', 'numFeatures=1']\n",
      "1 ['DecisionTreeClassificationModel:', 'uid=DecisionTreeClassifier_36eac757ea84,', 'depth=14,', 'numNodes=141,', 'numClasses=2,', 'numFeatures=1']\n",
      "2 ['DecisionTreeClassificationModel:', 'uid=DecisionTreeClassifier_03d6131f0a88,', 'depth=14,', 'numNodes=141,', 'numClasses=2,', 'numFeatures=1']\n",
      "0 ['DecisionTreeClassificationModel:', 'uid=DecisionTreeClassifier_be65acac95fe,', 'depth=14,', 'numNodes=115,', 'numClasses=2,', 'numFeatures=1']\n",
      "1 ['DecisionTreeClassificationModel:', 'uid=DecisionTreeClassifier_78594e4387c5,', 'depth=14,', 'numNodes=115,', 'numClasses=2,', 'numFeatures=1']\n",
      "2 ['DecisionTreeClassificationModel:', 'uid=DecisionTreeClassifier_636012dc84fe,', 'depth=14,', 'numNodes=115,', 'numClasses=2,', 'numFeatures=1']\n",
      "0 ['DecisionTreeClassificationModel:', 'uid=DecisionTreeClassifier_bb73b8297925,', 'depth=14,', 'numNodes=127,', 'numClasses=2,', 'numFeatures=1']\n",
      "1 ['DecisionTreeClassificationModel:', 'uid=DecisionTreeClassifier_0324a5fe5d9c,', 'depth=14,', 'numNodes=127,', 'numClasses=2,', 'numFeatures=1']\n",
      "2 ['DecisionTreeClassificationModel:', 'uid=DecisionTreeClassifier_fe21dfa7437b,', 'depth=14,', 'numNodes=127,', 'numClasses=2,', 'numFeatures=1']\n",
      "0 ['DecisionTreeClassificationModel:', 'uid=DecisionTreeClassifier_278084c11820,', 'depth=13,', 'numNodes=51,', 'numClasses=2,', 'numFeatures=1']\n",
      "1 ['DecisionTreeClassificationModel:', 'uid=DecisionTreeClassifier_1ab52b13511b,', 'depth=13,', 'numNodes=51,', 'numClasses=2,', 'numFeatures=1']\n",
      "2 ['DecisionTreeClassificationModel:', 'uid=DecisionTreeClassifier_e8ca2ec2e2a1,', 'depth=13,', 'numNodes=51,', 'numClasses=2,', 'numFeatures=1']\n",
      "0 ['DecisionTreeClassificationModel:', 'uid=DecisionTreeClassifier_e13d8c288d53,', 'depth=13,', 'numNodes=95,', 'numClasses=2,', 'numFeatures=1']\n",
      "1 ['DecisionTreeClassificationModel:', 'uid=DecisionTreeClassifier_e71028602a48,', 'depth=13,', 'numNodes=95,', 'numClasses=2,', 'numFeatures=1']\n",
      "2 ['DecisionTreeClassificationModel:', 'uid=DecisionTreeClassifier_8c8362a92606,', 'depth=13,', 'numNodes=95,', 'numClasses=2,', 'numFeatures=1']\n",
      "0 ['DecisionTreeClassificationModel:', 'uid=DecisionTreeClassifier_a8676a6d5eab,', 'depth=14,', 'numNodes=55,', 'numClasses=2,', 'numFeatures=1']\n",
      "1 ['DecisionTreeClassificationModel:', 'uid=DecisionTreeClassifier_0809c9e03f60,', 'depth=14,', 'numNodes=55,', 'numClasses=2,', 'numFeatures=1']\n",
      "2 ['DecisionTreeClassificationModel:', 'uid=DecisionTreeClassifier_a6595dc19d2a,', 'depth=14,', 'numNodes=55,', 'numClasses=2,', 'numFeatures=1']\n",
      "0 ['DecisionTreeClassificationModel:', 'uid=DecisionTreeClassifier_4b3407cc5eb1,', 'depth=13,', 'numNodes=85,', 'numClasses=2,', 'numFeatures=1']\n",
      "1 ['DecisionTreeClassificationModel:', 'uid=DecisionTreeClassifier_7bc4015de902,', 'depth=13,', 'numNodes=85,', 'numClasses=2,', 'numFeatures=1']\n",
      "2 ['DecisionTreeClassificationModel:', 'uid=DecisionTreeClassifier_f24c8aa9c55d,', 'depth=13,', 'numNodes=85,', 'numClasses=2,', 'numFeatures=1']\n",
      "0 ['DecisionTreeClassificationModel:', 'uid=DecisionTreeClassifier_a569205911a3,', 'depth=14,', 'numNodes=107,', 'numClasses=2,', 'numFeatures=1']\n",
      "1 ['DecisionTreeClassificationModel:', 'uid=DecisionTreeClassifier_9cb08f8cac4b,', 'depth=14,', 'numNodes=107,', 'numClasses=2,', 'numFeatures=1']\n",
      "2 ['DecisionTreeClassificationModel:', 'uid=DecisionTreeClassifier_3106bb127f18,', 'depth=14,', 'numNodes=107,', 'numClasses=2,', 'numFeatures=1']\n",
      "0 ['DecisionTreeClassificationModel:', 'uid=DecisionTreeClassifier_4b2b50d38975,', 'depth=14,', 'numNodes=73,', 'numClasses=2,', 'numFeatures=1']\n",
      "1 ['DecisionTreeClassificationModel:', 'uid=DecisionTreeClassifier_3a86b6fc98d2,', 'depth=14,', 'numNodes=73,', 'numClasses=2,', 'numFeatures=1']\n",
      "2 ['DecisionTreeClassificationModel:', 'uid=DecisionTreeClassifier_1c2eca300044,', 'depth=14,', 'numNodes=73,', 'numClasses=2,', 'numFeatures=1']\n",
      "0 ['DecisionTreeClassificationModel:', 'uid=DecisionTreeClassifier_1620df4c2309,', 'depth=14,', 'numNodes=53,', 'numClasses=2,', 'numFeatures=1']\n",
      "1 ['DecisionTreeClassificationModel:', 'uid=DecisionTreeClassifier_ebe13b900e5b,', 'depth=14,', 'numNodes=53,', 'numClasses=2,', 'numFeatures=1']\n",
      "2 ['DecisionTreeClassificationModel:', 'uid=DecisionTreeClassifier_84ad38e7b37c,', 'depth=14,', 'numNodes=53,', 'numClasses=2,', 'numFeatures=1']\n",
      "0 ['DecisionTreeClassificationModel:', 'uid=DecisionTreeClassifier_642cdd184f28,', 'depth=14,', 'numNodes=69,', 'numClasses=2,', 'numFeatures=1']\n",
      "1 ['DecisionTreeClassificationModel:', 'uid=DecisionTreeClassifier_f269d4431751,', 'depth=14,', 'numNodes=69,', 'numClasses=2,', 'numFeatures=1']\n",
      "2 ['DecisionTreeClassificationModel:', 'uid=DecisionTreeClassifier_354d8469a6c5,', 'depth=14,', 'numNodes=69,', 'numClasses=2,', 'numFeatures=1']\n",
      "0 ['DecisionTreeClassificationModel:', 'uid=DecisionTreeClassifier_9596cfa465fc,', 'depth=14,', 'numNodes=59,', 'numClasses=2,', 'numFeatures=1']\n",
      "1 ['DecisionTreeClassificationModel:', 'uid=DecisionTreeClassifier_8d7663f7a6ed,', 'depth=14,', 'numNodes=59,', 'numClasses=2,', 'numFeatures=1']\n",
      "2 ['DecisionTreeClassificationModel:', 'uid=DecisionTreeClassifier_3f7d79f93f14,', 'depth=14,', 'numNodes=59,', 'numClasses=2,', 'numFeatures=1']\n",
      "0 ['DecisionTreeClassificationModel:', 'uid=DecisionTreeClassifier_53170bb33247,', 'depth=14,', 'numNodes=113,', 'numClasses=2,', 'numFeatures=1']\n",
      "1 ['DecisionTreeClassificationModel:', 'uid=DecisionTreeClassifier_884f77c61fc4,', 'depth=14,', 'numNodes=113,', 'numClasses=2,', 'numFeatures=1']\n",
      "2 ['DecisionTreeClassificationModel:', 'uid=DecisionTreeClassifier_43e5bfa8b359,', 'depth=14,', 'numNodes=113,', 'numClasses=2,', 'numFeatures=1']\n",
      "0 ['DecisionTreeClassificationModel:', 'uid=DecisionTreeClassifier_bb66fd88e49b,', 'depth=12,', 'numNodes=57,', 'numClasses=2,', 'numFeatures=1']\n",
      "1 ['DecisionTreeClassificationModel:', 'uid=DecisionTreeClassifier_a6953dfe69bf,', 'depth=12,', 'numNodes=57,', 'numClasses=2,', 'numFeatures=1']\n",
      "2 ['DecisionTreeClassificationModel:', 'uid=DecisionTreeClassifier_d60351076543,', 'depth=12,', 'numNodes=57,', 'numClasses=2,', 'numFeatures=1']\n",
      "0 ['DecisionTreeClassificationModel:', 'uid=DecisionTreeClassifier_e6719e36f76d,', 'depth=14,', 'numNodes=49,', 'numClasses=2,', 'numFeatures=1']\n",
      "1 ['DecisionTreeClassificationModel:', 'uid=DecisionTreeClassifier_e07f9a666e9a,', 'depth=14,', 'numNodes=49,', 'numClasses=2,', 'numFeatures=1']\n",
      "2 ['DecisionTreeClassificationModel:', 'uid=DecisionTreeClassifier_106819ba4b57,', 'depth=14,', 'numNodes=49,', 'numClasses=2,', 'numFeatures=1']\n",
      "0 ['DecisionTreeClassificationModel:', 'uid=DecisionTreeClassifier_7974fd36b7f8,', 'depth=14,', 'numNodes=77,', 'numClasses=2,', 'numFeatures=1']\n",
      "1 ['DecisionTreeClassificationModel:', 'uid=DecisionTreeClassifier_62985d36ddc7,', 'depth=14,', 'numNodes=77,', 'numClasses=2,', 'numFeatures=1']\n",
      "2 ['DecisionTreeClassificationModel:', 'uid=DecisionTreeClassifier_b04467e6b0e8,', 'depth=14,', 'numNodes=77,', 'numClasses=2,', 'numFeatures=1']\n",
      "0 ['DecisionTreeClassificationModel:', 'uid=DecisionTreeClassifier_e4afa192ef5f,', 'depth=14,', 'numNodes=61,', 'numClasses=2,', 'numFeatures=1']\n",
      "1 ['DecisionTreeClassificationModel:', 'uid=DecisionTreeClassifier_3684c47d92f5,', 'depth=14,', 'numNodes=61,', 'numClasses=2,', 'numFeatures=1']\n",
      "2 ['DecisionTreeClassificationModel:', 'uid=DecisionTreeClassifier_b9f105ac46d6,', 'depth=14,', 'numNodes=61,', 'numClasses=2,', 'numFeatures=1']\n",
      "0 ['DecisionTreeClassificationModel:', 'uid=DecisionTreeClassifier_13a08bf27d66,', 'depth=14,', 'numNodes=71,', 'numClasses=2,', 'numFeatures=1']\n",
      "1 ['DecisionTreeClassificationModel:', 'uid=DecisionTreeClassifier_db7bb5b3056c,', 'depth=14,', 'numNodes=71,', 'numClasses=2,', 'numFeatures=1']\n",
      "2 ['DecisionTreeClassificationModel:', 'uid=DecisionTreeClassifier_5d579d3f2bd0,', 'depth=14,', 'numNodes=71,', 'numClasses=2,', 'numFeatures=1']\n",
      "0 ['DecisionTreeClassificationModel:', 'uid=DecisionTreeClassifier_98870ee6e644,', 'depth=13,', 'numNodes=65,', 'numClasses=2,', 'numFeatures=1']\n",
      "1 ['DecisionTreeClassificationModel:', 'uid=DecisionTreeClassifier_4dc3c85ed601,', 'depth=13,', 'numNodes=65,', 'numClasses=2,', 'numFeatures=1']\n",
      "2 ['DecisionTreeClassificationModel:', 'uid=DecisionTreeClassifier_087b76f3c36d,', 'depth=13,', 'numNodes=65,', 'numClasses=2,', 'numFeatures=1']\n",
      "0 ['DecisionTreeClassificationModel:', 'uid=DecisionTreeClassifier_ce0f6d178d42,', 'depth=10,', 'numNodes=41,', 'numClasses=2,', 'numFeatures=1']\n",
      "1 ['DecisionTreeClassificationModel:', 'uid=DecisionTreeClassifier_a68daed6d049,', 'depth=10,', 'numNodes=41,', 'numClasses=2,', 'numFeatures=1']\n",
      "2 ['DecisionTreeClassificationModel:', 'uid=DecisionTreeClassifier_e519e1d579cd,', 'depth=10,', 'numNodes=41,', 'numClasses=2,', 'numFeatures=1']\n",
      "0 ['DecisionTreeClassificationModel:', 'uid=DecisionTreeClassifier_7d5ae58a03f2,', 'depth=14,', 'numNodes=77,', 'numClasses=2,', 'numFeatures=1']\n",
      "1 ['DecisionTreeClassificationModel:', 'uid=DecisionTreeClassifier_23f3c9d84548,', 'depth=14,', 'numNodes=77,', 'numClasses=2,', 'numFeatures=1']\n",
      "2 ['DecisionTreeClassificationModel:', 'uid=DecisionTreeClassifier_80a838bafe2d,', 'depth=14,', 'numNodes=77,', 'numClasses=2,', 'numFeatures=1']\n",
      "0 ['DecisionTreeClassificationModel:', 'uid=DecisionTreeClassifier_28c88e2d560e,', 'depth=11,', 'numNodes=37,', 'numClasses=2,', 'numFeatures=1']\n",
      "1 ['DecisionTreeClassificationModel:', 'uid=DecisionTreeClassifier_6aa12386e872,', 'depth=11,', 'numNodes=37,', 'numClasses=2,', 'numFeatures=1']\n",
      "2 ['DecisionTreeClassificationModel:', 'uid=DecisionTreeClassifier_9412d5b70df0,', 'depth=11,', 'numNodes=37,', 'numClasses=2,', 'numFeatures=1']\n",
      "0 ['DecisionTreeClassificationModel:', 'uid=DecisionTreeClassifier_e401392d9b6a,', 'depth=14,', 'numNodes=73,', 'numClasses=2,', 'numFeatures=1']\n",
      "1 ['DecisionTreeClassificationModel:', 'uid=DecisionTreeClassifier_5badf521a28c,', 'depth=14,', 'numNodes=73,', 'numClasses=2,', 'numFeatures=1']\n",
      "2 ['DecisionTreeClassificationModel:', 'uid=DecisionTreeClassifier_9c306cc1b21c,', 'depth=14,', 'numNodes=73,', 'numClasses=2,', 'numFeatures=1']\n",
      "0 ['DecisionTreeClassificationModel:', 'uid=DecisionTreeClassifier_545940607191,', 'depth=14,', 'numNodes=49,', 'numClasses=2,', 'numFeatures=1']\n",
      "1 ['DecisionTreeClassificationModel:', 'uid=DecisionTreeClassifier_e3e79146697b,', 'depth=14,', 'numNodes=49,', 'numClasses=2,', 'numFeatures=1']\n",
      "2 ['DecisionTreeClassificationModel:', 'uid=DecisionTreeClassifier_229ef0f76bfe,', 'depth=14,', 'numNodes=49,', 'numClasses=2,', 'numFeatures=1']\n",
      "0 ['DecisionTreeClassificationModel:', 'uid=DecisionTreeClassifier_403b95667952,', 'depth=12,', 'numNodes=41,', 'numClasses=2,', 'numFeatures=1']\n",
      "1 ['DecisionTreeClassificationModel:', 'uid=DecisionTreeClassifier_598301989f9d,', 'depth=12,', 'numNodes=41,', 'numClasses=2,', 'numFeatures=1']\n",
      "2 ['DecisionTreeClassificationModel:', 'uid=DecisionTreeClassifier_33b04dc31368,', 'depth=12,', 'numNodes=41,', 'numClasses=2,', 'numFeatures=1']\n",
      "0 ['DecisionTreeClassificationModel:', 'uid=DecisionTreeClassifier_043db8f745de,', 'depth=11,', 'numNodes=43,', 'numClasses=2,', 'numFeatures=1']\n",
      "1 ['DecisionTreeClassificationModel:', 'uid=DecisionTreeClassifier_2aa692a27576,', 'depth=11,', 'numNodes=43,', 'numClasses=2,', 'numFeatures=1']\n",
      "2 ['DecisionTreeClassificationModel:', 'uid=DecisionTreeClassifier_cad5db9098b2,', 'depth=11,', 'numNodes=43,', 'numClasses=2,', 'numFeatures=1']\n",
      "0 ['DecisionTreeClassificationModel:', 'uid=DecisionTreeClassifier_5864f7927468,', 'depth=14,', 'numNodes=57,', 'numClasses=2,', 'numFeatures=1']\n",
      "1 ['DecisionTreeClassificationModel:', 'uid=DecisionTreeClassifier_1abcf4418b73,', 'depth=14,', 'numNodes=57,', 'numClasses=2,', 'numFeatures=1']\n",
      "2 ['DecisionTreeClassificationModel:', 'uid=DecisionTreeClassifier_565396ed5470,', 'depth=14,', 'numNodes=57,', 'numClasses=2,', 'numFeatures=1']\n",
      "0 ['DecisionTreeClassificationModel:', 'uid=DecisionTreeClassifier_8a49884c8654,', 'depth=10,', 'numNodes=37,', 'numClasses=2,', 'numFeatures=1']\n",
      "1 ['DecisionTreeClassificationModel:', 'uid=DecisionTreeClassifier_3a6a351f456c,', 'depth=10,', 'numNodes=37,', 'numClasses=2,', 'numFeatures=1']\n",
      "2 ['DecisionTreeClassificationModel:', 'uid=DecisionTreeClassifier_56e6b28a5fee,', 'depth=10,', 'numNodes=37,', 'numClasses=2,', 'numFeatures=1']\n",
      "0 ['DecisionTreeClassificationModel:', 'uid=DecisionTreeClassifier_9019499a1f4d,', 'depth=10,', 'numNodes=35,', 'numClasses=2,', 'numFeatures=1']\n",
      "1 ['DecisionTreeClassificationModel:', 'uid=DecisionTreeClassifier_2886cc4c30ff,', 'depth=10,', 'numNodes=35,', 'numClasses=2,', 'numFeatures=1']\n",
      "2 ['DecisionTreeClassificationModel:', 'uid=DecisionTreeClassifier_dc3cca4fd47d,', 'depth=10,', 'numNodes=35,', 'numClasses=2,', 'numFeatures=1']\n",
      "0 ['DecisionTreeClassificationModel:', 'uid=DecisionTreeClassifier_529a3657bfd0,', 'depth=12,', 'numNodes=39,', 'numClasses=2,', 'numFeatures=1']\n",
      "1 ['DecisionTreeClassificationModel:', 'uid=DecisionTreeClassifier_03a44a2fa640,', 'depth=12,', 'numNodes=39,', 'numClasses=2,', 'numFeatures=1']\n",
      "2 ['DecisionTreeClassificationModel:', 'uid=DecisionTreeClassifier_3a3824dbe439,', 'depth=12,', 'numNodes=39,', 'numClasses=2,', 'numFeatures=1']\n",
      "0 ['DecisionTreeClassificationModel:', 'uid=DecisionTreeClassifier_f7c9562c708c,', 'depth=10,', 'numNodes=35,', 'numClasses=2,', 'numFeatures=1']\n",
      "1 ['DecisionTreeClassificationModel:', 'uid=DecisionTreeClassifier_3632a3268532,', 'depth=10,', 'numNodes=35,', 'numClasses=2,', 'numFeatures=1']\n",
      "2 ['DecisionTreeClassificationModel:', 'uid=DecisionTreeClassifier_a7902f8d24b7,', 'depth=10,', 'numNodes=35,', 'numClasses=2,', 'numFeatures=1']\n",
      "0 ['DecisionTreeClassificationModel:', 'uid=DecisionTreeClassifier_58e6b8ac6094,', 'depth=13,', 'numNodes=47,', 'numClasses=2,', 'numFeatures=1']\n",
      "1 ['DecisionTreeClassificationModel:', 'uid=DecisionTreeClassifier_b22308d74a75,', 'depth=13,', 'numNodes=47,', 'numClasses=2,', 'numFeatures=1']\n",
      "2 ['DecisionTreeClassificationModel:', 'uid=DecisionTreeClassifier_2812887985ea,', 'depth=13,', 'numNodes=47,', 'numClasses=2,', 'numFeatures=1']\n",
      "0 ['DecisionTreeClassificationModel:', 'uid=DecisionTreeClassifier_0cc14299fd60,', 'depth=11,', 'numNodes=43,', 'numClasses=2,', 'numFeatures=1']\n",
      "1 ['DecisionTreeClassificationModel:', 'uid=DecisionTreeClassifier_3abb26e127dc,', 'depth=11,', 'numNodes=43,', 'numClasses=2,', 'numFeatures=1']\n",
      "2 ['DecisionTreeClassificationModel:', 'uid=DecisionTreeClassifier_3ed9e5fe4dc0,', 'depth=11,', 'numNodes=43,', 'numClasses=2,', 'numFeatures=1']\n",
      "0 ['DecisionTreeClassificationModel:', 'uid=DecisionTreeClassifier_b21b186f9bc9,', 'depth=9,', 'numNodes=29,', 'numClasses=2,', 'numFeatures=1']\n",
      "1 ['DecisionTreeClassificationModel:', 'uid=DecisionTreeClassifier_9b65de294898,', 'depth=9,', 'numNodes=29,', 'numClasses=2,', 'numFeatures=1']\n",
      "2 ['DecisionTreeClassificationModel:', 'uid=DecisionTreeClassifier_65cdb1e20c90,', 'depth=9,', 'numNodes=29,', 'numClasses=2,', 'numFeatures=1']\n",
      "0 ['DecisionTreeClassificationModel:', 'uid=DecisionTreeClassifier_adc0e2880697,', 'depth=12,', 'numNodes=47,', 'numClasses=2,', 'numFeatures=1']\n",
      "1 ['DecisionTreeClassificationModel:', 'uid=DecisionTreeClassifier_5a3f0287aa34,', 'depth=12,', 'numNodes=47,', 'numClasses=2,', 'numFeatures=1']\n",
      "2 ['DecisionTreeClassificationModel:', 'uid=DecisionTreeClassifier_d7e4aa9020d6,', 'depth=12,', 'numNodes=47,', 'numClasses=2,', 'numFeatures=1']\n",
      "0 ['DecisionTreeClassificationModel:', 'uid=DecisionTreeClassifier_3e49db78f805,', 'depth=10,', 'numNodes=33,', 'numClasses=2,', 'numFeatures=1']\n",
      "1 ['DecisionTreeClassificationModel:', 'uid=DecisionTreeClassifier_0bad2a3ef950,', 'depth=10,', 'numNodes=33,', 'numClasses=2,', 'numFeatures=1']\n",
      "2 ['DecisionTreeClassificationModel:', 'uid=DecisionTreeClassifier_21b8cf4d2396,', 'depth=10,', 'numNodes=33,', 'numClasses=2,', 'numFeatures=1']\n",
      "0 ['DecisionTreeClassificationModel:', 'uid=DecisionTreeClassifier_df2cc112371f,', 'depth=13,', 'numNodes=41,', 'numClasses=2,', 'numFeatures=1']\n",
      "1 ['DecisionTreeClassificationModel:', 'uid=DecisionTreeClassifier_12092179ac03,', 'depth=13,', 'numNodes=41,', 'numClasses=2,', 'numFeatures=1']\n",
      "2 ['DecisionTreeClassificationModel:', 'uid=DecisionTreeClassifier_d27925b3c83a,', 'depth=13,', 'numNodes=41,', 'numClasses=2,', 'numFeatures=1']\n",
      "0 ['DecisionTreeClassificationModel:', 'uid=DecisionTreeClassifier_5175603fc1c5,', 'depth=12,', 'numNodes=41,', 'numClasses=2,', 'numFeatures=1']\n",
      "1 ['DecisionTreeClassificationModel:', 'uid=DecisionTreeClassifier_94946f264917,', 'depth=12,', 'numNodes=41,', 'numClasses=2,', 'numFeatures=1']\n",
      "2 ['DecisionTreeClassificationModel:', 'uid=DecisionTreeClassifier_01cb162d0f29,', 'depth=12,', 'numNodes=41,', 'numClasses=2,', 'numFeatures=1']\n",
      "0 ['DecisionTreeClassificationModel:', 'uid=DecisionTreeClassifier_bb0d1a2b7762,', 'depth=11,', 'numNodes=37,', 'numClasses=2,', 'numFeatures=1']\n",
      "1 ['DecisionTreeClassificationModel:', 'uid=DecisionTreeClassifier_d9ecac8babd0,', 'depth=11,', 'numNodes=37,', 'numClasses=2,', 'numFeatures=1']\n",
      "2 ['DecisionTreeClassificationModel:', 'uid=DecisionTreeClassifier_f31a382d0663,', 'depth=11,', 'numNodes=37,', 'numClasses=2,', 'numFeatures=1']\n",
      "0 ['DecisionTreeClassificationModel:', 'uid=DecisionTreeClassifier_f1766868e2e6,', 'depth=12,', 'numNodes=45,', 'numClasses=2,', 'numFeatures=1']\n",
      "1 ['DecisionTreeClassificationModel:', 'uid=DecisionTreeClassifier_126a157ce37c,', 'depth=12,', 'numNodes=45,', 'numClasses=2,', 'numFeatures=1']\n",
      "2 ['DecisionTreeClassificationModel:', 'uid=DecisionTreeClassifier_7dd97685a5fe,', 'depth=12,', 'numNodes=45,', 'numClasses=2,', 'numFeatures=1']\n",
      "0 ['DecisionTreeClassificationModel:', 'uid=DecisionTreeClassifier_bc8e2539669c,', 'depth=11,', 'numNodes=37,', 'numClasses=2,', 'numFeatures=1']\n",
      "1 ['DecisionTreeClassificationModel:', 'uid=DecisionTreeClassifier_b068b6947708,', 'depth=11,', 'numNodes=37,', 'numClasses=2,', 'numFeatures=1']\n",
      "2 ['DecisionTreeClassificationModel:', 'uid=DecisionTreeClassifier_06f71545d618,', 'depth=11,', 'numNodes=37,', 'numClasses=2,', 'numFeatures=1']\n"
     ]
    },
    {
     "data": {
      "text/html": [
       "<div>\n",
       "<style scoped>\n",
       "    .dataframe tbody tr th:only-of-type {\n",
       "        vertical-align: middle;\n",
       "    }\n",
       "\n",
       "    .dataframe tbody tr th {\n",
       "        vertical-align: top;\n",
       "    }\n",
       "\n",
       "    .dataframe thead th {\n",
       "        text-align: right;\n",
       "    }\n",
       "</style>\n",
       "<table border=\"1\" class=\"dataframe\">\n",
       "  <thead>\n",
       "    <tr style=\"text-align: right;\">\n",
       "      <th></th>\n",
       "      <th>8</th>\n",
       "      <th>12</th>\n",
       "      <th>16</th>\n",
       "      <th>24</th>\n",
       "      <th>36</th>\n",
       "      <th>72</th>\n",
       "    </tr>\n",
       "  </thead>\n",
       "  <tbody>\n",
       "    <tr>\n",
       "      <th>1</th>\n",
       "      <td>4.3</td>\n",
       "      <td>5.1</td>\n",
       "      <td>4.8</td>\n",
       "      <td>6.1</td>\n",
       "      <td>8.0</td>\n",
       "      <td>13.3</td>\n",
       "    </tr>\n",
       "    <tr>\n",
       "      <th>2</th>\n",
       "      <td>4.5</td>\n",
       "      <td>5.9</td>\n",
       "      <td>5.7</td>\n",
       "      <td>7.9</td>\n",
       "      <td>9.3</td>\n",
       "      <td>21.8</td>\n",
       "    </tr>\n",
       "    <tr>\n",
       "      <th>5</th>\n",
       "      <td>6.1</td>\n",
       "      <td>8.0</td>\n",
       "      <td>7.8</td>\n",
       "      <td>10.2</td>\n",
       "      <td>13.8</td>\n",
       "      <td>21.7</td>\n",
       "    </tr>\n",
       "    <tr>\n",
       "      <th>10</th>\n",
       "      <td>8.6</td>\n",
       "      <td>7.4</td>\n",
       "      <td>6.0</td>\n",
       "      <td>5.4</td>\n",
       "      <td>6.2</td>\n",
       "      <td>7.9</td>\n",
       "    </tr>\n",
       "    <tr>\n",
       "      <th>15</th>\n",
       "      <td>9.2</td>\n",
       "      <td>7.3</td>\n",
       "      <td>6.3</td>\n",
       "      <td>6.2</td>\n",
       "      <td>6.2</td>\n",
       "      <td>8.3</td>\n",
       "    </tr>\n",
       "    <tr>\n",
       "      <th>20</th>\n",
       "      <td>9.9</td>\n",
       "      <td>7.6</td>\n",
       "      <td>7.1</td>\n",
       "      <td>6.8</td>\n",
       "      <td>6.4</td>\n",
       "      <td>7.9</td>\n",
       "    </tr>\n",
       "    <tr>\n",
       "      <th>30</th>\n",
       "      <td>11.6</td>\n",
       "      <td>9.8</td>\n",
       "      <td>8.6</td>\n",
       "      <td>7.4</td>\n",
       "      <td>7.0</td>\n",
       "      <td>8.5</td>\n",
       "    </tr>\n",
       "    <tr>\n",
       "      <th>50</th>\n",
       "      <td>16.4</td>\n",
       "      <td>12.5</td>\n",
       "      <td>10.4</td>\n",
       "      <td>9.6</td>\n",
       "      <td>7.8</td>\n",
       "      <td>9.2</td>\n",
       "    </tr>\n",
       "    <tr>\n",
       "      <th>100</th>\n",
       "      <td>28.6</td>\n",
       "      <td>21.2</td>\n",
       "      <td>15.1</td>\n",
       "      <td>12.7</td>\n",
       "      <td>12.0</td>\n",
       "      <td>12.6</td>\n",
       "    </tr>\n",
       "  </tbody>\n",
       "</table>\n",
       "</div>"
      ],
      "text/plain": [
       "       8     12    16    24    36    72\n",
       "1     4.3   5.1   4.8   6.1   8.0  13.3\n",
       "2     4.5   5.9   5.7   7.9   9.3  21.8\n",
       "5     6.1   8.0   7.8  10.2  13.8  21.7\n",
       "10    8.6   7.4   6.0   5.4   6.2   7.9\n",
       "15    9.2   7.3   6.3   6.2   6.2   8.3\n",
       "20    9.9   7.6   7.1   6.8   6.4   7.9\n",
       "30   11.6   9.8   8.6   7.4   7.0   8.5\n",
       "50   16.4  12.5  10.4   9.6   7.8   9.2\n",
       "100  28.6  21.2  15.1  12.7  12.0  12.6"
      ]
     },
     "metadata": {},
     "output_type": "display_data"
    },
    {
     "data": {
      "text/html": [
       "<div>\n",
       "<style scoped>\n",
       "    .dataframe tbody tr th:only-of-type {\n",
       "        vertical-align: middle;\n",
       "    }\n",
       "\n",
       "    .dataframe tbody tr th {\n",
       "        vertical-align: top;\n",
       "    }\n",
       "\n",
       "    .dataframe thead th {\n",
       "        text-align: right;\n",
       "    }\n",
       "</style>\n",
       "<table border=\"1\" class=\"dataframe\">\n",
       "  <thead>\n",
       "    <tr style=\"text-align: right;\">\n",
       "      <th></th>\n",
       "      <th>8</th>\n",
       "      <th>12</th>\n",
       "      <th>16</th>\n",
       "      <th>24</th>\n",
       "      <th>36</th>\n",
       "      <th>72</th>\n",
       "    </tr>\n",
       "  </thead>\n",
       "  <tbody>\n",
       "    <tr>\n",
       "      <th>1</th>\n",
       "      <td>123.0</td>\n",
       "      <td>123.0</td>\n",
       "      <td>123.0</td>\n",
       "      <td>123.0</td>\n",
       "      <td>123.0</td>\n",
       "      <td>123.0</td>\n",
       "    </tr>\n",
       "    <tr>\n",
       "      <th>2</th>\n",
       "      <td>145.0</td>\n",
       "      <td>129.0</td>\n",
       "      <td>131.0</td>\n",
       "      <td>137.0</td>\n",
       "      <td>135.0</td>\n",
       "      <td>135.0</td>\n",
       "    </tr>\n",
       "    <tr>\n",
       "      <th>5</th>\n",
       "      <td>139.0</td>\n",
       "      <td>141.0</td>\n",
       "      <td>115.0</td>\n",
       "      <td>127.0</td>\n",
       "      <td>51.0</td>\n",
       "      <td>95.0</td>\n",
       "    </tr>\n",
       "    <tr>\n",
       "      <th>10</th>\n",
       "      <td>55.0</td>\n",
       "      <td>85.0</td>\n",
       "      <td>107.0</td>\n",
       "      <td>73.0</td>\n",
       "      <td>53.0</td>\n",
       "      <td>69.0</td>\n",
       "    </tr>\n",
       "    <tr>\n",
       "      <th>15</th>\n",
       "      <td>59.0</td>\n",
       "      <td>113.0</td>\n",
       "      <td>57.0</td>\n",
       "      <td>49.0</td>\n",
       "      <td>77.0</td>\n",
       "      <td>61.0</td>\n",
       "    </tr>\n",
       "    <tr>\n",
       "      <th>20</th>\n",
       "      <td>71.0</td>\n",
       "      <td>65.0</td>\n",
       "      <td>41.0</td>\n",
       "      <td>77.0</td>\n",
       "      <td>37.0</td>\n",
       "      <td>73.0</td>\n",
       "    </tr>\n",
       "    <tr>\n",
       "      <th>30</th>\n",
       "      <td>49.0</td>\n",
       "      <td>41.0</td>\n",
       "      <td>43.0</td>\n",
       "      <td>57.0</td>\n",
       "      <td>37.0</td>\n",
       "      <td>35.0</td>\n",
       "    </tr>\n",
       "    <tr>\n",
       "      <th>50</th>\n",
       "      <td>39.0</td>\n",
       "      <td>35.0</td>\n",
       "      <td>47.0</td>\n",
       "      <td>43.0</td>\n",
       "      <td>29.0</td>\n",
       "      <td>47.0</td>\n",
       "    </tr>\n",
       "    <tr>\n",
       "      <th>100</th>\n",
       "      <td>33.0</td>\n",
       "      <td>41.0</td>\n",
       "      <td>41.0</td>\n",
       "      <td>37.0</td>\n",
       "      <td>45.0</td>\n",
       "      <td>37.0</td>\n",
       "    </tr>\n",
       "  </tbody>\n",
       "</table>\n",
       "</div>"
      ],
      "text/plain": [
       "        8      12     16     24     36     72\n",
       "1    123.0  123.0  123.0  123.0  123.0  123.0\n",
       "2    145.0  129.0  131.0  137.0  135.0  135.0\n",
       "5    139.0  141.0  115.0  127.0   51.0   95.0\n",
       "10    55.0   85.0  107.0   73.0   53.0   69.0\n",
       "15    59.0  113.0   57.0   49.0   77.0   61.0\n",
       "20    71.0   65.0   41.0   77.0   37.0   73.0\n",
       "30    49.0   41.0   43.0   57.0   37.0   35.0\n",
       "50    39.0   35.0   47.0   43.0   29.0   47.0\n",
       "100   33.0   41.0   41.0   37.0   45.0   37.0"
      ]
     },
     "metadata": {},
     "output_type": "display_data"
    }
   ],
   "source": [
    "di = result\n",
    "df_res_time = pd.DataFrame()\n",
    "df_res_nodes = pd.DataFrame()\n",
    "for p1 in di.keys():\n",
    "    for p2 in di[p1].keys():\n",
    "        df_res_time.loc[p1, p2] = np.round(np.median(di[p1][p2][1]), 1)\n",
    "        m_tmp = di[p1][p2][0]\n",
    "        n_nodes = []\n",
    "        for i,_ in enumerate(m_tmp):\n",
    "            tmp = f'{m_tmp[i]}'.split(' ')\n",
    "            print(i, tmp)\n",
    "            n_nodes.append([int(x.split('=')[1][:-1]) for x in tmp if x[:4]== 'numN'][0])\n",
    "        df_res_nodes.loc[p1, p2] = np.round(np.mean(n_nodes), 1)\n",
    "\n",
    "df_res_time.to_csv(f'gs://mas-a5-storage-1/notebooks/jupyter/obj/{fn}_t.csv')\n",
    "df_res_nodes.to_csv(f'gs://mas-a5-storage-1/notebooks/jupyter/obj/{fn}_n.csv')\n",
    "\n",
    "display(df_res_time)      \n",
    "display(df_res_nodes)     "
   ]
  },
  {
   "cell_type": "code",
   "execution_count": 7,
   "id": "9a7dc76e",
   "metadata": {
    "ExecuteTime": {
     "end_time": "2021-11-27T07:11:35.012243Z",
     "start_time": "2021-11-27T07:11:34.933073Z"
    }
   },
   "outputs": [
    {
     "name": "stdout",
     "output_type": "stream",
     "text": [
      "8cpu_by_12n__8m_yarn_ssd_repart\n"
     ]
    },
    {
     "data": {
      "text/html": [
       "<div>\n",
       "<style scoped>\n",
       "    .dataframe tbody tr th:only-of-type {\n",
       "        vertical-align: middle;\n",
       "    }\n",
       "\n",
       "    .dataframe tbody tr th {\n",
       "        vertical-align: top;\n",
       "    }\n",
       "\n",
       "    .dataframe thead th {\n",
       "        text-align: right;\n",
       "    }\n",
       "</style>\n",
       "<table border=\"1\" class=\"dataframe\">\n",
       "  <thead>\n",
       "    <tr style=\"text-align: right;\">\n",
       "      <th></th>\n",
       "      <th>Unnamed: 0</th>\n",
       "      <th>8</th>\n",
       "      <th>12</th>\n",
       "      <th>16</th>\n",
       "      <th>24</th>\n",
       "      <th>36</th>\n",
       "      <th>72</th>\n",
       "    </tr>\n",
       "  </thead>\n",
       "  <tbody>\n",
       "    <tr>\n",
       "      <th>0</th>\n",
       "      <td>1</td>\n",
       "      <td>4.3</td>\n",
       "      <td>5.1</td>\n",
       "      <td>4.8</td>\n",
       "      <td>6.1</td>\n",
       "      <td>8.0</td>\n",
       "      <td>13.3</td>\n",
       "    </tr>\n",
       "    <tr>\n",
       "      <th>1</th>\n",
       "      <td>2</td>\n",
       "      <td>4.5</td>\n",
       "      <td>5.9</td>\n",
       "      <td>5.7</td>\n",
       "      <td>7.9</td>\n",
       "      <td>9.3</td>\n",
       "      <td>21.8</td>\n",
       "    </tr>\n",
       "    <tr>\n",
       "      <th>2</th>\n",
       "      <td>5</td>\n",
       "      <td>6.1</td>\n",
       "      <td>8.0</td>\n",
       "      <td>7.8</td>\n",
       "      <td>10.2</td>\n",
       "      <td>13.8</td>\n",
       "      <td>21.7</td>\n",
       "    </tr>\n",
       "    <tr>\n",
       "      <th>3</th>\n",
       "      <td>10</td>\n",
       "      <td>8.6</td>\n",
       "      <td>7.4</td>\n",
       "      <td>6.0</td>\n",
       "      <td>5.4</td>\n",
       "      <td>6.2</td>\n",
       "      <td>7.9</td>\n",
       "    </tr>\n",
       "    <tr>\n",
       "      <th>4</th>\n",
       "      <td>15</td>\n",
       "      <td>9.2</td>\n",
       "      <td>7.3</td>\n",
       "      <td>6.3</td>\n",
       "      <td>6.2</td>\n",
       "      <td>6.2</td>\n",
       "      <td>8.3</td>\n",
       "    </tr>\n",
       "    <tr>\n",
       "      <th>5</th>\n",
       "      <td>20</td>\n",
       "      <td>9.9</td>\n",
       "      <td>7.6</td>\n",
       "      <td>7.1</td>\n",
       "      <td>6.8</td>\n",
       "      <td>6.4</td>\n",
       "      <td>7.9</td>\n",
       "    </tr>\n",
       "    <tr>\n",
       "      <th>6</th>\n",
       "      <td>30</td>\n",
       "      <td>11.6</td>\n",
       "      <td>9.8</td>\n",
       "      <td>8.6</td>\n",
       "      <td>7.4</td>\n",
       "      <td>7.0</td>\n",
       "      <td>8.5</td>\n",
       "    </tr>\n",
       "    <tr>\n",
       "      <th>7</th>\n",
       "      <td>50</td>\n",
       "      <td>16.4</td>\n",
       "      <td>12.5</td>\n",
       "      <td>10.4</td>\n",
       "      <td>9.6</td>\n",
       "      <td>7.8</td>\n",
       "      <td>9.2</td>\n",
       "    </tr>\n",
       "    <tr>\n",
       "      <th>8</th>\n",
       "      <td>100</td>\n",
       "      <td>28.6</td>\n",
       "      <td>21.2</td>\n",
       "      <td>15.1</td>\n",
       "      <td>12.7</td>\n",
       "      <td>12.0</td>\n",
       "      <td>12.6</td>\n",
       "    </tr>\n",
       "  </tbody>\n",
       "</table>\n",
       "</div>"
      ],
      "text/plain": [
       "   Unnamed: 0     8    12    16    24    36    72\n",
       "0           1   4.3   5.1   4.8   6.1   8.0  13.3\n",
       "1           2   4.5   5.9   5.7   7.9   9.3  21.8\n",
       "2           5   6.1   8.0   7.8  10.2  13.8  21.7\n",
       "3          10   8.6   7.4   6.0   5.4   6.2   7.9\n",
       "4          15   9.2   7.3   6.3   6.2   6.2   8.3\n",
       "5          20   9.9   7.6   7.1   6.8   6.4   7.9\n",
       "6          30  11.6   9.8   8.6   7.4   7.0   8.5\n",
       "7          50  16.4  12.5  10.4   9.6   7.8   9.2\n",
       "8         100  28.6  21.2  15.1  12.7  12.0  12.6"
      ]
     },
     "execution_count": 7,
     "metadata": {},
     "output_type": "execute_result"
    }
   ],
   "source": [
    "#fn = '4cpu_by_8n__4m_yarn_ssd'\n",
    "tmp = pd.read_csv(f'gs://mas-a5-storage-1/notebooks/jupyter/obj/{fn}_t.csv')\n",
    "print(fn)\n",
    "tmp"
   ]
  },
  {
   "cell_type": "code",
   "execution_count": 8,
   "id": "cf3dc9e9",
   "metadata": {
    "ExecuteTime": {
     "end_time": "2021-11-27T07:11:40.156867Z",
     "start_time": "2021-11-27T07:11:40.060901Z"
    }
   },
   "outputs": [
    {
     "name": "stdout",
     "output_type": "stream",
     "text": [
      "8cpu_by_12n__8m_yarn_ssd_repart\n"
     ]
    },
    {
     "data": {
      "text/html": [
       "<div>\n",
       "<style scoped>\n",
       "    .dataframe tbody tr th:only-of-type {\n",
       "        vertical-align: middle;\n",
       "    }\n",
       "\n",
       "    .dataframe tbody tr th {\n",
       "        vertical-align: top;\n",
       "    }\n",
       "\n",
       "    .dataframe thead th {\n",
       "        text-align: right;\n",
       "    }\n",
       "</style>\n",
       "<table border=\"1\" class=\"dataframe\">\n",
       "  <thead>\n",
       "    <tr style=\"text-align: right;\">\n",
       "      <th></th>\n",
       "      <th>Unnamed: 0</th>\n",
       "      <th>8</th>\n",
       "      <th>12</th>\n",
       "      <th>16</th>\n",
       "      <th>24</th>\n",
       "      <th>36</th>\n",
       "      <th>72</th>\n",
       "    </tr>\n",
       "  </thead>\n",
       "  <tbody>\n",
       "    <tr>\n",
       "      <th>0</th>\n",
       "      <td>1</td>\n",
       "      <td>123.0</td>\n",
       "      <td>123.0</td>\n",
       "      <td>123.0</td>\n",
       "      <td>123.0</td>\n",
       "      <td>123.0</td>\n",
       "      <td>123.0</td>\n",
       "    </tr>\n",
       "    <tr>\n",
       "      <th>1</th>\n",
       "      <td>2</td>\n",
       "      <td>145.0</td>\n",
       "      <td>129.0</td>\n",
       "      <td>131.0</td>\n",
       "      <td>137.0</td>\n",
       "      <td>135.0</td>\n",
       "      <td>135.0</td>\n",
       "    </tr>\n",
       "    <tr>\n",
       "      <th>2</th>\n",
       "      <td>5</td>\n",
       "      <td>139.0</td>\n",
       "      <td>141.0</td>\n",
       "      <td>115.0</td>\n",
       "      <td>127.0</td>\n",
       "      <td>51.0</td>\n",
       "      <td>95.0</td>\n",
       "    </tr>\n",
       "    <tr>\n",
       "      <th>3</th>\n",
       "      <td>10</td>\n",
       "      <td>55.0</td>\n",
       "      <td>85.0</td>\n",
       "      <td>107.0</td>\n",
       "      <td>73.0</td>\n",
       "      <td>53.0</td>\n",
       "      <td>69.0</td>\n",
       "    </tr>\n",
       "    <tr>\n",
       "      <th>4</th>\n",
       "      <td>15</td>\n",
       "      <td>59.0</td>\n",
       "      <td>113.0</td>\n",
       "      <td>57.0</td>\n",
       "      <td>49.0</td>\n",
       "      <td>77.0</td>\n",
       "      <td>61.0</td>\n",
       "    </tr>\n",
       "    <tr>\n",
       "      <th>5</th>\n",
       "      <td>20</td>\n",
       "      <td>71.0</td>\n",
       "      <td>65.0</td>\n",
       "      <td>41.0</td>\n",
       "      <td>77.0</td>\n",
       "      <td>37.0</td>\n",
       "      <td>73.0</td>\n",
       "    </tr>\n",
       "    <tr>\n",
       "      <th>6</th>\n",
       "      <td>30</td>\n",
       "      <td>49.0</td>\n",
       "      <td>41.0</td>\n",
       "      <td>43.0</td>\n",
       "      <td>57.0</td>\n",
       "      <td>37.0</td>\n",
       "      <td>35.0</td>\n",
       "    </tr>\n",
       "    <tr>\n",
       "      <th>7</th>\n",
       "      <td>50</td>\n",
       "      <td>39.0</td>\n",
       "      <td>35.0</td>\n",
       "      <td>47.0</td>\n",
       "      <td>43.0</td>\n",
       "      <td>29.0</td>\n",
       "      <td>47.0</td>\n",
       "    </tr>\n",
       "    <tr>\n",
       "      <th>8</th>\n",
       "      <td>100</td>\n",
       "      <td>33.0</td>\n",
       "      <td>41.0</td>\n",
       "      <td>41.0</td>\n",
       "      <td>37.0</td>\n",
       "      <td>45.0</td>\n",
       "      <td>37.0</td>\n",
       "    </tr>\n",
       "  </tbody>\n",
       "</table>\n",
       "</div>"
      ],
      "text/plain": [
       "   Unnamed: 0      8     12     16     24     36     72\n",
       "0           1  123.0  123.0  123.0  123.0  123.0  123.0\n",
       "1           2  145.0  129.0  131.0  137.0  135.0  135.0\n",
       "2           5  139.0  141.0  115.0  127.0   51.0   95.0\n",
       "3          10   55.0   85.0  107.0   73.0   53.0   69.0\n",
       "4          15   59.0  113.0   57.0   49.0   77.0   61.0\n",
       "5          20   71.0   65.0   41.0   77.0   37.0   73.0\n",
       "6          30   49.0   41.0   43.0   57.0   37.0   35.0\n",
       "7          50   39.0   35.0   47.0   43.0   29.0   47.0\n",
       "8         100   33.0   41.0   41.0   37.0   45.0   37.0"
      ]
     },
     "execution_count": 8,
     "metadata": {},
     "output_type": "execute_result"
    }
   ],
   "source": [
    "#fn = '4cpu_by_8n__4m_yarn_ssd'\n",
    "tmp = pd.read_csv(f'gs://mas-a5-storage-1/notebooks/jupyter/obj/{fn}_n.csv')\n",
    "print(fn)\n",
    "tmp"
   ]
  }
 ],
 "metadata": {
  "kernelspec": {
   "display_name": "PySpark",
   "language": "python",
   "name": "pyspark"
  },
  "language_info": {
   "codemirror_mode": {
    "name": "ipython",
    "version": 3
   },
   "file_extension": ".py",
   "mimetype": "text/x-python",
   "name": "python",
   "nbconvert_exporter": "python",
   "pygments_lexer": "ipython3",
   "version": "3.8.12"
  },
  "toc": {
   "base_numbering": 1,
   "nav_menu": {},
   "number_sections": true,
   "sideBar": true,
   "skip_h1_title": false,
   "title_cell": "Table of Contents",
   "title_sidebar": "Contents",
   "toc_cell": false,
   "toc_position": {},
   "toc_section_display": true,
   "toc_window_display": true
  }
 },
 "nbformat": 4,
 "nbformat_minor": 5
}