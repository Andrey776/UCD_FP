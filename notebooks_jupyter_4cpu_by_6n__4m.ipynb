{
 "cells": [
  {
   "cell_type": "markdown",
   "id": "17f41b1c",
   "metadata": {},
   "source": [
    "# Library"
   ]
  },
  {
   "cell_type": "code",
   "execution_count": 2,
   "id": "f7480aef",
   "metadata": {
    "ExecuteTime": {
     "end_time": "2021-11-23T08:12:30.852728Z",
     "start_time": "2021-11-23T08:12:29.165721Z"
    }
   },
   "outputs": [],
   "source": [
    "#import sys\n",
    "import pandas as pd\n",
    "import numpy as np\n",
    "import random\n",
    "import pyspark\n",
    "import itertools\n",
    "import matplotlib.pyplot as plt\n",
    "import itertools\n",
    "import seaborn as sns\n",
    "import pickle\n",
    "import statsmodels.api as sm\n",
    "\n",
    "from pyspark import SparkContext, SQLContext\n",
    "\n",
    "from math import sqrt\n",
    "from time import time as ttt\n",
    "\n",
    "from pyspark.sql import SparkSession\n",
    "from pyspark.sql import functions as f\n",
    "\n",
    "from pyspark.ml.linalg import Vectors\n",
    "from pyspark.ml.feature import VectorAssembler\n",
    "from pyspark.ml import Pipeline\n",
    "from pyspark.ml.classification import DecisionTreeClassifier as DTC_spark\n",
    "from pyspark.ml.feature import StringIndexer, VectorIndexer\n",
    "from pyspark.ml.evaluation import MulticlassClassificationEvaluator\n",
    "\n",
    "import joblib\n",
    "from joblib import parallel_backend\n",
    "from joblib import Parallel, delayed\n",
    "from joblib import parallel_backend\n"
   ]
  },
  {
   "cell_type": "markdown",
   "id": "f33b542c",
   "metadata": {},
   "source": [
    "# Upload"
   ]
  },
  {
   "cell_type": "code",
   "execution_count": 2,
   "id": "96a5c4ff",
   "metadata": {
    "ExecuteTime": {
     "end_time": "2021-11-23T06:13:25.488679Z",
     "start_time": "2021-11-23T06:13:11.023018Z"
    }
   },
   "outputs": [
    {
     "name": "stderr",
     "output_type": "stream",
     "text": [
      "                                                                                \r"
     ]
    },
    {
     "name": "stdout",
     "output_type": "stream",
     "text": [
      "4\n"
     ]
    }
   ],
   "source": [
    "spark = SparkSession.builder.master(\"local\").appName(\"spark_app_1234\").getOrCreate()\n",
    "sc = spark.sparkContext\n",
    "spark\n",
    "d0 = (\n",
    "    spark\n",
    "    .read\n",
    "    .format(\"csv\") \n",
    "    .option(\"header\",\"true\") \n",
    "    .option(\"inferSchema\",\"true\") \n",
    "    .load(\"gs://mas-a5-storage-1/notebooks/jupyter/application_train.csv\")\n",
    ")\n",
    "\n",
    "d1 = d0.filter(d0.DAYS_EMPLOYED != 365243).select('TARGET','DAYS_EMPLOYED')\n",
    "\n",
    "print(d1.rdd.getNumPartitions())"
   ]
  },
  {
   "cell_type": "markdown",
   "id": "333b63a3",
   "metadata": {},
   "source": [
    "# Function"
   ]
  },
  {
   "cell_type": "code",
   "execution_count": 3,
   "id": "e0ec74a5",
   "metadata": {
    "ExecuteTime": {
     "end_time": "2021-11-23T06:13:25.864710Z",
     "start_time": "2021-11-23T06:13:25.856643Z"
    }
   },
   "outputs": [],
   "source": [
    "def prepare_spark_data(n_part, k_mult):\n",
    "    '''\n",
    "    takes 'DAYS_EMPLOYED and 'TARGET'  from d1 (alreay filtered)\n",
    "    rearrane in n partitions (if n==0 keeps initial number of partitions)\n",
    "    prints final shape/ partition\n",
    "    returns d2 - spark df\n",
    "    '''\n",
    "    data = d1\n",
    "    data_new = data # first step in the cycle\n",
    "    for i in range(k_mult-1):\n",
    "        data_tmp = data.select('TARGET', \\\n",
    "                     f.col('DAYS_EMPLOYED')*(f.lit(0.9995) + f.rand()/1000)).\\\n",
    "                   toDF('TARGET','DAYS_EMPLOYED')\n",
    "        data_tmp = data_tmp.select('TARGET', f.floor('DAYS_EMPLOYED'))\n",
    "        data_new = data_new.union(data_tmp)\n",
    "\n",
    "    assembler = VectorAssembler(inputCols=[\"DAYS_EMPLOYED\"], \n",
    "                        outputCol=\"DAYS_EMPLOYED_vect\")\n",
    "    d2 = assembler.transform(data_new)\n",
    "    if n_part != 0:\n",
    "        d2 = d2.repartition(n_part)       \n",
    "    #print(f'n-partitions initial: {d2.rdd.getNumPartitions()}; df size: {d2.count()}\\n')\n",
    "\n",
    "    return d2"
   ]
  },
  {
   "cell_type": "markdown",
   "id": "5e62426a",
   "metadata": {},
   "source": [
    "# Params an run"
   ]
  },
  {
   "cell_type": "code",
   "execution_count": null,
   "id": "62c383b6",
   "metadata": {
    "ExecuteTime": {
     "start_time": "2021-11-23T06:33:50.446Z"
    },
    "deletable": false,
    "editable": false,
    "run_control": {
     "frozen": true
    },
    "scrolled": true
   },
   "outputs": [
    {
     "name": "stderr",
     "output_type": "stream",
     "text": [
      "                                                                                \r"
     ]
    },
    {
     "name": "stdout",
     "output_type": "stream",
     "text": [
      "d1-size 252137\n",
      "n-partitions initial 4 \n",
      "\n",
      "======================================================================\n"
     ]
    },
    {
     "name": "stderr",
     "output_type": "stream",
     "text": [
      "\r",
      "[Stage 4397:======================================>               (10 + 4) / 14]\r",
      "\r",
      "                                                                                \r"
     ]
    },
    {
     "name": "stdout",
     "output_type": "stream",
     "text": [
      "=== size_mult=1;         n_part_req=0; n_part_act=14; df_count=252137 ===\n",
      "\n",
      "model 0 build time 6.19 \n",
      " DecisionTreeClassificationModel: uid=DecisionTreeClassifier_5d1823802f8f, depth=14, numNodes=123, numClasses=2, numFeatures=1\n",
      "model 1 build time 4.72 \n",
      " DecisionTreeClassificationModel: uid=DecisionTreeClassifier_158adef97fe0, depth=14, numNodes=123, numClasses=2, numFeatures=1\n",
      "model 2 build time 4.65 \n",
      " DecisionTreeClassificationModel: uid=DecisionTreeClassifier_4723484652af, depth=14, numNodes=123, numClasses=2, numFeatures=1\n",
      "======================================================================\n",
      "=== size_mult=1;         n_part_req=2; n_part_act=2; df_count=252137 ===\n",
      "\n"
     ]
    },
    {
     "name": "stderr",
     "output_type": "stream",
     "text": [
      "                                                                                \r"
     ]
    },
    {
     "name": "stdout",
     "output_type": "stream",
     "text": [
      "model 0 build time 7.36 \n",
      " DecisionTreeClassificationModel: uid=DecisionTreeClassifier_e21e7f3b1495, depth=14, numNodes=123, numClasses=2, numFeatures=1\n"
     ]
    },
    {
     "name": "stderr",
     "output_type": "stream",
     "text": [
      "                                                                                \r"
     ]
    },
    {
     "name": "stdout",
     "output_type": "stream",
     "text": [
      "model 1 build time 7.16 \n",
      " DecisionTreeClassificationModel: uid=DecisionTreeClassifier_13872054975f, depth=14, numNodes=123, numClasses=2, numFeatures=1\n"
     ]
    },
    {
     "name": "stderr",
     "output_type": "stream",
     "text": [
      "                                                                                \r"
     ]
    },
    {
     "name": "stdout",
     "output_type": "stream",
     "text": [
      "model 2 build time 6.85 \n",
      " DecisionTreeClassificationModel: uid=DecisionTreeClassifier_3d6639470fe1, depth=14, numNodes=123, numClasses=2, numFeatures=1\n",
      "======================================================================\n",
      "=== size_mult=1;         n_part_req=4; n_part_act=4; df_count=252137 ===\n",
      "\n"
     ]
    },
    {
     "name": "stderr",
     "output_type": "stream",
     "text": [
      "                                                                                \r"
     ]
    },
    {
     "name": "stdout",
     "output_type": "stream",
     "text": [
      "model 0 build time 5.79 \n",
      " DecisionTreeClassificationModel: uid=DecisionTreeClassifier_96b9486294a7, depth=14, numNodes=123, numClasses=2, numFeatures=1\n"
     ]
    },
    {
     "name": "stderr",
     "output_type": "stream",
     "text": [
      "\r",
      "[Stage 4824:==========================================>             (3 + 1) / 4]\r",
      "\r",
      "                                                                                \r"
     ]
    },
    {
     "name": "stdout",
     "output_type": "stream",
     "text": [
      "model 1 build time 5.78 \n",
      " DecisionTreeClassificationModel: uid=DecisionTreeClassifier_aa01a4e7e44d, depth=14, numNodes=123, numClasses=2, numFeatures=1\n",
      "model 2 build time 5.48 \n",
      " DecisionTreeClassificationModel: uid=DecisionTreeClassifier_0ebaaccf6fca, depth=14, numNodes=123, numClasses=2, numFeatures=1\n",
      "======================================================================\n",
      "=== size_mult=1;         n_part_req=6; n_part_act=6; df_count=252137 ===\n",
      "\n"
     ]
    },
    {
     "name": "stderr",
     "output_type": "stream",
     "text": [
      "\r",
      "[Stage 4998:==============================================>         (5 + 1) / 6]\r",
      "\r",
      "                                                                                \r"
     ]
    },
    {
     "name": "stdout",
     "output_type": "stream",
     "text": [
      "model 0 build time 5.49 \n",
      " DecisionTreeClassificationModel: uid=DecisionTreeClassifier_3e7a598034bd, depth=14, numNodes=123, numClasses=2, numFeatures=1\n"
     ]
    },
    {
     "name": "stderr",
     "output_type": "stream",
     "text": [
      "\r",
      "[Stage 5080:=====================================>                  (4 + 2) / 6]\r",
      "\r",
      "                                                                                \r"
     ]
    },
    {
     "name": "stdout",
     "output_type": "stream",
     "text": [
      "model 1 build time 5.54 \n",
      " DecisionTreeClassificationModel: uid=DecisionTreeClassifier_6efae50d3c69, depth=14, numNodes=123, numClasses=2, numFeatures=1\n"
     ]
    },
    {
     "name": "stderr",
     "output_type": "stream",
     "text": [
      "\r",
      "[Stage 5182:==================>                                     (2 + 4) / 6]\r",
      "\r",
      "                                                                                \r"
     ]
    },
    {
     "name": "stdout",
     "output_type": "stream",
     "text": [
      "model 2 build time 5.32 \n",
      " DecisionTreeClassificationModel: uid=DecisionTreeClassifier_e28c769f4177, depth=14, numNodes=123, numClasses=2, numFeatures=1\n",
      "======================================================================\n",
      "=== size_mult=1;         n_part_req=8; n_part_act=8; df_count=252137 ===\n",
      "\n"
     ]
    },
    {
     "name": "stderr",
     "output_type": "stream",
     "text": [
      "\r",
      "[Stage 5304:==========================================>             (6 + 2) / 8]\r",
      "\r",
      "                                                                                \r"
     ]
    },
    {
     "name": "stdout",
     "output_type": "stream",
     "text": [
      "model 0 build time 5.63 \n",
      " DecisionTreeClassificationModel: uid=DecisionTreeClassifier_51dcefce62b4, depth=14, numNodes=123, numClasses=2, numFeatures=1\n",
      "model 1 build time 5.38 \n",
      " DecisionTreeClassificationModel: uid=DecisionTreeClassifier_ac749450cce2, depth=14, numNodes=123, numClasses=2, numFeatures=1\n",
      "model 2 build time 5.4 \n",
      " DecisionTreeClassificationModel: uid=DecisionTreeClassifier_788f78ad9918, depth=14, numNodes=123, numClasses=2, numFeatures=1\n",
      "======================================================================\n",
      "=== size_mult=1;         n_part_req=16; n_part_act=16; df_count=252137 ===\n",
      "\n"
     ]
    },
    {
     "name": "stderr",
     "output_type": "stream",
     "text": [
      "                                                                                \r"
     ]
    },
    {
     "name": "stdout",
     "output_type": "stream",
     "text": [
      "model 0 build time 8.72 \n",
      " DecisionTreeClassificationModel: uid=DecisionTreeClassifier_aef97809cb29, depth=14, numNodes=123, numClasses=2, numFeatures=1\n"
     ]
    },
    {
     "name": "stderr",
     "output_type": "stream",
     "text": [
      "                                                                                \r"
     ]
    },
    {
     "name": "stdout",
     "output_type": "stream",
     "text": [
      "model 1 build time 8.48 \n",
      " DecisionTreeClassificationModel: uid=DecisionTreeClassifier_61037083d803, depth=14, numNodes=123, numClasses=2, numFeatures=1\n"
     ]
    },
    {
     "name": "stderr",
     "output_type": "stream",
     "text": [
      "                                                                                \r"
     ]
    },
    {
     "name": "stdout",
     "output_type": "stream",
     "text": [
      "model 2 build time 8.24 \n",
      " DecisionTreeClassificationModel: uid=DecisionTreeClassifier_0a4dddd70d3b, depth=14, numNodes=123, numClasses=2, numFeatures=1\n",
      "======================================================================\n",
      "=== size_mult=1;         n_part_req=24; n_part_act=24; df_count=252137 ===\n",
      "\n"
     ]
    },
    {
     "name": "stderr",
     "output_type": "stream",
     "text": [
      "                                                                                \r"
     ]
    },
    {
     "name": "stdout",
     "output_type": "stream",
     "text": [
      "model 0 build time 9.82 \n",
      " DecisionTreeClassificationModel: uid=DecisionTreeClassifier_7bc2ffe02771, depth=14, numNodes=123, numClasses=2, numFeatures=1\n"
     ]
    },
    {
     "name": "stderr",
     "output_type": "stream",
     "text": [
      "                                                                                \r"
     ]
    },
    {
     "name": "stdout",
     "output_type": "stream",
     "text": [
      "model 1 build time 9.87 \n",
      " DecisionTreeClassificationModel: uid=DecisionTreeClassifier_30022cf2dc49, depth=14, numNodes=123, numClasses=2, numFeatures=1\n"
     ]
    },
    {
     "name": "stderr",
     "output_type": "stream",
     "text": [
      "                                                                                \r"
     ]
    },
    {
     "name": "stdout",
     "output_type": "stream",
     "text": [
      "model 2 build time 9.7 \n",
      " DecisionTreeClassificationModel: uid=DecisionTreeClassifier_41e6387eb38d, depth=14, numNodes=123, numClasses=2, numFeatures=1\n",
      "======================================================================\n"
     ]
    },
    {
     "name": "stderr",
     "output_type": "stream",
     "text": [
      "                                                                                \r"
     ]
    },
    {
     "name": "stdout",
     "output_type": "stream",
     "text": [
      "=== size_mult=2;         n_part_req=0; n_part_act=28; df_count=504274 ===\n",
      "\n"
     ]
    },
    {
     "name": "stderr",
     "output_type": "stream",
     "text": [
      "                                                                                \r"
     ]
    },
    {
     "name": "stdout",
     "output_type": "stream",
     "text": [
      "model 0 build time 7.29 \n",
      " DecisionTreeClassificationModel: uid=DecisionTreeClassifier_0c648a8b1ea5, depth=14, numNodes=151, numClasses=2, numFeatures=1\n"
     ]
    },
    {
     "name": "stderr",
     "output_type": "stream",
     "text": [
      "                                                                                \r"
     ]
    },
    {
     "name": "stdout",
     "output_type": "stream",
     "text": [
      "model 1 build time 6.86 \n",
      " DecisionTreeClassificationModel: uid=DecisionTreeClassifier_a1f4e4c2a7e3, depth=14, numNodes=151, numClasses=2, numFeatures=1\n"
     ]
    },
    {
     "name": "stderr",
     "output_type": "stream",
     "text": [
      "                                                                                \r"
     ]
    },
    {
     "name": "stdout",
     "output_type": "stream",
     "text": [
      "model 2 build time 6.81 \n",
      " DecisionTreeClassificationModel: uid=DecisionTreeClassifier_b3ed26cb3275, depth=14, numNodes=151, numClasses=2, numFeatures=1\n",
      "======================================================================\n",
      "=== size_mult=2;         n_part_req=2; n_part_act=2; df_count=504274 ===\n",
      "\n"
     ]
    },
    {
     "name": "stderr",
     "output_type": "stream",
     "text": [
      "                                                                                \r"
     ]
    },
    {
     "name": "stdout",
     "output_type": "stream",
     "text": [
      "model 0 build time 9.53 \n",
      " DecisionTreeClassificationModel: uid=DecisionTreeClassifier_a5f85088de3b, depth=14, numNodes=151, numClasses=2, numFeatures=1\n"
     ]
    },
    {
     "name": "stderr",
     "output_type": "stream",
     "text": [
      "                                                                                \r"
     ]
    },
    {
     "name": "stdout",
     "output_type": "stream",
     "text": [
      "model 1 build time 9.49 \n",
      " DecisionTreeClassificationModel: uid=DecisionTreeClassifier_feb949901f41, depth=14, numNodes=151, numClasses=2, numFeatures=1\n"
     ]
    },
    {
     "name": "stderr",
     "output_type": "stream",
     "text": [
      "                                                                                \r"
     ]
    },
    {
     "name": "stdout",
     "output_type": "stream",
     "text": [
      "model 2 build time 9.56 \n",
      " DecisionTreeClassificationModel: uid=DecisionTreeClassifier_c9ab9c3375a8, depth=14, numNodes=151, numClasses=2, numFeatures=1\n",
      "======================================================================\n",
      "=== size_mult=2;         n_part_req=4; n_part_act=4; df_count=504274 ===\n",
      "\n"
     ]
    },
    {
     "name": "stderr",
     "output_type": "stream",
     "text": [
      "                                                                                \r"
     ]
    },
    {
     "name": "stdout",
     "output_type": "stream",
     "text": [
      "model 0 build time 6.24 \n",
      " DecisionTreeClassificationModel: uid=DecisionTreeClassifier_f88eb2d47bb3, depth=14, numNodes=151, numClasses=2, numFeatures=1\n"
     ]
    },
    {
     "name": "stderr",
     "output_type": "stream",
     "text": [
      "                                                                                \r"
     ]
    },
    {
     "name": "stdout",
     "output_type": "stream",
     "text": [
      "model 1 build time 6.15 \n",
      " DecisionTreeClassificationModel: uid=DecisionTreeClassifier_d8e5eaaae95e, depth=14, numNodes=151, numClasses=2, numFeatures=1\n"
     ]
    },
    {
     "name": "stderr",
     "output_type": "stream",
     "text": [
      "                                                                                \r"
     ]
    },
    {
     "name": "stdout",
     "output_type": "stream",
     "text": [
      "model 2 build time 6.15 \n",
      " DecisionTreeClassificationModel: uid=DecisionTreeClassifier_ec802a2fe38c, depth=14, numNodes=151, numClasses=2, numFeatures=1\n",
      "======================================================================\n",
      "=== size_mult=2;         n_part_req=6; n_part_act=6; df_count=504274 ===\n",
      "\n"
     ]
    },
    {
     "name": "stderr",
     "output_type": "stream",
     "text": [
      "                                                                                \r"
     ]
    },
    {
     "name": "stdout",
     "output_type": "stream",
     "text": [
      "model 0 build time 7.95 \n",
      " DecisionTreeClassificationModel: uid=DecisionTreeClassifier_ca7cbc81ff4d, depth=14, numNodes=151, numClasses=2, numFeatures=1\n"
     ]
    },
    {
     "name": "stderr",
     "output_type": "stream",
     "text": [
      "                                                                                \r"
     ]
    },
    {
     "name": "stdout",
     "output_type": "stream",
     "text": [
      "model 1 build time 8.11 \n",
      " DecisionTreeClassificationModel: uid=DecisionTreeClassifier_d58a6edc47d5, depth=14, numNodes=151, numClasses=2, numFeatures=1\n"
     ]
    },
    {
     "name": "stderr",
     "output_type": "stream",
     "text": [
      "                                                                                \r"
     ]
    },
    {
     "name": "stdout",
     "output_type": "stream",
     "text": [
      "model 2 build time 7.94 \n",
      " DecisionTreeClassificationModel: uid=DecisionTreeClassifier_11e74ccee84c, depth=14, numNodes=151, numClasses=2, numFeatures=1\n",
      "======================================================================\n",
      "=== size_mult=2;         n_part_req=8; n_part_act=8; df_count=504274 ===\n",
      "\n"
     ]
    },
    {
     "name": "stderr",
     "output_type": "stream",
     "text": [
      "                                                                                \r"
     ]
    },
    {
     "name": "stdout",
     "output_type": "stream",
     "text": [
      "model 0 build time 8.09 \n",
      " DecisionTreeClassificationModel: uid=DecisionTreeClassifier_28f4be3fffb0, depth=14, numNodes=151, numClasses=2, numFeatures=1\n"
     ]
    },
    {
     "name": "stderr",
     "output_type": "stream",
     "text": [
      "                                                                                \r"
     ]
    },
    {
     "name": "stdout",
     "output_type": "stream",
     "text": [
      "model 1 build time 8.13 \n",
      " DecisionTreeClassificationModel: uid=DecisionTreeClassifier_fb9583a018c5, depth=14, numNodes=151, numClasses=2, numFeatures=1\n"
     ]
    },
    {
     "name": "stderr",
     "output_type": "stream",
     "text": [
      "                                                                                \r"
     ]
    },
    {
     "name": "stdout",
     "output_type": "stream",
     "text": [
      "model 2 build time 7.72 \n",
      " DecisionTreeClassificationModel: uid=DecisionTreeClassifier_1a72cf282d61, depth=14, numNodes=151, numClasses=2, numFeatures=1\n",
      "======================================================================\n",
      "=== size_mult=2;         n_part_req=16; n_part_act=16; df_count=504274 ===\n",
      "\n"
     ]
    },
    {
     "name": "stderr",
     "output_type": "stream",
     "text": [
      "                                                                                \r"
     ]
    },
    {
     "name": "stdout",
     "output_type": "stream",
     "text": [
      "model 0 build time 11.45 \n",
      " DecisionTreeClassificationModel: uid=DecisionTreeClassifier_6293073a4606, depth=14, numNodes=151, numClasses=2, numFeatures=1\n"
     ]
    },
    {
     "name": "stderr",
     "output_type": "stream",
     "text": [
      "                                                                                \r"
     ]
    },
    {
     "name": "stdout",
     "output_type": "stream",
     "text": [
      "model 1 build time 11.68 \n",
      " DecisionTreeClassificationModel: uid=DecisionTreeClassifier_39ab698ba9ff, depth=14, numNodes=151, numClasses=2, numFeatures=1\n"
     ]
    },
    {
     "name": "stderr",
     "output_type": "stream",
     "text": [
      "                                                                                \r"
     ]
    },
    {
     "name": "stdout",
     "output_type": "stream",
     "text": [
      "model 2 build time 11.4 \n",
      " DecisionTreeClassificationModel: uid=DecisionTreeClassifier_87bb18b19851, depth=14, numNodes=151, numClasses=2, numFeatures=1\n",
      "======================================================================\n",
      "=== size_mult=2;         n_part_req=24; n_part_act=24; df_count=504274 ===\n",
      "\n"
     ]
    },
    {
     "name": "stderr",
     "output_type": "stream",
     "text": [
      "                                                                                \r"
     ]
    },
    {
     "name": "stdout",
     "output_type": "stream",
     "text": [
      "model 0 build time 14.54 \n",
      " DecisionTreeClassificationModel: uid=DecisionTreeClassifier_8566c96529cd, depth=14, numNodes=151, numClasses=2, numFeatures=1\n"
     ]
    },
    {
     "name": "stderr",
     "output_type": "stream",
     "text": [
      "                                                                                \r"
     ]
    },
    {
     "name": "stdout",
     "output_type": "stream",
     "text": [
      "model 1 build time 14.41 \n",
      " DecisionTreeClassificationModel: uid=DecisionTreeClassifier_12e25b92499d, depth=14, numNodes=151, numClasses=2, numFeatures=1\n"
     ]
    },
    {
     "name": "stderr",
     "output_type": "stream",
     "text": [
      "                                                                                \r"
     ]
    },
    {
     "name": "stdout",
     "output_type": "stream",
     "text": [
      "model 2 build time 14.27 \n",
      " DecisionTreeClassificationModel: uid=DecisionTreeClassifier_6e73d70eec0c, depth=14, numNodes=151, numClasses=2, numFeatures=1\n",
      "======================================================================\n"
     ]
    },
    {
     "name": "stderr",
     "output_type": "stream",
     "text": [
      "                                                                                \r"
     ]
    },
    {
     "name": "stdout",
     "output_type": "stream",
     "text": [
      "=== size_mult=5;         n_part_req=0; n_part_act=70; df_count=1260685 ===\n",
      "\n"
     ]
    },
    {
     "name": "stderr",
     "output_type": "stream",
     "text": [
      "                                                                                \r"
     ]
    },
    {
     "name": "stdout",
     "output_type": "stream",
     "text": [
      "model 0 build time 16.05 \n",
      " DecisionTreeClassificationModel: uid=DecisionTreeClassifier_bb5f26c1dc3a, depth=13, numNodes=67, numClasses=2, numFeatures=1\n"
     ]
    },
    {
     "name": "stderr",
     "output_type": "stream",
     "text": [
      "                                                                                \r"
     ]
    },
    {
     "name": "stdout",
     "output_type": "stream",
     "text": [
      "model 1 build time 17.87 \n",
      " DecisionTreeClassificationModel: uid=DecisionTreeClassifier_b4d2f09f40bc, depth=13, numNodes=67, numClasses=2, numFeatures=1\n"
     ]
    },
    {
     "name": "stderr",
     "output_type": "stream",
     "text": [
      "                                                                                \r"
     ]
    },
    {
     "name": "stdout",
     "output_type": "stream",
     "text": [
      "model 2 build time 18.4 \n",
      " DecisionTreeClassificationModel: uid=DecisionTreeClassifier_e2192f2d7200, depth=13, numNodes=67, numClasses=2, numFeatures=1\n",
      "======================================================================\n"
     ]
    },
    {
     "name": "stderr",
     "output_type": "stream",
     "text": [
      "                                                                                \r"
     ]
    },
    {
     "name": "stdout",
     "output_type": "stream",
     "text": [
      "=== size_mult=5;         n_part_req=2; n_part_act=2; df_count=1260685 ===\n",
      "\n"
     ]
    },
    {
     "name": "stderr",
     "output_type": "stream",
     "text": [
      "                                                                                \r"
     ]
    },
    {
     "name": "stdout",
     "output_type": "stream",
     "text": [
      "model 0 build time 15.88 \n",
      " DecisionTreeClassificationModel: uid=DecisionTreeClassifier_56efb18276d0, depth=13, numNodes=67, numClasses=2, numFeatures=1\n"
     ]
    },
    {
     "name": "stderr",
     "output_type": "stream",
     "text": [
      "                                                                                \r"
     ]
    },
    {
     "name": "stdout",
     "output_type": "stream",
     "text": [
      "model 1 build time 13.83 \n",
      " DecisionTreeClassificationModel: uid=DecisionTreeClassifier_1952cb801d2e, depth=13, numNodes=67, numClasses=2, numFeatures=1\n"
     ]
    },
    {
     "name": "stderr",
     "output_type": "stream",
     "text": [
      "                                                                                \r"
     ]
    },
    {
     "name": "stdout",
     "output_type": "stream",
     "text": [
      "model 2 build time 13.21 \n",
      " DecisionTreeClassificationModel: uid=DecisionTreeClassifier_e03a51fdc08c, depth=13, numNodes=67, numClasses=2, numFeatures=1\n",
      "======================================================================\n"
     ]
    },
    {
     "name": "stderr",
     "output_type": "stream",
     "text": [
      "                                                                                \r"
     ]
    },
    {
     "name": "stdout",
     "output_type": "stream",
     "text": [
      "=== size_mult=5;         n_part_req=4; n_part_act=4; df_count=1260685 ===\n",
      "\n"
     ]
    },
    {
     "name": "stderr",
     "output_type": "stream",
     "text": [
      "                                                                                \r"
     ]
    },
    {
     "name": "stdout",
     "output_type": "stream",
     "text": [
      "model 0 build time 9.6 \n",
      " DecisionTreeClassificationModel: uid=DecisionTreeClassifier_8ed849004745, depth=13, numNodes=67, numClasses=2, numFeatures=1\n"
     ]
    },
    {
     "name": "stderr",
     "output_type": "stream",
     "text": [
      "                                                                                \r"
     ]
    },
    {
     "name": "stdout",
     "output_type": "stream",
     "text": [
      "model 1 build time 8.8 \n",
      " DecisionTreeClassificationModel: uid=DecisionTreeClassifier_3a02c3e8f05d, depth=13, numNodes=67, numClasses=2, numFeatures=1\n"
     ]
    },
    {
     "name": "stderr",
     "output_type": "stream",
     "text": [
      "                                                                                \r"
     ]
    },
    {
     "name": "stdout",
     "output_type": "stream",
     "text": [
      "model 2 build time 9.67 \n",
      " DecisionTreeClassificationModel: uid=DecisionTreeClassifier_f17863b4bc4f, depth=13, numNodes=67, numClasses=2, numFeatures=1\n",
      "======================================================================\n",
      "=== size_mult=5;         n_part_req=6; n_part_act=6; df_count=1260685 ===\n",
      "\n"
     ]
    },
    {
     "name": "stderr",
     "output_type": "stream",
     "text": [
      "                                                                                \r"
     ]
    },
    {
     "name": "stdout",
     "output_type": "stream",
     "text": [
      "model 0 build time 9.74 \n",
      " DecisionTreeClassificationModel: uid=DecisionTreeClassifier_516e5d184a85, depth=13, numNodes=67, numClasses=2, numFeatures=1\n"
     ]
    },
    {
     "name": "stderr",
     "output_type": "stream",
     "text": [
      "                                                                                \r"
     ]
    },
    {
     "name": "stdout",
     "output_type": "stream",
     "text": [
      "model 1 build time 9.58 \n",
      " DecisionTreeClassificationModel: uid=DecisionTreeClassifier_4d333f3cb5af, depth=13, numNodes=67, numClasses=2, numFeatures=1\n"
     ]
    },
    {
     "name": "stderr",
     "output_type": "stream",
     "text": [
      "                                                                                \r"
     ]
    },
    {
     "name": "stdout",
     "output_type": "stream",
     "text": [
      "model 2 build time 9.38 \n",
      " DecisionTreeClassificationModel: uid=DecisionTreeClassifier_16d4c4d0c576, depth=13, numNodes=67, numClasses=2, numFeatures=1\n",
      "======================================================================\n",
      "=== size_mult=5;         n_part_req=8; n_part_act=8; df_count=1260685 ===\n",
      "\n"
     ]
    },
    {
     "name": "stderr",
     "output_type": "stream",
     "text": [
      "                                                                                \r"
     ]
    },
    {
     "name": "stdout",
     "output_type": "stream",
     "text": [
      "model 0 build time 10.24 \n",
      " DecisionTreeClassificationModel: uid=DecisionTreeClassifier_9ee675cd3331, depth=13, numNodes=67, numClasses=2, numFeatures=1\n"
     ]
    },
    {
     "name": "stderr",
     "output_type": "stream",
     "text": [
      "                                                                                \r"
     ]
    },
    {
     "name": "stdout",
     "output_type": "stream",
     "text": [
      "model 1 build time 10.39 \n",
      " DecisionTreeClassificationModel: uid=DecisionTreeClassifier_f4fe748e8f9f, depth=13, numNodes=67, numClasses=2, numFeatures=1\n"
     ]
    },
    {
     "name": "stderr",
     "output_type": "stream",
     "text": [
      "                                                                                \r"
     ]
    },
    {
     "name": "stdout",
     "output_type": "stream",
     "text": [
      "model 2 build time 10.07 \n",
      " DecisionTreeClassificationModel: uid=DecisionTreeClassifier_26644266ae6b, depth=13, numNodes=67, numClasses=2, numFeatures=1\n",
      "======================================================================\n",
      "=== size_mult=5;         n_part_req=16; n_part_act=16; df_count=1260685 ===\n",
      "\n"
     ]
    },
    {
     "name": "stderr",
     "output_type": "stream",
     "text": [
      "                                                                                \r"
     ]
    },
    {
     "name": "stdout",
     "output_type": "stream",
     "text": [
      "model 0 build time 13.75 \n",
      " DecisionTreeClassificationModel: uid=DecisionTreeClassifier_048fd5602380, depth=13, numNodes=67, numClasses=2, numFeatures=1\n"
     ]
    },
    {
     "name": "stderr",
     "output_type": "stream",
     "text": [
      "                                                                                \r"
     ]
    },
    {
     "name": "stdout",
     "output_type": "stream",
     "text": [
      "model 1 build time 14.4 \n",
      " DecisionTreeClassificationModel: uid=DecisionTreeClassifier_afd1145326bb, depth=13, numNodes=67, numClasses=2, numFeatures=1\n"
     ]
    },
    {
     "name": "stderr",
     "output_type": "stream",
     "text": [
      "                                                                                \r"
     ]
    },
    {
     "name": "stdout",
     "output_type": "stream",
     "text": [
      "model 2 build time 13.43 \n",
      " DecisionTreeClassificationModel: uid=DecisionTreeClassifier_7b849ad9c356, depth=13, numNodes=67, numClasses=2, numFeatures=1\n",
      "======================================================================\n",
      "=== size_mult=5;         n_part_req=24; n_part_act=24; df_count=1260685 ===\n",
      "\n"
     ]
    },
    {
     "name": "stderr",
     "output_type": "stream",
     "text": [
      "                                                                                \r"
     ]
    },
    {
     "name": "stdout",
     "output_type": "stream",
     "text": [
      "model 0 build time 16.99 \n",
      " DecisionTreeClassificationModel: uid=DecisionTreeClassifier_4818a1de1f7d, depth=13, numNodes=67, numClasses=2, numFeatures=1\n"
     ]
    },
    {
     "name": "stderr",
     "output_type": "stream",
     "text": [
      "                                                                                \r"
     ]
    },
    {
     "name": "stdout",
     "output_type": "stream",
     "text": [
      "model 1 build time 16.79 \n",
      " DecisionTreeClassificationModel: uid=DecisionTreeClassifier_1b53f355b238, depth=13, numNodes=67, numClasses=2, numFeatures=1\n"
     ]
    },
    {
     "name": "stderr",
     "output_type": "stream",
     "text": [
      "                                                                                \r"
     ]
    },
    {
     "name": "stdout",
     "output_type": "stream",
     "text": [
      "model 2 build time 16.98 \n",
      " DecisionTreeClassificationModel: uid=DecisionTreeClassifier_315c7e817f0f, depth=13, numNodes=67, numClasses=2, numFeatures=1\n",
      "======================================================================\n"
     ]
    },
    {
     "name": "stderr",
     "output_type": "stream",
     "text": [
      "                                                                                \r"
     ]
    },
    {
     "name": "stdout",
     "output_type": "stream",
     "text": [
      "=== size_mult=10;         n_part_req=0; n_part_act=180; df_count=2521370 ===\n",
      "\n"
     ]
    },
    {
     "name": "stderr",
     "output_type": "stream",
     "text": [
      "                                                                                \r"
     ]
    },
    {
     "name": "stdout",
     "output_type": "stream",
     "text": [
      "model 0 build time 42.13 \n",
      " DecisionTreeClassificationModel: uid=DecisionTreeClassifier_d7ee8c05d2df, depth=13, numNodes=65, numClasses=2, numFeatures=1\n"
     ]
    },
    {
     "name": "stderr",
     "output_type": "stream",
     "text": [
      "                                                                                \r"
     ]
    },
    {
     "name": "stdout",
     "output_type": "stream",
     "text": [
      "model 1 build time 38.71 \n",
      " DecisionTreeClassificationModel: uid=DecisionTreeClassifier_2e3fefe97478, depth=13, numNodes=65, numClasses=2, numFeatures=1\n"
     ]
    },
    {
     "name": "stderr",
     "output_type": "stream",
     "text": [
      "                                                                                \r"
     ]
    },
    {
     "name": "stdout",
     "output_type": "stream",
     "text": [
      "model 2 build time 36.26 \n",
      " DecisionTreeClassificationModel: uid=DecisionTreeClassifier_1c21242dc834, depth=13, numNodes=65, numClasses=2, numFeatures=1\n",
      "======================================================================\n"
     ]
    },
    {
     "name": "stderr",
     "output_type": "stream",
     "text": [
      "                                                                                \r"
     ]
    },
    {
     "name": "stdout",
     "output_type": "stream",
     "text": [
      "=== size_mult=10;         n_part_req=2; n_part_act=2; df_count=2521370 ===\n",
      "\n"
     ]
    },
    {
     "name": "stderr",
     "output_type": "stream",
     "text": [
      "                                                                                \r"
     ]
    },
    {
     "name": "stdout",
     "output_type": "stream",
     "text": [
      "model 0 build time 17.98 \n",
      " DecisionTreeClassificationModel: uid=DecisionTreeClassifier_64bbd53ecdeb, depth=13, numNodes=65, numClasses=2, numFeatures=1\n"
     ]
    },
    {
     "name": "stderr",
     "output_type": "stream",
     "text": [
      "                                                                                \r"
     ]
    },
    {
     "name": "stdout",
     "output_type": "stream",
     "text": [
      "model 1 build time 18.16 \n",
      " DecisionTreeClassificationModel: uid=DecisionTreeClassifier_f4ab65f631a1, depth=13, numNodes=65, numClasses=2, numFeatures=1\n"
     ]
    },
    {
     "name": "stderr",
     "output_type": "stream",
     "text": [
      "                                                                                \r"
     ]
    },
    {
     "name": "stdout",
     "output_type": "stream",
     "text": [
      "model 2 build time 18.02 \n",
      " DecisionTreeClassificationModel: uid=DecisionTreeClassifier_c4308c727ad4, depth=13, numNodes=65, numClasses=2, numFeatures=1\n",
      "======================================================================\n"
     ]
    },
    {
     "name": "stderr",
     "output_type": "stream",
     "text": [
      "                                                                                \r"
     ]
    },
    {
     "name": "stdout",
     "output_type": "stream",
     "text": [
      "=== size_mult=10;         n_part_req=4; n_part_act=4; df_count=2521370 ===\n",
      "\n"
     ]
    },
    {
     "name": "stderr",
     "output_type": "stream",
     "text": [
      "                                                                                \r"
     ]
    },
    {
     "name": "stdout",
     "output_type": "stream",
     "text": [
      "model 0 build time 13.1 \n",
      " DecisionTreeClassificationModel: uid=DecisionTreeClassifier_6aa9dbb85743, depth=13, numNodes=65, numClasses=2, numFeatures=1\n"
     ]
    },
    {
     "name": "stderr",
     "output_type": "stream",
     "text": [
      "                                                                                \r"
     ]
    },
    {
     "name": "stdout",
     "output_type": "stream",
     "text": [
      "model 1 build time 10.94 \n",
      " DecisionTreeClassificationModel: uid=DecisionTreeClassifier_7597b94e60a7, depth=13, numNodes=65, numClasses=2, numFeatures=1\n"
     ]
    },
    {
     "name": "stderr",
     "output_type": "stream",
     "text": [
      "                                                                                \r"
     ]
    },
    {
     "name": "stdout",
     "output_type": "stream",
     "text": [
      "model 2 build time 11.25 \n",
      " DecisionTreeClassificationModel: uid=DecisionTreeClassifier_fa87d718693a, depth=13, numNodes=65, numClasses=2, numFeatures=1\n",
      "======================================================================\n"
     ]
    },
    {
     "name": "stderr",
     "output_type": "stream",
     "text": [
      "                                                                                \r"
     ]
    },
    {
     "name": "stdout",
     "output_type": "stream",
     "text": [
      "=== size_mult=10;         n_part_req=6; n_part_act=6; df_count=2521370 ===\n",
      "\n"
     ]
    },
    {
     "name": "stderr",
     "output_type": "stream",
     "text": [
      "                                                                                \r"
     ]
    },
    {
     "name": "stdout",
     "output_type": "stream",
     "text": [
      "model 0 build time 16.26 \n",
      " DecisionTreeClassificationModel: uid=DecisionTreeClassifier_522992ae613d, depth=13, numNodes=65, numClasses=2, numFeatures=1\n"
     ]
    },
    {
     "name": "stderr",
     "output_type": "stream",
     "text": [
      "                                                                                \r"
     ]
    },
    {
     "name": "stdout",
     "output_type": "stream",
     "text": [
      "model 1 build time 16.19 \n",
      " DecisionTreeClassificationModel: uid=DecisionTreeClassifier_52ce886ad9be, depth=13, numNodes=65, numClasses=2, numFeatures=1\n"
     ]
    },
    {
     "name": "stderr",
     "output_type": "stream",
     "text": [
      "                                                                                \r"
     ]
    },
    {
     "name": "stdout",
     "output_type": "stream",
     "text": [
      "model 2 build time 15.46 \n",
      " DecisionTreeClassificationModel: uid=DecisionTreeClassifier_f1ea6fa9703a, depth=13, numNodes=65, numClasses=2, numFeatures=1\n",
      "======================================================================\n"
     ]
    },
    {
     "name": "stderr",
     "output_type": "stream",
     "text": [
      "                                                                                \r"
     ]
    },
    {
     "name": "stdout",
     "output_type": "stream",
     "text": [
      "=== size_mult=10;         n_part_req=8; n_part_act=8; df_count=2521370 ===\n",
      "\n"
     ]
    },
    {
     "name": "stderr",
     "output_type": "stream",
     "text": [
      "                                                                                \r"
     ]
    },
    {
     "name": "stdout",
     "output_type": "stream",
     "text": [
      "model 0 build time 20.33 \n",
      " DecisionTreeClassificationModel: uid=DecisionTreeClassifier_4ec13c8556ea, depth=13, numNodes=65, numClasses=2, numFeatures=1\n"
     ]
    },
    {
     "name": "stderr",
     "output_type": "stream",
     "text": [
      "                                                                                \r"
     ]
    },
    {
     "name": "stdout",
     "output_type": "stream",
     "text": [
      "model 1 build time 19.09 \n",
      " DecisionTreeClassificationModel: uid=DecisionTreeClassifier_e71dc84913cc, depth=13, numNodes=65, numClasses=2, numFeatures=1\n"
     ]
    },
    {
     "name": "stderr",
     "output_type": "stream",
     "text": [
      "                                                                                \r"
     ]
    },
    {
     "name": "stdout",
     "output_type": "stream",
     "text": [
      "model 2 build time 19.45 \n",
      " DecisionTreeClassificationModel: uid=DecisionTreeClassifier_2ece1335cb6f, depth=13, numNodes=65, numClasses=2, numFeatures=1\n",
      "======================================================================\n"
     ]
    },
    {
     "name": "stderr",
     "output_type": "stream",
     "text": [
      "                                                                                \r"
     ]
    },
    {
     "name": "stdout",
     "output_type": "stream",
     "text": [
      "=== size_mult=10;         n_part_req=16; n_part_act=16; df_count=2521370 ===\n",
      "\n"
     ]
    },
    {
     "name": "stderr",
     "output_type": "stream",
     "text": [
      "                                                                                \r"
     ]
    },
    {
     "name": "stdout",
     "output_type": "stream",
     "text": [
      "model 0 build time 25.83 \n",
      " DecisionTreeClassificationModel: uid=DecisionTreeClassifier_101aadcb28b0, depth=13, numNodes=65, numClasses=2, numFeatures=1\n"
     ]
    },
    {
     "name": "stderr",
     "output_type": "stream",
     "text": [
      "                                                                                \r"
     ]
    },
    {
     "name": "stdout",
     "output_type": "stream",
     "text": [
      "model 1 build time 26.77 \n",
      " DecisionTreeClassificationModel: uid=DecisionTreeClassifier_aa7aa3467735, depth=13, numNodes=65, numClasses=2, numFeatures=1\n"
     ]
    },
    {
     "name": "stderr",
     "output_type": "stream",
     "text": [
      "                                                                                \r"
     ]
    },
    {
     "name": "stdout",
     "output_type": "stream",
     "text": [
      "model 2 build time 25.94 \n",
      " DecisionTreeClassificationModel: uid=DecisionTreeClassifier_2d9669c9be47, depth=13, numNodes=65, numClasses=2, numFeatures=1\n",
      "======================================================================\n"
     ]
    },
    {
     "name": "stderr",
     "output_type": "stream",
     "text": [
      "                                                                                \r"
     ]
    },
    {
     "name": "stdout",
     "output_type": "stream",
     "text": [
      "=== size_mult=10;         n_part_req=24; n_part_act=24; df_count=2521370 ===\n",
      "\n"
     ]
    },
    {
     "name": "stderr",
     "output_type": "stream",
     "text": [
      "                                                                                \r"
     ]
    },
    {
     "name": "stdout",
     "output_type": "stream",
     "text": [
      "model 0 build time 32.83 \n",
      " DecisionTreeClassificationModel: uid=DecisionTreeClassifier_06fb4d37acd2, depth=13, numNodes=65, numClasses=2, numFeatures=1\n"
     ]
    },
    {
     "name": "stderr",
     "output_type": "stream",
     "text": [
      "                                                                                \r"
     ]
    },
    {
     "name": "stdout",
     "output_type": "stream",
     "text": [
      "model 1 build time 32.21 \n",
      " DecisionTreeClassificationModel: uid=DecisionTreeClassifier_9875359e2770, depth=13, numNodes=65, numClasses=2, numFeatures=1\n"
     ]
    },
    {
     "name": "stderr",
     "output_type": "stream",
     "text": [
      "                                                                                \r"
     ]
    },
    {
     "name": "stdout",
     "output_type": "stream",
     "text": [
      "model 2 build time 32.6 \n",
      " DecisionTreeClassificationModel: uid=DecisionTreeClassifier_6feacebde2cf, depth=13, numNodes=65, numClasses=2, numFeatures=1\n",
      "======================================================================\n"
     ]
    },
    {
     "name": "stderr",
     "output_type": "stream",
     "text": [
      "                                                                                \r"
     ]
    },
    {
     "name": "stdout",
     "output_type": "stream",
     "text": [
      "=== size_mult=15;         n_part_req=0; n_part_act=330; df_count=3782055 ===\n",
      "\n"
     ]
    },
    {
     "name": "stderr",
     "output_type": "stream",
     "text": [
      "                                                                                \r"
     ]
    },
    {
     "name": "stdout",
     "output_type": "stream",
     "text": [
      "model 0 build time 72.74 \n",
      " DecisionTreeClassificationModel: uid=DecisionTreeClassifier_478edb2a7247, depth=10, numNodes=35, numClasses=2, numFeatures=1\n"
     ]
    },
    {
     "name": "stderr",
     "output_type": "stream",
     "text": [
      "                                                                                \r"
     ]
    },
    {
     "name": "stdout",
     "output_type": "stream",
     "text": [
      "model 1 build time 68.98 \n",
      " DecisionTreeClassificationModel: uid=DecisionTreeClassifier_bfed00935357, depth=10, numNodes=35, numClasses=2, numFeatures=1\n"
     ]
    },
    {
     "name": "stderr",
     "output_type": "stream",
     "text": [
      "                                                                                \r"
     ]
    },
    {
     "name": "stdout",
     "output_type": "stream",
     "text": [
      "model 2 build time 67.55 \n",
      " DecisionTreeClassificationModel: uid=DecisionTreeClassifier_0369f639a339, depth=10, numNodes=35, numClasses=2, numFeatures=1\n",
      "======================================================================\n"
     ]
    },
    {
     "name": "stderr",
     "output_type": "stream",
     "text": [
      "                                                                                \r"
     ]
    },
    {
     "name": "stdout",
     "output_type": "stream",
     "text": [
      "=== size_mult=15;         n_part_req=2; n_part_act=2; df_count=3782055 ===\n",
      "\n"
     ]
    },
    {
     "name": "stderr",
     "output_type": "stream",
     "text": [
      "                                                                                \r"
     ]
    },
    {
     "name": "stdout",
     "output_type": "stream",
     "text": [
      "model 0 build time 24.47 \n",
      " DecisionTreeClassificationModel: uid=DecisionTreeClassifier_966cbb4cd087, depth=10, numNodes=35, numClasses=2, numFeatures=1\n"
     ]
    },
    {
     "name": "stderr",
     "output_type": "stream",
     "text": [
      "                                                                                \r"
     ]
    },
    {
     "name": "stdout",
     "output_type": "stream",
     "text": [
      "model 1 build time 25.08 \n",
      " DecisionTreeClassificationModel: uid=DecisionTreeClassifier_0ff5665ed51a, depth=10, numNodes=35, numClasses=2, numFeatures=1\n"
     ]
    },
    {
     "name": "stderr",
     "output_type": "stream",
     "text": [
      "                                                                                \r"
     ]
    },
    {
     "name": "stdout",
     "output_type": "stream",
     "text": [
      "model 2 build time 24.17 \n",
      " DecisionTreeClassificationModel: uid=DecisionTreeClassifier_1fddd016d7fb, depth=10, numNodes=35, numClasses=2, numFeatures=1\n",
      "======================================================================\n"
     ]
    },
    {
     "name": "stderr",
     "output_type": "stream",
     "text": [
      "                                                                                \r"
     ]
    },
    {
     "name": "stdout",
     "output_type": "stream",
     "text": [
      "=== size_mult=15;         n_part_req=4; n_part_act=4; df_count=3782055 ===\n",
      "\n"
     ]
    },
    {
     "name": "stderr",
     "output_type": "stream",
     "text": [
      "                                                                                \r"
     ]
    },
    {
     "name": "stdout",
     "output_type": "stream",
     "text": [
      "model 0 build time 14.15 \n",
      " DecisionTreeClassificationModel: uid=DecisionTreeClassifier_f4c9421d5430, depth=10, numNodes=35, numClasses=2, numFeatures=1\n"
     ]
    },
    {
     "name": "stderr",
     "output_type": "stream",
     "text": [
      "                                                                                \r"
     ]
    },
    {
     "name": "stdout",
     "output_type": "stream",
     "text": [
      "model 1 build time 14.96 \n",
      " DecisionTreeClassificationModel: uid=DecisionTreeClassifier_4222217ebba3, depth=10, numNodes=35, numClasses=2, numFeatures=1\n"
     ]
    },
    {
     "name": "stderr",
     "output_type": "stream",
     "text": [
      "                                                                                \r"
     ]
    },
    {
     "name": "stdout",
     "output_type": "stream",
     "text": [
      "model 2 build time 13.85 \n",
      " DecisionTreeClassificationModel: uid=DecisionTreeClassifier_fea78ab9a1ef, depth=10, numNodes=35, numClasses=2, numFeatures=1\n",
      "======================================================================\n"
     ]
    },
    {
     "name": "stderr",
     "output_type": "stream",
     "text": [
      "                                                                                \r"
     ]
    },
    {
     "name": "stdout",
     "output_type": "stream",
     "text": [
      "=== size_mult=15;         n_part_req=6; n_part_act=6; df_count=3782055 ===\n",
      "\n"
     ]
    },
    {
     "name": "stderr",
     "output_type": "stream",
     "text": [
      "                                                                                \r"
     ]
    },
    {
     "name": "stdout",
     "output_type": "stream",
     "text": [
      "model 0 build time 19.96 \n",
      " DecisionTreeClassificationModel: uid=DecisionTreeClassifier_08acb2acfe27, depth=10, numNodes=35, numClasses=2, numFeatures=1\n"
     ]
    },
    {
     "name": "stderr",
     "output_type": "stream",
     "text": [
      "                                                                                \r"
     ]
    },
    {
     "name": "stdout",
     "output_type": "stream",
     "text": [
      "model 1 build time 19.37 \n",
      " DecisionTreeClassificationModel: uid=DecisionTreeClassifier_d3941c7330c5, depth=10, numNodes=35, numClasses=2, numFeatures=1\n"
     ]
    },
    {
     "name": "stderr",
     "output_type": "stream",
     "text": [
      "                                                                                \r"
     ]
    },
    {
     "name": "stdout",
     "output_type": "stream",
     "text": [
      "model 2 build time 20.61 \n",
      " DecisionTreeClassificationModel: uid=DecisionTreeClassifier_892e7bec4417, depth=10, numNodes=35, numClasses=2, numFeatures=1\n",
      "======================================================================\n"
     ]
    },
    {
     "name": "stderr",
     "output_type": "stream",
     "text": [
      "                                                                                \r"
     ]
    },
    {
     "name": "stdout",
     "output_type": "stream",
     "text": [
      "=== size_mult=15;         n_part_req=8; n_part_act=8; df_count=3782055 ===\n",
      "\n"
     ]
    },
    {
     "name": "stderr",
     "output_type": "stream",
     "text": [
      "                                                                                \r"
     ]
    },
    {
     "name": "stdout",
     "output_type": "stream",
     "text": [
      "model 0 build time 25.84 \n",
      " DecisionTreeClassificationModel: uid=DecisionTreeClassifier_b9cc28dfaa95, depth=10, numNodes=35, numClasses=2, numFeatures=1\n"
     ]
    },
    {
     "name": "stderr",
     "output_type": "stream",
     "text": [
      "                                                                                \r"
     ]
    },
    {
     "name": "stdout",
     "output_type": "stream",
     "text": [
      "model 1 build time 25.77 \n",
      " DecisionTreeClassificationModel: uid=DecisionTreeClassifier_48b92580d74e, depth=10, numNodes=35, numClasses=2, numFeatures=1\n"
     ]
    },
    {
     "name": "stderr",
     "output_type": "stream",
     "text": [
      "                                                                                \r"
     ]
    },
    {
     "name": "stdout",
     "output_type": "stream",
     "text": [
      "model 2 build time 25.42 \n",
      " DecisionTreeClassificationModel: uid=DecisionTreeClassifier_70b41f1dfebb, depth=10, numNodes=35, numClasses=2, numFeatures=1\n",
      "======================================================================\n"
     ]
    },
    {
     "name": "stderr",
     "output_type": "stream",
     "text": [
      "                                                                                \r"
     ]
    },
    {
     "name": "stdout",
     "output_type": "stream",
     "text": [
      "=== size_mult=15;         n_part_req=16; n_part_act=16; df_count=3782055 ===\n",
      "\n"
     ]
    },
    {
     "name": "stderr",
     "output_type": "stream",
     "text": [
      "                                                                                \r"
     ]
    },
    {
     "name": "stdout",
     "output_type": "stream",
     "text": [
      "model 0 build time 32.15 \n",
      " DecisionTreeClassificationModel: uid=DecisionTreeClassifier_bdc4ec6c4680, depth=10, numNodes=35, numClasses=2, numFeatures=1\n"
     ]
    },
    {
     "name": "stderr",
     "output_type": "stream",
     "text": [
      "                                                                                \r"
     ]
    },
    {
     "name": "stdout",
     "output_type": "stream",
     "text": [
      "model 1 build time 33.85 \n",
      " DecisionTreeClassificationModel: uid=DecisionTreeClassifier_761e5bf5a66c, depth=10, numNodes=35, numClasses=2, numFeatures=1\n"
     ]
    },
    {
     "name": "stderr",
     "output_type": "stream",
     "text": [
      "                                                                                \r"
     ]
    },
    {
     "name": "stdout",
     "output_type": "stream",
     "text": [
      "model 2 build time 31.72 \n",
      " DecisionTreeClassificationModel: uid=DecisionTreeClassifier_538d4f1551a8, depth=10, numNodes=35, numClasses=2, numFeatures=1\n",
      "======================================================================\n"
     ]
    },
    {
     "name": "stderr",
     "output_type": "stream",
     "text": [
      "                                                                                \r"
     ]
    },
    {
     "name": "stdout",
     "output_type": "stream",
     "text": [
      "=== size_mult=15;         n_part_req=24; n_part_act=24; df_count=3782055 ===\n",
      "\n"
     ]
    },
    {
     "name": "stderr",
     "output_type": "stream",
     "text": [
      "                                                                                \r"
     ]
    },
    {
     "name": "stdout",
     "output_type": "stream",
     "text": [
      "model 0 build time 39.49 \n",
      " DecisionTreeClassificationModel: uid=DecisionTreeClassifier_c77e53b78839, depth=10, numNodes=35, numClasses=2, numFeatures=1\n"
     ]
    },
    {
     "name": "stderr",
     "output_type": "stream",
     "text": [
      "                                                                                \r"
     ]
    },
    {
     "name": "stdout",
     "output_type": "stream",
     "text": [
      "model 1 build time 39.96 \n",
      " DecisionTreeClassificationModel: uid=DecisionTreeClassifier_a744678eadd1, depth=10, numNodes=35, numClasses=2, numFeatures=1\n"
     ]
    },
    {
     "name": "stderr",
     "output_type": "stream",
     "text": [
      "                                                                                \r"
     ]
    },
    {
     "name": "stdout",
     "output_type": "stream",
     "text": [
      "model 2 build time 40.07 \n",
      " DecisionTreeClassificationModel: uid=DecisionTreeClassifier_6529a8113495, depth=10, numNodes=35, numClasses=2, numFeatures=1\n",
      "======================================================================\n"
     ]
    },
    {
     "name": "stderr",
     "output_type": "stream",
     "text": [
      "                                                                                \r"
     ]
    },
    {
     "name": "stdout",
     "output_type": "stream",
     "text": [
      "=== size_mult=20;         n_part_req=0; n_part_act=480; df_count=5042740 ===\n",
      "\n"
     ]
    },
    {
     "name": "stderr",
     "output_type": "stream",
     "text": [
      "                                                                                \r"
     ]
    },
    {
     "name": "stdout",
     "output_type": "stream",
     "text": [
      "model 0 build time 97.18 \n",
      " DecisionTreeClassificationModel: uid=DecisionTreeClassifier_65ee52a156c8, depth=14, numNodes=57, numClasses=2, numFeatures=1\n"
     ]
    },
    {
     "name": "stderr",
     "output_type": "stream",
     "text": [
      "                                                                                \r"
     ]
    },
    {
     "name": "stdout",
     "output_type": "stream",
     "text": [
      "model 1 build time 96.86 \n",
      " DecisionTreeClassificationModel: uid=DecisionTreeClassifier_177db8c0c1ce, depth=14, numNodes=57, numClasses=2, numFeatures=1\n"
     ]
    },
    {
     "name": "stderr",
     "output_type": "stream",
     "text": [
      "                                                                                \r"
     ]
    },
    {
     "name": "stdout",
     "output_type": "stream",
     "text": [
      "model 2 build time 95.52 \n",
      " DecisionTreeClassificationModel: uid=DecisionTreeClassifier_61ebb82a742c, depth=14, numNodes=57, numClasses=2, numFeatures=1\n",
      "======================================================================\n"
     ]
    },
    {
     "name": "stderr",
     "output_type": "stream",
     "text": [
      "                                                                                \r"
     ]
    },
    {
     "name": "stdout",
     "output_type": "stream",
     "text": [
      "=== size_mult=20;         n_part_req=2; n_part_act=2; df_count=5042740 ===\n",
      "\n"
     ]
    },
    {
     "name": "stderr",
     "output_type": "stream",
     "text": [
      "                                                                                \r"
     ]
    },
    {
     "name": "stdout",
     "output_type": "stream",
     "text": [
      "model 0 build time 27.77 \n",
      " DecisionTreeClassificationModel: uid=DecisionTreeClassifier_dc5cb3e5710b, depth=14, numNodes=57, numClasses=2, numFeatures=1\n"
     ]
    },
    {
     "name": "stderr",
     "output_type": "stream",
     "text": [
      "                                                                                \r"
     ]
    },
    {
     "name": "stdout",
     "output_type": "stream",
     "text": [
      "model 1 build time 27.9 \n",
      " DecisionTreeClassificationModel: uid=DecisionTreeClassifier_e49f1a8473b3, depth=14, numNodes=57, numClasses=2, numFeatures=1\n"
     ]
    },
    {
     "name": "stderr",
     "output_type": "stream",
     "text": [
      "                                                                                \r"
     ]
    },
    {
     "name": "stdout",
     "output_type": "stream",
     "text": [
      "model 2 build time 27.34 \n",
      " DecisionTreeClassificationModel: uid=DecisionTreeClassifier_8400d537f0a1, depth=14, numNodes=57, numClasses=2, numFeatures=1\n",
      "======================================================================\n"
     ]
    },
    {
     "name": "stderr",
     "output_type": "stream",
     "text": [
      "                                                                                \r"
     ]
    },
    {
     "name": "stdout",
     "output_type": "stream",
     "text": [
      "=== size_mult=20;         n_part_req=4; n_part_act=4; df_count=5042740 ===\n",
      "\n"
     ]
    },
    {
     "name": "stderr",
     "output_type": "stream",
     "text": [
      "                                                                                \r"
     ]
    },
    {
     "name": "stdout",
     "output_type": "stream",
     "text": [
      "model 0 build time 17.09 \n",
      " DecisionTreeClassificationModel: uid=DecisionTreeClassifier_734830a011fe, depth=14, numNodes=57, numClasses=2, numFeatures=1\n"
     ]
    },
    {
     "name": "stderr",
     "output_type": "stream",
     "text": [
      "                                                                                \r"
     ]
    },
    {
     "name": "stdout",
     "output_type": "stream",
     "text": [
      "model 1 build time 15.14 \n",
      " DecisionTreeClassificationModel: uid=DecisionTreeClassifier_e0637b65a952, depth=14, numNodes=57, numClasses=2, numFeatures=1\n"
     ]
    },
    {
     "name": "stderr",
     "output_type": "stream",
     "text": [
      "                                                                                \r"
     ]
    },
    {
     "name": "stdout",
     "output_type": "stream",
     "text": [
      "model 2 build time 15.47 \n",
      " DecisionTreeClassificationModel: uid=DecisionTreeClassifier_337830fe511b, depth=14, numNodes=57, numClasses=2, numFeatures=1\n",
      "======================================================================\n"
     ]
    },
    {
     "name": "stderr",
     "output_type": "stream",
     "text": [
      "                                                                                \r"
     ]
    },
    {
     "name": "stdout",
     "output_type": "stream",
     "text": [
      "=== size_mult=20;         n_part_req=6; n_part_act=6; df_count=5042740 ===\n",
      "\n"
     ]
    },
    {
     "name": "stderr",
     "output_type": "stream",
     "text": [
      "                                                                                \r"
     ]
    },
    {
     "name": "stdout",
     "output_type": "stream",
     "text": [
      "model 0 build time 17.56 \n",
      " DecisionTreeClassificationModel: uid=DecisionTreeClassifier_75cbd1668743, depth=14, numNodes=57, numClasses=2, numFeatures=1\n"
     ]
    },
    {
     "name": "stderr",
     "output_type": "stream",
     "text": [
      "                                                                                \r"
     ]
    },
    {
     "name": "stdout",
     "output_type": "stream",
     "text": [
      "model 1 build time 15.45 \n",
      " DecisionTreeClassificationModel: uid=DecisionTreeClassifier_1a5a8fd6ec48, depth=14, numNodes=57, numClasses=2, numFeatures=1\n"
     ]
    },
    {
     "name": "stderr",
     "output_type": "stream",
     "text": [
      "                                                                                \r"
     ]
    },
    {
     "name": "stdout",
     "output_type": "stream",
     "text": [
      "model 2 build time 15.54 \n",
      " DecisionTreeClassificationModel: uid=DecisionTreeClassifier_d41d4be066a7, depth=14, numNodes=57, numClasses=2, numFeatures=1\n",
      "======================================================================\n"
     ]
    },
    {
     "name": "stderr",
     "output_type": "stream",
     "text": [
      "                                                                                \r"
     ]
    },
    {
     "name": "stdout",
     "output_type": "stream",
     "text": [
      "=== size_mult=20;         n_part_req=8; n_part_act=8; df_count=5042740 ===\n",
      "\n"
     ]
    },
    {
     "name": "stderr",
     "output_type": "stream",
     "text": [
      "                                                                                \r"
     ]
    },
    {
     "name": "stdout",
     "output_type": "stream",
     "text": [
      "model 0 build time 15.78 \n",
      " DecisionTreeClassificationModel: uid=DecisionTreeClassifier_372cdb2ad98c, depth=14, numNodes=57, numClasses=2, numFeatures=1\n"
     ]
    },
    {
     "name": "stderr",
     "output_type": "stream",
     "text": [
      "                                                                                \r"
     ]
    },
    {
     "name": "stdout",
     "output_type": "stream",
     "text": [
      "model 1 build time 16.1 \n",
      " DecisionTreeClassificationModel: uid=DecisionTreeClassifier_73b37f493417, depth=14, numNodes=57, numClasses=2, numFeatures=1\n"
     ]
    },
    {
     "name": "stderr",
     "output_type": "stream",
     "text": [
      "                                                                                \r"
     ]
    },
    {
     "name": "stdout",
     "output_type": "stream",
     "text": [
      "model 2 build time 15.03 \n",
      " DecisionTreeClassificationModel: uid=DecisionTreeClassifier_ef1ceb37ca0e, depth=14, numNodes=57, numClasses=2, numFeatures=1\n",
      "======================================================================\n"
     ]
    },
    {
     "name": "stderr",
     "output_type": "stream",
     "text": [
      "                                                                                \r"
     ]
    },
    {
     "name": "stdout",
     "output_type": "stream",
     "text": [
      "=== size_mult=20;         n_part_req=16; n_part_act=16; df_count=5042740 ===\n",
      "\n"
     ]
    },
    {
     "name": "stderr",
     "output_type": "stream",
     "text": [
      "                                                                                \r"
     ]
    },
    {
     "name": "stdout",
     "output_type": "stream",
     "text": [
      "model 0 build time 19.61 \n",
      " DecisionTreeClassificationModel: uid=DecisionTreeClassifier_62754d90535c, depth=14, numNodes=57, numClasses=2, numFeatures=1\n"
     ]
    },
    {
     "name": "stderr",
     "output_type": "stream",
     "text": [
      "                                                                                \r"
     ]
    },
    {
     "name": "stdout",
     "output_type": "stream",
     "text": [
      "model 1 build time 19.78 \n",
      " DecisionTreeClassificationModel: uid=DecisionTreeClassifier_faceeaea92de, depth=14, numNodes=57, numClasses=2, numFeatures=1\n"
     ]
    },
    {
     "name": "stderr",
     "output_type": "stream",
     "text": [
      "                                                                                \r"
     ]
    },
    {
     "name": "stdout",
     "output_type": "stream",
     "text": [
      "model 2 build time 18.57 \n",
      " DecisionTreeClassificationModel: uid=DecisionTreeClassifier_d4be9eaad29f, depth=14, numNodes=57, numClasses=2, numFeatures=1\n",
      "======================================================================\n"
     ]
    },
    {
     "name": "stderr",
     "output_type": "stream",
     "text": [
      "                                                                                \r"
     ]
    },
    {
     "name": "stdout",
     "output_type": "stream",
     "text": [
      "=== size_mult=20;         n_part_req=24; n_part_act=24; df_count=5042740 ===\n",
      "\n"
     ]
    },
    {
     "name": "stderr",
     "output_type": "stream",
     "text": [
      "                                                                                \r"
     ]
    },
    {
     "name": "stdout",
     "output_type": "stream",
     "text": [
      "model 0 build time 22.43 \n",
      " DecisionTreeClassificationModel: uid=DecisionTreeClassifier_927f7418ccc0, depth=14, numNodes=57, numClasses=2, numFeatures=1\n"
     ]
    },
    {
     "name": "stderr",
     "output_type": "stream",
     "text": [
      "                                                                                \r"
     ]
    },
    {
     "name": "stdout",
     "output_type": "stream",
     "text": [
      "model 1 build time 23.0 \n",
      " DecisionTreeClassificationModel: uid=DecisionTreeClassifier_5f36220f7f81, depth=14, numNodes=57, numClasses=2, numFeatures=1\n"
     ]
    },
    {
     "name": "stderr",
     "output_type": "stream",
     "text": [
      "                                                                                \r"
     ]
    },
    {
     "name": "stdout",
     "output_type": "stream",
     "text": [
      "model 2 build time 23.91 \n",
      " DecisionTreeClassificationModel: uid=DecisionTreeClassifier_1fb8273c0764, depth=14, numNodes=57, numClasses=2, numFeatures=1\n",
      "======================================================================\n"
     ]
    },
    {
     "name": "stderr",
     "output_type": "stream",
     "text": [
      "                                                                                \r"
     ]
    },
    {
     "name": "stdout",
     "output_type": "stream",
     "text": [
      "=== size_mult=30;         n_part_req=0; n_part_act=720; df_count=7564110 ===\n",
      "\n"
     ]
    },
    {
     "name": "stderr",
     "output_type": "stream",
     "text": [
      "                                                                                \r"
     ]
    },
    {
     "name": "stdout",
     "output_type": "stream",
     "text": [
      "model 0 build time 128.91 \n",
      " DecisionTreeClassificationModel: uid=DecisionTreeClassifier_b4209e444e18, depth=11, numNodes=41, numClasses=2, numFeatures=1\n"
     ]
    },
    {
     "name": "stderr",
     "output_type": "stream",
     "text": [
      "                                                                                \r"
     ]
    },
    {
     "name": "stdout",
     "output_type": "stream",
     "text": [
      "model 1 build time 127.93 \n",
      " DecisionTreeClassificationModel: uid=DecisionTreeClassifier_d04c974fee94, depth=11, numNodes=41, numClasses=2, numFeatures=1\n"
     ]
    },
    {
     "name": "stderr",
     "output_type": "stream",
     "text": [
      "                                                                                \r"
     ]
    },
    {
     "name": "stdout",
     "output_type": "stream",
     "text": [
      "model 2 build time 127.77 \n",
      " DecisionTreeClassificationModel: uid=DecisionTreeClassifier_74df4e95fc86, depth=11, numNodes=41, numClasses=2, numFeatures=1\n",
      "======================================================================\n"
     ]
    },
    {
     "name": "stderr",
     "output_type": "stream",
     "text": [
      "                                                                                \r"
     ]
    },
    {
     "name": "stdout",
     "output_type": "stream",
     "text": [
      "=== size_mult=30;         n_part_req=2; n_part_act=2; df_count=7564110 ===\n",
      "\n"
     ]
    },
    {
     "name": "stderr",
     "output_type": "stream",
     "text": [
      "                                                                                \r"
     ]
    },
    {
     "name": "stdout",
     "output_type": "stream",
     "text": [
      "model 0 build time 31.3 \n",
      " DecisionTreeClassificationModel: uid=DecisionTreeClassifier_7e7bbbfcd9d7, depth=11, numNodes=41, numClasses=2, numFeatures=1\n"
     ]
    },
    {
     "name": "stderr",
     "output_type": "stream",
     "text": [
      "                                                                                \r"
     ]
    },
    {
     "name": "stdout",
     "output_type": "stream",
     "text": [
      "model 1 build time 34.82 \n",
      " DecisionTreeClassificationModel: uid=DecisionTreeClassifier_c373809f365f, depth=11, numNodes=41, numClasses=2, numFeatures=1\n"
     ]
    },
    {
     "name": "stderr",
     "output_type": "stream",
     "text": [
      "                                                                                \r"
     ]
    },
    {
     "name": "stdout",
     "output_type": "stream",
     "text": [
      "model 2 build time 30.28 \n",
      " DecisionTreeClassificationModel: uid=DecisionTreeClassifier_2454711ee9a4, depth=11, numNodes=41, numClasses=2, numFeatures=1\n",
      "======================================================================\n"
     ]
    },
    {
     "name": "stderr",
     "output_type": "stream",
     "text": [
      "                                                                                \r"
     ]
    },
    {
     "name": "stdout",
     "output_type": "stream",
     "text": [
      "=== size_mult=30;         n_part_req=4; n_part_act=4; df_count=7564110 ===\n",
      "\n"
     ]
    },
    {
     "name": "stderr",
     "output_type": "stream",
     "text": [
      "                                                                                \r"
     ]
    },
    {
     "name": "stdout",
     "output_type": "stream",
     "text": [
      "model 0 build time 17.3 \n",
      " DecisionTreeClassificationModel: uid=DecisionTreeClassifier_56e444a545e9, depth=11, numNodes=41, numClasses=2, numFeatures=1\n"
     ]
    },
    {
     "name": "stderr",
     "output_type": "stream",
     "text": [
      "                                                                                \r"
     ]
    },
    {
     "name": "stdout",
     "output_type": "stream",
     "text": [
      "model 1 build time 19.63 \n",
      " DecisionTreeClassificationModel: uid=DecisionTreeClassifier_d9f88fe2409d, depth=11, numNodes=41, numClasses=2, numFeatures=1\n"
     ]
    },
    {
     "name": "stderr",
     "output_type": "stream",
     "text": [
      "                                                                                \r"
     ]
    },
    {
     "name": "stdout",
     "output_type": "stream",
     "text": [
      "model 2 build time 18.07 \n",
      " DecisionTreeClassificationModel: uid=DecisionTreeClassifier_e8149e7e984d, depth=11, numNodes=41, numClasses=2, numFeatures=1\n",
      "======================================================================\n"
     ]
    },
    {
     "name": "stderr",
     "output_type": "stream",
     "text": [
      "                                                                                \r"
     ]
    },
    {
     "name": "stdout",
     "output_type": "stream",
     "text": [
      "=== size_mult=30;         n_part_req=6; n_part_act=6; df_count=7564110 ===\n",
      "\n"
     ]
    },
    {
     "name": "stderr",
     "output_type": "stream",
     "text": [
      "                                                                                \r"
     ]
    },
    {
     "name": "stdout",
     "output_type": "stream",
     "text": [
      "model 0 build time 23.09 \n",
      " DecisionTreeClassificationModel: uid=DecisionTreeClassifier_8a780ec4b533, depth=11, numNodes=41, numClasses=2, numFeatures=1\n"
     ]
    },
    {
     "name": "stderr",
     "output_type": "stream",
     "text": [
      "                                                                                \r"
     ]
    },
    {
     "name": "stdout",
     "output_type": "stream",
     "text": [
      "model 1 build time 25.47 \n",
      " DecisionTreeClassificationModel: uid=DecisionTreeClassifier_c0242cb16d94, depth=11, numNodes=41, numClasses=2, numFeatures=1\n"
     ]
    },
    {
     "name": "stderr",
     "output_type": "stream",
     "text": [
      "                                                                                \r"
     ]
    },
    {
     "name": "stdout",
     "output_type": "stream",
     "text": [
      "model 2 build time 23.13 \n",
      " DecisionTreeClassificationModel: uid=DecisionTreeClassifier_ed2db0f6ab70, depth=11, numNodes=41, numClasses=2, numFeatures=1\n",
      "======================================================================\n"
     ]
    },
    {
     "name": "stderr",
     "output_type": "stream",
     "text": [
      "                                                                                \r"
     ]
    },
    {
     "name": "stdout",
     "output_type": "stream",
     "text": [
      "=== size_mult=30;         n_part_req=8; n_part_act=8; df_count=7564110 ===\n",
      "\n"
     ]
    },
    {
     "name": "stderr",
     "output_type": "stream",
     "text": [
      "                                                                                \r"
     ]
    },
    {
     "name": "stdout",
     "output_type": "stream",
     "text": [
      "model 0 build time 31.87 \n",
      " DecisionTreeClassificationModel: uid=DecisionTreeClassifier_7a64dc9b35df, depth=11, numNodes=41, numClasses=2, numFeatures=1\n"
     ]
    },
    {
     "name": "stderr",
     "output_type": "stream",
     "text": [
      "                                                                                \r"
     ]
    },
    {
     "name": "stdout",
     "output_type": "stream",
     "text": [
      "model 1 build time 30.28 \n",
      " DecisionTreeClassificationModel: uid=DecisionTreeClassifier_ed1a4a7e3f48, depth=11, numNodes=41, numClasses=2, numFeatures=1\n"
     ]
    },
    {
     "name": "stderr",
     "output_type": "stream",
     "text": [
      "                                                                                \r"
     ]
    },
    {
     "name": "stdout",
     "output_type": "stream",
     "text": [
      "model 2 build time 31.47 \n",
      " DecisionTreeClassificationModel: uid=DecisionTreeClassifier_47e5afefaa6e, depth=11, numNodes=41, numClasses=2, numFeatures=1\n",
      "======================================================================\n"
     ]
    },
    {
     "name": "stderr",
     "output_type": "stream",
     "text": [
      "                                                                                \r"
     ]
    },
    {
     "name": "stdout",
     "output_type": "stream",
     "text": [
      "=== size_mult=30;         n_part_req=16; n_part_act=16; df_count=7564110 ===\n",
      "\n"
     ]
    },
    {
     "name": "stderr",
     "output_type": "stream",
     "text": [
      "                                                                                \r"
     ]
    },
    {
     "name": "stdout",
     "output_type": "stream",
     "text": [
      "model 0 build time 38.5 \n",
      " DecisionTreeClassificationModel: uid=DecisionTreeClassifier_0de5ac80e438, depth=11, numNodes=41, numClasses=2, numFeatures=1\n"
     ]
    },
    {
     "name": "stderr",
     "output_type": "stream",
     "text": [
      "                                                                                \r"
     ]
    },
    {
     "name": "stdout",
     "output_type": "stream",
     "text": [
      "model 1 build time 39.37 \n",
      " DecisionTreeClassificationModel: uid=DecisionTreeClassifier_0e454e6441fe, depth=11, numNodes=41, numClasses=2, numFeatures=1\n"
     ]
    },
    {
     "name": "stderr",
     "output_type": "stream",
     "text": [
      "                                                                                \r"
     ]
    },
    {
     "name": "stdout",
     "output_type": "stream",
     "text": [
      "model 2 build time 39.82 \n",
      " DecisionTreeClassificationModel: uid=DecisionTreeClassifier_e2af1631596c, depth=11, numNodes=41, numClasses=2, numFeatures=1\n",
      "======================================================================\n"
     ]
    },
    {
     "name": "stderr",
     "output_type": "stream",
     "text": [
      "                                                                                \r"
     ]
    },
    {
     "name": "stdout",
     "output_type": "stream",
     "text": [
      "=== size_mult=30;         n_part_req=24; n_part_act=24; df_count=7564110 ===\n",
      "\n"
     ]
    },
    {
     "name": "stderr",
     "output_type": "stream",
     "text": [
      "                                                                                \r"
     ]
    },
    {
     "name": "stdout",
     "output_type": "stream",
     "text": [
      "model 0 build time 46.76 \n",
      " DecisionTreeClassificationModel: uid=DecisionTreeClassifier_12dcd42380cd, depth=11, numNodes=41, numClasses=2, numFeatures=1\n"
     ]
    },
    {
     "name": "stderr",
     "output_type": "stream",
     "text": [
      "                                                                                \r"
     ]
    },
    {
     "name": "stdout",
     "output_type": "stream",
     "text": [
      "model 1 build time 46.61 \n",
      " DecisionTreeClassificationModel: uid=DecisionTreeClassifier_9019849c20e3, depth=11, numNodes=41, numClasses=2, numFeatures=1\n"
     ]
    },
    {
     "name": "stderr",
     "output_type": "stream",
     "text": [
      "                                                                                \r"
     ]
    },
    {
     "name": "stdout",
     "output_type": "stream",
     "text": [
      "model 2 build time 46.48 \n",
      " DecisionTreeClassificationModel: uid=DecisionTreeClassifier_fb0cf2dae2d9, depth=11, numNodes=41, numClasses=2, numFeatures=1\n",
      "======================================================================\n"
     ]
    },
    {
     "name": "stderr",
     "output_type": "stream",
     "text": [
      "                                                                                \r"
     ]
    },
    {
     "name": "stdout",
     "output_type": "stream",
     "text": [
      "=== size_mult=50;         n_part_req=0; n_part_act=1200; df_count=12606850 ===\n",
      "\n"
     ]
    },
    {
     "name": "stderr",
     "output_type": "stream",
     "text": [
      "                                                                                \r"
     ]
    },
    {
     "name": "stdout",
     "output_type": "stream",
     "text": [
      "model 0 build time 214.82 \n",
      " DecisionTreeClassificationModel: uid=DecisionTreeClassifier_1568b159a9e2, depth=13, numNodes=47, numClasses=2, numFeatures=1\n"
     ]
    },
    {
     "name": "stderr",
     "output_type": "stream",
     "text": [
      "                                                                                \r"
     ]
    },
    {
     "name": "stdout",
     "output_type": "stream",
     "text": [
      "model 1 build time 213.92 \n",
      " DecisionTreeClassificationModel: uid=DecisionTreeClassifier_1662241a4034, depth=13, numNodes=47, numClasses=2, numFeatures=1\n"
     ]
    },
    {
     "name": "stderr",
     "output_type": "stream",
     "text": [
      "                                                                                \r"
     ]
    },
    {
     "name": "stdout",
     "output_type": "stream",
     "text": [
      "model 2 build time 214.39 \n",
      " DecisionTreeClassificationModel: uid=DecisionTreeClassifier_c8fda7c359e5, depth=13, numNodes=47, numClasses=2, numFeatures=1\n",
      "======================================================================\n"
     ]
    },
    {
     "name": "stderr",
     "output_type": "stream",
     "text": [
      "                                                                                \r"
     ]
    },
    {
     "name": "stdout",
     "output_type": "stream",
     "text": [
      "=== size_mult=50;         n_part_req=2; n_part_act=2; df_count=12606850 ===\n",
      "\n"
     ]
    },
    {
     "name": "stderr",
     "output_type": "stream",
     "text": [
      "                                                                                \r"
     ]
    },
    {
     "name": "stdout",
     "output_type": "stream",
     "text": [
      "model 0 build time 47.6 \n",
      " DecisionTreeClassificationModel: uid=DecisionTreeClassifier_6061994d94e5, depth=13, numNodes=47, numClasses=2, numFeatures=1\n"
     ]
    },
    {
     "name": "stderr",
     "output_type": "stream",
     "text": [
      "                                                                                \r"
     ]
    },
    {
     "name": "stdout",
     "output_type": "stream",
     "text": [
      "model 1 build time 46.2 \n",
      " DecisionTreeClassificationModel: uid=DecisionTreeClassifier_ecbef55acb0f, depth=13, numNodes=47, numClasses=2, numFeatures=1\n"
     ]
    },
    {
     "name": "stderr",
     "output_type": "stream",
     "text": [
      "                                                                                \r"
     ]
    },
    {
     "name": "stdout",
     "output_type": "stream",
     "text": [
      "model 2 build time 51.33 \n",
      " DecisionTreeClassificationModel: uid=DecisionTreeClassifier_c6206a6aa425, depth=13, numNodes=47, numClasses=2, numFeatures=1\n",
      "======================================================================\n"
     ]
    },
    {
     "name": "stderr",
     "output_type": "stream",
     "text": [
      "                                                                                \r"
     ]
    },
    {
     "name": "stdout",
     "output_type": "stream",
     "text": [
      "=== size_mult=50;         n_part_req=4; n_part_act=4; df_count=12606850 ===\n",
      "\n"
     ]
    },
    {
     "name": "stderr",
     "output_type": "stream",
     "text": [
      "                                                                                \r"
     ]
    },
    {
     "name": "stdout",
     "output_type": "stream",
     "text": [
      "model 0 build time 24.98 \n",
      " DecisionTreeClassificationModel: uid=DecisionTreeClassifier_3c1e33d0ebd0, depth=13, numNodes=47, numClasses=2, numFeatures=1\n"
     ]
    },
    {
     "name": "stderr",
     "output_type": "stream",
     "text": [
      "                                                                                \r"
     ]
    },
    {
     "name": "stdout",
     "output_type": "stream",
     "text": [
      "model 1 build time 28.76 \n",
      " DecisionTreeClassificationModel: uid=DecisionTreeClassifier_3fce322f4c48, depth=13, numNodes=47, numClasses=2, numFeatures=1\n"
     ]
    },
    {
     "name": "stderr",
     "output_type": "stream",
     "text": [
      "                                                                                \r"
     ]
    },
    {
     "name": "stdout",
     "output_type": "stream",
     "text": [
      "model 2 build time 24.21 \n",
      " DecisionTreeClassificationModel: uid=DecisionTreeClassifier_bca1b6e86382, depth=13, numNodes=47, numClasses=2, numFeatures=1\n",
      "======================================================================\n"
     ]
    },
    {
     "name": "stderr",
     "output_type": "stream",
     "text": [
      "                                                                                \r"
     ]
    },
    {
     "name": "stdout",
     "output_type": "stream",
     "text": [
      "=== size_mult=50;         n_part_req=6; n_part_act=6; df_count=12606850 ===\n",
      "\n"
     ]
    },
    {
     "name": "stderr",
     "output_type": "stream",
     "text": [
      "                                                                                \r"
     ]
    },
    {
     "name": "stdout",
     "output_type": "stream",
     "text": [
      "model 0 build time 26.55 \n",
      " DecisionTreeClassificationModel: uid=DecisionTreeClassifier_6c73f0223172, depth=13, numNodes=47, numClasses=2, numFeatures=1\n"
     ]
    },
    {
     "name": "stderr",
     "output_type": "stream",
     "text": [
      "                                                                                \r"
     ]
    },
    {
     "name": "stdout",
     "output_type": "stream",
     "text": [
      "model 1 build time 27.72 \n",
      " DecisionTreeClassificationModel: uid=DecisionTreeClassifier_c9b8464a71f2, depth=13, numNodes=47, numClasses=2, numFeatures=1\n"
     ]
    },
    {
     "name": "stderr",
     "output_type": "stream",
     "text": [
      "                                                                                \r"
     ]
    },
    {
     "name": "stdout",
     "output_type": "stream",
     "text": [
      "model 2 build time 27.95 \n",
      " DecisionTreeClassificationModel: uid=DecisionTreeClassifier_86ad90767401, depth=13, numNodes=47, numClasses=2, numFeatures=1\n",
      "======================================================================\n"
     ]
    },
    {
     "name": "stderr",
     "output_type": "stream",
     "text": [
      "                                                                                \r"
     ]
    },
    {
     "name": "stdout",
     "output_type": "stream",
     "text": [
      "=== size_mult=50;         n_part_req=8; n_part_act=8; df_count=12606850 ===\n",
      "\n"
     ]
    },
    {
     "name": "stderr",
     "output_type": "stream",
     "text": [
      "                                                                                \r"
     ]
    },
    {
     "name": "stdout",
     "output_type": "stream",
     "text": [
      "model 0 build time 26.58 \n",
      " DecisionTreeClassificationModel: uid=DecisionTreeClassifier_0b756ab94c74, depth=13, numNodes=47, numClasses=2, numFeatures=1\n"
     ]
    },
    {
     "name": "stderr",
     "output_type": "stream",
     "text": [
      "                                                                                \r"
     ]
    },
    {
     "name": "stdout",
     "output_type": "stream",
     "text": [
      "model 1 build time 24.22 \n",
      " DecisionTreeClassificationModel: uid=DecisionTreeClassifier_d0996f2f8197, depth=13, numNodes=47, numClasses=2, numFeatures=1\n"
     ]
    },
    {
     "name": "stderr",
     "output_type": "stream",
     "text": [
      "                                                                                \r"
     ]
    },
    {
     "name": "stdout",
     "output_type": "stream",
     "text": [
      "model 2 build time 24.71 \n",
      " DecisionTreeClassificationModel: uid=DecisionTreeClassifier_b987fb8f4483, depth=13, numNodes=47, numClasses=2, numFeatures=1\n",
      "======================================================================\n"
     ]
    },
    {
     "name": "stderr",
     "output_type": "stream",
     "text": [
      "                                                                                \r"
     ]
    },
    {
     "name": "stdout",
     "output_type": "stream",
     "text": [
      "=== size_mult=50;         n_part_req=16; n_part_act=16; df_count=12606850 ===\n",
      "\n"
     ]
    },
    {
     "name": "stderr",
     "output_type": "stream",
     "text": [
      "                                                                                \r"
     ]
    },
    {
     "name": "stdout",
     "output_type": "stream",
     "text": [
      "model 0 build time 28.83 \n",
      " DecisionTreeClassificationModel: uid=DecisionTreeClassifier_f32a4c2c7438, depth=13, numNodes=47, numClasses=2, numFeatures=1\n"
     ]
    },
    {
     "name": "stderr",
     "output_type": "stream",
     "text": [
      "                                                                                \r"
     ]
    },
    {
     "name": "stdout",
     "output_type": "stream",
     "text": [
      "model 1 build time 28.19 \n",
      " DecisionTreeClassificationModel: uid=DecisionTreeClassifier_c546fa9d8242, depth=13, numNodes=47, numClasses=2, numFeatures=1\n"
     ]
    },
    {
     "name": "stderr",
     "output_type": "stream",
     "text": [
      "                                                                                \r"
     ]
    },
    {
     "name": "stdout",
     "output_type": "stream",
     "text": [
      "model 2 build time 28.88 \n",
      " DecisionTreeClassificationModel: uid=DecisionTreeClassifier_346e14e82005, depth=13, numNodes=47, numClasses=2, numFeatures=1\n",
      "======================================================================\n"
     ]
    },
    {
     "name": "stderr",
     "output_type": "stream",
     "text": [
      "                                                                                \r"
     ]
    },
    {
     "name": "stdout",
     "output_type": "stream",
     "text": [
      "=== size_mult=50;         n_part_req=24; n_part_act=24; df_count=12606850 ===\n",
      "\n"
     ]
    },
    {
     "name": "stderr",
     "output_type": "stream",
     "text": [
      "                                                                                \r"
     ]
    },
    {
     "name": "stdout",
     "output_type": "stream",
     "text": [
      "model 0 build time 30.88 \n",
      " DecisionTreeClassificationModel: uid=DecisionTreeClassifier_9fe0dd9fa96f, depth=13, numNodes=47, numClasses=2, numFeatures=1\n"
     ]
    },
    {
     "name": "stderr",
     "output_type": "stream",
     "text": [
      "                                                                                \r"
     ]
    },
    {
     "name": "stdout",
     "output_type": "stream",
     "text": [
      "model 1 build time 31.93 \n",
      " DecisionTreeClassificationModel: uid=DecisionTreeClassifier_3aede4b01492, depth=13, numNodes=47, numClasses=2, numFeatures=1\n"
     ]
    },
    {
     "name": "stderr",
     "output_type": "stream",
     "text": [
      "[Stage 20356:===================================>                 (16 + 8) / 24]\r"
     ]
    },
    {
     "name": "stdout",
     "output_type": "stream",
     "text": [
      "model 2 build time 32.91 \n",
      " DecisionTreeClassificationModel: uid=DecisionTreeClassifier_d4ab2ff1087c, depth=13, numNodes=47, numClasses=2, numFeatures=1\n"
     ]
    },
    {
     "name": "stderr",
     "output_type": "stream",
     "text": [
      "\r",
      "                                                                                \r"
     ]
    }
   ],
   "source": [
    "fn = '4cpu_by_6n__4m'\n",
    "size_mult = [1, 2, 5, 10, 15, 20, 30, 50]\n",
    "partitions = [0, 2, 4, 6, 8, 16, 24] \n",
    "# initial, 2**i incl n_nodes till n_cpu*n_nodes and n_cpu*n_nodes\n",
    "n_iter = 3\n",
    "\n",
    "print('d1-size', d1.count())\n",
    "n_part_base = d1.rdd.getNumPartitions()\n",
    "print('n-partitions initial', n_part_base, '\\n')\n",
    "\n",
    "rd1 = {}\n",
    "for k_size_mult in size_mult:\n",
    "    rd2 = {}\n",
    "    for n_part in partitions:\n",
    "        df = prepare_spark_data(n_part, k_size_mult)\n",
    "        df.cache()\n",
    "        print('======================================================================')\n",
    "        print(f'=== size_mult={k_size_mult}; \\\n",
    "        n_part_req={n_part}; n_part_act={df.rdd.getNumPartitions()}; df_count={df.count()} ===\\n')\n",
    "        times = [0 for i in range(n_iter)]\n",
    "        models = {}\n",
    "        for i in range(n_iter):\n",
    "            dt = DTC_spark(labelCol=\"TARGET\",\n",
    "                       featuresCol=\"DAYS_EMPLOYED_vect\",\n",
    "                       minInfoGain=0.0001,\n",
    "                       impurity='entropy',\n",
    "                       maxDepth=14, maxBins=2**14, # it differs from scikit learn - it means number of canidate split points\n",
    "                       #minInstancesPerNode = 1,\n",
    "                       #checkpointInterval = 10\n",
    "                       )\n",
    "           \n",
    "            t0 = ttt()\n",
    "            model = dt.fit(df)\n",
    "            t1 = ttt()\n",
    "            times[i] = t1-t0\n",
    "            models[i] = model \n",
    "            print('model', i, 'build time', round(times[i],2), '\\n', model)\n",
    "        rd2[n_part] = (models, times)\n",
    "    rd1[k_size_mult] = rd2\n",
    "\n",
    "result = rd1  "
   ]
  },
  {
   "cell_type": "markdown",
   "id": "bb6b1aef",
   "metadata": {},
   "source": [
    "# Results"
   ]
  },
  {
   "cell_type": "code",
   "execution_count": 7,
   "id": "91c2c809",
   "metadata": {
    "ExecuteTime": {
     "end_time": "2021-11-23T08:05:26.238314Z",
     "start_time": "2021-11-23T08:05:25.242689Z"
    },
    "deletable": false,
    "editable": false,
    "run_control": {
     "frozen": true
    }
   },
   "outputs": [
    {
     "name": "stdout",
     "output_type": "stream",
     "text": [
      "0 ['DecisionTreeClassificationModel:', 'uid=DecisionTreeClassifier_5d1823802f8f,', 'depth=14,', 'numNodes=123,', 'numClasses=2,', 'numFeatures=1']\n",
      "1 ['DecisionTreeClassificationModel:', 'uid=DecisionTreeClassifier_158adef97fe0,', 'depth=14,', 'numNodes=123,', 'numClasses=2,', 'numFeatures=1']\n",
      "2 ['DecisionTreeClassificationModel:', 'uid=DecisionTreeClassifier_4723484652af,', 'depth=14,', 'numNodes=123,', 'numClasses=2,', 'numFeatures=1']\n",
      "0 ['DecisionTreeClassificationModel:', 'uid=DecisionTreeClassifier_e21e7f3b1495,', 'depth=14,', 'numNodes=123,', 'numClasses=2,', 'numFeatures=1']\n",
      "1 ['DecisionTreeClassificationModel:', 'uid=DecisionTreeClassifier_13872054975f,', 'depth=14,', 'numNodes=123,', 'numClasses=2,', 'numFeatures=1']\n",
      "2 ['DecisionTreeClassificationModel:', 'uid=DecisionTreeClassifier_3d6639470fe1,', 'depth=14,', 'numNodes=123,', 'numClasses=2,', 'numFeatures=1']\n",
      "0 ['DecisionTreeClassificationModel:', 'uid=DecisionTreeClassifier_96b9486294a7,', 'depth=14,', 'numNodes=123,', 'numClasses=2,', 'numFeatures=1']\n",
      "1 ['DecisionTreeClassificationModel:', 'uid=DecisionTreeClassifier_aa01a4e7e44d,', 'depth=14,', 'numNodes=123,', 'numClasses=2,', 'numFeatures=1']\n",
      "2 ['DecisionTreeClassificationModel:', 'uid=DecisionTreeClassifier_0ebaaccf6fca,', 'depth=14,', 'numNodes=123,', 'numClasses=2,', 'numFeatures=1']\n",
      "0 ['DecisionTreeClassificationModel:', 'uid=DecisionTreeClassifier_3e7a598034bd,', 'depth=14,', 'numNodes=123,', 'numClasses=2,', 'numFeatures=1']\n",
      "1 ['DecisionTreeClassificationModel:', 'uid=DecisionTreeClassifier_6efae50d3c69,', 'depth=14,', 'numNodes=123,', 'numClasses=2,', 'numFeatures=1']\n",
      "2 ['DecisionTreeClassificationModel:', 'uid=DecisionTreeClassifier_e28c769f4177,', 'depth=14,', 'numNodes=123,', 'numClasses=2,', 'numFeatures=1']\n",
      "0 ['DecisionTreeClassificationModel:', 'uid=DecisionTreeClassifier_51dcefce62b4,', 'depth=14,', 'numNodes=123,', 'numClasses=2,', 'numFeatures=1']\n",
      "1 ['DecisionTreeClassificationModel:', 'uid=DecisionTreeClassifier_ac749450cce2,', 'depth=14,', 'numNodes=123,', 'numClasses=2,', 'numFeatures=1']\n",
      "2 ['DecisionTreeClassificationModel:', 'uid=DecisionTreeClassifier_788f78ad9918,', 'depth=14,', 'numNodes=123,', 'numClasses=2,', 'numFeatures=1']\n",
      "0 ['DecisionTreeClassificationModel:', 'uid=DecisionTreeClassifier_aef97809cb29,', 'depth=14,', 'numNodes=123,', 'numClasses=2,', 'numFeatures=1']\n",
      "1 ['DecisionTreeClassificationModel:', 'uid=DecisionTreeClassifier_61037083d803,', 'depth=14,', 'numNodes=123,', 'numClasses=2,', 'numFeatures=1']\n",
      "2 ['DecisionTreeClassificationModel:', 'uid=DecisionTreeClassifier_0a4dddd70d3b,', 'depth=14,', 'numNodes=123,', 'numClasses=2,', 'numFeatures=1']\n",
      "0 ['DecisionTreeClassificationModel:', 'uid=DecisionTreeClassifier_7bc2ffe02771,', 'depth=14,', 'numNodes=123,', 'numClasses=2,', 'numFeatures=1']\n",
      "1 ['DecisionTreeClassificationModel:', 'uid=DecisionTreeClassifier_30022cf2dc49,', 'depth=14,', 'numNodes=123,', 'numClasses=2,', 'numFeatures=1']\n",
      "2 ['DecisionTreeClassificationModel:', 'uid=DecisionTreeClassifier_41e6387eb38d,', 'depth=14,', 'numNodes=123,', 'numClasses=2,', 'numFeatures=1']\n",
      "0 ['DecisionTreeClassificationModel:', 'uid=DecisionTreeClassifier_0c648a8b1ea5,', 'depth=14,', 'numNodes=151,', 'numClasses=2,', 'numFeatures=1']\n",
      "1 ['DecisionTreeClassificationModel:', 'uid=DecisionTreeClassifier_a1f4e4c2a7e3,', 'depth=14,', 'numNodes=151,', 'numClasses=2,', 'numFeatures=1']\n",
      "2 ['DecisionTreeClassificationModel:', 'uid=DecisionTreeClassifier_b3ed26cb3275,', 'depth=14,', 'numNodes=151,', 'numClasses=2,', 'numFeatures=1']\n",
      "0 ['DecisionTreeClassificationModel:', 'uid=DecisionTreeClassifier_a5f85088de3b,', 'depth=14,', 'numNodes=151,', 'numClasses=2,', 'numFeatures=1']\n",
      "1 ['DecisionTreeClassificationModel:', 'uid=DecisionTreeClassifier_feb949901f41,', 'depth=14,', 'numNodes=151,', 'numClasses=2,', 'numFeatures=1']\n",
      "2 ['DecisionTreeClassificationModel:', 'uid=DecisionTreeClassifier_c9ab9c3375a8,', 'depth=14,', 'numNodes=151,', 'numClasses=2,', 'numFeatures=1']\n",
      "0 ['DecisionTreeClassificationModel:', 'uid=DecisionTreeClassifier_f88eb2d47bb3,', 'depth=14,', 'numNodes=151,', 'numClasses=2,', 'numFeatures=1']\n",
      "1 ['DecisionTreeClassificationModel:', 'uid=DecisionTreeClassifier_d8e5eaaae95e,', 'depth=14,', 'numNodes=151,', 'numClasses=2,', 'numFeatures=1']\n",
      "2 ['DecisionTreeClassificationModel:', 'uid=DecisionTreeClassifier_ec802a2fe38c,', 'depth=14,', 'numNodes=151,', 'numClasses=2,', 'numFeatures=1']\n",
      "0 ['DecisionTreeClassificationModel:', 'uid=DecisionTreeClassifier_ca7cbc81ff4d,', 'depth=14,', 'numNodes=151,', 'numClasses=2,', 'numFeatures=1']\n",
      "1 ['DecisionTreeClassificationModel:', 'uid=DecisionTreeClassifier_d58a6edc47d5,', 'depth=14,', 'numNodes=151,', 'numClasses=2,', 'numFeatures=1']\n",
      "2 ['DecisionTreeClassificationModel:', 'uid=DecisionTreeClassifier_11e74ccee84c,', 'depth=14,', 'numNodes=151,', 'numClasses=2,', 'numFeatures=1']\n",
      "0 ['DecisionTreeClassificationModel:', 'uid=DecisionTreeClassifier_28f4be3fffb0,', 'depth=14,', 'numNodes=151,', 'numClasses=2,', 'numFeatures=1']\n",
      "1 ['DecisionTreeClassificationModel:', 'uid=DecisionTreeClassifier_fb9583a018c5,', 'depth=14,', 'numNodes=151,', 'numClasses=2,', 'numFeatures=1']\n",
      "2 ['DecisionTreeClassificationModel:', 'uid=DecisionTreeClassifier_1a72cf282d61,', 'depth=14,', 'numNodes=151,', 'numClasses=2,', 'numFeatures=1']\n",
      "0 ['DecisionTreeClassificationModel:', 'uid=DecisionTreeClassifier_6293073a4606,', 'depth=14,', 'numNodes=151,', 'numClasses=2,', 'numFeatures=1']\n",
      "1 ['DecisionTreeClassificationModel:', 'uid=DecisionTreeClassifier_39ab698ba9ff,', 'depth=14,', 'numNodes=151,', 'numClasses=2,', 'numFeatures=1']\n",
      "2 ['DecisionTreeClassificationModel:', 'uid=DecisionTreeClassifier_87bb18b19851,', 'depth=14,', 'numNodes=151,', 'numClasses=2,', 'numFeatures=1']\n",
      "0 ['DecisionTreeClassificationModel:', 'uid=DecisionTreeClassifier_8566c96529cd,', 'depth=14,', 'numNodes=151,', 'numClasses=2,', 'numFeatures=1']\n",
      "1 ['DecisionTreeClassificationModel:', 'uid=DecisionTreeClassifier_12e25b92499d,', 'depth=14,', 'numNodes=151,', 'numClasses=2,', 'numFeatures=1']\n",
      "2 ['DecisionTreeClassificationModel:', 'uid=DecisionTreeClassifier_6e73d70eec0c,', 'depth=14,', 'numNodes=151,', 'numClasses=2,', 'numFeatures=1']\n",
      "0 ['DecisionTreeClassificationModel:', 'uid=DecisionTreeClassifier_bb5f26c1dc3a,', 'depth=13,', 'numNodes=67,', 'numClasses=2,', 'numFeatures=1']\n",
      "1 ['DecisionTreeClassificationModel:', 'uid=DecisionTreeClassifier_b4d2f09f40bc,', 'depth=13,', 'numNodes=67,', 'numClasses=2,', 'numFeatures=1']\n",
      "2 ['DecisionTreeClassificationModel:', 'uid=DecisionTreeClassifier_e2192f2d7200,', 'depth=13,', 'numNodes=67,', 'numClasses=2,', 'numFeatures=1']\n",
      "0 ['DecisionTreeClassificationModel:', 'uid=DecisionTreeClassifier_56efb18276d0,', 'depth=13,', 'numNodes=67,', 'numClasses=2,', 'numFeatures=1']\n",
      "1 ['DecisionTreeClassificationModel:', 'uid=DecisionTreeClassifier_1952cb801d2e,', 'depth=13,', 'numNodes=67,', 'numClasses=2,', 'numFeatures=1']\n",
      "2 ['DecisionTreeClassificationModel:', 'uid=DecisionTreeClassifier_e03a51fdc08c,', 'depth=13,', 'numNodes=67,', 'numClasses=2,', 'numFeatures=1']\n",
      "0 ['DecisionTreeClassificationModel:', 'uid=DecisionTreeClassifier_8ed849004745,', 'depth=13,', 'numNodes=67,', 'numClasses=2,', 'numFeatures=1']\n",
      "1 ['DecisionTreeClassificationModel:', 'uid=DecisionTreeClassifier_3a02c3e8f05d,', 'depth=13,', 'numNodes=67,', 'numClasses=2,', 'numFeatures=1']\n",
      "2 ['DecisionTreeClassificationModel:', 'uid=DecisionTreeClassifier_f17863b4bc4f,', 'depth=13,', 'numNodes=67,', 'numClasses=2,', 'numFeatures=1']\n",
      "0 ['DecisionTreeClassificationModel:', 'uid=DecisionTreeClassifier_516e5d184a85,', 'depth=13,', 'numNodes=67,', 'numClasses=2,', 'numFeatures=1']\n",
      "1 ['DecisionTreeClassificationModel:', 'uid=DecisionTreeClassifier_4d333f3cb5af,', 'depth=13,', 'numNodes=67,', 'numClasses=2,', 'numFeatures=1']\n",
      "2 ['DecisionTreeClassificationModel:', 'uid=DecisionTreeClassifier_16d4c4d0c576,', 'depth=13,', 'numNodes=67,', 'numClasses=2,', 'numFeatures=1']\n",
      "0 ['DecisionTreeClassificationModel:', 'uid=DecisionTreeClassifier_9ee675cd3331,', 'depth=13,', 'numNodes=67,', 'numClasses=2,', 'numFeatures=1']\n",
      "1 ['DecisionTreeClassificationModel:', 'uid=DecisionTreeClassifier_f4fe748e8f9f,', 'depth=13,', 'numNodes=67,', 'numClasses=2,', 'numFeatures=1']\n",
      "2 ['DecisionTreeClassificationModel:', 'uid=DecisionTreeClassifier_26644266ae6b,', 'depth=13,', 'numNodes=67,', 'numClasses=2,', 'numFeatures=1']\n",
      "0 ['DecisionTreeClassificationModel:', 'uid=DecisionTreeClassifier_048fd5602380,', 'depth=13,', 'numNodes=67,', 'numClasses=2,', 'numFeatures=1']\n",
      "1 ['DecisionTreeClassificationModel:', 'uid=DecisionTreeClassifier_afd1145326bb,', 'depth=13,', 'numNodes=67,', 'numClasses=2,', 'numFeatures=1']\n",
      "2 ['DecisionTreeClassificationModel:', 'uid=DecisionTreeClassifier_7b849ad9c356,', 'depth=13,', 'numNodes=67,', 'numClasses=2,', 'numFeatures=1']\n",
      "0 ['DecisionTreeClassificationModel:', 'uid=DecisionTreeClassifier_4818a1de1f7d,', 'depth=13,', 'numNodes=67,', 'numClasses=2,', 'numFeatures=1']\n",
      "1 ['DecisionTreeClassificationModel:', 'uid=DecisionTreeClassifier_1b53f355b238,', 'depth=13,', 'numNodes=67,', 'numClasses=2,', 'numFeatures=1']\n",
      "2 ['DecisionTreeClassificationModel:', 'uid=DecisionTreeClassifier_315c7e817f0f,', 'depth=13,', 'numNodes=67,', 'numClasses=2,', 'numFeatures=1']\n",
      "0 ['DecisionTreeClassificationModel:', 'uid=DecisionTreeClassifier_d7ee8c05d2df,', 'depth=13,', 'numNodes=65,', 'numClasses=2,', 'numFeatures=1']\n",
      "1 ['DecisionTreeClassificationModel:', 'uid=DecisionTreeClassifier_2e3fefe97478,', 'depth=13,', 'numNodes=65,', 'numClasses=2,', 'numFeatures=1']\n",
      "2 ['DecisionTreeClassificationModel:', 'uid=DecisionTreeClassifier_1c21242dc834,', 'depth=13,', 'numNodes=65,', 'numClasses=2,', 'numFeatures=1']\n",
      "0 ['DecisionTreeClassificationModel:', 'uid=DecisionTreeClassifier_64bbd53ecdeb,', 'depth=13,', 'numNodes=65,', 'numClasses=2,', 'numFeatures=1']\n",
      "1 ['DecisionTreeClassificationModel:', 'uid=DecisionTreeClassifier_f4ab65f631a1,', 'depth=13,', 'numNodes=65,', 'numClasses=2,', 'numFeatures=1']\n",
      "2 ['DecisionTreeClassificationModel:', 'uid=DecisionTreeClassifier_c4308c727ad4,', 'depth=13,', 'numNodes=65,', 'numClasses=2,', 'numFeatures=1']\n",
      "0 ['DecisionTreeClassificationModel:', 'uid=DecisionTreeClassifier_6aa9dbb85743,', 'depth=13,', 'numNodes=65,', 'numClasses=2,', 'numFeatures=1']\n",
      "1 ['DecisionTreeClassificationModel:', 'uid=DecisionTreeClassifier_7597b94e60a7,', 'depth=13,', 'numNodes=65,', 'numClasses=2,', 'numFeatures=1']\n",
      "2 ['DecisionTreeClassificationModel:', 'uid=DecisionTreeClassifier_fa87d718693a,', 'depth=13,', 'numNodes=65,', 'numClasses=2,', 'numFeatures=1']\n",
      "0 ['DecisionTreeClassificationModel:', 'uid=DecisionTreeClassifier_522992ae613d,', 'depth=13,', 'numNodes=65,', 'numClasses=2,', 'numFeatures=1']\n",
      "1 ['DecisionTreeClassificationModel:', 'uid=DecisionTreeClassifier_52ce886ad9be,', 'depth=13,', 'numNodes=65,', 'numClasses=2,', 'numFeatures=1']\n",
      "2 ['DecisionTreeClassificationModel:', 'uid=DecisionTreeClassifier_f1ea6fa9703a,', 'depth=13,', 'numNodes=65,', 'numClasses=2,', 'numFeatures=1']\n",
      "0 ['DecisionTreeClassificationModel:', 'uid=DecisionTreeClassifier_4ec13c8556ea,', 'depth=13,', 'numNodes=65,', 'numClasses=2,', 'numFeatures=1']\n",
      "1 ['DecisionTreeClassificationModel:', 'uid=DecisionTreeClassifier_e71dc84913cc,', 'depth=13,', 'numNodes=65,', 'numClasses=2,', 'numFeatures=1']\n",
      "2 ['DecisionTreeClassificationModel:', 'uid=DecisionTreeClassifier_2ece1335cb6f,', 'depth=13,', 'numNodes=65,', 'numClasses=2,', 'numFeatures=1']\n",
      "0 ['DecisionTreeClassificationModel:', 'uid=DecisionTreeClassifier_101aadcb28b0,', 'depth=13,', 'numNodes=65,', 'numClasses=2,', 'numFeatures=1']\n",
      "1 ['DecisionTreeClassificationModel:', 'uid=DecisionTreeClassifier_aa7aa3467735,', 'depth=13,', 'numNodes=65,', 'numClasses=2,', 'numFeatures=1']\n",
      "2 ['DecisionTreeClassificationModel:', 'uid=DecisionTreeClassifier_2d9669c9be47,', 'depth=13,', 'numNodes=65,', 'numClasses=2,', 'numFeatures=1']\n",
      "0 ['DecisionTreeClassificationModel:', 'uid=DecisionTreeClassifier_06fb4d37acd2,', 'depth=13,', 'numNodes=65,', 'numClasses=2,', 'numFeatures=1']\n",
      "1 ['DecisionTreeClassificationModel:', 'uid=DecisionTreeClassifier_9875359e2770,', 'depth=13,', 'numNodes=65,', 'numClasses=2,', 'numFeatures=1']\n",
      "2 ['DecisionTreeClassificationModel:', 'uid=DecisionTreeClassifier_6feacebde2cf,', 'depth=13,', 'numNodes=65,', 'numClasses=2,', 'numFeatures=1']\n",
      "0 ['DecisionTreeClassificationModel:', 'uid=DecisionTreeClassifier_478edb2a7247,', 'depth=10,', 'numNodes=35,', 'numClasses=2,', 'numFeatures=1']\n",
      "1 ['DecisionTreeClassificationModel:', 'uid=DecisionTreeClassifier_bfed00935357,', 'depth=10,', 'numNodes=35,', 'numClasses=2,', 'numFeatures=1']\n",
      "2 ['DecisionTreeClassificationModel:', 'uid=DecisionTreeClassifier_0369f639a339,', 'depth=10,', 'numNodes=35,', 'numClasses=2,', 'numFeatures=1']\n",
      "0 ['DecisionTreeClassificationModel:', 'uid=DecisionTreeClassifier_966cbb4cd087,', 'depth=10,', 'numNodes=35,', 'numClasses=2,', 'numFeatures=1']\n",
      "1 ['DecisionTreeClassificationModel:', 'uid=DecisionTreeClassifier_0ff5665ed51a,', 'depth=10,', 'numNodes=35,', 'numClasses=2,', 'numFeatures=1']\n",
      "2 ['DecisionTreeClassificationModel:', 'uid=DecisionTreeClassifier_1fddd016d7fb,', 'depth=10,', 'numNodes=35,', 'numClasses=2,', 'numFeatures=1']\n",
      "0 ['DecisionTreeClassificationModel:', 'uid=DecisionTreeClassifier_f4c9421d5430,', 'depth=10,', 'numNodes=35,', 'numClasses=2,', 'numFeatures=1']\n",
      "1 ['DecisionTreeClassificationModel:', 'uid=DecisionTreeClassifier_4222217ebba3,', 'depth=10,', 'numNodes=35,', 'numClasses=2,', 'numFeatures=1']\n",
      "2 ['DecisionTreeClassificationModel:', 'uid=DecisionTreeClassifier_fea78ab9a1ef,', 'depth=10,', 'numNodes=35,', 'numClasses=2,', 'numFeatures=1']\n",
      "0 ['DecisionTreeClassificationModel:', 'uid=DecisionTreeClassifier_08acb2acfe27,', 'depth=10,', 'numNodes=35,', 'numClasses=2,', 'numFeatures=1']\n",
      "1 ['DecisionTreeClassificationModel:', 'uid=DecisionTreeClassifier_d3941c7330c5,', 'depth=10,', 'numNodes=35,', 'numClasses=2,', 'numFeatures=1']\n",
      "2 ['DecisionTreeClassificationModel:', 'uid=DecisionTreeClassifier_892e7bec4417,', 'depth=10,', 'numNodes=35,', 'numClasses=2,', 'numFeatures=1']\n",
      "0 ['DecisionTreeClassificationModel:', 'uid=DecisionTreeClassifier_b9cc28dfaa95,', 'depth=10,', 'numNodes=35,', 'numClasses=2,', 'numFeatures=1']\n",
      "1 ['DecisionTreeClassificationModel:', 'uid=DecisionTreeClassifier_48b92580d74e,', 'depth=10,', 'numNodes=35,', 'numClasses=2,', 'numFeatures=1']\n",
      "2 ['DecisionTreeClassificationModel:', 'uid=DecisionTreeClassifier_70b41f1dfebb,', 'depth=10,', 'numNodes=35,', 'numClasses=2,', 'numFeatures=1']\n",
      "0 ['DecisionTreeClassificationModel:', 'uid=DecisionTreeClassifier_bdc4ec6c4680,', 'depth=10,', 'numNodes=35,', 'numClasses=2,', 'numFeatures=1']\n",
      "1 ['DecisionTreeClassificationModel:', 'uid=DecisionTreeClassifier_761e5bf5a66c,', 'depth=10,', 'numNodes=35,', 'numClasses=2,', 'numFeatures=1']\n",
      "2 ['DecisionTreeClassificationModel:', 'uid=DecisionTreeClassifier_538d4f1551a8,', 'depth=10,', 'numNodes=35,', 'numClasses=2,', 'numFeatures=1']\n",
      "0 ['DecisionTreeClassificationModel:', 'uid=DecisionTreeClassifier_c77e53b78839,', 'depth=10,', 'numNodes=35,', 'numClasses=2,', 'numFeatures=1']\n",
      "1 ['DecisionTreeClassificationModel:', 'uid=DecisionTreeClassifier_a744678eadd1,', 'depth=10,', 'numNodes=35,', 'numClasses=2,', 'numFeatures=1']\n",
      "2 ['DecisionTreeClassificationModel:', 'uid=DecisionTreeClassifier_6529a8113495,', 'depth=10,', 'numNodes=35,', 'numClasses=2,', 'numFeatures=1']\n",
      "0 ['DecisionTreeClassificationModel:', 'uid=DecisionTreeClassifier_65ee52a156c8,', 'depth=14,', 'numNodes=57,', 'numClasses=2,', 'numFeatures=1']\n",
      "1 ['DecisionTreeClassificationModel:', 'uid=DecisionTreeClassifier_177db8c0c1ce,', 'depth=14,', 'numNodes=57,', 'numClasses=2,', 'numFeatures=1']\n",
      "2 ['DecisionTreeClassificationModel:', 'uid=DecisionTreeClassifier_61ebb82a742c,', 'depth=14,', 'numNodes=57,', 'numClasses=2,', 'numFeatures=1']\n",
      "0 ['DecisionTreeClassificationModel:', 'uid=DecisionTreeClassifier_dc5cb3e5710b,', 'depth=14,', 'numNodes=57,', 'numClasses=2,', 'numFeatures=1']\n",
      "1 ['DecisionTreeClassificationModel:', 'uid=DecisionTreeClassifier_e49f1a8473b3,', 'depth=14,', 'numNodes=57,', 'numClasses=2,', 'numFeatures=1']\n",
      "2 ['DecisionTreeClassificationModel:', 'uid=DecisionTreeClassifier_8400d537f0a1,', 'depth=14,', 'numNodes=57,', 'numClasses=2,', 'numFeatures=1']\n",
      "0 ['DecisionTreeClassificationModel:', 'uid=DecisionTreeClassifier_734830a011fe,', 'depth=14,', 'numNodes=57,', 'numClasses=2,', 'numFeatures=1']\n",
      "1 ['DecisionTreeClassificationModel:', 'uid=DecisionTreeClassifier_e0637b65a952,', 'depth=14,', 'numNodes=57,', 'numClasses=2,', 'numFeatures=1']\n",
      "2 ['DecisionTreeClassificationModel:', 'uid=DecisionTreeClassifier_337830fe511b,', 'depth=14,', 'numNodes=57,', 'numClasses=2,', 'numFeatures=1']\n",
      "0 ['DecisionTreeClassificationModel:', 'uid=DecisionTreeClassifier_75cbd1668743,', 'depth=14,', 'numNodes=57,', 'numClasses=2,', 'numFeatures=1']\n",
      "1 ['DecisionTreeClassificationModel:', 'uid=DecisionTreeClassifier_1a5a8fd6ec48,', 'depth=14,', 'numNodes=57,', 'numClasses=2,', 'numFeatures=1']\n",
      "2 ['DecisionTreeClassificationModel:', 'uid=DecisionTreeClassifier_d41d4be066a7,', 'depth=14,', 'numNodes=57,', 'numClasses=2,', 'numFeatures=1']\n",
      "0 ['DecisionTreeClassificationModel:', 'uid=DecisionTreeClassifier_372cdb2ad98c,', 'depth=14,', 'numNodes=57,', 'numClasses=2,', 'numFeatures=1']\n",
      "1 ['DecisionTreeClassificationModel:', 'uid=DecisionTreeClassifier_73b37f493417,', 'depth=14,', 'numNodes=57,', 'numClasses=2,', 'numFeatures=1']\n",
      "2 ['DecisionTreeClassificationModel:', 'uid=DecisionTreeClassifier_ef1ceb37ca0e,', 'depth=14,', 'numNodes=57,', 'numClasses=2,', 'numFeatures=1']\n",
      "0 ['DecisionTreeClassificationModel:', 'uid=DecisionTreeClassifier_62754d90535c,', 'depth=14,', 'numNodes=57,', 'numClasses=2,', 'numFeatures=1']\n",
      "1 ['DecisionTreeClassificationModel:', 'uid=DecisionTreeClassifier_faceeaea92de,', 'depth=14,', 'numNodes=57,', 'numClasses=2,', 'numFeatures=1']\n",
      "2 ['DecisionTreeClassificationModel:', 'uid=DecisionTreeClassifier_d4be9eaad29f,', 'depth=14,', 'numNodes=57,', 'numClasses=2,', 'numFeatures=1']\n",
      "0 ['DecisionTreeClassificationModel:', 'uid=DecisionTreeClassifier_927f7418ccc0,', 'depth=14,', 'numNodes=57,', 'numClasses=2,', 'numFeatures=1']\n",
      "1 ['DecisionTreeClassificationModel:', 'uid=DecisionTreeClassifier_5f36220f7f81,', 'depth=14,', 'numNodes=57,', 'numClasses=2,', 'numFeatures=1']\n",
      "2 ['DecisionTreeClassificationModel:', 'uid=DecisionTreeClassifier_1fb8273c0764,', 'depth=14,', 'numNodes=57,', 'numClasses=2,', 'numFeatures=1']\n",
      "0 ['DecisionTreeClassificationModel:', 'uid=DecisionTreeClassifier_b4209e444e18,', 'depth=11,', 'numNodes=41,', 'numClasses=2,', 'numFeatures=1']\n",
      "1 ['DecisionTreeClassificationModel:', 'uid=DecisionTreeClassifier_d04c974fee94,', 'depth=11,', 'numNodes=41,', 'numClasses=2,', 'numFeatures=1']\n",
      "2 ['DecisionTreeClassificationModel:', 'uid=DecisionTreeClassifier_74df4e95fc86,', 'depth=11,', 'numNodes=41,', 'numClasses=2,', 'numFeatures=1']\n",
      "0 ['DecisionTreeClassificationModel:', 'uid=DecisionTreeClassifier_7e7bbbfcd9d7,', 'depth=11,', 'numNodes=41,', 'numClasses=2,', 'numFeatures=1']\n",
      "1 ['DecisionTreeClassificationModel:', 'uid=DecisionTreeClassifier_c373809f365f,', 'depth=11,', 'numNodes=41,', 'numClasses=2,', 'numFeatures=1']\n",
      "2 ['DecisionTreeClassificationModel:', 'uid=DecisionTreeClassifier_2454711ee9a4,', 'depth=11,', 'numNodes=41,', 'numClasses=2,', 'numFeatures=1']\n",
      "0 ['DecisionTreeClassificationModel:', 'uid=DecisionTreeClassifier_56e444a545e9,', 'depth=11,', 'numNodes=41,', 'numClasses=2,', 'numFeatures=1']\n",
      "1 ['DecisionTreeClassificationModel:', 'uid=DecisionTreeClassifier_d9f88fe2409d,', 'depth=11,', 'numNodes=41,', 'numClasses=2,', 'numFeatures=1']\n",
      "2 ['DecisionTreeClassificationModel:', 'uid=DecisionTreeClassifier_e8149e7e984d,', 'depth=11,', 'numNodes=41,', 'numClasses=2,', 'numFeatures=1']\n",
      "0 ['DecisionTreeClassificationModel:', 'uid=DecisionTreeClassifier_8a780ec4b533,', 'depth=11,', 'numNodes=41,', 'numClasses=2,', 'numFeatures=1']\n",
      "1 ['DecisionTreeClassificationModel:', 'uid=DecisionTreeClassifier_c0242cb16d94,', 'depth=11,', 'numNodes=41,', 'numClasses=2,', 'numFeatures=1']\n",
      "2 ['DecisionTreeClassificationModel:', 'uid=DecisionTreeClassifier_ed2db0f6ab70,', 'depth=11,', 'numNodes=41,', 'numClasses=2,', 'numFeatures=1']\n",
      "0 ['DecisionTreeClassificationModel:', 'uid=DecisionTreeClassifier_7a64dc9b35df,', 'depth=11,', 'numNodes=41,', 'numClasses=2,', 'numFeatures=1']\n",
      "1 ['DecisionTreeClassificationModel:', 'uid=DecisionTreeClassifier_ed1a4a7e3f48,', 'depth=11,', 'numNodes=41,', 'numClasses=2,', 'numFeatures=1']\n",
      "2 ['DecisionTreeClassificationModel:', 'uid=DecisionTreeClassifier_47e5afefaa6e,', 'depth=11,', 'numNodes=41,', 'numClasses=2,', 'numFeatures=1']\n",
      "0 ['DecisionTreeClassificationModel:', 'uid=DecisionTreeClassifier_0de5ac80e438,', 'depth=11,', 'numNodes=41,', 'numClasses=2,', 'numFeatures=1']\n",
      "1 ['DecisionTreeClassificationModel:', 'uid=DecisionTreeClassifier_0e454e6441fe,', 'depth=11,', 'numNodes=41,', 'numClasses=2,', 'numFeatures=1']\n",
      "2 ['DecisionTreeClassificationModel:', 'uid=DecisionTreeClassifier_e2af1631596c,', 'depth=11,', 'numNodes=41,', 'numClasses=2,', 'numFeatures=1']\n",
      "0 ['DecisionTreeClassificationModel:', 'uid=DecisionTreeClassifier_12dcd42380cd,', 'depth=11,', 'numNodes=41,', 'numClasses=2,', 'numFeatures=1']\n",
      "1 ['DecisionTreeClassificationModel:', 'uid=DecisionTreeClassifier_9019849c20e3,', 'depth=11,', 'numNodes=41,', 'numClasses=2,', 'numFeatures=1']\n",
      "2 ['DecisionTreeClassificationModel:', 'uid=DecisionTreeClassifier_fb0cf2dae2d9,', 'depth=11,', 'numNodes=41,', 'numClasses=2,', 'numFeatures=1']\n",
      "0 ['DecisionTreeClassificationModel:', 'uid=DecisionTreeClassifier_1568b159a9e2,', 'depth=13,', 'numNodes=47,', 'numClasses=2,', 'numFeatures=1']\n",
      "1 ['DecisionTreeClassificationModel:', 'uid=DecisionTreeClassifier_1662241a4034,', 'depth=13,', 'numNodes=47,', 'numClasses=2,', 'numFeatures=1']\n",
      "2 ['DecisionTreeClassificationModel:', 'uid=DecisionTreeClassifier_c8fda7c359e5,', 'depth=13,', 'numNodes=47,', 'numClasses=2,', 'numFeatures=1']\n",
      "0 ['DecisionTreeClassificationModel:', 'uid=DecisionTreeClassifier_6061994d94e5,', 'depth=13,', 'numNodes=47,', 'numClasses=2,', 'numFeatures=1']\n",
      "1 ['DecisionTreeClassificationModel:', 'uid=DecisionTreeClassifier_ecbef55acb0f,', 'depth=13,', 'numNodes=47,', 'numClasses=2,', 'numFeatures=1']\n",
      "2 ['DecisionTreeClassificationModel:', 'uid=DecisionTreeClassifier_c6206a6aa425,', 'depth=13,', 'numNodes=47,', 'numClasses=2,', 'numFeatures=1']\n",
      "0 ['DecisionTreeClassificationModel:', 'uid=DecisionTreeClassifier_3c1e33d0ebd0,', 'depth=13,', 'numNodes=47,', 'numClasses=2,', 'numFeatures=1']\n",
      "1 ['DecisionTreeClassificationModel:', 'uid=DecisionTreeClassifier_3fce322f4c48,', 'depth=13,', 'numNodes=47,', 'numClasses=2,', 'numFeatures=1']\n",
      "2 ['DecisionTreeClassificationModel:', 'uid=DecisionTreeClassifier_bca1b6e86382,', 'depth=13,', 'numNodes=47,', 'numClasses=2,', 'numFeatures=1']\n",
      "0 ['DecisionTreeClassificationModel:', 'uid=DecisionTreeClassifier_6c73f0223172,', 'depth=13,', 'numNodes=47,', 'numClasses=2,', 'numFeatures=1']\n",
      "1 ['DecisionTreeClassificationModel:', 'uid=DecisionTreeClassifier_c9b8464a71f2,', 'depth=13,', 'numNodes=47,', 'numClasses=2,', 'numFeatures=1']\n",
      "2 ['DecisionTreeClassificationModel:', 'uid=DecisionTreeClassifier_86ad90767401,', 'depth=13,', 'numNodes=47,', 'numClasses=2,', 'numFeatures=1']\n",
      "0 ['DecisionTreeClassificationModel:', 'uid=DecisionTreeClassifier_0b756ab94c74,', 'depth=13,', 'numNodes=47,', 'numClasses=2,', 'numFeatures=1']\n",
      "1 ['DecisionTreeClassificationModel:', 'uid=DecisionTreeClassifier_d0996f2f8197,', 'depth=13,', 'numNodes=47,', 'numClasses=2,', 'numFeatures=1']\n",
      "2 ['DecisionTreeClassificationModel:', 'uid=DecisionTreeClassifier_b987fb8f4483,', 'depth=13,', 'numNodes=47,', 'numClasses=2,', 'numFeatures=1']\n",
      "0 ['DecisionTreeClassificationModel:', 'uid=DecisionTreeClassifier_f32a4c2c7438,', 'depth=13,', 'numNodes=47,', 'numClasses=2,', 'numFeatures=1']\n",
      "1 ['DecisionTreeClassificationModel:', 'uid=DecisionTreeClassifier_c546fa9d8242,', 'depth=13,', 'numNodes=47,', 'numClasses=2,', 'numFeatures=1']\n",
      "2 ['DecisionTreeClassificationModel:', 'uid=DecisionTreeClassifier_346e14e82005,', 'depth=13,', 'numNodes=47,', 'numClasses=2,', 'numFeatures=1']\n",
      "0 ['DecisionTreeClassificationModel:', 'uid=DecisionTreeClassifier_9fe0dd9fa96f,', 'depth=13,', 'numNodes=47,', 'numClasses=2,', 'numFeatures=1']\n",
      "1 ['DecisionTreeClassificationModel:', 'uid=DecisionTreeClassifier_3aede4b01492,', 'depth=13,', 'numNodes=47,', 'numClasses=2,', 'numFeatures=1']\n",
      "2 ['DecisionTreeClassificationModel:', 'uid=DecisionTreeClassifier_d4ab2ff1087c,', 'depth=13,', 'numNodes=47,', 'numClasses=2,', 'numFeatures=1']\n"
     ]
    },
    {
     "data": {
      "text/html": [
       "<div>\n",
       "<style scoped>\n",
       "    .dataframe tbody tr th:only-of-type {\n",
       "        vertical-align: middle;\n",
       "    }\n",
       "\n",
       "    .dataframe tbody tr th {\n",
       "        vertical-align: top;\n",
       "    }\n",
       "\n",
       "    .dataframe thead th {\n",
       "        text-align: right;\n",
       "    }\n",
       "</style>\n",
       "<table border=\"1\" class=\"dataframe\">\n",
       "  <thead>\n",
       "    <tr style=\"text-align: right;\">\n",
       "      <th></th>\n",
       "      <th>0</th>\n",
       "      <th>2</th>\n",
       "      <th>4</th>\n",
       "      <th>6</th>\n",
       "      <th>8</th>\n",
       "      <th>16</th>\n",
       "      <th>24</th>\n",
       "    </tr>\n",
       "  </thead>\n",
       "  <tbody>\n",
       "    <tr>\n",
       "      <th>1</th>\n",
       "      <td>5.2</td>\n",
       "      <td>7.1</td>\n",
       "      <td>5.7</td>\n",
       "      <td>5.5</td>\n",
       "      <td>5.5</td>\n",
       "      <td>8.5</td>\n",
       "      <td>9.8</td>\n",
       "    </tr>\n",
       "    <tr>\n",
       "      <th>2</th>\n",
       "      <td>7.0</td>\n",
       "      <td>9.5</td>\n",
       "      <td>6.2</td>\n",
       "      <td>8.0</td>\n",
       "      <td>8.0</td>\n",
       "      <td>11.5</td>\n",
       "      <td>14.4</td>\n",
       "    </tr>\n",
       "    <tr>\n",
       "      <th>5</th>\n",
       "      <td>17.4</td>\n",
       "      <td>14.3</td>\n",
       "      <td>9.4</td>\n",
       "      <td>9.6</td>\n",
       "      <td>10.2</td>\n",
       "      <td>13.9</td>\n",
       "      <td>16.9</td>\n",
       "    </tr>\n",
       "    <tr>\n",
       "      <th>10</th>\n",
       "      <td>39.0</td>\n",
       "      <td>18.1</td>\n",
       "      <td>11.8</td>\n",
       "      <td>16.0</td>\n",
       "      <td>19.6</td>\n",
       "      <td>26.2</td>\n",
       "      <td>32.5</td>\n",
       "    </tr>\n",
       "    <tr>\n",
       "      <th>15</th>\n",
       "      <td>69.8</td>\n",
       "      <td>24.6</td>\n",
       "      <td>14.3</td>\n",
       "      <td>20.0</td>\n",
       "      <td>25.7</td>\n",
       "      <td>32.6</td>\n",
       "      <td>39.8</td>\n",
       "    </tr>\n",
       "    <tr>\n",
       "      <th>20</th>\n",
       "      <td>96.5</td>\n",
       "      <td>27.7</td>\n",
       "      <td>15.9</td>\n",
       "      <td>16.2</td>\n",
       "      <td>15.6</td>\n",
       "      <td>19.3</td>\n",
       "      <td>23.1</td>\n",
       "    </tr>\n",
       "    <tr>\n",
       "      <th>30</th>\n",
       "      <td>128.2</td>\n",
       "      <td>32.1</td>\n",
       "      <td>18.3</td>\n",
       "      <td>23.9</td>\n",
       "      <td>31.2</td>\n",
       "      <td>39.2</td>\n",
       "      <td>46.6</td>\n",
       "    </tr>\n",
       "    <tr>\n",
       "      <th>50</th>\n",
       "      <td>214.4</td>\n",
       "      <td>48.4</td>\n",
       "      <td>26.0</td>\n",
       "      <td>27.4</td>\n",
       "      <td>25.2</td>\n",
       "      <td>28.6</td>\n",
       "      <td>31.9</td>\n",
       "    </tr>\n",
       "  </tbody>\n",
       "</table>\n",
       "</div>"
      ],
      "text/plain": [
       "       0     2     4     6     8     16    24\n",
       "1     5.2   7.1   5.7   5.5   5.5   8.5   9.8\n",
       "2     7.0   9.5   6.2   8.0   8.0  11.5  14.4\n",
       "5    17.4  14.3   9.4   9.6  10.2  13.9  16.9\n",
       "10   39.0  18.1  11.8  16.0  19.6  26.2  32.5\n",
       "15   69.8  24.6  14.3  20.0  25.7  32.6  39.8\n",
       "20   96.5  27.7  15.9  16.2  15.6  19.3  23.1\n",
       "30  128.2  32.1  18.3  23.9  31.2  39.2  46.6\n",
       "50  214.4  48.4  26.0  27.4  25.2  28.6  31.9"
      ]
     },
     "metadata": {},
     "output_type": "display_data"
    },
    {
     "data": {
      "text/html": [
       "<div>\n",
       "<style scoped>\n",
       "    .dataframe tbody tr th:only-of-type {\n",
       "        vertical-align: middle;\n",
       "    }\n",
       "\n",
       "    .dataframe tbody tr th {\n",
       "        vertical-align: top;\n",
       "    }\n",
       "\n",
       "    .dataframe thead th {\n",
       "        text-align: right;\n",
       "    }\n",
       "</style>\n",
       "<table border=\"1\" class=\"dataframe\">\n",
       "  <thead>\n",
       "    <tr style=\"text-align: right;\">\n",
       "      <th></th>\n",
       "      <th>0</th>\n",
       "      <th>2</th>\n",
       "      <th>4</th>\n",
       "      <th>6</th>\n",
       "      <th>8</th>\n",
       "      <th>16</th>\n",
       "      <th>24</th>\n",
       "    </tr>\n",
       "  </thead>\n",
       "  <tbody>\n",
       "    <tr>\n",
       "      <th>1</th>\n",
       "      <td>123.0</td>\n",
       "      <td>123.0</td>\n",
       "      <td>123.0</td>\n",
       "      <td>123.0</td>\n",
       "      <td>123.0</td>\n",
       "      <td>123.0</td>\n",
       "      <td>123.0</td>\n",
       "    </tr>\n",
       "    <tr>\n",
       "      <th>2</th>\n",
       "      <td>151.0</td>\n",
       "      <td>151.0</td>\n",
       "      <td>151.0</td>\n",
       "      <td>151.0</td>\n",
       "      <td>151.0</td>\n",
       "      <td>151.0</td>\n",
       "      <td>151.0</td>\n",
       "    </tr>\n",
       "    <tr>\n",
       "      <th>5</th>\n",
       "      <td>67.0</td>\n",
       "      <td>67.0</td>\n",
       "      <td>67.0</td>\n",
       "      <td>67.0</td>\n",
       "      <td>67.0</td>\n",
       "      <td>67.0</td>\n",
       "      <td>67.0</td>\n",
       "    </tr>\n",
       "    <tr>\n",
       "      <th>10</th>\n",
       "      <td>65.0</td>\n",
       "      <td>65.0</td>\n",
       "      <td>65.0</td>\n",
       "      <td>65.0</td>\n",
       "      <td>65.0</td>\n",
       "      <td>65.0</td>\n",
       "      <td>65.0</td>\n",
       "    </tr>\n",
       "    <tr>\n",
       "      <th>15</th>\n",
       "      <td>35.0</td>\n",
       "      <td>35.0</td>\n",
       "      <td>35.0</td>\n",
       "      <td>35.0</td>\n",
       "      <td>35.0</td>\n",
       "      <td>35.0</td>\n",
       "      <td>35.0</td>\n",
       "    </tr>\n",
       "    <tr>\n",
       "      <th>20</th>\n",
       "      <td>57.0</td>\n",
       "      <td>57.0</td>\n",
       "      <td>57.0</td>\n",
       "      <td>57.0</td>\n",
       "      <td>57.0</td>\n",
       "      <td>57.0</td>\n",
       "      <td>57.0</td>\n",
       "    </tr>\n",
       "    <tr>\n",
       "      <th>30</th>\n",
       "      <td>41.0</td>\n",
       "      <td>41.0</td>\n",
       "      <td>41.0</td>\n",
       "      <td>41.0</td>\n",
       "      <td>41.0</td>\n",
       "      <td>41.0</td>\n",
       "      <td>41.0</td>\n",
       "    </tr>\n",
       "    <tr>\n",
       "      <th>50</th>\n",
       "      <td>47.0</td>\n",
       "      <td>47.0</td>\n",
       "      <td>47.0</td>\n",
       "      <td>47.0</td>\n",
       "      <td>47.0</td>\n",
       "      <td>47.0</td>\n",
       "      <td>47.0</td>\n",
       "    </tr>\n",
       "  </tbody>\n",
       "</table>\n",
       "</div>"
      ],
      "text/plain": [
       "       0      2      4      6      8      16     24\n",
       "1   123.0  123.0  123.0  123.0  123.0  123.0  123.0\n",
       "2   151.0  151.0  151.0  151.0  151.0  151.0  151.0\n",
       "5    67.0   67.0   67.0   67.0   67.0   67.0   67.0\n",
       "10   65.0   65.0   65.0   65.0   65.0   65.0   65.0\n",
       "15   35.0   35.0   35.0   35.0   35.0   35.0   35.0\n",
       "20   57.0   57.0   57.0   57.0   57.0   57.0   57.0\n",
       "30   41.0   41.0   41.0   41.0   41.0   41.0   41.0\n",
       "50   47.0   47.0   47.0   47.0   47.0   47.0   47.0"
      ]
     },
     "metadata": {},
     "output_type": "display_data"
    }
   ],
   "source": [
    "di = result\n",
    "df_res_time = pd.DataFrame()\n",
    "df_res_nodes = pd.DataFrame()\n",
    "for p1 in di.keys():\n",
    "    for p2 in di[p1].keys():\n",
    "        df_res_time.loc[p1, p2] = np.round(np.mean(di[p1][p2][1]), 1)\n",
    "        m_tmp = di[p1][p2][0]\n",
    "        n_nodes = []\n",
    "        for i,_ in enumerate(m_tmp):\n",
    "            tmp = f'{m_tmp[i]}'.split(' ')\n",
    "            print(i, tmp)\n",
    "            n_nodes.append([int(x.split('=')[1][:-1]) for x in tmp if x[:4]== 'numN'][0])\n",
    "        df_res_nodes.loc[p1, p2] = np.round(np.mean(n_nodes), 1)\n",
    "\n",
    "df_res_time.to_csv(f'gs://mas-a5-storage-1/notebooks/jupyter/obj/{fn}_t.csv')\n",
    "df_res_nodes.to_csv(f'gs://mas-a5-storage-1/notebooks/jupyter/obj/{fn}_n.csv')\n",
    "\n",
    "display(df_res_time)      \n",
    "display(df_res_nodes)     "
   ]
  },
  {
   "cell_type": "code",
   "execution_count": 3,
   "id": "9a7dc76e",
   "metadata": {
    "ExecuteTime": {
     "end_time": "2021-11-23T08:12:35.596957Z",
     "start_time": "2021-11-23T08:12:35.339476Z"
    }
   },
   "outputs": [
    {
     "data": {
      "text/html": [
       "<div>\n",
       "<style scoped>\n",
       "    .dataframe tbody tr th:only-of-type {\n",
       "        vertical-align: middle;\n",
       "    }\n",
       "\n",
       "    .dataframe tbody tr th {\n",
       "        vertical-align: top;\n",
       "    }\n",
       "\n",
       "    .dataframe thead th {\n",
       "        text-align: right;\n",
       "    }\n",
       "</style>\n",
       "<table border=\"1\" class=\"dataframe\">\n",
       "  <thead>\n",
       "    <tr style=\"text-align: right;\">\n",
       "      <th></th>\n",
       "      <th>Unnamed: 0</th>\n",
       "      <th>0</th>\n",
       "      <th>2</th>\n",
       "      <th>4</th>\n",
       "      <th>6</th>\n",
       "      <th>8</th>\n",
       "      <th>16</th>\n",
       "      <th>24</th>\n",
       "    </tr>\n",
       "  </thead>\n",
       "  <tbody>\n",
       "    <tr>\n",
       "      <th>0</th>\n",
       "      <td>1</td>\n",
       "      <td>5.2</td>\n",
       "      <td>7.1</td>\n",
       "      <td>5.7</td>\n",
       "      <td>5.5</td>\n",
       "      <td>5.5</td>\n",
       "      <td>8.5</td>\n",
       "      <td>9.8</td>\n",
       "    </tr>\n",
       "    <tr>\n",
       "      <th>1</th>\n",
       "      <td>2</td>\n",
       "      <td>7.0</td>\n",
       "      <td>9.5</td>\n",
       "      <td>6.2</td>\n",
       "      <td>8.0</td>\n",
       "      <td>8.0</td>\n",
       "      <td>11.5</td>\n",
       "      <td>14.4</td>\n",
       "    </tr>\n",
       "    <tr>\n",
       "      <th>2</th>\n",
       "      <td>5</td>\n",
       "      <td>17.4</td>\n",
       "      <td>14.3</td>\n",
       "      <td>9.4</td>\n",
       "      <td>9.6</td>\n",
       "      <td>10.2</td>\n",
       "      <td>13.9</td>\n",
       "      <td>16.9</td>\n",
       "    </tr>\n",
       "    <tr>\n",
       "      <th>3</th>\n",
       "      <td>10</td>\n",
       "      <td>39.0</td>\n",
       "      <td>18.1</td>\n",
       "      <td>11.8</td>\n",
       "      <td>16.0</td>\n",
       "      <td>19.6</td>\n",
       "      <td>26.2</td>\n",
       "      <td>32.5</td>\n",
       "    </tr>\n",
       "    <tr>\n",
       "      <th>4</th>\n",
       "      <td>15</td>\n",
       "      <td>69.8</td>\n",
       "      <td>24.6</td>\n",
       "      <td>14.3</td>\n",
       "      <td>20.0</td>\n",
       "      <td>25.7</td>\n",
       "      <td>32.6</td>\n",
       "      <td>39.8</td>\n",
       "    </tr>\n",
       "    <tr>\n",
       "      <th>5</th>\n",
       "      <td>20</td>\n",
       "      <td>96.5</td>\n",
       "      <td>27.7</td>\n",
       "      <td>15.9</td>\n",
       "      <td>16.2</td>\n",
       "      <td>15.6</td>\n",
       "      <td>19.3</td>\n",
       "      <td>23.1</td>\n",
       "    </tr>\n",
       "    <tr>\n",
       "      <th>6</th>\n",
       "      <td>30</td>\n",
       "      <td>128.2</td>\n",
       "      <td>32.1</td>\n",
       "      <td>18.3</td>\n",
       "      <td>23.9</td>\n",
       "      <td>31.2</td>\n",
       "      <td>39.2</td>\n",
       "      <td>46.6</td>\n",
       "    </tr>\n",
       "    <tr>\n",
       "      <th>7</th>\n",
       "      <td>50</td>\n",
       "      <td>214.4</td>\n",
       "      <td>48.4</td>\n",
       "      <td>26.0</td>\n",
       "      <td>27.4</td>\n",
       "      <td>25.2</td>\n",
       "      <td>28.6</td>\n",
       "      <td>31.9</td>\n",
       "    </tr>\n",
       "  </tbody>\n",
       "</table>\n",
       "</div>"
      ],
      "text/plain": [
       "   Unnamed: 0      0     2     4     6     8    16    24\n",
       "0           1    5.2   7.1   5.7   5.5   5.5   8.5   9.8\n",
       "1           2    7.0   9.5   6.2   8.0   8.0  11.5  14.4\n",
       "2           5   17.4  14.3   9.4   9.6  10.2  13.9  16.9\n",
       "3          10   39.0  18.1  11.8  16.0  19.6  26.2  32.5\n",
       "4          15   69.8  24.6  14.3  20.0  25.7  32.6  39.8\n",
       "5          20   96.5  27.7  15.9  16.2  15.6  19.3  23.1\n",
       "6          30  128.2  32.1  18.3  23.9  31.2  39.2  46.6\n",
       "7          50  214.4  48.4  26.0  27.4  25.2  28.6  31.9"
      ]
     },
     "execution_count": 3,
     "metadata": {},
     "output_type": "execute_result"
    }
   ],
   "source": [
    "fn = '4cpu_by_6n__4m'\n",
    "\n",
    "tmp = pd.read_csv(f'gs://mas-a5-storage-1/notebooks/jupyter/obj/{fn}_t.csv')\n",
    "tmp"
   ]
  },
  {
   "cell_type": "code",
   "execution_count": 4,
   "id": "cf3dc9e9",
   "metadata": {
    "ExecuteTime": {
     "end_time": "2021-11-23T08:12:55.074906Z",
     "start_time": "2021-11-23T08:12:54.998387Z"
    }
   },
   "outputs": [
    {
     "data": {
      "text/html": [
       "<div>\n",
       "<style scoped>\n",
       "    .dataframe tbody tr th:only-of-type {\n",
       "        vertical-align: middle;\n",
       "    }\n",
       "\n",
       "    .dataframe tbody tr th {\n",
       "        vertical-align: top;\n",
       "    }\n",
       "\n",
       "    .dataframe thead th {\n",
       "        text-align: right;\n",
       "    }\n",
       "</style>\n",
       "<table border=\"1\" class=\"dataframe\">\n",
       "  <thead>\n",
       "    <tr style=\"text-align: right;\">\n",
       "      <th></th>\n",
       "      <th>Unnamed: 0</th>\n",
       "      <th>0</th>\n",
       "      <th>2</th>\n",
       "      <th>4</th>\n",
       "      <th>6</th>\n",
       "      <th>8</th>\n",
       "      <th>16</th>\n",
       "      <th>24</th>\n",
       "    </tr>\n",
       "  </thead>\n",
       "  <tbody>\n",
       "    <tr>\n",
       "      <th>0</th>\n",
       "      <td>1</td>\n",
       "      <td>123.0</td>\n",
       "      <td>123.0</td>\n",
       "      <td>123.0</td>\n",
       "      <td>123.0</td>\n",
       "      <td>123.0</td>\n",
       "      <td>123.0</td>\n",
       "      <td>123.0</td>\n",
       "    </tr>\n",
       "    <tr>\n",
       "      <th>1</th>\n",
       "      <td>2</td>\n",
       "      <td>151.0</td>\n",
       "      <td>151.0</td>\n",
       "      <td>151.0</td>\n",
       "      <td>151.0</td>\n",
       "      <td>151.0</td>\n",
       "      <td>151.0</td>\n",
       "      <td>151.0</td>\n",
       "    </tr>\n",
       "    <tr>\n",
       "      <th>2</th>\n",
       "      <td>5</td>\n",
       "      <td>67.0</td>\n",
       "      <td>67.0</td>\n",
       "      <td>67.0</td>\n",
       "      <td>67.0</td>\n",
       "      <td>67.0</td>\n",
       "      <td>67.0</td>\n",
       "      <td>67.0</td>\n",
       "    </tr>\n",
       "    <tr>\n",
       "      <th>3</th>\n",
       "      <td>10</td>\n",
       "      <td>65.0</td>\n",
       "      <td>65.0</td>\n",
       "      <td>65.0</td>\n",
       "      <td>65.0</td>\n",
       "      <td>65.0</td>\n",
       "      <td>65.0</td>\n",
       "      <td>65.0</td>\n",
       "    </tr>\n",
       "    <tr>\n",
       "      <th>4</th>\n",
       "      <td>15</td>\n",
       "      <td>35.0</td>\n",
       "      <td>35.0</td>\n",
       "      <td>35.0</td>\n",
       "      <td>35.0</td>\n",
       "      <td>35.0</td>\n",
       "      <td>35.0</td>\n",
       "      <td>35.0</td>\n",
       "    </tr>\n",
       "    <tr>\n",
       "      <th>5</th>\n",
       "      <td>20</td>\n",
       "      <td>57.0</td>\n",
       "      <td>57.0</td>\n",
       "      <td>57.0</td>\n",
       "      <td>57.0</td>\n",
       "      <td>57.0</td>\n",
       "      <td>57.0</td>\n",
       "      <td>57.0</td>\n",
       "    </tr>\n",
       "    <tr>\n",
       "      <th>6</th>\n",
       "      <td>30</td>\n",
       "      <td>41.0</td>\n",
       "      <td>41.0</td>\n",
       "      <td>41.0</td>\n",
       "      <td>41.0</td>\n",
       "      <td>41.0</td>\n",
       "      <td>41.0</td>\n",
       "      <td>41.0</td>\n",
       "    </tr>\n",
       "    <tr>\n",
       "      <th>7</th>\n",
       "      <td>50</td>\n",
       "      <td>47.0</td>\n",
       "      <td>47.0</td>\n",
       "      <td>47.0</td>\n",
       "      <td>47.0</td>\n",
       "      <td>47.0</td>\n",
       "      <td>47.0</td>\n",
       "      <td>47.0</td>\n",
       "    </tr>\n",
       "  </tbody>\n",
       "</table>\n",
       "</div>"
      ],
      "text/plain": [
       "   Unnamed: 0      0      2      4      6      8     16     24\n",
       "0           1  123.0  123.0  123.0  123.0  123.0  123.0  123.0\n",
       "1           2  151.0  151.0  151.0  151.0  151.0  151.0  151.0\n",
       "2           5   67.0   67.0   67.0   67.0   67.0   67.0   67.0\n",
       "3          10   65.0   65.0   65.0   65.0   65.0   65.0   65.0\n",
       "4          15   35.0   35.0   35.0   35.0   35.0   35.0   35.0\n",
       "5          20   57.0   57.0   57.0   57.0   57.0   57.0   57.0\n",
       "6          30   41.0   41.0   41.0   41.0   41.0   41.0   41.0\n",
       "7          50   47.0   47.0   47.0   47.0   47.0   47.0   47.0"
      ]
     },
     "execution_count": 4,
     "metadata": {},
     "output_type": "execute_result"
    }
   ],
   "source": [
    "fn = '4cpu_by_6n__4m'\n",
    "tmp = pd.read_csv(f'gs://mas-a5-storage-1/notebooks/jupyter/obj/{fn}_n.csv')\n",
    "tmp"
   ]
  }
 ],
 "metadata": {
  "kernelspec": {
   "display_name": "PySpark",
   "language": "python",
   "name": "pyspark"
  },
  "language_info": {
   "codemirror_mode": {
    "name": "ipython",
    "version": 3
   },
   "file_extension": ".py",
   "mimetype": "text/x-python",
   "name": "python",
   "nbconvert_exporter": "python",
   "pygments_lexer": "ipython3",
   "version": "3.8.12"
  },
  "toc": {
   "base_numbering": 1,
   "nav_menu": {},
   "number_sections": true,
   "sideBar": true,
   "skip_h1_title": false,
   "title_cell": "Table of Contents",
   "title_sidebar": "Contents",
   "toc_cell": false,
   "toc_position": {},
   "toc_section_display": true,
   "toc_window_display": true
  }
 },
 "nbformat": 4,
 "nbformat_minor": 5
}