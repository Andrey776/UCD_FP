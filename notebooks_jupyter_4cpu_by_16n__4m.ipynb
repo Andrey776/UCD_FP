{
 "cells": [
  {
   "cell_type": "markdown",
   "id": "17f41b1c",
   "metadata": {},
   "source": [
    "# Library"
   ]
  },
  {
   "cell_type": "code",
   "execution_count": 1,
   "id": "f7480aef",
   "metadata": {
    "ExecuteTime": {
     "end_time": "2021-11-23T17:16:20.811350Z",
     "start_time": "2021-11-23T17:16:15.418020Z"
    }
   },
   "outputs": [],
   "source": [
    "#import sys\n",
    "import pandas as pd\n",
    "import numpy as np\n",
    "import random\n",
    "import pyspark\n",
    "import itertools\n",
    "import matplotlib.pyplot as plt\n",
    "import itertools\n",
    "import seaborn as sns\n",
    "import pickle\n",
    "import statsmodels.api as sm\n",
    "\n",
    "from pyspark import SparkContext, SQLContext\n",
    "\n",
    "from math import sqrt\n",
    "from time import time as ttt\n",
    "\n",
    "from pyspark.sql import SparkSession\n",
    "from pyspark.sql import functions as f\n",
    "\n",
    "from pyspark.ml.linalg import Vectors\n",
    "from pyspark.ml.feature import VectorAssembler\n",
    "from pyspark.ml import Pipeline\n",
    "from pyspark.ml.classification import DecisionTreeClassifier as DTC_spark\n",
    "from pyspark.ml.feature import StringIndexer, VectorIndexer\n",
    "from pyspark.ml.evaluation import MulticlassClassificationEvaluator\n",
    "\n",
    "import joblib\n",
    "from joblib import parallel_backend\n",
    "from joblib import Parallel, delayed\n",
    "from joblib import parallel_backend\n"
   ]
  },
  {
   "cell_type": "markdown",
   "id": "f33b542c",
   "metadata": {},
   "source": [
    "# Upload"
   ]
  },
  {
   "cell_type": "code",
   "execution_count": 2,
   "id": "96a5c4ff",
   "metadata": {
    "ExecuteTime": {
     "end_time": "2021-11-23T17:16:35.748621Z",
     "start_time": "2021-11-23T17:16:20.813419Z"
    }
   },
   "outputs": [
    {
     "name": "stderr",
     "output_type": "stream",
     "text": [
      "                                                                                \r"
     ]
    },
    {
     "name": "stdout",
     "output_type": "stream",
     "text": [
      "4\n"
     ]
    }
   ],
   "source": [
    "spark = SparkSession.builder.master(\"local\").appName(\"spark_app_1234\").getOrCreate()\n",
    "sc = spark.sparkContext\n",
    "spark\n",
    "d0 = (\n",
    "    spark\n",
    "    .read\n",
    "    .format(\"csv\") \n",
    "    .option(\"header\",\"true\") \n",
    "    .option(\"inferSchema\",\"true\") \n",
    "    .load(\"gs://mas-a5-storage-1/notebooks/jupyter/application_train.csv\")\n",
    ")\n",
    "\n",
    "d1 = d0.filter(d0.DAYS_EMPLOYED != 365243).select('TARGET','DAYS_EMPLOYED')\n",
    "\n",
    "print(d1.rdd.getNumPartitions())"
   ]
  },
  {
   "cell_type": "markdown",
   "id": "333b63a3",
   "metadata": {},
   "source": [
    "# Function"
   ]
  },
  {
   "cell_type": "code",
   "execution_count": 3,
   "id": "e0ec74a5",
   "metadata": {
    "ExecuteTime": {
     "end_time": "2021-11-23T17:16:35.759983Z",
     "start_time": "2021-11-23T17:16:35.751197Z"
    }
   },
   "outputs": [],
   "source": [
    "def prepare_spark_data(n_part, k_mult):\n",
    "    '''\n",
    "    takes 'DAYS_EMPLOYED and 'TARGET'  from d1 (alreay filtered)\n",
    "    rearrane in n partitions (if n==0 keeps initial number of partitions)\n",
    "    prints final shape/ partition\n",
    "    returns d2 - spark df\n",
    "    '''\n",
    "    data = d1\n",
    "    data_new = data # first step in the cycle\n",
    "    for i in range(k_mult-1):\n",
    "        data_tmp = data.select('TARGET', \\\n",
    "                     f.col('DAYS_EMPLOYED')*(f.lit(0.9995) + f.rand()/1000)).\\\n",
    "                   toDF('TARGET','DAYS_EMPLOYED')\n",
    "        data_tmp = data_tmp.select('TARGET', f.floor('DAYS_EMPLOYED'))\n",
    "        data_new = data_new.union(data_tmp)\n",
    "\n",
    "    assembler = VectorAssembler(inputCols=[\"DAYS_EMPLOYED\"], \n",
    "                        outputCol=\"DAYS_EMPLOYED_vect\")\n",
    "    d2 = assembler.transform(data_new)\n",
    "    if n_part != 0:\n",
    "        d2 = d2.repartition(n_part)       \n",
    "    #print(f'n-partitions initial: {d2.rdd.getNumPartitions()}; df size: {d2.count()}\\n')\n",
    "\n",
    "    return d2"
   ]
  },
  {
   "cell_type": "markdown",
   "id": "5e62426a",
   "metadata": {},
   "source": [
    "# Params an run"
   ]
  },
  {
   "cell_type": "code",
   "execution_count": null,
   "id": "62c383b6",
   "metadata": {
    "ExecuteTime": {
     "start_time": "2021-11-23T17:17:36.255Z"
    },
    "deletable": false,
    "editable": false,
    "run_control": {
     "frozen": true
    },
    "scrolled": true
   },
   "outputs": [
    {
     "name": "stderr",
     "output_type": "stream",
     "text": [
      "                                                                                \r"
     ]
    },
    {
     "name": "stdout",
     "output_type": "stream",
     "text": [
      "d1-size 252137\n",
      "n-partitions initial 4 \n",
      "\n",
      "======================================================================\n"
     ]
    },
    {
     "name": "stderr",
     "output_type": "stream",
     "text": [
      "                                                                                \r"
     ]
    },
    {
     "name": "stdout",
     "output_type": "stream",
     "text": [
      "=== size_mult=1;         n_part_req=4; n_part_act=4; df_count=252137 ===\n",
      "\n"
     ]
    },
    {
     "name": "stderr",
     "output_type": "stream",
     "text": [
      "                                                                                \r"
     ]
    },
    {
     "name": "stdout",
     "output_type": "stream",
     "text": [
      "model 0 build time 11.53 \n",
      " DecisionTreeClassificationModel: uid=DecisionTreeClassifier_a48900d0167a, depth=14, numNodes=123, numClasses=2, numFeatures=1\n"
     ]
    },
    {
     "name": "stderr",
     "output_type": "stream",
     "text": [
      "                                                                                \r"
     ]
    },
    {
     "name": "stdout",
     "output_type": "stream",
     "text": [
      "model 1 build time 8.29 \n",
      " DecisionTreeClassificationModel: uid=DecisionTreeClassifier_c8e5a8300913, depth=14, numNodes=123, numClasses=2, numFeatures=1\n"
     ]
    },
    {
     "name": "stderr",
     "output_type": "stream",
     "text": [
      "                                                                                \r"
     ]
    },
    {
     "name": "stdout",
     "output_type": "stream",
     "text": [
      "model 2 build time 8.06 \n",
      " DecisionTreeClassificationModel: uid=DecisionTreeClassifier_6b3707428882, depth=14, numNodes=123, numClasses=2, numFeatures=1\n",
      "======================================================================\n"
     ]
    },
    {
     "name": "stderr",
     "output_type": "stream",
     "text": [
      "                                                                                \r"
     ]
    },
    {
     "name": "stdout",
     "output_type": "stream",
     "text": [
      "=== size_mult=1;         n_part_req=6; n_part_act=6; df_count=252137 ===\n",
      "\n"
     ]
    },
    {
     "name": "stderr",
     "output_type": "stream",
     "text": [
      "                                                                                \r"
     ]
    },
    {
     "name": "stdout",
     "output_type": "stream",
     "text": [
      "model 0 build time 9.24 \n",
      " DecisionTreeClassificationModel: uid=DecisionTreeClassifier_e3b304540b8f, depth=14, numNodes=123, numClasses=2, numFeatures=1\n"
     ]
    },
    {
     "name": "stderr",
     "output_type": "stream",
     "text": [
      "                                                                                \r"
     ]
    },
    {
     "name": "stdout",
     "output_type": "stream",
     "text": [
      "model 1 build time 9.25 \n",
      " DecisionTreeClassificationModel: uid=DecisionTreeClassifier_a6167e8eccb4, depth=14, numNodes=123, numClasses=2, numFeatures=1\n"
     ]
    },
    {
     "name": "stderr",
     "output_type": "stream",
     "text": [
      "                                                                                \r"
     ]
    },
    {
     "name": "stdout",
     "output_type": "stream",
     "text": [
      "model 2 build time 9.11 \n",
      " DecisionTreeClassificationModel: uid=DecisionTreeClassifier_f8f4edb0d28e, depth=14, numNodes=123, numClasses=2, numFeatures=1\n",
      "======================================================================\n"
     ]
    },
    {
     "name": "stderr",
     "output_type": "stream",
     "text": [
      "                                                                                \r"
     ]
    },
    {
     "name": "stdout",
     "output_type": "stream",
     "text": [
      "=== size_mult=1;         n_part_req=8; n_part_act=8; df_count=252137 ===\n",
      "\n"
     ]
    },
    {
     "name": "stderr",
     "output_type": "stream",
     "text": [
      "                                                                                \r"
     ]
    },
    {
     "name": "stdout",
     "output_type": "stream",
     "text": [
      "model 0 build time 10.45 \n",
      " DecisionTreeClassificationModel: uid=DecisionTreeClassifier_46b89e5b7f48, depth=14, numNodes=123, numClasses=2, numFeatures=1\n"
     ]
    },
    {
     "name": "stderr",
     "output_type": "stream",
     "text": [
      "                                                                                \r"
     ]
    },
    {
     "name": "stdout",
     "output_type": "stream",
     "text": [
      "model 1 build time 10.35 \n",
      " DecisionTreeClassificationModel: uid=DecisionTreeClassifier_00d7fd13c6d6, depth=14, numNodes=123, numClasses=2, numFeatures=1\n"
     ]
    },
    {
     "name": "stderr",
     "output_type": "stream",
     "text": [
      "                                                                                \r"
     ]
    },
    {
     "name": "stdout",
     "output_type": "stream",
     "text": [
      "model 2 build time 10.14 \n",
      " DecisionTreeClassificationModel: uid=DecisionTreeClassifier_9151b164b658, depth=14, numNodes=123, numClasses=2, numFeatures=1\n",
      "======================================================================\n"
     ]
    },
    {
     "name": "stderr",
     "output_type": "stream",
     "text": [
      "                                                                                \r"
     ]
    },
    {
     "name": "stdout",
     "output_type": "stream",
     "text": [
      "=== size_mult=1;         n_part_req=16; n_part_act=16; df_count=252137 ===\n",
      "\n"
     ]
    },
    {
     "name": "stderr",
     "output_type": "stream",
     "text": [
      "                                                                                \r"
     ]
    },
    {
     "name": "stdout",
     "output_type": "stream",
     "text": [
      "model 0 build time 15.07 \n",
      " DecisionTreeClassificationModel: uid=DecisionTreeClassifier_fa5e00a08bae, depth=14, numNodes=123, numClasses=2, numFeatures=1\n"
     ]
    },
    {
     "name": "stderr",
     "output_type": "stream",
     "text": [
      "                                                                                \r"
     ]
    },
    {
     "name": "stdout",
     "output_type": "stream",
     "text": [
      "model 1 build time 14.99 \n",
      " DecisionTreeClassificationModel: uid=DecisionTreeClassifier_a2a5ca591a2e, depth=14, numNodes=123, numClasses=2, numFeatures=1\n"
     ]
    },
    {
     "name": "stderr",
     "output_type": "stream",
     "text": [
      "                                                                                \r"
     ]
    },
    {
     "name": "stdout",
     "output_type": "stream",
     "text": [
      "model 2 build time 15.98 \n",
      " DecisionTreeClassificationModel: uid=DecisionTreeClassifier_38f58cabbb59, depth=14, numNodes=123, numClasses=2, numFeatures=1\n",
      "======================================================================\n"
     ]
    },
    {
     "name": "stderr",
     "output_type": "stream",
     "text": [
      "                                                                                \r"
     ]
    },
    {
     "name": "stdout",
     "output_type": "stream",
     "text": [
      "=== size_mult=1;         n_part_req=24; n_part_act=24; df_count=252137 ===\n",
      "\n"
     ]
    },
    {
     "name": "stderr",
     "output_type": "stream",
     "text": [
      "                                                                                \r"
     ]
    },
    {
     "name": "stdout",
     "output_type": "stream",
     "text": [
      "model 0 build time 22.24 \n",
      " DecisionTreeClassificationModel: uid=DecisionTreeClassifier_9c5fc66e1557, depth=14, numNodes=123, numClasses=2, numFeatures=1\n"
     ]
    },
    {
     "name": "stderr",
     "output_type": "stream",
     "text": [
      "                                                                                \r"
     ]
    },
    {
     "name": "stdout",
     "output_type": "stream",
     "text": [
      "model 1 build time 16.78 \n",
      " DecisionTreeClassificationModel: uid=DecisionTreeClassifier_452d2dd30e72, depth=14, numNodes=123, numClasses=2, numFeatures=1\n"
     ]
    },
    {
     "name": "stderr",
     "output_type": "stream",
     "text": [
      "                                                                                \r"
     ]
    },
    {
     "name": "stdout",
     "output_type": "stream",
     "text": [
      "model 2 build time 17.27 \n",
      " DecisionTreeClassificationModel: uid=DecisionTreeClassifier_01b2eed534e1, depth=14, numNodes=123, numClasses=2, numFeatures=1\n",
      "======================================================================\n"
     ]
    },
    {
     "name": "stderr",
     "output_type": "stream",
     "text": [
      "                                                                                \r"
     ]
    },
    {
     "name": "stdout",
     "output_type": "stream",
     "text": [
      "=== size_mult=1;         n_part_req=32; n_part_act=32; df_count=252137 ===\n",
      "\n"
     ]
    },
    {
     "name": "stderr",
     "output_type": "stream",
     "text": [
      "                                                                                \r"
     ]
    },
    {
     "name": "stdout",
     "output_type": "stream",
     "text": [
      "model 0 build time 16.19 \n",
      " DecisionTreeClassificationModel: uid=DecisionTreeClassifier_234d48844f54, depth=14, numNodes=123, numClasses=2, numFeatures=1\n"
     ]
    },
    {
     "name": "stderr",
     "output_type": "stream",
     "text": [
      "                                                                                \r"
     ]
    },
    {
     "name": "stdout",
     "output_type": "stream",
     "text": [
      "model 1 build time 13.98 \n",
      " DecisionTreeClassificationModel: uid=DecisionTreeClassifier_d0e9ac21ac8f, depth=14, numNodes=123, numClasses=2, numFeatures=1\n"
     ]
    },
    {
     "name": "stderr",
     "output_type": "stream",
     "text": [
      "                                                                                \r"
     ]
    },
    {
     "name": "stdout",
     "output_type": "stream",
     "text": [
      "model 2 build time 13.62 \n",
      " DecisionTreeClassificationModel: uid=DecisionTreeClassifier_efb37b7f6388, depth=14, numNodes=123, numClasses=2, numFeatures=1\n",
      "======================================================================\n"
     ]
    },
    {
     "name": "stderr",
     "output_type": "stream",
     "text": [
      "                                                                                \r"
     ]
    },
    {
     "name": "stdout",
     "output_type": "stream",
     "text": [
      "=== size_mult=1;         n_part_req=48; n_part_act=48; df_count=252137 ===\n",
      "\n"
     ]
    },
    {
     "name": "stderr",
     "output_type": "stream",
     "text": [
      "                                                                                \r"
     ]
    },
    {
     "name": "stdout",
     "output_type": "stream",
     "text": [
      "model 0 build time 16.21 \n",
      " DecisionTreeClassificationModel: uid=DecisionTreeClassifier_b20cd9bc1702, depth=14, numNodes=123, numClasses=2, numFeatures=1\n"
     ]
    },
    {
     "name": "stderr",
     "output_type": "stream",
     "text": [
      "                                                                                \r"
     ]
    },
    {
     "name": "stdout",
     "output_type": "stream",
     "text": [
      "model 1 build time 15.7 \n",
      " DecisionTreeClassificationModel: uid=DecisionTreeClassifier_8728b054a081, depth=14, numNodes=123, numClasses=2, numFeatures=1\n"
     ]
    },
    {
     "name": "stderr",
     "output_type": "stream",
     "text": [
      "                                                                                \r"
     ]
    },
    {
     "name": "stdout",
     "output_type": "stream",
     "text": [
      "model 2 build time 16.53 \n",
      " DecisionTreeClassificationModel: uid=DecisionTreeClassifier_05cccb88c925, depth=14, numNodes=123, numClasses=2, numFeatures=1\n",
      "======================================================================\n"
     ]
    },
    {
     "name": "stderr",
     "output_type": "stream",
     "text": [
      "                                                                                \r"
     ]
    },
    {
     "name": "stdout",
     "output_type": "stream",
     "text": [
      "=== size_mult=2;         n_part_req=4; n_part_act=4; df_count=504274 ===\n",
      "\n"
     ]
    },
    {
     "name": "stderr",
     "output_type": "stream",
     "text": [
      "                                                                                \r"
     ]
    },
    {
     "name": "stdout",
     "output_type": "stream",
     "text": [
      "model 0 build time 7.36 \n",
      " DecisionTreeClassificationModel: uid=DecisionTreeClassifier_e76603fadadb, depth=14, numNodes=101, numClasses=2, numFeatures=1\n",
      "model 1 build time 5.87 \n",
      " DecisionTreeClassificationModel: uid=DecisionTreeClassifier_dacf8bcb0ac8, depth=14, numNodes=101, numClasses=2, numFeatures=1\n",
      "model 2 build time 5.83 \n",
      " DecisionTreeClassificationModel: uid=DecisionTreeClassifier_5cfdb9b81d8e, depth=14, numNodes=101, numClasses=2, numFeatures=1\n",
      "======================================================================\n"
     ]
    },
    {
     "name": "stderr",
     "output_type": "stream",
     "text": [
      "                                                                                \r"
     ]
    },
    {
     "name": "stdout",
     "output_type": "stream",
     "text": [
      "=== size_mult=2;         n_part_req=6; n_part_act=6; df_count=504274 ===\n",
      "\n"
     ]
    },
    {
     "name": "stderr",
     "output_type": "stream",
     "text": [
      "                                                                                \r"
     ]
    },
    {
     "name": "stdout",
     "output_type": "stream",
     "text": [
      "model 0 build time 9.57 \n",
      " DecisionTreeClassificationModel: uid=DecisionTreeClassifier_cd691c98f7ec, depth=14, numNodes=129, numClasses=2, numFeatures=1\n"
     ]
    },
    {
     "name": "stderr",
     "output_type": "stream",
     "text": [
      "                                                                                \r"
     ]
    },
    {
     "name": "stdout",
     "output_type": "stream",
     "text": [
      "model 1 build time 9.56 \n",
      " DecisionTreeClassificationModel: uid=DecisionTreeClassifier_f1b62469b813, depth=14, numNodes=129, numClasses=2, numFeatures=1\n"
     ]
    },
    {
     "name": "stderr",
     "output_type": "stream",
     "text": [
      "                                                                                \r"
     ]
    },
    {
     "name": "stdout",
     "output_type": "stream",
     "text": [
      "model 2 build time 9.4 \n",
      " DecisionTreeClassificationModel: uid=DecisionTreeClassifier_5e0bcbca7be0, depth=14, numNodes=129, numClasses=2, numFeatures=1\n",
      "======================================================================\n"
     ]
    },
    {
     "name": "stderr",
     "output_type": "stream",
     "text": [
      "                                                                                \r"
     ]
    },
    {
     "name": "stdout",
     "output_type": "stream",
     "text": [
      "=== size_mult=2;         n_part_req=8; n_part_act=8; df_count=504274 ===\n",
      "\n"
     ]
    },
    {
     "name": "stderr",
     "output_type": "stream",
     "text": [
      "                                                                                \r"
     ]
    },
    {
     "name": "stdout",
     "output_type": "stream",
     "text": [
      "model 0 build time 11.12 \n",
      " DecisionTreeClassificationModel: uid=DecisionTreeClassifier_3e6314e71ac0, depth=14, numNodes=129, numClasses=2, numFeatures=1\n"
     ]
    },
    {
     "name": "stderr",
     "output_type": "stream",
     "text": [
      "                                                                                \r"
     ]
    },
    {
     "name": "stdout",
     "output_type": "stream",
     "text": [
      "model 1 build time 10.52 \n",
      " DecisionTreeClassificationModel: uid=DecisionTreeClassifier_a1cec6bdb42b, depth=14, numNodes=129, numClasses=2, numFeatures=1\n"
     ]
    },
    {
     "name": "stderr",
     "output_type": "stream",
     "text": [
      "                                                                                \r"
     ]
    },
    {
     "name": "stdout",
     "output_type": "stream",
     "text": [
      "model 2 build time 10.27 \n",
      " DecisionTreeClassificationModel: uid=DecisionTreeClassifier_643b90ff7597, depth=14, numNodes=129, numClasses=2, numFeatures=1\n",
      "======================================================================\n"
     ]
    },
    {
     "name": "stderr",
     "output_type": "stream",
     "text": [
      "                                                                                \r"
     ]
    },
    {
     "name": "stdout",
     "output_type": "stream",
     "text": [
      "=== size_mult=2;         n_part_req=16; n_part_act=16; df_count=504274 ===\n",
      "\n"
     ]
    },
    {
     "name": "stderr",
     "output_type": "stream",
     "text": [
      "                                                                                \r"
     ]
    },
    {
     "name": "stdout",
     "output_type": "stream",
     "text": [
      "model 0 build time 14.75 \n",
      " DecisionTreeClassificationModel: uid=DecisionTreeClassifier_4173ca9f9af7, depth=14, numNodes=149, numClasses=2, numFeatures=1\n"
     ]
    },
    {
     "name": "stderr",
     "output_type": "stream",
     "text": [
      "                                                                                \r"
     ]
    },
    {
     "name": "stdout",
     "output_type": "stream",
     "text": [
      "model 1 build time 13.53 \n",
      " DecisionTreeClassificationModel: uid=DecisionTreeClassifier_e27c99404140, depth=14, numNodes=149, numClasses=2, numFeatures=1\n"
     ]
    },
    {
     "name": "stderr",
     "output_type": "stream",
     "text": [
      "                                                                                \r"
     ]
    },
    {
     "name": "stdout",
     "output_type": "stream",
     "text": [
      "model 2 build time 13.37 \n",
      " DecisionTreeClassificationModel: uid=DecisionTreeClassifier_6cfeabb332cb, depth=14, numNodes=149, numClasses=2, numFeatures=1\n",
      "======================================================================\n"
     ]
    },
    {
     "name": "stderr",
     "output_type": "stream",
     "text": [
      "                                                                                \r"
     ]
    },
    {
     "name": "stdout",
     "output_type": "stream",
     "text": [
      "=== size_mult=2;         n_part_req=24; n_part_act=24; df_count=504274 ===\n",
      "\n"
     ]
    },
    {
     "name": "stderr",
     "output_type": "stream",
     "text": [
      "                                                                                \r"
     ]
    },
    {
     "name": "stdout",
     "output_type": "stream",
     "text": [
      "model 0 build time 9.4 \n",
      " DecisionTreeClassificationModel: uid=DecisionTreeClassifier_790da985815f, depth=14, numNodes=141, numClasses=2, numFeatures=1\n"
     ]
    },
    {
     "name": "stderr",
     "output_type": "stream",
     "text": [
      "                                                                                \r"
     ]
    },
    {
     "name": "stdout",
     "output_type": "stream",
     "text": [
      "model 1 build time 9.35 \n",
      " DecisionTreeClassificationModel: uid=DecisionTreeClassifier_4cd5df2a6eb1, depth=14, numNodes=141, numClasses=2, numFeatures=1\n"
     ]
    },
    {
     "name": "stderr",
     "output_type": "stream",
     "text": [
      "                                                                                \r"
     ]
    },
    {
     "name": "stdout",
     "output_type": "stream",
     "text": [
      "model 2 build time 9.36 \n",
      " DecisionTreeClassificationModel: uid=DecisionTreeClassifier_ebb3f1ee508e, depth=14, numNodes=141, numClasses=2, numFeatures=1\n",
      "======================================================================\n"
     ]
    },
    {
     "name": "stderr",
     "output_type": "stream",
     "text": [
      "                                                                                \r"
     ]
    },
    {
     "name": "stdout",
     "output_type": "stream",
     "text": [
      "=== size_mult=2;         n_part_req=32; n_part_act=32; df_count=504274 ===\n",
      "\n"
     ]
    },
    {
     "name": "stderr",
     "output_type": "stream",
     "text": [
      "                                                                                \r"
     ]
    },
    {
     "name": "stdout",
     "output_type": "stream",
     "text": [
      "model 0 build time 19.92 \n",
      " DecisionTreeClassificationModel: uid=DecisionTreeClassifier_8c33926bd5e2, depth=14, numNodes=123, numClasses=2, numFeatures=1\n"
     ]
    },
    {
     "name": "stderr",
     "output_type": "stream",
     "text": [
      "                                                                                \r"
     ]
    },
    {
     "name": "stdout",
     "output_type": "stream",
     "text": [
      "model 1 build time 20.79 \n",
      " DecisionTreeClassificationModel: uid=DecisionTreeClassifier_d4b6fb4e8763, depth=14, numNodes=123, numClasses=2, numFeatures=1\n"
     ]
    },
    {
     "name": "stderr",
     "output_type": "stream",
     "text": [
      "                                                                                \r"
     ]
    },
    {
     "name": "stdout",
     "output_type": "stream",
     "text": [
      "model 2 build time 20.91 \n",
      " DecisionTreeClassificationModel: uid=DecisionTreeClassifier_7fd2adc97471, depth=14, numNodes=123, numClasses=2, numFeatures=1\n",
      "======================================================================\n"
     ]
    },
    {
     "name": "stderr",
     "output_type": "stream",
     "text": [
      "                                                                                \r"
     ]
    },
    {
     "name": "stdout",
     "output_type": "stream",
     "text": [
      "=== size_mult=2;         n_part_req=48; n_part_act=48; df_count=504274 ===\n",
      "\n"
     ]
    },
    {
     "name": "stderr",
     "output_type": "stream",
     "text": [
      "                                                                                \r"
     ]
    },
    {
     "name": "stdout",
     "output_type": "stream",
     "text": [
      "model 0 build time 15.97 \n",
      " DecisionTreeClassificationModel: uid=DecisionTreeClassifier_1a4b7d8d676c, depth=14, numNodes=127, numClasses=2, numFeatures=1\n"
     ]
    },
    {
     "name": "stderr",
     "output_type": "stream",
     "text": [
      "                                                                                \r"
     ]
    },
    {
     "name": "stdout",
     "output_type": "stream",
     "text": [
      "model 1 build time 10.43 \n",
      " DecisionTreeClassificationModel: uid=DecisionTreeClassifier_04356eccfd73, depth=14, numNodes=127, numClasses=2, numFeatures=1\n"
     ]
    },
    {
     "name": "stderr",
     "output_type": "stream",
     "text": [
      "                                                                                \r"
     ]
    },
    {
     "name": "stdout",
     "output_type": "stream",
     "text": [
      "model 2 build time 10.42 \n",
      " DecisionTreeClassificationModel: uid=DecisionTreeClassifier_92afa2c3ed08, depth=14, numNodes=127, numClasses=2, numFeatures=1\n",
      "======================================================================\n"
     ]
    },
    {
     "name": "stderr",
     "output_type": "stream",
     "text": [
      "                                                                                \r"
     ]
    },
    {
     "name": "stdout",
     "output_type": "stream",
     "text": [
      "=== size_mult=5;         n_part_req=4; n_part_act=4; df_count=1260685 ===\n",
      "\n"
     ]
    },
    {
     "name": "stderr",
     "output_type": "stream",
     "text": [
      "                                                                                \r"
     ]
    },
    {
     "name": "stdout",
     "output_type": "stream",
     "text": [
      "model 0 build time 11.87 \n",
      " DecisionTreeClassificationModel: uid=DecisionTreeClassifier_1284abdb1739, depth=14, numNodes=87, numClasses=2, numFeatures=1\n"
     ]
    },
    {
     "name": "stderr",
     "output_type": "stream",
     "text": [
      "                                                                                \r"
     ]
    },
    {
     "name": "stdout",
     "output_type": "stream",
     "text": [
      "model 1 build time 9.76 \n",
      " DecisionTreeClassificationModel: uid=DecisionTreeClassifier_74b11d869973, depth=14, numNodes=87, numClasses=2, numFeatures=1\n"
     ]
    },
    {
     "name": "stderr",
     "output_type": "stream",
     "text": [
      "                                                                                \r"
     ]
    },
    {
     "name": "stdout",
     "output_type": "stream",
     "text": [
      "model 2 build time 9.04 \n",
      " DecisionTreeClassificationModel: uid=DecisionTreeClassifier_48aca44baa1e, depth=14, numNodes=87, numClasses=2, numFeatures=1\n",
      "======================================================================\n"
     ]
    },
    {
     "name": "stderr",
     "output_type": "stream",
     "text": [
      "                                                                                \r"
     ]
    },
    {
     "name": "stdout",
     "output_type": "stream",
     "text": [
      "=== size_mult=5;         n_part_req=6; n_part_act=6; df_count=1260685 ===\n",
      "\n"
     ]
    },
    {
     "name": "stderr",
     "output_type": "stream",
     "text": [
      "                                                                                \r"
     ]
    },
    {
     "name": "stdout",
     "output_type": "stream",
     "text": [
      "model 0 build time 8.75 \n",
      " DecisionTreeClassificationModel: uid=DecisionTreeClassifier_7f0bb2d5498e, depth=14, numNodes=101, numClasses=2, numFeatures=1\n"
     ]
    },
    {
     "name": "stderr",
     "output_type": "stream",
     "text": [
      "\r",
      "[Stage 2622:==============================================>         (5 + 1) / 6]\r",
      "\r",
      "                                                                                \r"
     ]
    },
    {
     "name": "stdout",
     "output_type": "stream",
     "text": [
      "model 1 build time 6.81 \n",
      " DecisionTreeClassificationModel: uid=DecisionTreeClassifier_9f79d6f387c7, depth=14, numNodes=101, numClasses=2, numFeatures=1\n",
      "model 2 build time 6.53 \n",
      " DecisionTreeClassificationModel: uid=DecisionTreeClassifier_e1343b6a4e7a, depth=14, numNodes=101, numClasses=2, numFeatures=1\n",
      "======================================================================\n"
     ]
    },
    {
     "name": "stderr",
     "output_type": "stream",
     "text": [
      "                                                                                \r"
     ]
    },
    {
     "name": "stdout",
     "output_type": "stream",
     "text": [
      "=== size_mult=5;         n_part_req=8; n_part_act=8; df_count=1260685 ===\n",
      "\n"
     ]
    },
    {
     "name": "stderr",
     "output_type": "stream",
     "text": [
      "                                                                                \r"
     ]
    },
    {
     "name": "stdout",
     "output_type": "stream",
     "text": [
      "model 0 build time 7.87 \n",
      " DecisionTreeClassificationModel: uid=DecisionTreeClassifier_89edcc79324b, depth=14, numNodes=87, numClasses=2, numFeatures=1\n"
     ]
    },
    {
     "name": "stderr",
     "output_type": "stream",
     "text": [
      "                                                                                \r"
     ]
    },
    {
     "name": "stdout",
     "output_type": "stream",
     "text": [
      "model 1 build time 6.74 \n",
      " DecisionTreeClassificationModel: uid=DecisionTreeClassifier_17f2fcec3f84, depth=14, numNodes=87, numClasses=2, numFeatures=1\n"
     ]
    },
    {
     "name": "stderr",
     "output_type": "stream",
     "text": [
      "\r",
      "[Stage 2843:=================================================>      (7 + 1) / 8]\r",
      "\r",
      "                                                                                \r"
     ]
    },
    {
     "name": "stdout",
     "output_type": "stream",
     "text": [
      "model 2 build time 6.4 \n",
      " DecisionTreeClassificationModel: uid=DecisionTreeClassifier_ff76bce476dd, depth=14, numNodes=87, numClasses=2, numFeatures=1\n",
      "======================================================================\n"
     ]
    },
    {
     "name": "stderr",
     "output_type": "stream",
     "text": [
      "                                                                                \r"
     ]
    },
    {
     "name": "stdout",
     "output_type": "stream",
     "text": [
      "=== size_mult=5;         n_part_req=16; n_part_act=16; df_count=1260685 ===\n",
      "\n"
     ]
    },
    {
     "name": "stderr",
     "output_type": "stream",
     "text": [
      "                                                                                \r"
     ]
    },
    {
     "name": "stdout",
     "output_type": "stream",
     "text": [
      "model 0 build time 8.54 \n",
      " DecisionTreeClassificationModel: uid=DecisionTreeClassifier_7eb3b12fb4f8, depth=14, numNodes=77, numClasses=2, numFeatures=1\n"
     ]
    },
    {
     "name": "stderr",
     "output_type": "stream",
     "text": [
      "\r",
      "[Stage 2953:==============================>                        (9 + 7) / 16]\r",
      "\r",
      "                                                                                \r"
     ]
    },
    {
     "name": "stdout",
     "output_type": "stream",
     "text": [
      "model 1 build time 6.83 \n",
      " DecisionTreeClassificationModel: uid=DecisionTreeClassifier_0ac7c43cfca8, depth=14, numNodes=77, numClasses=2, numFeatures=1\n"
     ]
    },
    {
     "name": "stderr",
     "output_type": "stream",
     "text": [
      "                                                                                \r"
     ]
    },
    {
     "name": "stdout",
     "output_type": "stream",
     "text": [
      "model 2 build time 6.93 \n",
      " DecisionTreeClassificationModel: uid=DecisionTreeClassifier_296a854c2a5b, depth=14, numNodes=77, numClasses=2, numFeatures=1\n",
      "======================================================================\n"
     ]
    },
    {
     "name": "stderr",
     "output_type": "stream",
     "text": [
      "                                                                                \r"
     ]
    },
    {
     "name": "stdout",
     "output_type": "stream",
     "text": [
      "=== size_mult=5;         n_part_req=24; n_part_act=24; df_count=1260685 ===\n",
      "\n"
     ]
    },
    {
     "name": "stderr",
     "output_type": "stream",
     "text": [
      "                                                                                \r"
     ]
    },
    {
     "name": "stdout",
     "output_type": "stream",
     "text": [
      "model 0 build time 9.87 \n",
      " DecisionTreeClassificationModel: uid=DecisionTreeClassifier_85235a43eb97, depth=14, numNodes=99, numClasses=2, numFeatures=1\n"
     ]
    },
    {
     "name": "stderr",
     "output_type": "stream",
     "text": [
      "                                                                                \r"
     ]
    },
    {
     "name": "stdout",
     "output_type": "stream",
     "text": [
      "model 1 build time 7.43 \n",
      " DecisionTreeClassificationModel: uid=DecisionTreeClassifier_f7ebdea6ca35, depth=14, numNodes=99, numClasses=2, numFeatures=1\n"
     ]
    },
    {
     "name": "stderr",
     "output_type": "stream",
     "text": [
      "                                                                                \r"
     ]
    },
    {
     "name": "stdout",
     "output_type": "stream",
     "text": [
      "model 2 build time 7.21 \n",
      " DecisionTreeClassificationModel: uid=DecisionTreeClassifier_3d034a372684, depth=14, numNodes=99, numClasses=2, numFeatures=1\n",
      "======================================================================\n"
     ]
    },
    {
     "name": "stderr",
     "output_type": "stream",
     "text": [
      "                                                                                \r"
     ]
    },
    {
     "name": "stdout",
     "output_type": "stream",
     "text": [
      "=== size_mult=5;         n_part_req=32; n_part_act=32; df_count=1260685 ===\n",
      "\n"
     ]
    },
    {
     "name": "stderr",
     "output_type": "stream",
     "text": [
      "                                                                                \r"
     ]
    },
    {
     "name": "stdout",
     "output_type": "stream",
     "text": [
      "model 0 build time 8.71 \n",
      " DecisionTreeClassificationModel: uid=DecisionTreeClassifier_5b1a8f4abf6c, depth=14, numNodes=87, numClasses=2, numFeatures=1\n"
     ]
    },
    {
     "name": "stderr",
     "output_type": "stream",
     "text": [
      "\r",
      "[Stage 3290:===========================================>          (26 + 6) / 32]\r",
      "\r",
      "                                                                                \r"
     ]
    },
    {
     "name": "stdout",
     "output_type": "stream",
     "text": [
      "model 1 build time 7.7 \n",
      " DecisionTreeClassificationModel: uid=DecisionTreeClassifier_e662f75a923f, depth=14, numNodes=87, numClasses=2, numFeatures=1\n"
     ]
    },
    {
     "name": "stderr",
     "output_type": "stream",
     "text": [
      "\r",
      "[Stage 3344:====================================================> (31 + 1) / 32]\r",
      "\r",
      "                                                                                \r"
     ]
    },
    {
     "name": "stdout",
     "output_type": "stream",
     "text": [
      "model 2 build time 7.13 \n",
      " DecisionTreeClassificationModel: uid=DecisionTreeClassifier_91ccb44b5916, depth=14, numNodes=87, numClasses=2, numFeatures=1\n",
      "======================================================================\n"
     ]
    },
    {
     "name": "stderr",
     "output_type": "stream",
     "text": [
      "                                                                                \r"
     ]
    },
    {
     "name": "stdout",
     "output_type": "stream",
     "text": [
      "=== size_mult=5;         n_part_req=48; n_part_act=48; df_count=1260685 ===\n",
      "\n"
     ]
    },
    {
     "name": "stderr",
     "output_type": "stream",
     "text": [
      "                                                                                \r"
     ]
    },
    {
     "name": "stdout",
     "output_type": "stream",
     "text": [
      "model 0 build time 12.54 \n",
      " DecisionTreeClassificationModel: uid=DecisionTreeClassifier_694b70ea86fd, depth=14, numNodes=97, numClasses=2, numFeatures=1\n"
     ]
    },
    {
     "name": "stderr",
     "output_type": "stream",
     "text": [
      "                                                                                \r"
     ]
    },
    {
     "name": "stdout",
     "output_type": "stream",
     "text": [
      "model 1 build time 10.44 \n",
      " DecisionTreeClassificationModel: uid=DecisionTreeClassifier_51836a18d30c, depth=14, numNodes=97, numClasses=2, numFeatures=1\n"
     ]
    },
    {
     "name": "stderr",
     "output_type": "stream",
     "text": [
      "                                                                                \r"
     ]
    },
    {
     "name": "stdout",
     "output_type": "stream",
     "text": [
      "model 2 build time 9.94 \n",
      " DecisionTreeClassificationModel: uid=DecisionTreeClassifier_11f75143ca9a, depth=14, numNodes=97, numClasses=2, numFeatures=1\n",
      "======================================================================\n"
     ]
    },
    {
     "name": "stderr",
     "output_type": "stream",
     "text": [
      "                                                                                \r"
     ]
    },
    {
     "name": "stdout",
     "output_type": "stream",
     "text": [
      "=== size_mult=10;         n_part_req=4; n_part_act=4; df_count=2521370 ===\n",
      "\n"
     ]
    },
    {
     "name": "stderr",
     "output_type": "stream",
     "text": [
      "                                                                                \r"
     ]
    },
    {
     "name": "stdout",
     "output_type": "stream",
     "text": [
      "model 0 build time 11.52 \n",
      " DecisionTreeClassificationModel: uid=DecisionTreeClassifier_9a5f36506ba0, depth=13, numNodes=69, numClasses=2, numFeatures=1\n"
     ]
    },
    {
     "name": "stderr",
     "output_type": "stream",
     "text": [
      "                                                                                \r"
     ]
    },
    {
     "name": "stdout",
     "output_type": "stream",
     "text": [
      "model 1 build time 11.48 \n",
      " DecisionTreeClassificationModel: uid=DecisionTreeClassifier_a371841b86fc, depth=13, numNodes=69, numClasses=2, numFeatures=1\n"
     ]
    },
    {
     "name": "stderr",
     "output_type": "stream",
     "text": [
      "                                                                                \r"
     ]
    },
    {
     "name": "stdout",
     "output_type": "stream",
     "text": [
      "model 2 build time 11.99 \n",
      " DecisionTreeClassificationModel: uid=DecisionTreeClassifier_968d7853ddc0, depth=13, numNodes=69, numClasses=2, numFeatures=1\n",
      "======================================================================\n"
     ]
    },
    {
     "name": "stderr",
     "output_type": "stream",
     "text": [
      "                                                                                \r"
     ]
    },
    {
     "name": "stdout",
     "output_type": "stream",
     "text": [
      "=== size_mult=10;         n_part_req=6; n_part_act=6; df_count=2521370 ===\n",
      "\n"
     ]
    },
    {
     "name": "stderr",
     "output_type": "stream",
     "text": [
      "                                                                                \r"
     ]
    },
    {
     "name": "stdout",
     "output_type": "stream",
     "text": [
      "model 0 build time 14.82 \n",
      " DecisionTreeClassificationModel: uid=DecisionTreeClassifier_d1fe40e4fe0a, depth=14, numNodes=75, numClasses=2, numFeatures=1\n"
     ]
    },
    {
     "name": "stderr",
     "output_type": "stream",
     "text": [
      "                                                                                \r"
     ]
    },
    {
     "name": "stdout",
     "output_type": "stream",
     "text": [
      "model 1 build time 8.82 \n",
      " DecisionTreeClassificationModel: uid=DecisionTreeClassifier_bb7acb1fc836, depth=14, numNodes=75, numClasses=2, numFeatures=1\n"
     ]
    },
    {
     "name": "stderr",
     "output_type": "stream",
     "text": [
      "                                                                                \r"
     ]
    },
    {
     "name": "stdout",
     "output_type": "stream",
     "text": [
      "model 2 build time 8.44 \n",
      " DecisionTreeClassificationModel: uid=DecisionTreeClassifier_6fbbab7c7782, depth=14, numNodes=75, numClasses=2, numFeatures=1\n",
      "======================================================================\n"
     ]
    },
    {
     "name": "stderr",
     "output_type": "stream",
     "text": [
      "                                                                                \r"
     ]
    },
    {
     "name": "stdout",
     "output_type": "stream",
     "text": [
      "=== size_mult=10;         n_part_req=8; n_part_act=8; df_count=2521370 ===\n",
      "\n"
     ]
    },
    {
     "name": "stderr",
     "output_type": "stream",
     "text": [
      "                                                                                \r"
     ]
    },
    {
     "name": "stdout",
     "output_type": "stream",
     "text": [
      "model 0 build time 13.15 \n",
      " DecisionTreeClassificationModel: uid=DecisionTreeClassifier_f4dd41206bda, depth=14, numNodes=65, numClasses=2, numFeatures=1\n"
     ]
    },
    {
     "name": "stderr",
     "output_type": "stream",
     "text": [
      "                                                                                \r"
     ]
    },
    {
     "name": "stdout",
     "output_type": "stream",
     "text": [
      "model 1 build time 8.79 \n",
      " DecisionTreeClassificationModel: uid=DecisionTreeClassifier_43ad7fa51c11, depth=14, numNodes=65, numClasses=2, numFeatures=1\n"
     ]
    },
    {
     "name": "stderr",
     "output_type": "stream",
     "text": [
      "                                                                                \r"
     ]
    },
    {
     "name": "stdout",
     "output_type": "stream",
     "text": [
      "model 2 build time 8.3 \n",
      " DecisionTreeClassificationModel: uid=DecisionTreeClassifier_a0fbf6443323, depth=14, numNodes=65, numClasses=2, numFeatures=1\n",
      "======================================================================\n"
     ]
    },
    {
     "name": "stderr",
     "output_type": "stream",
     "text": [
      "                                                                                \r"
     ]
    },
    {
     "name": "stdout",
     "output_type": "stream",
     "text": [
      "=== size_mult=10;         n_part_req=16; n_part_act=16; df_count=2521370 ===\n",
      "\n"
     ]
    },
    {
     "name": "stderr",
     "output_type": "stream",
     "text": [
      "                                                                                \r"
     ]
    },
    {
     "name": "stdout",
     "output_type": "stream",
     "text": [
      "model 0 build time 11.96 \n",
      " DecisionTreeClassificationModel: uid=DecisionTreeClassifier_f30a6d2fd1e1, depth=14, numNodes=61, numClasses=2, numFeatures=1\n"
     ]
    },
    {
     "name": "stderr",
     "output_type": "stream",
     "text": [
      "                                                                                \r"
     ]
    },
    {
     "name": "stdout",
     "output_type": "stream",
     "text": [
      "model 1 build time 7.21 \n",
      " DecisionTreeClassificationModel: uid=DecisionTreeClassifier_2d575c745003, depth=14, numNodes=61, numClasses=2, numFeatures=1\n",
      "model 2 build time 6.5 \n",
      " DecisionTreeClassificationModel: uid=DecisionTreeClassifier_c8872d24421c, depth=14, numNodes=61, numClasses=2, numFeatures=1\n",
      "======================================================================\n"
     ]
    },
    {
     "name": "stderr",
     "output_type": "stream",
     "text": [
      "                                                                                \r"
     ]
    },
    {
     "name": "stdout",
     "output_type": "stream",
     "text": [
      "=== size_mult=10;         n_part_req=24; n_part_act=24; df_count=2521370 ===\n",
      "\n"
     ]
    },
    {
     "name": "stderr",
     "output_type": "stream",
     "text": [
      "                                                                                \r"
     ]
    },
    {
     "name": "stdout",
     "output_type": "stream",
     "text": [
      "model 0 build time 9.47 \n",
      " DecisionTreeClassificationModel: uid=DecisionTreeClassifier_e2e2236a20c9, depth=14, numNodes=75, numClasses=2, numFeatures=1\n"
     ]
    },
    {
     "name": "stderr",
     "output_type": "stream",
     "text": [
      "\r",
      "[Stage 4286:===================================================>  (23 + 1) / 24]\r",
      "\r",
      "                                                                                \r"
     ]
    },
    {
     "name": "stdout",
     "output_type": "stream",
     "text": [
      "model 1 build time 7.46 \n",
      " DecisionTreeClassificationModel: uid=DecisionTreeClassifier_a92b0385d985, depth=14, numNodes=75, numClasses=2, numFeatures=1\n"
     ]
    },
    {
     "name": "stderr",
     "output_type": "stream",
     "text": [
      "                                                                                \r"
     ]
    },
    {
     "name": "stdout",
     "output_type": "stream",
     "text": [
      "model 2 build time 7.31 \n",
      " DecisionTreeClassificationModel: uid=DecisionTreeClassifier_c83d7e799d3b, depth=14, numNodes=75, numClasses=2, numFeatures=1\n",
      "======================================================================\n"
     ]
    },
    {
     "name": "stderr",
     "output_type": "stream",
     "text": [
      "                                                                                \r"
     ]
    },
    {
     "name": "stdout",
     "output_type": "stream",
     "text": [
      "=== size_mult=10;         n_part_req=32; n_part_act=32; df_count=2521370 ===\n",
      "\n"
     ]
    },
    {
     "name": "stderr",
     "output_type": "stream",
     "text": [
      "                                                                                \r"
     ]
    },
    {
     "name": "stdout",
     "output_type": "stream",
     "text": [
      "model 0 build time 11.43 \n",
      " DecisionTreeClassificationModel: uid=DecisionTreeClassifier_eb41dac0fd95, depth=13, numNodes=51, numClasses=2, numFeatures=1\n"
     ]
    },
    {
     "name": "stderr",
     "output_type": "stream",
     "text": [
      "\r",
      "[Stage 4459:========================>                            (15 + 17) / 32]\r",
      "\r",
      "                                                                                \r"
     ]
    },
    {
     "name": "stdout",
     "output_type": "stream",
     "text": [
      "model 1 build time 7.56 \n",
      " DecisionTreeClassificationModel: uid=DecisionTreeClassifier_ed80d464aa2b, depth=13, numNodes=51, numClasses=2, numFeatures=1\n"
     ]
    },
    {
     "name": "stderr",
     "output_type": "stream",
     "text": [
      "                                                                                \r"
     ]
    },
    {
     "name": "stdout",
     "output_type": "stream",
     "text": [
      "model 2 build time 7.8 \n",
      " DecisionTreeClassificationModel: uid=DecisionTreeClassifier_6785d34d6028, depth=13, numNodes=51, numClasses=2, numFeatures=1\n",
      "======================================================================\n"
     ]
    },
    {
     "name": "stderr",
     "output_type": "stream",
     "text": [
      "                                                                                \r"
     ]
    },
    {
     "name": "stdout",
     "output_type": "stream",
     "text": [
      "=== size_mult=10;         n_part_req=48; n_part_act=48; df_count=2521370 ===\n",
      "\n"
     ]
    },
    {
     "name": "stderr",
     "output_type": "stream",
     "text": [
      "                                                                                \r"
     ]
    },
    {
     "name": "stdout",
     "output_type": "stream",
     "text": [
      "model 0 build time 11.91 \n",
      " DecisionTreeClassificationModel: uid=DecisionTreeClassifier_bcff4fbb881d, depth=14, numNodes=67, numClasses=2, numFeatures=1\n",
      "model 1 build time 7.44 \n",
      " DecisionTreeClassificationModel: uid=DecisionTreeClassifier_e6788bd67c0a, depth=14, numNodes=67, numClasses=2, numFeatures=1\n"
     ]
    },
    {
     "name": "stderr",
     "output_type": "stream",
     "text": [
      "                                                                                \r"
     ]
    },
    {
     "name": "stdout",
     "output_type": "stream",
     "text": [
      "model 2 build time 7.95 \n",
      " DecisionTreeClassificationModel: uid=DecisionTreeClassifier_1b6a98bb3612, depth=14, numNodes=67, numClasses=2, numFeatures=1\n",
      "======================================================================\n"
     ]
    },
    {
     "name": "stderr",
     "output_type": "stream",
     "text": [
      "                                                                                \r"
     ]
    },
    {
     "name": "stdout",
     "output_type": "stream",
     "text": [
      "=== size_mult=15;         n_part_req=4; n_part_act=4; df_count=3782055 ===\n",
      "\n"
     ]
    },
    {
     "name": "stderr",
     "output_type": "stream",
     "text": [
      "                                                                                \r"
     ]
    },
    {
     "name": "stdout",
     "output_type": "stream",
     "text": [
      "model 0 build time 13.8 \n",
      " DecisionTreeClassificationModel: uid=DecisionTreeClassifier_0a66b58b6fc7, depth=13, numNodes=69, numClasses=2, numFeatures=1\n"
     ]
    },
    {
     "name": "stderr",
     "output_type": "stream",
     "text": [
      "                                                                                \r"
     ]
    },
    {
     "name": "stdout",
     "output_type": "stream",
     "text": [
      "model 1 build time 16.35 \n",
      " DecisionTreeClassificationModel: uid=DecisionTreeClassifier_8776b9424a1b, depth=13, numNodes=69, numClasses=2, numFeatures=1\n"
     ]
    },
    {
     "name": "stderr",
     "output_type": "stream",
     "text": [
      "                                                                                \r"
     ]
    },
    {
     "name": "stdout",
     "output_type": "stream",
     "text": [
      "model 2 build time 15.65 \n",
      " DecisionTreeClassificationModel: uid=DecisionTreeClassifier_da43b38ddf2d, depth=13, numNodes=69, numClasses=2, numFeatures=1\n",
      "======================================================================\n"
     ]
    },
    {
     "name": "stderr",
     "output_type": "stream",
     "text": [
      "                                                                                \r"
     ]
    },
    {
     "name": "stdout",
     "output_type": "stream",
     "text": [
      "=== size_mult=15;         n_part_req=6; n_part_act=6; df_count=3782055 ===\n",
      "\n"
     ]
    },
    {
     "name": "stderr",
     "output_type": "stream",
     "text": [
      "                                                                                \r"
     ]
    },
    {
     "name": "stdout",
     "output_type": "stream",
     "text": [
      "model 0 build time 16.23 \n",
      " DecisionTreeClassificationModel: uid=DecisionTreeClassifier_fc78d1dd7b6e, depth=14, numNodes=63, numClasses=2, numFeatures=1\n"
     ]
    },
    {
     "name": "stderr",
     "output_type": "stream",
     "text": [
      "                                                                                \r"
     ]
    },
    {
     "name": "stdout",
     "output_type": "stream",
     "text": [
      "model 1 build time 12.55 \n",
      " DecisionTreeClassificationModel: uid=DecisionTreeClassifier_0d3164afcb8a, depth=14, numNodes=63, numClasses=2, numFeatures=1\n"
     ]
    },
    {
     "name": "stderr",
     "output_type": "stream",
     "text": [
      "                                                                                \r"
     ]
    },
    {
     "name": "stdout",
     "output_type": "stream",
     "text": [
      "model 2 build time 11.86 \n",
      " DecisionTreeClassificationModel: uid=DecisionTreeClassifier_306c744c2601, depth=14, numNodes=63, numClasses=2, numFeatures=1\n",
      "======================================================================\n"
     ]
    },
    {
     "name": "stderr",
     "output_type": "stream",
     "text": [
      "                                                                                \r"
     ]
    },
    {
     "name": "stdout",
     "output_type": "stream",
     "text": [
      "=== size_mult=15;         n_part_req=8; n_part_act=8; df_count=3782055 ===\n",
      "\n"
     ]
    },
    {
     "name": "stderr",
     "output_type": "stream",
     "text": [
      "                                                                                \r"
     ]
    },
    {
     "name": "stdout",
     "output_type": "stream",
     "text": [
      "model 0 build time 12.51 \n",
      " DecisionTreeClassificationModel: uid=DecisionTreeClassifier_8d5014484c89, depth=14, numNodes=77, numClasses=2, numFeatures=1\n"
     ]
    },
    {
     "name": "stderr",
     "output_type": "stream",
     "text": [
      "                                                                                \r"
     ]
    },
    {
     "name": "stdout",
     "output_type": "stream",
     "text": [
      "model 1 build time 9.95 \n",
      " DecisionTreeClassificationModel: uid=DecisionTreeClassifier_6c32b7d9db8d, depth=14, numNodes=77, numClasses=2, numFeatures=1\n"
     ]
    },
    {
     "name": "stderr",
     "output_type": "stream",
     "text": [
      "                                                                                \r"
     ]
    },
    {
     "name": "stdout",
     "output_type": "stream",
     "text": [
      "model 2 build time 9.1 \n",
      " DecisionTreeClassificationModel: uid=DecisionTreeClassifier_c00ec1a9dd09, depth=14, numNodes=77, numClasses=2, numFeatures=1\n",
      "======================================================================\n"
     ]
    },
    {
     "name": "stderr",
     "output_type": "stream",
     "text": [
      "                                                                                \r"
     ]
    },
    {
     "name": "stdout",
     "output_type": "stream",
     "text": [
      "=== size_mult=15;         n_part_req=16; n_part_act=16; df_count=3782055 ===\n",
      "\n"
     ]
    },
    {
     "name": "stderr",
     "output_type": "stream",
     "text": [
      "                                                                                \r"
     ]
    },
    {
     "name": "stdout",
     "output_type": "stream",
     "text": [
      "model 0 build time 10.57 \n",
      " DecisionTreeClassificationModel: uid=DecisionTreeClassifier_df64a006283e, depth=11, numNodes=51, numClasses=2, numFeatures=1\n"
     ]
    },
    {
     "name": "stderr",
     "output_type": "stream",
     "text": [
      "\r",
      "[Stage 5291:==================================================>   (15 + 1) / 16]\r",
      "\r",
      "                                                                                \r"
     ]
    },
    {
     "name": "stdout",
     "output_type": "stream",
     "text": [
      "model 1 build time 7.45 \n",
      " DecisionTreeClassificationModel: uid=DecisionTreeClassifier_ed3f908c6df7, depth=11, numNodes=51, numClasses=2, numFeatures=1\n"
     ]
    },
    {
     "name": "stderr",
     "output_type": "stream",
     "text": [
      "                                                                                \r"
     ]
    },
    {
     "name": "stdout",
     "output_type": "stream",
     "text": [
      "model 2 build time 7.87 \n",
      " DecisionTreeClassificationModel: uid=DecisionTreeClassifier_1f4d074555e5, depth=11, numNodes=51, numClasses=2, numFeatures=1\n",
      "======================================================================\n"
     ]
    },
    {
     "name": "stderr",
     "output_type": "stream",
     "text": [
      "                                                                                \r"
     ]
    },
    {
     "name": "stdout",
     "output_type": "stream",
     "text": [
      "=== size_mult=15;         n_part_req=24; n_part_act=24; df_count=3782055 ===\n",
      "\n"
     ]
    },
    {
     "name": "stderr",
     "output_type": "stream",
     "text": [
      "                                                                                \r"
     ]
    },
    {
     "name": "stdout",
     "output_type": "stream",
     "text": [
      "model 0 build time 10.24 \n",
      " DecisionTreeClassificationModel: uid=DecisionTreeClassifier_418ee91b05f7, depth=11, numNodes=35, numClasses=2, numFeatures=1\n"
     ]
    },
    {
     "name": "stderr",
     "output_type": "stream",
     "text": [
      "                                                                                \r"
     ]
    },
    {
     "name": "stdout",
     "output_type": "stream",
     "text": [
      "model 1 build time 7.55 \n",
      " DecisionTreeClassificationModel: uid=DecisionTreeClassifier_b5a52fe23166, depth=11, numNodes=35, numClasses=2, numFeatures=1\n"
     ]
    },
    {
     "name": "stderr",
     "output_type": "stream",
     "text": [
      "\r",
      "[Stage 5515:=================================================>    (22 + 2) / 24]\r",
      "\r",
      "                                                                                \r"
     ]
    },
    {
     "name": "stdout",
     "output_type": "stream",
     "text": [
      "model 2 build time 6.9 \n",
      " DecisionTreeClassificationModel: uid=DecisionTreeClassifier_9d664211f742, depth=11, numNodes=35, numClasses=2, numFeatures=1\n",
      "======================================================================\n"
     ]
    },
    {
     "name": "stderr",
     "output_type": "stream",
     "text": [
      "                                                                                \r"
     ]
    },
    {
     "name": "stdout",
     "output_type": "stream",
     "text": [
      "=== size_mult=15;         n_part_req=32; n_part_act=32; df_count=3782055 ===\n",
      "\n",
      "model 0 build time 7.65 \n",
      " DecisionTreeClassificationModel: uid=DecisionTreeClassifier_ff137cddcfcb, depth=14, numNodes=61, numClasses=2, numFeatures=1\n"
     ]
    },
    {
     "name": "stderr",
     "output_type": "stream",
     "text": [
      "                                                                                \r"
     ]
    },
    {
     "name": "stdout",
     "output_type": "stream",
     "text": [
      "model 1 build time 6.8 \n",
      " DecisionTreeClassificationModel: uid=DecisionTreeClassifier_910c55b4897b, depth=14, numNodes=61, numClasses=2, numFeatures=1\n",
      "model 2 build time 6.3 \n",
      " DecisionTreeClassificationModel: uid=DecisionTreeClassifier_abe01a0f0b8c, depth=14, numNodes=61, numClasses=2, numFeatures=1\n",
      "======================================================================\n"
     ]
    },
    {
     "name": "stderr",
     "output_type": "stream",
     "text": [
      "                                                                                \r"
     ]
    },
    {
     "name": "stdout",
     "output_type": "stream",
     "text": [
      "=== size_mult=15;         n_part_req=48; n_part_act=48; df_count=3782055 ===\n",
      "\n"
     ]
    },
    {
     "name": "stderr",
     "output_type": "stream",
     "text": [
      "                                                                                \r"
     ]
    },
    {
     "name": "stdout",
     "output_type": "stream",
     "text": [
      "model 0 build time 9.6 \n",
      " DecisionTreeClassificationModel: uid=DecisionTreeClassifier_81850f55e9d2, depth=13, numNodes=53, numClasses=2, numFeatures=1\n"
     ]
    },
    {
     "name": "stderr",
     "output_type": "stream",
     "text": [
      "                                                                                \r"
     ]
    },
    {
     "name": "stdout",
     "output_type": "stream",
     "text": [
      "model 1 build time 9.2 \n",
      " DecisionTreeClassificationModel: uid=DecisionTreeClassifier_40a89c292bba, depth=13, numNodes=53, numClasses=2, numFeatures=1\n"
     ]
    },
    {
     "name": "stderr",
     "output_type": "stream",
     "text": [
      "                                                                                \r"
     ]
    },
    {
     "name": "stdout",
     "output_type": "stream",
     "text": [
      "model 2 build time 8.3 \n",
      " DecisionTreeClassificationModel: uid=DecisionTreeClassifier_d754e7caef93, depth=13, numNodes=53, numClasses=2, numFeatures=1\n",
      "======================================================================\n"
     ]
    },
    {
     "name": "stderr",
     "output_type": "stream",
     "text": [
      "                                                                                \r"
     ]
    },
    {
     "name": "stdout",
     "output_type": "stream",
     "text": [
      "=== size_mult=20;         n_part_req=4; n_part_act=4; df_count=5042740 ===\n",
      "\n"
     ]
    },
    {
     "name": "stderr",
     "output_type": "stream",
     "text": [
      "                                                                                \r"
     ]
    },
    {
     "name": "stdout",
     "output_type": "stream",
     "text": [
      "model 0 build time 16.38 \n",
      " DecisionTreeClassificationModel: uid=DecisionTreeClassifier_4b21321c5352, depth=11, numNodes=35, numClasses=2, numFeatures=1\n"
     ]
    },
    {
     "name": "stderr",
     "output_type": "stream",
     "text": [
      "                                                                                \r"
     ]
    },
    {
     "name": "stdout",
     "output_type": "stream",
     "text": [
      "model 1 build time 15.69 \n",
      " DecisionTreeClassificationModel: uid=DecisionTreeClassifier_6da3d3bbe25e, depth=11, numNodes=35, numClasses=2, numFeatures=1\n"
     ]
    },
    {
     "name": "stderr",
     "output_type": "stream",
     "text": [
      "                                                                                \r"
     ]
    },
    {
     "name": "stdout",
     "output_type": "stream",
     "text": [
      "model 2 build time 14.75 \n",
      " DecisionTreeClassificationModel: uid=DecisionTreeClassifier_4130ab46842f, depth=11, numNodes=35, numClasses=2, numFeatures=1\n",
      "======================================================================\n"
     ]
    },
    {
     "name": "stderr",
     "output_type": "stream",
     "text": [
      "                                                                                \r"
     ]
    },
    {
     "name": "stdout",
     "output_type": "stream",
     "text": [
      "=== size_mult=20;         n_part_req=6; n_part_act=6; df_count=5042740 ===\n",
      "\n"
     ]
    },
    {
     "name": "stderr",
     "output_type": "stream",
     "text": [
      "                                                                                \r"
     ]
    },
    {
     "name": "stdout",
     "output_type": "stream",
     "text": [
      "model 0 build time 12.79 \n",
      " DecisionTreeClassificationModel: uid=DecisionTreeClassifier_6624d30001f4, depth=13, numNodes=57, numClasses=2, numFeatures=1\n"
     ]
    },
    {
     "name": "stderr",
     "output_type": "stream",
     "text": [
      "                                                                                \r"
     ]
    },
    {
     "name": "stdout",
     "output_type": "stream",
     "text": [
      "model 1 build time 12.77 \n",
      " DecisionTreeClassificationModel: uid=DecisionTreeClassifier_5f3c3abd9c69, depth=13, numNodes=57, numClasses=2, numFeatures=1\n"
     ]
    },
    {
     "name": "stderr",
     "output_type": "stream",
     "text": [
      "                                                                                \r"
     ]
    },
    {
     "name": "stdout",
     "output_type": "stream",
     "text": [
      "model 2 build time 13.03 \n",
      " DecisionTreeClassificationModel: uid=DecisionTreeClassifier_5489d90d67f0, depth=13, numNodes=57, numClasses=2, numFeatures=1\n",
      "======================================================================\n"
     ]
    },
    {
     "name": "stderr",
     "output_type": "stream",
     "text": [
      "                                                                                \r"
     ]
    },
    {
     "name": "stdout",
     "output_type": "stream",
     "text": [
      "=== size_mult=20;         n_part_req=8; n_part_act=8; df_count=5042740 ===\n",
      "\n"
     ]
    },
    {
     "name": "stderr",
     "output_type": "stream",
     "text": [
      "                                                                                \r"
     ]
    },
    {
     "name": "stdout",
     "output_type": "stream",
     "text": [
      "model 0 build time 11.59 \n",
      " DecisionTreeClassificationModel: uid=DecisionTreeClassifier_2e59ebc42db2, depth=14, numNodes=57, numClasses=2, numFeatures=1\n"
     ]
    },
    {
     "name": "stderr",
     "output_type": "stream",
     "text": [
      "                                                                                \r"
     ]
    },
    {
     "name": "stdout",
     "output_type": "stream",
     "text": [
      "model 1 build time 10.01 \n",
      " DecisionTreeClassificationModel: uid=DecisionTreeClassifier_d0c7347823de, depth=14, numNodes=57, numClasses=2, numFeatures=1\n"
     ]
    },
    {
     "name": "stderr",
     "output_type": "stream",
     "text": [
      "                                                                                \r"
     ]
    },
    {
     "name": "stdout",
     "output_type": "stream",
     "text": [
      "model 2 build time 10.44 \n",
      " DecisionTreeClassificationModel: uid=DecisionTreeClassifier_65a67ab76778, depth=14, numNodes=57, numClasses=2, numFeatures=1\n",
      "======================================================================\n"
     ]
    },
    {
     "name": "stderr",
     "output_type": "stream",
     "text": [
      "                                                                                \r"
     ]
    },
    {
     "name": "stdout",
     "output_type": "stream",
     "text": [
      "=== size_mult=20;         n_part_req=16; n_part_act=16; df_count=5042740 ===\n",
      "\n"
     ]
    },
    {
     "name": "stderr",
     "output_type": "stream",
     "text": [
      "                                                                                \r"
     ]
    },
    {
     "name": "stdout",
     "output_type": "stream",
     "text": [
      "model 0 build time 8.96 \n",
      " DecisionTreeClassificationModel: uid=DecisionTreeClassifier_d489f13c1fe6, depth=12, numNodes=39, numClasses=2, numFeatures=1\n"
     ]
    },
    {
     "name": "stderr",
     "output_type": "stream",
     "text": [
      "\r",
      "[Stage 6460:==================================================>   (15 + 1) / 16]\r",
      "\r",
      "                                                                                \r"
     ]
    },
    {
     "name": "stdout",
     "output_type": "stream",
     "text": [
      "model 1 build time 8.11 \n",
      " DecisionTreeClassificationModel: uid=DecisionTreeClassifier_fb14d55ade8a, depth=12, numNodes=39, numClasses=2, numFeatures=1\n"
     ]
    },
    {
     "name": "stderr",
     "output_type": "stream",
     "text": [
      "                                                                                \r"
     ]
    },
    {
     "name": "stdout",
     "output_type": "stream",
     "text": [
      "model 2 build time 8.28 \n",
      " DecisionTreeClassificationModel: uid=DecisionTreeClassifier_202b29d9171e, depth=12, numNodes=39, numClasses=2, numFeatures=1\n",
      "======================================================================\n"
     ]
    },
    {
     "name": "stderr",
     "output_type": "stream",
     "text": [
      "                                                                                \r"
     ]
    },
    {
     "name": "stdout",
     "output_type": "stream",
     "text": [
      "=== size_mult=20;         n_part_req=24; n_part_act=24; df_count=5042740 ===\n",
      "\n"
     ]
    },
    {
     "name": "stderr",
     "output_type": "stream",
     "text": [
      "                                                                                \r"
     ]
    },
    {
     "name": "stdout",
     "output_type": "stream",
     "text": [
      "model 0 build time 9.56 \n",
      " DecisionTreeClassificationModel: uid=DecisionTreeClassifier_9392bebae21f, depth=11, numNodes=35, numClasses=2, numFeatures=1\n"
     ]
    },
    {
     "name": "stderr",
     "output_type": "stream",
     "text": [
      "\r",
      "[Stage 6618:===================================================>  (23 + 1) / 24]\r",
      "\r",
      "                                                                                \r"
     ]
    },
    {
     "name": "stdout",
     "output_type": "stream",
     "text": [
      "model 1 build time 7.42 \n",
      " DecisionTreeClassificationModel: uid=DecisionTreeClassifier_a7538e33e642, depth=11, numNodes=35, numClasses=2, numFeatures=1\n",
      "model 2 build time 7.19 \n",
      " DecisionTreeClassificationModel: uid=DecisionTreeClassifier_bec9573a93c9, depth=11, numNodes=35, numClasses=2, numFeatures=1\n",
      "======================================================================\n"
     ]
    },
    {
     "name": "stderr",
     "output_type": "stream",
     "text": [
      "                                                                                \r"
     ]
    },
    {
     "name": "stdout",
     "output_type": "stream",
     "text": [
      "=== size_mult=20;         n_part_req=32; n_part_act=32; df_count=5042740 ===\n",
      "\n"
     ]
    },
    {
     "name": "stderr",
     "output_type": "stream",
     "text": [
      "                                                                                \r"
     ]
    },
    {
     "name": "stdout",
     "output_type": "stream",
     "text": [
      "model 0 build time 8.02 \n",
      " DecisionTreeClassificationModel: uid=DecisionTreeClassifier_12becaece802, depth=13, numNodes=53, numClasses=2, numFeatures=1\n"
     ]
    },
    {
     "name": "stderr",
     "output_type": "stream",
     "text": [
      "\r",
      "[Stage 6791:====================================================> (31 + 1) / 32]\r",
      "\r",
      "                                                                                \r"
     ]
    },
    {
     "name": "stdout",
     "output_type": "stream",
     "text": [
      "model 1 build time 6.59 \n",
      " DecisionTreeClassificationModel: uid=DecisionTreeClassifier_33867aa19dc6, depth=13, numNodes=53, numClasses=2, numFeatures=1\n",
      "model 2 build time 6.32 \n",
      " DecisionTreeClassificationModel: uid=DecisionTreeClassifier_8b011409723a, depth=13, numNodes=53, numClasses=2, numFeatures=1\n",
      "======================================================================\n"
     ]
    },
    {
     "name": "stderr",
     "output_type": "stream",
     "text": [
      "                                                                                \r"
     ]
    },
    {
     "name": "stdout",
     "output_type": "stream",
     "text": [
      "=== size_mult=20;         n_part_req=48; n_part_act=48; df_count=5042740 ===\n",
      "\n"
     ]
    },
    {
     "name": "stderr",
     "output_type": "stream",
     "text": [
      "                                                                                \r"
     ]
    },
    {
     "name": "stdout",
     "output_type": "stream",
     "text": [
      "model 0 build time 10.69 \n",
      " DecisionTreeClassificationModel: uid=DecisionTreeClassifier_8f189d680596, depth=14, numNodes=73, numClasses=2, numFeatures=1\n"
     ]
    },
    {
     "name": "stderr",
     "output_type": "stream",
     "text": [
      "                                                                                \r"
     ]
    },
    {
     "name": "stdout",
     "output_type": "stream",
     "text": [
      "model 1 build time 7.89 \n",
      " DecisionTreeClassificationModel: uid=DecisionTreeClassifier_6b7467c851ed, depth=14, numNodes=73, numClasses=2, numFeatures=1\n"
     ]
    },
    {
     "name": "stderr",
     "output_type": "stream",
     "text": [
      "                                                                                \r"
     ]
    },
    {
     "name": "stdout",
     "output_type": "stream",
     "text": [
      "model 2 build time 8.77 \n",
      " DecisionTreeClassificationModel: uid=DecisionTreeClassifier_aa491281a983, depth=14, numNodes=73, numClasses=2, numFeatures=1\n",
      "======================================================================\n"
     ]
    },
    {
     "name": "stderr",
     "output_type": "stream",
     "text": [
      "                                                                                \r"
     ]
    },
    {
     "name": "stdout",
     "output_type": "stream",
     "text": [
      "=== size_mult=30;         n_part_req=4; n_part_act=4; df_count=7564110 ===\n",
      "\n"
     ]
    },
    {
     "name": "stderr",
     "output_type": "stream",
     "text": [
      "                                                                                \r"
     ]
    },
    {
     "name": "stdout",
     "output_type": "stream",
     "text": [
      "model 0 build time 22.97 \n",
      " DecisionTreeClassificationModel: uid=DecisionTreeClassifier_7b3962690bce, depth=14, numNodes=49, numClasses=2, numFeatures=1\n"
     ]
    },
    {
     "name": "stderr",
     "output_type": "stream",
     "text": [
      "                                                                                \r"
     ]
    },
    {
     "name": "stdout",
     "output_type": "stream",
     "text": [
      "model 1 build time 24.97 \n",
      " DecisionTreeClassificationModel: uid=DecisionTreeClassifier_3a73c4a4a76c, depth=14, numNodes=49, numClasses=2, numFeatures=1\n"
     ]
    },
    {
     "name": "stderr",
     "output_type": "stream",
     "text": [
      "                                                                                \r"
     ]
    },
    {
     "name": "stdout",
     "output_type": "stream",
     "text": [
      "model 2 build time 20.53 \n",
      " DecisionTreeClassificationModel: uid=DecisionTreeClassifier_2447abbc3ef6, depth=14, numNodes=49, numClasses=2, numFeatures=1\n",
      "======================================================================\n"
     ]
    },
    {
     "name": "stderr",
     "output_type": "stream",
     "text": [
      "                                                                                \r"
     ]
    },
    {
     "name": "stdout",
     "output_type": "stream",
     "text": [
      "=== size_mult=30;         n_part_req=6; n_part_act=6; df_count=7564110 ===\n",
      "\n"
     ]
    },
    {
     "name": "stderr",
     "output_type": "stream",
     "text": [
      "                                                                                \r"
     ]
    },
    {
     "name": "stdout",
     "output_type": "stream",
     "text": [
      "model 0 build time 15.97 \n",
      " DecisionTreeClassificationModel: uid=DecisionTreeClassifier_d3302f76874e, depth=11, numNodes=31, numClasses=2, numFeatures=1\n"
     ]
    },
    {
     "name": "stderr",
     "output_type": "stream",
     "text": [
      "                                                                                \r"
     ]
    },
    {
     "name": "stdout",
     "output_type": "stream",
     "text": [
      "model 1 build time 15.69 \n",
      " DecisionTreeClassificationModel: uid=DecisionTreeClassifier_6398dfe580fc, depth=11, numNodes=31, numClasses=2, numFeatures=1\n"
     ]
    },
    {
     "name": "stderr",
     "output_type": "stream",
     "text": [
      "                                                                                \r"
     ]
    },
    {
     "name": "stdout",
     "output_type": "stream",
     "text": [
      "model 2 build time 15.94 \n",
      " DecisionTreeClassificationModel: uid=DecisionTreeClassifier_dfcd1fa795d2, depth=11, numNodes=31, numClasses=2, numFeatures=1\n",
      "======================================================================\n"
     ]
    },
    {
     "name": "stderr",
     "output_type": "stream",
     "text": [
      "                                                                                \r"
     ]
    },
    {
     "name": "stdout",
     "output_type": "stream",
     "text": [
      "=== size_mult=30;         n_part_req=8; n_part_act=8; df_count=7564110 ===\n",
      "\n"
     ]
    },
    {
     "name": "stderr",
     "output_type": "stream",
     "text": [
      "                                                                                \r"
     ]
    },
    {
     "name": "stdout",
     "output_type": "stream",
     "text": [
      "model 0 build time 15.12 \n",
      " DecisionTreeClassificationModel: uid=DecisionTreeClassifier_42c238a4c69e, depth=14, numNodes=79, numClasses=2, numFeatures=1\n"
     ]
    },
    {
     "name": "stderr",
     "output_type": "stream",
     "text": [
      "                                                                                \r"
     ]
    },
    {
     "name": "stdout",
     "output_type": "stream",
     "text": [
      "model 1 build time 13.89 \n",
      " DecisionTreeClassificationModel: uid=DecisionTreeClassifier_b75b58a4f2dc, depth=14, numNodes=79, numClasses=2, numFeatures=1\n"
     ]
    },
    {
     "name": "stderr",
     "output_type": "stream",
     "text": [
      "                                                                                \r"
     ]
    },
    {
     "name": "stdout",
     "output_type": "stream",
     "text": [
      "model 2 build time 13.34 \n",
      " DecisionTreeClassificationModel: uid=DecisionTreeClassifier_5e23b01e73a3, depth=14, numNodes=79, numClasses=2, numFeatures=1\n",
      "======================================================================\n"
     ]
    },
    {
     "name": "stderr",
     "output_type": "stream",
     "text": [
      "                                                                                \r"
     ]
    },
    {
     "name": "stdout",
     "output_type": "stream",
     "text": [
      "=== size_mult=30;         n_part_req=16; n_part_act=16; df_count=7564110 ===\n",
      "\n"
     ]
    },
    {
     "name": "stderr",
     "output_type": "stream",
     "text": [
      "                                                                                \r"
     ]
    },
    {
     "name": "stdout",
     "output_type": "stream",
     "text": [
      "model 0 build time 12.21 \n",
      " DecisionTreeClassificationModel: uid=DecisionTreeClassifier_def04af76438, depth=14, numNodes=61, numClasses=2, numFeatures=1\n"
     ]
    },
    {
     "name": "stderr",
     "output_type": "stream",
     "text": [
      "                                                                                \r"
     ]
    },
    {
     "name": "stdout",
     "output_type": "stream",
     "text": [
      "model 1 build time 9.26 \n",
      " DecisionTreeClassificationModel: uid=DecisionTreeClassifier_ed9dded815b6, depth=14, numNodes=61, numClasses=2, numFeatures=1\n"
     ]
    },
    {
     "name": "stderr",
     "output_type": "stream",
     "text": [
      "                                                                                \r"
     ]
    },
    {
     "name": "stdout",
     "output_type": "stream",
     "text": [
      "model 2 build time 9.62 \n",
      " DecisionTreeClassificationModel: uid=DecisionTreeClassifier_3cadd61107b8, depth=14, numNodes=61, numClasses=2, numFeatures=1\n",
      "======================================================================\n"
     ]
    },
    {
     "name": "stderr",
     "output_type": "stream",
     "text": [
      "                                                                                \r"
     ]
    },
    {
     "name": "stdout",
     "output_type": "stream",
     "text": [
      "=== size_mult=30;         n_part_req=24; n_part_act=24; df_count=7564110 ===\n",
      "\n"
     ]
    },
    {
     "name": "stderr",
     "output_type": "stream",
     "text": [
      "                                                                                \r"
     ]
    },
    {
     "name": "stdout",
     "output_type": "stream",
     "text": [
      "model 0 build time 9.28 \n",
      " DecisionTreeClassificationModel: uid=DecisionTreeClassifier_036ecf16432d, depth=12, numNodes=35, numClasses=2, numFeatures=1\n"
     ]
    },
    {
     "name": "stderr",
     "output_type": "stream",
     "text": [
      "                                                                                \r"
     ]
    },
    {
     "name": "stdout",
     "output_type": "stream",
     "text": [
      "model 1 build time 8.82 \n",
      " DecisionTreeClassificationModel: uid=DecisionTreeClassifier_1afec2cf6264, depth=12, numNodes=35, numClasses=2, numFeatures=1\n",
      "model 2 build time 7.56 \n",
      " DecisionTreeClassificationModel: uid=DecisionTreeClassifier_50b53c895e87, depth=12, numNodes=35, numClasses=2, numFeatures=1\n",
      "======================================================================\n"
     ]
    },
    {
     "name": "stderr",
     "output_type": "stream",
     "text": [
      "                                                                                \r"
     ]
    },
    {
     "name": "stdout",
     "output_type": "stream",
     "text": [
      "=== size_mult=30;         n_part_req=32; n_part_act=32; df_count=7564110 ===\n",
      "\n"
     ]
    },
    {
     "name": "stderr",
     "output_type": "stream",
     "text": [
      "                                                                                \r"
     ]
    },
    {
     "name": "stdout",
     "output_type": "stream",
     "text": [
      "model 0 build time 8.04 \n",
      " DecisionTreeClassificationModel: uid=DecisionTreeClassifier_c0821e14c5e1, depth=13, numNodes=59, numClasses=2, numFeatures=1\n"
     ]
    },
    {
     "name": "stderr",
     "output_type": "stream",
     "text": [
      "                                                                                \r"
     ]
    },
    {
     "name": "stdout",
     "output_type": "stream",
     "text": [
      "model 1 build time 7.9 \n",
      " DecisionTreeClassificationModel: uid=DecisionTreeClassifier_27c452759cd5, depth=13, numNodes=59, numClasses=2, numFeatures=1\n",
      "model 2 build time 7.06 \n",
      " DecisionTreeClassificationModel: uid=DecisionTreeClassifier_a7fc3d62d2c2, depth=13, numNodes=59, numClasses=2, numFeatures=1\n",
      "======================================================================\n"
     ]
    },
    {
     "name": "stderr",
     "output_type": "stream",
     "text": [
      "                                                                                \r"
     ]
    },
    {
     "name": "stdout",
     "output_type": "stream",
     "text": [
      "=== size_mult=30;         n_part_req=48; n_part_act=48; df_count=7564110 ===\n",
      "\n"
     ]
    },
    {
     "name": "stderr",
     "output_type": "stream",
     "text": [
      "                                                                                \r"
     ]
    },
    {
     "name": "stdout",
     "output_type": "stream",
     "text": [
      "model 0 build time 12.1 \n",
      " DecisionTreeClassificationModel: uid=DecisionTreeClassifier_e1b0a90383da, depth=13, numNodes=63, numClasses=2, numFeatures=1\n"
     ]
    },
    {
     "name": "stderr",
     "output_type": "stream",
     "text": [
      "                                                                                \r"
     ]
    },
    {
     "name": "stdout",
     "output_type": "stream",
     "text": [
      "model 1 build time 9.33 \n",
      " DecisionTreeClassificationModel: uid=DecisionTreeClassifier_ba5c40a16573, depth=13, numNodes=63, numClasses=2, numFeatures=1\n"
     ]
    },
    {
     "name": "stderr",
     "output_type": "stream",
     "text": [
      "                                                                                \r"
     ]
    },
    {
     "name": "stdout",
     "output_type": "stream",
     "text": [
      "model 2 build time 9.26 \n",
      " DecisionTreeClassificationModel: uid=DecisionTreeClassifier_e51582776ed3, depth=13, numNodes=63, numClasses=2, numFeatures=1\n",
      "======================================================================\n"
     ]
    },
    {
     "name": "stderr",
     "output_type": "stream",
     "text": [
      "                                                                                \r"
     ]
    },
    {
     "name": "stdout",
     "output_type": "stream",
     "text": [
      "=== size_mult=50;         n_part_req=4; n_part_act=4; df_count=12606850 ===\n",
      "\n"
     ]
    },
    {
     "name": "stderr",
     "output_type": "stream",
     "text": [
      "                                                                                \r"
     ]
    },
    {
     "name": "stdout",
     "output_type": "stream",
     "text": [
      "model 0 build time 31.43 \n",
      " DecisionTreeClassificationModel: uid=DecisionTreeClassifier_31a3a5af3cc6, depth=14, numNodes=73, numClasses=2, numFeatures=1\n"
     ]
    },
    {
     "name": "stderr",
     "output_type": "stream",
     "text": [
      "                                                                                \r"
     ]
    },
    {
     "name": "stdout",
     "output_type": "stream",
     "text": [
      "model 1 build time 34.45 \n",
      " DecisionTreeClassificationModel: uid=DecisionTreeClassifier_dbbd1eb10940, depth=14, numNodes=73, numClasses=2, numFeatures=1\n"
     ]
    },
    {
     "name": "stderr",
     "output_type": "stream",
     "text": [
      "                                                                                \r"
     ]
    },
    {
     "name": "stdout",
     "output_type": "stream",
     "text": [
      "model 2 build time 31.13 \n",
      " DecisionTreeClassificationModel: uid=DecisionTreeClassifier_d21990ee54ef, depth=14, numNodes=73, numClasses=2, numFeatures=1\n",
      "======================================================================\n"
     ]
    },
    {
     "name": "stderr",
     "output_type": "stream",
     "text": [
      "                                                                                \r"
     ]
    },
    {
     "name": "stdout",
     "output_type": "stream",
     "text": [
      "=== size_mult=50;         n_part_req=6; n_part_act=6; df_count=12606850 ===\n",
      "\n"
     ]
    },
    {
     "name": "stderr",
     "output_type": "stream",
     "text": [
      "                                                                                \r"
     ]
    },
    {
     "name": "stdout",
     "output_type": "stream",
     "text": [
      "model 0 build time 23.7 \n",
      " DecisionTreeClassificationModel: uid=DecisionTreeClassifier_e97e76ec1640, depth=10, numNodes=41, numClasses=2, numFeatures=1\n"
     ]
    },
    {
     "name": "stderr",
     "output_type": "stream",
     "text": [
      "                                                                                \r"
     ]
    },
    {
     "name": "stdout",
     "output_type": "stream",
     "text": [
      "model 1 build time 24.11 \n",
      " DecisionTreeClassificationModel: uid=DecisionTreeClassifier_7d3db5b5546f, depth=10, numNodes=41, numClasses=2, numFeatures=1\n"
     ]
    },
    {
     "name": "stderr",
     "output_type": "stream",
     "text": [
      "                                                                                \r"
     ]
    },
    {
     "name": "stdout",
     "output_type": "stream",
     "text": [
      "model 2 build time 22.4 \n",
      " DecisionTreeClassificationModel: uid=DecisionTreeClassifier_8d41f259ada4, depth=10, numNodes=41, numClasses=2, numFeatures=1\n",
      "======================================================================\n"
     ]
    },
    {
     "name": "stderr",
     "output_type": "stream",
     "text": [
      "                                                                                \r"
     ]
    },
    {
     "name": "stdout",
     "output_type": "stream",
     "text": [
      "=== size_mult=50;         n_part_req=8; n_part_act=8; df_count=12606850 ===\n",
      "\n"
     ]
    },
    {
     "name": "stderr",
     "output_type": "stream",
     "text": [
      "                                                                                \r"
     ]
    },
    {
     "name": "stdout",
     "output_type": "stream",
     "text": [
      "model 0 build time 21.96 \n",
      " DecisionTreeClassificationModel: uid=DecisionTreeClassifier_3930768dbe59, depth=11, numNodes=35, numClasses=2, numFeatures=1\n"
     ]
    },
    {
     "name": "stderr",
     "output_type": "stream",
     "text": [
      "                                                                                \r"
     ]
    },
    {
     "name": "stdout",
     "output_type": "stream",
     "text": [
      "model 1 build time 17.24 \n",
      " DecisionTreeClassificationModel: uid=DecisionTreeClassifier_ba7446c1af1c, depth=11, numNodes=35, numClasses=2, numFeatures=1\n"
     ]
    },
    {
     "name": "stderr",
     "output_type": "stream",
     "text": [
      "                                                                                \r"
     ]
    },
    {
     "name": "stdout",
     "output_type": "stream",
     "text": [
      "model 2 build time 16.37 \n",
      " DecisionTreeClassificationModel: uid=DecisionTreeClassifier_6d598f610f60, depth=11, numNodes=35, numClasses=2, numFeatures=1\n",
      "======================================================================\n"
     ]
    },
    {
     "name": "stderr",
     "output_type": "stream",
     "text": [
      "                                                                                \r"
     ]
    },
    {
     "name": "stdout",
     "output_type": "stream",
     "text": [
      "=== size_mult=50;         n_part_req=16; n_part_act=16; df_count=12606850 ===\n",
      "\n"
     ]
    },
    {
     "name": "stderr",
     "output_type": "stream",
     "text": [
      "                                                                                \r"
     ]
    },
    {
     "name": "stdout",
     "output_type": "stream",
     "text": [
      "model 0 build time 12.68 \n",
      " DecisionTreeClassificationModel: uid=DecisionTreeClassifier_9bb5ff2daa62, depth=11, numNodes=47, numClasses=2, numFeatures=1\n"
     ]
    },
    {
     "name": "stderr",
     "output_type": "stream",
     "text": [
      "                                                                                \r"
     ]
    },
    {
     "name": "stdout",
     "output_type": "stream",
     "text": [
      "model 1 build time 13.22 \n",
      " DecisionTreeClassificationModel: uid=DecisionTreeClassifier_9072705810d8, depth=11, numNodes=47, numClasses=2, numFeatures=1\n"
     ]
    },
    {
     "name": "stderr",
     "output_type": "stream",
     "text": [
      "                                                                                \r"
     ]
    },
    {
     "name": "stdout",
     "output_type": "stream",
     "text": [
      "model 2 build time 12.28 \n",
      " DecisionTreeClassificationModel: uid=DecisionTreeClassifier_edab63ee6e57, depth=11, numNodes=47, numClasses=2, numFeatures=1\n",
      "======================================================================\n"
     ]
    },
    {
     "name": "stderr",
     "output_type": "stream",
     "text": [
      "                                                                                \r"
     ]
    },
    {
     "name": "stdout",
     "output_type": "stream",
     "text": [
      "=== size_mult=50;         n_part_req=24; n_part_act=24; df_count=12606850 ===\n",
      "\n"
     ]
    },
    {
     "name": "stderr",
     "output_type": "stream",
     "text": [
      "                                                                                \r"
     ]
    },
    {
     "name": "stdout",
     "output_type": "stream",
     "text": [
      "model 0 build time 13.49 \n",
      " DecisionTreeClassificationModel: uid=DecisionTreeClassifier_7e4b4ceb3d7a, depth=13, numNodes=45, numClasses=2, numFeatures=1\n"
     ]
    },
    {
     "name": "stderr",
     "output_type": "stream",
     "text": [
      "                                                                                \r"
     ]
    },
    {
     "name": "stdout",
     "output_type": "stream",
     "text": [
      "model 1 build time 10.94 \n",
      " DecisionTreeClassificationModel: uid=DecisionTreeClassifier_882de4de9114, depth=13, numNodes=45, numClasses=2, numFeatures=1\n"
     ]
    },
    {
     "name": "stderr",
     "output_type": "stream",
     "text": [
      "                                                                                \r"
     ]
    },
    {
     "name": "stdout",
     "output_type": "stream",
     "text": [
      "model 2 build time 10.81 \n",
      " DecisionTreeClassificationModel: uid=DecisionTreeClassifier_0477f31a7698, depth=13, numNodes=45, numClasses=2, numFeatures=1\n",
      "======================================================================\n"
     ]
    },
    {
     "name": "stderr",
     "output_type": "stream",
     "text": [
      "                                                                                \r"
     ]
    },
    {
     "name": "stdout",
     "output_type": "stream",
     "text": [
      "=== size_mult=50;         n_part_req=32; n_part_act=32; df_count=12606850 ===\n",
      "\n"
     ]
    },
    {
     "name": "stderr",
     "output_type": "stream",
     "text": [
      "                                                                                \r"
     ]
    },
    {
     "name": "stdout",
     "output_type": "stream",
     "text": [
      "model 0 build time 11.07 \n",
      " DecisionTreeClassificationModel: uid=DecisionTreeClassifier_398e3ed8000a, depth=9, numNodes=33, numClasses=2, numFeatures=1\n"
     ]
    },
    {
     "name": "stderr",
     "output_type": "stream",
     "text": [
      "                                                                                \r"
     ]
    },
    {
     "name": "stdout",
     "output_type": "stream",
     "text": [
      "model 1 build time 10.21 \n",
      " DecisionTreeClassificationModel: uid=DecisionTreeClassifier_349e1092104d, depth=9, numNodes=33, numClasses=2, numFeatures=1\n"
     ]
    },
    {
     "name": "stderr",
     "output_type": "stream",
     "text": [
      "\r",
      "[Stage 9149:====================================================> (31 + 1) / 32]\r",
      "\r",
      "                                                                                \r"
     ]
    },
    {
     "name": "stdout",
     "output_type": "stream",
     "text": [
      "model 2 build time 8.49 \n",
      " DecisionTreeClassificationModel: uid=DecisionTreeClassifier_b94b06c2b23a, depth=9, numNodes=33, numClasses=2, numFeatures=1\n",
      "======================================================================\n"
     ]
    },
    {
     "name": "stderr",
     "output_type": "stream",
     "text": [
      "                                                                                \r"
     ]
    },
    {
     "name": "stdout",
     "output_type": "stream",
     "text": [
      "=== size_mult=50;         n_part_req=48; n_part_act=48; df_count=12606850 ===\n",
      "\n"
     ]
    },
    {
     "name": "stderr",
     "output_type": "stream",
     "text": [
      "                                                                                \r"
     ]
    },
    {
     "name": "stdout",
     "output_type": "stream",
     "text": [
      "model 0 build time 12.88 \n",
      " DecisionTreeClassificationModel: uid=DecisionTreeClassifier_d99200bba375, depth=11, numNodes=41, numClasses=2, numFeatures=1\n"
     ]
    },
    {
     "name": "stderr",
     "output_type": "stream",
     "text": [
      "                                                                                \r"
     ]
    },
    {
     "name": "stdout",
     "output_type": "stream",
     "text": [
      "model 1 build time 13.09 \n",
      " DecisionTreeClassificationModel: uid=DecisionTreeClassifier_f5a0b2d9bfcc, depth=11, numNodes=41, numClasses=2, numFeatures=1\n"
     ]
    },
    {
     "name": "stderr",
     "output_type": "stream",
     "text": [
      "                                                                                \r"
     ]
    },
    {
     "name": "stdout",
     "output_type": "stream",
     "text": [
      "model 2 build time 10.69 \n",
      " DecisionTreeClassificationModel: uid=DecisionTreeClassifier_0f53f4a98a2a, depth=11, numNodes=41, numClasses=2, numFeatures=1\n",
      "======================================================================\n"
     ]
    },
    {
     "name": "stderr",
     "output_type": "stream",
     "text": [
      "                                                                                \r"
     ]
    },
    {
     "name": "stdout",
     "output_type": "stream",
     "text": [
      "=== size_mult=100;         n_part_req=4; n_part_act=4; df_count=25213700 ===\n",
      "\n"
     ]
    },
    {
     "name": "stderr",
     "output_type": "stream",
     "text": [
      "                                                                                \r"
     ]
    },
    {
     "name": "stdout",
     "output_type": "stream",
     "text": [
      "model 0 build time 57.42 \n",
      " DecisionTreeClassificationModel: uid=DecisionTreeClassifier_7f21ebedcbf3, depth=14, numNodes=57, numClasses=2, numFeatures=1\n"
     ]
    },
    {
     "name": "stderr",
     "output_type": "stream",
     "text": [
      "                                                                                \r"
     ]
    },
    {
     "name": "stdout",
     "output_type": "stream",
     "text": [
      "model 1 build time 50.48 \n",
      " DecisionTreeClassificationModel: uid=DecisionTreeClassifier_a325283af886, depth=14, numNodes=57, numClasses=2, numFeatures=1\n"
     ]
    },
    {
     "name": "stderr",
     "output_type": "stream",
     "text": [
      "                                                                                \r"
     ]
    },
    {
     "name": "stdout",
     "output_type": "stream",
     "text": [
      "model 2 build time 57.27 \n",
      " DecisionTreeClassificationModel: uid=DecisionTreeClassifier_39bbb0366ce4, depth=14, numNodes=57, numClasses=2, numFeatures=1\n",
      "======================================================================\n"
     ]
    },
    {
     "name": "stderr",
     "output_type": "stream",
     "text": [
      "                                                                                \r"
     ]
    },
    {
     "name": "stdout",
     "output_type": "stream",
     "text": [
      "=== size_mult=100;         n_part_req=6; n_part_act=6; df_count=25213700 ===\n",
      "\n"
     ]
    },
    {
     "name": "stderr",
     "output_type": "stream",
     "text": [
      "                                                                                \r"
     ]
    },
    {
     "name": "stdout",
     "output_type": "stream",
     "text": [
      "model 0 build time 43.2 \n",
      " DecisionTreeClassificationModel: uid=DecisionTreeClassifier_22927ac1c1a6, depth=12, numNodes=39, numClasses=2, numFeatures=1\n"
     ]
    },
    {
     "name": "stderr",
     "output_type": "stream",
     "text": [
      "                                                                                \r"
     ]
    },
    {
     "name": "stdout",
     "output_type": "stream",
     "text": [
      "model 1 build time 42.45 \n",
      " DecisionTreeClassificationModel: uid=DecisionTreeClassifier_a1bc70f4127a, depth=12, numNodes=39, numClasses=2, numFeatures=1\n"
     ]
    },
    {
     "name": "stderr",
     "output_type": "stream",
     "text": [
      "                                                                                \r"
     ]
    },
    {
     "name": "stdout",
     "output_type": "stream",
     "text": [
      "model 2 build time 37.45 \n",
      " DecisionTreeClassificationModel: uid=DecisionTreeClassifier_bf28ba7c41a2, depth=12, numNodes=39, numClasses=2, numFeatures=1\n",
      "======================================================================\n"
     ]
    },
    {
     "name": "stderr",
     "output_type": "stream",
     "text": [
      "                                                                                \r"
     ]
    },
    {
     "name": "stdout",
     "output_type": "stream",
     "text": [
      "=== size_mult=100;         n_part_req=8; n_part_act=8; df_count=25213700 ===\n",
      "\n"
     ]
    },
    {
     "name": "stderr",
     "output_type": "stream",
     "text": [
      "                                                                                \r"
     ]
    },
    {
     "name": "stdout",
     "output_type": "stream",
     "text": [
      "model 0 build time 32.4 \n",
      " DecisionTreeClassificationModel: uid=DecisionTreeClassifier_b68b78b7b536, depth=12, numNodes=47, numClasses=2, numFeatures=1\n"
     ]
    },
    {
     "name": "stderr",
     "output_type": "stream",
     "text": [
      "                                                                                \r"
     ]
    },
    {
     "name": "stdout",
     "output_type": "stream",
     "text": [
      "model 1 build time 28.98 \n",
      " DecisionTreeClassificationModel: uid=DecisionTreeClassifier_1f4d4bf079ea, depth=12, numNodes=47, numClasses=2, numFeatures=1\n"
     ]
    },
    {
     "name": "stderr",
     "output_type": "stream",
     "text": [
      "                                                                                \r"
     ]
    },
    {
     "name": "stdout",
     "output_type": "stream",
     "text": [
      "model 2 build time 34.37 \n",
      " DecisionTreeClassificationModel: uid=DecisionTreeClassifier_2c639b598f80, depth=12, numNodes=47, numClasses=2, numFeatures=1\n",
      "======================================================================\n"
     ]
    },
    {
     "name": "stderr",
     "output_type": "stream",
     "text": [
      "                                                                                \r"
     ]
    },
    {
     "name": "stdout",
     "output_type": "stream",
     "text": [
      "=== size_mult=100;         n_part_req=16; n_part_act=16; df_count=25213700 ===\n",
      "\n"
     ]
    },
    {
     "name": "stderr",
     "output_type": "stream",
     "text": [
      "                                                                                \r"
     ]
    },
    {
     "name": "stdout",
     "output_type": "stream",
     "text": [
      "model 0 build time 27.04 \n",
      " DecisionTreeClassificationModel: uid=DecisionTreeClassifier_381e9b7e355c, depth=11, numNodes=41, numClasses=2, numFeatures=1\n"
     ]
    },
    {
     "name": "stderr",
     "output_type": "stream",
     "text": [
      "                                                                                \r"
     ]
    },
    {
     "name": "stdout",
     "output_type": "stream",
     "text": [
      "model 1 build time 23.14 \n",
      " DecisionTreeClassificationModel: uid=DecisionTreeClassifier_f2a7250b0372, depth=11, numNodes=41, numClasses=2, numFeatures=1\n"
     ]
    },
    {
     "name": "stderr",
     "output_type": "stream",
     "text": [
      "                                                                                \r"
     ]
    },
    {
     "name": "stdout",
     "output_type": "stream",
     "text": [
      "model 2 build time 18.95 \n",
      " DecisionTreeClassificationModel: uid=DecisionTreeClassifier_dfa6e11309f0, depth=11, numNodes=41, numClasses=2, numFeatures=1\n",
      "======================================================================\n"
     ]
    },
    {
     "name": "stderr",
     "output_type": "stream",
     "text": [
      "                                                                                \r"
     ]
    },
    {
     "name": "stdout",
     "output_type": "stream",
     "text": [
      "=== size_mult=100;         n_part_req=24; n_part_act=24; df_count=25213700 ===\n",
      "\n"
     ]
    },
    {
     "name": "stderr",
     "output_type": "stream",
     "text": [
      "                                                                                \r"
     ]
    },
    {
     "name": "stdout",
     "output_type": "stream",
     "text": [
      "model 0 build time 21.42 \n",
      " DecisionTreeClassificationModel: uid=DecisionTreeClassifier_3db7b4fbda0e, depth=11, numNodes=37, numClasses=2, numFeatures=1\n"
     ]
    },
    {
     "name": "stderr",
     "output_type": "stream",
     "text": [
      "                                                                                \r"
     ]
    },
    {
     "name": "stdout",
     "output_type": "stream",
     "text": [
      "model 1 build time 16.55 \n",
      " DecisionTreeClassificationModel: uid=DecisionTreeClassifier_51e5fb131026, depth=11, numNodes=37, numClasses=2, numFeatures=1\n"
     ]
    },
    {
     "name": "stderr",
     "output_type": "stream",
     "text": [
      "                                                                                \r"
     ]
    },
    {
     "name": "stdout",
     "output_type": "stream",
     "text": [
      "model 2 build time 13.65 \n",
      " DecisionTreeClassificationModel: uid=DecisionTreeClassifier_61c7d5ef178c, depth=11, numNodes=37, numClasses=2, numFeatures=1\n",
      "======================================================================\n"
     ]
    },
    {
     "name": "stderr",
     "output_type": "stream",
     "text": [
      "                                                                                \r"
     ]
    },
    {
     "name": "stdout",
     "output_type": "stream",
     "text": [
      "=== size_mult=100;         n_part_req=32; n_part_act=32; df_count=25213700 ===\n",
      "\n"
     ]
    },
    {
     "name": "stderr",
     "output_type": "stream",
     "text": [
      "                                                                                \r"
     ]
    },
    {
     "name": "stdout",
     "output_type": "stream",
     "text": [
      "model 0 build time 18.98 \n",
      " DecisionTreeClassificationModel: uid=DecisionTreeClassifier_8597b0456e2a, depth=11, numNodes=33, numClasses=2, numFeatures=1\n"
     ]
    },
    {
     "name": "stderr",
     "output_type": "stream",
     "text": [
      "                                                                                \r"
     ]
    },
    {
     "name": "stdout",
     "output_type": "stream",
     "text": [
      "model 1 build time 16.54 \n",
      " DecisionTreeClassificationModel: uid=DecisionTreeClassifier_a44b6fea9052, depth=11, numNodes=33, numClasses=2, numFeatures=1\n"
     ]
    },
    {
     "name": "stderr",
     "output_type": "stream",
     "text": [
      "                                                                                \r"
     ]
    },
    {
     "name": "stdout",
     "output_type": "stream",
     "text": [
      "model 2 build time 13.48 \n",
      " DecisionTreeClassificationModel: uid=DecisionTreeClassifier_2cc685c08753, depth=11, numNodes=33, numClasses=2, numFeatures=1\n",
      "======================================================================\n"
     ]
    },
    {
     "name": "stderr",
     "output_type": "stream",
     "text": [
      "                                                                                \r"
     ]
    },
    {
     "name": "stdout",
     "output_type": "stream",
     "text": [
      "=== size_mult=100;         n_part_req=48; n_part_act=48; df_count=25213700 ===\n",
      "\n"
     ]
    },
    {
     "name": "stderr",
     "output_type": "stream",
     "text": [
      "                                                                                \r"
     ]
    },
    {
     "name": "stdout",
     "output_type": "stream",
     "text": [
      "model 0 build time 22.03 \n",
      " DecisionTreeClassificationModel: uid=DecisionTreeClassifier_9877d1dcd181, depth=12, numNodes=39, numClasses=2, numFeatures=1\n"
     ]
    },
    {
     "name": "stderr",
     "output_type": "stream",
     "text": [
      "                                                                                \r"
     ]
    },
    {
     "name": "stdout",
     "output_type": "stream",
     "text": [
      "model 1 build time 13.77 \n",
      " DecisionTreeClassificationModel: uid=DecisionTreeClassifier_570df3ea1cd3, depth=12, numNodes=39, numClasses=2, numFeatures=1\n"
     ]
    },
    {
     "name": "stderr",
     "output_type": "stream",
     "text": [
      "[Stage 10524:=================================================>   (45 + 3) / 48]\r"
     ]
    },
    {
     "name": "stdout",
     "output_type": "stream",
     "text": [
      "model 2 build time 16.17 \n",
      " DecisionTreeClassificationModel: uid=DecisionTreeClassifier_2c84c806a601, depth=12, numNodes=39, numClasses=2, numFeatures=1\n"
     ]
    },
    {
     "name": "stderr",
     "output_type": "stream",
     "text": [
      "\r",
      "[Stage 10525:==================================================>  (46 + 2) / 48]\r",
      "\r",
      "                                                                                \r"
     ]
    }
   ],
   "source": [
    "## !! mind the fn NOT TO rewrite results\n",
    "fn = '4cpu_by_16n__4m'\n",
    "size_mult = [1, 2, 5, 10, 15, 20, 30, 50, 100]\n",
    "partitions = [4, 6, 8, 16, 24, 32, 48] \n",
    "# initial, 2**i incl n_nodes till n_cpu*n_nodes and n_cpu*n_nodes\n",
    "n_iter = 3\n",
    "\n",
    "print('d1-size', d1.count())\n",
    "n_part_base = d1.rdd.getNumPartitions()\n",
    "print('n-partitions initial', n_part_base, '\\n')\n",
    "\n",
    "rd1 = {}\n",
    "for k_size_mult in size_mult:\n",
    "    rd2 = {}\n",
    "    for n_part in partitions:\n",
    "        df = prepare_spark_data(n_part, k_size_mult)\n",
    "        df.cache()\n",
    "        print('======================================================================')\n",
    "        print(f'=== size_mult={k_size_mult}; \\\n",
    "        n_part_req={n_part}; n_part_act={df.rdd.getNumPartitions()}; df_count={df.count()} ===\\n')\n",
    "        times = [0 for i in range(n_iter)]\n",
    "        models = {}\n",
    "        for i in range(n_iter):\n",
    "            dt = DTC_spark(labelCol=\"TARGET\",\n",
    "                       featuresCol=\"DAYS_EMPLOYED_vect\",\n",
    "                       minInfoGain=0.0001,\n",
    "                       impurity='entropy',\n",
    "                       maxDepth=14, maxBins=2**14, # it differs from scikit learn - it means number of canidate split points\n",
    "                       #minInstancesPerNode = 1,\n",
    "                       #checkpointInterval = 10\n",
    "                       )\n",
    "           \n",
    "            t0 = ttt()\n",
    "            model = dt.fit(df)\n",
    "            t1 = ttt()\n",
    "            times[i] = t1-t0\n",
    "            models[i] = model \n",
    "            print('model', i, 'build time', round(times[i],2), '\\n', model)\n",
    "        rd2[n_part] = (models, times)\n",
    "    rd1[k_size_mult] = rd2\n",
    "\n",
    "result = rd1  "
   ]
  },
  {
   "cell_type": "markdown",
   "id": "bb6b1aef",
   "metadata": {},
   "source": [
    "# Results"
   ]
  },
  {
   "cell_type": "code",
   "execution_count": 6,
   "id": "91c2c809",
   "metadata": {
    "ExecuteTime": {
     "end_time": "2021-11-23T18:10:23.161197Z",
     "start_time": "2021-11-23T18:10:22.701613Z"
    },
    "deletable": false,
    "editable": false,
    "run_control": {
     "frozen": true
    }
   },
   "outputs": [
    {
     "name": "stdout",
     "output_type": "stream",
     "text": [
      "0 ['DecisionTreeClassificationModel:', 'uid=DecisionTreeClassifier_a48900d0167a,', 'depth=14,', 'numNodes=123,', 'numClasses=2,', 'numFeatures=1']\n",
      "1 ['DecisionTreeClassificationModel:', 'uid=DecisionTreeClassifier_c8e5a8300913,', 'depth=14,', 'numNodes=123,', 'numClasses=2,', 'numFeatures=1']\n",
      "2 ['DecisionTreeClassificationModel:', 'uid=DecisionTreeClassifier_6b3707428882,', 'depth=14,', 'numNodes=123,', 'numClasses=2,', 'numFeatures=1']\n",
      "0 ['DecisionTreeClassificationModel:', 'uid=DecisionTreeClassifier_e3b304540b8f,', 'depth=14,', 'numNodes=123,', 'numClasses=2,', 'numFeatures=1']\n",
      "1 ['DecisionTreeClassificationModel:', 'uid=DecisionTreeClassifier_a6167e8eccb4,', 'depth=14,', 'numNodes=123,', 'numClasses=2,', 'numFeatures=1']\n",
      "2 ['DecisionTreeClassificationModel:', 'uid=DecisionTreeClassifier_f8f4edb0d28e,', 'depth=14,', 'numNodes=123,', 'numClasses=2,', 'numFeatures=1']\n",
      "0 ['DecisionTreeClassificationModel:', 'uid=DecisionTreeClassifier_46b89e5b7f48,', 'depth=14,', 'numNodes=123,', 'numClasses=2,', 'numFeatures=1']\n",
      "1 ['DecisionTreeClassificationModel:', 'uid=DecisionTreeClassifier_00d7fd13c6d6,', 'depth=14,', 'numNodes=123,', 'numClasses=2,', 'numFeatures=1']\n",
      "2 ['DecisionTreeClassificationModel:', 'uid=DecisionTreeClassifier_9151b164b658,', 'depth=14,', 'numNodes=123,', 'numClasses=2,', 'numFeatures=1']\n",
      "0 ['DecisionTreeClassificationModel:', 'uid=DecisionTreeClassifier_fa5e00a08bae,', 'depth=14,', 'numNodes=123,', 'numClasses=2,', 'numFeatures=1']\n",
      "1 ['DecisionTreeClassificationModel:', 'uid=DecisionTreeClassifier_a2a5ca591a2e,', 'depth=14,', 'numNodes=123,', 'numClasses=2,', 'numFeatures=1']\n",
      "2 ['DecisionTreeClassificationModel:', 'uid=DecisionTreeClassifier_38f58cabbb59,', 'depth=14,', 'numNodes=123,', 'numClasses=2,', 'numFeatures=1']\n",
      "0 ['DecisionTreeClassificationModel:', 'uid=DecisionTreeClassifier_9c5fc66e1557,', 'depth=14,', 'numNodes=123,', 'numClasses=2,', 'numFeatures=1']\n",
      "1 ['DecisionTreeClassificationModel:', 'uid=DecisionTreeClassifier_452d2dd30e72,', 'depth=14,', 'numNodes=123,', 'numClasses=2,', 'numFeatures=1']\n",
      "2 ['DecisionTreeClassificationModel:', 'uid=DecisionTreeClassifier_01b2eed534e1,', 'depth=14,', 'numNodes=123,', 'numClasses=2,', 'numFeatures=1']\n",
      "0 ['DecisionTreeClassificationModel:', 'uid=DecisionTreeClassifier_234d48844f54,', 'depth=14,', 'numNodes=123,', 'numClasses=2,', 'numFeatures=1']\n",
      "1 ['DecisionTreeClassificationModel:', 'uid=DecisionTreeClassifier_d0e9ac21ac8f,', 'depth=14,', 'numNodes=123,', 'numClasses=2,', 'numFeatures=1']\n",
      "2 ['DecisionTreeClassificationModel:', 'uid=DecisionTreeClassifier_efb37b7f6388,', 'depth=14,', 'numNodes=123,', 'numClasses=2,', 'numFeatures=1']\n",
      "0 ['DecisionTreeClassificationModel:', 'uid=DecisionTreeClassifier_b20cd9bc1702,', 'depth=14,', 'numNodes=123,', 'numClasses=2,', 'numFeatures=1']\n",
      "1 ['DecisionTreeClassificationModel:', 'uid=DecisionTreeClassifier_8728b054a081,', 'depth=14,', 'numNodes=123,', 'numClasses=2,', 'numFeatures=1']\n",
      "2 ['DecisionTreeClassificationModel:', 'uid=DecisionTreeClassifier_05cccb88c925,', 'depth=14,', 'numNodes=123,', 'numClasses=2,', 'numFeatures=1']\n",
      "0 ['DecisionTreeClassificationModel:', 'uid=DecisionTreeClassifier_e76603fadadb,', 'depth=14,', 'numNodes=101,', 'numClasses=2,', 'numFeatures=1']\n",
      "1 ['DecisionTreeClassificationModel:', 'uid=DecisionTreeClassifier_dacf8bcb0ac8,', 'depth=14,', 'numNodes=101,', 'numClasses=2,', 'numFeatures=1']\n",
      "2 ['DecisionTreeClassificationModel:', 'uid=DecisionTreeClassifier_5cfdb9b81d8e,', 'depth=14,', 'numNodes=101,', 'numClasses=2,', 'numFeatures=1']\n",
      "0 ['DecisionTreeClassificationModel:', 'uid=DecisionTreeClassifier_cd691c98f7ec,', 'depth=14,', 'numNodes=129,', 'numClasses=2,', 'numFeatures=1']\n",
      "1 ['DecisionTreeClassificationModel:', 'uid=DecisionTreeClassifier_f1b62469b813,', 'depth=14,', 'numNodes=129,', 'numClasses=2,', 'numFeatures=1']\n",
      "2 ['DecisionTreeClassificationModel:', 'uid=DecisionTreeClassifier_5e0bcbca7be0,', 'depth=14,', 'numNodes=129,', 'numClasses=2,', 'numFeatures=1']\n",
      "0 ['DecisionTreeClassificationModel:', 'uid=DecisionTreeClassifier_3e6314e71ac0,', 'depth=14,', 'numNodes=129,', 'numClasses=2,', 'numFeatures=1']\n",
      "1 ['DecisionTreeClassificationModel:', 'uid=DecisionTreeClassifier_a1cec6bdb42b,', 'depth=14,', 'numNodes=129,', 'numClasses=2,', 'numFeatures=1']\n",
      "2 ['DecisionTreeClassificationModel:', 'uid=DecisionTreeClassifier_643b90ff7597,', 'depth=14,', 'numNodes=129,', 'numClasses=2,', 'numFeatures=1']\n",
      "0 ['DecisionTreeClassificationModel:', 'uid=DecisionTreeClassifier_4173ca9f9af7,', 'depth=14,', 'numNodes=149,', 'numClasses=2,', 'numFeatures=1']\n",
      "1 ['DecisionTreeClassificationModel:', 'uid=DecisionTreeClassifier_e27c99404140,', 'depth=14,', 'numNodes=149,', 'numClasses=2,', 'numFeatures=1']\n",
      "2 ['DecisionTreeClassificationModel:', 'uid=DecisionTreeClassifier_6cfeabb332cb,', 'depth=14,', 'numNodes=149,', 'numClasses=2,', 'numFeatures=1']\n",
      "0 ['DecisionTreeClassificationModel:', 'uid=DecisionTreeClassifier_790da985815f,', 'depth=14,', 'numNodes=141,', 'numClasses=2,', 'numFeatures=1']\n",
      "1 ['DecisionTreeClassificationModel:', 'uid=DecisionTreeClassifier_4cd5df2a6eb1,', 'depth=14,', 'numNodes=141,', 'numClasses=2,', 'numFeatures=1']\n",
      "2 ['DecisionTreeClassificationModel:', 'uid=DecisionTreeClassifier_ebb3f1ee508e,', 'depth=14,', 'numNodes=141,', 'numClasses=2,', 'numFeatures=1']\n",
      "0 ['DecisionTreeClassificationModel:', 'uid=DecisionTreeClassifier_8c33926bd5e2,', 'depth=14,', 'numNodes=123,', 'numClasses=2,', 'numFeatures=1']\n",
      "1 ['DecisionTreeClassificationModel:', 'uid=DecisionTreeClassifier_d4b6fb4e8763,', 'depth=14,', 'numNodes=123,', 'numClasses=2,', 'numFeatures=1']\n",
      "2 ['DecisionTreeClassificationModel:', 'uid=DecisionTreeClassifier_7fd2adc97471,', 'depth=14,', 'numNodes=123,', 'numClasses=2,', 'numFeatures=1']\n",
      "0 ['DecisionTreeClassificationModel:', 'uid=DecisionTreeClassifier_1a4b7d8d676c,', 'depth=14,', 'numNodes=127,', 'numClasses=2,', 'numFeatures=1']\n",
      "1 ['DecisionTreeClassificationModel:', 'uid=DecisionTreeClassifier_04356eccfd73,', 'depth=14,', 'numNodes=127,', 'numClasses=2,', 'numFeatures=1']\n",
      "2 ['DecisionTreeClassificationModel:', 'uid=DecisionTreeClassifier_92afa2c3ed08,', 'depth=14,', 'numNodes=127,', 'numClasses=2,', 'numFeatures=1']\n",
      "0 ['DecisionTreeClassificationModel:', 'uid=DecisionTreeClassifier_1284abdb1739,', 'depth=14,', 'numNodes=87,', 'numClasses=2,', 'numFeatures=1']\n",
      "1 ['DecisionTreeClassificationModel:', 'uid=DecisionTreeClassifier_74b11d869973,', 'depth=14,', 'numNodes=87,', 'numClasses=2,', 'numFeatures=1']\n",
      "2 ['DecisionTreeClassificationModel:', 'uid=DecisionTreeClassifier_48aca44baa1e,', 'depth=14,', 'numNodes=87,', 'numClasses=2,', 'numFeatures=1']\n",
      "0 ['DecisionTreeClassificationModel:', 'uid=DecisionTreeClassifier_7f0bb2d5498e,', 'depth=14,', 'numNodes=101,', 'numClasses=2,', 'numFeatures=1']\n",
      "1 ['DecisionTreeClassificationModel:', 'uid=DecisionTreeClassifier_9f79d6f387c7,', 'depth=14,', 'numNodes=101,', 'numClasses=2,', 'numFeatures=1']\n",
      "2 ['DecisionTreeClassificationModel:', 'uid=DecisionTreeClassifier_e1343b6a4e7a,', 'depth=14,', 'numNodes=101,', 'numClasses=2,', 'numFeatures=1']\n",
      "0 ['DecisionTreeClassificationModel:', 'uid=DecisionTreeClassifier_89edcc79324b,', 'depth=14,', 'numNodes=87,', 'numClasses=2,', 'numFeatures=1']\n",
      "1 ['DecisionTreeClassificationModel:', 'uid=DecisionTreeClassifier_17f2fcec3f84,', 'depth=14,', 'numNodes=87,', 'numClasses=2,', 'numFeatures=1']\n",
      "2 ['DecisionTreeClassificationModel:', 'uid=DecisionTreeClassifier_ff76bce476dd,', 'depth=14,', 'numNodes=87,', 'numClasses=2,', 'numFeatures=1']\n",
      "0 ['DecisionTreeClassificationModel:', 'uid=DecisionTreeClassifier_7eb3b12fb4f8,', 'depth=14,', 'numNodes=77,', 'numClasses=2,', 'numFeatures=1']\n",
      "1 ['DecisionTreeClassificationModel:', 'uid=DecisionTreeClassifier_0ac7c43cfca8,', 'depth=14,', 'numNodes=77,', 'numClasses=2,', 'numFeatures=1']\n",
      "2 ['DecisionTreeClassificationModel:', 'uid=DecisionTreeClassifier_296a854c2a5b,', 'depth=14,', 'numNodes=77,', 'numClasses=2,', 'numFeatures=1']\n",
      "0 ['DecisionTreeClassificationModel:', 'uid=DecisionTreeClassifier_85235a43eb97,', 'depth=14,', 'numNodes=99,', 'numClasses=2,', 'numFeatures=1']\n",
      "1 ['DecisionTreeClassificationModel:', 'uid=DecisionTreeClassifier_f7ebdea6ca35,', 'depth=14,', 'numNodes=99,', 'numClasses=2,', 'numFeatures=1']\n",
      "2 ['DecisionTreeClassificationModel:', 'uid=DecisionTreeClassifier_3d034a372684,', 'depth=14,', 'numNodes=99,', 'numClasses=2,', 'numFeatures=1']\n",
      "0 ['DecisionTreeClassificationModel:', 'uid=DecisionTreeClassifier_5b1a8f4abf6c,', 'depth=14,', 'numNodes=87,', 'numClasses=2,', 'numFeatures=1']\n",
      "1 ['DecisionTreeClassificationModel:', 'uid=DecisionTreeClassifier_e662f75a923f,', 'depth=14,', 'numNodes=87,', 'numClasses=2,', 'numFeatures=1']\n",
      "2 ['DecisionTreeClassificationModel:', 'uid=DecisionTreeClassifier_91ccb44b5916,', 'depth=14,', 'numNodes=87,', 'numClasses=2,', 'numFeatures=1']\n",
      "0 ['DecisionTreeClassificationModel:', 'uid=DecisionTreeClassifier_694b70ea86fd,', 'depth=14,', 'numNodes=97,', 'numClasses=2,', 'numFeatures=1']\n",
      "1 ['DecisionTreeClassificationModel:', 'uid=DecisionTreeClassifier_51836a18d30c,', 'depth=14,', 'numNodes=97,', 'numClasses=2,', 'numFeatures=1']\n",
      "2 ['DecisionTreeClassificationModel:', 'uid=DecisionTreeClassifier_11f75143ca9a,', 'depth=14,', 'numNodes=97,', 'numClasses=2,', 'numFeatures=1']\n",
      "0 ['DecisionTreeClassificationModel:', 'uid=DecisionTreeClassifier_9a5f36506ba0,', 'depth=13,', 'numNodes=69,', 'numClasses=2,', 'numFeatures=1']\n",
      "1 ['DecisionTreeClassificationModel:', 'uid=DecisionTreeClassifier_a371841b86fc,', 'depth=13,', 'numNodes=69,', 'numClasses=2,', 'numFeatures=1']\n",
      "2 ['DecisionTreeClassificationModel:', 'uid=DecisionTreeClassifier_968d7853ddc0,', 'depth=13,', 'numNodes=69,', 'numClasses=2,', 'numFeatures=1']\n",
      "0 ['DecisionTreeClassificationModel:', 'uid=DecisionTreeClassifier_d1fe40e4fe0a,', 'depth=14,', 'numNodes=75,', 'numClasses=2,', 'numFeatures=1']\n",
      "1 ['DecisionTreeClassificationModel:', 'uid=DecisionTreeClassifier_bb7acb1fc836,', 'depth=14,', 'numNodes=75,', 'numClasses=2,', 'numFeatures=1']\n",
      "2 ['DecisionTreeClassificationModel:', 'uid=DecisionTreeClassifier_6fbbab7c7782,', 'depth=14,', 'numNodes=75,', 'numClasses=2,', 'numFeatures=1']\n",
      "0 ['DecisionTreeClassificationModel:', 'uid=DecisionTreeClassifier_f4dd41206bda,', 'depth=14,', 'numNodes=65,', 'numClasses=2,', 'numFeatures=1']\n",
      "1 ['DecisionTreeClassificationModel:', 'uid=DecisionTreeClassifier_43ad7fa51c11,', 'depth=14,', 'numNodes=65,', 'numClasses=2,', 'numFeatures=1']\n",
      "2 ['DecisionTreeClassificationModel:', 'uid=DecisionTreeClassifier_a0fbf6443323,', 'depth=14,', 'numNodes=65,', 'numClasses=2,', 'numFeatures=1']\n",
      "0 ['DecisionTreeClassificationModel:', 'uid=DecisionTreeClassifier_f30a6d2fd1e1,', 'depth=14,', 'numNodes=61,', 'numClasses=2,', 'numFeatures=1']\n",
      "1 ['DecisionTreeClassificationModel:', 'uid=DecisionTreeClassifier_2d575c745003,', 'depth=14,', 'numNodes=61,', 'numClasses=2,', 'numFeatures=1']\n",
      "2 ['DecisionTreeClassificationModel:', 'uid=DecisionTreeClassifier_c8872d24421c,', 'depth=14,', 'numNodes=61,', 'numClasses=2,', 'numFeatures=1']\n",
      "0 ['DecisionTreeClassificationModel:', 'uid=DecisionTreeClassifier_e2e2236a20c9,', 'depth=14,', 'numNodes=75,', 'numClasses=2,', 'numFeatures=1']\n",
      "1 ['DecisionTreeClassificationModel:', 'uid=DecisionTreeClassifier_a92b0385d985,', 'depth=14,', 'numNodes=75,', 'numClasses=2,', 'numFeatures=1']\n",
      "2 ['DecisionTreeClassificationModel:', 'uid=DecisionTreeClassifier_c83d7e799d3b,', 'depth=14,', 'numNodes=75,', 'numClasses=2,', 'numFeatures=1']\n",
      "0 ['DecisionTreeClassificationModel:', 'uid=DecisionTreeClassifier_eb41dac0fd95,', 'depth=13,', 'numNodes=51,', 'numClasses=2,', 'numFeatures=1']\n",
      "1 ['DecisionTreeClassificationModel:', 'uid=DecisionTreeClassifier_ed80d464aa2b,', 'depth=13,', 'numNodes=51,', 'numClasses=2,', 'numFeatures=1']\n",
      "2 ['DecisionTreeClassificationModel:', 'uid=DecisionTreeClassifier_6785d34d6028,', 'depth=13,', 'numNodes=51,', 'numClasses=2,', 'numFeatures=1']\n",
      "0 ['DecisionTreeClassificationModel:', 'uid=DecisionTreeClassifier_bcff4fbb881d,', 'depth=14,', 'numNodes=67,', 'numClasses=2,', 'numFeatures=1']\n",
      "1 ['DecisionTreeClassificationModel:', 'uid=DecisionTreeClassifier_e6788bd67c0a,', 'depth=14,', 'numNodes=67,', 'numClasses=2,', 'numFeatures=1']\n",
      "2 ['DecisionTreeClassificationModel:', 'uid=DecisionTreeClassifier_1b6a98bb3612,', 'depth=14,', 'numNodes=67,', 'numClasses=2,', 'numFeatures=1']\n",
      "0 ['DecisionTreeClassificationModel:', 'uid=DecisionTreeClassifier_0a66b58b6fc7,', 'depth=13,', 'numNodes=69,', 'numClasses=2,', 'numFeatures=1']\n",
      "1 ['DecisionTreeClassificationModel:', 'uid=DecisionTreeClassifier_8776b9424a1b,', 'depth=13,', 'numNodes=69,', 'numClasses=2,', 'numFeatures=1']\n",
      "2 ['DecisionTreeClassificationModel:', 'uid=DecisionTreeClassifier_da43b38ddf2d,', 'depth=13,', 'numNodes=69,', 'numClasses=2,', 'numFeatures=1']\n",
      "0 ['DecisionTreeClassificationModel:', 'uid=DecisionTreeClassifier_fc78d1dd7b6e,', 'depth=14,', 'numNodes=63,', 'numClasses=2,', 'numFeatures=1']\n",
      "1 ['DecisionTreeClassificationModel:', 'uid=DecisionTreeClassifier_0d3164afcb8a,', 'depth=14,', 'numNodes=63,', 'numClasses=2,', 'numFeatures=1']\n",
      "2 ['DecisionTreeClassificationModel:', 'uid=DecisionTreeClassifier_306c744c2601,', 'depth=14,', 'numNodes=63,', 'numClasses=2,', 'numFeatures=1']\n",
      "0 ['DecisionTreeClassificationModel:', 'uid=DecisionTreeClassifier_8d5014484c89,', 'depth=14,', 'numNodes=77,', 'numClasses=2,', 'numFeatures=1']\n",
      "1 ['DecisionTreeClassificationModel:', 'uid=DecisionTreeClassifier_6c32b7d9db8d,', 'depth=14,', 'numNodes=77,', 'numClasses=2,', 'numFeatures=1']\n",
      "2 ['DecisionTreeClassificationModel:', 'uid=DecisionTreeClassifier_c00ec1a9dd09,', 'depth=14,', 'numNodes=77,', 'numClasses=2,', 'numFeatures=1']\n",
      "0 ['DecisionTreeClassificationModel:', 'uid=DecisionTreeClassifier_df64a006283e,', 'depth=11,', 'numNodes=51,', 'numClasses=2,', 'numFeatures=1']\n",
      "1 ['DecisionTreeClassificationModel:', 'uid=DecisionTreeClassifier_ed3f908c6df7,', 'depth=11,', 'numNodes=51,', 'numClasses=2,', 'numFeatures=1']\n",
      "2 ['DecisionTreeClassificationModel:', 'uid=DecisionTreeClassifier_1f4d074555e5,', 'depth=11,', 'numNodes=51,', 'numClasses=2,', 'numFeatures=1']\n",
      "0 ['DecisionTreeClassificationModel:', 'uid=DecisionTreeClassifier_418ee91b05f7,', 'depth=11,', 'numNodes=35,', 'numClasses=2,', 'numFeatures=1']\n",
      "1 ['DecisionTreeClassificationModel:', 'uid=DecisionTreeClassifier_b5a52fe23166,', 'depth=11,', 'numNodes=35,', 'numClasses=2,', 'numFeatures=1']\n",
      "2 ['DecisionTreeClassificationModel:', 'uid=DecisionTreeClassifier_9d664211f742,', 'depth=11,', 'numNodes=35,', 'numClasses=2,', 'numFeatures=1']\n",
      "0 ['DecisionTreeClassificationModel:', 'uid=DecisionTreeClassifier_ff137cddcfcb,', 'depth=14,', 'numNodes=61,', 'numClasses=2,', 'numFeatures=1']\n",
      "1 ['DecisionTreeClassificationModel:', 'uid=DecisionTreeClassifier_910c55b4897b,', 'depth=14,', 'numNodes=61,', 'numClasses=2,', 'numFeatures=1']\n",
      "2 ['DecisionTreeClassificationModel:', 'uid=DecisionTreeClassifier_abe01a0f0b8c,', 'depth=14,', 'numNodes=61,', 'numClasses=2,', 'numFeatures=1']\n",
      "0 ['DecisionTreeClassificationModel:', 'uid=DecisionTreeClassifier_81850f55e9d2,', 'depth=13,', 'numNodes=53,', 'numClasses=2,', 'numFeatures=1']\n",
      "1 ['DecisionTreeClassificationModel:', 'uid=DecisionTreeClassifier_40a89c292bba,', 'depth=13,', 'numNodes=53,', 'numClasses=2,', 'numFeatures=1']\n",
      "2 ['DecisionTreeClassificationModel:', 'uid=DecisionTreeClassifier_d754e7caef93,', 'depth=13,', 'numNodes=53,', 'numClasses=2,', 'numFeatures=1']\n",
      "0 ['DecisionTreeClassificationModel:', 'uid=DecisionTreeClassifier_4b21321c5352,', 'depth=11,', 'numNodes=35,', 'numClasses=2,', 'numFeatures=1']\n",
      "1 ['DecisionTreeClassificationModel:', 'uid=DecisionTreeClassifier_6da3d3bbe25e,', 'depth=11,', 'numNodes=35,', 'numClasses=2,', 'numFeatures=1']\n",
      "2 ['DecisionTreeClassificationModel:', 'uid=DecisionTreeClassifier_4130ab46842f,', 'depth=11,', 'numNodes=35,', 'numClasses=2,', 'numFeatures=1']\n",
      "0 ['DecisionTreeClassificationModel:', 'uid=DecisionTreeClassifier_6624d30001f4,', 'depth=13,', 'numNodes=57,', 'numClasses=2,', 'numFeatures=1']\n",
      "1 ['DecisionTreeClassificationModel:', 'uid=DecisionTreeClassifier_5f3c3abd9c69,', 'depth=13,', 'numNodes=57,', 'numClasses=2,', 'numFeatures=1']\n",
      "2 ['DecisionTreeClassificationModel:', 'uid=DecisionTreeClassifier_5489d90d67f0,', 'depth=13,', 'numNodes=57,', 'numClasses=2,', 'numFeatures=1']\n",
      "0 ['DecisionTreeClassificationModel:', 'uid=DecisionTreeClassifier_2e59ebc42db2,', 'depth=14,', 'numNodes=57,', 'numClasses=2,', 'numFeatures=1']\n",
      "1 ['DecisionTreeClassificationModel:', 'uid=DecisionTreeClassifier_d0c7347823de,', 'depth=14,', 'numNodes=57,', 'numClasses=2,', 'numFeatures=1']\n",
      "2 ['DecisionTreeClassificationModel:', 'uid=DecisionTreeClassifier_65a67ab76778,', 'depth=14,', 'numNodes=57,', 'numClasses=2,', 'numFeatures=1']\n",
      "0 ['DecisionTreeClassificationModel:', 'uid=DecisionTreeClassifier_d489f13c1fe6,', 'depth=12,', 'numNodes=39,', 'numClasses=2,', 'numFeatures=1']\n",
      "1 ['DecisionTreeClassificationModel:', 'uid=DecisionTreeClassifier_fb14d55ade8a,', 'depth=12,', 'numNodes=39,', 'numClasses=2,', 'numFeatures=1']\n",
      "2 ['DecisionTreeClassificationModel:', 'uid=DecisionTreeClassifier_202b29d9171e,', 'depth=12,', 'numNodes=39,', 'numClasses=2,', 'numFeatures=1']\n",
      "0 ['DecisionTreeClassificationModel:', 'uid=DecisionTreeClassifier_9392bebae21f,', 'depth=11,', 'numNodes=35,', 'numClasses=2,', 'numFeatures=1']\n",
      "1 ['DecisionTreeClassificationModel:', 'uid=DecisionTreeClassifier_a7538e33e642,', 'depth=11,', 'numNodes=35,', 'numClasses=2,', 'numFeatures=1']\n",
      "2 ['DecisionTreeClassificationModel:', 'uid=DecisionTreeClassifier_bec9573a93c9,', 'depth=11,', 'numNodes=35,', 'numClasses=2,', 'numFeatures=1']\n",
      "0 ['DecisionTreeClassificationModel:', 'uid=DecisionTreeClassifier_12becaece802,', 'depth=13,', 'numNodes=53,', 'numClasses=2,', 'numFeatures=1']\n",
      "1 ['DecisionTreeClassificationModel:', 'uid=DecisionTreeClassifier_33867aa19dc6,', 'depth=13,', 'numNodes=53,', 'numClasses=2,', 'numFeatures=1']\n",
      "2 ['DecisionTreeClassificationModel:', 'uid=DecisionTreeClassifier_8b011409723a,', 'depth=13,', 'numNodes=53,', 'numClasses=2,', 'numFeatures=1']\n",
      "0 ['DecisionTreeClassificationModel:', 'uid=DecisionTreeClassifier_8f189d680596,', 'depth=14,', 'numNodes=73,', 'numClasses=2,', 'numFeatures=1']\n",
      "1 ['DecisionTreeClassificationModel:', 'uid=DecisionTreeClassifier_6b7467c851ed,', 'depth=14,', 'numNodes=73,', 'numClasses=2,', 'numFeatures=1']\n",
      "2 ['DecisionTreeClassificationModel:', 'uid=DecisionTreeClassifier_aa491281a983,', 'depth=14,', 'numNodes=73,', 'numClasses=2,', 'numFeatures=1']\n",
      "0 ['DecisionTreeClassificationModel:', 'uid=DecisionTreeClassifier_7b3962690bce,', 'depth=14,', 'numNodes=49,', 'numClasses=2,', 'numFeatures=1']\n",
      "1 ['DecisionTreeClassificationModel:', 'uid=DecisionTreeClassifier_3a73c4a4a76c,', 'depth=14,', 'numNodes=49,', 'numClasses=2,', 'numFeatures=1']\n",
      "2 ['DecisionTreeClassificationModel:', 'uid=DecisionTreeClassifier_2447abbc3ef6,', 'depth=14,', 'numNodes=49,', 'numClasses=2,', 'numFeatures=1']\n",
      "0 ['DecisionTreeClassificationModel:', 'uid=DecisionTreeClassifier_d3302f76874e,', 'depth=11,', 'numNodes=31,', 'numClasses=2,', 'numFeatures=1']\n",
      "1 ['DecisionTreeClassificationModel:', 'uid=DecisionTreeClassifier_6398dfe580fc,', 'depth=11,', 'numNodes=31,', 'numClasses=2,', 'numFeatures=1']\n",
      "2 ['DecisionTreeClassificationModel:', 'uid=DecisionTreeClassifier_dfcd1fa795d2,', 'depth=11,', 'numNodes=31,', 'numClasses=2,', 'numFeatures=1']\n",
      "0 ['DecisionTreeClassificationModel:', 'uid=DecisionTreeClassifier_42c238a4c69e,', 'depth=14,', 'numNodes=79,', 'numClasses=2,', 'numFeatures=1']\n",
      "1 ['DecisionTreeClassificationModel:', 'uid=DecisionTreeClassifier_b75b58a4f2dc,', 'depth=14,', 'numNodes=79,', 'numClasses=2,', 'numFeatures=1']\n",
      "2 ['DecisionTreeClassificationModel:', 'uid=DecisionTreeClassifier_5e23b01e73a3,', 'depth=14,', 'numNodes=79,', 'numClasses=2,', 'numFeatures=1']\n",
      "0 ['DecisionTreeClassificationModel:', 'uid=DecisionTreeClassifier_def04af76438,', 'depth=14,', 'numNodes=61,', 'numClasses=2,', 'numFeatures=1']\n",
      "1 ['DecisionTreeClassificationModel:', 'uid=DecisionTreeClassifier_ed9dded815b6,', 'depth=14,', 'numNodes=61,', 'numClasses=2,', 'numFeatures=1']\n",
      "2 ['DecisionTreeClassificationModel:', 'uid=DecisionTreeClassifier_3cadd61107b8,', 'depth=14,', 'numNodes=61,', 'numClasses=2,', 'numFeatures=1']\n",
      "0 ['DecisionTreeClassificationModel:', 'uid=DecisionTreeClassifier_036ecf16432d,', 'depth=12,', 'numNodes=35,', 'numClasses=2,', 'numFeatures=1']\n",
      "1 ['DecisionTreeClassificationModel:', 'uid=DecisionTreeClassifier_1afec2cf6264,', 'depth=12,', 'numNodes=35,', 'numClasses=2,', 'numFeatures=1']\n",
      "2 ['DecisionTreeClassificationModel:', 'uid=DecisionTreeClassifier_50b53c895e87,', 'depth=12,', 'numNodes=35,', 'numClasses=2,', 'numFeatures=1']\n",
      "0 ['DecisionTreeClassificationModel:', 'uid=DecisionTreeClassifier_c0821e14c5e1,', 'depth=13,', 'numNodes=59,', 'numClasses=2,', 'numFeatures=1']\n",
      "1 ['DecisionTreeClassificationModel:', 'uid=DecisionTreeClassifier_27c452759cd5,', 'depth=13,', 'numNodes=59,', 'numClasses=2,', 'numFeatures=1']\n",
      "2 ['DecisionTreeClassificationModel:', 'uid=DecisionTreeClassifier_a7fc3d62d2c2,', 'depth=13,', 'numNodes=59,', 'numClasses=2,', 'numFeatures=1']\n",
      "0 ['DecisionTreeClassificationModel:', 'uid=DecisionTreeClassifier_e1b0a90383da,', 'depth=13,', 'numNodes=63,', 'numClasses=2,', 'numFeatures=1']\n",
      "1 ['DecisionTreeClassificationModel:', 'uid=DecisionTreeClassifier_ba5c40a16573,', 'depth=13,', 'numNodes=63,', 'numClasses=2,', 'numFeatures=1']\n",
      "2 ['DecisionTreeClassificationModel:', 'uid=DecisionTreeClassifier_e51582776ed3,', 'depth=13,', 'numNodes=63,', 'numClasses=2,', 'numFeatures=1']\n",
      "0 ['DecisionTreeClassificationModel:', 'uid=DecisionTreeClassifier_31a3a5af3cc6,', 'depth=14,', 'numNodes=73,', 'numClasses=2,', 'numFeatures=1']\n",
      "1 ['DecisionTreeClassificationModel:', 'uid=DecisionTreeClassifier_dbbd1eb10940,', 'depth=14,', 'numNodes=73,', 'numClasses=2,', 'numFeatures=1']\n",
      "2 ['DecisionTreeClassificationModel:', 'uid=DecisionTreeClassifier_d21990ee54ef,', 'depth=14,', 'numNodes=73,', 'numClasses=2,', 'numFeatures=1']\n",
      "0 ['DecisionTreeClassificationModel:', 'uid=DecisionTreeClassifier_e97e76ec1640,', 'depth=10,', 'numNodes=41,', 'numClasses=2,', 'numFeatures=1']\n",
      "1 ['DecisionTreeClassificationModel:', 'uid=DecisionTreeClassifier_7d3db5b5546f,', 'depth=10,', 'numNodes=41,', 'numClasses=2,', 'numFeatures=1']\n",
      "2 ['DecisionTreeClassificationModel:', 'uid=DecisionTreeClassifier_8d41f259ada4,', 'depth=10,', 'numNodes=41,', 'numClasses=2,', 'numFeatures=1']\n",
      "0 ['DecisionTreeClassificationModel:', 'uid=DecisionTreeClassifier_3930768dbe59,', 'depth=11,', 'numNodes=35,', 'numClasses=2,', 'numFeatures=1']\n",
      "1 ['DecisionTreeClassificationModel:', 'uid=DecisionTreeClassifier_ba7446c1af1c,', 'depth=11,', 'numNodes=35,', 'numClasses=2,', 'numFeatures=1']\n",
      "2 ['DecisionTreeClassificationModel:', 'uid=DecisionTreeClassifier_6d598f610f60,', 'depth=11,', 'numNodes=35,', 'numClasses=2,', 'numFeatures=1']\n",
      "0 ['DecisionTreeClassificationModel:', 'uid=DecisionTreeClassifier_9bb5ff2daa62,', 'depth=11,', 'numNodes=47,', 'numClasses=2,', 'numFeatures=1']\n",
      "1 ['DecisionTreeClassificationModel:', 'uid=DecisionTreeClassifier_9072705810d8,', 'depth=11,', 'numNodes=47,', 'numClasses=2,', 'numFeatures=1']\n",
      "2 ['DecisionTreeClassificationModel:', 'uid=DecisionTreeClassifier_edab63ee6e57,', 'depth=11,', 'numNodes=47,', 'numClasses=2,', 'numFeatures=1']\n",
      "0 ['DecisionTreeClassificationModel:', 'uid=DecisionTreeClassifier_7e4b4ceb3d7a,', 'depth=13,', 'numNodes=45,', 'numClasses=2,', 'numFeatures=1']\n",
      "1 ['DecisionTreeClassificationModel:', 'uid=DecisionTreeClassifier_882de4de9114,', 'depth=13,', 'numNodes=45,', 'numClasses=2,', 'numFeatures=1']\n",
      "2 ['DecisionTreeClassificationModel:', 'uid=DecisionTreeClassifier_0477f31a7698,', 'depth=13,', 'numNodes=45,', 'numClasses=2,', 'numFeatures=1']\n",
      "0 ['DecisionTreeClassificationModel:', 'uid=DecisionTreeClassifier_398e3ed8000a,', 'depth=9,', 'numNodes=33,', 'numClasses=2,', 'numFeatures=1']\n",
      "1 ['DecisionTreeClassificationModel:', 'uid=DecisionTreeClassifier_349e1092104d,', 'depth=9,', 'numNodes=33,', 'numClasses=2,', 'numFeatures=1']\n",
      "2 ['DecisionTreeClassificationModel:', 'uid=DecisionTreeClassifier_b94b06c2b23a,', 'depth=9,', 'numNodes=33,', 'numClasses=2,', 'numFeatures=1']\n",
      "0 ['DecisionTreeClassificationModel:', 'uid=DecisionTreeClassifier_d99200bba375,', 'depth=11,', 'numNodes=41,', 'numClasses=2,', 'numFeatures=1']\n",
      "1 ['DecisionTreeClassificationModel:', 'uid=DecisionTreeClassifier_f5a0b2d9bfcc,', 'depth=11,', 'numNodes=41,', 'numClasses=2,', 'numFeatures=1']\n",
      "2 ['DecisionTreeClassificationModel:', 'uid=DecisionTreeClassifier_0f53f4a98a2a,', 'depth=11,', 'numNodes=41,', 'numClasses=2,', 'numFeatures=1']\n",
      "0 ['DecisionTreeClassificationModel:', 'uid=DecisionTreeClassifier_7f21ebedcbf3,', 'depth=14,', 'numNodes=57,', 'numClasses=2,', 'numFeatures=1']\n",
      "1 ['DecisionTreeClassificationModel:', 'uid=DecisionTreeClassifier_a325283af886,', 'depth=14,', 'numNodes=57,', 'numClasses=2,', 'numFeatures=1']\n",
      "2 ['DecisionTreeClassificationModel:', 'uid=DecisionTreeClassifier_39bbb0366ce4,', 'depth=14,', 'numNodes=57,', 'numClasses=2,', 'numFeatures=1']\n",
      "0 ['DecisionTreeClassificationModel:', 'uid=DecisionTreeClassifier_22927ac1c1a6,', 'depth=12,', 'numNodes=39,', 'numClasses=2,', 'numFeatures=1']\n",
      "1 ['DecisionTreeClassificationModel:', 'uid=DecisionTreeClassifier_a1bc70f4127a,', 'depth=12,', 'numNodes=39,', 'numClasses=2,', 'numFeatures=1']\n",
      "2 ['DecisionTreeClassificationModel:', 'uid=DecisionTreeClassifier_bf28ba7c41a2,', 'depth=12,', 'numNodes=39,', 'numClasses=2,', 'numFeatures=1']\n",
      "0 ['DecisionTreeClassificationModel:', 'uid=DecisionTreeClassifier_b68b78b7b536,', 'depth=12,', 'numNodes=47,', 'numClasses=2,', 'numFeatures=1']\n",
      "1 ['DecisionTreeClassificationModel:', 'uid=DecisionTreeClassifier_1f4d4bf079ea,', 'depth=12,', 'numNodes=47,', 'numClasses=2,', 'numFeatures=1']\n",
      "2 ['DecisionTreeClassificationModel:', 'uid=DecisionTreeClassifier_2c639b598f80,', 'depth=12,', 'numNodes=47,', 'numClasses=2,', 'numFeatures=1']\n",
      "0 ['DecisionTreeClassificationModel:', 'uid=DecisionTreeClassifier_381e9b7e355c,', 'depth=11,', 'numNodes=41,', 'numClasses=2,', 'numFeatures=1']\n",
      "1 ['DecisionTreeClassificationModel:', 'uid=DecisionTreeClassifier_f2a7250b0372,', 'depth=11,', 'numNodes=41,', 'numClasses=2,', 'numFeatures=1']\n",
      "2 ['DecisionTreeClassificationModel:', 'uid=DecisionTreeClassifier_dfa6e11309f0,', 'depth=11,', 'numNodes=41,', 'numClasses=2,', 'numFeatures=1']\n",
      "0 ['DecisionTreeClassificationModel:', 'uid=DecisionTreeClassifier_3db7b4fbda0e,', 'depth=11,', 'numNodes=37,', 'numClasses=2,', 'numFeatures=1']\n",
      "1 ['DecisionTreeClassificationModel:', 'uid=DecisionTreeClassifier_51e5fb131026,', 'depth=11,', 'numNodes=37,', 'numClasses=2,', 'numFeatures=1']\n",
      "2 ['DecisionTreeClassificationModel:', 'uid=DecisionTreeClassifier_61c7d5ef178c,', 'depth=11,', 'numNodes=37,', 'numClasses=2,', 'numFeatures=1']\n",
      "0 ['DecisionTreeClassificationModel:', 'uid=DecisionTreeClassifier_8597b0456e2a,', 'depth=11,', 'numNodes=33,', 'numClasses=2,', 'numFeatures=1']\n",
      "1 ['DecisionTreeClassificationModel:', 'uid=DecisionTreeClassifier_a44b6fea9052,', 'depth=11,', 'numNodes=33,', 'numClasses=2,', 'numFeatures=1']\n",
      "2 ['DecisionTreeClassificationModel:', 'uid=DecisionTreeClassifier_2cc685c08753,', 'depth=11,', 'numNodes=33,', 'numClasses=2,', 'numFeatures=1']\n",
      "0 ['DecisionTreeClassificationModel:', 'uid=DecisionTreeClassifier_9877d1dcd181,', 'depth=12,', 'numNodes=39,', 'numClasses=2,', 'numFeatures=1']\n",
      "1 ['DecisionTreeClassificationModel:', 'uid=DecisionTreeClassifier_570df3ea1cd3,', 'depth=12,', 'numNodes=39,', 'numClasses=2,', 'numFeatures=1']\n",
      "2 ['DecisionTreeClassificationModel:', 'uid=DecisionTreeClassifier_2c84c806a601,', 'depth=12,', 'numNodes=39,', 'numClasses=2,', 'numFeatures=1']\n"
     ]
    },
    {
     "data": {
      "text/html": [
       "<div>\n",
       "<style scoped>\n",
       "    .dataframe tbody tr th:only-of-type {\n",
       "        vertical-align: middle;\n",
       "    }\n",
       "\n",
       "    .dataframe tbody tr th {\n",
       "        vertical-align: top;\n",
       "    }\n",
       "\n",
       "    .dataframe thead th {\n",
       "        text-align: right;\n",
       "    }\n",
       "</style>\n",
       "<table border=\"1\" class=\"dataframe\">\n",
       "  <thead>\n",
       "    <tr style=\"text-align: right;\">\n",
       "      <th></th>\n",
       "      <th>4</th>\n",
       "      <th>6</th>\n",
       "      <th>8</th>\n",
       "      <th>16</th>\n",
       "      <th>24</th>\n",
       "      <th>32</th>\n",
       "      <th>48</th>\n",
       "    </tr>\n",
       "  </thead>\n",
       "  <tbody>\n",
       "    <tr>\n",
       "      <th>1</th>\n",
       "      <td>9.3</td>\n",
       "      <td>9.2</td>\n",
       "      <td>10.3</td>\n",
       "      <td>15.3</td>\n",
       "      <td>18.8</td>\n",
       "      <td>14.6</td>\n",
       "      <td>16.1</td>\n",
       "    </tr>\n",
       "    <tr>\n",
       "      <th>2</th>\n",
       "      <td>6.4</td>\n",
       "      <td>9.5</td>\n",
       "      <td>10.6</td>\n",
       "      <td>13.9</td>\n",
       "      <td>9.4</td>\n",
       "      <td>20.5</td>\n",
       "      <td>12.3</td>\n",
       "    </tr>\n",
       "    <tr>\n",
       "      <th>5</th>\n",
       "      <td>10.2</td>\n",
       "      <td>7.4</td>\n",
       "      <td>7.0</td>\n",
       "      <td>7.4</td>\n",
       "      <td>8.2</td>\n",
       "      <td>7.8</td>\n",
       "      <td>11.0</td>\n",
       "    </tr>\n",
       "    <tr>\n",
       "      <th>10</th>\n",
       "      <td>11.7</td>\n",
       "      <td>10.7</td>\n",
       "      <td>10.1</td>\n",
       "      <td>8.6</td>\n",
       "      <td>8.1</td>\n",
       "      <td>8.9</td>\n",
       "      <td>9.1</td>\n",
       "    </tr>\n",
       "    <tr>\n",
       "      <th>15</th>\n",
       "      <td>15.3</td>\n",
       "      <td>13.5</td>\n",
       "      <td>10.5</td>\n",
       "      <td>8.6</td>\n",
       "      <td>8.2</td>\n",
       "      <td>6.9</td>\n",
       "      <td>9.0</td>\n",
       "    </tr>\n",
       "    <tr>\n",
       "      <th>20</th>\n",
       "      <td>15.6</td>\n",
       "      <td>12.9</td>\n",
       "      <td>10.7</td>\n",
       "      <td>8.5</td>\n",
       "      <td>8.1</td>\n",
       "      <td>7.0</td>\n",
       "      <td>9.1</td>\n",
       "    </tr>\n",
       "    <tr>\n",
       "      <th>30</th>\n",
       "      <td>22.8</td>\n",
       "      <td>15.9</td>\n",
       "      <td>14.1</td>\n",
       "      <td>10.4</td>\n",
       "      <td>8.6</td>\n",
       "      <td>7.7</td>\n",
       "      <td>10.2</td>\n",
       "    </tr>\n",
       "    <tr>\n",
       "      <th>50</th>\n",
       "      <td>32.3</td>\n",
       "      <td>23.4</td>\n",
       "      <td>18.5</td>\n",
       "      <td>12.7</td>\n",
       "      <td>11.7</td>\n",
       "      <td>9.9</td>\n",
       "      <td>12.2</td>\n",
       "    </tr>\n",
       "    <tr>\n",
       "      <th>100</th>\n",
       "      <td>55.1</td>\n",
       "      <td>41.0</td>\n",
       "      <td>31.9</td>\n",
       "      <td>23.0</td>\n",
       "      <td>17.2</td>\n",
       "      <td>16.3</td>\n",
       "      <td>17.3</td>\n",
       "    </tr>\n",
       "  </tbody>\n",
       "</table>\n",
       "</div>"
      ],
      "text/plain": [
       "       4     6     8     16    24    32    48\n",
       "1     9.3   9.2  10.3  15.3  18.8  14.6  16.1\n",
       "2     6.4   9.5  10.6  13.9   9.4  20.5  12.3\n",
       "5    10.2   7.4   7.0   7.4   8.2   7.8  11.0\n",
       "10   11.7  10.7  10.1   8.6   8.1   8.9   9.1\n",
       "15   15.3  13.5  10.5   8.6   8.2   6.9   9.0\n",
       "20   15.6  12.9  10.7   8.5   8.1   7.0   9.1\n",
       "30   22.8  15.9  14.1  10.4   8.6   7.7  10.2\n",
       "50   32.3  23.4  18.5  12.7  11.7   9.9  12.2\n",
       "100  55.1  41.0  31.9  23.0  17.2  16.3  17.3"
      ]
     },
     "metadata": {},
     "output_type": "display_data"
    },
    {
     "data": {
      "text/html": [
       "<div>\n",
       "<style scoped>\n",
       "    .dataframe tbody tr th:only-of-type {\n",
       "        vertical-align: middle;\n",
       "    }\n",
       "\n",
       "    .dataframe tbody tr th {\n",
       "        vertical-align: top;\n",
       "    }\n",
       "\n",
       "    .dataframe thead th {\n",
       "        text-align: right;\n",
       "    }\n",
       "</style>\n",
       "<table border=\"1\" class=\"dataframe\">\n",
       "  <thead>\n",
       "    <tr style=\"text-align: right;\">\n",
       "      <th></th>\n",
       "      <th>4</th>\n",
       "      <th>6</th>\n",
       "      <th>8</th>\n",
       "      <th>16</th>\n",
       "      <th>24</th>\n",
       "      <th>32</th>\n",
       "      <th>48</th>\n",
       "    </tr>\n",
       "  </thead>\n",
       "  <tbody>\n",
       "    <tr>\n",
       "      <th>1</th>\n",
       "      <td>123.0</td>\n",
       "      <td>123.0</td>\n",
       "      <td>123.0</td>\n",
       "      <td>123.0</td>\n",
       "      <td>123.0</td>\n",
       "      <td>123.0</td>\n",
       "      <td>123.0</td>\n",
       "    </tr>\n",
       "    <tr>\n",
       "      <th>2</th>\n",
       "      <td>101.0</td>\n",
       "      <td>129.0</td>\n",
       "      <td>129.0</td>\n",
       "      <td>149.0</td>\n",
       "      <td>141.0</td>\n",
       "      <td>123.0</td>\n",
       "      <td>127.0</td>\n",
       "    </tr>\n",
       "    <tr>\n",
       "      <th>5</th>\n",
       "      <td>87.0</td>\n",
       "      <td>101.0</td>\n",
       "      <td>87.0</td>\n",
       "      <td>77.0</td>\n",
       "      <td>99.0</td>\n",
       "      <td>87.0</td>\n",
       "      <td>97.0</td>\n",
       "    </tr>\n",
       "    <tr>\n",
       "      <th>10</th>\n",
       "      <td>69.0</td>\n",
       "      <td>75.0</td>\n",
       "      <td>65.0</td>\n",
       "      <td>61.0</td>\n",
       "      <td>75.0</td>\n",
       "      <td>51.0</td>\n",
       "      <td>67.0</td>\n",
       "    </tr>\n",
       "    <tr>\n",
       "      <th>15</th>\n",
       "      <td>69.0</td>\n",
       "      <td>63.0</td>\n",
       "      <td>77.0</td>\n",
       "      <td>51.0</td>\n",
       "      <td>35.0</td>\n",
       "      <td>61.0</td>\n",
       "      <td>53.0</td>\n",
       "    </tr>\n",
       "    <tr>\n",
       "      <th>20</th>\n",
       "      <td>35.0</td>\n",
       "      <td>57.0</td>\n",
       "      <td>57.0</td>\n",
       "      <td>39.0</td>\n",
       "      <td>35.0</td>\n",
       "      <td>53.0</td>\n",
       "      <td>73.0</td>\n",
       "    </tr>\n",
       "    <tr>\n",
       "      <th>30</th>\n",
       "      <td>49.0</td>\n",
       "      <td>31.0</td>\n",
       "      <td>79.0</td>\n",
       "      <td>61.0</td>\n",
       "      <td>35.0</td>\n",
       "      <td>59.0</td>\n",
       "      <td>63.0</td>\n",
       "    </tr>\n",
       "    <tr>\n",
       "      <th>50</th>\n",
       "      <td>73.0</td>\n",
       "      <td>41.0</td>\n",
       "      <td>35.0</td>\n",
       "      <td>47.0</td>\n",
       "      <td>45.0</td>\n",
       "      <td>33.0</td>\n",
       "      <td>41.0</td>\n",
       "    </tr>\n",
       "    <tr>\n",
       "      <th>100</th>\n",
       "      <td>57.0</td>\n",
       "      <td>39.0</td>\n",
       "      <td>47.0</td>\n",
       "      <td>41.0</td>\n",
       "      <td>37.0</td>\n",
       "      <td>33.0</td>\n",
       "      <td>39.0</td>\n",
       "    </tr>\n",
       "  </tbody>\n",
       "</table>\n",
       "</div>"
      ],
      "text/plain": [
       "        4      6      8      16     24     32     48\n",
       "1    123.0  123.0  123.0  123.0  123.0  123.0  123.0\n",
       "2    101.0  129.0  129.0  149.0  141.0  123.0  127.0\n",
       "5     87.0  101.0   87.0   77.0   99.0   87.0   97.0\n",
       "10    69.0   75.0   65.0   61.0   75.0   51.0   67.0\n",
       "15    69.0   63.0   77.0   51.0   35.0   61.0   53.0\n",
       "20    35.0   57.0   57.0   39.0   35.0   53.0   73.0\n",
       "30    49.0   31.0   79.0   61.0   35.0   59.0   63.0\n",
       "50    73.0   41.0   35.0   47.0   45.0   33.0   41.0\n",
       "100   57.0   39.0   47.0   41.0   37.0   33.0   39.0"
      ]
     },
     "metadata": {},
     "output_type": "display_data"
    }
   ],
   "source": [
    "di = result\n",
    "df_res_time = pd.DataFrame()\n",
    "df_res_nodes = pd.DataFrame()\n",
    "for p1 in di.keys():\n",
    "    for p2 in di[p1].keys():\n",
    "        df_res_time.loc[p1, p2] = np.round(np.mean(di[p1][p2][1]), 1)\n",
    "        m_tmp = di[p1][p2][0]\n",
    "        n_nodes = []\n",
    "        for i,_ in enumerate(m_tmp):\n",
    "            tmp = f'{m_tmp[i]}'.split(' ')\n",
    "            print(i, tmp)\n",
    "            n_nodes.append([int(x.split('=')[1][:-1]) for x in tmp if x[:4]== 'numN'][0])\n",
    "        df_res_nodes.loc[p1, p2] = np.round(np.mean(n_nodes), 1)\n",
    "\n",
    "df_res_time.to_csv(f'gs://mas-a5-storage-1/notebooks/jupyter/obj/{fn}_t.csv')\n",
    "df_res_nodes.to_csv(f'gs://mas-a5-storage-1/notebooks/jupyter/obj/{fn}_n.csv')\n",
    "\n",
    "display(df_res_time)      \n",
    "display(df_res_nodes)     "
   ]
  },
  {
   "cell_type": "code",
   "execution_count": 7,
   "id": "9a7dc76e",
   "metadata": {
    "ExecuteTime": {
     "end_time": "2021-11-23T18:10:35.920167Z",
     "start_time": "2021-11-23T18:10:35.863466Z"
    }
   },
   "outputs": [
    {
     "data": {
      "text/html": [
       "<div>\n",
       "<style scoped>\n",
       "    .dataframe tbody tr th:only-of-type {\n",
       "        vertical-align: middle;\n",
       "    }\n",
       "\n",
       "    .dataframe tbody tr th {\n",
       "        vertical-align: top;\n",
       "    }\n",
       "\n",
       "    .dataframe thead th {\n",
       "        text-align: right;\n",
       "    }\n",
       "</style>\n",
       "<table border=\"1\" class=\"dataframe\">\n",
       "  <thead>\n",
       "    <tr style=\"text-align: right;\">\n",
       "      <th></th>\n",
       "      <th>Unnamed: 0</th>\n",
       "      <th>4</th>\n",
       "      <th>6</th>\n",
       "      <th>8</th>\n",
       "      <th>16</th>\n",
       "      <th>24</th>\n",
       "      <th>32</th>\n",
       "      <th>48</th>\n",
       "    </tr>\n",
       "  </thead>\n",
       "  <tbody>\n",
       "    <tr>\n",
       "      <th>0</th>\n",
       "      <td>1</td>\n",
       "      <td>9.3</td>\n",
       "      <td>9.2</td>\n",
       "      <td>10.3</td>\n",
       "      <td>15.3</td>\n",
       "      <td>18.8</td>\n",
       "      <td>14.6</td>\n",
       "      <td>16.1</td>\n",
       "    </tr>\n",
       "    <tr>\n",
       "      <th>1</th>\n",
       "      <td>2</td>\n",
       "      <td>6.4</td>\n",
       "      <td>9.5</td>\n",
       "      <td>10.6</td>\n",
       "      <td>13.9</td>\n",
       "      <td>9.4</td>\n",
       "      <td>20.5</td>\n",
       "      <td>12.3</td>\n",
       "    </tr>\n",
       "    <tr>\n",
       "      <th>2</th>\n",
       "      <td>5</td>\n",
       "      <td>10.2</td>\n",
       "      <td>7.4</td>\n",
       "      <td>7.0</td>\n",
       "      <td>7.4</td>\n",
       "      <td>8.2</td>\n",
       "      <td>7.8</td>\n",
       "      <td>11.0</td>\n",
       "    </tr>\n",
       "    <tr>\n",
       "      <th>3</th>\n",
       "      <td>10</td>\n",
       "      <td>11.7</td>\n",
       "      <td>10.7</td>\n",
       "      <td>10.1</td>\n",
       "      <td>8.6</td>\n",
       "      <td>8.1</td>\n",
       "      <td>8.9</td>\n",
       "      <td>9.1</td>\n",
       "    </tr>\n",
       "    <tr>\n",
       "      <th>4</th>\n",
       "      <td>15</td>\n",
       "      <td>15.3</td>\n",
       "      <td>13.5</td>\n",
       "      <td>10.5</td>\n",
       "      <td>8.6</td>\n",
       "      <td>8.2</td>\n",
       "      <td>6.9</td>\n",
       "      <td>9.0</td>\n",
       "    </tr>\n",
       "    <tr>\n",
       "      <th>5</th>\n",
       "      <td>20</td>\n",
       "      <td>15.6</td>\n",
       "      <td>12.9</td>\n",
       "      <td>10.7</td>\n",
       "      <td>8.5</td>\n",
       "      <td>8.1</td>\n",
       "      <td>7.0</td>\n",
       "      <td>9.1</td>\n",
       "    </tr>\n",
       "    <tr>\n",
       "      <th>6</th>\n",
       "      <td>30</td>\n",
       "      <td>22.8</td>\n",
       "      <td>15.9</td>\n",
       "      <td>14.1</td>\n",
       "      <td>10.4</td>\n",
       "      <td>8.6</td>\n",
       "      <td>7.7</td>\n",
       "      <td>10.2</td>\n",
       "    </tr>\n",
       "    <tr>\n",
       "      <th>7</th>\n",
       "      <td>50</td>\n",
       "      <td>32.3</td>\n",
       "      <td>23.4</td>\n",
       "      <td>18.5</td>\n",
       "      <td>12.7</td>\n",
       "      <td>11.7</td>\n",
       "      <td>9.9</td>\n",
       "      <td>12.2</td>\n",
       "    </tr>\n",
       "    <tr>\n",
       "      <th>8</th>\n",
       "      <td>100</td>\n",
       "      <td>55.1</td>\n",
       "      <td>41.0</td>\n",
       "      <td>31.9</td>\n",
       "      <td>23.0</td>\n",
       "      <td>17.2</td>\n",
       "      <td>16.3</td>\n",
       "      <td>17.3</td>\n",
       "    </tr>\n",
       "  </tbody>\n",
       "</table>\n",
       "</div>"
      ],
      "text/plain": [
       "   Unnamed: 0     4     6     8    16    24    32    48\n",
       "0           1   9.3   9.2  10.3  15.3  18.8  14.6  16.1\n",
       "1           2   6.4   9.5  10.6  13.9   9.4  20.5  12.3\n",
       "2           5  10.2   7.4   7.0   7.4   8.2   7.8  11.0\n",
       "3          10  11.7  10.7  10.1   8.6   8.1   8.9   9.1\n",
       "4          15  15.3  13.5  10.5   8.6   8.2   6.9   9.0\n",
       "5          20  15.6  12.9  10.7   8.5   8.1   7.0   9.1\n",
       "6          30  22.8  15.9  14.1  10.4   8.6   7.7  10.2\n",
       "7          50  32.3  23.4  18.5  12.7  11.7   9.9  12.2\n",
       "8         100  55.1  41.0  31.9  23.0  17.2  16.3  17.3"
      ]
     },
     "execution_count": 7,
     "metadata": {},
     "output_type": "execute_result"
    }
   ],
   "source": [
    "fn = '4cpu_by_16n__4m'\n",
    "\n",
    "tmp = pd.read_csv(f'gs://mas-a5-storage-1/notebooks/jupyter/obj/{fn}_t.csv')\n",
    "tmp"
   ]
  },
  {
   "cell_type": "code",
   "execution_count": 8,
   "id": "cf3dc9e9",
   "metadata": {
    "ExecuteTime": {
     "end_time": "2021-11-23T18:10:43.222498Z",
     "start_time": "2021-11-23T18:10:43.151134Z"
    }
   },
   "outputs": [
    {
     "data": {
      "text/html": [
       "<div>\n",
       "<style scoped>\n",
       "    .dataframe tbody tr th:only-of-type {\n",
       "        vertical-align: middle;\n",
       "    }\n",
       "\n",
       "    .dataframe tbody tr th {\n",
       "        vertical-align: top;\n",
       "    }\n",
       "\n",
       "    .dataframe thead th {\n",
       "        text-align: right;\n",
       "    }\n",
       "</style>\n",
       "<table border=\"1\" class=\"dataframe\">\n",
       "  <thead>\n",
       "    <tr style=\"text-align: right;\">\n",
       "      <th></th>\n",
       "      <th>Unnamed: 0</th>\n",
       "      <th>4</th>\n",
       "      <th>6</th>\n",
       "      <th>8</th>\n",
       "      <th>16</th>\n",
       "      <th>24</th>\n",
       "      <th>32</th>\n",
       "      <th>48</th>\n",
       "    </tr>\n",
       "  </thead>\n",
       "  <tbody>\n",
       "    <tr>\n",
       "      <th>0</th>\n",
       "      <td>1</td>\n",
       "      <td>123.0</td>\n",
       "      <td>123.0</td>\n",
       "      <td>123.0</td>\n",
       "      <td>123.0</td>\n",
       "      <td>123.0</td>\n",
       "      <td>123.0</td>\n",
       "      <td>123.0</td>\n",
       "    </tr>\n",
       "    <tr>\n",
       "      <th>1</th>\n",
       "      <td>2</td>\n",
       "      <td>101.0</td>\n",
       "      <td>129.0</td>\n",
       "      <td>129.0</td>\n",
       "      <td>149.0</td>\n",
       "      <td>141.0</td>\n",
       "      <td>123.0</td>\n",
       "      <td>127.0</td>\n",
       "    </tr>\n",
       "    <tr>\n",
       "      <th>2</th>\n",
       "      <td>5</td>\n",
       "      <td>87.0</td>\n",
       "      <td>101.0</td>\n",
       "      <td>87.0</td>\n",
       "      <td>77.0</td>\n",
       "      <td>99.0</td>\n",
       "      <td>87.0</td>\n",
       "      <td>97.0</td>\n",
       "    </tr>\n",
       "    <tr>\n",
       "      <th>3</th>\n",
       "      <td>10</td>\n",
       "      <td>69.0</td>\n",
       "      <td>75.0</td>\n",
       "      <td>65.0</td>\n",
       "      <td>61.0</td>\n",
       "      <td>75.0</td>\n",
       "      <td>51.0</td>\n",
       "      <td>67.0</td>\n",
       "    </tr>\n",
       "    <tr>\n",
       "      <th>4</th>\n",
       "      <td>15</td>\n",
       "      <td>69.0</td>\n",
       "      <td>63.0</td>\n",
       "      <td>77.0</td>\n",
       "      <td>51.0</td>\n",
       "      <td>35.0</td>\n",
       "      <td>61.0</td>\n",
       "      <td>53.0</td>\n",
       "    </tr>\n",
       "    <tr>\n",
       "      <th>5</th>\n",
       "      <td>20</td>\n",
       "      <td>35.0</td>\n",
       "      <td>57.0</td>\n",
       "      <td>57.0</td>\n",
       "      <td>39.0</td>\n",
       "      <td>35.0</td>\n",
       "      <td>53.0</td>\n",
       "      <td>73.0</td>\n",
       "    </tr>\n",
       "    <tr>\n",
       "      <th>6</th>\n",
       "      <td>30</td>\n",
       "      <td>49.0</td>\n",
       "      <td>31.0</td>\n",
       "      <td>79.0</td>\n",
       "      <td>61.0</td>\n",
       "      <td>35.0</td>\n",
       "      <td>59.0</td>\n",
       "      <td>63.0</td>\n",
       "    </tr>\n",
       "    <tr>\n",
       "      <th>7</th>\n",
       "      <td>50</td>\n",
       "      <td>73.0</td>\n",
       "      <td>41.0</td>\n",
       "      <td>35.0</td>\n",
       "      <td>47.0</td>\n",
       "      <td>45.0</td>\n",
       "      <td>33.0</td>\n",
       "      <td>41.0</td>\n",
       "    </tr>\n",
       "    <tr>\n",
       "      <th>8</th>\n",
       "      <td>100</td>\n",
       "      <td>57.0</td>\n",
       "      <td>39.0</td>\n",
       "      <td>47.0</td>\n",
       "      <td>41.0</td>\n",
       "      <td>37.0</td>\n",
       "      <td>33.0</td>\n",
       "      <td>39.0</td>\n",
       "    </tr>\n",
       "  </tbody>\n",
       "</table>\n",
       "</div>"
      ],
      "text/plain": [
       "   Unnamed: 0      4      6      8     16     24     32     48\n",
       "0           1  123.0  123.0  123.0  123.0  123.0  123.0  123.0\n",
       "1           2  101.0  129.0  129.0  149.0  141.0  123.0  127.0\n",
       "2           5   87.0  101.0   87.0   77.0   99.0   87.0   97.0\n",
       "3          10   69.0   75.0   65.0   61.0   75.0   51.0   67.0\n",
       "4          15   69.0   63.0   77.0   51.0   35.0   61.0   53.0\n",
       "5          20   35.0   57.0   57.0   39.0   35.0   53.0   73.0\n",
       "6          30   49.0   31.0   79.0   61.0   35.0   59.0   63.0\n",
       "7          50   73.0   41.0   35.0   47.0   45.0   33.0   41.0\n",
       "8         100   57.0   39.0   47.0   41.0   37.0   33.0   39.0"
      ]
     },
     "execution_count": 8,
     "metadata": {},
     "output_type": "execute_result"
    }
   ],
   "source": [
    "fn = '4cpu_by_16n__4m'\n",
    "tmp = pd.read_csv(f'gs://mas-a5-storage-1/notebooks/jupyter/obj/{fn}_n.csv')\n",
    "tmp"
   ]
  }
 ],
 "metadata": {
  "kernelspec": {
   "display_name": "PySpark",
   "language": "python",
   "name": "pyspark"
  },
  "language_info": {
   "codemirror_mode": {
    "name": "ipython",
    "version": 3
   },
   "file_extension": ".py",
   "mimetype": "text/x-python",
   "name": "python",
   "nbconvert_exporter": "python",
   "pygments_lexer": "ipython3",
   "version": "3.8.12"
  },
  "toc": {
   "base_numbering": 1,
   "nav_menu": {},
   "number_sections": true,
   "sideBar": true,
   "skip_h1_title": false,
   "title_cell": "Table of Contents",
   "title_sidebar": "Contents",
   "toc_cell": false,
   "toc_position": {},
   "toc_section_display": true,
   "toc_window_display": true
  }
 },
 "nbformat": 4,
 "nbformat_minor": 5
}