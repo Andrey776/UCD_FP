{
 "cells": [
  {
   "cell_type": "code",
   "execution_count": 143,
   "id": "3e3eff7a",
   "metadata": {},
   "outputs": [
    {
     "name": "stdout",
     "output_type": "stream",
     "text": [
      "3.8.5 16\n"
     ]
    }
   ],
   "source": [
    "print(python_version(), joblib.cpu_count())"
   ]
  },
  {
   "cell_type": "code",
   "execution_count": 3,
   "id": "05dbfa9d",
   "metadata": {},
   "outputs": [],
   "source": [
    "import sys\n",
    "import pandas as pd\n",
    "import numpy as np\n",
    "import random\n",
    "import pyspark\n",
    "import time \n",
    "import itertools\n",
    "import matplotlib.pyplot as plt\n",
    "import itertools\n",
    "import seaborn as sns\n",
    "import pickle\n",
    "import statsmodels.api as sm\n",
    "\n",
    "from collections import Counter\n",
    "\n",
    "from math import sqrt\n",
    "from platform import python_version\n",
    "\n",
    "from pyspark.sql import SparkSession\n",
    "from pyspark.sql import functions as f\n",
    "#from pyspark.mllib.feature import MDLPDiscretizer\n",
    "from pyspark.mllib.util import MLUtils\n",
    "from pyspark.mllib.regression import LabeledPoint\n",
    "from pyspark.mllib.tree import DecisionTree, DecisionTreeModel\n",
    "from pyspark.ml.linalg import Vectors\n",
    "\n",
    "import joblib\n",
    "from joblib import parallel_backend\n",
    "from joblib import Parallel, delayed\n",
    "\n",
    "from pandas_profiling import ProfileReport\n",
    "\n",
    "from sklearn.preprocessing import KBinsDiscretizer\n",
    "from sklearn.tree import DecisionTreeClassifier\n",
    "#from sklearn.datasets import load_boston\n",
    "from sklearn.model_selection import GridSearchCV\n",
    "from sklearn.linear_model import LogisticRegression\n",
    "from sklearn.ensemble import GradientBoostingClassifier\n",
    "\n",
    "from sklearn.metrics import f1_score, r2_score, roc_curve, auc, accuracy_score, roc_auc_score\n",
    "from sklearn.model_selection import train_test_split\n",
    "from sklearn.pipeline import Pipeline\n",
    "\n",
    "from optbinning import OptimalBinning\n",
    "from optbinning import MDLP\n",
    "from optbinning import BinningProcess\n",
    "from optbinning.binning.transformations import transform_event_rate_to_woe\n",
    "from optbinning.binning.metrics import gini\n",
    "from optbinning.binning.outlier import ModifiedZScoreDetector\n",
    "\n",
    "#plt.style.use('seaborn')    \n",
    "#plt.style.use('default') "
   ]
  },
  {
   "cell_type": "code",
   "execution_count": 4,
   "id": "45e9d05c",
   "metadata": {},
   "outputs": [],
   "source": [
    "target = 'TARGET'\n",
    "variables = ['DAYS_EMPLOYED', 'AMT_GOODS_PRICE', 'EXT_SOURCE_3']\n",
    "def prepare_df(df_spark, variables = variables, \n",
    "               remove_outl = True, remove_na = True):\n",
    "    '''just ulpoad and creates the initial df from previously uploaded spark d0'''\n",
    "    df0 = df_spark.select(variables + [target]).toPandas()\n",
    "    df0.DAYS_EMPLOYED.replace(365243, np.nan, inplace=True)\n",
    "    print(f'df initial shape: {df0.shape}\\n')\n",
    "    if remove_na:\n",
    "        df = df0.dropna(axis=0).reset_index(drop = True)\n",
    "        print(f'df shape after processing missing values: {df.shape}\\n')\n",
    "    else: \n",
    "        df = df0\n",
    "    outl = ModifiedZScoreDetector(3.5)\n",
    "    if remove_outl:\n",
    "        for variable in variables:\n",
    "            outl.fit(df[variable])\n",
    "            df = df[~outl.get_support()]\n",
    "            print(f'N outliers in {variable}: {outl.get_support().sum()},\\\n",
    "            df shape after outlier removal: {df.shape}')\n",
    "        df = df.reset_index(drop = True)\n",
    "    print(f'\\nfinal df shape: {df.shape}')\n",
    "    # we remove nan not to spent time for different method API's\n",
    "    return df"
   ]
  },
  {
   "cell_type": "code",
   "execution_count": 2,
   "id": "5ff1c095",
   "metadata": {},
   "outputs": [
    {
     "name": "stderr",
     "output_type": "stream",
     "text": [
      "21/11/18 08:42:18 WARN Utils: Your hostname, MacBook-Pro-16-Andrei.local resolves to a loopback address: 127.0.0.1; using 192.168.1.8 instead (on interface en0)\n",
      "21/11/18 08:42:18 WARN Utils: Set SPARK_LOCAL_IP if you need to bind to another address\n",
      "WARNING: An illegal reflective access operation has occurred\n",
      "WARNING: Illegal reflective access by org.apache.spark.unsafe.Platform (file:/Users/AM/opt/anaconda3/lib/python3.8/site-packages/pyspark/jars/spark-unsafe_2.12-3.1.1.jar) to constructor java.nio.DirectByteBuffer(long,int)\n",
      "WARNING: Please consider reporting this to the maintainers of org.apache.spark.unsafe.Platform\n",
      "WARNING: Use --illegal-access=warn to enable warnings of further illegal reflective access operations\n",
      "WARNING: All illegal access operations will be denied in a future release\n",
      "21/11/18 08:42:18 WARN NativeCodeLoader: Unable to load native-hadoop library for your platform... using builtin-java classes where applicable\n",
      "Using Spark's default log4j profile: org/apache/spark/log4j-defaults.properties\n",
      "Setting default log level to \"WARN\".\n",
      "To adjust logging level use sc.setLogLevel(newLevel). For SparkR, use setLogLevel(newLevel).\n",
      "21/11/18 08:42:19 WARN Utils: Service 'SparkUI' could not bind on port 4040. Attempting port 4041.\n"
     ]
    },
    {
     "data": {
      "text/html": [
       "\n",
       "            <div>\n",
       "                <p><b>SparkSession - in-memory</b></p>\n",
       "                \n",
       "        <div>\n",
       "            <p><b>SparkContext</b></p>\n",
       "\n",
       "            <p><a href=\"http://192.168.1.8:4041\">Spark UI</a></p>\n",
       "\n",
       "            <dl>\n",
       "              <dt>Version</dt>\n",
       "                <dd><code>v3.1.1</code></dd>\n",
       "              <dt>Master</dt>\n",
       "                <dd><code>local</code></dd>\n",
       "              <dt>AppName</dt>\n",
       "                <dd><code>spark_app_1234</code></dd>\n",
       "            </dl>\n",
       "        </div>\n",
       "        \n",
       "            </div>\n",
       "        "
      ],
      "text/plain": [
       "<pyspark.sql.session.SparkSession at 0x7fe5a2d15520>"
      ]
     },
     "execution_count": 2,
     "metadata": {},
     "output_type": "execute_result"
    }
   ],
   "source": [
    "spark = SparkSession.builder.master(\"local\").appName(\"spark_app_1234\").getOrCreate()\n",
    "\n",
    "sc = spark.sparkContext\n",
    "spark"
   ]
  },
  {
   "cell_type": "code",
   "execution_count": null,
   "id": "660618b6",
   "metadata": {},
   "outputs": [],
   "source": []
  },
  {
   "cell_type": "code",
   "execution_count": null,
   "id": "84876b38",
   "metadata": {},
   "outputs": [],
   "source": [
    "spark.sparkContext.getConf().getAll()"
   ]
  },
  {
   "cell_type": "code",
   "execution_count": 5,
   "id": "fc30351d",
   "metadata": {},
   "outputs": [
    {
     "name": "stderr",
     "output_type": "stream",
     "text": [
      "                                                                                \r"
     ]
    }
   ],
   "source": [
    "d0 = (\n",
    "    spark\n",
    "    .read\n",
    "    .format(\"csv\") \n",
    "    .option(\"header\",\"true\") \n",
    "    .option(\"inferSchema\",\"true\") \n",
    "    .load(\"/Users/AM/home-credit-default-risk/application_train.csv\")\n",
    ")\n"
   ]
  },
  {
   "cell_type": "code",
   "execution_count": 6,
   "id": "ca0f26e9",
   "metadata": {},
   "outputs": [
    {
     "name": "stderr",
     "output_type": "stream",
     "text": [
      "21/11/18 08:45:46 WARN package: Truncated the string representation of a plan since it was too large. This behavior can be adjusted by setting 'spark.sql.debug.maxToStringFields'.\n",
      "                                                                                \r"
     ]
    },
    {
     "name": "stdout",
     "output_type": "stream",
     "text": [
      "df initial shape: (307511, 32)\n",
      "\n",
      "\n",
      "final df shape: (307511, 32)\n"
     ]
    }
   ],
   "source": [
    "variables = ['DAYS_EMPLOYED', 'AMT_GOODS_PRICE', 'EXT_SOURCE_3']\n",
    "variables_wide = variables + ['CNT_CHILDREN', 'AMT_INCOME_TOTAL', 'REGION_POPULATION_RELATIVE', \n",
    "                              'OWN_CAR_AGE', 'DAYS_BIRTH', 'DAYS_REGISTRATION',\n",
    "                              'DAYS_ID_PUBLISH','CNT_FAM_MEMBERS', 'HOUR_APPR_PROCESS_START', 'EXT_SOURCE_1',\n",
    "                              'EXT_SOURCE_2', 'APARTMENTS_AVG', 'BASEMENTAREA_AVG', 'YEARS_BUILD_AVG',\n",
    "                              'ENTRANCES_AVG', 'LANDAREA_AVG', 'LIVINGAPARTMENTS_AVG', \n",
    "                              'LIVINGAREA_AVG', 'APARTMENTS_MODE', 'BASEMENTAREA_MODE',\n",
    "                              'YEARS_BUILD_MODE', 'LIVINGAREA_MODE', 'APARTMENTS_MEDI',\n",
    "                              'TOTALAREA_MODE', 'OBS_30_CNT_SOCIAL_CIRCLE', 'DEF_30_CNT_SOCIAL_CIRCLE',\n",
    "                              'DAYS_LAST_PHONE_CHANGE', 'AMT_REQ_CREDIT_BUREAU_YEAR']\n",
    "df = prepare_df(d0, variables_wide, remove_outl=False, remove_na=False)"
   ]
  },
  {
   "cell_type": "code",
   "execution_count": 7,
   "id": "1486cbfc",
   "metadata": {},
   "outputs": [],
   "source": [
    "df_dea = ProfileReport(df)\n"
   ]
  },
  {
   "cell_type": "code",
   "execution_count": 8,
   "id": "e6c70ed1",
   "metadata": {},
   "outputs": [
    {
     "data": {
      "application/vnd.jupyter.widget-view+json": {
       "model_id": "7e8753d95d474ad8aa2741fbd92d0472",
       "version_major": 2,
       "version_minor": 0
      },
      "text/plain": [
       "Summarize dataset:   0%|          | 0/5 [00:00<?, ?it/s]"
      ]
     },
     "metadata": {},
     "output_type": "display_data"
    },
    {
     "name": "stderr",
     "output_type": "stream",
     "text": [
      "/Users/AM/opt/anaconda3/lib/python3.8/site-packages/scipy/stats/stats.py:4812: RuntimeWarning: overflow encountered in long_scalars\n",
      "  (2 * xtie * ytie) / m + x0 * y0 / (9 * m * (size - 2)))\n"
     ]
    },
    {
     "data": {
      "application/vnd.jupyter.widget-view+json": {
       "model_id": "4524a72e4e9c4762bd360ab8c9daa0e7",
       "version_major": 2,
       "version_minor": 0
      },
      "text/plain": [
       "Generate report structure:   0%|          | 0/1 [00:00<?, ?it/s]"
      ]
     },
     "metadata": {},
     "output_type": "display_data"
    },
    {
     "data": {
      "application/vnd.jupyter.widget-view+json": {
       "model_id": "c86b851ed0ad4b39a885450e360262fc",
       "version_major": 2,
       "version_minor": 0
      },
      "text/plain": [
       "Render HTML:   0%|          | 0/1 [00:00<?, ?it/s]"
      ]
     },
     "metadata": {},
     "output_type": "display_data"
    },
    {
     "data": {
      "application/vnd.jupyter.widget-view+json": {
       "model_id": "cd118cca1f604bd19471089d5958b888",
       "version_major": 2,
       "version_minor": 0
      },
      "text/plain": [
       "Export report to file:   0%|          | 0/1 [00:00<?, ?it/s]"
      ]
     },
     "metadata": {},
     "output_type": "display_data"
    }
   ],
   "source": [
    "df_dea.to_file('df_dea_wide.html')\n"
   ]
  },
  {
   "cell_type": "code",
   "execution_count": null,
   "id": "8833d251",
   "metadata": {},
   "outputs": [],
   "source": [
    "d.select(f.sum(\"TARGET\").alias('Total target')).show()"
   ]
  },
  {
   "cell_type": "code",
   "execution_count": null,
   "id": "5b4e0f7a",
   "metadata": {},
   "outputs": [],
   "source": [
    "d.select('AMT_GOODS_PRICE', 'DAYS_EMPLOYED', 'TARGET')\\\n",
    "    .describe().show()"
   ]
  },
  {
   "cell_type": "code",
   "execution_count": 75,
   "id": "e5058d5c",
   "metadata": {},
   "outputs": [
    {
     "name": "stderr",
     "output_type": "stream",
     "text": [
      "                                                                                \r"
     ]
    }
   ],
   "source": [
    "df = d0.select('AMT_GOODS_PRICE', 'DAYS_EMPLOYED', 'TARGET')\\\n",
    "    .toPandas()"
   ]
  },
  {
   "cell_type": "markdown",
   "id": "6dd5bf13",
   "metadata": {},
   "source": [
    "## Binning sbx"
   ]
  },
  {
   "cell_type": "markdown",
   "id": "15ec10d4",
   "metadata": {},
   "source": [
    "### upload"
   ]
  },
  {
   "cell_type": "code",
   "execution_count": 231,
   "id": "6776d200",
   "metadata": {},
   "outputs": [
    {
     "data": {
      "text/plain": [
       "<AxesSubplot:>"
      ]
     },
     "execution_count": 231,
     "metadata": {},
     "output_type": "execute_result"
    },
    {
     "data": {
      "image/png": "[encoded data removed]",
      "text/plain": [
       "<Figure size 432x288 with 1 Axes>"
      ]
     },
     "metadata": {
      "needs_background": "light"
     },
     "output_type": "display_data"
    }
   ],
   "source": [
    "df.DAYS_EMPLOYED.hist()"
   ]
  },
  {
   "cell_type": "code",
   "execution_count": 76,
   "id": "751db9c8",
   "metadata": {},
   "outputs": [
    {
     "data": {
      "text/plain": [
       "<AxesSubplot:>"
      ]
     },
     "execution_count": 76,
     "metadata": {},
     "output_type": "execute_result"
    },
    {
     "data": {
      "image/png": "[encoded data removed]",
      "text/plain": [
       "<Figure size 432x288 with 1 Axes>"
      ]
     },
     "metadata": {
      "needs_background": "light"
     },
     "output_type": "display_data"
    }
   ],
   "source": [
    "df.DAYS_EMPLOYED.replace(365243, np.nan, inplace=True)\n",
    "df.DAYS_EMPLOYED.hist()"
   ]
  },
  {
   "cell_type": "code",
   "execution_count": 77,
   "id": "8978bda0",
   "metadata": {},
   "outputs": [],
   "source": [
    "variable = \"AMT_GOODS_PRICE\"\n",
    "x = df[variable].values\n",
    "y = df.TARGET"
   ]
  },
  {
   "cell_type": "code",
   "execution_count": 234,
   "id": "1285c6ac",
   "metadata": {},
   "outputs": [
    {
     "data": {
      "text/plain": [
       "'OPTIMAL'"
      ]
     },
     "execution_count": 234,
     "metadata": {},
     "output_type": "execute_result"
    }
   ],
   "source": [
    "optb = OptimalBinning(name=variable, dtype=\"numerical\")\n",
    "#optb = OptimalBinning(variable)\n",
    "optb.fit(x, y)\n",
    "optb.status\n"
   ]
  },
  {
   "cell_type": "code",
   "execution_count": null,
   "id": "249223d4",
   "metadata": {},
   "outputs": [],
   "source": []
  },
  {
   "cell_type": "code",
   "execution_count": 235,
   "id": "516ecf58",
   "metadata": {},
   "outputs": [
    {
     "data": {
      "text/plain": [
       "array([ 158283.  ,  206266.5 ,  283083.75,  407362.5 ,  450117.  ,\n",
       "        677889.  ,  902371.5 , 1272687.75])"
      ]
     },
     "execution_count": 235,
     "metadata": {},
     "output_type": "execute_result"
    }
   ],
   "source": [
    "optb.splits"
   ]
  },
  {
   "cell_type": "code",
   "execution_count": 20,
   "id": "6d10f525",
   "metadata": {},
   "outputs": [
    {
     "data": {
      "text/html": [
       "<div>\n",
       "<style scoped>\n",
       "    .dataframe tbody tr th:only-of-type {\n",
       "        vertical-align: middle;\n",
       "    }\n",
       "\n",
       "    .dataframe tbody tr th {\n",
       "        vertical-align: top;\n",
       "    }\n",
       "\n",
       "    .dataframe thead th {\n",
       "        text-align: right;\n",
       "    }\n",
       "</style>\n",
       "<table border=\"1\" class=\"dataframe\">\n",
       "  <thead>\n",
       "    <tr style=\"text-align: right;\">\n",
       "      <th></th>\n",
       "      <th>Bin</th>\n",
       "      <th>Count</th>\n",
       "      <th>Count (%)</th>\n",
       "      <th>Non-event</th>\n",
       "      <th>Event</th>\n",
       "      <th>Event rate</th>\n",
       "      <th>WoE</th>\n",
       "      <th>IV</th>\n",
       "      <th>JS</th>\n",
       "    </tr>\n",
       "  </thead>\n",
       "  <tbody>\n",
       "    <tr>\n",
       "      <th>0</th>\n",
       "      <td>(-inf, 158283.00)</td>\n",
       "      <td>27665</td>\n",
       "      <td>0.089964</td>\n",
       "      <td>25819</td>\n",
       "      <td>1846</td>\n",
       "      <td>0.066727</td>\n",
       "      <td>0.205604</td>\n",
       "      <td>0.003490</td>\n",
       "      <td>4.354743e-04</td>\n",
       "    </tr>\n",
       "    <tr>\n",
       "      <th>1</th>\n",
       "      <td>[158283.00, 206266.50)</td>\n",
       "      <td>17225</td>\n",
       "      <td>0.056014</td>\n",
       "      <td>15787</td>\n",
       "      <td>1438</td>\n",
       "      <td>0.083483</td>\n",
       "      <td>-0.036552</td>\n",
       "      <td>0.000076</td>\n",
       "      <td>9.498700e-06</td>\n",
       "    </tr>\n",
       "    <tr>\n",
       "      <th>2</th>\n",
       "      <td>[206266.50, 283083.75)</td>\n",
       "      <td>55555</td>\n",
       "      <td>0.180660</td>\n",
       "      <td>50872</td>\n",
       "      <td>4683</td>\n",
       "      <td>0.084295</td>\n",
       "      <td>-0.047112</td>\n",
       "      <td>0.000409</td>\n",
       "      <td>5.111800e-05</td>\n",
       "    </tr>\n",
       "    <tr>\n",
       "      <th>3</th>\n",
       "      <td>[283083.75, 407362.50)</td>\n",
       "      <td>28384</td>\n",
       "      <td>0.092302</td>\n",
       "      <td>25466</td>\n",
       "      <td>2918</td>\n",
       "      <td>0.102804</td>\n",
       "      <td>-0.26604</td>\n",
       "      <td>0.007305</td>\n",
       "      <td>9.103978e-04</td>\n",
       "    </tr>\n",
       "    <tr>\n",
       "      <th>4</th>\n",
       "      <td>[407362.50, 450117.00)</td>\n",
       "      <td>29150</td>\n",
       "      <td>0.094793</td>\n",
       "      <td>25132</td>\n",
       "      <td>4018</td>\n",
       "      <td>0.137839</td>\n",
       "      <td>-0.599128</td>\n",
       "      <td>0.043706</td>\n",
       "      <td>5.382927e-03</td>\n",
       "    </tr>\n",
       "    <tr>\n",
       "      <th>5</th>\n",
       "      <td>[450117.00, 677889.00)</td>\n",
       "      <td>68896</td>\n",
       "      <td>0.224044</td>\n",
       "      <td>63572</td>\n",
       "      <td>5324</td>\n",
       "      <td>0.077276</td>\n",
       "      <td>0.047463</td>\n",
       "      <td>0.000495</td>\n",
       "      <td>6.184006e-05</td>\n",
       "    </tr>\n",
       "    <tr>\n",
       "      <th>6</th>\n",
       "      <td>[677889.00, 902371.50)</td>\n",
       "      <td>38480</td>\n",
       "      <td>0.125134</td>\n",
       "      <td>36043</td>\n",
       "      <td>2437</td>\n",
       "      <td>0.063332</td>\n",
       "      <td>0.261459</td>\n",
       "      <td>0.007670</td>\n",
       "      <td>9.560082e-04</td>\n",
       "    </tr>\n",
       "    <tr>\n",
       "      <th>7</th>\n",
       "      <td>[902371.50, 1272687.75)</td>\n",
       "      <td>25757</td>\n",
       "      <td>0.083760</td>\n",
       "      <td>24303</td>\n",
       "      <td>1454</td>\n",
       "      <td>0.056451</td>\n",
       "      <td>0.383796</td>\n",
       "      <td>0.010517</td>\n",
       "      <td>1.306574e-03</td>\n",
       "    </tr>\n",
       "    <tr>\n",
       "      <th>8</th>\n",
       "      <td>[1272687.75, inf)</td>\n",
       "      <td>16121</td>\n",
       "      <td>0.052424</td>\n",
       "      <td>15435</td>\n",
       "      <td>686</td>\n",
       "      <td>0.042553</td>\n",
       "      <td>0.68103</td>\n",
       "      <td>0.018366</td>\n",
       "      <td>2.252372e-03</td>\n",
       "    </tr>\n",
       "    <tr>\n",
       "      <th>9</th>\n",
       "      <td>Special</td>\n",
       "      <td>0</td>\n",
       "      <td>0.000000</td>\n",
       "      <td>0</td>\n",
       "      <td>0</td>\n",
       "      <td>0.000000</td>\n",
       "      <td>0.0</td>\n",
       "      <td>0.000000</td>\n",
       "      <td>0.000000e+00</td>\n",
       "    </tr>\n",
       "    <tr>\n",
       "      <th>10</th>\n",
       "      <td>Missing</td>\n",
       "      <td>278</td>\n",
       "      <td>0.000904</td>\n",
       "      <td>257</td>\n",
       "      <td>21</td>\n",
       "      <td>0.075540</td>\n",
       "      <td>0.072068</td>\n",
       "      <td>0.000005</td>\n",
       "      <td>5.693454e-07</td>\n",
       "    </tr>\n",
       "    <tr>\n",
       "      <th>Totals</th>\n",
       "      <td></td>\n",
       "      <td>307511</td>\n",
       "      <td>1.000000</td>\n",
       "      <td>282686</td>\n",
       "      <td>24825</td>\n",
       "      <td>0.080729</td>\n",
       "      <td></td>\n",
       "      <td>0.092037</td>\n",
       "      <td>1.136678e-02</td>\n",
       "    </tr>\n",
       "  </tbody>\n",
       "</table>\n",
       "</div>"
      ],
      "text/plain": [
       "                            Bin   Count  Count (%)  Non-event  Event  \\\n",
       "0             (-inf, 158283.00)   27665   0.089964      25819   1846   \n",
       "1        [158283.00, 206266.50)   17225   0.056014      15787   1438   \n",
       "2        [206266.50, 283083.75)   55555   0.180660      50872   4683   \n",
       "3        [283083.75, 407362.50)   28384   0.092302      25466   2918   \n",
       "4        [407362.50, 450117.00)   29150   0.094793      25132   4018   \n",
       "5        [450117.00, 677889.00)   68896   0.224044      63572   5324   \n",
       "6        [677889.00, 902371.50)   38480   0.125134      36043   2437   \n",
       "7       [902371.50, 1272687.75)   25757   0.083760      24303   1454   \n",
       "8             [1272687.75, inf)   16121   0.052424      15435    686   \n",
       "9                       Special       0   0.000000          0      0   \n",
       "10                      Missing     278   0.000904        257     21   \n",
       "Totals                           307511   1.000000     282686  24825   \n",
       "\n",
       "        Event rate       WoE        IV            JS  \n",
       "0         0.066727  0.205604  0.003490  4.354743e-04  \n",
       "1         0.083483 -0.036552  0.000076  9.498700e-06  \n",
       "2         0.084295 -0.047112  0.000409  5.111800e-05  \n",
       "3         0.102804  -0.26604  0.007305  9.103978e-04  \n",
       "4         0.137839 -0.599128  0.043706  5.382927e-03  \n",
       "5         0.077276  0.047463  0.000495  6.184006e-05  \n",
       "6         0.063332  0.261459  0.007670  9.560082e-04  \n",
       "7         0.056451  0.383796  0.010517  1.306574e-03  \n",
       "8         0.042553   0.68103  0.018366  2.252372e-03  \n",
       "9         0.000000       0.0  0.000000  0.000000e+00  \n",
       "10        0.075540  0.072068  0.000005  5.693454e-07  \n",
       "Totals    0.080729            0.092037  1.136678e-02  "
      ]
     },
     "execution_count": 20,
     "metadata": {},
     "output_type": "execute_result"
    }
   ],
   "source": [
    "binning_table = optb.binning_table\n",
    "binning_table.build() # it prints out\n"
   ]
  },
  {
   "cell_type": "code",
   "execution_count": 79,
   "id": "a31790d2",
   "metadata": {},
   "outputs": [
    {
     "data": {
      "image/png": "[encoded data removed]",
      "text/plain": [
       "<Figure size 432x288 with 2 Axes>"
      ]
     },
     "metadata": {
      "needs_background": "light"
     },
     "output_type": "display_data"
    }
   ],
   "source": [
    "binning_table.plot()"
   ]
  },
  {
   "cell_type": "code",
   "execution_count": null,
   "id": "e6f9a094",
   "metadata": {},
   "outputs": [],
   "source": [
    "optb.information(print_level=1)"
   ]
  },
  {
   "cell_type": "code",
   "execution_count": 91,
   "id": "8573cfec",
   "metadata": {},
   "outputs": [
    {
     "name": "stdout",
     "output_type": "stream",
     "text": [
      "---------------------------------------------\n",
      "OptimalBinning: Binary Binning Table Analysis\n",
      "---------------------------------------------\n",
      "\n",
      "  General metrics\n",
      "\n",
      "    Gini index               0.16285100\n",
      "    IV (Jeffrey)             0.09203683\n",
      "    JS (Jensen-Shannon)      0.01136678\n",
      "    Hellinger                0.01143507\n",
      "    Triangular               0.04493527\n",
      "    KS                       0.09419178\n",
      "    HHI                      0.13699374\n",
      "    HHI (normalized)         0.05069311\n",
      "    Cramer's V               0.08540430\n",
      "    Quality score            0.09300179\n",
      "\n",
      "  Monotonic trend                  peak\n",
      "\n",
      "  Significance tests\n",
      "\n",
      "    Bin A  Bin B  t-statistic       p-value     P[A > B]     P[B > A]\n",
      "        0      1    43.958385  3.354323e-11 2.114759e-15 1.000000e+00\n",
      "        1      2     0.112416  7.374106e-01 3.667932e-01 6.332068e-01\n",
      "        2      3    78.152151  9.540170e-19 8.691168e-32 1.000000e+00\n",
      "        3      4   166.487975  4.327866e-38 1.297878e-55 1.000000e+00\n",
      "        4      5   871.549963 1.501852e-191 1.000000e+00 1.110223e-16\n",
      "        5      6    71.595691  2.641328e-17 1.000000e+00 1.110223e-16\n",
      "        6      7    12.838072  3.396374e-04 9.999215e-01 7.847838e-05\n",
      "        7      8    39.493503  3.291527e-10 1.000000e+00 4.884981e-15\n",
      "\n"
     ]
    }
   ],
   "source": [
    "binning_table.analysis(pvalue_test=\"chi2\")"
   ]
  },
  {
   "cell_type": "code",
   "execution_count": null,
   "id": "1aac835c",
   "metadata": {},
   "outputs": [],
   "source": [
    "optb2 = OptimalBinning(name=variable, dtype=\"numerical\",  monotonic_trend=\"descending\")\n",
    "optb2.fit(x, y)\n",
    "optb2.status"
   ]
  },
  {
   "cell_type": "code",
   "execution_count": null,
   "id": "e2c20a13",
   "metadata": {},
   "outputs": [],
   "source": [
    "binning_table2 = optb2.binning_table\n",
    "binning_table2.build()\n",
    "binning_table2.plot()"
   ]
  },
  {
   "cell_type": "markdown",
   "id": "1355d104",
   "metadata": {},
   "source": [
    "### MDLP"
   ]
  },
  {
   "cell_type": "code",
   "execution_count": 477,
   "id": "eef2828e",
   "metadata": {},
   "outputs": [
    {
     "name": "stderr",
     "output_type": "stream",
     "text": [
      "                                                                                \r"
     ]
    }
   ],
   "source": [
    "df = d0.select('AMT_GOODS_PRICE', 'DAYS_EMPLOYED', 'TARGET').toPandas()"
   ]
  },
  {
   "cell_type": "code",
   "execution_count": 478,
   "id": "e04b57fb",
   "metadata": {},
   "outputs": [],
   "source": [
    "df.DAYS_EMPLOYED.replace(365243, 1000, inplace=True)\n",
    "#df.DAYS_EMPLOYED.hist()\n"
   ]
  },
  {
   "cell_type": "code",
   "execution_count": 479,
   "id": "be171a97",
   "metadata": {},
   "outputs": [
    {
     "data": {
      "text/plain": [
       "array([-1.45405000e+04, -1.29121800e+04, -5.46965065e+03, -3.95795742e+03,\n",
       "       -3.09101371e+03, -2.40349790e+03, -1.78351355e+03, -1.40623290e+03,\n",
       "       -9.65244032e+02, -1.04812581e+02, -2.55056452e+01, -1.71548387e+00,\n",
       "        0.00000000e+00])"
      ]
     },
     "execution_count": 479,
     "metadata": {},
     "output_type": "execute_result"
    }
   ],
   "source": [
    "variable = \"DAYS_EMPLOYED\"\n",
    "x = df[variable].dropna().values\n",
    "y = df.TARGET\n",
    "optb_MDLP = MDLP()\n",
    "optb_MDLP.fit(x, y)\n",
    "optb_MDLP\n",
    "optb_MDLP.splits"
   ]
  },
  {
   "cell_type": "code",
   "execution_count": 452,
   "id": "42ab57b0",
   "metadata": {},
   "outputs": [
    {
     "data": {
      "text/plain": [
       "array([ -637, -1188,  -225, ..., -7921, -4786, -1262], dtype=int32)"
      ]
     },
     "execution_count": 452,
     "metadata": {},
     "output_type": "execute_result"
    }
   ],
   "source": [
    "x"
   ]
  },
  {
   "cell_type": "code",
   "execution_count": 442,
   "id": "9e882bdd",
   "metadata": {},
   "outputs": [
    {
     "data": {
      "text/plain": [
       "0         1\n",
       "1         0\n",
       "2         0\n",
       "3         0\n",
       "4         0\n",
       "         ..\n",
       "307506    0\n",
       "307507    0\n",
       "307508    0\n",
       "307509    1\n",
       "307510    0\n",
       "Name: TARGET, Length: 307511, dtype: int32"
      ]
     },
     "execution_count": 442,
     "metadata": {},
     "output_type": "execute_result"
    }
   ],
   "source": [
    "y"
   ]
  },
  {
   "cell_type": "code",
   "execution_count": 468,
   "id": "b1693ebb",
   "metadata": {},
   "outputs": [
    {
     "data": {
      "text/plain": [
       "array([-1.45405000e+04, -1.29121800e+04, -5.46965065e+03, -3.95795742e+03,\n",
       "       -3.09101371e+03, -2.40349790e+03, -1.78351355e+03, -1.40623290e+03,\n",
       "       -9.65244032e+02, -1.04812581e+02, -2.55056452e+01, -1.71548387e+00,\n",
       "        0.00000000e+00])"
      ]
     },
     "execution_count": 468,
     "metadata": {},
     "output_type": "execute_result"
    }
   ],
   "source": [
    "optb_MDLP = MDLP()\n",
    "optb_MDLP.fit(x, y)\n",
    "optb_MDLP\n",
    "optb_MDLP.splits"
   ]
  },
  {
   "cell_type": "code",
   "execution_count": 455,
   "id": "fcb0610d",
   "metadata": {},
   "outputs": [
    {
     "data": {
      "text/plain": [
       "{'max_candidates': 32, 'min_samples_leaf': 2, 'min_samples_split': 2}"
      ]
     },
     "execution_count": 455,
     "metadata": {},
     "output_type": "execute_result"
    }
   ],
   "source": [
    "optb_MDLP.get_params()"
   ]
  },
  {
   "cell_type": "code",
   "execution_count": null,
   "id": "2b1fb717",
   "metadata": {},
   "outputs": [],
   "source": []
  },
  {
   "cell_type": "markdown",
   "id": "85ab48e8",
   "metadata": {},
   "source": [
    "## Scikit-learn"
   ]
  },
  {
   "cell_type": "code",
   "execution_count": 407,
   "id": "e4fb3fdc",
   "metadata": {},
   "outputs": [
    {
     "name": "stderr",
     "output_type": "stream",
     "text": [
      "                                                                                \r"
     ]
    }
   ],
   "source": [
    "df = d0.select('AMT_GOODS_PRICE', 'DAYS_EMPLOYED', 'TARGET')\\\n",
    "    .toPandas()"
   ]
  },
  {
   "cell_type": "code",
   "execution_count": null,
   "id": "afb8aa17",
   "metadata": {},
   "outputs": [],
   "source": [
    "df[variable].isna().sum()"
   ]
  },
  {
   "cell_type": "code",
   "execution_count": 408,
   "id": "a48f63c9",
   "metadata": {},
   "outputs": [],
   "source": [
    "variable = \"AMT_GOODS_PRICE\"\n",
    "df[variable] = df[variable].replace(np.nan,-1)\n",
    "x = df[variable].values.reshape(-1,1)\n",
    "y = df.TARGET"
   ]
  },
  {
   "cell_type": "code",
   "execution_count": 412,
   "id": "68d39aee",
   "metadata": {},
   "outputs": [
    {
     "data": {
      "text/plain": [
       "array([-1.000e+00,  2.250e+05,  3.735e+05,  5.220e+05,  8.145e+05,\n",
       "        4.050e+06])"
      ]
     },
     "execution_count": 412,
     "metadata": {},
     "output_type": "execute_result"
    }
   ],
   "source": [
    "est = KBinsDiscretizer(n_bins=5, encode='ordinal', strategy='quantile').fit(x)\n",
    "est.bin_edges_[0]"
   ]
  },
  {
   "cell_type": "code",
   "execution_count": null,
   "id": "2e04fb97",
   "metadata": {},
   "outputs": [],
   "source": [
    "est.bin_edges_[0]"
   ]
  },
  {
   "cell_type": "code",
   "execution_count": 50,
   "id": "b5da24d4",
   "metadata": {},
   "outputs": [
    {
     "data": {
      "text/plain": [
       "278"
      ]
     },
     "execution_count": 50,
     "metadata": {},
     "output_type": "execute_result"
    }
   ],
   "source": [
    "df[variable].isna().sum()"
   ]
  },
  {
   "cell_type": "markdown",
   "id": "65a995ca",
   "metadata": {},
   "source": [
    "## Pipeline to show effect in prediction"
   ]
  },
  {
   "cell_type": "code",
   "execution_count": 123,
   "id": "fccd8ac0",
   "metadata": {},
   "outputs": [],
   "source": [
    "def bin_table(dataframe, disc_var_name, target_var_name, edges):\n",
    "    '''\n",
    "    returns the analogue of optb.binning_table (plus Gini) based on edges \n",
    "    df - our data in DataFrame, target_var_name - target variable\n",
    "    disc_var_name - variable to analyze\n",
    "    edges - bin edges \n",
    "    returns WoE DataFrame\n",
    "    also puts all NA into a separate bin (to keep info as I wrote in FP paper)\n",
    "    '''\n",
    "    df = dataframe.copy()\n",
    "    edges = np.append(edges, np.inf)\n",
    "    edges = np.insert(edges, 0, -np.inf)\n",
    "    N_na = df[disc_var_name].isna().sum()\n",
    "    target_share_in_na = df[target][df[disc_var_name].isna()].sum() / N_na\n",
    "\n",
    "    df['Bin'] = pd.cut(df[disc_var_name],  bins = edges) \n",
    "    df = pd.concat([df['Bin'], df[target_var_name]], axis = 1)\n",
    "    df = pd.concat([df.groupby(df.columns.values[0], \n",
    "                               as_index = False)[df.columns.values[1]].count(),\n",
    "                    df.groupby(df.columns.values[0], \n",
    "                               as_index = False)[df.columns.values[1]].mean()], axis = 1)\n",
    "    df = df.iloc[:, [0, 1, 3]]\n",
    "    if N_na > 0: \n",
    "        df.loc[df.shape[0]] = ['Missing', N_na, target_share_in_na]  # adding na observations\n",
    "    df.columns = [df.columns.values[0], 'N_obs', 'prop_pos']\n",
    "    df['N_obs'] = df['N_obs']\n",
    "    df['Count (%)'] = (100*df['N_obs'] / df['N_obs'].sum()).round(2)\n",
    "    df['N_pos'] = (df['prop_pos'] * df['N_obs'])\n",
    "    df['N_neg'] = ((1 - df['prop_pos']) * df['N_obs'])\n",
    "    df['Event_rate'] = df['N_pos'] / df['N_obs']\n",
    "    df['Non_event_rate'] = df['N_neg'] / df['N_obs']\n",
    "    df['prop_N_pos'] = df['N_pos'] / df['N_pos'].sum()\n",
    "    df['prop_N_neg'] = df['N_neg'] / df['N_neg'].sum()\n",
    "    df['Odds'] = df['Event_rate'] / df['Non_event_rate']\n",
    "    df['WoE'] = -np.log(df['prop_N_pos'] / df['prop_N_neg']) \n",
    "    df['diff_prop_pos'] = df['prop_pos'].diff().abs()\n",
    "    df['diff_WoE'] = df['WoE'].diff().abs()\n",
    "    df['IV'] = -(df['prop_N_pos'] - df['prop_N_neg']) * df['WoE']\n",
    "    df['Gini'] = ''\n",
    "    df = df[['Bin', 'N_obs', 'Count (%)', 'N_neg', 'N_pos', \n",
    "             'Event_rate', 'WoE', 'IV', 'Gini', 'Odds']]\n",
    "    df.loc['Total']= df.sum(numeric_only=True, axis=0)\n",
    "    df.columns = ['Bin', 'Count', 'Count (%)', 'Non_event', 'Event', \n",
    "                  'Event_rate', 'WoE', 'IV', 'Gini', 'Odds']   \n",
    "    df.loc['Total', 'Gini'] = gini(df.Event[:-1], df.Non_event[:-1])\n",
    "    df.loc['Total', 'Event_rate'] = \"\"\n",
    "    df.loc['Total', 'WoE'] = \"\"\n",
    "    #df.loc['Total', 'Bin'] = \"\" # set the category first\n",
    "    df.loc['Total', 'Odds'] = \"\"\n",
    "    return df"
   ]
  },
  {
   "cell_type": "code",
   "execution_count": 334,
   "id": "3514e6d7",
   "metadata": {},
   "outputs": [
    {
     "name": "stderr",
     "output_type": "stream",
     "text": [
      "                                                                                \r"
     ]
    },
    {
     "data": {
      "text/plain": [
       "'OPTIMAL'"
      ]
     },
     "execution_count": 334,
     "metadata": {},
     "output_type": "execute_result"
    }
   ],
   "source": [
    "# let's build the binning_table made by OptimalBINNING\n",
    "df = d0.select('AMT_GOODS_PRICE', 'DAYS_EMPLOYED', 'TARGET')\\\n",
    "    .toPandas()\n",
    "variable = \"AMT_GOODS_PRICE\"\n",
    "x = df[variable].values\n",
    "y = df.TARGET\n",
    "optb = OptimalBinning(name=variable, dtype=\"numerical\")\n",
    "optb.fit(x, y)\n",
    "edges = optb.splits\n",
    "optb.status\n"
   ]
  },
  {
   "cell_type": "code",
   "execution_count": 67,
   "id": "ec954a71",
   "metadata": {},
   "outputs": [
    {
     "data": {
      "text/html": [
       "<div>\n",
       "<style scoped>\n",
       "    .dataframe tbody tr th:only-of-type {\n",
       "        vertical-align: middle;\n",
       "    }\n",
       "\n",
       "    .dataframe tbody tr th {\n",
       "        vertical-align: top;\n",
       "    }\n",
       "\n",
       "    .dataframe thead th {\n",
       "        text-align: right;\n",
       "    }\n",
       "</style>\n",
       "<table border=\"1\" class=\"dataframe\">\n",
       "  <thead>\n",
       "    <tr style=\"text-align: right;\">\n",
       "      <th></th>\n",
       "      <th>Bin</th>\n",
       "      <th>Count</th>\n",
       "      <th>Count (%)</th>\n",
       "      <th>Non-event</th>\n",
       "      <th>Event</th>\n",
       "      <th>Event rate</th>\n",
       "      <th>WoE</th>\n",
       "      <th>IV</th>\n",
       "      <th>JS</th>\n",
       "    </tr>\n",
       "  </thead>\n",
       "  <tbody>\n",
       "    <tr>\n",
       "      <th>0</th>\n",
       "      <td>(-inf, -5443.50)</td>\n",
       "      <td>23768</td>\n",
       "      <td>0.077292</td>\n",
       "      <td>22704</td>\n",
       "      <td>1064</td>\n",
       "      <td>0.044766</td>\n",
       "      <td>0.62802</td>\n",
       "      <td>2.352265e-02</td>\n",
       "      <td>2.892944e-03</td>\n",
       "    </tr>\n",
       "    <tr>\n",
       "      <th>1</th>\n",
       "      <td>[-5443.50, -3923.50)</td>\n",
       "      <td>21519</td>\n",
       "      <td>0.069978</td>\n",
       "      <td>20313</td>\n",
       "      <td>1206</td>\n",
       "      <td>0.056043</td>\n",
       "      <td>0.391466</td>\n",
       "      <td>9.112185e-03</td>\n",
       "      <td>1.131805e-03</td>\n",
       "    </tr>\n",
       "    <tr>\n",
       "      <th>2</th>\n",
       "      <td>[-3923.50, -3075.50)</td>\n",
       "      <td>20997</td>\n",
       "      <td>0.068280</td>\n",
       "      <td>19652</td>\n",
       "      <td>1345</td>\n",
       "      <td>0.064057</td>\n",
       "      <td>0.2493</td>\n",
       "      <td>3.824150e-03</td>\n",
       "      <td>4.767847e-04</td>\n",
       "    </tr>\n",
       "    <tr>\n",
       "      <th>3</th>\n",
       "      <td>[-3075.50, -2447.50)</td>\n",
       "      <td>22332</td>\n",
       "      <td>0.072622</td>\n",
       "      <td>20732</td>\n",
       "      <td>1600</td>\n",
       "      <td>0.071646</td>\n",
       "      <td>0.129189</td>\n",
       "      <td>1.148255e-03</td>\n",
       "      <td>1.434322e-04</td>\n",
       "    </tr>\n",
       "    <tr>\n",
       "      <th>4</th>\n",
       "      <td>[-2447.50, -1789.50)</td>\n",
       "      <td>29229</td>\n",
       "      <td>0.095050</td>\n",
       "      <td>26871</td>\n",
       "      <td>2358</td>\n",
       "      <td>0.080673</td>\n",
       "      <td>0.000748</td>\n",
       "      <td>5.320768e-08</td>\n",
       "      <td>6.650959e-09</td>\n",
       "    </tr>\n",
       "    <tr>\n",
       "      <th>5</th>\n",
       "      <td>[-1789.50, -1404.50)</td>\n",
       "      <td>23254</td>\n",
       "      <td>0.075620</td>\n",
       "      <td>21096</td>\n",
       "      <td>2158</td>\n",
       "      <td>0.092801</td>\n",
       "      <td>-0.152584</td>\n",
       "      <td>1.877016e-03</td>\n",
       "      <td>2.343996e-04</td>\n",
       "    </tr>\n",
       "    <tr>\n",
       "      <th>6</th>\n",
       "      <td>[-1404.50, -982.50)</td>\n",
       "      <td>30241</td>\n",
       "      <td>0.098341</td>\n",
       "      <td>27170</td>\n",
       "      <td>3071</td>\n",
       "      <td>0.101551</td>\n",
       "      <td>-0.252375</td>\n",
       "      <td>6.963599e-03</td>\n",
       "      <td>8.681472e-04</td>\n",
       "    </tr>\n",
       "    <tr>\n",
       "      <th>7</th>\n",
       "      <td>[-982.50, -566.50)</td>\n",
       "      <td>34600</td>\n",
       "      <td>0.112516</td>\n",
       "      <td>30787</td>\n",
       "      <td>3813</td>\n",
       "      <td>0.110202</td>\n",
       "      <td>-0.343809</td>\n",
       "      <td>1.536358e-02</td>\n",
       "      <td>1.911044e-03</td>\n",
       "    </tr>\n",
       "    <tr>\n",
       "      <th>8</th>\n",
       "      <td>[-566.50, inf)</td>\n",
       "      <td>46197</td>\n",
       "      <td>0.150229</td>\n",
       "      <td>40977</td>\n",
       "      <td>5220</td>\n",
       "      <td>0.112994</td>\n",
       "      <td>-0.371972</td>\n",
       "      <td>2.429573e-02</td>\n",
       "      <td>3.019578e-03</td>\n",
       "    </tr>\n",
       "    <tr>\n",
       "      <th>9</th>\n",
       "      <td>Special</td>\n",
       "      <td>0</td>\n",
       "      <td>0.000000</td>\n",
       "      <td>0</td>\n",
       "      <td>0</td>\n",
       "      <td>0.000000</td>\n",
       "      <td>0.0</td>\n",
       "      <td>0.000000e+00</td>\n",
       "      <td>0.000000e+00</td>\n",
       "    </tr>\n",
       "    <tr>\n",
       "      <th>10</th>\n",
       "      <td>Missing</td>\n",
       "      <td>55374</td>\n",
       "      <td>0.180072</td>\n",
       "      <td>52384</td>\n",
       "      <td>2990</td>\n",
       "      <td>0.053996</td>\n",
       "      <td>0.430842</td>\n",
       "      <td>2.794658e-02</td>\n",
       "      <td>3.466552e-03</td>\n",
       "    </tr>\n",
       "    <tr>\n",
       "      <th>Totals</th>\n",
       "      <td></td>\n",
       "      <td>307511</td>\n",
       "      <td>1.000000</td>\n",
       "      <td>282686</td>\n",
       "      <td>24825</td>\n",
       "      <td>0.080729</td>\n",
       "      <td></td>\n",
       "      <td>1.140538e-01</td>\n",
       "      <td>1.414469e-02</td>\n",
       "    </tr>\n",
       "  </tbody>\n",
       "</table>\n",
       "</div>"
      ],
      "text/plain": [
       "                         Bin   Count  Count (%)  Non-event  Event  Event rate  \\\n",
       "0           (-inf, -5443.50)   23768   0.077292      22704   1064    0.044766   \n",
       "1       [-5443.50, -3923.50)   21519   0.069978      20313   1206    0.056043   \n",
       "2       [-3923.50, -3075.50)   20997   0.068280      19652   1345    0.064057   \n",
       "3       [-3075.50, -2447.50)   22332   0.072622      20732   1600    0.071646   \n",
       "4       [-2447.50, -1789.50)   29229   0.095050      26871   2358    0.080673   \n",
       "5       [-1789.50, -1404.50)   23254   0.075620      21096   2158    0.092801   \n",
       "6        [-1404.50, -982.50)   30241   0.098341      27170   3071    0.101551   \n",
       "7         [-982.50, -566.50)   34600   0.112516      30787   3813    0.110202   \n",
       "8             [-566.50, inf)   46197   0.150229      40977   5220    0.112994   \n",
       "9                    Special       0   0.000000          0      0    0.000000   \n",
       "10                   Missing   55374   0.180072      52384   2990    0.053996   \n",
       "Totals                        307511   1.000000     282686  24825    0.080729   \n",
       "\n",
       "             WoE            IV            JS  \n",
       "0        0.62802  2.352265e-02  2.892944e-03  \n",
       "1       0.391466  9.112185e-03  1.131805e-03  \n",
       "2         0.2493  3.824150e-03  4.767847e-04  \n",
       "3       0.129189  1.148255e-03  1.434322e-04  \n",
       "4       0.000748  5.320768e-08  6.650959e-09  \n",
       "5      -0.152584  1.877016e-03  2.343996e-04  \n",
       "6      -0.252375  6.963599e-03  8.681472e-04  \n",
       "7      -0.343809  1.536358e-02  1.911044e-03  \n",
       "8      -0.371972  2.429573e-02  3.019578e-03  \n",
       "9            0.0  0.000000e+00  0.000000e+00  \n",
       "10      0.430842  2.794658e-02  3.466552e-03  \n",
       "Totals            1.140538e-01  1.414469e-02  "
      ]
     },
     "execution_count": 67,
     "metadata": {},
     "output_type": "execute_result"
    }
   ],
   "source": [
    "binning_table = optb.binning_table\n",
    "binning_table.build() # it prints out\n"
   ]
  },
  {
   "cell_type": "code",
   "execution_count": 217,
   "id": "08428fd5",
   "metadata": {},
   "outputs": [],
   "source": [
    "# we can plot WOE\n",
    "def woe_plot(df, rot_x_labels = 0):\n",
    "    '''plots WoE from WoE_df'''\n",
    "    x = np.array(df.iloc[:, 0].apply(str))\n",
    "    y = df['WoE']\n",
    "    plt.figure(figsize=(12, 8))\n",
    "    plt.plot(x, y, marker = 'o', linestyle = '-', color = 'b')\n",
    "    plt.xlabel(df.columns[0])\n",
    "    plt.ylabel('WoE')\n",
    "    plt.title(str('WoE for ' + df.columns[0]))\n",
    "    plt.xticks(rotation = rot_x_labels)\n",
    "    plt.show\n",
    "#woe_plot(d.iloc[:-1,:], 45)"
   ]
  },
  {
   "cell_type": "code",
   "execution_count": 91,
   "id": "b6f711ae",
   "metadata": {},
   "outputs": [
    {
     "data": {
      "text/html": [
       "<div>\n",
       "<style scoped>\n",
       "    .dataframe tbody tr th:only-of-type {\n",
       "        vertical-align: middle;\n",
       "    }\n",
       "\n",
       "    .dataframe tbody tr th {\n",
       "        vertical-align: top;\n",
       "    }\n",
       "\n",
       "    .dataframe thead th {\n",
       "        text-align: right;\n",
       "    }\n",
       "</style>\n",
       "<table border=\"1\" class=\"dataframe\">\n",
       "  <thead>\n",
       "    <tr style=\"text-align: right;\">\n",
       "      <th></th>\n",
       "      <th>Bin</th>\n",
       "      <th>Count</th>\n",
       "      <th>Count (%)</th>\n",
       "      <th>Non_event</th>\n",
       "      <th>Event</th>\n",
       "      <th>Event_rate</th>\n",
       "      <th>WoE</th>\n",
       "      <th>IV</th>\n",
       "      <th>Gini</th>\n",
       "      <th>Odds</th>\n",
       "    </tr>\n",
       "  </thead>\n",
       "  <tbody>\n",
       "    <tr>\n",
       "      <th>0</th>\n",
       "      <td>(-inf, -5443.5]</td>\n",
       "      <td>23768.0</td>\n",
       "      <td>7.73</td>\n",
       "      <td>22704.0</td>\n",
       "      <td>1064.0</td>\n",
       "      <td>0.044766</td>\n",
       "      <td>0.62802</td>\n",
       "      <td>2.352265e-02</td>\n",
       "      <td></td>\n",
       "      <td>0.046864</td>\n",
       "    </tr>\n",
       "    <tr>\n",
       "      <th>1</th>\n",
       "      <td>(-5443.5, -3923.5]</td>\n",
       "      <td>21519.0</td>\n",
       "      <td>7.00</td>\n",
       "      <td>20313.0</td>\n",
       "      <td>1206.0</td>\n",
       "      <td>0.056043</td>\n",
       "      <td>0.391466</td>\n",
       "      <td>9.112185e-03</td>\n",
       "      <td></td>\n",
       "      <td>0.059371</td>\n",
       "    </tr>\n",
       "    <tr>\n",
       "      <th>2</th>\n",
       "      <td>(-3923.5, -3075.5]</td>\n",
       "      <td>20997.0</td>\n",
       "      <td>6.83</td>\n",
       "      <td>19652.0</td>\n",
       "      <td>1345.0</td>\n",
       "      <td>0.064057</td>\n",
       "      <td>0.2493</td>\n",
       "      <td>3.824150e-03</td>\n",
       "      <td></td>\n",
       "      <td>0.068441</td>\n",
       "    </tr>\n",
       "    <tr>\n",
       "      <th>3</th>\n",
       "      <td>(-3075.5, -2447.5]</td>\n",
       "      <td>22332.0</td>\n",
       "      <td>7.26</td>\n",
       "      <td>20732.0</td>\n",
       "      <td>1600.0</td>\n",
       "      <td>0.071646</td>\n",
       "      <td>0.129189</td>\n",
       "      <td>1.148255e-03</td>\n",
       "      <td></td>\n",
       "      <td>0.077175</td>\n",
       "    </tr>\n",
       "    <tr>\n",
       "      <th>4</th>\n",
       "      <td>(-2447.5, -1789.5]</td>\n",
       "      <td>29229.0</td>\n",
       "      <td>9.51</td>\n",
       "      <td>26871.0</td>\n",
       "      <td>2358.0</td>\n",
       "      <td>0.080673</td>\n",
       "      <td>0.000748</td>\n",
       "      <td>5.320768e-08</td>\n",
       "      <td></td>\n",
       "      <td>0.087753</td>\n",
       "    </tr>\n",
       "    <tr>\n",
       "      <th>5</th>\n",
       "      <td>(-1789.5, -1404.5]</td>\n",
       "      <td>23254.0</td>\n",
       "      <td>7.56</td>\n",
       "      <td>21096.0</td>\n",
       "      <td>2158.0</td>\n",
       "      <td>0.092801</td>\n",
       "      <td>-0.152584</td>\n",
       "      <td>1.877016e-03</td>\n",
       "      <td></td>\n",
       "      <td>0.102294</td>\n",
       "    </tr>\n",
       "    <tr>\n",
       "      <th>6</th>\n",
       "      <td>(-1404.5, -982.5]</td>\n",
       "      <td>30241.0</td>\n",
       "      <td>9.83</td>\n",
       "      <td>27170.0</td>\n",
       "      <td>3071.0</td>\n",
       "      <td>0.101551</td>\n",
       "      <td>-0.252375</td>\n",
       "      <td>6.963599e-03</td>\n",
       "      <td></td>\n",
       "      <td>0.113029</td>\n",
       "    </tr>\n",
       "    <tr>\n",
       "      <th>7</th>\n",
       "      <td>(-982.5, -566.5]</td>\n",
       "      <td>34600.0</td>\n",
       "      <td>11.25</td>\n",
       "      <td>30787.0</td>\n",
       "      <td>3813.0</td>\n",
       "      <td>0.110202</td>\n",
       "      <td>-0.343809</td>\n",
       "      <td>1.536358e-02</td>\n",
       "      <td></td>\n",
       "      <td>0.123851</td>\n",
       "    </tr>\n",
       "    <tr>\n",
       "      <th>8</th>\n",
       "      <td>(-566.5, inf]</td>\n",
       "      <td>46197.0</td>\n",
       "      <td>15.02</td>\n",
       "      <td>40977.0</td>\n",
       "      <td>5220.0</td>\n",
       "      <td>0.112994</td>\n",
       "      <td>-0.371972</td>\n",
       "      <td>2.429573e-02</td>\n",
       "      <td></td>\n",
       "      <td>0.127389</td>\n",
       "    </tr>\n",
       "    <tr>\n",
       "      <th>9</th>\n",
       "      <td>Missing</td>\n",
       "      <td>55374.0</td>\n",
       "      <td>18.01</td>\n",
       "      <td>52384.0</td>\n",
       "      <td>2990.0</td>\n",
       "      <td>0.053996</td>\n",
       "      <td>0.430842</td>\n",
       "      <td>2.794658e-02</td>\n",
       "      <td></td>\n",
       "      <td>0.057078</td>\n",
       "    </tr>\n",
       "    <tr>\n",
       "      <th>Total</th>\n",
       "      <td></td>\n",
       "      <td>307511.0</td>\n",
       "      <td>100.00</td>\n",
       "      <td>282686.0</td>\n",
       "      <td>24825.0</td>\n",
       "      <td></td>\n",
       "      <td></td>\n",
       "      <td>1.140538e-01</td>\n",
       "      <td>0.187445</td>\n",
       "      <td></td>\n",
       "    </tr>\n",
       "  </tbody>\n",
       "</table>\n",
       "</div>"
      ],
      "text/plain": [
       "                      Bin     Count  Count (%)  Non_event    Event Event_rate  \\\n",
       "0         (-inf, -5443.5]   23768.0       7.73    22704.0   1064.0   0.044766   \n",
       "1      (-5443.5, -3923.5]   21519.0       7.00    20313.0   1206.0   0.056043   \n",
       "2      (-3923.5, -3075.5]   20997.0       6.83    19652.0   1345.0   0.064057   \n",
       "3      (-3075.5, -2447.5]   22332.0       7.26    20732.0   1600.0   0.071646   \n",
       "4      (-2447.5, -1789.5]   29229.0       9.51    26871.0   2358.0   0.080673   \n",
       "5      (-1789.5, -1404.5]   23254.0       7.56    21096.0   2158.0   0.092801   \n",
       "6       (-1404.5, -982.5]   30241.0       9.83    27170.0   3071.0   0.101551   \n",
       "7        (-982.5, -566.5]   34600.0      11.25    30787.0   3813.0   0.110202   \n",
       "8           (-566.5, inf]   46197.0      15.02    40977.0   5220.0   0.112994   \n",
       "9                 Missing   55374.0      18.01    52384.0   2990.0   0.053996   \n",
       "Total                      307511.0     100.00   282686.0  24825.0              \n",
       "\n",
       "            WoE            IV      Gini      Odds  \n",
       "0       0.62802  2.352265e-02            0.046864  \n",
       "1      0.391466  9.112185e-03            0.059371  \n",
       "2        0.2493  3.824150e-03            0.068441  \n",
       "3      0.129189  1.148255e-03            0.077175  \n",
       "4      0.000748  5.320768e-08            0.087753  \n",
       "5     -0.152584  1.877016e-03            0.102294  \n",
       "6     -0.252375  6.963599e-03            0.113029  \n",
       "7     -0.343809  1.536358e-02            0.123851  \n",
       "8     -0.371972  2.429573e-02            0.127389  \n",
       "9      0.430842  2.794658e-02            0.057078  \n",
       "Total            1.140538e-01  0.187445            "
      ]
     },
     "execution_count": 91,
     "metadata": {},
     "output_type": "execute_result"
    }
   ],
   "source": [
    "# we can build the same table based just on edges (from edges = optb.splits or other splits)\n",
    "bt = bin_table(df, variable, target, edges)\n",
    "bt"
   ]
  },
  {
   "cell_type": "code",
   "execution_count": 357,
   "id": "0f3ac2fe",
   "metadata": {},
   "outputs": [
    {
     "data": {
      "text/plain": [
       "array([0.20560399, 0.20560399, 0.20560399, ..., 0.20560399, 0.20560399,\n",
       "       0.20560399])"
      ]
     },
     "execution_count": 357,
     "metadata": {},
     "output_type": "execute_result"
    }
   ],
   "source": [
    "df_tmp[f'{variable}_WoE'][df_tmp[variable]<158283].values"
   ]
  },
  {
   "cell_type": "code",
   "execution_count": 245,
   "id": "8da92111",
   "metadata": {},
   "outputs": [
    {
     "name": "stdout",
     "output_type": "stream",
     "text": [
      "IV is 0.09203682939340666; Gini is 0.16285100177587897\n"
     ]
    }
   ],
   "source": [
    "# we can access IV and Gini from bin_tabla output\n",
    "print(f'IV is {bt.iloc[-1, -2]}; Gini is {bt.iloc[-1, -1]}')\n"
   ]
  },
  {
   "cell_type": "code",
   "execution_count": 246,
   "id": "115ff129",
   "metadata": {},
   "outputs": [
    {
     "data": {
      "text/plain": [
       "True"
      ]
     },
     "execution_count": 246,
     "metadata": {},
     "output_type": "execute_result"
    }
   ],
   "source": [
    "# Bin column is an interval\n",
    "160000 in bt.iloc[1,0]\n"
   ]
  },
  {
   "cell_type": "code",
   "execution_count": 249,
   "id": "39389631",
   "metadata": {},
   "outputs": [],
   "source": [
    "# function to transform a variable into WOE\n",
    "def WOE_transform_0(df, variable, target, edges):\n",
    "    '''\n",
    "    returns df with new column f'{variable}_woe' - WOE transormed variable\n",
    "    first it uses bin_table function\n",
    "    '''\n",
    "    def find_WOE(x, btf, n_bins):\n",
    "        result = btf.WoE[n_bins-1]\n",
    "        for i in range(n_bins-1):\n",
    "            if x in btf.Bin[i]: \n",
    "                result = btf.WoE[i]\n",
    "                break      \n",
    "        return result\n",
    "    \n",
    "    btf = bin_table(df, variable, target, edges)\n",
    "    n_bins = btf.shape[0] - 1                \n",
    "    df[f'{variable}_WOE'] = [find_WOE(x, btf, n_bins) for x in df[variable]]\n",
    "    return df\n",
    "\n",
    "def WOE_transform(df, variable, target, edges):\n",
    "    '''\n",
    "    optimized version\n",
    "    returns df with new column f'{variable}_woe' - WOE transormed variable\n",
    "    first it uses bin_table function\n",
    "    '''  \n",
    "    btf = bin_table(df, variable, target, edges)\n",
    "    woe_index = np.searchsorted(edges, df[variable].values)\n",
    "    df_tmp = df.copy()\n",
    "    df_tmp[f'{variable}_WoE'] = [btf.WoE[i] for i in woe_index]\n",
    "    tmp = btf.WoE[btf.shape[0]-2]\n",
    "    df_tmp[f'{variable}_WoE'][df_tmp[variable].isna()] = tmp\n",
    "    \n",
    "    return df_tmp\n"
   ]
  },
  {
   "cell_type": "code",
   "execution_count": null,
   "id": "9e3fec6e",
   "metadata": {},
   "outputs": [],
   "source": [
    "# the optimized verwion is ~9 times faster\n",
    "t0 = time.time()\n",
    "df_tmp = WOE_transform(df, variable, target, edges)\n",
    "print(f'Run time is {time.time()-t0}')\n"
   ]
  },
  {
   "cell_type": "code",
   "execution_count": 376,
   "id": "8012f2fb",
   "metadata": {},
   "outputs": [
    {
     "data": {
      "text/plain": [
       "(307233, 4)"
      ]
     },
     "execution_count": 376,
     "metadata": {},
     "output_type": "execute_result"
    }
   ],
   "source": [
    "df_tmp = df_tmp[~df_tmp[variable].isna()]\n",
    "df_tmp.shape"
   ]
  },
  {
   "cell_type": "code",
   "execution_count": 374,
   "id": "b25bc7e9",
   "metadata": {},
   "outputs": [
    {
     "data": {
      "text/plain": [
       "16.285100177587886"
      ]
     },
     "execution_count": 374,
     "metadata": {},
     "output_type": "execute_result"
    }
   ],
   "source": [
    "fpr, tpr, _ = roc_curve(df_tmp[target], df_tmp[f'{variable}_WoE'], pos_label=0)\n",
    "g = (2 * auc(fpr, tpr) - 1) * 100\n",
    "g"
   ]
  },
  {
   "cell_type": "code",
   "execution_count": 377,
   "id": "2cd7d70e",
   "metadata": {},
   "outputs": [
    {
     "data": {
      "text/plain": [
       "6.667536879224079"
      ]
     },
     "execution_count": 377,
     "metadata": {},
     "output_type": "execute_result"
    }
   ],
   "source": [
    "fpr, tpr, _ = roc_curve(df_tmp[target], df_tmp[f'{variable}'], pos_label=0)\n",
    "g = (2 * auc(fpr, tpr) - 1) * 100\n",
    "g"
   ]
  },
  {
   "cell_type": "markdown",
   "id": "ab85a326",
   "metadata": {},
   "source": [
    "### Let's check the pipeline from the very beginning for the second variable\n"
   ]
  },
  {
   "cell_type": "code",
   "execution_count": 81,
   "id": "f0c38fe1",
   "metadata": {},
   "outputs": [
    {
     "name": "stderr",
     "output_type": "stream",
     "text": [
      "                                                                                \r"
     ]
    },
    {
     "data": {
      "image/png": "[encoded data removed]",
      "text/plain": [
       "<Figure size 432x288 with 1 Axes>"
      ]
     },
     "metadata": {
      "needs_background": "light"
     },
     "output_type": "display_data"
    }
   ],
   "source": [
    "df1 = d0.select('DAYS_EMPLOYED', 'TARGET').toPandas()\n",
    "variable = \"DAYS_EMPLOYED\"\n",
    "target = 'TARGET'\n",
    "df1.DAYS_EMPLOYED.replace(365243, np.nan, inplace=True)\n",
    "df1.DAYS_EMPLOYED.hist()\n",
    "x = df1[variable].values\n",
    "y = df1.TARGET.values\n"
   ]
  },
  {
   "cell_type": "code",
   "execution_count": null,
   "id": "db561e6f",
   "metadata": {},
   "outputs": [],
   "source": [
    "df1[variable].isna().sum()"
   ]
  },
  {
   "cell_type": "code",
   "execution_count": 82,
   "id": "f665bfcc",
   "metadata": {},
   "outputs": [
    {
     "data": {
      "text/html": [
       "<div>\n",
       "<style scoped>\n",
       "    .dataframe tbody tr th:only-of-type {\n",
       "        vertical-align: middle;\n",
       "    }\n",
       "\n",
       "    .dataframe tbody tr th {\n",
       "        vertical-align: top;\n",
       "    }\n",
       "\n",
       "    .dataframe thead th {\n",
       "        text-align: right;\n",
       "    }\n",
       "</style>\n",
       "<table border=\"1\" class=\"dataframe\">\n",
       "  <thead>\n",
       "    <tr style=\"text-align: right;\">\n",
       "      <th></th>\n",
       "      <th>Bin</th>\n",
       "      <th>Count</th>\n",
       "      <th>Count (%)</th>\n",
       "      <th>Non-event</th>\n",
       "      <th>Event</th>\n",
       "      <th>Event rate</th>\n",
       "      <th>WoE</th>\n",
       "      <th>IV</th>\n",
       "      <th>JS</th>\n",
       "    </tr>\n",
       "  </thead>\n",
       "  <tbody>\n",
       "    <tr>\n",
       "      <th>0</th>\n",
       "      <td>(-inf, -5443.50)</td>\n",
       "      <td>23768</td>\n",
       "      <td>0.077292</td>\n",
       "      <td>22704</td>\n",
       "      <td>1064</td>\n",
       "      <td>0.044766</td>\n",
       "      <td>0.62802</td>\n",
       "      <td>2.352265e-02</td>\n",
       "      <td>2.892944e-03</td>\n",
       "    </tr>\n",
       "    <tr>\n",
       "      <th>1</th>\n",
       "      <td>[-5443.50, -3923.50)</td>\n",
       "      <td>21519</td>\n",
       "      <td>0.069978</td>\n",
       "      <td>20313</td>\n",
       "      <td>1206</td>\n",
       "      <td>0.056043</td>\n",
       "      <td>0.391466</td>\n",
       "      <td>9.112185e-03</td>\n",
       "      <td>1.131805e-03</td>\n",
       "    </tr>\n",
       "    <tr>\n",
       "      <th>2</th>\n",
       "      <td>[-3923.50, -3075.50)</td>\n",
       "      <td>20997</td>\n",
       "      <td>0.068280</td>\n",
       "      <td>19652</td>\n",
       "      <td>1345</td>\n",
       "      <td>0.064057</td>\n",
       "      <td>0.2493</td>\n",
       "      <td>3.824150e-03</td>\n",
       "      <td>4.767847e-04</td>\n",
       "    </tr>\n",
       "    <tr>\n",
       "      <th>3</th>\n",
       "      <td>[-3075.50, -2447.50)</td>\n",
       "      <td>22332</td>\n",
       "      <td>0.072622</td>\n",
       "      <td>20732</td>\n",
       "      <td>1600</td>\n",
       "      <td>0.071646</td>\n",
       "      <td>0.129189</td>\n",
       "      <td>1.148255e-03</td>\n",
       "      <td>1.434322e-04</td>\n",
       "    </tr>\n",
       "    <tr>\n",
       "      <th>4</th>\n",
       "      <td>[-2447.50, -1789.50)</td>\n",
       "      <td>29229</td>\n",
       "      <td>0.095050</td>\n",
       "      <td>26871</td>\n",
       "      <td>2358</td>\n",
       "      <td>0.080673</td>\n",
       "      <td>0.000748</td>\n",
       "      <td>5.320768e-08</td>\n",
       "      <td>6.650959e-09</td>\n",
       "    </tr>\n",
       "    <tr>\n",
       "      <th>5</th>\n",
       "      <td>[-1789.50, -1404.50)</td>\n",
       "      <td>23254</td>\n",
       "      <td>0.075620</td>\n",
       "      <td>21096</td>\n",
       "      <td>2158</td>\n",
       "      <td>0.092801</td>\n",
       "      <td>-0.152584</td>\n",
       "      <td>1.877016e-03</td>\n",
       "      <td>2.343996e-04</td>\n",
       "    </tr>\n",
       "    <tr>\n",
       "      <th>6</th>\n",
       "      <td>[-1404.50, -982.50)</td>\n",
       "      <td>30241</td>\n",
       "      <td>0.098341</td>\n",
       "      <td>27170</td>\n",
       "      <td>3071</td>\n",
       "      <td>0.101551</td>\n",
       "      <td>-0.252375</td>\n",
       "      <td>6.963599e-03</td>\n",
       "      <td>8.681472e-04</td>\n",
       "    </tr>\n",
       "    <tr>\n",
       "      <th>7</th>\n",
       "      <td>[-982.50, -566.50)</td>\n",
       "      <td>34600</td>\n",
       "      <td>0.112516</td>\n",
       "      <td>30787</td>\n",
       "      <td>3813</td>\n",
       "      <td>0.110202</td>\n",
       "      <td>-0.343809</td>\n",
       "      <td>1.536358e-02</td>\n",
       "      <td>1.911044e-03</td>\n",
       "    </tr>\n",
       "    <tr>\n",
       "      <th>8</th>\n",
       "      <td>[-566.50, inf)</td>\n",
       "      <td>46197</td>\n",
       "      <td>0.150229</td>\n",
       "      <td>40977</td>\n",
       "      <td>5220</td>\n",
       "      <td>0.112994</td>\n",
       "      <td>-0.371972</td>\n",
       "      <td>2.429573e-02</td>\n",
       "      <td>3.019578e-03</td>\n",
       "    </tr>\n",
       "    <tr>\n",
       "      <th>9</th>\n",
       "      <td>Special</td>\n",
       "      <td>0</td>\n",
       "      <td>0.000000</td>\n",
       "      <td>0</td>\n",
       "      <td>0</td>\n",
       "      <td>0.000000</td>\n",
       "      <td>0.0</td>\n",
       "      <td>0.000000e+00</td>\n",
       "      <td>0.000000e+00</td>\n",
       "    </tr>\n",
       "    <tr>\n",
       "      <th>10</th>\n",
       "      <td>Missing</td>\n",
       "      <td>55374</td>\n",
       "      <td>0.180072</td>\n",
       "      <td>52384</td>\n",
       "      <td>2990</td>\n",
       "      <td>0.053996</td>\n",
       "      <td>0.430842</td>\n",
       "      <td>2.794658e-02</td>\n",
       "      <td>3.466552e-03</td>\n",
       "    </tr>\n",
       "    <tr>\n",
       "      <th>Totals</th>\n",
       "      <td></td>\n",
       "      <td>307511</td>\n",
       "      <td>1.000000</td>\n",
       "      <td>282686</td>\n",
       "      <td>24825</td>\n",
       "      <td>0.080729</td>\n",
       "      <td></td>\n",
       "      <td>1.140538e-01</td>\n",
       "      <td>1.414469e-02</td>\n",
       "    </tr>\n",
       "  </tbody>\n",
       "</table>\n",
       "</div>"
      ],
      "text/plain": [
       "                         Bin   Count  Count (%)  Non-event  Event  Event rate  \\\n",
       "0           (-inf, -5443.50)   23768   0.077292      22704   1064    0.044766   \n",
       "1       [-5443.50, -3923.50)   21519   0.069978      20313   1206    0.056043   \n",
       "2       [-3923.50, -3075.50)   20997   0.068280      19652   1345    0.064057   \n",
       "3       [-3075.50, -2447.50)   22332   0.072622      20732   1600    0.071646   \n",
       "4       [-2447.50, -1789.50)   29229   0.095050      26871   2358    0.080673   \n",
       "5       [-1789.50, -1404.50)   23254   0.075620      21096   2158    0.092801   \n",
       "6        [-1404.50, -982.50)   30241   0.098341      27170   3071    0.101551   \n",
       "7         [-982.50, -566.50)   34600   0.112516      30787   3813    0.110202   \n",
       "8             [-566.50, inf)   46197   0.150229      40977   5220    0.112994   \n",
       "9                    Special       0   0.000000          0      0    0.000000   \n",
       "10                   Missing   55374   0.180072      52384   2990    0.053996   \n",
       "Totals                        307511   1.000000     282686  24825    0.080729   \n",
       "\n",
       "             WoE            IV            JS  \n",
       "0        0.62802  2.352265e-02  2.892944e-03  \n",
       "1       0.391466  9.112185e-03  1.131805e-03  \n",
       "2         0.2493  3.824150e-03  4.767847e-04  \n",
       "3       0.129189  1.148255e-03  1.434322e-04  \n",
       "4       0.000748  5.320768e-08  6.650959e-09  \n",
       "5      -0.152584  1.877016e-03  2.343996e-04  \n",
       "6      -0.252375  6.963599e-03  8.681472e-04  \n",
       "7      -0.343809  1.536358e-02  1.911044e-03  \n",
       "8      -0.371972  2.429573e-02  3.019578e-03  \n",
       "9            0.0  0.000000e+00  0.000000e+00  \n",
       "10      0.430842  2.794658e-02  3.466552e-03  \n",
       "Totals            1.140538e-01  1.414469e-02  "
      ]
     },
     "execution_count": 82,
     "metadata": {},
     "output_type": "execute_result"
    }
   ],
   "source": [
    "optb = OptimalBinning(name=variable, dtype=\"numerical\")\n",
    "optb.fit(x, y)\n",
    "edges = optb.splits\n",
    "optb.status\n",
    "binning_table = optb.binning_table\n",
    "bt0 = binning_table.build() # it prints out\n",
    "bt0"
   ]
  },
  {
   "cell_type": "code",
   "execution_count": 83,
   "id": "28a21202",
   "metadata": {},
   "outputs": [
    {
     "name": "stdout",
     "output_type": "stream",
     "text": [
      "---------------------------------------------\n",
      "OptimalBinning: Binary Binning Table Analysis\n",
      "---------------------------------------------\n",
      "\n",
      "  General metrics\n",
      "\n",
      "    Gini index               0.18744463\n",
      "    IV (Jeffrey)             0.11405379\n",
      "    JS (Jensen-Shannon)      0.01414469\n",
      "    Hellinger                0.01420036\n",
      "    Triangular               0.05614171\n",
      "    KS                       0.08503114\n",
      "    HHI                      0.11288537\n",
      "    HHI (normalized)         0.02417391\n",
      "    Cramer's V               0.08302920\n",
      "    Quality score            0.34901057\n",
      "\n",
      "  Monotonic trend             ascending\n",
      "\n",
      "  Significance tests\n",
      "\n",
      "    Bin A  Bin B  t-statistic      p-value     P[A > B]  P[B > A]\n",
      "        0      1    30.167696 3.962549e-08 1.116385e-09  1.000000\n",
      "        1      2    12.099332 5.043989e-04 1.788546e-04  0.999821\n",
      "        2      3     9.839480 1.708057e-03 7.036486e-04  0.999296\n",
      "        3      4    14.556680 1.360056e-04 4.467022e-05  0.999955\n",
      "        4      5    24.221859 8.585232e-07 4.723661e-08  1.000000\n",
      "        5      6    11.411088 7.300707e-04 2.876244e-04  0.999712\n",
      "        6      7    12.727753 3.602691e-04 1.282862e-04  0.999872\n",
      "        7      8     1.553063 2.126838e-01 1.058306e-01  0.894169\n",
      "\n"
     ]
    }
   ],
   "source": [
    "binning_table.analysis(pvalue_test=\"chi2\")"
   ]
  },
  {
   "cell_type": "code",
   "execution_count": 241,
   "id": "e65885ff",
   "metadata": {},
   "outputs": [],
   "source": [
    "#binning_table.plot()\n"
   ]
  },
  {
   "cell_type": "code",
   "execution_count": 244,
   "id": "b4565480",
   "metadata": {},
   "outputs": [],
   "source": [
    "#bt = bin_table(df1, variable, target, edges) \n",
    "#bt"
   ]
  },
  {
   "cell_type": "code",
   "execution_count": 86,
   "id": "752ff88f",
   "metadata": {},
   "outputs": [
    {
     "name": "stdout",
     "output_type": "stream",
     "text": [
      "Run time is 1.9916846752166748\n"
     ]
    },
    {
     "name": "stderr",
     "output_type": "stream",
     "text": [
      "/var/folders/l6/r1vg3v7s7t57x3f0r786wnhc0000gp/T/ipykernel_88319/474444592.py:31: SettingWithCopyWarning: \n",
      "A value is trying to be set on a copy of a slice from a DataFrame\n",
      "\n",
      "See the caveats in the documentation: https://pandas.pydata.org/pandas-docs/stable/user_guide/indexing.html#returning-a-view-versus-a-copy\n",
      "  df_tmp[f'{variable}_WoE'][df_tmp[variable].isna()] = tmp\n"
     ]
    }
   ],
   "source": [
    "# let's make WOE transformation\n",
    "t0 = time.time()\n",
    "df1_woe = WOE_transform(df1, variable, target, edges)\n",
    "print(f'Run time is {time.time()-t0}')"
   ]
  },
  {
   "cell_type": "code",
   "execution_count": 87,
   "id": "84711702",
   "metadata": {},
   "outputs": [
    {
     "data": {
      "text/plain": [
       "18.74446338921456"
      ]
     },
     "execution_count": 87,
     "metadata": {},
     "output_type": "execute_result"
    }
   ],
   "source": [
    "# gini for WoE transformed variable\n",
    "fpr, tpr, _ = roc_curve(df1_woe[target], df1_woe[f'{variable}_WoE'], pos_label=0)\n",
    "g = (2 * auc(fpr, tpr) - 1) * 100\n",
    "g"
   ]
  },
  {
   "cell_type": "code",
   "execution_count": 88,
   "id": "6e15fbec",
   "metadata": {},
   "outputs": [
    {
     "data": {
      "text/plain": [
       "-16.478199430841812"
      ]
     },
     "execution_count": 88,
     "metadata": {},
     "output_type": "execute_result"
    }
   ],
   "source": [
    "# gini for initial variable\n",
    "df1_no_na = df1[~df1[variable].isna()]\n",
    "fpr, tpr, _ = roc_curve(df1_no_na[target], df1_no_na[f'{variable}'], pos_label=0)\n",
    "g = (2 * auc(fpr, tpr) - 1) * 100\n",
    "g"
   ]
  },
  {
   "cell_type": "markdown",
   "id": "f6f7d3c2",
   "metadata": {},
   "source": [
    "## Let's build the model\n",
    "it should be a function of edges, variable list, target.   \n",
    "Returns model metrics (IV, Gini, time)"
   ]
  },
  {
   "cell_type": "markdown",
   "id": "cf70a3bc",
   "metadata": {},
   "source": [
    "# FP PIPELINE\n",
    "Function of DF, Test/ Train split, N_Iterations, Binning type and parameters.   \n",
    "Returns distribution of the model metrics, features metric"
   ]
  },
  {
   "cell_type": "code",
   "execution_count": null,
   "id": "e18e95c0",
   "metadata": {},
   "outputs": [],
   "source": []
  },
  {
   "cell_type": "code",
   "execution_count": null,
   "id": "b8606fbc",
   "metadata": {},
   "outputs": [],
   "source": []
  },
  {
   "cell_type": "markdown",
   "id": "6d901999",
   "metadata": {},
   "source": [
    "## Home credit dataset import"
   ]
  },
  {
   "cell_type": "code",
   "execution_count": null,
   "id": "c3f68ac6",
   "metadata": {},
   "outputs": [],
   "source": [
    "df = pd.read_csv('/Users/AM/home-credit-default-risk/application_train.csv')"
   ]
  },
  {
   "cell_type": "code",
   "execution_count": null,
   "id": "898412b0",
   "metadata": {},
   "outputs": [],
   "source": [
    "df_test = pd.read_csv('/Users/AM/home-credit-default-risk/application_test.csv')"
   ]
  }
 ],
 "metadata": {
  "kernelspec": {
   "display_name": "Python 3 (ipykernel)",
   "language": "python",
   "name": "python3"
  },
  "language_info": {
   "codemirror_mode": {
    "name": "ipython",
    "version": 3
   },
   "file_extension": ".py",
   "mimetype": "text/x-python",
   "name": "python",
   "nbconvert_exporter": "python",
   "pygments_lexer": "ipython3",
   "version": "3.8.5"
  },
  "toc": {
   "base_numbering": 1,
   "nav_menu": {},
   "number_sections": true,
   "sideBar": true,
   "skip_h1_title": false,
   "title_cell": "Table of Contents",
   "title_sidebar": "Contents",
   "toc_cell": false,
   "toc_position": {},
   "toc_section_display": true,
   "toc_window_display": false
  },
  "varInspector": {
   "cols": {
    "lenName": 16,
    "lenType": 16,
    "lenVar": 40
   },
   "kernels_config": {
    "python": {
     "delete_cmd_postfix": "",
     "delete_cmd_prefix": "del ",
     "library": "var_list.py",
     "varRefreshCmd": "print(var_dic_list())"
    },
    "r": {
     "delete_cmd_postfix": ") ",
     "delete_cmd_prefix": "rm(",
     "library": "var_list.r",
     "varRefreshCmd": "cat(var_dic_list()) "
    }
   },
   "position": {
    "height": "333.667px",
    "left": "824.667px",
    "right": "20px",
    "top": "120px",
    "width": "350px"
   },
   "types_to_exclude": [
    "module",
    "function",
    "builtin_function_or_method",
    "instance",
    "_Feature"
   ],
   "window_display": false
  }
 },
 "nbformat": 4,
 "nbformat_minor": 5
}
