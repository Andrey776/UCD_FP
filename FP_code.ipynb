{
 "cells": [
  {
   "cell_type": "markdown",
   "id": "8d9c4d57",
   "metadata": {
    "toc": true
   },
   "source": [
    "<h1>Table of Contents<span class=\"tocSkip\"></span></h1>\n",
    "<div class=\"toc\"><ul class=\"toc-item\"><li><span><a href=\"#Infrastructure\" data-toc-modified-id=\"Infrastructure-1\"><span class=\"toc-item-num\">1&nbsp;&nbsp;</span>Infrastructure</a></span><ul class=\"toc-item\"><li><span><a href=\"#Library-and-data-upload\" data-toc-modified-id=\"Library-and-data-upload-1.1\"><span class=\"toc-item-num\">1.1&nbsp;&nbsp;</span>Library and data upload</a></span></li><li><span><a href=\"#Functions-and-Plan-1-of-2\" data-toc-modified-id=\"Functions-and-Plan-1-of-2-1.2\"><span class=\"toc-item-num\">1.2&nbsp;&nbsp;</span>Functions and Plan 1 of 2</a></span><ul class=\"toc-item\"><li><span><a href=\"#bin_table\" data-toc-modified-id=\"bin_table-1.2.1\"><span class=\"toc-item-num\">1.2.1&nbsp;&nbsp;</span>bin_table</a></span></li><li><span><a href=\"#CART_class\" data-toc-modified-id=\"CART_class-1.2.2\"><span class=\"toc-item-num\">1.2.2&nbsp;&nbsp;</span>CART_class</a></span></li><li><span><a href=\"#CART_S-class\" data-toc-modified-id=\"CART_S-class-1.2.3\"><span class=\"toc-item-num\">1.2.3&nbsp;&nbsp;</span>CART_S class</a></span></li><li><span><a href=\"#get_edges_dict\" data-toc-modified-id=\"get_edges_dict-1.2.4\"><span class=\"toc-item-num\">1.2.4&nbsp;&nbsp;</span>get_edges_dict</a></span></li><li><span><a href=\"#woe_transform\" data-toc-modified-id=\"woe_transform-1.2.5\"><span class=\"toc-item-num\">1.2.5&nbsp;&nbsp;</span>woe_transform</a></span></li><li><span><a href=\"#var_list_woe\" data-toc-modified-id=\"var_list_woe-1.2.6\"><span class=\"toc-item-num\">1.2.6&nbsp;&nbsp;</span>var_list_woe</a></span></li><li><span><a href=\"#lr_model_fit_test\" data-toc-modified-id=\"lr_model_fit_test-1.2.7\"><span class=\"toc-item-num\">1.2.7&nbsp;&nbsp;</span>lr_model_fit_test</a></span></li><li><span><a href=\"#check_model\" data-toc-modified-id=\"check_model-1.2.8\"><span class=\"toc-item-num\">1.2.8&nbsp;&nbsp;</span>check_model</a></span></li><li><span><a href=\"#plot_results-(bootstrap)\" data-toc-modified-id=\"plot_results-(bootstrap)-1.2.9\"><span class=\"toc-item-num\">1.2.9&nbsp;&nbsp;</span>plot_results (bootstrap)</a></span></li><li><span><a href=\"#prepare-the-data-set\" data-toc-modified-id=\"prepare-the-data-set-1.2.10\"><span class=\"toc-item-num\">1.2.10&nbsp;&nbsp;</span>prepare the data set</a></span></li><li><span><a href=\"#plot-parameter-cycle-results\" data-toc-modified-id=\"plot-parameter-cycle-results-1.2.11\"><span class=\"toc-item-num\">1.2.11&nbsp;&nbsp;</span>plot parameter cycle results</a></span></li><li><span><a href=\"#Save-and-load-staff\" data-toc-modified-id=\"Save-and-load-staff-1.2.12\"><span class=\"toc-item-num\">1.2.12&nbsp;&nbsp;</span>Save and load staff</a></span></li></ul></li></ul></li><li><span><a href=\"#DEA\" data-toc-modified-id=\"DEA-2\"><span class=\"toc-item-num\">2&nbsp;&nbsp;</span>DEA</a></span><ul class=\"toc-item\"><li><ul class=\"toc-item\"><li><span><a href=\"#pipeline-cycle-over-parameter-space\" data-toc-modified-id=\"pipeline-cycle-over-parameter-space-2.0.1\"><span class=\"toc-item-num\">2.0.1&nbsp;&nbsp;</span>pipeline cycle over parameter space</a></span></li><li><span><a href=\"#results\" data-toc-modified-id=\"results-2.0.2\"><span class=\"toc-item-num\">2.0.2&nbsp;&nbsp;</span>results</a></span></li></ul></li></ul></li><li><span><a href=\"#Experiment---Cont-vs.-Bin\" data-toc-modified-id=\"Experiment---Cont-vs.-Bin-3\"><span class=\"toc-item-num\">3&nbsp;&nbsp;</span>Experiment - Cont vs. Bin</a></span><ul class=\"toc-item\"><li><span><a href=\"#no-binning-(Scikit-+-GridSearchCV)\" data-toc-modified-id=\"no-binning-(Scikit-+-GridSearchCV)-3.1\"><span class=\"toc-item-num\">3.1&nbsp;&nbsp;</span>no binning (Scikit + GridSearchCV)</a></span></li><li><span><a href=\"#no-binning-(Scikit,-no-GridSearchCV)\" data-toc-modified-id=\"no-binning-(Scikit,-no-GridSearchCV)-3.2\"><span class=\"toc-item-num\">3.2&nbsp;&nbsp;</span>no binning (Scikit, no GridSearchCV)</a></span></li><li><span><a href=\"#simple-binning-(KBinsDisc),-no-WOE)\" data-toc-modified-id=\"simple-binning-(KBinsDisc),-no-WOE)-3.3\"><span class=\"toc-item-num\">3.3&nbsp;&nbsp;</span>simple binning (KBinsDisc), no WOE)</a></span></li></ul></li><li><span><a href=\"#Experiment-simple-bin-vs.-WOE-transformed\" data-toc-modified-id=\"Experiment-simple-bin-vs.-WOE-transformed-4\"><span class=\"toc-item-num\">4&nbsp;&nbsp;</span>Experiment simple bin vs. WOE-transformed</a></span><ul class=\"toc-item\"><li><span><a href=\"#simple-binning-(n_bins-=-10,-no-WoE-transf)\" data-toc-modified-id=\"simple-binning-(n_bins-=-10,-no-WoE-transf)-4.1\"><span class=\"toc-item-num\">4.1&nbsp;&nbsp;</span>simple binning (n_bins = 10, no WoE transf)</a></span></li><li><span><a href=\"#woe-transformed-binning-(n_bins-=-10)\" data-toc-modified-id=\"woe-transformed-binning-(n_bins-=-10)-4.2\"><span class=\"toc-item-num\">4.2&nbsp;&nbsp;</span>woe transformed binning (n_bins = 10)</a></span></li></ul></li><li><span><a href=\"#Unsupervized-methods-exploration\" data-toc-modified-id=\"Unsupervized-methods-exploration-5\"><span class=\"toc-item-num\">5&nbsp;&nbsp;</span>Unsupervized methods exploration</a></span></li><li><span><a href=\"#OptBinning-exploration-NEW\" data-toc-modified-id=\"OptBinning-exploration-NEW-6\"><span class=\"toc-item-num\">6&nbsp;&nbsp;</span>OptBinning exploration NEW</a></span><ul class=\"toc-item\"><li><span><a href=\"#Exp_1-p_val\" data-toc-modified-id=\"Exp_1-p_val-6.1\"><span class=\"toc-item-num\">6.1&nbsp;&nbsp;</span>Exp_1 p_val</a></span></li><li><span><a href=\"#Exp-2-min_bin_n_event\" data-toc-modified-id=\"Exp-2-min_bin_n_event-6.2\"><span class=\"toc-item-num\">6.2&nbsp;&nbsp;</span>Exp 2 min_bin_n_event</a></span></li></ul></li><li><span><a href=\"#CART-exploration-NEW\" data-toc-modified-id=\"CART-exploration-NEW-7\"><span class=\"toc-item-num\">7&nbsp;&nbsp;</span>CART exploration NEW</a></span><ul class=\"toc-item\"><li><span><a href=\"#Exp_1\" data-toc-modified-id=\"Exp_1-7.1\"><span class=\"toc-item-num\">7.1&nbsp;&nbsp;</span>Exp_1</a></span></li><li><span><a href=\"#Exp_2\" data-toc-modified-id=\"Exp_2-7.2\"><span class=\"toc-item-num\">7.2&nbsp;&nbsp;</span>Exp_2</a></span></li></ul></li><li><span><a href=\"#MDLP-exploration\" data-toc-modified-id=\"MDLP-exploration-8\"><span class=\"toc-item-num\">8&nbsp;&nbsp;</span>MDLP exploration</a></span><ul class=\"toc-item\"><li><span><a href=\"#Experiment\" data-toc-modified-id=\"Experiment-8.1\"><span class=\"toc-item-num\">8.1&nbsp;&nbsp;</span>Experiment</a></span></li><li><span><a href=\"#Time-baseline\" data-toc-modified-id=\"Time-baseline-8.2\"><span class=\"toc-item-num\">8.2&nbsp;&nbsp;</span>Time baseline</a></span></li></ul></li><li><span><a href=\"#The-best-one-for-a-wider-dataset\" data-toc-modified-id=\"The-best-one-for-a-wider-dataset-9\"><span class=\"toc-item-num\">9&nbsp;&nbsp;</span>The best one for a wider dataset</a></span><ul class=\"toc-item\"><li><span><a href=\"#Basic-experiment\" data-toc-modified-id=\"Basic-experiment-9.1\"><span class=\"toc-item-num\">9.1&nbsp;&nbsp;</span>Basic experiment</a></span></li><li><span><a href=\"#Playing-with-time\" data-toc-modified-id=\"Playing-with-time-9.2\"><span class=\"toc-item-num\">9.2&nbsp;&nbsp;</span>Playing with time</a></span></li></ul></li><li><span><a href=\"#Test-sandbox\" data-toc-modified-id=\"Test-sandbox-10\"><span class=\"toc-item-num\">10&nbsp;&nbsp;</span>Test sandbox</a></span></li><li><span><a href=\"#pySpark-ML-test-sbx\" data-toc-modified-id=\"pySpark-ML-test-sbx-11\"><span class=\"toc-item-num\">11&nbsp;&nbsp;</span>pySpark ML test sbx</a></span><ul class=\"toc-item\"><li><span><a href=\"#DT-on-d0\" data-toc-modified-id=\"DT-on-d0-11.1\"><span class=\"toc-item-num\">11.1&nbsp;&nbsp;</span>DT on d0</a></span><ul class=\"toc-item\"><li><span><a href=\"#Compare-with-Scikit-learn\" data-toc-modified-id=\"Compare-with-Scikit-learn-11.1.1\"><span class=\"toc-item-num\">11.1.1&nbsp;&nbsp;</span>Compare with Scikit-learn</a></span></li></ul></li><li><span><a href=\"#Extract-edges\" data-toc-modified-id=\"Extract-edges-11.2\"><span class=\"toc-item-num\">11.2&nbsp;&nbsp;</span>Extract edges</a></span></li><li><span><a href=\"#Artificial-example\" data-toc-modified-id=\"Artificial-example-11.3\"><span class=\"toc-item-num\">11.3&nbsp;&nbsp;</span>Artificial example</a></span></li><li><span><a href=\"#the-GCP-experiment-(the-base-line)\" data-toc-modified-id=\"the-GCP-experiment-(the-base-line)-11.4\"><span class=\"toc-item-num\">11.4&nbsp;&nbsp;</span>the GCP experiment (the base line)</a></span></li><li><span><a href=\"#10-*-DF\" data-toc-modified-id=\"10-*-DF-11.5\"><span class=\"toc-item-num\">11.5&nbsp;&nbsp;</span>10 * DF</a></span></li></ul></li></ul></div>"
   ]
  },
  {
   "cell_type": "markdown",
   "id": "97397476",
   "metadata": {},
   "source": [
    "# Infrastructure"
   ]
  },
  {
   "cell_type": "markdown",
   "id": "d68ab2ea",
   "metadata": {},
   "source": [
    "## Library and data upload"
   ]
  },
  {
   "cell_type": "code",
   "execution_count": 23,
   "id": "88e78f5a",
   "metadata": {
    "ExecuteTime": {
     "end_time": "2021-11-21T17:33:38.224105Z",
     "start_time": "2021-11-21T17:33:38.216561Z"
    }
   },
   "outputs": [],
   "source": [
    "#import sys\n",
    "import pandas as pd\n",
    "import numpy as np\n",
    "import random\n",
    "import pyspark\n",
    "import time \n",
    "import itertools\n",
    "import matplotlib.pyplot as plt\n",
    "import itertools\n",
    "import seaborn as sns\n",
    "import pickle\n",
    "import statsmodels.api as sm\n",
    "\n",
    "from collections import Counter\n",
    "\n",
    "from math import sqrt\n",
    "from platform import python_version\n",
    "\n",
    "# from pyspark.mllib.linalg import DenseVector\n",
    "# from pyspark.mllib.tree import DecisionTree, DecisionTreeModel\n",
    "# from pyspark.mllib.util import MLUtils\n",
    "\n",
    "from pyspark.sql import SparkSession\n",
    "from pyspark.sql import functions as f\n",
    "\n",
    "from pyspark.ml.linalg import Vectors\n",
    "from pyspark.ml.feature import VectorAssembler\n",
    "from pyspark.ml import Pipeline\n",
    "from pyspark.ml.classification import DecisionTreeClassifier as DTC_spark\n",
    "from pyspark.ml.feature import StringIndexer, VectorIndexer\n",
    "from pyspark.ml.evaluation import MulticlassClassificationEvaluator\n",
    "\n",
    "\n",
    "import joblib\n",
    "from joblib import parallel_backend\n",
    "from joblib import Parallel, delayed\n",
    "from joblib import parallel_backend\n",
    "\n",
    "#from pandas_profiling import ProfileReport\n",
    "\n",
    "from sklearn.preprocessing import KBinsDiscretizer\n",
    "from sklearn.tree import DecisionTreeClassifier\n",
    "from sklearn.model_selection import GridSearchCV\n",
    "from sklearn.linear_model import LogisticRegression\n",
    "from sklearn.ensemble import GradientBoostingClassifier\n",
    "from sklearn.metrics import f1_score, r2_score, roc_curve, auc, accuracy_score, roc_auc_score\n",
    "from sklearn.model_selection import train_test_split\n",
    "from sklearn.pipeline import Pipeline\n",
    "\n",
    "from optbinning import OptimalBinning\n",
    "from optbinning import MDLP\n",
    "from optbinning import BinningProcess\n",
    "from optbinning.binning.transformations import transform_event_rate_to_woe\n",
    "from optbinning.binning.metrics import gini\n",
    "from optbinning.binning.outlier import ModifiedZScoreDetector\n",
    "\n",
    "#plt.style.use('seaborn')    \n",
    "#plt.style.use('default') "
   ]
  },
  {
   "cell_type": "code",
   "execution_count": null,
   "id": "daf480ce",
   "metadata": {},
   "outputs": [],
   "source": []
  },
  {
   "cell_type": "code",
   "execution_count": 2,
   "id": "b9e2f1d9",
   "metadata": {
    "ExecuteTime": {
     "end_time": "2021-11-21T17:27:44.790369Z",
     "start_time": "2021-11-21T17:27:33.909458Z"
    }
   },
   "outputs": [
    {
     "name": "stderr",
     "output_type": "stream",
     "text": [
      "21/11/21 20:27:35 WARN Utils: Your hostname, MacBook-Pro-16-Andrei.local resolves to a loopback address: 127.0.0.1; using 192.168.1.8 instead (on interface en0)\n",
      "21/11/21 20:27:35 WARN Utils: Set SPARK_LOCAL_IP if you need to bind to another address\n",
      "WARNING: An illegal reflective access operation has occurred\n",
      "WARNING: Illegal reflective access by org.apache.spark.unsafe.Platform (file:/Users/AM/opt/anaconda3/lib/python3.8/site-packages/pyspark/jars/spark-unsafe_2.12-3.1.1.jar) to constructor java.nio.DirectByteBuffer(long,int)\n",
      "WARNING: Please consider reporting this to the maintainers of org.apache.spark.unsafe.Platform\n",
      "WARNING: Use --illegal-access=warn to enable warnings of further illegal reflective access operations\n",
      "WARNING: All illegal access operations will be denied in a future release\n",
      "21/11/21 20:27:35 WARN NativeCodeLoader: Unable to load native-hadoop library for your platform... using builtin-java classes where applicable\n",
      "Using Spark's default log4j profile: org/apache/spark/log4j-defaults.properties\n",
      "Setting default log level to \"WARN\".\n",
      "To adjust logging level use sc.setLogLevel(newLevel). For SparkR, use setLogLevel(newLevel).\n",
      "                                                                                \r"
     ]
    }
   ],
   "source": [
    "spark = SparkSession.builder.master(\"local\").appName(\"spark_app_1234\").getOrCreate()\n",
    "sc = spark.sparkContext\n",
    "spark\n",
    "d0 = (\n",
    "    spark\n",
    "    .read\n",
    "    .format(\"csv\") \n",
    "    .option(\"header\",\"true\") \n",
    "    .option(\"inferSchema\",\"true\") \n",
    "    .load(\"/Users/AM/home-credit-default-risk/application_train.csv\")\n",
    ")"
   ]
  },
  {
   "cell_type": "code",
   "execution_count": 3,
   "id": "53f3f19c",
   "metadata": {
    "ExecuteTime": {
     "end_time": "2021-11-21T17:27:44.851820Z",
     "start_time": "2021-11-21T17:27:44.792170Z"
    }
   },
   "outputs": [
    {
     "name": "stdout",
     "output_type": "stream",
     "text": [
      "2\n"
     ]
    }
   ],
   "source": [
    "print(d0.rdd.getNumPartitions())\n",
    "#d0 = d0.repartition(4)\n",
    "#print(d0.rdd.getNumPartitions())\n"
   ]
  },
  {
   "cell_type": "code",
   "execution_count": 4,
   "id": "3c1e8b07",
   "metadata": {
    "ExecuteTime": {
     "end_time": "2021-11-21T17:27:45.653253Z",
     "start_time": "2021-11-21T17:27:44.854763Z"
    }
   },
   "outputs": [
    {
     "data": {
      "text/plain": [
       "307511"
      ]
     },
     "execution_count": 4,
     "metadata": {},
     "output_type": "execute_result"
    }
   ],
   "source": [
    "d0.count()"
   ]
  },
  {
   "cell_type": "markdown",
   "id": "7b3fc68a",
   "metadata": {},
   "source": [
    "## Functions and Plan 1 of 2\n",
    "- check WOE transform for EXT2 +\n",
    "- check WOE transform for EXT3 +\n",
    "- Check scorekit Logregmodel on roccurve approach +\n",
    "- change  Model_check for y_prob +\n",
    "- train-test +++\n",
    "- cycle with +++\n",
    "- add MDLP +++\n",
    "- Chi2 +++ no code in Python\n",
    "- play with stratify +++ (no need as the reslts are very close)\n",
    "- move part of this plan into FP report (esp startify) ???\n",
    "- find splits on the entire DS and than measure metrics on diffferent train/ test splits"
   ]
  },
  {
   "cell_type": "markdown",
   "id": "f3bc805d",
   "metadata": {},
   "source": [
    "### bin_table"
   ]
  },
  {
   "cell_type": "code",
   "execution_count": 5,
   "id": "2a5f2d1c",
   "metadata": {
    "ExecuteTime": {
     "end_time": "2021-11-21T17:27:45.666439Z",
     "start_time": "2021-11-21T17:27:45.655555Z"
    }
   },
   "outputs": [],
   "source": [
    "def bin_table(dataframe, disc_var_name, target_var_name, edges):\n",
    "    '''\n",
    "    returns the analogue of optb.binning_table (plus Gini) based on edges \n",
    "    df - our data in DataFrame, target_var_name - target variable\n",
    "    disc_var_name - variable to analyze\n",
    "    edges - bin edges \n",
    "    returns WoE DataFrame\n",
    "    also puts all NA into a separate bin (to keep info as I wrote in FP paper)\n",
    "    '''\n",
    "    df = dataframe.copy()\n",
    "    edges = np.append(edges, np.inf)\n",
    "    edges = np.insert(edges, 0, -np.inf)\n",
    "    N_na = df[disc_var_name].isna().sum()\n",
    "    if N_na > 0: \n",
    "        target_share_in_na = df[target][df[disc_var_name].isna()].sum() / N_na\n",
    "\n",
    "    df['Bin'] = pd.cut(df[disc_var_name],  bins = edges) \n",
    "    df = pd.concat([df['Bin'], df[target_var_name]], axis = 1)\n",
    "    df = pd.concat([df.groupby(df.columns.values[0], \n",
    "                               as_index = False)[df.columns.values[1]].count(),\n",
    "                    df.groupby(df.columns.values[0], \n",
    "                               as_index = False)[df.columns.values[1]].mean()], axis = 1)\n",
    "    df = df.iloc[:, [0, 1, 3]]\n",
    "    if N_na > 0: \n",
    "        df.loc[df.shape[0]] = ['Missing', N_na, target_share_in_na]  # adding na observations\n",
    "    df.columns = [df.columns.values[0], 'N_obs', 'prop_pos']\n",
    "    df['N_obs'] = df['N_obs']\n",
    "    df['Count (%)'] = (100*df['N_obs'] / df['N_obs'].sum()).round(2)\n",
    "    df['N_pos'] = (df['prop_pos'] * df['N_obs'])\n",
    "    df['N_neg'] = ((1 - df['prop_pos']) * df['N_obs'])\n",
    "    df['Event_rate'] = df['N_pos'] / df['N_obs']\n",
    "    df['Non_event_rate'] = df['N_neg'] / df['N_obs']\n",
    "    df['prop_N_pos'] = df['N_pos'] / df['N_pos'].sum()\n",
    "    df['prop_N_neg'] = df['N_neg'] / df['N_neg'].sum()\n",
    "    #df['Odds'] = df['Event_rate'] / df['Non_event_rate']\n",
    "    df['WoE'] = -np.log(df['prop_N_pos'] / df['prop_N_neg']) \n",
    "    df['diff_prop_pos'] = df['prop_pos'].diff().abs()\n",
    "    df['diff_WoE'] = df['WoE'].diff().abs()\n",
    "    df['IV'] = -(df['prop_N_pos'] - df['prop_N_neg']) * df['WoE']\n",
    "    df['Gini'] = ''\n",
    "    df = df[['Bin', 'N_obs', 'Count (%)', 'N_neg', 'N_pos', \n",
    "             'Event_rate', 'WoE', 'IV', 'Gini']]\n",
    "    df.loc['Total']= df.sum(numeric_only=True, axis=0)\n",
    "    df.columns = ['Bin', 'Count', 'Count (%)', 'Non_event', 'Event', \n",
    "                  'Event_rate', 'WoE', 'IV', 'Gini']   \n",
    "    df.loc['Total', 'Gini'] = round(gini(df.Event[:-1], df.Non_event[:-1]), 4)\n",
    "    df.loc['Total', 'Event_rate'] = \"\"\n",
    "    df.loc['Total', 'WoE'] = \"\"\n",
    "    #df.loc['Total', 'Bin'] = \"\" # set the category first\n",
    "    #df.loc['Total', 'Odds'] = \"\"\n",
    "    return df"
   ]
  },
  {
   "cell_type": "markdown",
   "id": "2a6cc05c",
   "metadata": {},
   "source": [
    "### CART_class"
   ]
  },
  {
   "cell_type": "code",
   "execution_count": 6,
   "id": "5beb8d06",
   "metadata": {
    "ExecuteTime": {
     "end_time": "2021-11-21T17:27:45.674277Z",
     "start_time": "2021-11-21T17:27:45.667842Z"
    }
   },
   "outputs": [],
   "source": [
    "class CART:\n",
    "    def __init__(self, criterion='gini', splitter='best', max_depth=None, \n",
    "                       min_samples_leaf=1000, \n",
    "                       max_leaf_nodes=None, \n",
    "                       min_impurity_decrease=0, ccp_alpha=0, n_jobs=-1): \n",
    "        self.criterion=criterion\n",
    "        self.splitter=splitter\n",
    "        self.max_depth=max_depth \n",
    "        self.min_samples_leaf=min_samples_leaf \n",
    "        self.max_leaf_nodes = max_leaf_nodes \n",
    "        self.min_impurity_decrease = min_impurity_decrease\n",
    "        self.ccp_alpha = ccp_alpha\n",
    "        self.n_jobs = n_jobs\n",
    "        self.dtree = DecisionTreeClassifier(criterion=self.criterion, \n",
    "                                     splitter=self.splitter, \n",
    "                                     max_depth=self.max_depth,\n",
    "                                     min_samples_leaf=self.min_samples_leaf,\n",
    "                                     max_leaf_nodes = self.max_leaf_nodes, \n",
    "                                     min_impurity_decrease = self.min_impurity_decrease, \n",
    "                                     ccp_alpha = self.ccp_alpha)\n",
    "    \n",
    "    def fit(self, x, y):\n",
    "        '''fits the tree '''\n",
    "\n",
    "        #with parallel_backend('threading', n_jobs=self.n_jobs):\n",
    "        self.dtree.fit(x, y)\n",
    "        return self.dtree\n",
    "\n",
    "    def get_tree_splits(self):\n",
    "        '''\n",
    "        Returns list of thresholds of the deision tree.\n",
    "\n",
    "        Parameters\n",
    "        ---------------\n",
    "        tree: DecisionTreeClassifier object\n",
    "\n",
    "        Returns\n",
    "        ---------------\n",
    "        boundaries: list of thresholds\n",
    "        '''\n",
    "        children_left = self.dtree.tree_.children_left\n",
    "        children_right = self.dtree.tree_.children_right\n",
    "        threshold = self.dtree.tree_.threshold\n",
    "        # boundaries of split\n",
    "        self.boundaries = []\n",
    "\n",
    "        for i in range(self.dtree.tree_.node_count):\n",
    "            if children_left[i] != children_right[i]:\n",
    "                self.boundaries.append(threshold[i])\n",
    "\n",
    "        return sorted(self.boundaries)\n",
    "    \n",
    "    def print_param(self):\n",
    "        print(self.criterion,\n",
    "        self.splitter,\n",
    "        self.max_depth, \n",
    "        self.min_samples_leaf, \n",
    "        self.max_leaf_nodes, \n",
    "        self.min_impurity_decrease,\n",
    "        self.ccp_alpha)\n",
    "    "
   ]
  },
  {
   "cell_type": "markdown",
   "id": "2a513420",
   "metadata": {},
   "source": [
    "### CART_S class"
   ]
  },
  {
   "cell_type": "code",
   "execution_count": 7,
   "id": "0ae3a0b8",
   "metadata": {
    "ExecuteTime": {
     "end_time": "2021-11-21T17:27:45.678910Z",
     "start_time": "2021-11-21T17:27:45.675807Z"
    }
   },
   "outputs": [],
   "source": [
    "# class CART_S:\n",
    "#     def __init__(self, criterion='gini', splitter='best', max_depth=None, \n",
    "#                        min_samples_leaf=1000, \n",
    "#                        max_leaf_nodes=None, \n",
    "#                        min_impurity_decrease=0, ccp_alpha=0, n_jobs=-1): \n",
    "#         self.criterion=criterion\n",
    "#         self.splitter=splitter\n",
    "#         self.max_depth=max_depth \n",
    "#         self.min_samples_leaf=min_samples_leaf \n",
    "#         self.max_leaf_nodes = max_leaf_nodes \n",
    "#         self.min_impurity_decrease = min_impurity_decrease\n",
    "#         self.ccp_alpha = ccp_alpha\n",
    "#         self.n_jobs = n_jobs\n",
    "#         self.dtree = DecisionTree()\n",
    "#         self.trainingData = \n",
    "    \n",
    "#     def fit(self, x, y):\n",
    "#         '''fits the tree '''\n",
    "\n",
    "#         #with parallel_backend('threading', n_jobs=self.n_jobs):\n",
    "#         self.dtree.trainClassifier(trainingData = self.trainingData, \n",
    "#                                    numClasses=2, \n",
    "#                                    categoricalFeaturesInfo={},\n",
    "#                                    impurity='gini', \n",
    "#                                    maxDepth=5, \n",
    "#                                    maxBins=32)\n",
    "#         return self.dtree\n",
    "\n",
    "#     def get_tree_splits(self):\n",
    "#         '''\n",
    "#         Returns list of thresholds of the deision tree.\n",
    "\n",
    "#         Parameters\n",
    "#         ---------------\n",
    "#         tree: DecisionTreeClassifier object\n",
    "\n",
    "#         Returns\n",
    "#         ---------------\n",
    "#         boundaries: list of thresholds\n",
    "#         '''\n",
    "#         children_left = self.dtree.tree_.children_left\n",
    "#         children_right = self.dtree.tree_.children_right\n",
    "#         threshold = self.dtree.tree_.threshold\n",
    "#         # boundaries of split\n",
    "#         self.boundaries = []\n",
    "\n",
    "#         for i in range(self.dtree.tree_.node_count):\n",
    "#             if children_left[i] != children_right[i]:\n",
    "#                 self.boundaries.append(threshold[i])\n",
    "\n",
    "#         return sorted(self.boundaries)\n",
    "#     def print_param(self):\n",
    "#         print(self.criterion,\n",
    "#         self.splitter,\n",
    "#         self.max_depth, \n",
    "#         self.min_samples_leaf, \n",
    "#         self.max_leaf_nodes, \n",
    "#         self.min_impurity_decrease,\n",
    "#         self.ccp_alpha)\n",
    "    "
   ]
  },
  {
   "cell_type": "markdown",
   "id": "7e6669fb",
   "metadata": {},
   "source": [
    "### get_edges_dict"
   ]
  },
  {
   "cell_type": "code",
   "execution_count": 8,
   "id": "efe1a6e6",
   "metadata": {
    "ExecuteTime": {
     "end_time": "2021-11-21T17:27:45.690546Z",
     "start_time": "2021-11-21T17:27:45.680197Z"
    }
   },
   "outputs": [],
   "source": [
    "# prepare edges\n",
    "def get_edges_dict(dataframe, variables, target, \n",
    "                   bin_method = OptimalBinning(dtype=\"numerical\"), verbose = False):\n",
    "    '''\n",
    "    split variables of the df from the variables list by a chosen method\n",
    "    and stores it in the dict \n",
    "    '''\n",
    "    t0 = time.time()\n",
    "    df = dataframe.copy()\n",
    "    edges_dict = {}\n",
    "    bt_dict = {}\n",
    "    master_method = bin_method # need it to solve MDLP edges_dict library mistake\n",
    "    for i, variable in enumerate(variables):\n",
    "        t00 = time.time()\n",
    "        if type(bin_method) == MDLP:\n",
    "            ind_tmp = df[variable].isna()\n",
    "            x = df[variable][~ind_tmp].values\n",
    "            y = df[target][~ind_tmp]\n",
    "            bin_method.fit(x, y)\n",
    "            current_edges = bin_method.splits\n",
    "            current_edges = current_edges.tolist()\n",
    "            next_turn_last_edges = bin_method.splits\n",
    "            next_turn_last_edges = next_turn_last_edges.tolist()\n",
    "            if i>0:    \n",
    "                for e in last_turn_edges:\n",
    "                    current_edges.remove(e)\n",
    "            edges_tmp = current_edges\n",
    "            last_turn_edges = next_turn_last_edges\n",
    "            \n",
    "        elif type(bin_method) == OptimalBinning:    \n",
    "            x = df[variable].values\n",
    "            y = df[target]\n",
    "            bin_method.fit(x, y)\n",
    "            edges_tmp = bin_method.splits\n",
    "            bt = bin_method.binning_table\n",
    "            bt.build()\n",
    "            bt_dict[variable] = bt\n",
    "        elif type(bin_method) == CART:\n",
    "            ind_tmp = df[variable].isna()\n",
    "            x = df[variable][~ind_tmp].values.reshape(-1,1)\n",
    "            y = df[target][~ind_tmp]\n",
    "            bin_method.fit(x, y)\n",
    "            edges_tmp = bin_method.get_tree_splits() \n",
    "            bt = bin_table(df, variable, target, edges_tmp)\n",
    "            bt_dict[variable] = bt # think about unification with OptBinning case\n",
    "        elif type(bin_method) == CART_S:\n",
    "            ind_tmp = df[variable].isna()\n",
    "            x = df[variable][~ind_tmp].values.reshape(-1,1)\n",
    "            y = df[target][~ind_tmp]\n",
    "            bin_method.fit(x, y)\n",
    "            edges_tmp = bin_method.get_tree_splits() \n",
    "            bt = bin_table(df, variable, target, edges_tmp)\n",
    "            bt_dict[variable] = bt # think about unification with OptBinning case\n",
    "        else: \n",
    "            type(bin_method) == KBinsDiscretizer\n",
    "            x = df[variable].dropna().values\n",
    "            x = x.reshape(-1,1)\n",
    "            est = bin_method.fit(x)\n",
    "            edges_tmp = est.bin_edges_[0][1:-1] # drop the first and the last to be in line with optimalBinning\n",
    "        \n",
    "        edges_dict[variable] = edges_tmp\n",
    "        bin_method = master_method # need it to solve MDLP edges_dict library mistake\n",
    "        if (type(bin_method) == OptimalBinning) & verbose:    \n",
    "            print(f'for {variable} optb.status is {bin_method.status}')\n",
    "        if verbose: \n",
    "            print(f'for {variable} run time {time.time()-t00}')\n",
    "            print(f'edges are {edges_tmp}')\n",
    "            print('')\n",
    "    if verbose:\n",
    "        print(f'Bin_method is {bin_method}; Total run time {time.time()-t0}')\n",
    "    if type(bin_method) == CART:   \n",
    "        result = (edges_dict, bt_dict)\n",
    "    elif type(bin_method) == OptimalBinning:\n",
    "        result = (edges_dict, bt_dict)\n",
    "    else: result = (edges_dict, 'mas_no_bt_dict_here')\n",
    "    return result\n",
    "   "
   ]
  },
  {
   "cell_type": "markdown",
   "id": "0c0d38c3",
   "metadata": {},
   "source": [
    "### woe_transform"
   ]
  },
  {
   "cell_type": "code",
   "execution_count": 9,
   "id": "35ae7906",
   "metadata": {
    "ExecuteTime": {
     "end_time": "2021-11-21T17:27:45.696586Z",
     "start_time": "2021-11-21T17:27:45.691794Z"
    }
   },
   "outputs": [],
   "source": [
    "def WOE_transform(df_to_transform, df_to_find_WOE, variable, target, edges):\n",
    "    '''\n",
    "    optimized version\n",
    "    returns a list f'{variable}_woe' - WOE transormed variable\n",
    "    first it uses bin_table function\n",
    "    '''  \n",
    "    tt0 = time.time()\n",
    "    btf = bin_table(df_to_find_WOE, variable, target, edges)\n",
    "    tt1 = time.time()\n",
    "    edges_np = np.array(edges)\n",
    "    woe_index = np.searchsorted(edges_np, df_to_transform[variable].values)\n",
    "    tt2 = time.time()\n",
    "    df_tmp = pd.DataFrame()\n",
    "    df_tmp[f'{variable}_WoE'] = [btf.WoE[i] for i in woe_index]\n",
    "    if 'Missing' in btf.Bin.values:    \n",
    "        tmp = btf.WoE[btf.shape[0]-2]\n",
    "        df_tmp.loc[df_to_transform[variable].isna(), f'{variable}_WoE'] = tmp\n",
    "    tt3 =time.time()\n",
    "    tt = tt3-tt0\n",
    "    print(f'WOE_transform: Bin_table-{round(100*(tt1-tt0)/tt, 1)}%; np.searchsorted-{round(100*(tt2-tt1)/tt, 1)}%; wrap up-{round(100*(tt3-tt2)/tt, 1)}%; Total {round((tt3-tt2), 1)}sec ')\n",
    "    return df_tmp"
   ]
  },
  {
   "cell_type": "markdown",
   "id": "c1521459",
   "metadata": {},
   "source": [
    "### var_list_woe"
   ]
  },
  {
   "cell_type": "code",
   "execution_count": 10,
   "id": "731544a1",
   "metadata": {
    "ExecuteTime": {
     "end_time": "2021-11-21T17:27:45.703307Z",
     "start_time": "2021-11-21T17:27:45.699450Z"
    }
   },
   "outputs": [],
   "source": [
    "def var_list_woe(df_to_transform, df_to_find_WOE, variables, target, edges_dict, verbose = False):\n",
    "    ''' creates new df with woe-transformed var'''\n",
    "    t0 = time.time()\n",
    "    df = pd.DataFrame()\n",
    "    df.loc[:, target] = df_to_transform[target]\n",
    "    for variable in variables:\n",
    "        t00 = time.time()\n",
    "        df[f'{variable}_woe'] = WOE_transform(df_to_transform, df_to_find_WOE, \n",
    "                                              variable, target, edges_dict[variable])\n",
    "        if verbose: print(f'{variable}_woe run time is {time.time()-t00}')\n",
    "    if verbose: \n",
    "        print('')\n",
    "        print(f'Total woe_transformation run time is {time.time()-t0}')        \n",
    "    return df\n"
   ]
  },
  {
   "cell_type": "markdown",
   "id": "83bb3fb6",
   "metadata": {},
   "source": [
    "### lr_model_fit_test"
   ]
  },
  {
   "cell_type": "code",
   "execution_count": 11,
   "id": "db6f870a",
   "metadata": {
    "ExecuteTime": {
     "end_time": "2021-11-21T17:27:45.708203Z",
     "start_time": "2021-11-21T17:27:45.704710Z"
    }
   },
   "outputs": [],
   "source": [
    "def lr_model_fit_test(df_woe_, lr = LogisticRegression(), verbose = False):\n",
    "    X = df_woe_.iloc[:, 1:].to_numpy()\n",
    "    y = df_woe_.iloc[:, 0].values\n",
    "    print('starting the lr model fit...')\n",
    "\n",
    "    lr.fit(X, y)\n",
    "    #y_pred = lr.predict(X)\n",
    "    #y_dec_score = lr.decision_function(X)\n",
    "    if verbose: print('model parameters: ', lr.intercept_, lr.coef_)\n",
    "    print('start to check the model')\n",
    "\n",
    "    metric = check_model(lr, X, y, verbose = verbose)\n",
    "    return metric"
   ]
  },
  {
   "cell_type": "markdown",
   "id": "e2ebce5f",
   "metadata": {},
   "source": [
    "### check_model"
   ]
  },
  {
   "cell_type": "code",
   "execution_count": 12,
   "id": "83748ad8",
   "metadata": {
    "ExecuteTime": {
     "end_time": "2021-11-21T17:27:45.714866Z",
     "start_time": "2021-11-21T17:27:45.709570Z"
    }
   },
   "outputs": [],
   "source": [
    "def check_model(m, X, y, verbose = False):\n",
    "    y_prob = m.predict_proba(X)[:,1]\n",
    "    fpr, tpr, _ = roc_curve(y, y_prob) \n",
    "    g = round((2 * auc(fpr, tpr) - 1), 4)\n",
    "    if verbose:   \n",
    "        y_pred = m.predict(X)\n",
    "        y_dec_score = m.decision_function(X)\n",
    "        accuracy = accuracy_score(y, y_pred)\n",
    "        print(f'accuracy = {accuracy:2.5f}')\n",
    "        f1 = f1_score(y, y_pred)\n",
    "        print(f'F1 score = {f1:2.5f}')\n",
    "        roc_auc_sc1 = roc_auc_score(y, y_prob)\n",
    "        roc_auc_sc2 = roc_auc_score(y, y_dec_score)\n",
    "        print(f'roc_auc_score (prob based) = {roc_auc_sc1:2.5f}')\n",
    "        print(f'roc_auc_score (dec_func_based) = {roc_auc_sc2:2.5f}')        \n",
    "        print(f'AUC = {auc(fpr, tpr):2.5f}')    \n",
    "        print(f'(2 * roc_AUC - 1 ) = {g:2.5f}')\n",
    "        plt.plot(fpr, tpr, linewidth=2)\n",
    "        plt.plot([0, 1], [0, 1], 'k--')  \n",
    "        plt.xlabel('False positive Rate')\n",
    "        plt.ylabel('True Positive Rate (Recall)')\n",
    "        plt.show()\n",
    "    return g"
   ]
  },
  {
   "cell_type": "markdown",
   "id": "9abcc488",
   "metadata": {},
   "source": [
    "### plot_results (bootstrap)"
   ]
  },
  {
   "cell_type": "code",
   "execution_count": 13,
   "id": "f83a6fdd",
   "metadata": {
    "ExecuteTime": {
     "end_time": "2021-11-21T17:27:45.728750Z",
     "start_time": "2021-11-21T17:27:45.716727Z"
    }
   },
   "outputs": [],
   "source": [
    "def plot_results(df_result, metric, bin_method):\n",
    "    n = df_result.shape[0]-2\n",
    "    plt.figure(figsize=(8,6))\n",
    "    dd = df_result[metric][:-1].values\n",
    "    sns.distplot(dd)\n",
    "    palette = itertools.cycle(sns.color_palette())\n",
    "    bootstrap_gini = dd\n",
    "    plt.axvline(x=np.mean(bootstrap_gini), linestyle='--', color='b', alpha=0.8)\n",
    "    plt.text(np.mean(bootstrap_gini), 0, '   mean = '+str(round(np.mean(bootstrap_gini),4)),\n",
    "                 horizontalalignment='right', verticalalignment='bottom', rotation=90, fontsize=14)\n",
    "\n",
    "    plt.axvline(x=np.mean(bootstrap_gini)-np.std(bootstrap_gini), linestyle='--', color='red', alpha=0.3)\n",
    "    plt.text(np.mean(bootstrap_gini)-np.std(bootstrap_gini), 0, '   mean-std = '+str(round(np.mean(bootstrap_gini)-np.std(bootstrap_gini),4)),\n",
    "                 horizontalalignment='right', verticalalignment='bottom', rotation=90, fontsize=12)\n",
    "\n",
    "    plt.axvline(x=np.mean(bootstrap_gini)+np.std(bootstrap_gini), linestyle='--', color='red', alpha=0.3)\n",
    "    plt.text(np.mean(bootstrap_gini)+np.std(bootstrap_gini), 0, '   mean+std = '+str(round(np.mean(bootstrap_gini)+np.std(bootstrap_gini),4)),\n",
    "                 horizontalalignment='right', verticalalignment='bottom', rotation=90, fontsize=12)\n",
    "\n",
    "    plt.axvline(x=np.mean(bootstrap_gini)-2*np.std(bootstrap_gini), linestyle='--', color='red', alpha=0.5)\n",
    "    plt.text(np.mean(bootstrap_gini)-2*np.std(bootstrap_gini), 0, '   mean-2*std = '+str(round(np.mean(bootstrap_gini)-2*np.std(bootstrap_gini),4)),\n",
    "                 horizontalalignment='right', verticalalignment='bottom', rotation=90, fontsize=12)\n",
    "    plt.axvline(x=np.mean(bootstrap_gini)+2*np.std(bootstrap_gini), linestyle='--', color='red', alpha=0.5)\n",
    "    plt.text(np.mean(bootstrap_gini)+2*np.std(bootstrap_gini), 0, '   mean+2*std = '+str(round(np.mean(bootstrap_gini)+2*np.std(bootstrap_gini),4)),\n",
    "                 horizontalalignment='right', verticalalignment='bottom', rotation=90, fontsize=12)\n",
    "    mm = round(np.mean(bootstrap_gini), 4)\n",
    "    ss =round(np.std(bootstrap_gini), 4)\n",
    "    plt.xlabel(f'Gini values (std = {ss})', fontsize=14)\n",
    "    plt.ylabel('Distribution', fontsize = 14)\n",
    "    #tmp_rt = round(df_result.loc['MEAN', 'Run_time'], 3)\n",
    "    plt.title(f'Bootstrap distribution for {metric}, {n} samples.\\n\\\n",
    "Method: {bin_method}', fontsize = 15, loc='center')\n",
    "    plt.yticks([])\n",
    "    plt.show()"
   ]
  },
  {
   "cell_type": "markdown",
   "id": "a9552436",
   "metadata": {},
   "source": [
    "### prepare the data set"
   ]
  },
  {
   "cell_type": "code",
   "execution_count": 14,
   "id": "5d613d1f",
   "metadata": {
    "ExecuteTime": {
     "end_time": "2021-11-21T17:27:45.736473Z",
     "start_time": "2021-11-21T17:27:45.730606Z"
    }
   },
   "outputs": [],
   "source": [
    "target = 'TARGET'\n",
    "variables = ['DAYS_EMPLOYED', 'AMT_GOODS_PRICE', 'EXT_SOURCE_3']\n",
    "def prepare_df(df_spark, variables = variables, \n",
    "               remove_outl = True, remove_na = True):\n",
    "    '''just ulpoad and creates the initial df from previously uploaded spark d0'''\n",
    "    df0 = df_spark.select(variables + [target]).toPandas()\n",
    "    df0.DAYS_EMPLOYED.replace(365243, np.nan, inplace=True)\n",
    "    print(f'df initial shape: {df0.shape}\\n')\n",
    "    if remove_na:\n",
    "        df = df0.dropna(axis=0).reset_index(drop = True)\n",
    "        print(f'df shape after processing missing values: {df.shape}\\n')\n",
    "    else: \n",
    "        df = df0\n",
    "    outl = ModifiedZScoreDetector(3.5)\n",
    "    if remove_outl:\n",
    "        for variable in variables:\n",
    "            outl.fit(df[variable])\n",
    "            df = df[~outl.get_support()]\n",
    "            print(f'N outliers in {variable}: {outl.get_support().sum()},\\\n",
    "            df shape after outlier removal: {df.shape}')\n",
    "        df = df.reset_index(drop = True)\n",
    "    print(f'\\nfinal df shape: {df.shape}')\n",
    "    # we remove nan not to spent time for different method API's\n",
    "    return df"
   ]
  },
  {
   "cell_type": "markdown",
   "id": "89d86a3b",
   "metadata": {},
   "source": [
    "### plot parameter cycle results"
   ]
  },
  {
   "cell_type": "code",
   "execution_count": 15,
   "id": "0643f800",
   "metadata": {
    "ExecuteTime": {
     "end_time": "2021-11-21T17:27:45.744583Z",
     "start_time": "2021-11-21T17:27:45.738475Z"
    }
   },
   "outputs": [],
   "source": [
    "def plot_cycle_results(result_df, bin_method, n, x_name):\n",
    "    labels = result_df.index.to_list()\n",
    "    x = np.arange(len(labels))\n",
    "    fig, ax = plt.subplots(figsize=(10,6))\n",
    "\n",
    "    width = 0.35\n",
    "\n",
    "    rects1 = ax.bar(x - width/2, result_df.g_train, width, label = 'Gini train', alpha = 0.6)\n",
    "    rects2 = ax.bar(x + width/2, result_df.g_test, width, label = 'Gini test', alpha = 0.6)\n",
    "\n",
    "    ax.set_ylabel('Gini coefficient', fontsize=14)\n",
    "    name = f'{bin_method}'#[:14]\n",
    "    ax.set_title(f'Mean gini, {n} iterations.\\n\\\n",
    "    Method: {name}', fontsize = 15)\n",
    "    ax.set_xticks(x)\n",
    "\n",
    "    ymin = 0.97*result_df.g_train.min()\n",
    "    ymax = 1.02*result_df.g_train.max()\n",
    "    ax.set_ylim([ymin, ymax])\n",
    "    ax.set_xlabel(x_name, fontsize=14)\n",
    "\n",
    "    ax.set_xticklabels(labels)\n",
    "    ax.legend()\n",
    "\n",
    "    ax.bar_label(rects1, padding=3)\n",
    "    ax.bar_label(rects2, padding=3)\n",
    "\n",
    "    plt.show()"
   ]
  },
  {
   "cell_type": "markdown",
   "id": "97d562cf",
   "metadata": {},
   "source": [
    "### Save and load staff"
   ]
  },
  {
   "cell_type": "code",
   "execution_count": 16,
   "id": "a6d21f51",
   "metadata": {
    "ExecuteTime": {
     "end_time": "2021-11-21T17:27:45.750604Z",
     "start_time": "2021-11-21T17:27:45.746702Z"
    }
   },
   "outputs": [],
   "source": [
    "def save_obj(obj, name ):\n",
    "    with open('obj/'+ name + '.pkl', 'wb') as f:\n",
    "        pickle.dump(obj, f, pickle.HIGHEST_PROTOCOL)\n",
    "\n",
    "def load_obj(name ):\n",
    "    with open('obj/' + name + '.pkl', 'rb') as f:\n",
    "        return pickle.load(f)"
   ]
  },
  {
   "cell_type": "markdown",
   "id": "b47a07e5",
   "metadata": {},
   "source": [
    "# DEA"
   ]
  },
  {
   "cell_type": "code",
   "execution_count": null,
   "id": "30ed5beb",
   "metadata": {
    "ExecuteTime": {
     "end_time": "2021-11-20T07:03:11.588348Z",
     "start_time": "2021-11-20T07:03:08.117888Z"
    }
   },
   "outputs": [],
   "source": [
    "df = prepare_df(d0)"
   ]
  },
  {
   "cell_type": "code",
   "execution_count": null,
   "id": "0abe5ed9",
   "metadata": {
    "ExecuteTime": {
     "end_time": "2021-11-20T07:03:11.591655Z",
     "start_time": "2021-11-20T07:03:11.589693Z"
    }
   },
   "outputs": [],
   "source": [
    "#df_dea = ProfileReport(df)"
   ]
  },
  {
   "cell_type": "code",
   "execution_count": null,
   "id": "4a8ae835",
   "metadata": {},
   "outputs": [],
   "source": [
    "#df_dea.to_file('df_dea.html')"
   ]
  },
  {
   "cell_type": "code",
   "execution_count": null,
   "id": "e3891023",
   "metadata": {},
   "outputs": [],
   "source": [
    "#df_dea"
   ]
  },
  {
   "cell_type": "code",
   "execution_count": null,
   "id": "b26e6c66",
   "metadata": {},
   "outputs": [],
   "source": []
  },
  {
   "cell_type": "markdown",
   "id": "ac6b05b6",
   "metadata": {},
   "source": [
    "###  pipeline cycle over parameter space"
   ]
  },
  {
   "cell_type": "code",
   "execution_count": null,
   "id": "8d1f6b3c",
   "metadata": {
    "code_folding": [
     2
    ]
   },
   "outputs": [],
   "source": [
    "parameter_space = ['cart', 'mdlp', 'quantile']\n",
    "result_dict = {} # contains all the df_result tables\n",
    "for n_param, parameter in enumerate(parameter_space): \n",
    "    tpar0=time.time()\n",
    "    bin_method=OptimalBinning(prebinning_method=parameter)\n",
    "    #bin_method = MDLP(min_samples_split=2, min_samples_leaf=10000, max_candidates=32)\n",
    "    #bin_method=KBinsDiscretizer()\n",
    "    #bin_method = CART()\n",
    "    n_iter = 100\n",
    "    verbose = False\n",
    "    model = LogisticRegression(max_iter=n_iter)\n",
    "    ed = get_edges_dict(df, variables, target, verbose=False, bin_method=bin_method)\n",
    "    df_woe = var_list_woe(df, df, variables, target, ed, verbose=False)\n",
    "    df_result = pd.DataFrame(columns=['Gini_train', 'Gini_test', 'Run_time', \n",
    "                                      'N_bins', 'Bin_method', 'N_iter'])\n",
    "    for i in range(n_iter):\n",
    "        dfw_train, dfw_test = train_test_split(df_woe, test_size=0.30)#, stratify=df[target])\n",
    "        tp0 = time.time()\n",
    "        #fit the model on train set\n",
    "        X = dfw_train.iloc[:, 1:].to_numpy()\n",
    "        y = dfw_train.iloc[:, 0].values\n",
    "        model.fit(X, y)\n",
    "        g_train = round(check_model(model, X, y), 4)\n",
    "        # now test the model on test_set\n",
    "        X = dfw_test.iloc[:, 1:].to_numpy()\n",
    "        y = dfw_test.iloc[:, 0].values\n",
    "        g_test = round(check_model(model, X, y), 4)\n",
    "        t = round((time.time() - tp0), 2)\n",
    "        if verbose: \n",
    "            print(f'Train gini {g_train}; Test gini {g_test}')\n",
    "            print(f'Run time for round {i+1} is {t} sec.')\n",
    "        df_result.loc[i, 'Bin_method'] = bin_method  \n",
    "        df_result.loc[i, 'Gini_train'] = g_train\n",
    "        df_result.loc[i, 'Gini_test'] = g_test\n",
    "        df_result.loc[i, 'Run_time'] = t  \n",
    "        df_result.loc[i, 'N_bins'] = [len(ed[x])+1 for x in ed.keys()]\n",
    "        df_result.loc[i, 'N_iter'] = n_iter  \n",
    "       \n",
    "    \n",
    "    df_result.loc['MEAN']= round(df_result[['Gini_train', 'Gini_test', 'Run_time']].mean(), 4)\n",
    "    df_result.loc['STD']= round(df_result[['Gini_train', 'Gini_test', 'Run_time']].std(), 4)\n",
    "    t = round((time.time() - tpar0), 2)\n",
    "    print(f'Run time for parameter {parameter} is {t} sec.')\n",
    "    result_dict[parameter] = df_result\n",
    "    "
   ]
  },
  {
   "cell_type": "code",
   "execution_count": null,
   "id": "b67cb9df",
   "metadata": {},
   "outputs": [],
   "source": [
    "result_dict[parameter]"
   ]
  },
  {
   "cell_type": "markdown",
   "id": "97a7bce9",
   "metadata": {},
   "source": [
    "### results"
   ]
  },
  {
   "cell_type": "code",
   "execution_count": null,
   "id": "1c13e28a",
   "metadata": {},
   "outputs": [],
   "source": [
    "# df_dict_result contains gini train/ test for each parameter\n",
    "df_dict_result = pd.DataFrame(columns=['parameter', \"g_train\", \"g_test\", \n",
    "                                       \"Bin_method\", 'N_iter'])\n",
    "for i, parameter in enumerate(result_dict.keys()):\n",
    "    df_dict_result.loc[i,\"parameter\"] = parameter\n",
    "    df_dict_result.loc[i,\"g_train\"] = result_dict[parameter].loc['MEAN', 'Gini_train']\n",
    "    df_dict_result.loc[i,\"g_test\"] = result_dict[parameter].loc['MEAN', 'Gini_test']\n",
    "    df_dict_result.loc[i,\"Bin_method\"] = result_dict[parameter].loc[0, 'Bin_method']\n",
    "    df_dict_result.loc[i,\"N_iter\"] = result_dict[parameter].loc[0, 'N_iter']\n",
    "\n",
    "    \n",
    "df_dict_result    \n"
   ]
  },
  {
   "cell_type": "code",
   "execution_count": null,
   "id": "5398c03a",
   "metadata": {},
   "outputs": [],
   "source": [
    "f'{bin_method}'[:10]"
   ]
  },
  {
   "cell_type": "code",
   "execution_count": null,
   "id": "a1b25553",
   "metadata": {},
   "outputs": [],
   "source": []
  },
  {
   "cell_type": "code",
   "execution_count": null,
   "id": "86b2a44c",
   "metadata": {},
   "outputs": [],
   "source": [
    "plt.figure(figsize=(10,6))\n",
    "x = np.array(list(result_dict.keys()))\n",
    "plt.plot(x, df_dict_result.g_train)\n",
    "plt.plot(x, df_dict_result.g_test)\n",
    "\n",
    "plt.ylabel('Gini', fontsize=14)\n",
    "plt.xlabel('Parameter', fontsize = 14)\n",
    "plt.legend(df_dict_result.columns[1:3])\n",
    "#plt.title(f'Gini, {n} samples.\\n\\\n",
    "#Method: {bin_method}', fontsize = 15, loc='center')\n",
    "plt.show()"
   ]
  },
  {
   "cell_type": "code",
   "execution_count": null,
   "id": "b7f2b498",
   "metadata": {},
   "outputs": [],
   "source": []
  },
  {
   "cell_type": "code",
   "execution_count": null,
   "id": "ea0ce660",
   "metadata": {},
   "outputs": [],
   "source": [
    "plot_results(df_result, 'Gini_train', bin_method)"
   ]
  },
  {
   "cell_type": "code",
   "execution_count": null,
   "id": "fdae5344",
   "metadata": {},
   "outputs": [],
   "source": [
    "plot_results(df_result, 'Gini_train', bin_method)"
   ]
  },
  {
   "cell_type": "code",
   "execution_count": null,
   "id": "fceae06b",
   "metadata": {},
   "outputs": [],
   "source": [
    "plot_results(df_result, 'Gini_train', bin_method)"
   ]
  },
  {
   "cell_type": "code",
   "execution_count": null,
   "id": "6057f753",
   "metadata": {},
   "outputs": [],
   "source": []
  },
  {
   "cell_type": "code",
   "execution_count": null,
   "id": "07c4eb4b",
   "metadata": {
    "code_folding": [
     0
    ]
   },
   "outputs": [],
   "source": [
    "# stable as of 2021 11 05 mrning\n",
    "\n",
    "# # pipeline\n",
    "# #bin_method=OptimalBinning()\n",
    "# ## find it inside ##bin_method = MDLP(min_samples_split=2, min_samples_leaf=10000, max_candidates=32)\n",
    "# #bin_method=KBinsDiscretizer(n_bins=2)\n",
    "\n",
    "# df_result = pd.DataFrame(columns=['Gini_train', 'Gini_test', 'Run_time', 'N_bins', 'Bin_method'])\n",
    "# for i in range(2):\n",
    "#     ## must be inside the loop\n",
    "#     bin_method = MDLP(min_samples_split=2, min_samples_leaf=15000, max_candidates=32)\n",
    "#     ## to avoid the library driven error\n",
    "    \n",
    "#     df_train, df_test = train_test_split(df, test_size=0.30)#, stratify=df[target])\n",
    "#     df_train = df_train.reset_index()\n",
    "#     df_test = df_test.reset_index()\n",
    "\n",
    "#     tp0 = time.time()\n",
    "#     ed = get_edges_dict(df_train, variables, target, verbose=False, bin_method=bin_method)\n",
    "#     df_woe = var_list_woe(df_train, df_train, variables, target, ed, verbose=False)\n",
    "#     g_train = round(lr_model_fit_test(df_woe, verbose=False), 5)\n",
    "    \n",
    "#     df_woe = var_list_woe(df_test, df_train, variables, target, ed, verbose=False)\n",
    "#     g_test = round(lr_model_fit_test(df_woe, verbose=False), 5)\n",
    "#     print(f'Train gini {g_train}; Test gini {g_test}')\n",
    "#     t = round((time.time() - tp0), 2)\n",
    "#     print(f'Run time for round {i+1} is {t} sec')\n",
    "#     df_result.loc[i, 'Bin_method'] = bin_method  \n",
    "#     df_result.loc[i, 'Gini_train'] = g_train\n",
    "#     df_result.loc[i, 'Gini_test'] = g_test\n",
    "#     df_result.loc[i, 'Run_time'] = t  \n",
    "#     df_result.loc[i, 'N_bins'] = [len(ed[x]) for x in ed.keys()]\n",
    "#     print('')\n",
    "# df_result.loc['MEAN']= df_result[['Gini_train', 'Gini_test', 'Run_time']].mean()\n",
    "# df_result.loc['STD']= df_result[['Gini_train', 'Gini_test', 'Run_time']].std()\n",
    "\n",
    "# df_result"
   ]
  },
  {
   "cell_type": "code",
   "execution_count": null,
   "id": "d150dc43",
   "metadata": {},
   "outputs": [],
   "source": [
    "plot_results(df_result, 'Gini_train', est)"
   ]
  },
  {
   "cell_type": "markdown",
   "id": "5d8218cf",
   "metadata": {},
   "source": [
    "# Experiment - Cont vs. Bin"
   ]
  },
  {
   "cell_type": "code",
   "execution_count": null,
   "id": "cc1d4e8b",
   "metadata": {},
   "outputs": [],
   "source": [
    "df = prepare_df(d0)"
   ]
  },
  {
   "cell_type": "markdown",
   "id": "c1408556",
   "metadata": {},
   "source": [
    "## no binning (Scikit + GridSearchCV)\n",
    "- Run time for parameter 1 is 158.91 sec.\n",
    "- try it with njob =[1,2,4, 8, 16, -1]\n"
   ]
  },
  {
   "cell_type": "code",
   "execution_count": null,
   "id": "96e0c4b3",
   "metadata": {
    "code_folding": [
     16
    ]
   },
   "outputs": [],
   "source": [
    "y = df[target]\n",
    "X = df[variables]\n",
    "\n",
    "parameter_space = ['1']\n",
    "\n",
    "grid={\"C\":np.logspace(-2, 3, 7), \"penalty\":[\"l1\",\"l2\"]}# l1 lasso l2 ridge\n",
    "logreg=LogisticRegression()\n",
    "logreg_cv = GridSearchCV(logreg, grid, cv=5)\n",
    "\n",
    "#m = LogisticRegression(max_iter=100)\n",
    "n_bins = np.nan\n",
    "bin_method = np.nan\n",
    "n_iter = 50\n",
    "verbose = False\n",
    "\n",
    "result_dict = {} # contains all the df_result tables\n",
    "for n_param, parameter in enumerate(parameter_space): \n",
    "    tpar0 = time.time()\n",
    "\n",
    "    df_result = pd.DataFrame(columns=['Gini_train', 'Gini_test', 'Run_time', \n",
    "                                      'N_bins', 'Bin_method', 'N_iter'])\n",
    "    for i in range(n_iter):\n",
    "        tp0 = time.time()\n",
    "        X_train, X_test, y_train, y_test = train_test_split(X, y, test_size=0.30)#, stratify=df[target])\n",
    "    \n",
    "        logreg_cv.fit(X_train,y_train)\n",
    "        m = logreg_cv.best_estimator_\n",
    "        y_prob = m.predict_proba(X_train)[:,1]\n",
    "        fpr, tpr, _ = roc_curve(y_train, y_prob) \n",
    "        g_train = (2 * auc(fpr, tpr) - 1)\n",
    "        # now test the model on test_set   \n",
    "        y_prob = m.predict_proba(X_test)[:,1]\n",
    "        fpr, tpr, _ = roc_curve(y_test, y_prob) \n",
    "        g_test = (2 * auc(fpr, tpr) - 1) \n",
    "        \n",
    "        t = round((time.time() - tp0), 2)\n",
    "        if verbose: \n",
    "            print(f'Train gini {g_train}; Test gini {g_test}')\n",
    "            print(f'Run time for round {i+1} is {t} sec.')\n",
    "        df_result.loc[i, 'Bin_method'] = bin_method  \n",
    "        df_result.loc[i, 'Gini_train'] = g_train\n",
    "        df_result.loc[i, 'Gini_test'] = g_test\n",
    "        df_result.loc[i, 'Run_time'] = t  \n",
    "        df_result.loc[i, 'N_bins'] = [len(ed[x])+1 for x in ed.keys()]\n",
    "        df_result.loc[i, 'N_iter'] = n_iter  \n",
    "         \n",
    "    df_result.loc['MEAN']= round(df_result[['Gini_train', 'Gini_test', 'Run_time']].mean(), 4)\n",
    "    df_result.loc['STD']= round(df_result[['Gini_train', 'Gini_test', 'Run_time']].std(), 4)\n",
    "    t = round((time.time() - tpar0), 2)\n",
    "    print(f'Run time for parameter {parameter} is {t} sec.')\n",
    "    result_dict[parameter] = df_result\n",
    "    "
   ]
  },
  {
   "cell_type": "code",
   "execution_count": null,
   "id": "dfbe40ad",
   "metadata": {
    "scrolled": true
   },
   "outputs": [],
   "source": [
    "result_dict['1']"
   ]
  },
  {
   "cell_type": "code",
   "execution_count": null,
   "id": "d6c8c00e",
   "metadata": {},
   "outputs": [],
   "source": [
    "bin_method = 'without binning; GridSearchCV (C and penalties).'"
   ]
  },
  {
   "cell_type": "code",
   "execution_count": null,
   "id": "b4256c25",
   "metadata": {},
   "outputs": [],
   "source": [
    "plot_results(df_result, 'Gini_train', bin_method)"
   ]
  },
  {
   "cell_type": "code",
   "execution_count": null,
   "id": "a215eaa8",
   "metadata": {},
   "outputs": [],
   "source": [
    "plot_results(df_result, 'Gini_test', bin_method)"
   ]
  },
  {
   "cell_type": "markdown",
   "id": "56fef377",
   "metadata": {},
   "source": [
    "## no binning (Scikit, no GridSearchCV)\n"
   ]
  },
  {
   "cell_type": "code",
   "execution_count": null,
   "id": "4ef40a38",
   "metadata": {
    "code_folding": [],
    "scrolled": true
   },
   "outputs": [],
   "source": [
    "y = df[target]\n",
    "X = df[variables]\n",
    "\n",
    "parameter_space = ['1']\n",
    "\n",
    "logreg_cv=LogisticRegression()\n",
    "\n",
    "n_bins = np.nan\n",
    "bin_method = np.nan\n",
    "n_iter = 50\n",
    "verbose = False\n",
    "\n",
    "result_dict = {} # contains all the df_result tables\n",
    "for n_param, parameter in enumerate(parameter_space): \n",
    "    tpar0 = time.time()\n",
    "\n",
    "    df_result = pd.DataFrame(columns=['Gini_train', 'Gini_test', 'Run_time', \n",
    "                                      'N_bins', 'Bin_method', 'N_iter'])\n",
    "    for i in range(n_iter):\n",
    "        tp0 = time.time()\n",
    "        X_train, X_test, y_train, y_test = train_test_split(X, y, test_size=0.30)#, stratify=df[target])\n",
    "    \n",
    "        logreg_cv.fit(X_train,y_train)\n",
    "        m = logreg_cv\n",
    "        y_prob = m.predict_proba(X_train)[:,1]\n",
    "        fpr, tpr, _ = roc_curve(y_train, y_prob) \n",
    "        g_train = (2 * auc(fpr, tpr) - 1)\n",
    "        # now test the model on test_set   \n",
    "        y_prob = m.predict_proba(X_test)[:,1]\n",
    "        fpr, tpr, _ = roc_curve(y_test, y_prob) \n",
    "        g_test = (2 * auc(fpr, tpr) - 1) \n",
    "        \n",
    "        t = round((time.time() - tp0), 2)\n",
    "        if verbose: \n",
    "            print(f'Train gini {g_train}; Test gini {g_test}')\n",
    "            print(f'Run time for round {i+1} is {t} sec.')\n",
    "        df_result.loc[i, 'Bin_method'] = bin_method  \n",
    "        df_result.loc[i, 'Gini_train'] = g_train\n",
    "        df_result.loc[i, 'Gini_test'] = g_test\n",
    "        df_result.loc[i, 'Run_time'] = t  \n",
    "        df_result.loc[i, 'N_bins'] = [len(ed[x])+1 for x in ed.keys()]\n",
    "        df_result.loc[i, 'N_iter'] = n_iter  \n",
    "         \n",
    "    df_result.loc['MEAN']= round(df_result[['Gini_train', 'Gini_test', 'Run_time']].mean(), 4)\n",
    "    df_result.loc['STD']= round(df_result[['Gini_train', 'Gini_test', 'Run_time']].std(), 4)\n",
    "    t = round((time.time() - tpar0), 2)\n",
    "    print(f'Run time for parameter {parameter} is {t} sec.')\n",
    "    result_dict[parameter] = df_result\n",
    "    "
   ]
  },
  {
   "cell_type": "code",
   "execution_count": null,
   "id": "65d0f215",
   "metadata": {},
   "outputs": [],
   "source": [
    "bin_method = 'without binning; without GridSearchCV.'"
   ]
  },
  {
   "cell_type": "code",
   "execution_count": null,
   "id": "acbbe28a",
   "metadata": {},
   "outputs": [],
   "source": [
    "plot_results(df_result, 'Gini_train', bin_method)"
   ]
  },
  {
   "cell_type": "code",
   "execution_count": null,
   "id": "2a02bd42",
   "metadata": {},
   "outputs": [],
   "source": [
    "plot_results(df_result, 'Gini_test', bin_method)"
   ]
  },
  {
   "cell_type": "markdown",
   "id": "d28c542a",
   "metadata": {},
   "source": [
    "## simple binning (KBinsDisc), no WOE)\n",
    "- build basic model (as the baseline) +\n",
    "- build one-hot encoded with all the Scikit-learn methods +\n",
    "- CART\n",
    "- run model check cycles +"
   ]
  },
  {
   "cell_type": "code",
   "execution_count": null,
   "id": "dc5e8b7c",
   "metadata": {},
   "outputs": [],
   "source": [
    "df = prepare_df(d0)"
   ]
  },
  {
   "cell_type": "code",
   "execution_count": null,
   "id": "677d102f",
   "metadata": {},
   "outputs": [],
   "source": [
    "m = LogisticRegression()\n",
    "n_bins = 5\n",
    "n_iter = 50\n",
    "verbose = False\n",
    "\n",
    "y = df[target]\n",
    "X = df[variables]\n",
    "\n",
    "est = KBinsDiscretizer()\n",
    "est.fit(X)"
   ]
  },
  {
   "cell_type": "code",
   "execution_count": null,
   "id": "c416fe10",
   "metadata": {
    "code_folding": [],
    "scrolled": true
   },
   "outputs": [],
   "source": [
    "t0 = time.time()\n",
    "df_result = pd.DataFrame(columns=['Gini_train', 'Gini_test', 'Run_time', 'N_bins', 'Bin_method'])\n",
    "for i in range(n_iter):\n",
    "    tp0 = time.time()\n",
    "    X_train, X_test, y_train, y_test = train_test_split(X, y, test_size=0.30)#, stratify=df[target])\n",
    "    \n",
    "    Xt_train = est.transform(X_train)\n",
    "    m.fit(Xt_train, y_train)\n",
    "    y_prob = m.predict_proba(Xt_train)[:,1]\n",
    "    fpr, tpr, _ = roc_curve(y_train, y_prob) \n",
    "    g_train = (2 * auc(fpr, tpr) - 1)\n",
    "\n",
    "    Xt_test = est.transform(X_test)\n",
    "    m.fit(Xt_test, y_test)\n",
    "    y_prob = m.predict_proba(Xt_test)[:,1]\n",
    "    fpr, tpr, _ = roc_curve(y_test, y_prob) \n",
    "    g_test = (2 * auc(fpr, tpr) - 1)    \n",
    "    t = round((time.time() - tp0), 2)\n",
    "    if verbose:\n",
    "        print(f'Train gini {g_train}; Test gini {g_test}')\n",
    "        print(f'Run time for round {i+1} is {t} sec')\n",
    "        print('')\n",
    "    df_result.loc[i, 'Bin_method'] = est\n",
    "    df_result.loc[i, 'Gini_train'] = g_train\n",
    "    df_result.loc[i, 'Gini_test'] = g_test\n",
    "    df_result.loc[i, 'Run_time'] = t  \n",
    "    df_result.loc[i, 'N_bins'] = n_bins\n",
    "    \n",
    "df_result.loc['MEAN']= df_result[['Gini_train', 'Gini_test', 'Run_time']].mean()\n",
    "df_result.loc['STD']= df_result[['Gini_train', 'Gini_test', 'Run_time']].std()\n",
    "t = time.time()-t0\n",
    "print(f'Run time is {t} sec')\n",
    "\n",
    "df_result"
   ]
  },
  {
   "cell_type": "code",
   "execution_count": null,
   "id": "b7e1d241",
   "metadata": {},
   "outputs": [],
   "source": [
    "plot_results(df_result, 'Gini_train', est)"
   ]
  },
  {
   "cell_type": "code",
   "execution_count": null,
   "id": "a292f679",
   "metadata": {},
   "outputs": [],
   "source": [
    "plot_results(df_result, 'Gini_test', est)"
   ]
  },
  {
   "cell_type": "code",
   "execution_count": null,
   "id": "b87fc3ff",
   "metadata": {},
   "outputs": [],
   "source": []
  },
  {
   "cell_type": "markdown",
   "id": "06a4bddf",
   "metadata": {},
   "source": [
    "# Experiment simple bin vs. WOE-transformed "
   ]
  },
  {
   "cell_type": "code",
   "execution_count": null,
   "id": "9e0a8f00",
   "metadata": {},
   "outputs": [],
   "source": [
    "df = prepare_df(d0)"
   ]
  },
  {
   "cell_type": "markdown",
   "id": "4216d4bc",
   "metadata": {},
   "source": [
    "## simple binning (n_bins = 10, no WoE transf) "
   ]
  },
  {
   "cell_type": "code",
   "execution_count": null,
   "id": "69fb0c9a",
   "metadata": {},
   "outputs": [],
   "source": [
    "m = LogisticRegression()\n",
    "n_bins = 10\n",
    "n_iter = 50\n",
    "verbose = False\n",
    "est = KBinsDiscretizer(n_bins=n_bins)\n",
    "\n",
    "y = df[target]\n",
    "X = df[variables]\n",
    "\n",
    "est.fit(X)"
   ]
  },
  {
   "cell_type": "code",
   "execution_count": null,
   "id": "c994f7e8",
   "metadata": {
    "scrolled": true
   },
   "outputs": [],
   "source": [
    "t0 = time.time()\n",
    "df_result = pd.DataFrame(columns=['Gini_train', 'Gini_test', 'Run_time', 'N_bins', 'Bin_method'])\n",
    "for i in range(n_iter):\n",
    "    tp0 = time.time()\n",
    "    X_train, X_test, y_train, y_test = train_test_split(X, y, test_size=0.30)#, stratify=df[target])\n",
    "    \n",
    "    Xt_train = est.transform(X_train)\n",
    "    m.fit(Xt_train, y_train)\n",
    "    y_prob = m.predict_proba(Xt_train)[:,1]\n",
    "    fpr, tpr, _ = roc_curve(y_train, y_prob) \n",
    "    g_train = (2 * auc(fpr, tpr) - 1)\n",
    "\n",
    "    Xt_test = est.transform(X_test)\n",
    "    m.fit(Xt_test, y_test)\n",
    "    y_prob = m.predict_proba(Xt_test)[:,1]\n",
    "    fpr, tpr, _ = roc_curve(y_test, y_prob) \n",
    "    g_test = (2 * auc(fpr, tpr) - 1)    \n",
    "    t = round((time.time() - tp0), 2)\n",
    "    if verbose:\n",
    "        print(f'Train gini {g_train}; Test gini {g_test}')\n",
    "        print(f'Run time for round {i+1} is {t} sec')\n",
    "        print('')\n",
    "    df_result.loc[i, 'Bin_method'] = est\n",
    "    df_result.loc[i, 'Gini_train'] = g_train\n",
    "    df_result.loc[i, 'Gini_test'] = g_test\n",
    "    df_result.loc[i, 'Run_time'] = t  \n",
    "    df_result.loc[i, 'N_bins'] = n_bins\n",
    "    \n",
    "df_result.loc['MEAN']= df_result[['Gini_train', 'Gini_test', 'Run_time']].mean()\n",
    "df_result.loc['STD']= df_result[['Gini_train', 'Gini_test', 'Run_time']].std()\n",
    "t = time.time()-t0\n",
    "print(f'Run time is {t} sec')"
   ]
  },
  {
   "cell_type": "code",
   "execution_count": null,
   "id": "a045c899",
   "metadata": {},
   "outputs": [],
   "source": [
    "plot_results(df_result, 'Gini_train', est)"
   ]
  },
  {
   "cell_type": "code",
   "execution_count": null,
   "id": "fa741adb",
   "metadata": {},
   "outputs": [],
   "source": [
    "plot_results(df_result, 'Gini_test', est)"
   ]
  },
  {
   "cell_type": "markdown",
   "id": "2cc95cd2",
   "metadata": {},
   "source": [
    "## woe transformed binning (n_bins = 10) "
   ]
  },
  {
   "cell_type": "code",
   "execution_count": null,
   "id": "0b8a9d31",
   "metadata": {
    "code_folding": []
   },
   "outputs": [],
   "source": [
    "parameter_space = ['1']\n",
    "result_dict = {} # contains all the df_result tables\n",
    "for n_param, parameter in enumerate(parameter_space): \n",
    "    tpar0=time.time()\n",
    "    #bin_method=OptimalBinning(prebinning_method=parameter)\n",
    "    #bin_method = MDLP(min_samples_split=2, min_samples_leaf=10000, max_candidates=32)\n",
    "    n_bins = 10\n",
    "    bin_method=KBinsDiscretizer(n_bins=n_bins)\n",
    "    n_iter = 50\n",
    "    verbose = False\n",
    "    model = LogisticRegression()\n",
    "    ed = get_edges_dict(df, variables, target, verbose=False, bin_method=bin_method)\n",
    "    df_woe = var_list_woe(df, df, variables, target, ed, verbose=False)\n",
    "    df_result = pd.DataFrame(columns=['Gini_train', 'Gini_test', 'Run_time', \n",
    "                                      'N_bins', 'Bin_method', 'N_iter'])\n",
    "    for i in range(n_iter):\n",
    "        dfw_train, dfw_test = train_test_split(df_woe, test_size=0.30)#, stratify=df[target])\n",
    "        #fit the model on train set\n",
    "        X = dfw_train.iloc[:, 1:].to_numpy()\n",
    "        y = dfw_train.iloc[:, 0].values\n",
    "        model.fit(X, y)\n",
    "        g_train = round(check_model(model, X, y), 4)\n",
    "        # now test the model on test_set\n",
    "        X = dfw_test.iloc[:, 1:].to_numpy()\n",
    "        y = dfw_test.iloc[:, 0].values\n",
    "        g_test = round(check_model(model, X, y), 4)\n",
    "        df_result.loc[i, 'Bin_method'] = bin_method  \n",
    "        df_result.loc[i, 'Gini_train'] = g_train\n",
    "        df_result.loc[i, 'Gini_test'] = g_test\n",
    "        df_result.loc[i, 'Run_time'] = t  \n",
    "        df_result.loc[i, 'N_bins'] = [len(ed[x])+1 for x in ed.keys()]\n",
    "        df_result.loc[i, 'N_iter'] = n_iter          \n",
    "    df_result.loc['MEAN']= round(df_result[['Gini_train', 'Gini_test', 'Run_time']].mean(), 4)\n",
    "    df_result.loc['STD']= round(df_result[['Gini_train', 'Gini_test', 'Run_time']].std(), 4)\n",
    "    t = round((time.time() - tpar0), 2)\n",
    "    print(f'Run time for parameter {parameter} is {t} sec.')\n",
    "    result_dict[parameter] = df_result"
   ]
  },
  {
   "cell_type": "code",
   "execution_count": null,
   "id": "c0dc0ac9",
   "metadata": {},
   "outputs": [],
   "source": [
    "plot_results(df_result, 'Gini_train', bin_method)"
   ]
  },
  {
   "cell_type": "code",
   "execution_count": null,
   "id": "2cc6a983",
   "metadata": {},
   "outputs": [],
   "source": []
  },
  {
   "cell_type": "code",
   "execution_count": null,
   "id": "3fc6aa77",
   "metadata": {},
   "outputs": [],
   "source": [
    "plot_results(df_result, 'Gini_test', bin_method)"
   ]
  },
  {
   "cell_type": "code",
   "execution_count": null,
   "id": "b00851d9",
   "metadata": {},
   "outputs": [],
   "source": []
  },
  {
   "cell_type": "markdown",
   "id": "bd35f829",
   "metadata": {},
   "source": [
    "# Unsupervized methods exploration\n",
    "- n-bins\n",
    "- method\n",
    "- !!! recalculate it as there was a bag in plot_cycle_results"
   ]
  },
  {
   "cell_type": "code",
   "execution_count": null,
   "id": "ca7d3386",
   "metadata": {},
   "outputs": [],
   "source": [
    "df = prepare_df(d0)"
   ]
  },
  {
   "cell_type": "code",
   "execution_count": null,
   "id": "0d60f655",
   "metadata": {},
   "outputs": [],
   "source": [
    "parameter_space_1 = [2, 3, 4, 6, 8, 10, 12, 15, 20, 30, 40, 50]\n",
    "parameter_space_2 = ['uniform', 'quantile', 'kmeans']# 2, 3, 5 ,7, 10, 12, 15]\n",
    "result_dict_1 = {}\n",
    "for n_param_1, parameter_1 in enumerate(parameter_space_1): \n",
    "    result_dict_2 = {} # contains all the df_result tables\n",
    "    for n_param_2, parameter_2 in enumerate(parameter_space_2): \n",
    "        tpar0=time.time()\n",
    "        #bin_method=OptimalBinning(prebinning_method=parameter)\n",
    "        #bin_method = MDLP(min_samples_split=2, min_samples_leaf=10000, max_candidates=32)\n",
    "        n_bins = parameter_1\n",
    "        bin_method=KBinsDiscretizer(n_bins=n_bins, strategy=parameter_2)\n",
    "        n_iter = 50\n",
    "        verbose = False\n",
    "        model = LogisticRegression()\n",
    "        ed = get_edges_dict(df, variables, target, verbose=False, bin_method=bin_method)\n",
    "        df_woe = var_list_woe(df, df, variables, target, ed, verbose=False)\n",
    "        df_result = pd.DataFrame(columns=['Gini_train', 'Gini_test', 'Run_time', \n",
    "                                          'N_bins', 'Bin_method', 'N_iter'])\n",
    "        for i in range(n_iter):\n",
    "            dfw_train, dfw_test = train_test_split(df_woe, test_size=0.30)#, stratify=df[target])\n",
    "            #fit the model on train set\n",
    "            X = dfw_train.iloc[:, 1:].to_numpy()\n",
    "            y = dfw_train.iloc[:, 0].values\n",
    "            model.fit(X, y)\n",
    "            g_train = round(check_model(model, X, y), 4)\n",
    "            # now test the model on test_set\n",
    "            X = dfw_test.iloc[:, 1:].to_numpy()\n",
    "            y = dfw_test.iloc[:, 0].values\n",
    "            g_test = round(check_model(model, X, y), 4)\n",
    "            df_result.loc[i, 'Bin_method'] = bin_method  \n",
    "            df_result.loc[i, 'Gini_train'] = g_train\n",
    "            df_result.loc[i, 'Gini_test'] = g_test\n",
    "            df_result.loc[i, 'Run_time'] = t  \n",
    "            df_result.loc[i, 'N_bins'] = [len(ed[x])+1 for x in ed.keys()]\n",
    "            df_result.loc[i, 'N_iter'] = n_iter          \n",
    "        df_result.loc['MEAN']= round(df_result[['Gini_train', 'Gini_test', 'Run_time']].mean(), 4)\n",
    "        df_result.loc['STD']= round(df_result[['Gini_train', 'Gini_test', 'Run_time']].std(), 4)\n",
    "        t = round((time.time() - tpar0), 2)\n",
    "        print(f'Run time for parameters {parameter_1} {parameter_2} is {t} sec.')\n",
    "        result_dict_2[parameter_2] = df_result\n",
    "    result_dict_1[parameter_1] = result_dict_2"
   ]
  },
  {
   "cell_type": "code",
   "execution_count": null,
   "id": "f87245ff",
   "metadata": {},
   "outputs": [],
   "source": [
    "#save_obj(result_dict_1, \"result_dict_unsuperv\")\n",
    "tmp = load_obj('result_dict_unsuperv')\n",
    "parameter_space_1 = [2, 3, 4, 6, 8, 10, 12, 15, 20, 30, 40, 50]\n",
    "parameter_space_2 = ['uniform', 'quantile', 'kmeans']# 2, 3, 5 ,7, 10, 12, 15]"
   ]
  },
  {
   "cell_type": "code",
   "execution_count": null,
   "id": "3f703413",
   "metadata": {},
   "outputs": [],
   "source": [
    "# plots the bins\n",
    "col_to_binplot = parameter_space_2\n",
    "second_param_name = 'N_bins'\n",
    "second_param_val = 50\n",
    "\n",
    "df_report_train = pd.DataFrame(columns=col_to_binplot) # parameter to plot cycle result\n",
    "df_report_test = pd.DataFrame(columns=col_to_binplot) # parameter to plot cycle result\n",
    "\n",
    "for parameter_1 in parameter_space_1:\n",
    "    for parameter_2 in col_to_binplot:\n",
    "        df_report_train.loc[parameter_1, parameter_2] = tmp[parameter_1][parameter_2].loc['MEAN', 'Gini_train']\n",
    "        df_report_test.loc[parameter_1, parameter_2] = tmp[parameter_1][parameter_2].loc['MEAN', 'Gini_test']\n",
    "       \n",
    "df_report_train.index.rename(second_param_name, inplace = True) \n",
    "df_report_test.index.rename(second_param_name, inplace = True) \n",
    "\n",
    "display(df_report_train)\n",
    "d = pd.DataFrame({'g_train': df_report_train.loc[second_param_val, :], \n",
    "                    \"g_test\": df_report_test.loc[second_param_val, :]})\n",
    "plot_cycle_results(d, f'KBinsDiscretizer(n_bins={second_param_val})', 50)\n"
   ]
  },
  {
   "cell_type": "code",
   "execution_count": null,
   "id": "c3b5af84",
   "metadata": {},
   "outputs": [],
   "source": [
    "plt.figure(figsize = (12,12))\n",
    "df_report_train.plot()\n",
    "#plt.plot(df_report.index, df_report.uniform)\n",
    "plt.title('Gini train vs. number of bins')\n",
    "plt.ylabel('Gini train')\n",
    "plt.show()\n"
   ]
  },
  {
   "cell_type": "code",
   "execution_count": null,
   "id": "c28c8273",
   "metadata": {},
   "outputs": [],
   "source": [
    "df_report_time = pd.DataFrame(columns=parameter_space_1)\n",
    "for parameter_1 in parameter_space_1:\n",
    "    for parameter_2 in parameter_space_2:\n",
    "        df_report_time.loc[parameter_2, parameter_1] = tmp[parameter_1][parameter_2].loc['MEAN', 'Run_time']\n",
    "df_report_time.index.rename('N_bins', inplace = True)    \n",
    "df_report_time   "
   ]
  },
  {
   "cell_type": "code",
   "execution_count": null,
   "id": "269d77ff",
   "metadata": {},
   "outputs": [],
   "source": [
    "df_report_test = pd.DataFrame(columns=parameter_space_1)\n",
    "for parameter_1 in parameter_space_1:\n",
    "    for parameter_2 in parameter_space_2:\n",
    "        df_report_test.loc[parameter_2, parameter_1] = tmp[parameter_1][parameter_2].loc['MEAN', 'Gini_test']\n",
    "df_report_test.index.rename('N_bins', inplace = True)    \n",
    "df_report_test"
   ]
  },
  {
   "cell_type": "code",
   "execution_count": null,
   "id": "3bc25d56",
   "metadata": {},
   "outputs": [],
   "source": [
    "df_report_test_error = pd.DataFrame(columns=parameter_space_1)\n",
    "for parameter_1 in parameter_space_1:\n",
    "    for parameter_2 in parameter_space_2:\n",
    "        g_test = tmp[parameter_1][parameter_2].loc['MEAN', 'Gini_test']\n",
    "        g_test_std = tmpp[parameter_1][parameter_2].loc['STD', 'Gini_test']\n",
    "        df_report_test_error.loc[parameter_2, parameter_1] = round(g_test_std/ g_test, 3)\n",
    "df_report_test_error.index.rename('N_bins', inplace = True)    \n",
    "df_report_test_error"
   ]
  },
  {
   "cell_type": "markdown",
   "id": "6dc60eab",
   "metadata": {},
   "source": [
    "# OptBinning exploration NEW\n"
   ]
  },
  {
   "cell_type": "markdown",
   "id": "5c668a25",
   "metadata": {},
   "source": [
    "## Exp_1 p_val"
   ]
  },
  {
   "cell_type": "code",
   "execution_count": null,
   "id": "b79e2498",
   "metadata": {},
   "outputs": [],
   "source": [
    "df = prepare_df(d0, remove_outl=True, remove_na=True)"
   ]
  },
  {
   "cell_type": "code",
   "execution_count": null,
   "id": "ea0fd31e",
   "metadata": {
    "code_folding": []
   },
   "outputs": [],
   "source": [
    "max_iter = 100\n",
    "max_n_prebins = 2048\n",
    "n_iter = 11\n",
    "inf_repl = 100\n",
    "parameter_space_1 = [0.5, 0.1, 0.05, 0.01, 0.001, 0.0001, 0.00001] # p_val\n",
    "parameter_space_2 = ['iv', 'js', 'hellinger',] # divergence\n",
    "result_dict_1 = {}\n",
    "for n_param_1, parameter_1 in enumerate(parameter_space_1): \n",
    "    result_dict_2 = {} # contains all the df_result tables\n",
    "    for n_param_2, parameter_2 in enumerate(parameter_space_2): \n",
    "        tpar0=time.time()\n",
    "        bin_method=OptimalBinning(divergence=parameter_2, max_pvalue = parameter_1,\n",
    "                                 max_n_prebins=max_n_prebins)\n",
    "        n_iter = n_iter\n",
    "        verbose = False\n",
    "        model = LogisticRegression(max_iter=max_iter)     \n",
    "        df_result = pd.DataFrame(columns=['Gini_train', 'Gini_test', \n",
    "                                          'N_bins', 'Bin_method', 'N_iter'])\n",
    "        for i in range(n_iter):\n",
    "            df_train, df_test = train_test_split(df, test_size=0.30)#, stratify=df[target])\n",
    "            df_train = df_train.reset_index()\n",
    "            df_test = df_test.reset_index()\n",
    "            tmp = get_edges_dict(df_train, variables, target, \n",
    "                                 verbose=False, bin_method=bin_method)\n",
    "            ed = tmp[0]\n",
    "            bt = tmp[1]\n",
    "            df_woe_train = var_list_woe(df_train, df_train, variables, target, ed, verbose=False)\n",
    "            df_woe_test = var_list_woe(df_test, df_train, variables, target, ed, verbose=False)       \n",
    "            df_woe_train.replace(np.inf, inf_repl, inplace=True)\n",
    "            df_woe_test.replace(np.inf, inf_repl, inplace=True)\n",
    "            #fit the model on train set\n",
    "            X = df_woe_train.iloc[:, 1:].to_numpy()\n",
    "            y = df_woe_train.iloc[:, 0].values\n",
    "            model.fit(X, y)\n",
    "            g_train = round(check_model(model, X, y), 4)\n",
    "            # now test the model on test_set\n",
    "            X = df_woe_test.iloc[:, 1:].to_numpy()\n",
    "            y = df_woe_test.iloc[:, 0].values\n",
    "            g_test = round(check_model(model, X, y), 4)\n",
    "            df_result.loc[i, 'Bin_method'] = bin_method  \n",
    "            df_result.loc[i, 'Gini_train'] = g_train\n",
    "            df_result.loc[i, 'Gini_test'] = g_test\n",
    "            df_result.loc[i, 'N_bins'] = [len(ed[x])+1 for x in ed.keys()]\n",
    "            df_result.loc[i, 'N_iter'] = n_iter          \n",
    "        df_result.loc['MEAN']= round(df_result[['Gini_train', 'Gini_test']].mean(), 4)\n",
    "        df_result.loc['STD']= round(df_result[['Gini_train', 'Gini_test']].std(), 4)\n",
    "        t = round((time.time() - tpar0), 2)\n",
    "        print(f'Run time for parameters {parameter_1} {parameter_2} is {t} sec.')\n",
    "        result_dict_2[parameter_2] = (df_result, bt, t)\n",
    "    result_dict_1[parameter_1] = result_dict_2\n"
   ]
  },
  {
   "cell_type": "code",
   "execution_count": null,
   "id": "18b3f676",
   "metadata": {},
   "outputs": [],
   "source": [
    "fn = \"OptBin_results_exp_1\" \n",
    "#save_obj(result_dict_1, fn)\n",
    "tmp = load_obj(fn)\n",
    "parameter_space_1 = [0.5, 0.1, 0.05, 0.01, 0.001, 0.0001, 0.00001]\n",
    "parameter_space_2 = ['iv', 'js', 'hellinger',]"
   ]
  },
  {
   "cell_type": "code",
   "execution_count": null,
   "id": "81affbce",
   "metadata": {},
   "outputs": [],
   "source": [
    "second_param_name = 'p-val'\n",
    "df_report_train = pd.DataFrame(columns=parameter_space_2) # parameter to plot cycle result\n",
    "df_report_test = pd.DataFrame(columns=parameter_space_2) # parameter to plot cycle result\n",
    "df_report_bins = pd.DataFrame(columns=parameter_space_2) # parameter to plot cycle result\n",
    "for parameter_1 in parameter_space_1:\n",
    "    for parameter_2 in parameter_space_2:\n",
    "        df_report_train.loc[parameter_1, parameter_2] = tmp[parameter_1][parameter_2][0].loc['MEAN', 'Gini_train']\n",
    "        df_report_test.loc[parameter_1, parameter_2] = tmp[parameter_1][parameter_2][0].loc['MEAN', 'Gini_test']\n",
    "        df_report_bins.loc[parameter_1, parameter_2] = tmp[parameter_1][parameter_2][0].loc[1, 'N_bins']\n",
    "df_report_train.index.rename(second_param_name, inplace = True) \n",
    "df_report_test.index.rename(second_param_name, inplace = True) \n",
    "df_report_bins.index.rename(second_param_name, inplace = True) \n",
    "\n",
    "display(df_report_train)\n",
    "display(df_report_test)\n",
    "display(df_report_bins)"
   ]
  },
  {
   "cell_type": "code",
   "execution_count": null,
   "id": "11451e7b",
   "metadata": {},
   "outputs": [],
   "source": [
    "df_tmp.min().min()"
   ]
  },
  {
   "cell_type": "code",
   "execution_count": null,
   "id": "dc7d3323",
   "metadata": {},
   "outputs": [],
   "source": [
    "df_tmp = df_report_train\n",
    "plt.figure(figsize=(3,5))\n",
    "sns.set(style= \"whitegrid\")\n",
    "x = np.log(df_tmp.index.values)\n",
    "y = df_tmp\n",
    "plt.ylim(y.min().min()*0.93, y.max().max()*1.04)\n",
    "plt.xlabel('ln p-val')\n",
    "plt.ylabel('Gini scoring')\n",
    "plt.title('Train sets', fontsize = 14)\n",
    "plt.plot(x, y)\n",
    "plt.legend(df_tmp.columns.values, title='divergence')\n",
    "plt.show()"
   ]
  },
  {
   "cell_type": "code",
   "execution_count": null,
   "id": "002c6150",
   "metadata": {},
   "outputs": [],
   "source": [
    "df_tmp = df_report_test\n",
    "sns.set(style= \"whitegrid\")\n",
    "plt.figure(figsize=(3,5))\n",
    "x = np.log(df_tmp.index.values)\n",
    "y = df_tmp\n",
    "plt.ylim(y.min().min()*0.93, y.max().max()*1.04)\n",
    "plt.xlabel('ln p-val')\n",
    "plt.ylabel('Gini scoring')\n",
    "plt.title('Test sets', fontsize = 14)\n",
    "plt.plot(x, y)\n",
    "plt.legend(df_tmp.columns.values, title='divergence')\n",
    "plt.show()"
   ]
  },
  {
   "cell_type": "code",
   "execution_count": null,
   "id": "d47907a2",
   "metadata": {
    "scrolled": true
   },
   "outputs": [],
   "source": [
    "#tmp[0.001]['iv'][1]['DAYS_EMPLOYED'].plot() does not work with this pickle file/ tmp"
   ]
  },
  {
   "cell_type": "code",
   "execution_count": null,
   "id": "c5ea9515",
   "metadata": {},
   "outputs": [],
   "source": [
    "tmp[0.001]['iv'][1]['DAYS_EMPLOYED'].build()"
   ]
  },
  {
   "cell_type": "code",
   "execution_count": null,
   "id": "0458519e",
   "metadata": {},
   "outputs": [],
   "source": [
    "tmp[0.5]['iv'][1]['DAYS_EMPLOYED'].plot()"
   ]
  },
  {
   "cell_type": "code",
   "execution_count": null,
   "id": "0526e861",
   "metadata": {},
   "outputs": [],
   "source": [
    "tmp[0.5]['iv'][1]['DAYS_EMPLOYED'].build()"
   ]
  },
  {
   "cell_type": "markdown",
   "id": "eedff6a4",
   "metadata": {},
   "source": [
    "## Exp 2 min_bin_n_event"
   ]
  },
  {
   "cell_type": "code",
   "execution_count": null,
   "id": "9e5e4d63",
   "metadata": {
    "code_folding": []
   },
   "outputs": [],
   "source": [
    "max_iter = 100\n",
    "max_n_prebins = 2048\n",
    "n_iter = 11\n",
    "inf_repl = 100\n",
    "n_target = df.TARGET.sum()\n",
    "divergence='iv'\n",
    "parameter_space_1 = [0.5, 0.1, 0.05, 0.01, 0.001, 0.0001, 0.00001] # p_val\n",
    "parameter_space_2 = [0.01, 0.02, 0.1, 1, 5, 10, 25] # min % of targets per bin min_bin_n_event\n",
    "result_dict_1 = {}\n",
    "for n_param_1, parameter_1 in enumerate(parameter_space_1): \n",
    "    result_dict_2 = {} # contains all the df_result tables\n",
    "    for n_param_2, parameter_2 in enumerate(parameter_space_2): \n",
    "        tpar0=time.time()\n",
    "        bin_method=OptimalBinning(divergence=divergence, max_pvalue = parameter_1,\n",
    "                                 max_n_prebins=max_n_prebins, min_bin_n_event=int(parameter_2*n_target/100))\n",
    "    \n",
    "        n_iter = n_iter\n",
    "        verbose = False\n",
    "        model = LogisticRegression(max_iter=max_iter)     \n",
    "        df_result = pd.DataFrame(columns=['Gini_train', 'Gini_test', \n",
    "                                          'N_bins', 'Bin_method', 'N_iter'])\n",
    "        for i in range(n_iter):\n",
    "            df_train, df_test = train_test_split(df, test_size=0.30)#, stratify=df[target])\n",
    "            df_train = df_train.reset_index()\n",
    "            df_test = df_test.reset_index()\n",
    "            tmp = get_edges_dict(df_train, variables, target, \n",
    "                                 verbose=False, bin_method=bin_method)\n",
    "            ed = tmp[0]\n",
    "            bt = tmp[1]\n",
    "            df_woe_train = var_list_woe(df_train, df_train, variables, target, ed, verbose=False)\n",
    "            df_woe_test = var_list_woe(df_test, df_train, variables, target, ed, verbose=False)       \n",
    "            df_woe_train.replace(np.inf, inf_repl, inplace=True)\n",
    "            df_woe_test.replace(np.inf, inf_repl, inplace=True)\n",
    "            #fit the model on train set\n",
    "            X = df_woe_train.iloc[:, 1:].to_numpy()\n",
    "            y = df_woe_train.iloc[:, 0].values\n",
    "            model.fit(X, y)\n",
    "            g_train = round(check_model(model, X, y), 4)\n",
    "            # now test the model on test_set\n",
    "            X = df_woe_test.iloc[:, 1:].to_numpy()\n",
    "            y = df_woe_test.iloc[:, 0].values\n",
    "            g_test = round(check_model(model, X, y), 4)\n",
    "            df_result.loc[i, 'Bin_method'] = bin_method  \n",
    "            df_result.loc[i, 'Gini_train'] = g_train\n",
    "            df_result.loc[i, 'Gini_test'] = g_test\n",
    "            df_result.loc[i, 'N_bins'] = [len(ed[x])+1 for x in ed.keys()]\n",
    "            df_result.loc[i, 'N_iter'] = n_iter          \n",
    "        df_result.loc['MEAN']= round(df_result[['Gini_train', 'Gini_test']].mean(), 4)\n",
    "        df_result.loc['STD']= round(df_result[['Gini_train', 'Gini_test']].std(), 4)\n",
    "        t = round((time.time() - tpar0), 2)\n",
    "        print(f'Run time for parameters {parameter_1} {parameter_2} is {t} sec.')\n",
    "        result_dict_2[parameter_2] = (df_result, bt, t)\n",
    "    result_dict_1[parameter_1] = result_dict_2"
   ]
  },
  {
   "cell_type": "code",
   "execution_count": null,
   "id": "02494899",
   "metadata": {},
   "outputs": [],
   "source": [
    "# let's check p-val\n",
    "X = sm.add_constant(df_woe_train.iloc[:, 1:].to_numpy())\n",
    "y = df_woe_train.iloc[:, 0].values\n",
    "log_reg = sm.Logit(y, X).fit()\n",
    "print(log_reg.summary())"
   ]
  },
  {
   "cell_type": "code",
   "execution_count": null,
   "id": "6b44392c",
   "metadata": {},
   "outputs": [],
   "source": [
    "# let's check p-val\n",
    "X = df_woe_train.iloc[:, 1:].to_numpy()\n",
    "y = df_woe_train.iloc[:, 0].values\n",
    "log_reg = sm.Logit(y, X).fit()\n",
    "print(log_reg.summary())"
   ]
  },
  {
   "cell_type": "code",
   "execution_count": null,
   "id": "afd3d384",
   "metadata": {},
   "outputs": [],
   "source": [
    "model.coef_"
   ]
  },
  {
   "cell_type": "code",
   "execution_count": null,
   "id": "d9952680",
   "metadata": {},
   "outputs": [],
   "source": [
    "X = df_woe_test.iloc[:, 1:].to_numpy()\n",
    "y = df_woe_test.iloc[:, 0].values\n",
    "log_reg = sm.Logit(y, X).fit()\n",
    "print(log_reg.summary())"
   ]
  },
  {
   "cell_type": "code",
   "execution_count": null,
   "id": "14c46f93",
   "metadata": {
    "ExecuteTime": {
     "end_time": "2021-11-20T07:43:47.838991Z",
     "start_time": "2021-11-20T07:43:47.821101Z"
    }
   },
   "outputs": [],
   "source": [
    "fn = \"OptBin_results_exp_2\" \n",
    "#save_obj(result_dict_1, fn)\n",
    "tmp = load_obj(fn)\n",
    "parameter_space_1 = [0.5, 0.1, 0.05, 0.01, 0.001, 0.0001, 0.00001] # p_val\n",
    "parameter_space_2 = [0.01, 0.02, 0.1, 1, 5, 10, 25] # % of targets min_bin_n_event"
   ]
  },
  {
   "cell_type": "code",
   "execution_count": null,
   "id": "8353544d",
   "metadata": {
    "ExecuteTime": {
     "end_time": "2021-11-20T07:43:49.738711Z",
     "start_time": "2021-11-20T07:43:49.660109Z"
    }
   },
   "outputs": [],
   "source": [
    "second_param_name = 'p-val'\n",
    "df_report_train = pd.DataFrame(columns=parameter_space_2) # parameter to plot cycle result\n",
    "df_report_test = pd.DataFrame(columns=parameter_space_2) # parameter to plot cycle result\n",
    "df_report_bins = pd.DataFrame(columns=parameter_space_2) # parameter to plot cycle result\n",
    "for parameter_1 in parameter_space_1:\n",
    "    for parameter_2 in parameter_space_2:\n",
    "        df_report_train.loc[parameter_1, parameter_2] = tmp[parameter_1][parameter_2][0].loc['MEAN', 'Gini_train']\n",
    "        df_report_test.loc[parameter_1, parameter_2] = tmp[parameter_1][parameter_2][0].loc['MEAN', 'Gini_test']\n",
    "        df_report_bins.loc[parameter_1, parameter_2] = tmp[parameter_1][parameter_2][0].loc[1, 'N_bins']\n",
    "df_report_train.index.rename(second_param_name, inplace = True) \n",
    "df_report_test.index.rename(second_param_name, inplace = True) \n",
    "df_report_bins.index.rename(second_param_name, inplace = True) \n",
    "display(df_report_train)\n",
    "display(df_report_test)\n",
    "display(df_report_bins)"
   ]
  },
  {
   "cell_type": "code",
   "execution_count": null,
   "id": "de874cd3",
   "metadata": {
    "ExecuteTime": {
     "end_time": "2021-11-20T07:43:51.601649Z",
     "start_time": "2021-11-20T07:43:51.341466Z"
    }
   },
   "outputs": [],
   "source": [
    "df_tmp = df_report_train\n",
    "plt.figure(figsize=(4,6))\n",
    "sns.set(style= \"whitegrid\")\n",
    "x = np.log(df_tmp.index.values)\n",
    "y = df_tmp\n",
    "plt.ylim(y.min().min()*0.97, y.max().max()*1.02)\n",
    "plt.xlabel('ln p-val')\n",
    "plt.ylabel('Gini scoring')\n",
    "plt.title('Train sets', fontsize = 14)\n",
    "plt.plot(x, y)\n",
    "plt.legend(df_tmp.columns.values, title='min % of targets per bin')\n",
    "plt.show()"
   ]
  },
  {
   "cell_type": "code",
   "execution_count": null,
   "id": "e52cb265",
   "metadata": {
    "ExecuteTime": {
     "end_time": "2021-11-20T07:44:04.297847Z",
     "start_time": "2021-11-20T07:44:04.097643Z"
    }
   },
   "outputs": [],
   "source": [
    "df_tmp = df_report_test\n",
    "#plt.style.use('default') \n",
    "sns.set(style= \"whitegrid\")\n",
    "plt.figure(figsize=(4,6))\n",
    "x = np.log(df_tmp.index.values)\n",
    "y = df_tmp\n",
    "plt.ylim(y.min().min()*0.97, y.max().max()*1.02)\n",
    "plt.xlabel('ln p-val')\n",
    "plt.ylabel('Gini scoring')\n",
    "plt.title('Test sets', fontsize = 14)\n",
    "plt.plot(x, y)\n",
    "plt.legend(df_tmp.columns.values, title='min % of targets per bin')\n",
    "plt.show()"
   ]
  },
  {
   "cell_type": "code",
   "execution_count": null,
   "id": "09e3a156",
   "metadata": {
    "scrolled": true
   },
   "outputs": [],
   "source": [
    "#tmp[0.001]['iv'][1]['DAYS_EMPLOYED'].plot() "
   ]
  },
  {
   "cell_type": "code",
   "execution_count": null,
   "id": "630f60f9",
   "metadata": {},
   "outputs": [],
   "source": [
    "tmp[0.001][0.1][1]['DAYS_EMPLOYED'].plot()"
   ]
  },
  {
   "cell_type": "code",
   "execution_count": null,
   "id": "680a09a1",
   "metadata": {},
   "outputs": [],
   "source": [
    "tmp[0.5]['iv'][1]['DAYS_EMPLOYED'].plot()"
   ]
  },
  {
   "cell_type": "code",
   "execution_count": null,
   "id": "6bcc87a8",
   "metadata": {},
   "outputs": [],
   "source": [
    "tmp[0.5]['iv'][1]['DAYS_EMPLOYED'].build()"
   ]
  },
  {
   "cell_type": "code",
   "execution_count": null,
   "id": "8e68e988",
   "metadata": {},
   "outputs": [],
   "source": []
  },
  {
   "cell_type": "markdown",
   "id": "bc41c389",
   "metadata": {},
   "source": [
    "# CART exploration NEW"
   ]
  },
  {
   "cell_type": "code",
   "execution_count": null,
   "id": "5bfcd0af",
   "metadata": {},
   "outputs": [],
   "source": [
    "df = prepare_df(d0)\n"
   ]
  },
  {
   "cell_type": "markdown",
   "id": "2bbf73a6",
   "metadata": {},
   "source": [
    "## Exp_1"
   ]
  },
  {
   "cell_type": "code",
   "execution_count": null,
   "id": "f942d5da",
   "metadata": {},
   "outputs": [],
   "source": [
    "msl = 100 # min_samples_leaf\n",
    "max_iter = 100\n",
    "inf_repl = 100\n",
    "parameter_space_1 = [0, 10**-6, 10**-5, 10**-4, 0.001, 0.005, 0.01] #alpha\n",
    "parameter_space_2 = [2**i for i in range(1, 12)] #max leaf nodes\n",
    "result_dict_1 = {}\n",
    "for n_param_1, parameter_1 in enumerate(parameter_space_1): \n",
    "    result_dict_2 = {} # contains all the df_result tables\n",
    "    for n_param_2, parameter_2 in enumerate(parameter_space_2): \n",
    "        tpar0=time.time()\n",
    "        bin_method = CART(max_leaf_nodes=parameter_2, ccp_alpha = parameter_1, \n",
    "                          criterion = 'entropy', min_samples_leaf=msl)\n",
    "        n_iter = 5\n",
    "        verbose = False\n",
    "        model = LogisticRegression(max_iter=max_iter)\n",
    "        \n",
    "        df_result = pd.DataFrame(columns=['Gini_train', 'Gini_test', \n",
    "                                          'N_bins', 'Bin_method', 'N_iter'])\n",
    "        for i in range(n_iter):\n",
    "            df_train, df_test = train_test_split(df, test_size=0.30)#, stratify=df[target])\n",
    "            df_train = df_train.reset_index()\n",
    "            df_test = df_test.reset_index()\n",
    "            tmp = get_edges_dict(df_train, variables, target, \n",
    "                                 verbose=False, bin_method=bin_method)\n",
    "            ed = tmp[0]\n",
    "            bt = tmp[1]\n",
    "            df_woe_train = var_list_woe(df_train, df_train, variables, target, ed, verbose=False)\n",
    "            df_woe_test = var_list_woe(df_test, df_train, variables, target, ed, verbose=False)       \n",
    "            df_woe_train.replace(np.inf, inf_repl, inplace=True)\n",
    "            df_woe_test.replace(np.inf, inf_repl, inplace=True)\n",
    "            #fit the model on train set\n",
    "            X = df_woe_train.iloc[:, 1:].to_numpy()\n",
    "            y = df_woe_train.iloc[:, 0].values\n",
    "            model.fit(X, y)\n",
    "            g_train = round(check_model(model, X, y), 4)\n",
    "            # now test the model on test_set\n",
    "            X = df_woe_test.iloc[:, 1:].to_numpy()\n",
    "            y = df_woe_test.iloc[:, 0].values\n",
    "            g_test = round(check_model(model, X, y), 4)\n",
    "            df_result.loc[i, 'Bin_method'] = bin_method  \n",
    "            df_result.loc[i, 'Gini_train'] = g_train\n",
    "            df_result.loc[i, 'Gini_test'] = g_test\n",
    "            df_result.loc[i, 'N_bins'] = [len(ed[x])+1 for x in ed.keys()]\n",
    "            df_result.loc[i, 'N_iter'] = n_iter          \n",
    "        df_result.loc['MEAN']= round(df_result[['Gini_train', 'Gini_test']].mean(), 4)\n",
    "        df_result.loc['STD']= round(df_result[['Gini_train', 'Gini_test']].std(), 4)\n",
    "        t = round((time.time() - tpar0), 2)\n",
    "        print(f'Run time for parameters {parameter_1} {parameter_2} is {t} sec.')\n",
    "        result_dict_2[parameter_2] = (df_result, bt, t)\n",
    "    result_dict_1[parameter_1] = result_dict_2\n"
   ]
  },
  {
   "cell_type": "code",
   "execution_count": null,
   "id": "48d1435e",
   "metadata": {},
   "outputs": [],
   "source": [
    "fn = \"CART_results_exp_1_msl_100\" #min samples leaf\n",
    "#save_obj(result_dict_1, fn)\n",
    "tmp = load_obj(fn)\n",
    "# min_samples_leaf=100 (also try 500 and 100)\n",
    "parameter_space_1 = [0, 10**-6, 10**-5, 10**-4, 0.001, 0.005, 0.01] #alpha\n",
    "parameter_space_2 = [2**i for i in range(1, 12)] #max leaf nodes"
   ]
  },
  {
   "cell_type": "code",
   "execution_count": null,
   "id": "8be520ed",
   "metadata": {},
   "outputs": [],
   "source": [
    "tmp"
   ]
  },
  {
   "cell_type": "code",
   "execution_count": null,
   "id": "337a90e4",
   "metadata": {},
   "outputs": [],
   "source": [
    "second_param_name = 'ccp-alpha'\n",
    "df_report_train = pd.DataFrame(columns=parameter_space_2) # parameter to plot cycle result\n",
    "df_report_test = pd.DataFrame(columns=parameter_space_2) # parameter to plot cycle result\n",
    "df_report_bins = pd.DataFrame(columns=parameter_space_2) # parameter to plot cycle result\n",
    "for parameter_1 in parameter_space_1:\n",
    "    for parameter_2 in parameter_space_2:\n",
    "        df_report_train.loc[parameter_1, parameter_2] = tmp[parameter_1][parameter_2][0].loc['MEAN', 'Gini_train']\n",
    "        df_report_test.loc[parameter_1, parameter_2] = tmp[parameter_1][parameter_2][0].loc['MEAN', 'Gini_test']\n",
    "        df_report_bins.loc[parameter_1, parameter_2] = tmp[parameter_1][parameter_2][0].loc[1, 'N_bins']\n",
    "df_report_train.index.rename(second_param_name, inplace = True) \n",
    "df_report_test.index.rename(second_param_name, inplace = True) \n",
    "df_report_bins.index.rename(second_param_name, inplace = True) \n",
    "\n",
    "display(df_report_train)\n",
    "display(df_report_test)\n",
    "display(df_report_bins)"
   ]
  },
  {
   "cell_type": "code",
   "execution_count": null,
   "id": "99914bb3",
   "metadata": {},
   "outputs": [],
   "source": [
    "df_tmp = df_report_train.T\n",
    "plt.figure(figsize=(5,7))\n",
    "x = np.log2(df_tmp.index.values)\n",
    "y = df_tmp\n",
    "plt.xlabel('log2 max leaf nodes')\n",
    "plt.ylabel('Gini scoring')\n",
    "plt.title('Train sets', fontsize = 14)\n",
    "plt.plot(x, y)\n",
    "plt.legend(df_tmp.columns.values, title='ccp-alpha')\n",
    "plt.show()"
   ]
  },
  {
   "cell_type": "code",
   "execution_count": null,
   "id": "1bbbbf1e",
   "metadata": {},
   "outputs": [],
   "source": [
    "df_tmp = df_report_test.T\n",
    "plt.figure(figsize=(5,7))\n",
    "x = np.log2(df_tmp.index.values)\n",
    "y = df_tmp\n",
    "plt.xlabel('log2 max leaf nodes')\n",
    "plt.ylabel('Gini scoring')\n",
    "plt.title('Test sets', fontsize = 14)\n",
    "plt.plot(x, y)\n",
    "plt.legend(df_tmp.columns.values, title='ccp-alpha')\n",
    "plt.show()"
   ]
  },
  {
   "cell_type": "markdown",
   "id": "3393e64b",
   "metadata": {},
   "source": [
    "## Exp_2"
   ]
  },
  {
   "cell_type": "code",
   "execution_count": null,
   "id": "26c2e78d",
   "metadata": {},
   "outputs": [],
   "source": [
    "#np.argwhere(np.isnan(x))\n",
    "df_woe_test.gt(10).sum()"
   ]
  },
  {
   "cell_type": "code",
   "execution_count": null,
   "id": "cf379901",
   "metadata": {},
   "outputs": [],
   "source": [
    "max_iter = 100\n",
    "inf_repl = 100\n",
    "max_leaf_nodes=2048\n",
    "parameter_space_1 = [0, 10**-6, 10**-5, 10**-4, 0.001, 0.01] #min impurity decr\n",
    "parameter_space_2 = [2**i for i in range(4, 17)] # min_samples_leaf\n",
    "result_dict_1 = {}\n",
    "for n_param_1, parameter_1 in enumerate(parameter_space_1): \n",
    "    result_dict_2 = {} # contains all the df_result tables\n",
    "    for n_param_2, parameter_2 in enumerate(parameter_space_2): \n",
    "        tpar0=time.time()\n",
    "        bin_method = CART(max_leaf_nodes=max_leaf_nodes, \n",
    "                          min_impurity_decrease=parameter_1, ccp_alpha = 0, \n",
    "                          criterion = 'entropy', min_samples_leaf=parameter_2)\n",
    "        n_iter = 7\n",
    "        verbose = False\n",
    "        model = LogisticRegression(max_iter=max_iter)\n",
    "        \n",
    "        df_result = pd.DataFrame(columns=['Gini_train', 'Gini_test', \n",
    "                                          'N_bins', 'Bin_method', 'N_iter'])\n",
    "        for i in range(n_iter):\n",
    "            df_train, df_test = train_test_split(df, test_size=0.30)#, stratify=df[target])\n",
    "            df_train = df_train.reset_index()\n",
    "            df_test = df_test.reset_index()\n",
    "            tmp = get_edges_dict(df_train, variables, target, \n",
    "                                 verbose=False, bin_method=bin_method)\n",
    "            ed = tmp[0]\n",
    "            bt = tmp[1]\n",
    "            df_woe_train = var_list_woe(df_train, df_train, variables, target, ed, verbose=False)\n",
    "            df_woe_test = var_list_woe(df_test, df_train, variables, target, ed, verbose=False)       \n",
    "            df_woe_train.replace(np.inf, inf_repl, inplace=True)\n",
    "            df_woe_test.replace(np.inf, inf_repl, inplace=True)\n",
    "            #fit the model on train set\n",
    "            X = df_woe_train.iloc[:, 1:].to_numpy()\n",
    "            y = df_woe_train.iloc[:, 0].values\n",
    "            model.fit(X, y)\n",
    "            g_train = round(check_model(model, X, y), 4)\n",
    "            # now test the model on test_set\n",
    "            X = df_woe_test.iloc[:, 1:].to_numpy()\n",
    "            y = df_woe_test.iloc[:, 0].values\n",
    "            g_test = round(check_model(model, X, y), 4)\n",
    "            df_result.loc[i, 'Bin_method'] = bin_method  \n",
    "            df_result.loc[i, 'Gini_train'] = g_train\n",
    "            df_result.loc[i, 'Gini_test'] = g_test\n",
    "            df_result.loc[i, 'N_bins'] = [len(ed[x])+1 for x in ed.keys()]\n",
    "            df_result.loc[i, 'N_iter'] = n_iter          \n",
    "        df_result.loc['MEAN']= round(df_result[['Gini_train', 'Gini_test']].mean(), 4)\n",
    "        df_result.loc['STD']= round(df_result[['Gini_train', 'Gini_test']].std(), 4)\n",
    "        t = round((time.time() - tpar0), 2)\n",
    "        print(f'Run time for parameters {parameter_1} {parameter_2} is {t} sec.')\n",
    "        result_dict_2[parameter_2] = (df_result, bt, t)\n",
    "    result_dict_1[parameter_1] = result_dict_2"
   ]
  },
  {
   "cell_type": "code",
   "execution_count": null,
   "id": "51ce9361",
   "metadata": {},
   "outputs": [],
   "source": [
    "fn = \"CART_results_exp_2\" \n",
    "#save_obj(result_dict_1, fn)\n",
    "tmp = load_obj(fn)\n",
    "parameter_space_1 = [0, 10**-6, 10**-5, 10**-4, 0.001, 0.01] #min impurity decrease\n",
    "parameter_space_2 = [2**i for i in range(4, 17)] # min_samples_leaf"
   ]
  },
  {
   "cell_type": "code",
   "execution_count": null,
   "id": "c360c121",
   "metadata": {},
   "outputs": [],
   "source": [
    "second_param_name = 'min impurity decr'\n",
    "df_report_train = pd.DataFrame(columns=parameter_space_2) # parameter to plot cycle result\n",
    "df_report_test = pd.DataFrame(columns=parameter_space_2) # parameter to plot cycle result\n",
    "df_report_bins = pd.DataFrame(columns=parameter_space_2) # parameter to plot cycle result\n",
    "for parameter_1 in parameter_space_1:\n",
    "    for parameter_2 in parameter_space_2:\n",
    "        df_report_train.loc[parameter_1, parameter_2] = tmp[parameter_1][parameter_2][0].loc['MEAN', 'Gini_train']\n",
    "        df_report_test.loc[parameter_1, parameter_2] = tmp[parameter_1][parameter_2][0].loc['MEAN', 'Gini_test']\n",
    "        df_report_bins.loc[parameter_1, parameter_2] = \\\n",
    "            np.round(np.mean(tmp[parameter_1][parameter_2][0].loc[1, 'N_bins']),1)\n",
    "df_report_train.index.rename(second_param_name, inplace = True) \n",
    "df_report_test.index.rename(second_param_name, inplace = True) \n",
    "df_report_bins.index.rename(second_param_name, inplace = True) \n",
    "\n",
    "display(df_report_train)\n",
    "display(df_report_test)\n",
    "display(df_report_bins)"
   ]
  },
  {
   "cell_type": "code",
   "execution_count": null,
   "id": "0fa6fe02",
   "metadata": {},
   "outputs": [],
   "source": [
    "df_tmp = df_report_train.T\n",
    "plt.figure(figsize=(5,7))\n",
    "x = np.log2(df_tmp.index.values)\n",
    "y = df_tmp\n",
    "plt.xlabel('log2 min_samples_leaf')\n",
    "plt.ylabel('Gini scoring')\n",
    "plt.title('Train sets', fontsize = 14)\n",
    "plt.plot(x, y)\n",
    "plt.legend(df_tmp.columns.values, title='min impurity decrease')\n",
    "plt.show()"
   ]
  },
  {
   "cell_type": "code",
   "execution_count": null,
   "id": "a48a40b7",
   "metadata": {},
   "outputs": [],
   "source": [
    "df_tmp = df_report_test.T\n",
    "plt.figure(figsize=(5,7))\n",
    "x = np.log2(df_tmp.index.values)\n",
    "y = df_tmp\n",
    "plt.xlabel('log2 min_samples_leaf')\n",
    "plt.ylabel('Gini scoring')\n",
    "plt.title('Test sets', fontsize = 14)\n",
    "plt.plot(x, y)\n",
    "plt.legend(df_tmp.columns.values, title='min impurity decrease')\n",
    "plt.show()"
   ]
  },
  {
   "cell_type": "markdown",
   "id": "a0b0af83",
   "metadata": {},
   "source": [
    "# MDLP exploration"
   ]
  },
  {
   "cell_type": "code",
   "execution_count": null,
   "id": "f78bf6c2",
   "metadata": {},
   "outputs": [],
   "source": [
    "df = prepare_df(d0)"
   ]
  },
  {
   "cell_type": "markdown",
   "id": "b2b6b1e4",
   "metadata": {},
   "source": [
    "## Experiment"
   ]
  },
  {
   "cell_type": "code",
   "execution_count": null,
   "id": "769fd146",
   "metadata": {},
   "outputs": [],
   "source": [
    "max_iter = 100\n",
    "inf_repl = 100\n",
    "parameter_space_1 = [2**i for i in range(4, 16)] #min_samples_leaf\n",
    "parameter_space_2 = [2**i for i in range(2, 9)] #max_candidates\n",
    "result_dict_1 = {}\n",
    "for n_param_1, parameter_1 in enumerate(parameter_space_1): \n",
    "    result_dict_2 = {} # contains all the df_result tables\n",
    "    for n_param_2, parameter_2 in enumerate(parameter_space_2): \n",
    "        tpar0=time.time()\n",
    "        #bin_method = MDLP(min_samples_split=2, min_samples_leaf=parameter_2, max_candidates=parameter_1)\n",
    "        # have to move the method definition into the cycle to handle the library mistake\n",
    "        n_iter = 11\n",
    "        verbose = False\n",
    "        model = LogisticRegression(max_iter=max_iter)\n",
    "        \n",
    "        df_result = pd.DataFrame(columns=['Gini_train', 'Gini_test', \n",
    "                                          'N_bins', 'Bin_method', 'N_iter'])\n",
    "        for i in range(n_iter):\n",
    "            bin_method = MDLP(min_samples_split=2, min_samples_leaf=parameter_1, max_candidates=parameter_2)\n",
    "            df_train, df_test = train_test_split(df, test_size=0.30)#, stratify=df[target])\n",
    "            df_train = df_train.reset_index()\n",
    "            df_test = df_test.reset_index()\n",
    "            tmp = get_edges_dict(df_train, variables, target, \n",
    "                                 verbose=False, bin_method=bin_method)\n",
    "            ed = tmp[0]\n",
    "            bt = tmp[1]\n",
    "            df_woe_train = var_list_woe(df_train, df_train, variables, target, ed, verbose=False)\n",
    "            df_woe_test = var_list_woe(df_test, df_train, variables, target, ed, verbose=False)       \n",
    "            df_woe_train.replace(np.inf, inf_repl, inplace=True)\n",
    "            df_woe_test.replace(np.inf, inf_repl, inplace=True)\n",
    "            #fit the model on train set\n",
    "            X = df_woe_train.iloc[:, 1:].to_numpy()\n",
    "            y = df_woe_train.iloc[:, 0].values\n",
    "            model.fit(X, y)\n",
    "            g_train = round(check_model(model, X, y), 4)\n",
    "            # now test the model on test_set\n",
    "            X = df_woe_test.iloc[:, 1:].to_numpy()\n",
    "            y = df_woe_test.iloc[:, 0].values\n",
    "            g_test = round(check_model(model, X, y), 4)\n",
    "            df_result.loc[i, 'Bin_method'] = bin_method  \n",
    "            df_result.loc[i, 'Gini_train'] = g_train\n",
    "            df_result.loc[i, 'Gini_test'] = g_test\n",
    "            df_result.loc[i, 'N_bins'] = [len(ed[x])+1 for x in ed.keys()]\n",
    "            df_result.loc[i, 'N_iter'] = n_iter          \n",
    "        df_result.loc['MEAN']= round(df_result[['Gini_train', 'Gini_test']].mean(), 4)\n",
    "        df_result.loc['STD']= round(df_result[['Gini_train', 'Gini_test']].std(), 4)\n",
    "        t = round((time.time() - tpar0), 2)\n",
    "        print(f'Run time for parameters {parameter_1} {parameter_2} is {t} sec.')\n",
    "        result_dict_2[parameter_2] = (df_result, bt, t)\n",
    "    result_dict_1[parameter_1] = result_dict_2\n"
   ]
  },
  {
   "cell_type": "code",
   "execution_count": null,
   "id": "d7eebf73",
   "metadata": {},
   "outputs": [],
   "source": [
    "fn = \"MDLP_results_exp_1\" \n",
    "#save_obj(result_dict_1, fn)\n",
    "tmp = load_obj(fn)\n",
    "# parameter_space_1 = [2**i for i in range(14, 16)] #min_samples_leaf\n",
    "# parameter_space_2 = [2**i for i in range(7, 9)] #max_candidates\n",
    "parameter_space_1 = [2**i for i in range(4, 16)] #min_samples_leaf\n",
    "parameter_space_2 = [2**i for i in range(2, 9)] #max_candidates"
   ]
  },
  {
   "cell_type": "code",
   "execution_count": null,
   "id": "93b88604",
   "metadata": {},
   "outputs": [],
   "source": [
    "tmp"
   ]
  },
  {
   "cell_type": "code",
   "execution_count": null,
   "id": "d04863b2",
   "metadata": {},
   "outputs": [],
   "source": [
    "second_param_name = 'min_samples_leaf'#vertical or axis=1\n",
    "df_report_train = pd.DataFrame(columns=parameter_space_2) # parameter to plot cycle result\n",
    "df_report_test = pd.DataFrame(columns=parameter_space_2) # parameter to plot cycle result\n",
    "df_report_bins = pd.DataFrame(columns=parameter_space_2) # parameter to plot cycle result\n",
    "df_report_time = pd.DataFrame(columns=parameter_space_2) # parameter to plot cycle result\n",
    "\n",
    "for parameter_1 in parameter_space_1:\n",
    "    for parameter_2 in parameter_space_2:\n",
    "        df_report_train.loc[parameter_1, parameter_2] = tmp[parameter_1][parameter_2][0].loc['MEAN', 'Gini_train']\n",
    "        df_report_test.loc[parameter_1, parameter_2] = tmp[parameter_1][parameter_2][0].loc['MEAN', 'Gini_test']\n",
    "        df_report_bins.loc[parameter_1, parameter_2] = tmp[parameter_1][parameter_2][0].loc[1, 'N_bins']\n",
    "        df_report_time.loc[parameter_1, parameter_2] = tmp[parameter_1][parameter_2][2]        \n",
    "df_report_train.index.rename(second_param_name, inplace = True) \n",
    "df_report_test.index.rename(second_param_name, inplace = True) \n",
    "df_report_bins.index.rename(second_param_name, inplace = True) \n",
    "df_report_time.index.rename(second_param_name, inplace = True) \n",
    "display(df_report_train)\n",
    "display(df_report_test)\n",
    "display(df_report_bins)\n",
    "display(df_report_time.T)"
   ]
  },
  {
   "cell_type": "code",
   "execution_count": null,
   "id": "1ac93465",
   "metadata": {},
   "outputs": [],
   "source": [
    "df_tmp = df_report_train.iloc[:, :-1]\n",
    "plt.figure(figsize=(6,7))\n",
    "x = np.log2(df_tmp.index.values)\n",
    "y = df_tmp\n",
    "plt.xlabel('log2 min samples leaf')\n",
    "plt.ylabel('Gini scoring')\n",
    "plt.title('Train sets', fontsize = 14)\n",
    "plt.plot(x, y)\n",
    "plt.legend(df_tmp.columns.values, title='max_candidates')\n",
    "plt.show()"
   ]
  },
  {
   "cell_type": "code",
   "execution_count": null,
   "id": "f4bbb972",
   "metadata": {},
   "outputs": [],
   "source": [
    "df_tmp = df_report_test.iloc[:, :-1]\n",
    "plt.figure(figsize=(6,7))\n",
    "x = np.log2(df_tmp.index.values)\n",
    "y = df_tmp\n",
    "plt.xlabel('log2 min_samples_leaf')\n",
    "plt.ylabel('Gini scoring')\n",
    "plt.title('Test sets', fontsize = 14)\n",
    "plt.plot(x, y)\n",
    "plt.legend(df_tmp.columns.values, title='max_candidates')\n",
    "plt.show()"
   ]
  },
  {
   "cell_type": "code",
   "execution_count": null,
   "id": "14c93bf7",
   "metadata": {},
   "outputs": [],
   "source": [
    "df_report_time"
   ]
  },
  {
   "cell_type": "code",
   "execution_count": null,
   "id": "f3f5adb6",
   "metadata": {},
   "outputs": [],
   "source": [
    "#df_report_time = df_report_time - 44.31\n",
    "df_tmp = df_report_time.iloc[[0,2, 4, 6, 9],:].T\n",
    "plt.figure(figsize=(6,7))\n",
    "x = np.log2(df_tmp.index.values)\n",
    "y = df_tmp\n",
    "plt.xlabel('log2 max candidates')\n",
    "plt.ylabel('Time difference, sec')\n",
    "plt.ylim([0, 8])\n",
    "plt.title('Pypeline time difference with the base case, sec', fontsize = 14)\n",
    "plt.plot(x, y)\n",
    "plt.legend(df_tmp.columns.values, title='min_samples_leaf')\n",
    "plt.show()"
   ]
  },
  {
   "cell_type": "code",
   "execution_count": null,
   "id": "2fcabcea",
   "metadata": {},
   "outputs": [],
   "source": [
    "#pip install mdlp-discretization\n"
   ]
  },
  {
   "cell_type": "markdown",
   "id": "1829fd56",
   "metadata": {},
   "source": [
    "## Time baseline"
   ]
  },
  {
   "cell_type": "code",
   "execution_count": null,
   "id": "00b8e1bd",
   "metadata": {},
   "outputs": [],
   "source": []
  },
  {
   "cell_type": "code",
   "execution_count": null,
   "id": "68b5958a",
   "metadata": {},
   "outputs": [],
   "source": [
    "max_iter = 100\n",
    "inf_repl = 100\n",
    "parameter_space_1 = [1] #min_samples_leaf\n",
    "parameter_space_2 = [1,2,3] #max_candidates\n",
    "result_dict_1 = {}\n",
    "for n_param_1, parameter_1 in enumerate(parameter_space_1): \n",
    "    result_dict_2 = {} # contains all the df_result tables\n",
    "    for n_param_2, parameter_2 in enumerate(parameter_space_2): \n",
    "        tpar0=time.time()\n",
    "        bin_method=KBinsDiscretizer(n_bins=10, strategy='quantile')\n",
    "        #bin_method = MDLP(min_samples_split=2, min_samples_leaf=parameter_2, max_candidates=parameter_1)\n",
    "        # have to move the method definition into the cycle to handle the library mistake\n",
    "        n_iter = 11\n",
    "        verbose = False\n",
    "        model = LogisticRegression(max_iter=max_iter)\n",
    "        \n",
    "        df_result = pd.DataFrame(columns=['Gini_train', 'Gini_test', \n",
    "                                          'N_bins', 'Bin_method', 'N_iter', 'Run_time'])\n",
    "        for i in range(n_iter):\n",
    "            #bin_method = MDLP(min_samples_split=2, min_samples_leaf=parameter_1, max_candidates=parameter_2)\n",
    "            \n",
    "            t_internal = time.time()\n",
    "            df_train, df_test = train_test_split(df, test_size=0.30)#, stratify=df[target])\n",
    "            df_train = df_train.reset_index()\n",
    "            df_test = df_test.reset_index()\n",
    "            tmp = get_edges_dict(df_train, variables, target, \n",
    "                                 verbose=False, bin_method=bin_method)\n",
    "            ed = tmp[0]\n",
    "            bt = tmp[1]\n",
    "            df_woe_train = var_list_woe(df_train, df_train, variables, target, ed, verbose=False)\n",
    "            df_woe_test = var_list_woe(df_test, df_train, variables, target, ed, verbose=False)       \n",
    "            df_woe_train.replace(np.inf, inf_repl, inplace=True)\n",
    "            df_woe_test.replace(np.inf, inf_repl, inplace=True)\n",
    "            #fit the model on train set\n",
    "            X = df_woe_train.iloc[:, 1:].to_numpy()\n",
    "            y = df_woe_train.iloc[:, 0].values\n",
    "            model.fit(X, y)\n",
    "            g_train = round(check_model(model, X, y), 4)\n",
    "            # now test the model on test_set\n",
    "            X = df_woe_test.iloc[:, 1:].to_numpy()\n",
    "            y = df_woe_test.iloc[:, 0].values\n",
    "            g_test = round(check_model(model, X, y), 4)\n",
    "            df_result.loc[i, 'Bin_method'] = bin_method  \n",
    "            df_result.loc[i, 'Gini_train'] = g_train\n",
    "            df_result.loc[i, 'Gini_test'] = g_test\n",
    "            df_result.loc[i, 'N_bins'] = [len(ed[x])+1 for x in ed.keys()]\n",
    "            df_result.loc[i, 'N_iter'] = n_iter \n",
    "            t = round((time.time() - t_internal), 2)\n",
    "            df_result.loc[i, 'Run_time'] = t \n",
    "\n",
    "        df_result.loc['MEAN']= round(df_result[['Gini_train', 'Gini_test']].mean(), 4)\n",
    "        df_result.loc['STD']= round(df_result[['Gini_train', 'Gini_test']].std(), 4)\n",
    "        t = round((time.time() - tpar0), 2)\n",
    "        print(f'Run time for parameters {parameter_1} {parameter_2} is {t} sec.')\n",
    "        result_dict_2[parameter_2] = (df_result, bt, t)\n",
    "    result_dict_1[parameter_1] = result_dict_2\n"
   ]
  },
  {
   "cell_type": "code",
   "execution_count": null,
   "id": "f8526443",
   "metadata": {},
   "outputs": [],
   "source": [
    "fn = \"MDLP_results_exp_1_time\" \n",
    "#save_obj(result_dict_1, fn)\n",
    "tmp = load_obj(fn)\n",
    "# parameter_space_1 = [2**i for i in range(14, 16)] #min_samples_leaf\n",
    "# parameter_space_2 = [2**i for i in range(7, 9)] #max_candidates\n",
    "parameter_space_1 = [1] #min_samples_leaf\n",
    "parameter_space_2 = [1] #max_candidates"
   ]
  },
  {
   "cell_type": "code",
   "execution_count": null,
   "id": "262e74a0",
   "metadata": {},
   "outputs": [],
   "source": [
    "second_param_name = 'time'#vertical or axis=1\n",
    "df_report_train = pd.DataFrame(columns=parameter_space_2) # parameter to plot cycle result\n",
    "df_report_test = pd.DataFrame(columns=parameter_space_2) # parameter to plot cycle result\n",
    "df_report_bins = pd.DataFrame(columns=parameter_space_2) # parameter to plot cycle result\n",
    "df_report_time = pd.DataFrame(columns=parameter_space_2) # parameter to plot cycle result\n",
    "\n",
    "for parameter_1 in parameter_space_1:\n",
    "    for parameter_2 in parameter_space_2:\n",
    "        df_report_train.loc[parameter_1, parameter_2] = tmp[parameter_1][parameter_2][0].loc['MEAN', 'Gini_train']\n",
    "        df_report_test.loc[parameter_1, parameter_2] = tmp[parameter_1][parameter_2][0].loc['MEAN', 'Gini_test']\n",
    "        df_report_bins.loc[parameter_1, parameter_2] = tmp[parameter_1][parameter_2][0].loc[1, 'N_bins']\n",
    "        df_report_time.loc[parameter_1, parameter_2] = tmp[parameter_1][parameter_2][2]        \n",
    "df_report_train.index.rename(second_param_name, inplace = True) \n",
    "df_report_test.index.rename(second_param_name, inplace = True) \n",
    "df_report_bins.index.rename(second_param_name, inplace = True) \n",
    "df_report_time.index.rename(second_param_name, inplace = True) \n",
    "display(df_report_train)\n",
    "display(df_report_test)\n",
    "display(df_report_bins)\n",
    "display(df_report_time)"
   ]
  },
  {
   "cell_type": "code",
   "execution_count": null,
   "id": "dc314e3f",
   "metadata": {},
   "outputs": [],
   "source": []
  },
  {
   "cell_type": "markdown",
   "id": "bcfbd6b9",
   "metadata": {},
   "source": [
    "# The best one for a wider dataset"
   ]
  },
  {
   "cell_type": "markdown",
   "id": "5409110b",
   "metadata": {},
   "source": [
    "## Basic experiment"
   ]
  },
  {
   "cell_type": "code",
   "execution_count": null,
   "id": "64ee2df5",
   "metadata": {
    "ExecuteTime": {
     "end_time": "2021-11-21T10:25:10.610778Z",
     "start_time": "2021-11-21T10:25:01.724267Z"
    }
   },
   "outputs": [],
   "source": [
    "variables = ['DAYS_EMPLOYED', 'AMT_GOODS_PRICE', 'EXT_SOURCE_3']\n",
    "variables_wide = variables + ['CNT_CHILDREN', 'AMT_INCOME_TOTAL', 'REGION_POPULATION_RELATIVE', \n",
    "                              'OWN_CAR_AGE', 'DAYS_BIRTH', 'DAYS_REGISTRATION',\n",
    "                              'DAYS_ID_PUBLISH','CNT_FAM_MEMBERS', 'HOUR_APPR_PROCESS_START', 'EXT_SOURCE_1',\n",
    "                              'EXT_SOURCE_2', 'APARTMENTS_AVG', 'BASEMENTAREA_AVG', 'YEARS_BUILD_AVG',\n",
    "                              'ENTRANCES_AVG', 'LANDAREA_AVG', 'LIVINGAPARTMENTS_AVG', \n",
    "                              'LIVINGAREA_AVG', 'APARTMENTS_MODE', 'BASEMENTAREA_MODE',\n",
    "                              'YEARS_BUILD_MODE', 'LIVINGAREA_MODE', 'APARTMENTS_MEDI',\n",
    "                              'TOTALAREA_MODE', 'OBS_30_CNT_SOCIAL_CIRCLE', 'DEF_30_CNT_SOCIAL_CIRCLE',\n",
    "                              'DAYS_LAST_PHONE_CHANGE', 'AMT_REQ_CREDIT_BUREAU_YEAR']\n",
    "df = prepare_df(d0, variables_wide, remove_outl=False, remove_na=False)"
   ]
  },
  {
   "cell_type": "code",
   "execution_count": null,
   "id": "b3f6463e",
   "metadata": {},
   "outputs": [],
   "source": []
  },
  {
   "cell_type": "code",
   "execution_count": null,
   "id": "4cec0c0c",
   "metadata": {},
   "outputs": [],
   "source": [
    "target = 'TARGET'\n",
    "variables = ['DAYS_EMPLOYED', 'AMT_GOODS_PRICE', 'EXT_SOURCE_3']\n",
    "df = prepare_df(d0)\n"
   ]
  },
  {
   "cell_type": "code",
   "execution_count": null,
   "id": "fc3cd1a1",
   "metadata": {
    "scrolled": true
   },
   "outputs": [],
   "source": [
    "#variables = variables_wide\n",
    "max_iter = 100\n",
    "inf_repl = 100\n",
    "parameter_space_1 = [1] #min impurity decr\n",
    "parameter_space_2 = [1] # min_samples_leaf\n",
    "result_dict_1 = {}\n",
    "for n_param_1, parameter_1 in enumerate(parameter_space_1): \n",
    "    result_dict_2 = {} # contains all the df_result tables\n",
    "    for n_param_2, parameter_2 in enumerate(parameter_space_2): \n",
    "        tpar0=time.time()\n",
    "        bin_method = CART(max_leaf_nodes=2048, \n",
    "                          min_impurity_decrease=0.00001, ccp_alpha = 0, \n",
    "                          criterion = 'entropy', min_samples_leaf=2048)\n",
    "        n_iter = 21\n",
    "        verbose = False\n",
    "        model = LogisticRegression(max_iter=max_iter)\n",
    "        \n",
    "        df_result = pd.DataFrame(columns=['Gini_train', 'Gini_test', \n",
    "                                          'N_bins', 'Bin_method', 'N_iter', 'Run_time'])\n",
    "        for i in range(n_iter):\n",
    "            t_internal=time.time()\n",
    "            df_train, df_test = train_test_split(df, test_size=0.30)#, stratify=df[target])\n",
    "            df_train = df_train.reset_index()\n",
    "            df_test = df_test.reset_index()\n",
    "            tmp = get_edges_dict(df_train, variables, target, \n",
    "                                 verbose=False, bin_method=bin_method)\n",
    "            #t1 = (time.time() - t_internal)\n",
    "            ed = tmp[0]\n",
    "            bt = tmp[1]\n",
    "            df_woe_train = var_list_woe(df_train, df_train, variables, target, ed, verbose=False)\n",
    "            \n",
    "            df_woe_test = var_list_woe(df_test, df_train, variables, target, ed, verbose=False)       \n",
    "            #t2 = (time.time() - t1 - t_internal)\n",
    "            df_woe_train.replace(np.inf, inf_repl, inplace=True)\n",
    "            df_woe_test.replace(np.inf, inf_repl, inplace=True)\n",
    "            ###fit the model on train set\n",
    "            X = df_woe_train.iloc[:, 1:].to_numpy()\n",
    "            y = df_woe_train.iloc[:, 0].values\n",
    "            model.fit(X, y)\n",
    "            #t3 = (time.time() - t2 - t1 - t_internal)\n",
    "            g_train = round(check_model(model, X, y), 4)\n",
    "            ### now test the model on test_set\n",
    "            X = df_woe_test.iloc[:, 1:].to_numpy()\n",
    "            y = df_woe_test.iloc[:, 0].values\n",
    "            g_test = round(check_model(model, X, y), 4)\n",
    "            #t4 = (time.time() - t3 - t2 - t1 - t_internal)\n",
    "\n",
    "            df_result.loc[i, 'Bin_method'] = bin_method  \n",
    "            df_result.loc[i, 'Gini_train'] = g_train\n",
    "            df_result.loc[i, 'Gini_test'] = g_test\n",
    "            df_result.loc[i, 'N_bins'] = [len(ed[x])+1 for x in ed.keys()]\n",
    "            df_result.loc[i, 'N_iter'] = n_iter   \n",
    "            t = round((time.time() - t_internal), 4)\n",
    "            df_result.loc[i, 'Run_time'] = t #[round(t1, 4), round(t1/t, 4) , round(t2/t, 4), round(t3/t, 4), round(t4/t, 4), t] \n",
    "        df_result.loc['MEAN']= round(df_result[['Gini_train', 'Gini_test']].mean(), 4)\n",
    "        df_result.loc['STD']= round(df_result[['Gini_train', 'Gini_test']].std(), 4)\n",
    "        t = round((time.time() - tpar0), 2)\n",
    "        print(f'Run time for parameters {parameter_1} {parameter_2} is {t} sec.')\n",
    "        result_dict_2[parameter_2] = (df_result, bt, t)\n",
    "    result_dict_1[parameter_1] = result_dict_2"
   ]
  },
  {
   "cell_type": "code",
   "execution_count": null,
   "id": "0bb082a0",
   "metadata": {},
   "outputs": [],
   "source": [
    "fn = \"The_best_long\" \n",
    "#save_obj(result_dict_1, fn)\n",
    "tmp = load_obj(fn)\n",
    "parameter_space_1 = [1] #min impurity decrease\n",
    "parameter_space_2 = [1] # min_samples_leaf"
   ]
  },
  {
   "cell_type": "code",
   "execution_count": null,
   "id": "764956f4",
   "metadata": {},
   "outputs": [],
   "source": [
    "second_param_name = ''\n",
    "df_report_train = pd.DataFrame(columns=parameter_space_2) # parameter to plot cycle result\n",
    "df_report_test = pd.DataFrame(columns=parameter_space_2) # parameter to plot cycle result\n",
    "df_report_bins = pd.DataFrame(columns=parameter_space_2) # parameter to plot cycle result\n",
    "df_report_time = pd.DataFrame(columns=parameter_space_2) # parameter to plot cycle result\n",
    "\n",
    "for parameter_1 in parameter_space_1:\n",
    "    for parameter_2 in parameter_space_2:\n",
    "        df_report_train.loc[parameter_1, parameter_2] = tmp[parameter_1][parameter_2][0].loc['MEAN', 'Gini_train']\n",
    "        df_report_test.loc[parameter_1, parameter_2] = tmp[parameter_1][parameter_2][0].loc['MEAN', 'Gini_test']\n",
    "        df_report_bins.loc[parameter_1, parameter_2] = tmp[parameter_1][parameter_2][0].loc[1, 'N_bins']\n",
    "        #df_report_time.loc[parameter_1, parameter_2] = tmp[parameter_1][parameter_2][0]\n",
    "\n",
    "df_report_train.index.rename(second_param_name, inplace = True) \n",
    "df_report_test.index.rename(second_param_name, inplace = True) \n",
    "df_report_bins.index.rename(second_param_name, inplace = True) \n",
    "\n",
    "display(df_report_train)\n",
    "display(df_report_test)\n",
    "display(df_report_bins)\n",
    "#display(df_report_time)\n"
   ]
  },
  {
   "cell_type": "code",
   "execution_count": null,
   "id": "b10d2afa",
   "metadata": {},
   "outputs": [],
   "source": [
    "#tmp[1][1][0]#.iloc[0,5][0]"
   ]
  },
  {
   "cell_type": "code",
   "execution_count": null,
   "id": "c927877e",
   "metadata": {},
   "outputs": [],
   "source": [
    "plot_results(tmp[1][1][0], 'Gini_train', \n",
    "             'CART(max_leaf_nodes=2048, min_impurity_decrease=0.00001, \\n ccp_alpha = 0, entropy, min_samples_leaf=2048)')"
   ]
  },
  {
   "cell_type": "code",
   "execution_count": null,
   "id": "ed85e3cc",
   "metadata": {},
   "outputs": [],
   "source": [
    "plot_results(tmp[1][1][0], 'Gini_test', \n",
    "             'CART(max_leaf_nodes=2048, min_impurity_decrease=0.00001, \\n ccp_alpha = 0, entropy, min_samples_leaf=2048)')"
   ]
  },
  {
   "cell_type": "markdown",
   "id": "c57288d2",
   "metadata": {},
   "source": [
    "## Playing with time"
   ]
  },
  {
   "cell_type": "code",
   "execution_count": null,
   "id": "820a7fd9",
   "metadata": {},
   "outputs": [],
   "source": []
  },
  {
   "cell_type": "code",
   "execution_count": null,
   "id": "da11b48f",
   "metadata": {},
   "outputs": [],
   "source": [
    "target = 'TARGET'\n",
    "variables = ['DAYS_EMPLOYED', 'AMT_GOODS_PRICE', 'EXT_SOURCE_3']\n",
    "df = prepare_df(d0)\n"
   ]
  },
  {
   "cell_type": "code",
   "execution_count": null,
   "id": "e4a47bf6",
   "metadata": {
    "ExecuteTime": {
     "end_time": "2021-11-20T07:40:54.967968Z",
     "start_time": "2021-11-20T07:40:47.573863Z"
    }
   },
   "outputs": [],
   "source": [
    "target = 'TARGET'\n",
    "variables = ['DAYS_EMPLOYED', 'AMT_GOODS_PRICE', 'EXT_SOURCE_3']\n",
    "variables_wide = variables + ['CNT_CHILDREN', 'AMT_INCOME_TOTAL', 'REGION_POPULATION_RELATIVE', \n",
    "                              'OWN_CAR_AGE', 'DAYS_BIRTH', 'DAYS_REGISTRATION',\n",
    "                              'DAYS_ID_PUBLISH','CNT_FAM_MEMBERS', 'HOUR_APPR_PROCESS_START', 'EXT_SOURCE_1',\n",
    "                              'EXT_SOURCE_2', 'APARTMENTS_AVG', 'BASEMENTAREA_AVG', 'YEARS_BUILD_AVG',\n",
    "                              'ENTRANCES_AVG', 'LANDAREA_AVG', 'LIVINGAPARTMENTS_AVG', \n",
    "                              'LIVINGAREA_AVG', 'APARTMENTS_MODE', 'BASEMENTAREA_MODE',\n",
    "                              'YEARS_BUILD_MODE', 'LIVINGAREA_MODE', 'APARTMENTS_MEDI',\n",
    "                              'TOTALAREA_MODE', 'OBS_30_CNT_SOCIAL_CIRCLE', 'DEF_30_CNT_SOCIAL_CIRCLE',\n",
    "                              'DAYS_LAST_PHONE_CHANGE', 'AMT_REQ_CREDIT_BUREAU_YEAR']\n",
    "df = prepare_df(d0, variables_wide, remove_outl=False, remove_na=False)"
   ]
  },
  {
   "cell_type": "code",
   "execution_count": null,
   "id": "c8879b0a",
   "metadata": {
    "ExecuteTime": {
     "end_time": "2021-11-20T10:36:03.064484Z",
     "start_time": "2021-11-20T10:34:46.530830Z"
    },
    "code_folding": [],
    "scrolled": true
   },
   "outputs": [],
   "source": [
    "variables = variables_wide\n",
    "max_iter = 100\n",
    "inf_repl = 100\n",
    "parameter_space_1 = [1] #min impurity decr\n",
    "parameter_space_2 = [1] # min_samples_leaf\n",
    "result_dict_1 = {}\n",
    "for n_param_1, parameter_1 in enumerate(parameter_space_1): \n",
    "    result_dict_2 = {} # contains all the df_result tables\n",
    "    for n_param_2, parameter_2 in enumerate(parameter_space_2): \n",
    "        tpar0=time.time()\n",
    "        bin_method = CART(max_leaf_nodes=2048, \n",
    "                          min_impurity_decrease=0.00001, ccp_alpha = 0, \n",
    "                          criterion = 'entropy', min_samples_leaf=2048, n_jobs = -1)\n",
    "#         bin_method=OptimalBinning(divergence='iv', max_pvalue = 0.0001,\n",
    "#                                  max_n_prebins=2048, min_bin_n_event=10)\n",
    "        n_iter = 1\n",
    "        verbose = False\n",
    "        model = LogisticRegression(max_iter=max_iter)\n",
    "        \n",
    "        df_result = pd.DataFrame(columns=['Gini_train', 'Gini_test', \n",
    "                                          'N_bins', 'Bin_method', 'N_iter', 'Run_time'])\n",
    "        for i in range(n_iter):\n",
    "            t_internal=time.time()\n",
    "            df_train, df_test = train_test_split(df, test_size=0.30)#, stratify=df[target])\n",
    "            df_train = df_train.reset_index()\n",
    "            df_test = df_test.reset_index()\n",
    "            tmp = get_edges_dict(df_train, variables, target, \n",
    "                                 verbose=False, bin_method=bin_method)\n",
    "            t1 = (time.time() - t_internal)\n",
    "            ed = tmp[0]\n",
    "            bt = tmp[1]\n",
    "            df_woe_train = var_list_woe(df_train, df_train, variables, target, ed, verbose=False)\n",
    "            \n",
    "            df_woe_test = var_list_woe(df_test, df_train, variables, target, ed, verbose=False)       \n",
    "            t2 = (time.time() - t1 - t_internal)\n",
    "            df_woe_train.replace(np.inf, inf_repl, inplace=True)\n",
    "            df_woe_test.replace(np.inf, inf_repl, inplace=True)\n",
    "            ###fit the model on train set\n",
    "            X = df_woe_train.iloc[:, 1:].to_numpy()\n",
    "            y = df_woe_train.iloc[:, 0].values\n",
    "            model.fit(X, y)\n",
    "            t3 = (time.time() - t2 - t1 - t_internal)\n",
    "            g_train = round(check_model(model, X, y), 4)\n",
    "            ### now test the model on test_set\n",
    "            X = df_woe_test.iloc[:, 1:].to_numpy()\n",
    "            y = df_woe_test.iloc[:, 0].values\n",
    "            g_test = round(check_model(model, X, y), 4)\n",
    "            t4 = (time.time() - t3 - t2 - t1 - t_internal)\n",
    "\n",
    "            df_result.loc[i, 'Bin_method'] = bin_method  \n",
    "            df_result.loc[i, 'Gini_train'] = g_train\n",
    "            df_result.loc[i, 'Gini_test'] = g_test\n",
    "            df_result.loc[i, 'N_bins'] = [len(ed[x])+1 for x in ed.keys()]\n",
    "            df_result.loc[i, 'N_iter'] = n_iter   \n",
    "            t = round((time.time() - t_internal), 4)\n",
    "            df_result.loc[i, 'Run_time'] = [round(t1, 4), round(t2, 4), round(100*t1/t, 1) , round(100*t2/t, 1), round(100*t3/t, 1), round(100*t4/t, 1), round(t,5)] \n",
    "        df_result.loc['MEAN']= round(df_result[['Gini_train', 'Gini_test']].mean(), 4)\n",
    "        df_result.loc['STD']= round(df_result[['Gini_train', 'Gini_test']].std(), 4)\n",
    "        t = round((time.time() - tpar0), 2)\n",
    "        print(f'Run time for parameters {parameter_1} {parameter_2} is {t} sec.')\n",
    "        result_dict_2[parameter_2] = (df_result, bt, t)\n",
    "    result_dict_1[parameter_1] = result_dict_2"
   ]
  },
  {
   "cell_type": "code",
   "execution_count": null,
   "id": "c6e8be8e",
   "metadata": {
    "ExecuteTime": {
     "end_time": "2021-11-20T09:42:48.184755Z",
     "start_time": "2021-11-20T09:42:48.090096Z"
    }
   },
   "outputs": [],
   "source": [
    "#fn = 'tmp'\n",
    "fn = \"The_best_wide_with_times_optbin\" \n",
    "#save_obj(result_dict_1, fn)\n",
    "tmp = load_obj(fn)\n",
    "parameter_space_1 = [1] #min impurity decrease\n",
    "parameter_space_2 = [1] # min_samples_leaf"
   ]
  },
  {
   "cell_type": "code",
   "execution_count": null,
   "id": "5a1ae6ab",
   "metadata": {
    "ExecuteTime": {
     "end_time": "2021-11-20T10:36:59.303123Z",
     "start_time": "2021-11-20T10:36:59.279930Z"
    }
   },
   "outputs": [],
   "source": [
    "#fn = 'tmp'\n",
    "fn = \"The_best_wide_with_times\" \n",
    "save_obj(result_dict_1, fn)\n",
    "tmp = load_obj(fn)\n",
    "parameter_space_1 = [1] #min impurity decrease\n",
    "parameter_space_2 = [1] # min_samples_leaf"
   ]
  },
  {
   "cell_type": "code",
   "execution_count": null,
   "id": "bee25aef",
   "metadata": {
    "ExecuteTime": {
     "end_time": "2021-11-20T10:37:00.941539Z",
     "start_time": "2021-11-20T10:37:00.774023Z"
    }
   },
   "outputs": [],
   "source": [
    "tmp[1][1][1]"
   ]
  },
  {
   "cell_type": "code",
   "execution_count": null,
   "id": "1f5a196b",
   "metadata": {
    "ExecuteTime": {
     "end_time": "2021-11-20T10:36:14.958889Z",
     "start_time": "2021-11-20T10:36:14.942118Z"
    }
   },
   "outputs": [],
   "source": [
    "tt = tmp[parameter_1][parameter_2][0].loc[:, 'Run_time'][:-2]\n",
    "cn=['t_bin_sec', 't_woe_tr_sec', 't_bin_pct', 't_woe_tr_pct', 't_mod_pct', 't_ch_pct', 't_tot_sec']\n",
    "df_time = pd.DataFrame(columns=cn)\n",
    "for i in range(len(tt)):\n",
    "    df_time.loc[i, :] = np.array(tt[i])\n",
    "df_time.loc['mean', :] = df_time.mean()\n",
    "display(df_time)    "
   ]
  },
  {
   "cell_type": "code",
   "execution_count": null,
   "id": "93de5892",
   "metadata": {},
   "outputs": [],
   "source": [
    "tt = tmp[parameter_1][parameter_2][0].loc[:, 'Run_time'][:-2]\n",
    "cn=['t_bin_sec', 't_woe_tr_sec', 't_bin_pct', 't_woe_tr_pct', 't_mod_pct', 't_ch_pct', 't_tot_sec']\n",
    "df_time = pd.DataFrame(columns=cn)\n",
    "for i in range(len(tt)):\n",
    "    df_time.loc[i, :] = np.array(tt[i])\n",
    "df_time.loc['mean', :] = df_time.mean()\n",
    "display(df_time)    "
   ]
  },
  {
   "cell_type": "code",
   "execution_count": null,
   "id": "868d1cf8",
   "metadata": {},
   "outputs": [],
   "source": []
  },
  {
   "cell_type": "code",
   "execution_count": null,
   "id": "67e16a2b",
   "metadata": {},
   "outputs": [],
   "source": [
    "second_param_name = ''\n",
    "df_report_train = pd.DataFrame(columns=parameter_space_2) # parameter to plot cycle result\n",
    "df_report_test = pd.DataFrame(columns=parameter_space_2) # parameter to plot cycle result\n",
    "df_report_bins = pd.DataFrame(columns=parameter_space_2) # parameter to plot cycle result\n",
    "df_report_time = pd.DataFrame(columns=parameter_space_2) # parameter to plot cycle result\n",
    "\n",
    "for parameter_1 in parameter_space_1:\n",
    "    for parameter_2 in parameter_space_2:\n",
    "        df_report_train.loc[parameter_1, parameter_2] = tmp[parameter_1][parameter_2][0].loc['MEAN', 'Gini_train']\n",
    "        df_report_test.loc[parameter_1, parameter_2] = tmp[parameter_1][parameter_2][0].loc['MEAN', 'Gini_test']\n",
    "        df_report_bins.loc[parameter_1, parameter_2] = tmp[parameter_1][parameter_2][0].loc[1, 'N_bins']\n",
    "        df_report_time.loc[parameter_1, parameter_2] = tmp[parameter_1][parameter_2][0].loc[:, 'Run_time'][:-2]\n",
    "\n",
    "df_report_train.index.rename(second_param_name, inplace = True) \n",
    "df_report_test.index.rename(second_param_name, inplace = True) \n",
    "df_report_bins.index.rename(second_param_name, inplace = True) \n",
    "\n",
    "#display(df_report_train)\n",
    "#display(df_report_test)\n",
    "#display(df_report_bins)\n",
    "#display(df_report_time)\n"
   ]
  },
  {
   "cell_type": "code",
   "execution_count": null,
   "id": "f15408d5",
   "metadata": {},
   "outputs": [],
   "source": []
  },
  {
   "cell_type": "code",
   "execution_count": null,
   "id": "56b9f05d",
   "metadata": {},
   "outputs": [],
   "source": [
    "tmp[1][1][0]#.iloc[0,5][0]"
   ]
  },
  {
   "cell_type": "code",
   "execution_count": null,
   "id": "2166ae7c",
   "metadata": {},
   "outputs": [],
   "source": []
  },
  {
   "cell_type": "markdown",
   "id": "28cbf325",
   "metadata": {},
   "source": [
    "# Test sandbox "
   ]
  },
  {
   "cell_type": "code",
   "execution_count": null,
   "id": "4414fea6",
   "metadata": {
    "ExecuteTime": {
     "end_time": "2021-11-20T14:36:11.550459Z",
     "start_time": "2021-11-20T14:36:07.557243Z"
    }
   },
   "outputs": [],
   "source": [
    "dfs = spark.createDataFrame(df)"
   ]
  },
  {
   "cell_type": "code",
   "execution_count": null,
   "id": "46b84b2e",
   "metadata": {
    "ExecuteTime": {
     "end_time": "2021-11-20T13:34:41.237083Z",
     "start_time": "2021-11-20T13:34:40.993887Z"
    }
   },
   "outputs": [],
   "source": [
    "dfs.count()"
   ]
  },
  {
   "cell_type": "code",
   "execution_count": null,
   "id": "d13b445f",
   "metadata": {
    "ExecuteTime": {
     "end_time": "2021-11-20T17:06:38.523489Z",
     "start_time": "2021-11-20T17:06:38.332874Z"
    }
   },
   "outputs": [],
   "source": [
    "from pyspark.ml.classification import DecisionTreeClassifier\n",
    "\n",
    "vecAssembler = VectorAssembler(outputCol=\"features\")\n",
    "vecAssembler.setInputCols(dfs.columns[:1])\n",
    "vecAssembler.transform(dfs).select('features').show(4, truncate=False)\n",
    "output = vecAssembler.transform(dfs)\n",
    "df_model = output.select(['TARGET', 'features'])\n",
    "df_model.show(5)\n",
    "\n",
    "dtree = DecisionTreeClassifier(featuresCol=\"features\",\n",
    "                               labelCol=\"TARGET\",\n",
    "                               maxDepth=3,maxBins=30)\n",
    "m1 = dtree.fit(df_model)\n",
    "m1.depth"
   ]
  },
  {
   "cell_type": "code",
   "execution_count": null,
   "id": "6901c0dc",
   "metadata": {
    "ExecuteTime": {
     "end_time": "2021-11-20T17:08:35.224789Z",
     "start_time": "2021-11-20T17:08:33.335475Z"
    }
   },
   "outputs": [],
   "source": [
    "from pyspark.ml.classification import DecisionTreeClassifier\n",
    "\n",
    "dtree = DecisionTreeClassifier(featuresCol=\"features\",\n",
    "                               labelCol=\"TARGET\",\n",
    "                               maxDepth=3,maxBins=30)\n",
    "m1 = dtree.fit(df_model)"
   ]
  },
  {
   "cell_type": "code",
   "execution_count": null,
   "id": "fa04d011",
   "metadata": {
    "ExecuteTime": {
     "end_time": "2021-11-21T05:25:09.629458Z",
     "start_time": "2021-11-21T05:25:09.529006Z"
    }
   },
   "outputs": [],
   "source": [
    "print(m1)"
   ]
  },
  {
   "cell_type": "code",
   "execution_count": null,
   "id": "5ebc279b",
   "metadata": {
    "ExecuteTime": {
     "end_time": "2021-11-21T05:23:57.571128Z",
     "start_time": "2021-11-21T05:23:57.475456Z"
    }
   },
   "outputs": [],
   "source": [
    "m1.stages"
   ]
  },
  {
   "cell_type": "code",
   "execution_count": null,
   "id": "230f82ac",
   "metadata": {},
   "outputs": [],
   "source": []
  },
  {
   "cell_type": "code",
   "execution_count": null,
   "id": "f6694bdb",
   "metadata": {},
   "outputs": [],
   "source": []
  },
  {
   "cell_type": "code",
   "execution_count": null,
   "id": "8af296c9",
   "metadata": {
    "ExecuteTime": {
     "end_time": "2021-11-20T12:44:49.080231Z",
     "start_time": "2021-11-20T12:44:49.076364Z"
    }
   },
   "outputs": [],
   "source": [
    "dfs.columns"
   ]
  },
  {
   "cell_type": "code",
   "execution_count": null,
   "id": "735d94eb",
   "metadata": {
    "ExecuteTime": {
     "end_time": "2021-11-20T13:22:21.896793Z",
     "start_time": "2021-11-20T13:22:21.891501Z"
    }
   },
   "outputs": [],
   "source": [
    "def row2LabeledPoint(target,predictors,row):\n",
    "        pvals = []\n",
    "        for predictor in predictors:        \n",
    "                pval = getattr(row,predictor)        \n",
    "                pvals.append(float(pval))\n",
    "        tval = getattr(row,target)   \n",
    "        return LabeledPoint(float(tval),DenseVector(pvals))"
   ]
  },
  {
   "cell_type": "code",
   "execution_count": null,
   "id": "7090df42",
   "metadata": {
    "ExecuteTime": {
     "end_time": "2021-11-20T13:37:23.367909Z",
     "start_time": "2021-11-20T13:37:23.286302Z"
    }
   },
   "outputs": [],
   "source": []
  },
  {
   "cell_type": "code",
   "execution_count": null,
   "id": "a3642309",
   "metadata": {
    "ExecuteTime": {
     "end_time": "2021-11-20T15:04:29.437196Z",
     "start_time": "2021-11-20T15:04:29.427555Z"
    }
   },
   "outputs": [],
   "source": [
    "#df_model_rdd = dfs.rdd.map(lambda row: row2LabeledPoint(target, variables, row))\n",
    "#df_model_rdd = dfs.rdd.map(lambda row: row2LabeledPoint(target, ['DAYS_EMPLOYED'], row))\n",
    "df_model_rdd = dfs_tmp.map(lambda row: row)\n",
    "                          \n",
    "                           \n",
    "                           \n",
    "                           #LabeledPoint(float(getattr(row,'TARGE')), \\\n",
    "                            #            DenseVector(getattr(row,['DAYS_EMPLOYED']))))\n"
   ]
  },
  {
   "cell_type": "code",
   "execution_count": null,
   "id": "3eea6278",
   "metadata": {
    "ExecuteTime": {
     "end_time": "2021-11-20T15:03:55.347770Z",
     "start_time": "2021-11-20T15:03:54.892381Z"
    }
   },
   "outputs": [],
   "source": [
    "df_model_rdd.collect()"
   ]
  },
  {
   "cell_type": "code",
   "execution_count": null,
   "id": "7f1fdbce",
   "metadata": {
    "ExecuteTime": {
     "end_time": "2021-11-20T15:33:29.419603Z",
     "start_time": "2021-11-20T15:33:27.966594Z"
    }
   },
   "outputs": [],
   "source": [
    "from pyspark.mllib.tree import DecisionTree, DecisionTreeModel\n",
    "from pyspark.mllib.util import MLUtils\n",
    "\n",
    "# Load and parse the data file into an RDD of LabeledPoint.\n",
    "data = MLUtils.loadLibSVMFile(sc, 'sample_libsvm_data.txt')\n",
    "# Split the data into training and test sets (30% held out for testing)\n",
    "(trainingData, testData) = data.randomSplit([0.7, 0.3])\n",
    "\n",
    "# Train a DecisionTree model.\n",
    "#  Empty categoricalFeaturesInfo indicates all features are continuous.\n",
    "model = DecisionTree.trainClassifier(trainingData, numClasses=2, categoricalFeaturesInfo={},\n",
    "                                     impurity='gini', maxDepth=5, maxBins=32)\n",
    "\n",
    "# Evaluate model on test instances and compute test error\n",
    "predictions = model.predict(testData.map(lambda x: x.features))"
   ]
  },
  {
   "cell_type": "code",
   "execution_count": null,
   "id": "520ac8a5",
   "metadata": {
    "ExecuteTime": {
     "end_time": "2021-11-20T15:33:37.892207Z",
     "start_time": "2021-11-20T15:33:37.888149Z"
    }
   },
   "outputs": [],
   "source": [
    "model"
   ]
  },
  {
   "cell_type": "code",
   "execution_count": null,
   "id": "ed923070",
   "metadata": {},
   "outputs": [],
   "source": []
  },
  {
   "cell_type": "code",
   "execution_count": null,
   "id": "0f5888d3",
   "metadata": {},
   "outputs": [],
   "source": []
  },
  {
   "cell_type": "code",
   "execution_count": null,
   "id": "a11b6641",
   "metadata": {
    "ExecuteTime": {
     "end_time": "2021-11-20T15:33:47.633031Z",
     "start_time": "2021-11-20T15:33:47.630558Z"
    }
   },
   "outputs": [],
   "source": [
    "#model = DecisionTree.trainClassifier(df_model_rdd, numClasses=2, categoricalFeaturesInfo={})"
   ]
  },
  {
   "cell_type": "code",
   "execution_count": null,
   "id": "6b9d9536",
   "metadata": {
    "ExecuteTime": {
     "end_time": "2021-11-20T15:35:12.103360Z",
     "start_time": "2021-11-20T15:35:12.097643Z"
    }
   },
   "outputs": [],
   "source": [
    "#root = model.call(\"topNode\")\n",
    "model.call(\"topNode\").leftchild"
   ]
  },
  {
   "cell_type": "code",
   "execution_count": null,
   "id": "63fdf689",
   "metadata": {
    "ExecuteTime": {
     "end_time": "2021-11-20T15:33:59.398166Z",
     "start_time": "2021-11-20T15:33:59.394325Z"
    }
   },
   "outputs": [],
   "source": [
    "print(model.toDebugString())"
   ]
  },
  {
   "cell_type": "code",
   "execution_count": null,
   "id": "adff5bbd",
   "metadata": {},
   "outputs": [],
   "source": []
  },
  {
   "cell_type": "code",
   "execution_count": null,
   "id": "07cc02d7",
   "metadata": {},
   "outputs": [],
   "source": []
  },
  {
   "cell_type": "code",
   "execution_count": null,
   "id": "ab53a491",
   "metadata": {},
   "outputs": [],
   "source": []
  },
  {
   "cell_type": "code",
   "execution_count": null,
   "id": "8dd77c34",
   "metadata": {
    "ExecuteTime": {
     "end_time": "2021-11-20T11:25:27.423729Z",
     "start_time": "2021-11-20T11:25:27.142751Z"
    }
   },
   "outputs": [],
   "source": [
    "# playing with CART PySpark\n",
    "bin_method = CART(max_leaf_nodes=2048,\n",
    "                    min_impurity_decrease=0.00001, ccp_alpha = 0,\n",
    "                    criterion = 'entropy', min_samples_leaf=2048, n_jobs = -1)\n",
    "\n",
    "df_train, df_test = train_test_split(df, test_size=0.30)#, stratify=df[target])\n",
    "df_train = df_train.reset_index()\n",
    "df_test = df_test.reset_index()\n",
    "tmp = get_edges_dict(df_train, variables, target, \n",
    "                     verbose=False, bin_method=bin_method)\n",
    "ed = tmp[0]\n",
    "bt = tmp[1]"
   ]
  },
  {
   "cell_type": "code",
   "execution_count": null,
   "id": "4dc57600",
   "metadata": {},
   "outputs": [],
   "source": [
    "df.EXT_SOURCE_3.hist()"
   ]
  },
  {
   "cell_type": "code",
   "execution_count": null,
   "id": "787f29c4",
   "metadata": {},
   "outputs": [],
   "source": []
  },
  {
   "cell_type": "code",
   "execution_count": null,
   "id": "13b492f2",
   "metadata": {},
   "outputs": [],
   "source": [
    "df_tmp = df_woe_train\n",
    "print(\"printing column name where infinity is present\")\n",
    "col_name = df_tmp.columns.to_series()[np.isinf(df_tmp).any()]\n",
    "print(col_name)\n"
   ]
  },
  {
   "cell_type": "code",
   "execution_count": null,
   "id": "75f55ad9",
   "metadata": {},
   "outputs": [],
   "source": [
    "np.isinf(df_tmp)#.any()"
   ]
  },
  {
   "cell_type": "code",
   "execution_count": null,
   "id": "27826262",
   "metadata": {},
   "outputs": [],
   "source": [
    "np.isinf(df_tmp).any()"
   ]
  },
  {
   "cell_type": "code",
   "execution_count": null,
   "id": "ee056e6e",
   "metadata": {},
   "outputs": [],
   "source": [
    "variable = variables[1]\n",
    "x = df[variable].values\n",
    "y = df[target]\n",
    "bm = OptimalBinning(name = variable, max_pvalue=0.3, max_pvalue_policy='all')\n",
    "bm.fit(x, y)\n",
    "\n",
    "bt = bm.binning_table\n",
    "bt.build()\n",
    "\n",
    "bt.plot()"
   ]
  },
  {
   "cell_type": "code",
   "execution_count": null,
   "id": "54b82276",
   "metadata": {},
   "outputs": [],
   "source": [
    "bt.analysis()"
   ]
  },
  {
   "cell_type": "code",
   "execution_count": null,
   "id": "1f87d8e4",
   "metadata": {},
   "outputs": [],
   "source": [
    "bt.build()\n"
   ]
  },
  {
   "cell_type": "code",
   "execution_count": null,
   "id": "2869a335",
   "metadata": {},
   "outputs": [],
   "source": [
    "bt.build()\n",
    "# p-val = 0.3"
   ]
  },
  {
   "cell_type": "code",
   "execution_count": null,
   "id": "63865582",
   "metadata": {},
   "outputs": [],
   "source": [
    "bt.analysis()"
   ]
  },
  {
   "cell_type": "code",
   "execution_count": null,
   "id": "3149263b",
   "metadata": {},
   "outputs": [],
   "source": []
  },
  {
   "cell_type": "code",
   "execution_count": null,
   "id": "bec045c4",
   "metadata": {},
   "outputs": [],
   "source": [
    "bt.build()"
   ]
  },
  {
   "cell_type": "code",
   "execution_count": null,
   "id": "3622cda7",
   "metadata": {},
   "outputs": [],
   "source": []
  },
  {
   "cell_type": "code",
   "execution_count": null,
   "id": "706cca38",
   "metadata": {},
   "outputs": [],
   "source": [
    "target = 'TARGET'\n",
    "variables = ['DAYS_EMPLOYED', 'AMT_GOODS_PRICE', 'EXT_SOURCE_3']\n",
    "df0 = d0.select(variables + [target]).toPandas()\n",
    "df0.DAYS_EMPLOYED.replace(365243, np.nan, inplace=True)\n",
    "df = df0.dropna(axis=0)\n",
    "df.shape"
   ]
  },
  {
   "cell_type": "code",
   "execution_count": null,
   "id": "442c1e84",
   "metadata": {},
   "outputs": [],
   "source": [
    "i = 2\n",
    "bt = bin_table(df, variables[i], target, ed[variables[i]])"
   ]
  },
  {
   "cell_type": "code",
   "execution_count": null,
   "id": "656402b6",
   "metadata": {},
   "outputs": [],
   "source": [
    "bt"
   ]
  },
  {
   "cell_type": "code",
   "execution_count": null,
   "id": "797d0843",
   "metadata": {},
   "outputs": [],
   "source": [
    "result_dict_1[0.01]['iv']"
   ]
  },
  {
   "cell_type": "code",
   "execution_count": null,
   "id": "476d5b9f",
   "metadata": {},
   "outputs": [],
   "source": [
    "def save_obj(obj, name ):\n",
    "    with open('obj/'+ name + '.pkl', 'wb') as f:\n",
    "        pickle.dump(obj, f, pickle.HIGHEST_PROTOCOL)\n",
    "\n",
    "def load_obj(name ):\n",
    "    with open('obj/' + name + '.pkl', 'rb') as f:\n",
    "        return pickle.load(f)"
   ]
  },
  {
   "cell_type": "code",
   "execution_count": null,
   "id": "c78b3b91",
   "metadata": {},
   "outputs": [],
   "source": [
    "save_obj(result_dict_1, \"result_dict_1\")\n",
    "tmp = load_obj('result_dict_1')\n",
    "tmp[0.01]['iv'][1].build()"
   ]
  },
  {
   "cell_type": "code",
   "execution_count": null,
   "id": "f8213313",
   "metadata": {},
   "outputs": [],
   "source": []
  },
  {
   "cell_type": "code",
   "execution_count": null,
   "id": "388cd411",
   "metadata": {},
   "outputs": [],
   "source": []
  },
  {
   "cell_type": "code",
   "execution_count": null,
   "id": "1829c4ee",
   "metadata": {},
   "outputs": [],
   "source": [
    "#t\n",
    "v = 'EXT_SOURCE_3'\n",
    "bin_table(df, v, target, ed[v])"
   ]
  },
  {
   "cell_type": "code",
   "execution_count": null,
   "id": "c745be5f",
   "metadata": {},
   "outputs": [],
   "source": [
    "#t\n",
    "#df_train, df_test = train_test_split(df, test_size=0.30)#, stratify=df[target])\n",
    "bin_method = MDLP(min_samples_split=2, min_samples_leaf=25000, max_candidates=32)\n",
    "#bin_method = OptimalBinning()\n",
    "ed = get_edges_dict(df_train, variables, target, verbose=False, bin_method=bin_method)\n",
    "ed"
   ]
  },
  {
   "cell_type": "code",
   "execution_count": null,
   "id": "93690097",
   "metadata": {},
   "outputs": [],
   "source": [
    "#t\n",
    "#del(est)\n",
    "bin_method = MDLP(min_samples_split=2, min_samples_leaf=2500, max_candidates=32)\n",
    "variable = 'AMT_GOODS_PRICE'\n",
    "ind_tmp = df[variable].isna()\n",
    "x = df[variable][~ind_tmp].values\n",
    "y = df[target][~ind_tmp]\n",
    "print(x.shape, y.shape, x.min(), x.max())\n",
    "bin_method.fit(x, y)\n",
    "tmp = bin_method.splits\n",
    "tmp1 = tmp.tolist()\n",
    "bins1 = tmp1\n",
    "print(f'type bin1 {type(bins1)}')\n",
    "print(f'bins1: {bins1}; len bins2: {len(bins1)}')\n",
    "bt = bin_table(df, variable, target, np.array(bins1))\n",
    "display(bt)\n",
    "\n",
    "variable = 'DAYS_EMPLOYED'\n",
    "ind_tmp = df[variable].isna()\n",
    "x = df[variable][~ind_tmp].values\n",
    "y = df[target][~ind_tmp]\n",
    "print(x.shape, y.shape, x.min(), x.max())\n",
    "bin_method.fit(x, y)\n",
    "tmp = bin_method.splits\n",
    "tmp2 = tmp.tolist()\n",
    "print(f'tmp2 {tmp2}; len tmp2: {len(tmp2)}')\n",
    "\n",
    "for e in bins1:\n",
    "    tmp2.remove(e)\n",
    "    print(f'after removing {e} we have in tmp2 {len(tmp2)} elements')\n",
    "    print(f'tmp2 : {tmp2}')\n",
    "    print('')\n",
    "bins2 = tmp2        \n",
    "print(f'type bins2: {type(bins2)}; len bins2: {len(bins2)}')\n",
    "print(f'bins2 {bins2}')\n",
    "bt = bin_table(df, variable, target, np.array(bins2))\n",
    "display(bt)"
   ]
  },
  {
   "cell_type": "code",
   "execution_count": null,
   "id": "0264e5cf",
   "metadata": {},
   "outputs": [],
   "source": [
    "# # stable as of 4/11 morning\n",
    "# def WOE_transform(df, variable, target, edges):\n",
    "#     '''\n",
    "#     optimized version\n",
    "#     returns df with new column f'{variable}_woe' - WOE transormed variable\n",
    "#     first it uses bin_table function\n",
    "#     '''  \n",
    "#     btf = bin_table(df, variable, target, edges)\n",
    "#     woe_index = np.searchsorted(edges, df[variable].values)\n",
    "#     df_tmp = df.copy()\n",
    "#     df_tmp[f'{variable}_WoE'] = [btf.WoE[i] for i in woe_index]\n",
    "#     tmp = btf.WoE[btf.shape[0]-2]\n",
    "#     df_tmp.loc[df_tmp[variable].isna(), f'{variable}_WoE'] = tmp\n",
    "\n",
    "#     #df_tmp[f'{variable}_WoE'][df_tmp[variable].isna()] = tmp\n",
    "    \n",
    "#     return df_tmp"
   ]
  },
  {
   "cell_type": "code",
   "execution_count": null,
   "id": "885408cb",
   "metadata": {},
   "outputs": [],
   "source": [
    "11"
   ]
  },
  {
   "cell_type": "markdown",
   "id": "5edab2f5",
   "metadata": {},
   "source": [
    "# pySpark ML test sbx"
   ]
  },
  {
   "cell_type": "code",
   "execution_count": null,
   "id": "3d079ab7",
   "metadata": {
    "ExecuteTime": {
     "end_time": "2021-11-21T10:50:50.042271Z",
     "start_time": "2021-11-21T10:50:50.037748Z"
    }
   },
   "outputs": [],
   "source": [
    "from pyspark import SparkContext, SQLContext\n",
    "from pyspark.ml import Pipeline\n",
    "from pyspark.ml.classification import DecisionTreeClassifier as DTC_spark\n",
    "from pyspark.ml.feature import StringIndexer, VectorIndexer\n",
    "from pyspark.ml.feature import VectorAssembler\n",
    "from pyspark.ml.evaluation import MulticlassClassificationEvaluator\n",
    "\n",
    "sqlContext = SQLContext(sc)"
   ]
  },
  {
   "cell_type": "code",
   "execution_count": null,
   "id": "cb1c4e71",
   "metadata": {
    "ExecuteTime": {
     "end_time": "2021-11-21T05:41:36.261696Z",
     "start_time": "2021-11-21T05:41:35.375469Z"
    },
    "code_folding": [
     0
    ]
   },
   "outputs": [],
   "source": [
    "#basic examle\n",
    "data = sqlContext.read.format(\"libsvm\").load(\"sample_libsvm_data.txt\")\n",
    "labelIndexer = StringIndexer(inputCol=\"label\", outputCol=\"indexedLabel\").fit(data)\n",
    "featureIndexer =\\\n",
    "    VectorIndexer(inputCol=\"features\", outputCol=\"indexedFeatures\", maxCategories=4).fit(data)\n",
    "(trainingData, testData) = data.randomSplit([0.7, 0.3])\n",
    "dt = DecisionTreeClassifier(labelCol=\"indexedLabel\", featuresCol=\"indexedFeatures\")\n",
    "pipeline = Pipeline(stages=[labelIndexer, featureIndexer, dt])\n",
    "model = pipeline.fit(trainingData)\n",
    "\n",
    "predictions = model.transform(testData)\n",
    "model.stages[2]\n",
    "\n",
    "print(model.stages[2].toDebugString)"
   ]
  },
  {
   "cell_type": "code",
   "execution_count": null,
   "id": "48e4f6d4",
   "metadata": {
    "ExecuteTime": {
     "end_time": "2021-11-21T05:53:57.637884Z",
     "start_time": "2021-11-21T05:53:57.633967Z"
    }
   },
   "outputs": [],
   "source": [
    "model.stages[2].numNodes"
   ]
  },
  {
   "cell_type": "code",
   "execution_count": null,
   "id": "3ddc5432",
   "metadata": {},
   "outputs": [],
   "source": []
  },
  {
   "cell_type": "code",
   "execution_count": null,
   "id": "78ad428b",
   "metadata": {
    "ExecuteTime": {
     "end_time": "2021-11-21T10:46:45.052090Z",
     "start_time": "2021-11-21T10:46:43.337771Z"
    }
   },
   "outputs": [],
   "source": [
    "#data = d0.select('TARGET', 'DAYS_EMPLOYED')\n",
    "data = d0.filter(d0.DAYS_EMPLOYED != 365243).select('TARGET', 'DAYS_EMPLOYED')\n",
    "data.count()"
   ]
  },
  {
   "cell_type": "code",
   "execution_count": null,
   "id": "f57c1daf",
   "metadata": {
    "ExecuteTime": {
     "end_time": "2021-11-21T07:10:17.609144Z",
     "start_time": "2021-11-21T07:10:14.426270Z"
    },
    "code_folding": [
     0
    ]
   },
   "outputs": [],
   "source": [
    "# to undestand vector/ indexer logic\n",
    "assembler = VectorAssembler(inputCols=[\"DAYS_EMPLOYED\"], \n",
    "                            outputCol=\"DAYS_EMPLOYED_vect\")\n",
    "data_vect = assembler.transform(data)\n",
    "\n",
    "labelIndexer = StringIndexer(inputCol=\"TARGET\", \n",
    "                             outputCol=\"TARGET_ind\").fit(data_vect)\n",
    "featureIndexer = VectorIndexer(inputCol=\"DAYS_EMPLOYED_vect\", \n",
    "                               outputCol=\"DAYS_EMPLOYED_ind\",\n",
    "                               maxCategories=4).fit(data_vect)\n",
    "\n",
    "data_indexed = featureIndexer.transform(data_vect)\n",
    "data_indexed.show(5, truncate=40)\n"
   ]
  },
  {
   "cell_type": "code",
   "execution_count": null,
   "id": "91db5aa4",
   "metadata": {
    "ExecuteTime": {
     "end_time": "2021-11-21T10:47:28.895935Z",
     "start_time": "2021-11-21T10:47:21.021587Z"
    },
    "code_folding": [
     0
    ]
   },
   "outputs": [],
   "source": [
    "# run the pipeline on days employed WITH INDEXER\n",
    "assembler = VectorAssembler(inputCols=[\"DAYS_EMPLOYED\"], \n",
    "                            outputCol=\"DAYS_EMPLOYED_vect\")\n",
    "data_vect = assembler.transform(data)\n",
    "\n",
    "labelIndexer = StringIndexer(inputCol=\"TARGET\", \n",
    "                             outputCol=\"TARGET_ind\").fit(data_vect)\n",
    "featureIndexer = VectorIndexer(inputCol=\"DAYS_EMPLOYED_vect\", \n",
    "                               outputCol=\"DAYS_EMPLOYED_ind\",\n",
    "                               maxCategories=4).fit(data_vect)\n",
    "(trainingData, testData) = data.randomSplit([0.7, 0.3])\n",
    "\n",
    "dt = DTC_spark(labelCol=\"TARGET_ind\", \n",
    "                            featuresCol=\"DAYS_EMPLOYED_ind\",\n",
    "                            minInfoGain=0)\n",
    "\n",
    "pipeline = Pipeline(stages=[assembler, labelIndexer, featureIndexer, dt])\n",
    "model = pipeline.fit(trainingData)"
   ]
  },
  {
   "cell_type": "code",
   "execution_count": null,
   "id": "11034efc",
   "metadata": {},
   "outputs": [],
   "source": []
  },
  {
   "cell_type": "markdown",
   "id": "046db8ed",
   "metadata": {},
   "source": [
    "## DT on d0"
   ]
  },
  {
   "cell_type": "code",
   "execution_count": null,
   "id": "4520cdc7",
   "metadata": {
    "ExecuteTime": {
     "end_time": "2021-11-21T10:51:57.699617Z",
     "start_time": "2021-11-21T10:51:56.439441Z"
    }
   },
   "outputs": [],
   "source": [
    "#data = d0.select('TARGET', 'DAYS_EMPLOYED')\n",
    "data = d0.filter(d0.DAYS_EMPLOYED != 365243).select('TARGET', 'DAYS_EMPLOYED')\n",
    "data.count()"
   ]
  },
  {
   "cell_type": "code",
   "execution_count": null,
   "id": "1f6046b8",
   "metadata": {
    "ExecuteTime": {
     "end_time": "2021-11-21T10:51:59.341887Z",
     "start_time": "2021-11-21T10:51:59.300162Z"
    }
   },
   "outputs": [],
   "source": [
    "data.rdd.getNumPartitions()"
   ]
  },
  {
   "cell_type": "code",
   "execution_count": null,
   "id": "b8d77e31",
   "metadata": {
    "ExecuteTime": {
     "end_time": "2021-11-21T13:18:35.113410Z",
     "start_time": "2021-11-21T13:18:34.910722Z"
    }
   },
   "outputs": [],
   "source": [
    "assembler = VectorAssembler(inputCols=[\"DAYS_EMPLOYED\"], \n",
    "                            outputCol=\"DAYS_EMPLOYED_vect\")\n",
    "data_ass = assembler.transform(data)\n",
    "#(trainingData, testData) = data_ass.randomSplit([0.7, 0.3])\n",
    "data_ass.cache()"
   ]
  },
  {
   "cell_type": "code",
   "execution_count": null,
   "id": "3bba82c0",
   "metadata": {
    "ExecuteTime": {
     "end_time": "2021-11-21T13:18:45.825395Z",
     "start_time": "2021-11-21T13:18:43.539060Z"
    }
   },
   "outputs": [],
   "source": [
    "data_ass.count()"
   ]
  },
  {
   "cell_type": "code",
   "execution_count": null,
   "id": "dbe56f66",
   "metadata": {
    "ExecuteTime": {
     "end_time": "2021-11-21T13:39:00.638199Z",
     "start_time": "2021-11-21T13:38:50.667616Z"
    }
   },
   "outputs": [],
   "source": [
    "# run the pipeline on days employed WITHOUR INDEXER and pipeline\n",
    "dt = DTC_spark(labelCol=\"TARGET\",\n",
    "               featuresCol=\"DAYS_EMPLOYED_vect\",\n",
    "               minInfoGain=0.0001,\n",
    "               impurity='entropy',\n",
    "               maxDepth=14, maxBins=2**14, # it differs from scikit learn - it means number of canidate split points\n",
    "#                minInstancesPerNode = 1,\n",
    "#                checkpointInterval = 10\n",
    "               )\n",
    "model = dt.fit(data_ass)\n",
    "model\n",
    "# predictions = model.transform(t"
   ]
  },
  {
   "cell_type": "markdown",
   "id": "7f699a62",
   "metadata": {},
   "source": [
    "### Compare with Scikit-learn"
   ]
  },
  {
   "cell_type": "code",
   "execution_count": null,
   "id": "09f4cd64",
   "metadata": {
    "ExecuteTime": {
     "end_time": "2021-11-21T11:01:05.323978Z",
     "start_time": "2021-11-21T11:01:04.956425Z"
    }
   },
   "outputs": [],
   "source": [
    "#data_pd = data.toPandas()\n",
    "variable = \"DAYS_EMPLOYED\"\n",
    "target = \"TARGET\"\n",
    "x = data_pd[variable].values.reshape(-1,1)\n",
    "y = data_pd[target]\n",
    "dt_scl = DecisionTreeClassifier()\n",
    "dt_scl.fit(x, y)\n",
    "dt_scl.tree_.node_count"
   ]
  },
  {
   "cell_type": "markdown",
   "id": "d6d8caa4",
   "metadata": {},
   "source": [
    "## Extract edges"
   ]
  },
  {
   "cell_type": "code",
   "execution_count": null,
   "id": "8181c2b8",
   "metadata": {
    "ExecuteTime": {
     "end_time": "2021-11-21T12:01:40.397998Z",
     "start_time": "2021-11-21T12:01:40.393092Z"
    },
    "scrolled": true
   },
   "outputs": [],
   "source": [
    "print(model.toDebugString)"
   ]
  },
  {
   "cell_type": "markdown",
   "id": "b89296ea",
   "metadata": {},
   "source": [
    "## Artificial example\n"
   ]
  },
  {
   "cell_type": "code",
   "execution_count": null,
   "id": "54e64ee9",
   "metadata": {
    "ExecuteTime": {
     "end_time": "2021-11-21T10:49:34.594409Z",
     "start_time": "2021-11-21T10:49:34.367675Z"
    }
   },
   "outputs": [],
   "source": [
    "tmp1 = np.linspace(1,10000, 10000)\n",
    "tmp2 = [0 if (x> 7550) | (x<2000) else 1 for x in tmp1]\n",
    "tmp = pd.DataFrame(data={'TARGET': tmp2, 'DAYS_EMPLOYED': tmp1})\n",
    "tmp.loc[((tmp.DAYS_EMPLOYED >5000)&(tmp.DAYS_EMPLOYED <6000)), 'TARGET'] = 0\n",
    "DecisionTreeClassifier\n",
    "data = spark.createDataFrame(tmp)\n",
    "data.show(5)"
   ]
  },
  {
   "cell_type": "code",
   "execution_count": null,
   "id": "240bd42b",
   "metadata": {
    "ExecuteTime": {
     "end_time": "2021-11-21T10:49:36.254410Z",
     "start_time": "2021-11-21T10:49:36.223889Z"
    }
   },
   "outputs": [],
   "source": [
    "assembler = VectorAssembler(inputCols=[\"DAYS_EMPLOYED\"], \n",
    "                            outputCol=\"DAYS_EMPLOYED_vect\")\n",
    "data_ass = assembler.transform(data)\n",
    "(trainingData, testData) = data_ass.randomSplit([0.7, 0.3])\n",
    "trainingData.cache()"
   ]
  },
  {
   "cell_type": "code",
   "execution_count": null,
   "id": "b45d7418",
   "metadata": {
    "ExecuteTime": {
     "end_time": "2021-11-21T10:49:39.135731Z",
     "start_time": "2021-11-21T10:49:38.624269Z"
    }
   },
   "outputs": [],
   "source": [
    "# run the pipeline on days employed WITHOUR INDEXER and pipeline\n",
    "dt = DTC_spark(labelCol=\"TARGET\", \n",
    "                            featuresCol=\"DAYS_EMPLOYED_vect\",\n",
    "                            minInfoGain=0,\n",
    "                            impurity='entropy',\n",
    "                            maxDepth=5, maxBins=64, \n",
    "                           )\n",
    "model = dt.fit(trainingData)\n",
    "# predictions = model.transform(testData)"
   ]
  },
  {
   "cell_type": "code",
   "execution_count": null,
   "id": "ea40996c",
   "metadata": {
    "ExecuteTime": {
     "end_time": "2021-11-21T10:49:40.352184Z",
     "start_time": "2021-11-21T10:49:40.348097Z"
    }
   },
   "outputs": [],
   "source": [
    "model"
   ]
  },
  {
   "cell_type": "code",
   "execution_count": null,
   "id": "274eb5e9",
   "metadata": {
    "ExecuteTime": {
     "end_time": "2021-11-21T10:49:43.685255Z",
     "start_time": "2021-11-21T10:49:43.682222Z"
    },
    "scrolled": true
   },
   "outputs": [],
   "source": [
    "print(model.toDebugString)"
   ]
  },
  {
   "cell_type": "markdown",
   "id": "481dbbed",
   "metadata": {},
   "source": [
    "## the GCP experiment (the base line)\n",
    "- the best result with 1 partition only"
   ]
  },
  {
   "cell_type": "code",
   "execution_count": null,
   "id": "9c452e00",
   "metadata": {
    "ExecuteTime": {
     "end_time": "2021-11-21T16:51:52.609831Z",
     "start_time": "2021-11-21T16:51:49.638420Z"
    },
    "deletable": false,
    "editable": false,
    "run_control": {
     "frozen": true
    }
   },
   "outputs": [],
   "source": [
    "data = d0.filter(d0.DAYS_EMPLOYED != 365243).select('TARGET', \n",
    "                                                    'DAYS_EMPLOYED')\n",
    "print(data.count())\n",
    "assembler = VectorAssembler(inputCols=[\"DAYS_EMPLOYED\"], \n",
    "                            outputCol=\"DAYS_EMPLOYED_vect\")\n",
    "df_gcp = assembler.transform(data)\n",
    "df_gcp.cache()\n",
    "df_gcp.count()"
   ]
  },
  {
   "cell_type": "code",
   "execution_count": null,
   "id": "1265695a",
   "metadata": {
    "ExecuteTime": {
     "end_time": "2021-11-21T16:53:28.837809Z",
     "start_time": "2021-11-21T16:53:28.804054Z"
    },
    "deletable": false,
    "editable": false,
    "run_control": {
     "frozen": true
    },
    "scrolled": true
   },
   "outputs": [],
   "source": [
    "# local\n",
    "print(df_gcp.rdd.getNumPartitions())\n",
    "df_gcp = df_gcp.repartition(1)\n",
    "df_gcp.cache()\n",
    "print(df_gcp.rdd.getNumPartitions())\n",
    "spark.sparkContext.getConf().getAll()"
   ]
  },
  {
   "cell_type": "code",
   "execution_count": null,
   "id": "6e8e1294",
   "metadata": {
    "ExecuteTime": {
     "end_time": "2021-11-21T16:54:40.291309Z",
     "start_time": "2021-11-21T16:54:32.276820Z"
    },
    "deletable": false,
    "editable": false,
    "run_control": {
     "frozen": true
    }
   },
   "outputs": [],
   "source": [
    "# local\n",
    "\n",
    "# run the pipeline on days employed WITHOUR INDEXER and pipeline\n",
    "dt = DTC_spark(labelCol=\"TARGET\",\n",
    "               featuresCol=\"DAYS_EMPLOYED_vect\",\n",
    "               minInfoGain=0.0001,\n",
    "               impurity='entropy',\n",
    "               maxDepth=14, maxBins=2**14, # it differs from scikit learn - it means number of canidate split points\n",
    "               #minInstancesPerNode = 1,\n",
    "               #checkpointInterval = 10\n",
    "               )\n",
    "model = dt.fit(df_gcp)\n",
    "model"
   ]
  },
  {
   "cell_type": "markdown",
   "id": "671b4754",
   "metadata": {},
   "source": [
    "## 10 * DF"
   ]
  },
  {
   "cell_type": "code",
   "execution_count": 70,
   "id": "8e9ef9a2",
   "metadata": {
    "ExecuteTime": {
     "end_time": "2021-11-22T06:17:37.463658Z",
     "start_time": "2021-11-22T06:17:35.138957Z"
    }
   },
   "outputs": [
    {
     "name": "stderr",
     "output_type": "stream",
     "text": [
      "                                                                                \r"
     ]
    },
    {
     "name": "stdout",
     "output_type": "stream",
     "text": [
      "252137\n"
     ]
    }
   ],
   "source": [
    "data = d0.filter(d0.DAYS_EMPLOYED != 365243).select('TARGET', \n",
    "                                                    'DAYS_EMPLOYED')\n",
    "print(data.count())\n"
   ]
  },
  {
   "cell_type": "code",
   "execution_count": 82,
   "id": "44e23963",
   "metadata": {
    "ExecuteTime": {
     "end_time": "2021-11-22T07:24:18.232071Z",
     "start_time": "2021-11-22T07:24:17.931343Z"
    }
   },
   "outputs": [],
   "source": [
    "data_new = data\n",
    "for i in range(14):\n",
    "    data_tmp = data.select('TARGET', \\\n",
    "                         f.col('DAYS_EMPLOYED')*(f.lit(0.995) + f.rand()/100)).\\\n",
    "                       toDF('TARGET','DAYS_EMPLOYED')\n",
    "    data_tmp = data_tmp.select('TARGET', f.floor('DAYS_EMPLOYED'))\n",
    "    data_new = data_new.union(data_tmp)\n",
    "    #print(data_new.count())\n"
   ]
  },
  {
   "cell_type": "code",
   "execution_count": 83,
   "id": "702d3172",
   "metadata": {
    "ExecuteTime": {
     "end_time": "2021-11-22T07:24:53.288749Z",
     "start_time": "2021-11-22T07:24:20.154156Z"
    }
   },
   "outputs": [
    {
     "name": "stdout",
     "output_type": "stream",
     "text": [
      "30\n"
     ]
    },
    {
     "name": "stderr",
     "output_type": "stream",
     "text": [
      "                                                                                \r"
     ]
    },
    {
     "data": {
      "text/plain": [
       "3782055"
      ]
     },
     "execution_count": 83,
     "metadata": {},
     "output_type": "execute_result"
    }
   ],
   "source": [
    "#print(data_new.count())\n",
    "assembler = VectorAssembler(inputCols=[\"DAYS_EMPLOYED\"], \n",
    "                            outputCol=\"DAYS_EMPLOYED_vect\")\n",
    "df_gcp = assembler.transform(data_new)\n",
    "df_gcp.cache()\n",
    "print(df_gcp.rdd.getNumPartitions())\n",
    "df_gcp.count()\n"
   ]
  },
  {
   "cell_type": "code",
   "execution_count": 84,
   "id": "85591e3a",
   "metadata": {
    "ExecuteTime": {
     "end_time": "2021-11-22T07:24:53.410646Z",
     "start_time": "2021-11-22T07:24:53.291163Z"
    },
    "deletable": false,
    "editable": false,
    "run_control": {
     "frozen": true
    },
    "scrolled": true
   },
   "outputs": [
    {
     "name": "stdout",
     "output_type": "stream",
     "text": [
      "30\n",
      "10\n"
     ]
    },
    {
     "data": {
      "text/plain": [
       "[('spark.master', 'local'),\n",
       " ('spark.driver.port', '49998'),\n",
       " ('spark.app.id', 'local-1637515657048'),\n",
       " ('spark.driver.host', '192.168.1.8'),\n",
       " ('spark.rdd.compress', 'True'),\n",
       " ('spark.app.startTime', '1637515656259'),\n",
       " ('spark.serializer.objectStreamReset', '100'),\n",
       " ('spark.sql.warehouse.dir',\n",
       "  'file:/Users/AM/Documents/_CU_Masters/2021_fall/UCD_FP/spark-warehouse'),\n",
       " ('spark.submit.pyFiles', ''),\n",
       " ('spark.executor.id', 'driver'),\n",
       " ('spark.submit.deployMode', 'client'),\n",
       " ('spark.app.name', 'spark_app_1234'),\n",
       " ('spark.ui.showConsoleProgress', 'true')]"
      ]
     },
     "execution_count": 84,
     "metadata": {},
     "output_type": "execute_result"
    }
   ],
   "source": [
    "# local 15 times larger\n",
    "print(df_gcp.rdd.getNumPartitions())\n",
    "df_gcp = df_gcp.repartition(10)\n",
    "df_gcp.cache()\n",
    "print(df_gcp.rdd.getNumPartitions())\n",
    "spark.sparkContext.getConf().getAll()"
   ]
  },
  {
   "cell_type": "code",
   "execution_count": 85,
   "id": "0f4a9c24",
   "metadata": {
    "ExecuteTime": {
     "end_time": "2021-11-22T07:25:44.931834Z",
     "start_time": "2021-11-22T07:24:53.413418Z"
    },
    "deletable": false,
    "editable": false,
    "run_control": {
     "frozen": true
    }
   },
   "outputs": [
    {
     "name": "stderr",
     "output_type": "stream",
     "text": [
      "                                                                                \r"
     ]
    },
    {
     "data": {
      "text/plain": [
       "DecisionTreeClassificationModel: uid=DecisionTreeClassifier_85a097de8beb, depth=12, numNodes=25, numClasses=2, numFeatures=1"
      ]
     },
     "execution_count": 85,
     "metadata": {},
     "output_type": "execute_result"
    }
   ],
   "source": [
    "# local # 15 times larger\n",
    "dt = DTC_spark(labelCol=\"TARGET\",\n",
    "               featuresCol=\"DAYS_EMPLOYED_vect\",\n",
    "               minInfoGain=0.0001,\n",
    "               impurity='entropy',\n",
    "               maxDepth=14, maxBins=2**14, # it differs from scikit learn - it means number of canidate split points\n",
    "               #minInstancesPerNode = 1,\n",
    "               #checkpointInterval = 10\n",
    "               )\n",
    "model = dt.fit(df_gcp)\n",
    "model"
   ]
  },
  {
   "cell_type": "code",
   "execution_count": 73,
   "id": "849a6dc6",
   "metadata": {
    "ExecuteTime": {
     "end_time": "2021-11-22T06:18:49.700437Z",
     "start_time": "2021-11-22T06:18:49.674789Z"
    },
    "deletable": false,
    "editable": false,
    "run_control": {
     "frozen": true
    },
    "scrolled": true
   },
   "outputs": [
    {
     "name": "stdout",
     "output_type": "stream",
     "text": [
      "20\n"
     ]
    },
    {
     "data": {
      "text/plain": [
       "[('spark.master', 'local'),\n",
       " ('spark.driver.port', '49998'),\n",
       " ('spark.app.id', 'local-1637515657048'),\n",
       " ('spark.driver.host', '192.168.1.8'),\n",
       " ('spark.rdd.compress', 'True'),\n",
       " ('spark.app.startTime', '1637515656259'),\n",
       " ('spark.serializer.objectStreamReset', '100'),\n",
       " ('spark.sql.warehouse.dir',\n",
       "  'file:/Users/AM/Documents/_CU_Masters/2021_fall/UCD_FP/spark-warehouse'),\n",
       " ('spark.submit.pyFiles', ''),\n",
       " ('spark.executor.id', 'driver'),\n",
       " ('spark.submit.deployMode', 'client'),\n",
       " ('spark.app.name', 'spark_app_1234'),\n",
       " ('spark.ui.showConsoleProgress', 'true')]"
      ]
     },
     "execution_count": 73,
     "metadata": {},
     "output_type": "execute_result"
    }
   ],
   "source": [
    "# local 10 times lrger\n",
    "print(df_gcp.rdd.getNumPartitions())\n",
    "#df_gcp = df_gcp.repartition(24)\n",
    "#df_gcp.cache()\n",
    "#print(df_gcp.rdd.getNumPartitions())\n",
    "spark.sparkContext.getConf().getAll()\n"
   ]
  },
  {
   "cell_type": "code",
   "execution_count": 75,
   "id": "4d0ac1f4",
   "metadata": {
    "ExecuteTime": {
     "end_time": "2021-11-22T06:26:37.056617Z",
     "start_time": "2021-11-22T06:26:06.570252Z"
    },
    "deletable": false,
    "editable": false,
    "run_control": {
     "frozen": true
    }
   },
   "outputs": [
    {
     "name": "stderr",
     "output_type": "stream",
     "text": [
      "                                                                                \r"
     ]
    },
    {
     "data": {
      "text/plain": [
       "DecisionTreeClassificationModel: uid=DecisionTreeClassifier_65c6de45ffd0, depth=14, numNodes=55, numClasses=2, numFeatures=1"
      ]
     },
     "execution_count": 75,
     "metadata": {},
     "output_type": "execute_result"
    }
   ],
   "source": [
    "# local # 10 times larger\n",
    "dt = DTC_spark(labelCol=\"TARGET\",\n",
    "               featuresCol=\"DAYS_EMPLOYED_vect\",\n",
    "               minInfoGain=0.0001,\n",
    "               impurity='entropy',\n",
    "               maxDepth=14, maxBins=2**14, # it differs from scikit learn - it means number of canidate split points\n",
    "               #minInstancesPerNode = 1,\n",
    "               #checkpointInterval = 10\n",
    "               )\n",
    "model = dt.fit(df_gcp)\n",
    "model"
   ]
  },
  {
   "cell_type": "code",
   "execution_count": null,
   "id": "cad29530",
   "metadata": {},
   "outputs": [],
   "source": []
  },
  {
   "cell_type": "code",
   "execution_count": null,
   "id": "52545aad",
   "metadata": {},
   "outputs": [],
   "source": []
  },
  {
   "cell_type": "code",
   "execution_count": null,
   "id": "3e17140a",
   "metadata": {
    "ExecuteTime": {
     "end_time": "2021-11-21T17:14:36.879192Z",
     "start_time": "2021-11-21T17:14:36.785188Z"
    }
   },
   "outputs": [],
   "source": [
    "data.show(5)"
   ]
  },
  {
   "cell_type": "code",
   "execution_count": null,
   "id": "da99e3df",
   "metadata": {
    "ExecuteTime": {
     "end_time": "2021-11-21T17:14:37.842008Z",
     "start_time": "2021-11-21T17:14:37.753368Z"
    }
   },
   "outputs": [],
   "source": [
    "data_tmp.show(5)"
   ]
  }
 ],
 "metadata": {
  "kernelspec": {
   "display_name": "Python 3 (ipykernel)",
   "language": "python",
   "name": "python3"
  },
  "language_info": {
   "codemirror_mode": {
    "name": "ipython",
    "version": 3
   },
   "file_extension": ".py",
   "mimetype": "text/x-python",
   "name": "python",
   "nbconvert_exporter": "python",
   "pygments_lexer": "ipython3",
   "version": "3.8.5"
  },
  "toc": {
   "base_numbering": 1,
   "nav_menu": {},
   "number_sections": true,
   "sideBar": true,
   "skip_h1_title": false,
   "title_cell": "Table of Contents",
   "title_sidebar": "Contents",
   "toc_cell": true,
   "toc_position": {
    "height": "492px",
    "left": "73px",
    "top": "220px",
    "width": "252px"
   },
   "toc_section_display": true,
   "toc_window_display": true
  },
  "varInspector": {
   "cols": {
    "lenName": 16,
    "lenType": 16,
    "lenVar": 40
   },
   "kernels_config": {
    "python": {
     "delete_cmd_postfix": "",
     "delete_cmd_prefix": "del ",
     "library": "var_list.py",
     "varRefreshCmd": "print(var_dic_list())"
    },
    "r": {
     "delete_cmd_postfix": ") ",
     "delete_cmd_prefix": "rm(",
     "library": "var_list.r",
     "varRefreshCmd": "cat(var_dic_list()) "
    }
   },
   "oldHeight": 171.667,
   "position": {
    "height": "252.667px",
    "left": "84.6771px",
    "right": "20px",
    "top": "267px",
    "width": "283px"
   },
   "types_to_exclude": [
    "module",
    "function",
    "builtin_function_or_method",
    "instance",
    "_Feature"
   ],
   "varInspector_section_display": "block",
   "window_display": false
  }
 },
 "nbformat": 4,
 "nbformat_minor": 5
}
