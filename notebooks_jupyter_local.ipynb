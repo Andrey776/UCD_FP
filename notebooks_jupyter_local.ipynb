{
 "cells": [
  {
   "cell_type": "markdown",
   "id": "17f41b1c",
   "metadata": {},
   "source": [
    "# Library"
   ]
  },
  {
   "cell_type": "code",
   "execution_count": 14,
   "id": "f7480aef",
   "metadata": {
    "ExecuteTime": {
     "end_time": "2021-11-24T20:34:27.039956Z",
     "start_time": "2021-11-24T20:34:26.952202Z"
    }
   },
   "outputs": [],
   "source": [
    "#import sys\n",
    "import pandas as pd\n",
    "import numpy as np\n",
    "import random\n",
    "import pyspark\n",
    "import itertools\n",
    "import matplotlib.pyplot as plt\n",
    "import itertools\n",
    "import seaborn as sns\n",
    "import pickle\n",
    "import statsmodels.api as sm\n",
    "\n",
    "from pyspark import SparkContext, SQLContext\n",
    "\n",
    "from math import sqrt\n",
    "from time import time as ttt\n",
    "\n",
    "from pyspark.sql import SparkSession\n",
    "from pyspark.sql import functions as f\n",
    "\n",
    "from pyspark.ml.linalg import Vectors\n",
    "from pyspark.ml.feature import VectorAssembler\n",
    "from pyspark.ml import Pipeline\n",
    "from pyspark.ml.classification import DecisionTreeClassifier as DTC_spark\n",
    "from pyspark.ml.feature import StringIndexer, VectorIndexer\n",
    "from pyspark.ml.evaluation import MulticlassClassificationEvaluator\n",
    "\n",
    "import joblib\n",
    "from joblib import parallel_backend\n",
    "from joblib import Parallel, delayed\n",
    "from joblib import parallel_backend\n"
   ]
  },
  {
   "cell_type": "markdown",
   "id": "f33b542c",
   "metadata": {},
   "source": [
    "# Upload"
   ]
  },
  {
   "cell_type": "code",
   "execution_count": 15,
   "id": "96a5c4ff",
   "metadata": {
    "ExecuteTime": {
     "end_time": "2021-11-24T20:34:33.851993Z",
     "start_time": "2021-11-24T20:34:29.047100Z"
    }
   },
   "outputs": [
    {
     "name": "stderr",
     "output_type": "stream",
     "text": [
      "[Stage 3601:============================>                           (1 + 1) / 2]\r"
     ]
    },
    {
     "name": "stdout",
     "output_type": "stream",
     "text": [
      "2\n"
     ]
    },
    {
     "name": "stderr",
     "output_type": "stream",
     "text": [
      "\r",
      "                                                                                \r"
     ]
    }
   ],
   "source": [
    "spark = SparkSession.builder.master(\"local\").appName(\"spark_app_1234\").getOrCreate()\n",
    "sc = spark.sparkContext\n",
    "spark\n",
    "d0 = (\n",
    "    spark\n",
    "    .read\n",
    "    .format(\"csv\") \n",
    "    .option(\"header\",\"true\") \n",
    "    .option(\"inferSchema\",\"true\") \n",
    "    .load(\"/Users/AM/home-credit-default-risk/application_train.csv\")\n",
    ")\n",
    "\n",
    "d1 = d0.filter(d0.DAYS_EMPLOYED != 365243).select('TARGET','DAYS_EMPLOYED')\n",
    "\n",
    "print(d1.rdd.getNumPartitions())"
   ]
  },
  {
   "cell_type": "markdown",
   "id": "333b63a3",
   "metadata": {},
   "source": [
    "# Function"
   ]
  },
  {
   "cell_type": "code",
   "execution_count": 16,
   "id": "e0ec74a5",
   "metadata": {
    "ExecuteTime": {
     "end_time": "2021-11-24T20:34:33.868651Z",
     "start_time": "2021-11-24T20:34:33.854668Z"
    }
   },
   "outputs": [],
   "source": [
    "def prepare_spark_data(n_part, k_mult):\n",
    "    '''\n",
    "    takes 'DAYS_EMPLOYED and 'TARGET'  from d1 (alreay filtered)\n",
    "    rearrane in n partitions (if n==0 keeps initial number of partitions)\n",
    "    prints final shape/ partition\n",
    "    returns d2 - spark df\n",
    "    '''\n",
    "    data = d1\n",
    "    data_new = data # first step in the cycle\n",
    "    for i in range(k_mult-1):\n",
    "        data_tmp = data.select('TARGET', \\\n",
    "                     f.col('DAYS_EMPLOYED')*(f.lit(0.9995) + f.rand()/1000)).\\\n",
    "                   toDF('TARGET','DAYS_EMPLOYED')\n",
    "        data_tmp = data_tmp.select('TARGET', f.floor('DAYS_EMPLOYED'))\n",
    "        data_new = data_new.union(data_tmp)\n",
    "\n",
    "    assembler = VectorAssembler(inputCols=[\"DAYS_EMPLOYED\"], \n",
    "                        outputCol=\"DAYS_EMPLOYED_vect\")\n",
    "    d2 = assembler.transform(data_new)\n",
    "    if n_part != 0:\n",
    "        d2 = d2.repartition(n_part, \"DAYS_EMPLOYED_vect\")       \n",
    "    #print(f'n-partitions initial: {d2.rdd.getNumPartitions()}; df size: {d2.count()}\\n')\n",
    "\n",
    "    return d2"
   ]
  },
  {
   "cell_type": "markdown",
   "id": "5e62426a",
   "metadata": {},
   "source": [
    "# Params an run"
   ]
  },
  {
   "cell_type": "code",
   "execution_count": 17,
   "id": "62c383b6",
   "metadata": {
    "ExecuteTime": {
     "end_time": "2021-11-24T20:43:52.661111Z",
     "start_time": "2021-11-24T20:34:54.750947Z"
    },
    "scrolled": true
   },
   "outputs": [
    {
     "name": "stderr",
     "output_type": "stream",
     "text": [
      "                                                                                \r"
     ]
    },
    {
     "name": "stdout",
     "output_type": "stream",
     "text": [
      "d1-size 252137\n",
      "n-partitions initial 2 \n",
      "\n",
      "======================================================================\n"
     ]
    },
    {
     "name": "stderr",
     "output_type": "stream",
     "text": [
      "                                                                                \r"
     ]
    },
    {
     "name": "stdout",
     "output_type": "stream",
     "text": [
      "=== size_mult=1;         n_part_req=2; n_part_act=2; df_count=252137 ===\n",
      "\n"
     ]
    },
    {
     "name": "stderr",
     "output_type": "stream",
     "text": [
      "                                                                                \r"
     ]
    },
    {
     "name": "stdout",
     "output_type": "stream",
     "text": [
      "model 0 build time 10.41 \n",
      " DecisionTreeClassificationModel: uid=DecisionTreeClassifier_8520c350c004, depth=14, numNodes=123, numClasses=2, numFeatures=1\n"
     ]
    },
    {
     "name": "stderr",
     "output_type": "stream",
     "text": [
      "                                                                                \r"
     ]
    },
    {
     "name": "stdout",
     "output_type": "stream",
     "text": [
      "model 1 build time 10.3 \n",
      " DecisionTreeClassificationModel: uid=DecisionTreeClassifier_f1f264be0b37, depth=14, numNodes=123, numClasses=2, numFeatures=1\n"
     ]
    },
    {
     "name": "stderr",
     "output_type": "stream",
     "text": [
      "                                                                                \r"
     ]
    },
    {
     "name": "stdout",
     "output_type": "stream",
     "text": [
      "model 2 build time 10.5 \n",
      " DecisionTreeClassificationModel: uid=DecisionTreeClassifier_8909a9d4a951, depth=14, numNodes=123, numClasses=2, numFeatures=1\n",
      "======================================================================\n"
     ]
    },
    {
     "name": "stderr",
     "output_type": "stream",
     "text": [
      "                                                                                \r"
     ]
    },
    {
     "name": "stdout",
     "output_type": "stream",
     "text": [
      "=== size_mult=1;         n_part_req=4; n_part_act=4; df_count=252137 ===\n",
      "\n"
     ]
    },
    {
     "name": "stderr",
     "output_type": "stream",
     "text": [
      "21/11/24 23:35:33 WARN BlockManager: Asked to remove block broadcast_3894_piece0, which does not exist\n",
      "                                                                                \r"
     ]
    },
    {
     "name": "stdout",
     "output_type": "stream",
     "text": [
      "model 0 build time 11.91 \n",
      " DecisionTreeClassificationModel: uid=DecisionTreeClassifier_16b4aca40c7c, depth=14, numNodes=123, numClasses=2, numFeatures=1\n"
     ]
    },
    {
     "name": "stderr",
     "output_type": "stream",
     "text": [
      "                                                                                \r"
     ]
    },
    {
     "name": "stdout",
     "output_type": "stream",
     "text": [
      "model 1 build time 11.06 \n",
      " DecisionTreeClassificationModel: uid=DecisionTreeClassifier_51bef95b4cec, depth=14, numNodes=123, numClasses=2, numFeatures=1\n"
     ]
    },
    {
     "name": "stderr",
     "output_type": "stream",
     "text": [
      "                                                                                \r"
     ]
    },
    {
     "name": "stdout",
     "output_type": "stream",
     "text": [
      "model 2 build time 11.42 \n",
      " DecisionTreeClassificationModel: uid=DecisionTreeClassifier_a9931982c69d, depth=14, numNodes=123, numClasses=2, numFeatures=1\n",
      "======================================================================\n"
     ]
    },
    {
     "name": "stderr",
     "output_type": "stream",
     "text": [
      "                                                                                \r"
     ]
    },
    {
     "name": "stdout",
     "output_type": "stream",
     "text": [
      "=== size_mult=1;         n_part_req=6; n_part_act=6; df_count=252137 ===\n",
      "\n"
     ]
    },
    {
     "name": "stderr",
     "output_type": "stream",
     "text": [
      "                                                                                \r"
     ]
    },
    {
     "name": "stdout",
     "output_type": "stream",
     "text": [
      "model 0 build time 13.03 \n",
      " DecisionTreeClassificationModel: uid=DecisionTreeClassifier_43ad24fb5f93, depth=14, numNodes=123, numClasses=2, numFeatures=1\n"
     ]
    },
    {
     "name": "stderr",
     "output_type": "stream",
     "text": [
      "                                                                                \r"
     ]
    },
    {
     "name": "stdout",
     "output_type": "stream",
     "text": [
      "model 1 build time 12.86 \n",
      " DecisionTreeClassificationModel: uid=DecisionTreeClassifier_f8c55491782d, depth=14, numNodes=123, numClasses=2, numFeatures=1\n"
     ]
    },
    {
     "name": "stderr",
     "output_type": "stream",
     "text": [
      "                                                                                \r"
     ]
    },
    {
     "name": "stdout",
     "output_type": "stream",
     "text": [
      "model 2 build time 12.89 \n",
      " DecisionTreeClassificationModel: uid=DecisionTreeClassifier_4d7bb9132227, depth=14, numNodes=123, numClasses=2, numFeatures=1\n",
      "======================================================================\n"
     ]
    },
    {
     "name": "stderr",
     "output_type": "stream",
     "text": [
      "                                                                                \r"
     ]
    },
    {
     "name": "stdout",
     "output_type": "stream",
     "text": [
      "=== size_mult=1;         n_part_req=8; n_part_act=8; df_count=252137 ===\n",
      "\n"
     ]
    },
    {
     "name": "stderr",
     "output_type": "stream",
     "text": [
      "                                                                                \r"
     ]
    },
    {
     "name": "stdout",
     "output_type": "stream",
     "text": [
      "model 0 build time 14.2 \n",
      " DecisionTreeClassificationModel: uid=DecisionTreeClassifier_57552a4ac81c, depth=14, numNodes=123, numClasses=2, numFeatures=1\n"
     ]
    },
    {
     "name": "stderr",
     "output_type": "stream",
     "text": [
      "                                                                                \r"
     ]
    },
    {
     "name": "stdout",
     "output_type": "stream",
     "text": [
      "model 1 build time 13.83 \n",
      " DecisionTreeClassificationModel: uid=DecisionTreeClassifier_0d1d3a399ae9, depth=14, numNodes=123, numClasses=2, numFeatures=1\n"
     ]
    },
    {
     "name": "stderr",
     "output_type": "stream",
     "text": [
      "                                                                                \r"
     ]
    },
    {
     "name": "stdout",
     "output_type": "stream",
     "text": [
      "model 2 build time 14.27 \n",
      " DecisionTreeClassificationModel: uid=DecisionTreeClassifier_191b17ae1e65, depth=14, numNodes=123, numClasses=2, numFeatures=1\n",
      "======================================================================\n"
     ]
    },
    {
     "name": "stderr",
     "output_type": "stream",
     "text": [
      "                                                                                \r"
     ]
    },
    {
     "name": "stdout",
     "output_type": "stream",
     "text": [
      "=== size_mult=5;         n_part_req=2; n_part_act=2; df_count=1260685 ===\n",
      "\n"
     ]
    },
    {
     "name": "stderr",
     "output_type": "stream",
     "text": [
      "                                                                                \r"
     ]
    },
    {
     "name": "stdout",
     "output_type": "stream",
     "text": [
      "model 0 build time 24.58 \n",
      " DecisionTreeClassificationModel: uid=DecisionTreeClassifier_300a0a7b2896, depth=14, numNodes=75, numClasses=2, numFeatures=1\n"
     ]
    },
    {
     "name": "stderr",
     "output_type": "stream",
     "text": [
      "                                                                                \r"
     ]
    },
    {
     "name": "stdout",
     "output_type": "stream",
     "text": [
      "model 1 build time 24.74 \n",
      " DecisionTreeClassificationModel: uid=DecisionTreeClassifier_e8813a4fcb90, depth=14, numNodes=75, numClasses=2, numFeatures=1\n"
     ]
    },
    {
     "name": "stderr",
     "output_type": "stream",
     "text": [
      "                                                                                \r"
     ]
    },
    {
     "name": "stdout",
     "output_type": "stream",
     "text": [
      "model 2 build time 25.0 \n",
      " DecisionTreeClassificationModel: uid=DecisionTreeClassifier_57c2d4e18670, depth=14, numNodes=75, numClasses=2, numFeatures=1\n",
      "======================================================================\n"
     ]
    },
    {
     "name": "stderr",
     "output_type": "stream",
     "text": [
      "                                                                                \r"
     ]
    },
    {
     "name": "stdout",
     "output_type": "stream",
     "text": [
      "=== size_mult=5;         n_part_req=4; n_part_act=4; df_count=1260685 ===\n",
      "\n"
     ]
    },
    {
     "name": "stderr",
     "output_type": "stream",
     "text": [
      "                                                                                \r"
     ]
    },
    {
     "name": "stdout",
     "output_type": "stream",
     "text": [
      "model 0 build time 29.0 \n",
      " DecisionTreeClassificationModel: uid=DecisionTreeClassifier_79798525e05e, depth=14, numNodes=97, numClasses=2, numFeatures=1\n"
     ]
    },
    {
     "name": "stderr",
     "output_type": "stream",
     "text": [
      "                                                                                \r"
     ]
    },
    {
     "name": "stdout",
     "output_type": "stream",
     "text": [
      "model 1 build time 27.48 \n",
      " DecisionTreeClassificationModel: uid=DecisionTreeClassifier_835037865a6b, depth=14, numNodes=97, numClasses=2, numFeatures=1\n"
     ]
    },
    {
     "name": "stderr",
     "output_type": "stream",
     "text": [
      "                                                                                \r"
     ]
    },
    {
     "name": "stdout",
     "output_type": "stream",
     "text": [
      "model 2 build time 27.45 \n",
      " DecisionTreeClassificationModel: uid=DecisionTreeClassifier_315472a02320, depth=14, numNodes=97, numClasses=2, numFeatures=1\n",
      "======================================================================\n"
     ]
    },
    {
     "name": "stderr",
     "output_type": "stream",
     "text": [
      "                                                                                \r"
     ]
    },
    {
     "name": "stdout",
     "output_type": "stream",
     "text": [
      "=== size_mult=5;         n_part_req=6; n_part_act=6; df_count=1260685 ===\n",
      "\n"
     ]
    },
    {
     "name": "stderr",
     "output_type": "stream",
     "text": [
      "                                                                                \r"
     ]
    },
    {
     "name": "stdout",
     "output_type": "stream",
     "text": [
      "model 0 build time 30.66 \n",
      " DecisionTreeClassificationModel: uid=DecisionTreeClassifier_b129d778a26f, depth=14, numNodes=123, numClasses=2, numFeatures=1\n"
     ]
    },
    {
     "name": "stderr",
     "output_type": "stream",
     "text": [
      "                                                                                \r"
     ]
    },
    {
     "name": "stdout",
     "output_type": "stream",
     "text": [
      "model 1 build time 31.56 \n",
      " DecisionTreeClassificationModel: uid=DecisionTreeClassifier_46a3eff10789, depth=14, numNodes=123, numClasses=2, numFeatures=1\n"
     ]
    },
    {
     "name": "stderr",
     "output_type": "stream",
     "text": [
      "                                                                                \r"
     ]
    },
    {
     "name": "stdout",
     "output_type": "stream",
     "text": [
      "model 2 build time 29.44 \n",
      " DecisionTreeClassificationModel: uid=DecisionTreeClassifier_90ba8174e7d8, depth=14, numNodes=123, numClasses=2, numFeatures=1\n",
      "======================================================================\n"
     ]
    },
    {
     "name": "stderr",
     "output_type": "stream",
     "text": [
      "                                                                                \r"
     ]
    },
    {
     "name": "stdout",
     "output_type": "stream",
     "text": [
      "=== size_mult=5;         n_part_req=8; n_part_act=8; df_count=1260685 ===\n",
      "\n"
     ]
    },
    {
     "name": "stderr",
     "output_type": "stream",
     "text": [
      "                                                                                \r"
     ]
    },
    {
     "name": "stdout",
     "output_type": "stream",
     "text": [
      "model 0 build time 31.65 \n",
      " DecisionTreeClassificationModel: uid=DecisionTreeClassifier_9235917104ef, depth=14, numNodes=149, numClasses=2, numFeatures=1\n"
     ]
    },
    {
     "name": "stderr",
     "output_type": "stream",
     "text": [
      "                                                                                \r"
     ]
    },
    {
     "name": "stdout",
     "output_type": "stream",
     "text": [
      "model 1 build time 31.59 \n",
      " DecisionTreeClassificationModel: uid=DecisionTreeClassifier_bd07a45527ab, depth=14, numNodes=149, numClasses=2, numFeatures=1\n"
     ]
    },
    {
     "name": "stderr",
     "output_type": "stream",
     "text": [
      "[Stage 4875:=================================================>      (7 + 1) / 8]\r"
     ]
    },
    {
     "name": "stdout",
     "output_type": "stream",
     "text": [
      "model 2 build time 32.3 \n",
      " DecisionTreeClassificationModel: uid=DecisionTreeClassifier_4ab89cd548d2, depth=14, numNodes=149, numClasses=2, numFeatures=1\n"
     ]
    },
    {
     "name": "stderr",
     "output_type": "stream",
     "text": [
      "\r",
      "                                                                                \r"
     ]
    }
   ],
   "source": [
    "## !! mind the fn NOT TO rewrite results\n",
    "fn = 'local'\n",
    "size_mult = [1, 5]\n",
    "partitions = [2, 4, 6, 8] \n",
    "# initial, 2**i incl n_nodes till n_cpu*n_nodes and n_cpu*n_nodes\n",
    "n_iter = 3\n",
    "\n",
    "print('d1-size', d1.count())\n",
    "n_part_base = d1.rdd.getNumPartitions()\n",
    "print('n-partitions initial', n_part_base, '\\n')\n",
    "\n",
    "rd1 = {}\n",
    "for k_size_mult in size_mult:\n",
    "    rd2 = {}\n",
    "    for n_part in partitions:\n",
    "        df = prepare_spark_data(n_part, k_size_mult)\n",
    "        df.cache()\n",
    "        print('======================================================================')\n",
    "        print(f'=== size_mult={k_size_mult}; \\\n",
    "        n_part_req={n_part}; n_part_act={df.rdd.getNumPartitions()}; df_count={df.count()} ===\\n')\n",
    "        times = [0 for i in range(n_iter)]\n",
    "        models = {}\n",
    "        for i in range(n_iter):\n",
    "            dt = DTC_spark(labelCol=\"TARGET\",\n",
    "                       featuresCol=\"DAYS_EMPLOYED_vect\",\n",
    "                       minInfoGain=0.0001,\n",
    "                       impurity='entropy',\n",
    "                       maxDepth=14, maxBins=2**14, # it differs from scikit learn - it means number of canidate split points\n",
    "                       #minInstancesPerNode = 1,\n",
    "                       #checkpointInterval = 10\n",
    "                       )\n",
    "           \n",
    "            t0 = ttt()\n",
    "            model = dt.fit(df)\n",
    "            t1 = ttt()\n",
    "            times[i] = t1-t0\n",
    "            models[i] = model \n",
    "            print('model', i, 'build time', round(times[i],2), '\\n', model)\n",
    "        rd2[n_part] = (models, times)\n",
    "    rd1[k_size_mult] = rd2\n",
    "\n",
    "result = rd1  "
   ]
  },
  {
   "cell_type": "markdown",
   "id": "bb6b1aef",
   "metadata": {},
   "source": [
    "# Results"
   ]
  },
  {
   "cell_type": "code",
   "execution_count": 11,
   "id": "91c2c809",
   "metadata": {
    "ExecuteTime": {
     "end_time": "2021-11-23T21:06:56.206857Z",
     "start_time": "2021-11-23T21:06:56.127789Z"
    }
   },
   "outputs": [
    {
     "name": "stdout",
     "output_type": "stream",
     "text": [
      "0 ['DecisionTreeClassificationModel:', 'uid=DecisionTreeClassifier_157eb890c4b6,', 'depth=14,', 'numNodes=123,', 'numClasses=2,', 'numFeatures=1']\n",
      "1 ['DecisionTreeClassificationModel:', 'uid=DecisionTreeClassifier_ebd445b49b05,', 'depth=14,', 'numNodes=123,', 'numClasses=2,', 'numFeatures=1']\n",
      "2 ['DecisionTreeClassificationModel:', 'uid=DecisionTreeClassifier_306f5e621e41,', 'depth=14,', 'numNodes=123,', 'numClasses=2,', 'numFeatures=1']\n",
      "0 ['DecisionTreeClassificationModel:', 'uid=DecisionTreeClassifier_3f7be4f90863,', 'depth=14,', 'numNodes=123,', 'numClasses=2,', 'numFeatures=1']\n",
      "1 ['DecisionTreeClassificationModel:', 'uid=DecisionTreeClassifier_6a6ede5d47f2,', 'depth=14,', 'numNodes=123,', 'numClasses=2,', 'numFeatures=1']\n",
      "2 ['DecisionTreeClassificationModel:', 'uid=DecisionTreeClassifier_8a2b9e28684b,', 'depth=14,', 'numNodes=123,', 'numClasses=2,', 'numFeatures=1']\n",
      "0 ['DecisionTreeClassificationModel:', 'uid=DecisionTreeClassifier_0e1f9b85ff8d,', 'depth=14,', 'numNodes=123,', 'numClasses=2,', 'numFeatures=1']\n",
      "1 ['DecisionTreeClassificationModel:', 'uid=DecisionTreeClassifier_2cd71ea03b16,', 'depth=14,', 'numNodes=123,', 'numClasses=2,', 'numFeatures=1']\n",
      "2 ['DecisionTreeClassificationModel:', 'uid=DecisionTreeClassifier_9cbff9b56d86,', 'depth=14,', 'numNodes=123,', 'numClasses=2,', 'numFeatures=1']\n",
      "0 ['DecisionTreeClassificationModel:', 'uid=DecisionTreeClassifier_e1d7e50b8c28,', 'depth=14,', 'numNodes=123,', 'numClasses=2,', 'numFeatures=1']\n",
      "1 ['DecisionTreeClassificationModel:', 'uid=DecisionTreeClassifier_122e1b646b7d,', 'depth=14,', 'numNodes=123,', 'numClasses=2,', 'numFeatures=1']\n",
      "2 ['DecisionTreeClassificationModel:', 'uid=DecisionTreeClassifier_39a1e0f0f676,', 'depth=14,', 'numNodes=123,', 'numClasses=2,', 'numFeatures=1']\n",
      "0 ['DecisionTreeClassificationModel:', 'uid=DecisionTreeClassifier_666ace24155a,', 'depth=14,', 'numNodes=123,', 'numClasses=2,', 'numFeatures=1']\n",
      "1 ['DecisionTreeClassificationModel:', 'uid=DecisionTreeClassifier_22cae978111a,', 'depth=14,', 'numNodes=123,', 'numClasses=2,', 'numFeatures=1']\n",
      "2 ['DecisionTreeClassificationModel:', 'uid=DecisionTreeClassifier_3ea89cc19532,', 'depth=14,', 'numNodes=123,', 'numClasses=2,', 'numFeatures=1']\n",
      "0 ['DecisionTreeClassificationModel:', 'uid=DecisionTreeClassifier_94e43d15d9dd,', 'depth=14,', 'numNodes=123,', 'numClasses=2,', 'numFeatures=1']\n",
      "1 ['DecisionTreeClassificationModel:', 'uid=DecisionTreeClassifier_1890b90222ca,', 'depth=14,', 'numNodes=123,', 'numClasses=2,', 'numFeatures=1']\n",
      "2 ['DecisionTreeClassificationModel:', 'uid=DecisionTreeClassifier_bff6006f0796,', 'depth=14,', 'numNodes=123,', 'numClasses=2,', 'numFeatures=1']\n",
      "0 ['DecisionTreeClassificationModel:', 'uid=DecisionTreeClassifier_af885c0f587d,', 'depth=14,', 'numNodes=155,', 'numClasses=2,', 'numFeatures=1']\n",
      "1 ['DecisionTreeClassificationModel:', 'uid=DecisionTreeClassifier_b9794f0d3b36,', 'depth=14,', 'numNodes=155,', 'numClasses=2,', 'numFeatures=1']\n",
      "2 ['DecisionTreeClassificationModel:', 'uid=DecisionTreeClassifier_fb21f9cdc098,', 'depth=14,', 'numNodes=155,', 'numClasses=2,', 'numFeatures=1']\n",
      "0 ['DecisionTreeClassificationModel:', 'uid=DecisionTreeClassifier_3bc6696ab3e7,', 'depth=14,', 'numNodes=137,', 'numClasses=2,', 'numFeatures=1']\n",
      "1 ['DecisionTreeClassificationModel:', 'uid=DecisionTreeClassifier_081c523b642c,', 'depth=14,', 'numNodes=137,', 'numClasses=2,', 'numFeatures=1']\n",
      "2 ['DecisionTreeClassificationModel:', 'uid=DecisionTreeClassifier_3fbc4df46c6c,', 'depth=14,', 'numNodes=137,', 'numClasses=2,', 'numFeatures=1']\n",
      "0 ['DecisionTreeClassificationModel:', 'uid=DecisionTreeClassifier_b3ed060a1175,', 'depth=14,', 'numNodes=129,', 'numClasses=2,', 'numFeatures=1']\n",
      "1 ['DecisionTreeClassificationModel:', 'uid=DecisionTreeClassifier_526dfafbc9cd,', 'depth=14,', 'numNodes=129,', 'numClasses=2,', 'numFeatures=1']\n",
      "2 ['DecisionTreeClassificationModel:', 'uid=DecisionTreeClassifier_4534b08bdbdb,', 'depth=14,', 'numNodes=129,', 'numClasses=2,', 'numFeatures=1']\n",
      "0 ['DecisionTreeClassificationModel:', 'uid=DecisionTreeClassifier_c6dfbe980698,', 'depth=14,', 'numNodes=121,', 'numClasses=2,', 'numFeatures=1']\n",
      "1 ['DecisionTreeClassificationModel:', 'uid=DecisionTreeClassifier_6ef081ef843f,', 'depth=14,', 'numNodes=121,', 'numClasses=2,', 'numFeatures=1']\n",
      "2 ['DecisionTreeClassificationModel:', 'uid=DecisionTreeClassifier_6401bb5b2574,', 'depth=14,', 'numNodes=121,', 'numClasses=2,', 'numFeatures=1']\n",
      "0 ['DecisionTreeClassificationModel:', 'uid=DecisionTreeClassifier_7744c63d70b0,', 'depth=14,', 'numNodes=117,', 'numClasses=2,', 'numFeatures=1']\n",
      "1 ['DecisionTreeClassificationModel:', 'uid=DecisionTreeClassifier_cc373460956b,', 'depth=14,', 'numNodes=117,', 'numClasses=2,', 'numFeatures=1']\n",
      "2 ['DecisionTreeClassificationModel:', 'uid=DecisionTreeClassifier_a5e669d75504,', 'depth=14,', 'numNodes=117,', 'numClasses=2,', 'numFeatures=1']\n",
      "0 ['DecisionTreeClassificationModel:', 'uid=DecisionTreeClassifier_844ebeeeb93b,', 'depth=14,', 'numNodes=127,', 'numClasses=2,', 'numFeatures=1']\n",
      "1 ['DecisionTreeClassificationModel:', 'uid=DecisionTreeClassifier_aaf4491f8b06,', 'depth=14,', 'numNodes=127,', 'numClasses=2,', 'numFeatures=1']\n",
      "2 ['DecisionTreeClassificationModel:', 'uid=DecisionTreeClassifier_a035e040f093,', 'depth=14,', 'numNodes=127,', 'numClasses=2,', 'numFeatures=1']\n",
      "0 ['DecisionTreeClassificationModel:', 'uid=DecisionTreeClassifier_2315e0b69348,', 'depth=14,', 'numNodes=75,', 'numClasses=2,', 'numFeatures=1']\n",
      "1 ['DecisionTreeClassificationModel:', 'uid=DecisionTreeClassifier_93ecb10c1157,', 'depth=14,', 'numNodes=75,', 'numClasses=2,', 'numFeatures=1']\n",
      "2 ['DecisionTreeClassificationModel:', 'uid=DecisionTreeClassifier_44ff6d0d2b23,', 'depth=14,', 'numNodes=75,', 'numClasses=2,', 'numFeatures=1']\n",
      "0 ['DecisionTreeClassificationModel:', 'uid=DecisionTreeClassifier_d48ef2076dd2,', 'depth=14,', 'numNodes=101,', 'numClasses=2,', 'numFeatures=1']\n",
      "1 ['DecisionTreeClassificationModel:', 'uid=DecisionTreeClassifier_1c7e0fbd2e18,', 'depth=14,', 'numNodes=101,', 'numClasses=2,', 'numFeatures=1']\n",
      "2 ['DecisionTreeClassificationModel:', 'uid=DecisionTreeClassifier_f8a28cceaeb0,', 'depth=14,', 'numNodes=101,', 'numClasses=2,', 'numFeatures=1']\n",
      "0 ['DecisionTreeClassificationModel:', 'uid=DecisionTreeClassifier_27d9b70e74c9,', 'depth=14,', 'numNodes=109,', 'numClasses=2,', 'numFeatures=1']\n",
      "1 ['DecisionTreeClassificationModel:', 'uid=DecisionTreeClassifier_ea0438b0bbfa,', 'depth=14,', 'numNodes=109,', 'numClasses=2,', 'numFeatures=1']\n",
      "2 ['DecisionTreeClassificationModel:', 'uid=DecisionTreeClassifier_2f895745ed64,', 'depth=14,', 'numNodes=109,', 'numClasses=2,', 'numFeatures=1']\n",
      "0 ['DecisionTreeClassificationModel:', 'uid=DecisionTreeClassifier_7ef781ecab6a,', 'depth=14,', 'numNodes=89,', 'numClasses=2,', 'numFeatures=1']\n",
      "1 ['DecisionTreeClassificationModel:', 'uid=DecisionTreeClassifier_cf66827191f8,', 'depth=14,', 'numNodes=89,', 'numClasses=2,', 'numFeatures=1']\n",
      "2 ['DecisionTreeClassificationModel:', 'uid=DecisionTreeClassifier_0e7990647aeb,', 'depth=14,', 'numNodes=89,', 'numClasses=2,', 'numFeatures=1']\n",
      "0 ['DecisionTreeClassificationModel:', 'uid=DecisionTreeClassifier_89fb89fea8aa,', 'depth=14,', 'numNodes=93,', 'numClasses=2,', 'numFeatures=1']\n",
      "1 ['DecisionTreeClassificationModel:', 'uid=DecisionTreeClassifier_f9b259bbeda6,', 'depth=14,', 'numNodes=93,', 'numClasses=2,', 'numFeatures=1']\n",
      "2 ['DecisionTreeClassificationModel:', 'uid=DecisionTreeClassifier_f9f67e3901ad,', 'depth=14,', 'numNodes=93,', 'numClasses=2,', 'numFeatures=1']\n",
      "0 ['DecisionTreeClassificationModel:', 'uid=DecisionTreeClassifier_1e8210f65319,', 'depth=14,', 'numNodes=109,', 'numClasses=2,', 'numFeatures=1']\n",
      "1 ['DecisionTreeClassificationModel:', 'uid=DecisionTreeClassifier_a46532156961,', 'depth=14,', 'numNodes=109,', 'numClasses=2,', 'numFeatures=1']\n",
      "2 ['DecisionTreeClassificationModel:', 'uid=DecisionTreeClassifier_0502407fc44e,', 'depth=14,', 'numNodes=109,', 'numClasses=2,', 'numFeatures=1']\n",
      "0 ['DecisionTreeClassificationModel:', 'uid=DecisionTreeClassifier_0d49713f5346,', 'depth=14,', 'numNodes=63,', 'numClasses=2,', 'numFeatures=1']\n",
      "1 ['DecisionTreeClassificationModel:', 'uid=DecisionTreeClassifier_46d77a1b2bb1,', 'depth=14,', 'numNodes=63,', 'numClasses=2,', 'numFeatures=1']\n",
      "2 ['DecisionTreeClassificationModel:', 'uid=DecisionTreeClassifier_15edb9e4e662,', 'depth=14,', 'numNodes=63,', 'numClasses=2,', 'numFeatures=1']\n",
      "0 ['DecisionTreeClassificationModel:', 'uid=DecisionTreeClassifier_7340755339fd,', 'depth=14,', 'numNodes=101,', 'numClasses=2,', 'numFeatures=1']\n",
      "1 ['DecisionTreeClassificationModel:', 'uid=DecisionTreeClassifier_eeb89f1b1f02,', 'depth=14,', 'numNodes=101,', 'numClasses=2,', 'numFeatures=1']\n",
      "2 ['DecisionTreeClassificationModel:', 'uid=DecisionTreeClassifier_47689fc3e3e9,', 'depth=14,', 'numNodes=101,', 'numClasses=2,', 'numFeatures=1']\n",
      "0 ['DecisionTreeClassificationModel:', 'uid=DecisionTreeClassifier_be4fb61ff994,', 'depth=14,', 'numNodes=69,', 'numClasses=2,', 'numFeatures=1']\n",
      "1 ['DecisionTreeClassificationModel:', 'uid=DecisionTreeClassifier_87c1965471ac,', 'depth=14,', 'numNodes=69,', 'numClasses=2,', 'numFeatures=1']\n",
      "2 ['DecisionTreeClassificationModel:', 'uid=DecisionTreeClassifier_f11439514ace,', 'depth=14,', 'numNodes=69,', 'numClasses=2,', 'numFeatures=1']\n",
      "0 ['DecisionTreeClassificationModel:', 'uid=DecisionTreeClassifier_021a2d924d73,', 'depth=14,', 'numNodes=85,', 'numClasses=2,', 'numFeatures=1']\n",
      "1 ['DecisionTreeClassificationModel:', 'uid=DecisionTreeClassifier_8a8e17c42ca5,', 'depth=14,', 'numNodes=85,', 'numClasses=2,', 'numFeatures=1']\n",
      "2 ['DecisionTreeClassificationModel:', 'uid=DecisionTreeClassifier_10b2e8a1ba31,', 'depth=14,', 'numNodes=85,', 'numClasses=2,', 'numFeatures=1']\n",
      "0 ['DecisionTreeClassificationModel:', 'uid=DecisionTreeClassifier_3788f444a82c,', 'depth=14,', 'numNodes=101,', 'numClasses=2,', 'numFeatures=1']\n",
      "1 ['DecisionTreeClassificationModel:', 'uid=DecisionTreeClassifier_bfe39c63cae4,', 'depth=14,', 'numNodes=101,', 'numClasses=2,', 'numFeatures=1']\n",
      "2 ['DecisionTreeClassificationModel:', 'uid=DecisionTreeClassifier_64f6f02d15f4,', 'depth=14,', 'numNodes=101,', 'numClasses=2,', 'numFeatures=1']\n",
      "0 ['DecisionTreeClassificationModel:', 'uid=DecisionTreeClassifier_b8806c946dbe,', 'depth=14,', 'numNodes=77,', 'numClasses=2,', 'numFeatures=1']\n",
      "1 ['DecisionTreeClassificationModel:', 'uid=DecisionTreeClassifier_fb23b9dfbe57,', 'depth=14,', 'numNodes=77,', 'numClasses=2,', 'numFeatures=1']\n",
      "2 ['DecisionTreeClassificationModel:', 'uid=DecisionTreeClassifier_2098bc17175c,', 'depth=14,', 'numNodes=77,', 'numClasses=2,', 'numFeatures=1']\n"
     ]
    },
    {
     "ename": "ImportError",
     "evalue": "Please install gcsfs to access Google Storage",
     "output_type": "error",
     "traceback": [
      "\u001b[0;31m---------------------------------------------------------------------------\u001b[0m",
      "\u001b[0;31mModuleNotFoundError\u001b[0m                       Traceback (most recent call last)",
      "\u001b[0;32m~/opt/anaconda3/lib/python3.8/site-packages/fsspec/registry.py\u001b[0m in \u001b[0;36mget_filesystem_class\u001b[0;34m(protocol)\u001b[0m\n\u001b[1;32m    210\u001b[0m         \u001b[0;32mtry\u001b[0m\u001b[0;34m:\u001b[0m\u001b[0;34m\u001b[0m\u001b[0;34m\u001b[0m\u001b[0m\n\u001b[0;32m--> 211\u001b[0;31m             \u001b[0mregister_implementation\u001b[0m\u001b[0;34m(\u001b[0m\u001b[0mprotocol\u001b[0m\u001b[0;34m,\u001b[0m \u001b[0m_import_class\u001b[0m\u001b[0;34m(\u001b[0m\u001b[0mbit\u001b[0m\u001b[0;34m[\u001b[0m\u001b[0;34m\"class\"\u001b[0m\u001b[0;34m]\u001b[0m\u001b[0;34m)\u001b[0m\u001b[0;34m)\u001b[0m\u001b[0;34m\u001b[0m\u001b[0;34m\u001b[0m\u001b[0m\n\u001b[0m\u001b[1;32m    212\u001b[0m         \u001b[0;32mexcept\u001b[0m \u001b[0mImportError\u001b[0m \u001b[0;32mas\u001b[0m \u001b[0me\u001b[0m\u001b[0;34m:\u001b[0m\u001b[0;34m\u001b[0m\u001b[0;34m\u001b[0m\u001b[0m\n",
      "\u001b[0;32m~/opt/anaconda3/lib/python3.8/site-packages/fsspec/registry.py\u001b[0m in \u001b[0;36m_import_class\u001b[0;34m(cls, minv)\u001b[0m\n\u001b[1;32m    233\u001b[0m         \u001b[0mmod\u001b[0m\u001b[0;34m,\u001b[0m \u001b[0mname\u001b[0m \u001b[0;34m=\u001b[0m \u001b[0mcls\u001b[0m\u001b[0;34m.\u001b[0m\u001b[0mrsplit\u001b[0m\u001b[0;34m(\u001b[0m\u001b[0;34m\".\"\u001b[0m\u001b[0;34m,\u001b[0m \u001b[0;36m1\u001b[0m\u001b[0;34m)\u001b[0m\u001b[0;34m\u001b[0m\u001b[0;34m\u001b[0m\u001b[0m\n\u001b[0;32m--> 234\u001b[0;31m         \u001b[0mmod\u001b[0m \u001b[0;34m=\u001b[0m \u001b[0mimportlib\u001b[0m\u001b[0;34m.\u001b[0m\u001b[0mimport_module\u001b[0m\u001b[0;34m(\u001b[0m\u001b[0mmod\u001b[0m\u001b[0;34m)\u001b[0m\u001b[0;34m\u001b[0m\u001b[0;34m\u001b[0m\u001b[0m\n\u001b[0m\u001b[1;32m    235\u001b[0m         \u001b[0;32mreturn\u001b[0m \u001b[0mgetattr\u001b[0m\u001b[0;34m(\u001b[0m\u001b[0mmod\u001b[0m\u001b[0;34m,\u001b[0m \u001b[0mname\u001b[0m\u001b[0;34m)\u001b[0m\u001b[0;34m\u001b[0m\u001b[0;34m\u001b[0m\u001b[0m\n",
      "\u001b[0;32m~/opt/anaconda3/lib/python3.8/importlib/__init__.py\u001b[0m in \u001b[0;36mimport_module\u001b[0;34m(name, package)\u001b[0m\n\u001b[1;32m    126\u001b[0m             \u001b[0mlevel\u001b[0m \u001b[0;34m+=\u001b[0m \u001b[0;36m1\u001b[0m\u001b[0;34m\u001b[0m\u001b[0;34m\u001b[0m\u001b[0m\n\u001b[0;32m--> 127\u001b[0;31m     \u001b[0;32mreturn\u001b[0m \u001b[0m_bootstrap\u001b[0m\u001b[0;34m.\u001b[0m\u001b[0m_gcd_import\u001b[0m\u001b[0;34m(\u001b[0m\u001b[0mname\u001b[0m\u001b[0;34m[\u001b[0m\u001b[0mlevel\u001b[0m\u001b[0;34m:\u001b[0m\u001b[0;34m]\u001b[0m\u001b[0;34m,\u001b[0m \u001b[0mpackage\u001b[0m\u001b[0;34m,\u001b[0m \u001b[0mlevel\u001b[0m\u001b[0;34m)\u001b[0m\u001b[0;34m\u001b[0m\u001b[0;34m\u001b[0m\u001b[0m\n\u001b[0m\u001b[1;32m    128\u001b[0m \u001b[0;34m\u001b[0m\u001b[0m\n",
      "\u001b[0;32m~/opt/anaconda3/lib/python3.8/importlib/_bootstrap.py\u001b[0m in \u001b[0;36m_gcd_import\u001b[0;34m(name, package, level)\u001b[0m\n",
      "\u001b[0;32m~/opt/anaconda3/lib/python3.8/importlib/_bootstrap.py\u001b[0m in \u001b[0;36m_find_and_load\u001b[0;34m(name, import_)\u001b[0m\n",
      "\u001b[0;32m~/opt/anaconda3/lib/python3.8/importlib/_bootstrap.py\u001b[0m in \u001b[0;36m_find_and_load_unlocked\u001b[0;34m(name, import_)\u001b[0m\n",
      "\u001b[0;31mModuleNotFoundError\u001b[0m: No module named 'gcsfs'",
      "\nThe above exception was the direct cause of the following exception:\n",
      "\u001b[0;31mImportError\u001b[0m                               Traceback (most recent call last)",
      "\u001b[0;32m/var/folders/l6/r1vg3v7s7t57x3f0r786wnhc0000gp/T/ipykernel_82295/4102260766.py\u001b[0m in \u001b[0;36m<module>\u001b[0;34m\u001b[0m\n\u001b[1;32m     13\u001b[0m         \u001b[0mdf_res_nodes\u001b[0m\u001b[0;34m.\u001b[0m\u001b[0mloc\u001b[0m\u001b[0;34m[\u001b[0m\u001b[0mp1\u001b[0m\u001b[0;34m,\u001b[0m \u001b[0mp2\u001b[0m\u001b[0;34m]\u001b[0m \u001b[0;34m=\u001b[0m \u001b[0mnp\u001b[0m\u001b[0;34m.\u001b[0m\u001b[0mround\u001b[0m\u001b[0;34m(\u001b[0m\u001b[0mnp\u001b[0m\u001b[0;34m.\u001b[0m\u001b[0mmean\u001b[0m\u001b[0;34m(\u001b[0m\u001b[0mn_nodes\u001b[0m\u001b[0;34m)\u001b[0m\u001b[0;34m,\u001b[0m \u001b[0;36m1\u001b[0m\u001b[0;34m)\u001b[0m\u001b[0;34m\u001b[0m\u001b[0;34m\u001b[0m\u001b[0m\n\u001b[1;32m     14\u001b[0m \u001b[0;34m\u001b[0m\u001b[0m\n\u001b[0;32m---> 15\u001b[0;31m \u001b[0mdf_res_time\u001b[0m\u001b[0;34m.\u001b[0m\u001b[0mto_csv\u001b[0m\u001b[0;34m(\u001b[0m\u001b[0;34mf'gs://mas-a5-storage-1/notebooks/jupyter/obj/{fn}_t.csv'\u001b[0m\u001b[0;34m)\u001b[0m\u001b[0;34m\u001b[0m\u001b[0;34m\u001b[0m\u001b[0m\n\u001b[0m\u001b[1;32m     16\u001b[0m \u001b[0mdf_res_nodes\u001b[0m\u001b[0;34m.\u001b[0m\u001b[0mto_csv\u001b[0m\u001b[0;34m(\u001b[0m\u001b[0;34mf'gs://mas-a5-storage-1/notebooks/jupyter/obj/{fn}_n.csv'\u001b[0m\u001b[0;34m)\u001b[0m\u001b[0;34m\u001b[0m\u001b[0;34m\u001b[0m\u001b[0m\n\u001b[1;32m     17\u001b[0m \u001b[0;34m\u001b[0m\u001b[0m\n",
      "\u001b[0;32m~/opt/anaconda3/lib/python3.8/site-packages/pandas/core/generic.py\u001b[0m in \u001b[0;36mto_csv\u001b[0;34m(self, path_or_buf, sep, na_rep, float_format, columns, header, index, index_label, mode, encoding, compression, quoting, quotechar, line_terminator, chunksize, date_format, doublequote, escapechar, decimal, errors, storage_options)\u001b[0m\n\u001b[1;32m   3464\u001b[0m         )\n\u001b[1;32m   3465\u001b[0m \u001b[0;34m\u001b[0m\u001b[0m\n\u001b[0;32m-> 3466\u001b[0;31m         return DataFrameRenderer(formatter).to_csv(\n\u001b[0m\u001b[1;32m   3467\u001b[0m             \u001b[0mpath_or_buf\u001b[0m\u001b[0;34m,\u001b[0m\u001b[0;34m\u001b[0m\u001b[0;34m\u001b[0m\u001b[0m\n\u001b[1;32m   3468\u001b[0m             \u001b[0mline_terminator\u001b[0m\u001b[0;34m=\u001b[0m\u001b[0mline_terminator\u001b[0m\u001b[0;34m,\u001b[0m\u001b[0;34m\u001b[0m\u001b[0;34m\u001b[0m\u001b[0m\n",
      "\u001b[0;32m~/opt/anaconda3/lib/python3.8/site-packages/pandas/io/formats/format.py\u001b[0m in \u001b[0;36mto_csv\u001b[0;34m(self, path_or_buf, encoding, sep, columns, index_label, mode, compression, quoting, quotechar, line_terminator, chunksize, date_format, doublequote, escapechar, errors, storage_options)\u001b[0m\n\u001b[1;32m   1103\u001b[0m             \u001b[0mformatter\u001b[0m\u001b[0;34m=\u001b[0m\u001b[0mself\u001b[0m\u001b[0;34m.\u001b[0m\u001b[0mfmt\u001b[0m\u001b[0;34m,\u001b[0m\u001b[0;34m\u001b[0m\u001b[0;34m\u001b[0m\u001b[0m\n\u001b[1;32m   1104\u001b[0m         )\n\u001b[0;32m-> 1105\u001b[0;31m         \u001b[0mcsv_formatter\u001b[0m\u001b[0;34m.\u001b[0m\u001b[0msave\u001b[0m\u001b[0;34m(\u001b[0m\u001b[0;34m)\u001b[0m\u001b[0;34m\u001b[0m\u001b[0;34m\u001b[0m\u001b[0m\n\u001b[0m\u001b[1;32m   1106\u001b[0m \u001b[0;34m\u001b[0m\u001b[0m\n\u001b[1;32m   1107\u001b[0m         \u001b[0;32mif\u001b[0m \u001b[0mcreated_buffer\u001b[0m\u001b[0;34m:\u001b[0m\u001b[0;34m\u001b[0m\u001b[0;34m\u001b[0m\u001b[0m\n",
      "\u001b[0;32m~/opt/anaconda3/lib/python3.8/site-packages/pandas/io/formats/csvs.py\u001b[0m in \u001b[0;36msave\u001b[0;34m(self)\u001b[0m\n\u001b[1;32m    235\u001b[0m         \"\"\"\n\u001b[1;32m    236\u001b[0m         \u001b[0;31m# apply compression and byte/text conversion\u001b[0m\u001b[0;34m\u001b[0m\u001b[0;34m\u001b[0m\u001b[0;34m\u001b[0m\u001b[0m\n\u001b[0;32m--> 237\u001b[0;31m         with get_handle(\n\u001b[0m\u001b[1;32m    238\u001b[0m             \u001b[0mself\u001b[0m\u001b[0;34m.\u001b[0m\u001b[0mfilepath_or_buffer\u001b[0m\u001b[0;34m,\u001b[0m\u001b[0;34m\u001b[0m\u001b[0;34m\u001b[0m\u001b[0m\n\u001b[1;32m    239\u001b[0m             \u001b[0mself\u001b[0m\u001b[0;34m.\u001b[0m\u001b[0mmode\u001b[0m\u001b[0;34m,\u001b[0m\u001b[0;34m\u001b[0m\u001b[0;34m\u001b[0m\u001b[0m\n",
      "\u001b[0;32m~/opt/anaconda3/lib/python3.8/site-packages/pandas/io/common.py\u001b[0m in \u001b[0;36mget_handle\u001b[0;34m(path_or_buf, mode, encoding, compression, memory_map, is_text, errors, storage_options)\u001b[0m\n\u001b[1;32m    607\u001b[0m \u001b[0;34m\u001b[0m\u001b[0m\n\u001b[1;32m    608\u001b[0m     \u001b[0;31m# open URLs\u001b[0m\u001b[0;34m\u001b[0m\u001b[0;34m\u001b[0m\u001b[0;34m\u001b[0m\u001b[0m\n\u001b[0;32m--> 609\u001b[0;31m     ioargs = _get_filepath_or_buffer(\n\u001b[0m\u001b[1;32m    610\u001b[0m         \u001b[0mpath_or_buf\u001b[0m\u001b[0;34m,\u001b[0m\u001b[0;34m\u001b[0m\u001b[0;34m\u001b[0m\u001b[0m\n\u001b[1;32m    611\u001b[0m         \u001b[0mencoding\u001b[0m\u001b[0;34m=\u001b[0m\u001b[0mencoding\u001b[0m\u001b[0;34m,\u001b[0m\u001b[0;34m\u001b[0m\u001b[0;34m\u001b[0m\u001b[0m\n",
      "\u001b[0;32m~/opt/anaconda3/lib/python3.8/site-packages/pandas/io/common.py\u001b[0m in \u001b[0;36m_get_filepath_or_buffer\u001b[0;34m(filepath_or_buffer, encoding, compression, mode, storage_options)\u001b[0m\n\u001b[1;32m    356\u001b[0m \u001b[0;34m\u001b[0m\u001b[0m\n\u001b[1;32m    357\u001b[0m         \u001b[0;32mtry\u001b[0m\u001b[0;34m:\u001b[0m\u001b[0;34m\u001b[0m\u001b[0;34m\u001b[0m\u001b[0m\n\u001b[0;32m--> 358\u001b[0;31m             file_obj = fsspec.open(\n\u001b[0m\u001b[1;32m    359\u001b[0m                 \u001b[0mfilepath_or_buffer\u001b[0m\u001b[0;34m,\u001b[0m \u001b[0mmode\u001b[0m\u001b[0;34m=\u001b[0m\u001b[0mfsspec_mode\u001b[0m\u001b[0;34m,\u001b[0m \u001b[0;34m**\u001b[0m\u001b[0;34m(\u001b[0m\u001b[0mstorage_options\u001b[0m \u001b[0;32mor\u001b[0m \u001b[0;34m{\u001b[0m\u001b[0;34m}\u001b[0m\u001b[0;34m)\u001b[0m\u001b[0;34m\u001b[0m\u001b[0;34m\u001b[0m\u001b[0m\n\u001b[1;32m    360\u001b[0m             ).open()\n",
      "\u001b[0;32m~/opt/anaconda3/lib/python3.8/site-packages/fsspec/core.py\u001b[0m in \u001b[0;36mopen\u001b[0;34m(urlpath, mode, compression, encoding, errors, protocol, newline, **kwargs)\u001b[0m\n\u001b[1;32m    427\u001b[0m     \u001b[0;31m`\u001b[0m\u001b[0;31m`\u001b[0m\u001b[0mOpenFile\u001b[0m\u001b[0;31m`\u001b[0m\u001b[0;31m`\u001b[0m \u001b[0mobject\u001b[0m\u001b[0;34m.\u001b[0m\u001b[0;34m\u001b[0m\u001b[0;34m\u001b[0m\u001b[0m\n\u001b[1;32m    428\u001b[0m     \"\"\"\n\u001b[0;32m--> 429\u001b[0;31m     return open_files(\n\u001b[0m\u001b[1;32m    430\u001b[0m         \u001b[0murlpath\u001b[0m\u001b[0;34m=\u001b[0m\u001b[0;34m[\u001b[0m\u001b[0murlpath\u001b[0m\u001b[0;34m]\u001b[0m\u001b[0;34m,\u001b[0m\u001b[0;34m\u001b[0m\u001b[0;34m\u001b[0m\u001b[0m\n\u001b[1;32m    431\u001b[0m         \u001b[0mmode\u001b[0m\u001b[0;34m=\u001b[0m\u001b[0mmode\u001b[0m\u001b[0;34m,\u001b[0m\u001b[0;34m\u001b[0m\u001b[0;34m\u001b[0m\u001b[0m\n",
      "\u001b[0;32m~/opt/anaconda3/lib/python3.8/site-packages/fsspec/core.py\u001b[0m in \u001b[0;36mopen_files\u001b[0;34m(urlpath, mode, compression, encoding, errors, name_function, num, protocol, newline, auto_mkdir, expand, **kwargs)\u001b[0m\n\u001b[1;32m    279\u001b[0m     \u001b[0mbe\u001b[0m \u001b[0mused\u001b[0m \u001b[0;32mas\u001b[0m \u001b[0ma\u001b[0m \u001b[0msingle\u001b[0m \u001b[0mcontext\u001b[0m\u001b[0;34m\u001b[0m\u001b[0;34m\u001b[0m\u001b[0m\n\u001b[1;32m    280\u001b[0m     \"\"\"\n\u001b[0;32m--> 281\u001b[0;31m     fs, fs_token, paths = get_fs_token_paths(\n\u001b[0m\u001b[1;32m    282\u001b[0m         \u001b[0murlpath\u001b[0m\u001b[0;34m,\u001b[0m\u001b[0;34m\u001b[0m\u001b[0;34m\u001b[0m\u001b[0m\n\u001b[1;32m    283\u001b[0m         \u001b[0mmode\u001b[0m\u001b[0;34m,\u001b[0m\u001b[0;34m\u001b[0m\u001b[0;34m\u001b[0m\u001b[0m\n",
      "\u001b[0;32m~/opt/anaconda3/lib/python3.8/site-packages/fsspec/core.py\u001b[0m in \u001b[0;36mget_fs_token_paths\u001b[0;34m(urlpath, mode, num, name_function, storage_options, protocol, expand)\u001b[0m\n\u001b[1;32m    597\u001b[0m                         \u001b[0;34m\"share the same protocol\"\u001b[0m\u001b[0;34m\u001b[0m\u001b[0;34m\u001b[0m\u001b[0m\n\u001b[1;32m    598\u001b[0m                     )\n\u001b[0;32m--> 599\u001b[0;31m             \u001b[0mcls\u001b[0m \u001b[0;34m=\u001b[0m \u001b[0mget_filesystem_class\u001b[0m\u001b[0;34m(\u001b[0m\u001b[0mprotocol\u001b[0m\u001b[0;34m)\u001b[0m\u001b[0;34m\u001b[0m\u001b[0;34m\u001b[0m\u001b[0m\n\u001b[0m\u001b[1;32m    600\u001b[0m             \u001b[0moptionss\u001b[0m \u001b[0;34m=\u001b[0m \u001b[0mlist\u001b[0m\u001b[0;34m(\u001b[0m\u001b[0mmap\u001b[0m\u001b[0;34m(\u001b[0m\u001b[0mcls\u001b[0m\u001b[0;34m.\u001b[0m\u001b[0m_get_kwargs_from_urls\u001b[0m\u001b[0;34m,\u001b[0m \u001b[0murlpath\u001b[0m\u001b[0;34m)\u001b[0m\u001b[0;34m)\u001b[0m\u001b[0;34m\u001b[0m\u001b[0;34m\u001b[0m\u001b[0m\n\u001b[1;32m    601\u001b[0m             \u001b[0mpaths\u001b[0m \u001b[0;34m=\u001b[0m \u001b[0;34m[\u001b[0m\u001b[0mcls\u001b[0m\u001b[0;34m.\u001b[0m\u001b[0m_strip_protocol\u001b[0m\u001b[0;34m(\u001b[0m\u001b[0mu\u001b[0m\u001b[0;34m)\u001b[0m \u001b[0;32mfor\u001b[0m \u001b[0mu\u001b[0m \u001b[0;32min\u001b[0m \u001b[0murlpath\u001b[0m\u001b[0;34m]\u001b[0m\u001b[0;34m\u001b[0m\u001b[0;34m\u001b[0m\u001b[0m\n",
      "\u001b[0;32m~/opt/anaconda3/lib/python3.8/site-packages/fsspec/registry.py\u001b[0m in \u001b[0;36mget_filesystem_class\u001b[0;34m(protocol)\u001b[0m\n\u001b[1;32m    211\u001b[0m             \u001b[0mregister_implementation\u001b[0m\u001b[0;34m(\u001b[0m\u001b[0mprotocol\u001b[0m\u001b[0;34m,\u001b[0m \u001b[0m_import_class\u001b[0m\u001b[0;34m(\u001b[0m\u001b[0mbit\u001b[0m\u001b[0;34m[\u001b[0m\u001b[0;34m\"class\"\u001b[0m\u001b[0;34m]\u001b[0m\u001b[0;34m)\u001b[0m\u001b[0;34m)\u001b[0m\u001b[0;34m\u001b[0m\u001b[0;34m\u001b[0m\u001b[0m\n\u001b[1;32m    212\u001b[0m         \u001b[0;32mexcept\u001b[0m \u001b[0mImportError\u001b[0m \u001b[0;32mas\u001b[0m \u001b[0me\u001b[0m\u001b[0;34m:\u001b[0m\u001b[0;34m\u001b[0m\u001b[0;34m\u001b[0m\u001b[0m\n\u001b[0;32m--> 213\u001b[0;31m             \u001b[0;32mraise\u001b[0m \u001b[0mImportError\u001b[0m\u001b[0;34m(\u001b[0m\u001b[0mbit\u001b[0m\u001b[0;34m[\u001b[0m\u001b[0;34m\"err\"\u001b[0m\u001b[0;34m]\u001b[0m\u001b[0;34m)\u001b[0m \u001b[0;32mfrom\u001b[0m \u001b[0me\u001b[0m\u001b[0;34m\u001b[0m\u001b[0;34m\u001b[0m\u001b[0m\n\u001b[0m\u001b[1;32m    214\u001b[0m     \u001b[0mcls\u001b[0m \u001b[0;34m=\u001b[0m \u001b[0mregistry\u001b[0m\u001b[0;34m[\u001b[0m\u001b[0mprotocol\u001b[0m\u001b[0;34m]\u001b[0m\u001b[0;34m\u001b[0m\u001b[0;34m\u001b[0m\u001b[0m\n\u001b[1;32m    215\u001b[0m     \u001b[0;32mif\u001b[0m \u001b[0mgetattr\u001b[0m\u001b[0;34m(\u001b[0m\u001b[0mcls\u001b[0m\u001b[0;34m,\u001b[0m \u001b[0;34m\"protocol\"\u001b[0m\u001b[0;34m,\u001b[0m \u001b[0;32mNone\u001b[0m\u001b[0;34m)\u001b[0m \u001b[0;32min\u001b[0m \u001b[0;34m(\u001b[0m\u001b[0;34m\"abstract\"\u001b[0m\u001b[0;34m,\u001b[0m \u001b[0;32mNone\u001b[0m\u001b[0;34m)\u001b[0m\u001b[0;34m:\u001b[0m\u001b[0;34m\u001b[0m\u001b[0;34m\u001b[0m\u001b[0m\n",
      "\u001b[0;31mImportError\u001b[0m: Please install gcsfs to access Google Storage"
     ]
    }
   ],
   "source": [
    "di = result\n",
    "df_res_time = pd.DataFrame()\n",
    "df_res_nodes = pd.DataFrame()\n",
    "for p1 in di.keys():\n",
    "    for p2 in di[p1].keys():\n",
    "        df_res_time.loc[p1, p2] = np.round(np.mean(di[p1][p2][1]), 1)\n",
    "        m_tmp = di[p1][p2][0]\n",
    "        n_nodes = []\n",
    "        for i,_ in enumerate(m_tmp):\n",
    "            tmp = f'{m_tmp[i]}'.split(' ')\n",
    "            print(i, tmp)\n",
    "            n_nodes.append([int(x.split('=')[1][:-1]) for x in tmp if x[:4]== 'numN'][0])\n",
    "        df_res_nodes.loc[p1, p2] = np.round(np.mean(n_nodes), 1)\n",
    "\n",
    "df_res_time.to_csv(f'gs://mas-a5-storage-1/notebooks/jupyter/obj/{fn}_t.csv')\n",
    "df_res_nodes.to_csv(f'gs://mas-a5-storage-1/notebooks/jupyter/obj/{fn}_n.csv')\n",
    "\n",
    "display(df_res_time)      \n",
    "display(df_res_nodes)     "
   ]
  },
  {
   "cell_type": "code",
   "execution_count": 13,
   "id": "825ce28b",
   "metadata": {
    "ExecuteTime": {
     "end_time": "2021-11-23T21:08:34.738584Z",
     "start_time": "2021-11-23T21:08:34.714148Z"
    }
   },
   "outputs": [
    {
     "data": {
      "text/html": [
       "<div>\n",
       "<style scoped>\n",
       "    .dataframe tbody tr th:only-of-type {\n",
       "        vertical-align: middle;\n",
       "    }\n",
       "\n",
       "    .dataframe tbody tr th {\n",
       "        vertical-align: top;\n",
       "    }\n",
       "\n",
       "    .dataframe thead th {\n",
       "        text-align: right;\n",
       "    }\n",
       "</style>\n",
       "<table border=\"1\" class=\"dataframe\">\n",
       "  <thead>\n",
       "    <tr style=\"text-align: right;\">\n",
       "      <th></th>\n",
       "      <th>0</th>\n",
       "      <th>2</th>\n",
       "      <th>4</th>\n",
       "      <th>6</th>\n",
       "      <th>8</th>\n",
       "      <th>16</th>\n",
       "    </tr>\n",
       "  </thead>\n",
       "  <tbody>\n",
       "    <tr>\n",
       "      <th>1</th>\n",
       "      <td>11.2</td>\n",
       "      <td>10.1</td>\n",
       "      <td>11.8</td>\n",
       "      <td>13.5</td>\n",
       "      <td>14.6</td>\n",
       "      <td>20.1</td>\n",
       "    </tr>\n",
       "    <tr>\n",
       "      <th>2</th>\n",
       "      <td>15.7</td>\n",
       "      <td>14.8</td>\n",
       "      <td>17.4</td>\n",
       "      <td>16.5</td>\n",
       "      <td>20.8</td>\n",
       "      <td>25.7</td>\n",
       "    </tr>\n",
       "    <tr>\n",
       "      <th>5</th>\n",
       "      <td>30.9</td>\n",
       "      <td>23.6</td>\n",
       "      <td>28.0</td>\n",
       "      <td>23.2</td>\n",
       "      <td>26.1</td>\n",
       "      <td>39.7</td>\n",
       "    </tr>\n",
       "    <tr>\n",
       "      <th>10</th>\n",
       "      <td>56.9</td>\n",
       "      <td>30.6</td>\n",
       "      <td>34.1</td>\n",
       "      <td>34.9</td>\n",
       "      <td>41.3</td>\n",
       "      <td>51.2</td>\n",
       "    </tr>\n",
       "  </tbody>\n",
       "</table>\n",
       "</div>"
      ],
      "text/plain": [
       "      0     2     4     6     8     16\n",
       "1   11.2  10.1  11.8  13.5  14.6  20.1\n",
       "2   15.7  14.8  17.4  16.5  20.8  25.7\n",
       "5   30.9  23.6  28.0  23.2  26.1  39.7\n",
       "10  56.9  30.6  34.1  34.9  41.3  51.2"
      ]
     },
     "metadata": {},
     "output_type": "display_data"
    },
    {
     "data": {
      "text/html": [
       "<div>\n",
       "<style scoped>\n",
       "    .dataframe tbody tr th:only-of-type {\n",
       "        vertical-align: middle;\n",
       "    }\n",
       "\n",
       "    .dataframe tbody tr th {\n",
       "        vertical-align: top;\n",
       "    }\n",
       "\n",
       "    .dataframe thead th {\n",
       "        text-align: right;\n",
       "    }\n",
       "</style>\n",
       "<table border=\"1\" class=\"dataframe\">\n",
       "  <thead>\n",
       "    <tr style=\"text-align: right;\">\n",
       "      <th></th>\n",
       "      <th>0</th>\n",
       "      <th>2</th>\n",
       "      <th>4</th>\n",
       "      <th>6</th>\n",
       "      <th>8</th>\n",
       "      <th>16</th>\n",
       "    </tr>\n",
       "  </thead>\n",
       "  <tbody>\n",
       "    <tr>\n",
       "      <th>1</th>\n",
       "      <td>123.0</td>\n",
       "      <td>123.0</td>\n",
       "      <td>123.0</td>\n",
       "      <td>123.0</td>\n",
       "      <td>123.0</td>\n",
       "      <td>123.0</td>\n",
       "    </tr>\n",
       "    <tr>\n",
       "      <th>2</th>\n",
       "      <td>155.0</td>\n",
       "      <td>137.0</td>\n",
       "      <td>129.0</td>\n",
       "      <td>121.0</td>\n",
       "      <td>117.0</td>\n",
       "      <td>127.0</td>\n",
       "    </tr>\n",
       "    <tr>\n",
       "      <th>5</th>\n",
       "      <td>75.0</td>\n",
       "      <td>101.0</td>\n",
       "      <td>109.0</td>\n",
       "      <td>89.0</td>\n",
       "      <td>93.0</td>\n",
       "      <td>109.0</td>\n",
       "    </tr>\n",
       "    <tr>\n",
       "      <th>10</th>\n",
       "      <td>63.0</td>\n",
       "      <td>101.0</td>\n",
       "      <td>69.0</td>\n",
       "      <td>85.0</td>\n",
       "      <td>101.0</td>\n",
       "      <td>77.0</td>\n",
       "    </tr>\n",
       "  </tbody>\n",
       "</table>\n",
       "</div>"
      ],
      "text/plain": [
       "       0      2      4      6      8      16\n",
       "1   123.0  123.0  123.0  123.0  123.0  123.0\n",
       "2   155.0  137.0  129.0  121.0  117.0  127.0\n",
       "5    75.0  101.0  109.0   89.0   93.0  109.0\n",
       "10   63.0  101.0   69.0   85.0  101.0   77.0"
      ]
     },
     "metadata": {},
     "output_type": "display_data"
    }
   ],
   "source": [
    "df_res_time.to_csv(f'obj/{fn}_t.csv')\n",
    "df_res_nodes.to_csv(f'obj/{fn}_n.csv')\n",
    "\n",
    "display(df_res_time)      \n",
    "display(df_res_nodes)     "
   ]
  },
  {
   "cell_type": "code",
   "execution_count": 6,
   "id": "9a7dc76e",
   "metadata": {
    "ExecuteTime": {
     "end_time": "2021-11-23T10:16:32.578369Z",
     "start_time": "2021-11-23T10:16:32.512352Z"
    }
   },
   "outputs": [
    {
     "data": {
      "text/html": [
       "<div>\n",
       "<style scoped>\n",
       "    .dataframe tbody tr th:only-of-type {\n",
       "        vertical-align: middle;\n",
       "    }\n",
       "\n",
       "    .dataframe tbody tr th {\n",
       "        vertical-align: top;\n",
       "    }\n",
       "\n",
       "    .dataframe thead th {\n",
       "        text-align: right;\n",
       "    }\n",
       "</style>\n",
       "<table border=\"1\" class=\"dataframe\">\n",
       "  <thead>\n",
       "    <tr style=\"text-align: right;\">\n",
       "      <th></th>\n",
       "      <th>Unnamed: 0</th>\n",
       "      <th>0</th>\n",
       "      <th>2</th>\n",
       "      <th>4</th>\n",
       "      <th>6</th>\n",
       "      <th>8</th>\n",
       "      <th>16</th>\n",
       "      <th>24</th>\n",
       "    </tr>\n",
       "  </thead>\n",
       "  <tbody>\n",
       "    <tr>\n",
       "      <th>0</th>\n",
       "      <td>1</td>\n",
       "      <td>8.2</td>\n",
       "      <td>6.7</td>\n",
       "      <td>7.9</td>\n",
       "      <td>9.1</td>\n",
       "      <td>10.2</td>\n",
       "      <td>15.6</td>\n",
       "      <td>20.8</td>\n",
       "    </tr>\n",
       "    <tr>\n",
       "      <th>1</th>\n",
       "      <td>2</td>\n",
       "      <td>14.3</td>\n",
       "      <td>8.9</td>\n",
       "      <td>9.8</td>\n",
       "      <td>5.4</td>\n",
       "      <td>6.4</td>\n",
       "      <td>17.4</td>\n",
       "      <td>27.8</td>\n",
       "    </tr>\n",
       "    <tr>\n",
       "      <th>2</th>\n",
       "      <td>5</td>\n",
       "      <td>45.5</td>\n",
       "      <td>13.8</td>\n",
       "      <td>10.5</td>\n",
       "      <td>8.0</td>\n",
       "      <td>6.6</td>\n",
       "      <td>5.4</td>\n",
       "      <td>6.3</td>\n",
       "    </tr>\n",
       "    <tr>\n",
       "      <th>3</th>\n",
       "      <td>10</td>\n",
       "      <td>48.4</td>\n",
       "      <td>20.0</td>\n",
       "      <td>12.3</td>\n",
       "      <td>8.8</td>\n",
       "      <td>8.9</td>\n",
       "      <td>6.6</td>\n",
       "      <td>7.6</td>\n",
       "    </tr>\n",
       "    <tr>\n",
       "      <th>4</th>\n",
       "      <td>15</td>\n",
       "      <td>61.2</td>\n",
       "      <td>24.5</td>\n",
       "      <td>14.6</td>\n",
       "      <td>11.8</td>\n",
       "      <td>9.8</td>\n",
       "      <td>7.8</td>\n",
       "      <td>8.6</td>\n",
       "    </tr>\n",
       "    <tr>\n",
       "      <th>5</th>\n",
       "      <td>20</td>\n",
       "      <td>84.0</td>\n",
       "      <td>29.3</td>\n",
       "      <td>17.2</td>\n",
       "      <td>13.5</td>\n",
       "      <td>11.8</td>\n",
       "      <td>7.7</td>\n",
       "      <td>8.1</td>\n",
       "    </tr>\n",
       "    <tr>\n",
       "      <th>6</th>\n",
       "      <td>30</td>\n",
       "      <td>135.2</td>\n",
       "      <td>39.0</td>\n",
       "      <td>22.2</td>\n",
       "      <td>16.3</td>\n",
       "      <td>14.0</td>\n",
       "      <td>9.5</td>\n",
       "      <td>11.4</td>\n",
       "    </tr>\n",
       "    <tr>\n",
       "      <th>7</th>\n",
       "      <td>50</td>\n",
       "      <td>226.8</td>\n",
       "      <td>49.5</td>\n",
       "      <td>29.2</td>\n",
       "      <td>21.3</td>\n",
       "      <td>18.0</td>\n",
       "      <td>12.7</td>\n",
       "      <td>14.0</td>\n",
       "    </tr>\n",
       "    <tr>\n",
       "      <th>8</th>\n",
       "      <td>100</td>\n",
       "      <td>463.1</td>\n",
       "      <td>91.3</td>\n",
       "      <td>56.2</td>\n",
       "      <td>39.5</td>\n",
       "      <td>33.5</td>\n",
       "      <td>21.7</td>\n",
       "      <td>24.8</td>\n",
       "    </tr>\n",
       "  </tbody>\n",
       "</table>\n",
       "</div>"
      ],
      "text/plain": [
       "   Unnamed: 0      0     2     4     6     8    16    24\n",
       "0           1    8.2   6.7   7.9   9.1  10.2  15.6  20.8\n",
       "1           2   14.3   8.9   9.8   5.4   6.4  17.4  27.8\n",
       "2           5   45.5  13.8  10.5   8.0   6.6   5.4   6.3\n",
       "3          10   48.4  20.0  12.3   8.8   8.9   6.6   7.6\n",
       "4          15   61.2  24.5  14.6  11.8   9.8   7.8   8.6\n",
       "5          20   84.0  29.3  17.2  13.5  11.8   7.7   8.1\n",
       "6          30  135.2  39.0  22.2  16.3  14.0   9.5  11.4\n",
       "7          50  226.8  49.5  29.2  21.3  18.0  12.7  14.0\n",
       "8         100  463.1  91.3  56.2  39.5  33.5  21.7  24.8"
      ]
     },
     "execution_count": 6,
     "metadata": {},
     "output_type": "execute_result"
    }
   ],
   "source": [
    "fn = 'local'\n",
    "\n",
    "tmp = pd.read_csv(f'gs://mas-a5-storage-1/notebooks/jupyter/obj/{fn}_t.csv')\n",
    "tmp"
   ]
  },
  {
   "cell_type": "code",
   "execution_count": 7,
   "id": "cf3dc9e9",
   "metadata": {
    "ExecuteTime": {
     "end_time": "2021-11-23T10:16:42.904554Z",
     "start_time": "2021-11-23T10:16:42.851211Z"
    }
   },
   "outputs": [
    {
     "data": {
      "text/html": [
       "<div>\n",
       "<style scoped>\n",
       "    .dataframe tbody tr th:only-of-type {\n",
       "        vertical-align: middle;\n",
       "    }\n",
       "\n",
       "    .dataframe tbody tr th {\n",
       "        vertical-align: top;\n",
       "    }\n",
       "\n",
       "    .dataframe thead th {\n",
       "        text-align: right;\n",
       "    }\n",
       "</style>\n",
       "<table border=\"1\" class=\"dataframe\">\n",
       "  <thead>\n",
       "    <tr style=\"text-align: right;\">\n",
       "      <th></th>\n",
       "      <th>Unnamed: 0</th>\n",
       "      <th>0</th>\n",
       "      <th>2</th>\n",
       "      <th>4</th>\n",
       "      <th>6</th>\n",
       "      <th>8</th>\n",
       "      <th>16</th>\n",
       "      <th>24</th>\n",
       "    </tr>\n",
       "  </thead>\n",
       "  <tbody>\n",
       "    <tr>\n",
       "      <th>0</th>\n",
       "      <td>1</td>\n",
       "      <td>123.0</td>\n",
       "      <td>123.0</td>\n",
       "      <td>123.0</td>\n",
       "      <td>123.0</td>\n",
       "      <td>123.0</td>\n",
       "      <td>123.0</td>\n",
       "      <td>123.0</td>\n",
       "    </tr>\n",
       "    <tr>\n",
       "      <th>1</th>\n",
       "      <td>2</td>\n",
       "      <td>149.0</td>\n",
       "      <td>159.0</td>\n",
       "      <td>143.0</td>\n",
       "      <td>97.0</td>\n",
       "      <td>121.0</td>\n",
       "      <td>127.0</td>\n",
       "      <td>131.0</td>\n",
       "    </tr>\n",
       "    <tr>\n",
       "      <th>2</th>\n",
       "      <td>5</td>\n",
       "      <td>91.0</td>\n",
       "      <td>97.0</td>\n",
       "      <td>123.0</td>\n",
       "      <td>121.0</td>\n",
       "      <td>93.0</td>\n",
       "      <td>95.0</td>\n",
       "      <td>75.0</td>\n",
       "    </tr>\n",
       "    <tr>\n",
       "      <th>3</th>\n",
       "      <td>10</td>\n",
       "      <td>85.0</td>\n",
       "      <td>93.0</td>\n",
       "      <td>69.0</td>\n",
       "      <td>71.0</td>\n",
       "      <td>81.0</td>\n",
       "      <td>61.0</td>\n",
       "      <td>77.0</td>\n",
       "    </tr>\n",
       "    <tr>\n",
       "      <th>4</th>\n",
       "      <td>15</td>\n",
       "      <td>63.0</td>\n",
       "      <td>43.0</td>\n",
       "      <td>39.0</td>\n",
       "      <td>65.0</td>\n",
       "      <td>43.0</td>\n",
       "      <td>53.0</td>\n",
       "      <td>47.0</td>\n",
       "    </tr>\n",
       "    <tr>\n",
       "      <th>5</th>\n",
       "      <td>20</td>\n",
       "      <td>63.0</td>\n",
       "      <td>61.0</td>\n",
       "      <td>59.0</td>\n",
       "      <td>47.0</td>\n",
       "      <td>63.0</td>\n",
       "      <td>65.0</td>\n",
       "      <td>37.0</td>\n",
       "    </tr>\n",
       "    <tr>\n",
       "      <th>6</th>\n",
       "      <td>30</td>\n",
       "      <td>57.0</td>\n",
       "      <td>31.0</td>\n",
       "      <td>37.0</td>\n",
       "      <td>39.0</td>\n",
       "      <td>45.0</td>\n",
       "      <td>45.0</td>\n",
       "      <td>53.0</td>\n",
       "    </tr>\n",
       "    <tr>\n",
       "      <th>7</th>\n",
       "      <td>50</td>\n",
       "      <td>31.0</td>\n",
       "      <td>43.0</td>\n",
       "      <td>35.0</td>\n",
       "      <td>65.0</td>\n",
       "      <td>37.0</td>\n",
       "      <td>55.0</td>\n",
       "      <td>37.0</td>\n",
       "    </tr>\n",
       "    <tr>\n",
       "      <th>8</th>\n",
       "      <td>100</td>\n",
       "      <td>35.0</td>\n",
       "      <td>39.0</td>\n",
       "      <td>39.0</td>\n",
       "      <td>53.0</td>\n",
       "      <td>37.0</td>\n",
       "      <td>31.0</td>\n",
       "      <td>41.0</td>\n",
       "    </tr>\n",
       "  </tbody>\n",
       "</table>\n",
       "</div>"
      ],
      "text/plain": [
       "   Unnamed: 0      0      2      4      6      8     16     24\n",
       "0           1  123.0  123.0  123.0  123.0  123.0  123.0  123.0\n",
       "1           2  149.0  159.0  143.0   97.0  121.0  127.0  131.0\n",
       "2           5   91.0   97.0  123.0  121.0   93.0   95.0   75.0\n",
       "3          10   85.0   93.0   69.0   71.0   81.0   61.0   77.0\n",
       "4          15   63.0   43.0   39.0   65.0   43.0   53.0   47.0\n",
       "5          20   63.0   61.0   59.0   47.0   63.0   65.0   37.0\n",
       "6          30   57.0   31.0   37.0   39.0   45.0   45.0   53.0\n",
       "7          50   31.0   43.0   35.0   65.0   37.0   55.0   37.0\n",
       "8         100   35.0   39.0   39.0   53.0   37.0   31.0   41.0"
      ]
     },
     "execution_count": 7,
     "metadata": {},
     "output_type": "execute_result"
    }
   ],
   "source": [
    "fn = 'local'\n",
    "tmp = pd.read_csv(f'gs://mas-a5-storage-1/notebooks/jupyter/obj/{fn}_n.csv')\n",
    "tmp"
   ]
  }
 ],
 "metadata": {
  "kernelspec": {
   "display_name": "Python 3 (ipykernel)",
   "language": "python",
   "name": "python3"
  },
  "language_info": {
   "codemirror_mode": {
    "name": "ipython",
    "version": 3
   },
   "file_extension": ".py",
   "mimetype": "text/x-python",
   "name": "python",
   "nbconvert_exporter": "python",
   "pygments_lexer": "ipython3",
   "version": "3.8.5"
  },
  "toc": {
   "base_numbering": 1,
   "nav_menu": {},
   "number_sections": true,
   "sideBar": true,
   "skip_h1_title": false,
   "title_cell": "Table of Contents",
   "title_sidebar": "Contents",
   "toc_cell": false,
   "toc_position": {},
   "toc_section_display": true,
   "toc_window_display": true
  }
 },
 "nbformat": 4,
 "nbformat_minor": 5
}
